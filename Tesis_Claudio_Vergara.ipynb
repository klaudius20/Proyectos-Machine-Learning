{
  "nbformat": 4,
  "nbformat_minor": 0,
  "metadata": {
    "colab": {
      "provenance": [],
      "collapsed_sections": [
        "vsCnSvJuz3HA",
        "3XdIn0L--AjO",
        "2ksvVe9Eyhkj",
        "P8TvuCzQ1vIj",
        "DDJqBRAqQ41H",
        "cVNjw_jPA-dc",
        "5_iGP2USBDIv",
        "q92PdC0FBHG6",
        "od_2DrnhBP1z",
        "ig7UHi2VBU5i",
        "Z0x6ABy_RdG_",
        "WIllxIe6DyDh",
        "7bkgDmCxD1TL",
        "6s3MPaZgD5kC",
        "4jm4_j0vD-G5",
        "vyIKutNEEFNC",
        "CmwKu8k9UdQY",
        "j04sMXP2Ra7b",
        "m4olU5LBSQKE",
        "XOtgVyK7SdX0",
        "VBNc_X3Z0I1y",
        "MY6AENZm1FF8",
        "SxDeQAHW2Sp9",
        "nyg15i3_2aoD"
      ]
    },
    "kernelspec": {
      "name": "ir",
      "display_name": "R"
    },
    "language_info": {
      "name": "R"
    },
    "accelerator": "GPU",
    "gpuClass": "standard"
  },
  "cells": [
    {
      "cell_type": "markdown",
      "source": [
        "# Librerias requeridas"
      ],
      "metadata": {
        "id": "3OYCNWJbtBvI"
      }
    },
    {
      "cell_type": "code",
      "source": [
        "#install.packages(\"leaflet\")\n",
        "#install.packages(\"plotly\")\n",
        "\n",
        "#library(leaflet)\n",
        "#library(plotly)"
      ],
      "metadata": {
        "id": "NigOdbsGtI5h"
      },
      "execution_count": null,
      "outputs": []
    },
    {
      "cell_type": "markdown",
      "source": [
        "<a id='Indice'></a>\n",
        "## Indice\n",
        "[Inicio ▲](#Indice)\n",
        "\n",
        "1. [Carga de datos](#Carga-de-datos)\n",
        "1. [Almacenamiento de inventarios](#Almacenamiento-de-inventarios)\n",
        "1. [Generación de fechas](#Generación-de-fechas)\n",
        "1. [Combinación de fechas](#Combinación-de-fechas)\n",
        "1. [Carga mensual completa](#Carga-mensual-completa)\n",
        "1. [Algoritmo Grid](#Algoritmo-Grid)\n",
        "1. [Predicciónes con los modelos](#Predicciónes-con-los-modelos)"
      ],
      "metadata": {
        "id": "55HC7DB_zTpY"
      }
    },
    {
      "cell_type": "markdown",
      "source": [
        "<a id='Carga-datos-semana-1'></a>\n",
        "### Carga de datos\n",
        "\n",
        "[Inicio ▲](#Indice)"
      ],
      "metadata": {
        "id": "vsCnSvJuz3HA"
      }
    },
    {
      "cell_type": "markdown",
      "source": [
        "Carga de datos semana 1"
      ],
      "metadata": {
        "id": "dY_CMUHt7FLE"
      }
    },
    {
      "cell_type": "code",
      "source": [
        "load(\"Datos/Lunes/Datos_lunes_01_08_2022_08_hrs.RData\")\n",
        "datos1<-data.frame(datos)\n",
        "load(\"Datos/Lunes/Datos_lunes_01_08_2022_13_hrs.RData\")\n",
        "datos2<-data.frame(datos)\n",
        "load(\"Datos/Lunes/Datos_lunes_01_08_2022_20_hrs.RData\")\n",
        "datos3<-data.frame(datos)\n",
        "load(\"Datos/Martes/Datos_martes_02_08_2022_08_hrs.RData\")\n",
        "datos4<-data.frame(datos)\n",
        "load(\"Datos/Martes/Datos_martes_02_08_2022_13_hrs.RData\")\n",
        "datos5<-data.frame(datos)\n",
        "load(\"Datos/Martes/Datos_martes_02_08_2022_20_hrs.RData\")\n",
        "datos6<-data.frame(datos)\n",
        "load(\"Datos/Miercoles/Datos_miercoles_03_02_2022_08_hrs.RData\")\n",
        "datos7<-data.frame(datos)\n",
        "load(\"Datos/Miercoles/Datos_miercoles_03_02_2022_13_hrs.RData\")\n",
        "datos8<-data.frame(datos)\n",
        "load(\"Datos/Miercoles/Datos_miercoles_03_02_2022_20_hrs.RData\")\n",
        "datos9<-data.frame(datos)\n",
        "load(\"Datos/Jueves/Datos_jueves_04_08_2022_08_hrs.RData\")\n",
        "datos10<-data.frame(datos)\n",
        "load(\"Datos/Jueves/Datos_jueves_04_08_2022_13_hrs.RData\")\n",
        "datos11<-data.frame(datos)\n",
        "load(\"Datos/Jueves/Datos_jueves_04_08_2022_20_hrs.RData\")\n",
        "datos12<-data.frame(datos)\n",
        "load(\"Datos/Viernes/Datos_viernes_05_08_2022_08_hrs.RData\")\n",
        "datos13<-data.frame(datos)\n",
        "load(\"Datos/Viernes/Datos_viernes_05_08_2022_13_hrs.RData\")\n",
        "datos14<-data.frame(datos)\n",
        "load(\"Datos/Viernes/Datos_viernes_05_08_2022_20_hrs.RData\")\n",
        "datos15<-data.frame(datos)"
      ],
      "metadata": {
        "id": "dEKPgYKL0Qnr",
        "colab": {
          "base_uri": "https://localhost:8080/"
        },
        "outputId": "84e55c61-8b50-424b-d93f-ee24935fc329"
      },
      "execution_count": null,
      "outputs": [
        {
          "output_type": "stream",
          "name": "stderr",
          "text": [
            "Warning message:\n",
            "“namespace ‘leaflet’ is not available and has been replaced\n",
            "by .GlobalEnv when processing object ‘m’”\n",
            "Warning message:\n",
            "“namespace ‘leaflet’ is not available and has been replaced\n",
            "by .GlobalEnv when processing object ‘m’”\n",
            "Warning message:\n",
            "“namespace ‘leaflet’ is not available and has been replaced\n",
            "by .GlobalEnv when processing object ‘m’”\n",
            "Warning message:\n",
            "“namespace ‘leaflet’ is not available and has been replaced\n",
            "by .GlobalEnv when processing object ‘m’”\n",
            "Warning message:\n",
            "“namespace ‘leaflet’ is not available and has been replaced\n",
            "by .GlobalEnv when processing object ‘m’”\n",
            "Warning message:\n",
            "“namespace ‘leaflet’ is not available and has been replaced\n",
            "by .GlobalEnv when processing object ‘m’”\n",
            "Warning message:\n",
            "“namespace ‘leaflet’ is not available and has been replaced\n",
            "by .GlobalEnv when processing object ‘m’”\n",
            "Warning message:\n",
            "“namespace ‘leaflet’ is not available and has been replaced\n",
            "by .GlobalEnv when processing object ‘m’”\n",
            "Warning message:\n",
            "“namespace ‘leaflet’ is not available and has been replaced\n",
            "by .GlobalEnv when processing object ‘m’”\n",
            "Warning message:\n",
            "“namespace ‘leaflet’ is not available and has been replaced\n",
            "by .GlobalEnv when processing object ‘m’”\n",
            "Warning message:\n",
            "“namespace ‘leaflet’ is not available and has been replaced\n",
            "by .GlobalEnv when processing object ‘m’”\n",
            "Warning message:\n",
            "“namespace ‘leaflet’ is not available and has been replaced\n",
            "by .GlobalEnv when processing object ‘m’”\n",
            "Warning message:\n",
            "“namespace ‘leaflet’ is not available and has been replaced\n",
            "by .GlobalEnv when processing object ‘m’”\n",
            "Warning message:\n",
            "“namespace ‘leaflet’ is not available and has been replaced\n",
            "by .GlobalEnv when processing object ‘m’”\n",
            "Warning message:\n",
            "“namespace ‘leaflet’ is not available and has been replaced\n",
            "by .GlobalEnv when processing object ‘m’”\n"
          ]
        }
      ]
    },
    {
      "cell_type": "markdown",
      "source": [
        "Carga de datos semana 2"
      ],
      "metadata": {
        "id": "1OtG0tmlxNLb"
      }
    },
    {
      "cell_type": "code",
      "source": [
        "load(\"Datos/Lunes/Datos_lunes_08_08_2022_08_hrs.RData\")\n",
        "datos16<-data.frame(datos)\n",
        "load(\"Datos/Lunes/Datos_lunes_08_08_2022_13_hrs.RData\")\n",
        "datos17<-data.frame(datos)\n",
        "load(\"Datos/Lunes/Datos_lunes_08_08_2022_20_hrs.RData\")\n",
        "datos18<-data.frame(datos)\n",
        "load(\"Datos/Martes/Datos_martes_09_08_2022_08_hrs.RData\")\n",
        "datos19<-data.frame(datos)\n",
        "load(\"Datos/Martes/Datos_martes_09_08_2022_13_hrs.RData\")\n",
        "datos20<-data.frame(datos)\n",
        "load(\"Datos/Martes/Datos_martes_09_08_2022_20_hrs.RData\")\n",
        "datos21<-data.frame(datos)\n",
        "load(\"Datos/Miercoles/Datos_miercoles_10_02_2022_08_hrs.RData\")\n",
        "datos22<-data.frame(datos)\n",
        "load(\"Datos/Miercoles/Datos_miercoles_10_02_2022_13_hrs.RData\")\n",
        "datos23<-data.frame(datos)\n",
        "load(\"Datos/Miercoles/Datos_miercoles_10_02_2022_20_hrs.RData\")\n",
        "datos24<-data.frame(datos)\n",
        "load(\"Datos/Jueves/Datos_jueves_11_08_2022_08_hrs.RData\")\n",
        "datos25<-data.frame(datos)\n",
        "load(\"Datos/Jueves/Datos_jueves_11_08_2022_13_hrs.RData\")\n",
        "datos26<-data.frame(datos)\n",
        "load(\"Datos/Jueves/Datos_jueves_11_08_2022_20_hrs.RData\")\n",
        "datos27<-data.frame(datos)\n",
        "load(\"Datos/Viernes/Datos_viernes_12_08_2022_08_hrs.RData\")\n",
        "datos28<-data.frame(datos)\n",
        "load(\"Datos/Viernes/Datos_viernes_12_08_2022_13_hrs.RData\")\n",
        "datos29<-data.frame(datos)\n",
        "load(\"Datos/Viernes/Datos_viernes_12_08_2022_20_hrs.RData\")\n",
        "datos30<-data.frame(datos)"
      ],
      "metadata": {
        "id": "gc9AlKupxRXb",
        "colab": {
          "base_uri": "https://localhost:8080/"
        },
        "outputId": "eb15406b-a7b3-4600-a8bd-e4dd5f2bc1c9"
      },
      "execution_count": null,
      "outputs": [
        {
          "output_type": "stream",
          "name": "stderr",
          "text": [
            "Warning message:\n",
            "“namespace ‘leaflet’ is not available and has been replaced\n",
            "by .GlobalEnv when processing object ‘m’”\n",
            "Warning message:\n",
            "“namespace ‘leaflet’ is not available and has been replaced\n",
            "by .GlobalEnv when processing object ‘m’”\n",
            "Warning message:\n",
            "“namespace ‘leaflet’ is not available and has been replaced\n",
            "by .GlobalEnv when processing object ‘m’”\n",
            "Warning message:\n",
            "“namespace ‘leaflet’ is not available and has been replaced\n",
            "by .GlobalEnv when processing object ‘m’”\n",
            "Warning message:\n",
            "“namespace ‘leaflet’ is not available and has been replaced\n",
            "by .GlobalEnv when processing object ‘m’”\n",
            "Warning message:\n",
            "“namespace ‘leaflet’ is not available and has been replaced\n",
            "by .GlobalEnv when processing object ‘m’”\n",
            "Warning message:\n",
            "“namespace ‘leaflet’ is not available and has been replaced\n",
            "by .GlobalEnv when processing object ‘m’”\n",
            "Warning message:\n",
            "“namespace ‘leaflet’ is not available and has been replaced\n",
            "by .GlobalEnv when processing object ‘m’”\n",
            "Warning message:\n",
            "“namespace ‘leaflet’ is not available and has been replaced\n",
            "by .GlobalEnv when processing object ‘m’”\n",
            "Warning message:\n",
            "“namespace ‘leaflet’ is not available and has been replaced\n",
            "by .GlobalEnv when processing object ‘m’”\n",
            "Warning message:\n",
            "“namespace ‘leaflet’ is not available and has been replaced\n",
            "by .GlobalEnv when processing object ‘m’”\n",
            "Warning message:\n",
            "“namespace ‘leaflet’ is not available and has been replaced\n",
            "by .GlobalEnv when processing object ‘m’”\n",
            "Warning message:\n",
            "“namespace ‘leaflet’ is not available and has been replaced\n",
            "by .GlobalEnv when processing object ‘m’”\n",
            "Warning message:\n",
            "“namespace ‘leaflet’ is not available and has been replaced\n",
            "by .GlobalEnv when processing object ‘m’”\n",
            "Warning message:\n",
            "“namespace ‘leaflet’ is not available and has been replaced\n",
            "by .GlobalEnv when processing object ‘m’”\n"
          ]
        }
      ]
    },
    {
      "cell_type": "markdown",
      "source": [
        "Carga de datos semana 3"
      ],
      "metadata": {
        "id": "hyrtZXUl3wY4"
      }
    },
    {
      "cell_type": "code",
      "source": [
        "load(\"Datos/Lunes/Datos_lunes_15_08_2022_08_hrs.RData\")\n",
        "datos31<-data.frame(datos)\n",
        "load(\"Datos/Lunes/Datos_lunes_15_08_2022_13_hrs.RData\")\n",
        "datos32<-data.frame(datos)\n",
        "load(\"Datos/Lunes/Datos_lunes_15_08_2022_20_hrs.RData\")\n",
        "datos33<-data.frame(datos)\n",
        "load(\"Datos/Martes/Datos_martes_16_08_2022_08_hrs.RData\")\n",
        "datos34<-data.frame(datos)\n",
        "load(\"Datos/Martes/Datos_martes_16_08_2022_13_hrs.RData\")\n",
        "datos35<-data.frame(datos)\n",
        "load(\"Datos/Martes/Datos_martes_16_08_2022_20_hrs.RData\")\n",
        "datos36<-data.frame(datos)\n",
        "load(\"Datos/Miercoles/Datos_miercoles_17_02_2022_08_hrs.RData\")\n",
        "datos37<-data.frame(datos)\n",
        "load(\"Datos/Miercoles/Datos_miercoles_17_02_2022_13_hrs.RData\")\n",
        "datos38<-data.frame(datos)\n",
        "load(\"Datos/Miercoles/Datos_miercoles_17_02_2022_20_hrs.RData\")\n",
        "datos39<-data.frame(datos)\n",
        "load(\"Datos/Jueves/Datos_jueves_18_08_2022_08_hrs.RData\")\n",
        "datos40<-data.frame(datos)\n",
        "load(\"Datos/Jueves/Datos_jueves_18_08_2022_13_hrs.RData\")\n",
        "datos41<-data.frame(datos)\n",
        "load(\"Datos/Jueves/Datos_jueves_18_08_2022_20_hrs.RData\")\n",
        "datos42<-data.frame(datos)\n",
        "load(\"Datos/Viernes/Datos_viernes_19_08_2022_08_hrs.RData\")\n",
        "datos43<-data.frame(datos)\n",
        "load(\"Datos/Viernes/Datos_viernes_19_08_2022_13_hrs.RData\")\n",
        "datos44<-data.frame(datos)\n",
        "load(\"Datos/Viernes/Datos_viernes_19_08_2022_20_hrs.RData\")\n",
        "datos45<-data.frame(datos)"
      ],
      "metadata": {
        "id": "t0Yrf6dK34EV",
        "colab": {
          "base_uri": "https://localhost:8080/"
        },
        "outputId": "bb9cfce4-f32c-4921-e1a8-4355bebff22b"
      },
      "execution_count": null,
      "outputs": [
        {
          "output_type": "stream",
          "name": "stderr",
          "text": [
            "Warning message:\n",
            "“namespace ‘leaflet’ is not available and has been replaced\n",
            "by .GlobalEnv when processing object ‘m’”\n",
            "Warning message:\n",
            "“namespace ‘leaflet’ is not available and has been replaced\n",
            "by .GlobalEnv when processing object ‘m’”\n",
            "Warning message:\n",
            "“namespace ‘leaflet’ is not available and has been replaced\n",
            "by .GlobalEnv when processing object ‘m’”\n",
            "Warning message:\n",
            "“namespace ‘leaflet’ is not available and has been replaced\n",
            "by .GlobalEnv when processing object ‘m’”\n",
            "Warning message:\n",
            "“namespace ‘leaflet’ is not available and has been replaced\n",
            "by .GlobalEnv when processing object ‘m’”\n",
            "Warning message:\n",
            "“namespace ‘leaflet’ is not available and has been replaced\n",
            "by .GlobalEnv when processing object ‘m’”\n",
            "Warning message:\n",
            "“namespace ‘leaflet’ is not available and has been replaced\n",
            "by .GlobalEnv when processing object ‘m’”\n",
            "Warning message:\n",
            "“namespace ‘leaflet’ is not available and has been replaced\n",
            "by .GlobalEnv when processing object ‘m’”\n",
            "Warning message:\n",
            "“namespace ‘leaflet’ is not available and has been replaced\n",
            "by .GlobalEnv when processing object ‘m’”\n",
            "Warning message:\n",
            "“namespace ‘leaflet’ is not available and has been replaced\n",
            "by .GlobalEnv when processing object ‘m’”\n",
            "Warning message:\n",
            "“namespace ‘leaflet’ is not available and has been replaced\n",
            "by .GlobalEnv when processing object ‘m’”\n",
            "Warning message:\n",
            "“namespace ‘leaflet’ is not available and has been replaced\n",
            "by .GlobalEnv when processing object ‘m’”\n",
            "Warning message:\n",
            "“namespace ‘leaflet’ is not available and has been replaced\n",
            "by .GlobalEnv when processing object ‘m’”\n",
            "Warning message:\n",
            "“namespace ‘leaflet’ is not available and has been replaced\n",
            "by .GlobalEnv when processing object ‘m’”\n",
            "Warning message:\n",
            "“namespace ‘leaflet’ is not available and has been replaced\n",
            "by .GlobalEnv when processing object ‘m’”\n"
          ]
        }
      ]
    },
    {
      "cell_type": "markdown",
      "source": [
        "Carga de datos semana 4"
      ],
      "metadata": {
        "id": "NTNsJEoA7ruD"
      }
    },
    {
      "cell_type": "code",
      "source": [
        "load(\"Datos/Lunes/Datos_lunes_22_08_2022_08_hrs.RData\")\n",
        "datos46<-data.frame(datos)\n",
        "load(\"Datos/Lunes/Datos_lunes_22_08_2022_13_hrs.RData\")\n",
        "datos47<-data.frame(datos)\n",
        "load(\"Datos/Lunes/Datos_lunes_22_08_2022_20_hrs.RData\")\n",
        "datos48<-data.frame(datos)\n",
        "load(\"Datos/Martes/Datos_martes_23_08_2022_08_hrs.RData\")\n",
        "datos49<-data.frame(datos)\n",
        "load(\"Datos/Martes/Datos_martes_23_08_2022_13_hrs.RData\")\n",
        "datos50<-data.frame(datos)\n",
        "load(\"Datos/Martes/Datos_martes_23_08_2022_20_hrs.RData\")\n",
        "datos51<-data.frame(datos)\n",
        "load(\"Datos/Miercoles/Datos_miercoles_24_02_2022_08_hrs.RData\")\n",
        "datos52<-data.frame(datos)\n",
        "load(\"Datos/Miercoles/Datos_miercoles_24_02_2022_13_hrs.RData\")\n",
        "datos53<-data.frame(datos)\n",
        "load(\"Datos/Miercoles/Datos_miercoles_24_02_2022_20_hrs.RData\")\n",
        "datos54<-data.frame(datos)\n",
        "load(\"Datos/Jueves/Datos_jueves_25_08_2022_08_hrs.RData\")\n",
        "datos55<-data.frame(datos)\n",
        "load(\"Datos/Jueves/Datos_jueves_25_08_2022_13_hrs.RData\")\n",
        "datos56<-data.frame(datos)\n",
        "load(\"Datos/Jueves/Datos_jueves_25_08_2022_20_hrs.RData\")\n",
        "datos57<-data.frame(datos)\n",
        "load(\"Datos/Viernes/Datos_viernes_26_08_2022_08_hrs.RData\")\n",
        "datos58<-data.frame(datos)\n",
        "load(\"Datos/Viernes/Datos_viernes_26_08_2022_13_hrs.RData\")\n",
        "datos59<-data.frame(datos)\n",
        "load(\"Datos/Viernes/Datos_viernes_26_08_2022_20_hrs.RData\")\n",
        "datos60<-data.frame(datos)"
      ],
      "metadata": {
        "id": "ZQ2wsrXI7wfX",
        "colab": {
          "base_uri": "https://localhost:8080/"
        },
        "outputId": "939697f2-a2e6-4fd7-fb33-9af5b13a7401"
      },
      "execution_count": null,
      "outputs": [
        {
          "output_type": "stream",
          "name": "stderr",
          "text": [
            "Warning message:\n",
            "“namespace ‘leaflet’ is not available and has been replaced\n",
            "by .GlobalEnv when processing object ‘m’”\n",
            "Warning message:\n",
            "“namespace ‘leaflet’ is not available and has been replaced\n",
            "by .GlobalEnv when processing object ‘m’”\n",
            "Warning message:\n",
            "“namespace ‘leaflet’ is not available and has been replaced\n",
            "by .GlobalEnv when processing object ‘m’”\n",
            "Warning message:\n",
            "“namespace ‘leaflet’ is not available and has been replaced\n",
            "by .GlobalEnv when processing object ‘m’”\n",
            "Warning message:\n",
            "“namespace ‘leaflet’ is not available and has been replaced\n",
            "by .GlobalEnv when processing object ‘m’”\n",
            "Warning message:\n",
            "“namespace ‘leaflet’ is not available and has been replaced\n",
            "by .GlobalEnv when processing object ‘m’”\n",
            "Warning message:\n",
            "“namespace ‘leaflet’ is not available and has been replaced\n",
            "by .GlobalEnv when processing object ‘m’”\n",
            "Warning message:\n",
            "“namespace ‘leaflet’ is not available and has been replaced\n",
            "by .GlobalEnv when processing object ‘m’”\n",
            "Warning message:\n",
            "“namespace ‘leaflet’ is not available and has been replaced\n",
            "by .GlobalEnv when processing object ‘m’”\n",
            "Warning message:\n",
            "“namespace ‘leaflet’ is not available and has been replaced\n",
            "by .GlobalEnv when processing object ‘m’”\n",
            "Warning message:\n",
            "“namespace ‘leaflet’ is not available and has been replaced\n",
            "by .GlobalEnv when processing object ‘m’”\n",
            "Warning message:\n",
            "“namespace ‘leaflet’ is not available and has been replaced\n",
            "by .GlobalEnv when processing object ‘m’”\n",
            "Warning message:\n",
            "“namespace ‘leaflet’ is not available and has been replaced\n",
            "by .GlobalEnv when processing object ‘m’”\n",
            "Warning message:\n",
            "“namespace ‘leaflet’ is not available and has been replaced\n",
            "by .GlobalEnv when processing object ‘m’”\n",
            "Warning message:\n",
            "“namespace ‘leaflet’ is not available and has been replaced\n",
            "by .GlobalEnv when processing object ‘m’”\n"
          ]
        }
      ]
    },
    {
      "cell_type": "markdown",
      "source": [
        "<a id='Almacenamiento-de-inventarios'></a>\n",
        "### Almacenamiento de inventarios\n",
        "\n",
        "[Inicio ▲](#Indice)"
      ],
      "metadata": {
        "id": "3XdIn0L--AjO"
      }
    },
    {
      "cell_type": "markdown",
      "source": [
        "Almacenamiento de los inventarios del mes completo según las estaciónes requeridas"
      ],
      "metadata": {
        "id": "_mmzh9M462N-"
      }
    },
    {
      "cell_type": "code",
      "source": [
        "inventario_est3<-c(datos1$free[3],datos2$free[3],datos3$free[3],datos4$free[3],datos5$free[3],datos6$free[3],datos7$free[3],datos8$free[3],datos9$free[3],datos10$free[3],datos11$free[3],datos12$free[3],datos13$free[3],datos14$free[3],datos15$free[3],datos16$free[3],datos17$free[3],datos18$free[3],datos19$free[3],datos20$free[3],datos21$free[3],datos22$free[3],datos23$free[3],datos24$free[3],datos25$free[3],datos26$free[3],datos27$free[3],datos28$free[3],datos29$free[3],datos30$free[3],datos31$free[3],datos32$free[3],datos33$free[3],datos34$free[3],datos35$free[3],datos36$free[3],datos37$free[3],datos38$free[3],datos39$free[3],datos40$free[3],datos41$free[3],datos42$free[3],datos43$free[3],datos44$free[3],datos45$free[3],datos46$free[3],datos47$free[3],datos48$free[3],datos49$free[3],datos50$free[3],datos51$free[3],datos52$free[3],datos53$free[3],datos54$free[3],datos55$free[3],datos56$free[3],datos57$free[3],datos58$free[3],datos59$free[3],datos60$free[3])\n",
        "inventario_est6<-c(datos1$free[6],datos2$free[6],datos3$free[6],datos4$free[6],datos5$free[6],datos6$free[6],datos7$free[6],datos8$free[6],datos9$free[6],datos10$free[6],datos11$free[6],datos12$free[6],datos13$free[6],datos14$free[6],datos15$free[6],datos16$free[6],datos17$free[6],datos18$free[6],datos19$free[6],datos20$free[6],datos21$free[6],datos22$free[6],datos23$free[6],datos24$free[6],datos25$free[6],datos26$free[6],datos27$free[6],datos28$free[6],datos29$free[6],datos30$free[6],datos31$free[6],datos32$free[6],datos33$free[6],datos34$free[6],datos35$free[6],datos36$free[6],datos37$free[6],datos38$free[6],datos39$free[6],datos40$free[6],datos41$free[6],datos42$free[6],datos43$free[6],datos44$free[6],datos45$free[6],datos46$free[6],datos47$free[6],datos48$free[6],datos49$free[6],datos50$free[6],datos51$free[6],datos52$free[6],datos53$free[6],datos54$free[6],datos55$free[6],datos56$free[6],datos57$free[6],datos58$free[6],datos59$free[6],datos60$free[6])\n",
        "inventario_est10<-c(datos1$free[9],datos2$free[9],datos3$free[9],datos4$free[9],datos5$free[9],datos6$free[9],datos7$free[9],datos8$free[9],datos9$free[9],datos10$free[9],datos11$free[9],datos12$free[9],datos13$free[9],datos14$free[9],datos15$free[9],datos16$free[9],datos17$free[9],datos18$free[9],datos19$free[9],datos20$free[9],datos21$free[9],datos22$free[9],datos23$free[9],datos24$free[9],datos25$free[9],datos26$free[9],datos27$free[9],datos28$free[9],datos29$free[9],datos30$free[9],datos31$free[9],datos32$free[9],datos33$free[9],datos34$free[9],datos35$free[9],datos36$free[9],datos37$free[9],datos38$free[9],datos39$free[9],datos40$free[9],datos41$free[9],datos42$free[9],datos43$free[9],datos44$free[9],datos45$free[9],datos46$free[9],datos47$free[9],datos48$free[9],datos49$free[9],datos50$free[9],datos51$free[9],datos52$free[9],datos53$free[9],datos54$free[9],datos55$free[9],datos56$free[9],datos57$free[9],datos58$free[9],datos59$free[9],datos60$free[9])\n",
        "inventario_est13<-c(datos1$free[12],datos2$free[12],datos3$free[12],datos4$free[12],datos5$free[12],datos6$free[12],datos7$free[12],datos8$free[12],datos9$free[12],datos10$free[12],datos11$free[12],datos12$free[12],datos13$free[12],datos14$free[12],datos15$free[12],datos16$free[12],datos17$free[12],datos18$free[12],datos19$free[12],datos20$free[12],datos21$free[12],datos22$free[12],datos23$free[12],datos24$free[12],datos25$free[12],datos26$free[12],datos27$free[12],datos28$free[12],datos29$free[12],datos30$free[12],datos31$free[12],datos32$free[12],datos33$free[12],datos34$free[12],datos35$free[12],datos36$free[12],datos37$free[12],datos38$free[12],datos39$free[12],datos40$free[12],datos41$free[12],datos42$free[12],datos43$free[12],datos44$free[12],datos45$free[12],datos46$free[12],datos47$free[12],datos48$free[12],datos49$free[12],datos50$free[12],datos51$free[12],datos52$free[12],datos53$free[12],datos54$free[12],datos55$free[12],datos56$free[12],datos57$free[12],datos58$free[12],datos59$free[12],datos60$free[12])\n",
        "inventario_est19<-c(datos1$free[17],datos2$free[17],datos3$free[17],datos4$free[17],datos5$free[17],datos6$free[17],datos7$free[17],datos8$free[17],datos9$free[17],datos10$free[17],datos11$free[17],datos12$free[17],datos13$free[17],datos14$free[17],datos15$free[17],datos16$free[17],datos17$free[17],datos18$free[17],datos19$free[17],datos20$free[17],datos21$free[17],datos22$free[17],datos23$free[17],datos24$free[17],datos25$free[17],datos26$free[17],datos27$free[17],datos28$free[17],datos29$free[17],datos30$free[17],datos31$free[17],datos32$free[17],datos33$free[17],datos34$free[17],datos35$free[17],datos36$free[17],datos37$free[17],datos38$free[17],datos39$free[17],datos40$free[17],datos41$free[17],datos42$free[17],datos43$free[17],datos44$free[17],datos45$free[17],datos46$free[17],datos47$free[17],datos48$free[17],datos49$free[17],datos50$free[17],datos51$free[17],datos52$free[17],datos53$free[17],datos54$free[17],datos55$free[17],datos56$free[17],datos57$free[17],datos58$free[17],datos59$free[17],datos60$free[17])\n",
        "inventario_est23<-c(datos1$free[21],datos2$free[21],datos3$free[21],datos4$free[21],datos5$free[21],datos6$free[21],datos7$free[21],datos8$free[21],datos9$free[21],datos10$free[21],datos11$free[21],datos12$free[21],datos13$free[21],datos14$free[21],datos15$free[21],datos16$free[21],datos17$free[21],datos18$free[21],datos19$free[21],datos20$free[21],datos21$free[21],datos22$free[21],datos23$free[21],datos24$free[21],datos25$free[21],datos26$free[21],datos27$free[21],datos28$free[21],datos29$free[21],datos30$free[21],datos31$free[21],datos32$free[21],datos33$free[21],datos34$free[21],datos35$free[21],datos36$free[21],datos37$free[21],datos38$free[21],datos39$free[21],datos40$free[21],datos41$free[21],datos42$free[21],datos43$free[21],datos44$free[21],datos45$free[21],datos46$free[21],datos47$free[21],datos48$free[21],datos49$free[21],datos50$free[21],datos51$free[21],datos52$free[21],datos53$free[21],datos54$free[21],datos55$free[21],datos56$free[21],datos57$free[21],datos58$free[21],datos59$free[21],datos60$free[21])\n",
        "inventario_est25<-c(datos1$free[23],datos2$free[23],datos3$free[23],datos4$free[23],datos5$free[23],datos6$free[23],datos7$free[23],datos8$free[23],datos9$free[23],datos10$free[23],datos11$free[23],datos12$free[23],datos13$free[23],datos14$free[23],datos15$free[23],datos16$free[23],datos17$free[23],datos18$free[23],datos19$free[23],datos20$free[23],datos21$free[23],datos22$free[23],datos23$free[23],datos24$free[23],datos25$free[23],datos26$free[23],datos27$free[23],datos28$free[23],datos29$free[23],datos30$free[23],datos31$free[23],datos32$free[23],datos33$free[23],datos34$free[23],datos35$free[23],datos36$free[23],datos37$free[23],datos38$free[23],datos39$free[23],datos40$free[23],datos41$free[23],datos42$free[23],datos43$free[23],datos44$free[23],datos45$free[23],datos46$free[23],datos47$free[23],datos48$free[23],datos49$free[23],datos50$free[23],datos51$free[23],datos52$free[23],datos53$free[23],datos54$free[23],datos55$free[23],datos56$free[23],datos57$free[23],datos58$free[23],datos59$free[23],datos60$free[23])\n",
        "inventario_est26<-c(datos1$free[24],datos2$free[24],datos3$free[24],datos4$free[24],datos5$free[24],datos6$free[24],datos7$free[24],datos8$free[24],datos9$free[24],datos10$free[24],datos11$free[24],datos12$free[24],datos13$free[24],datos14$free[24],datos15$free[24],datos16$free[24],datos17$free[24],datos18$free[24],datos19$free[24],datos20$free[24],datos21$free[24],datos22$free[24],datos23$free[24],datos24$free[24],datos25$free[24],datos26$free[24],datos27$free[24],datos28$free[24],datos29$free[24],datos30$free[24],datos31$free[24],datos32$free[24],datos33$free[24],datos34$free[24],datos35$free[24],datos36$free[24],datos37$free[24],datos38$free[24],datos39$free[24],datos40$free[24],datos41$free[24],datos42$free[24],datos43$free[24],datos44$free[24],datos45$free[24],datos46$free[24],datos47$free[24],datos48$free[24],datos49$free[24],datos50$free[24],datos51$free[24],datos52$free[24],datos53$free[24],datos54$free[24],datos55$free[24],datos56$free[24],datos57$free[24],datos58$free[24],datos59$free[24],datos60$free[24])\n",
        "inventario_est27<-c(datos1$free[25],datos2$free[25],datos3$free[25],datos4$free[25],datos5$free[25],datos6$free[25],datos7$free[25],datos8$free[25],datos9$free[25],datos10$free[25],datos11$free[25],datos12$free[25],datos13$free[25],datos14$free[25],datos15$free[25],datos16$free[25],datos17$free[25],datos18$free[25],datos19$free[25],datos20$free[25],datos21$free[25],datos22$free[25],datos23$free[25],datos24$free[25],datos25$free[25],datos26$free[25],datos27$free[25],datos28$free[25],datos29$free[25],datos30$free[25],datos31$free[25],datos32$free[25],datos33$free[25],datos34$free[25],datos35$free[25],datos36$free[25],datos37$free[25],datos38$free[25],datos39$free[25],datos40$free[25],datos41$free[25],datos42$free[25],datos43$free[25],datos44$free[25],datos45$free[25],datos46$free[25],datos47$free[25],datos48$free[25],datos49$free[25],datos50$free[25],datos51$free[25],datos52$free[25],datos53$free[25],datos54$free[25],datos55$free[25],datos56$free[25],datos57$free[25],datos58$free[25],datos59$free[25],datos60$free[25])\n",
        "inventario_est28<-c(datos1$free[26],datos2$free[26],datos3$free[26],datos4$free[26],datos5$free[26],datos6$free[26],datos7$free[26],datos8$free[26],datos9$free[26],datos10$free[26],datos11$free[26],datos12$free[26],datos13$free[26],datos14$free[26],datos15$free[26],datos16$free[26],datos17$free[26],datos18$free[26],datos19$free[26],datos20$free[26],datos21$free[26],datos22$free[26],datos23$free[26],datos24$free[26],datos25$free[26],datos26$free[26],datos27$free[26],datos28$free[26],datos29$free[26],datos30$free[26],datos31$free[26],datos32$free[26],datos33$free[26],datos34$free[26],datos35$free[26],datos36$free[26],datos37$free[26],datos38$free[26],datos39$free[26],datos40$free[26],datos41$free[26],datos42$free[26],datos43$free[26],datos44$free[26],datos45$free[26],datos46$free[26],datos47$free[26],datos48$free[26],datos49$free[26],datos50$free[26],datos51$free[26],datos52$free[26],datos53$free[26],datos54$free[26],datos55$free[26],datos56$free[26],datos57$free[26],datos58$free[26],datos59$free[26],datos60$free[26])\n",
        "inventario_est32<-c(datos1$free[29],datos2$free[29],datos3$free[29],datos4$free[29],datos5$free[29],datos6$free[29],datos7$free[29],datos8$free[29],datos9$free[29],datos10$free[29],datos11$free[29],datos12$free[29],datos13$free[29],datos14$free[29],datos15$free[29],datos16$free[29],datos17$free[29],datos18$free[29],datos19$free[29],datos20$free[29],datos21$free[29],datos22$free[29],datos23$free[29],datos24$free[29],datos25$free[29],datos26$free[29],datos27$free[29],datos28$free[29],datos29$free[29],datos30$free[29],datos31$free[29],datos32$free[29],datos33$free[29],datos34$free[29],datos35$free[29],datos36$free[29],datos37$free[29],datos38$free[29],datos39$free[29],datos40$free[29],datos41$free[29],datos42$free[29],datos43$free[29],datos44$free[29],datos45$free[29],datos46$free[29],datos47$free[29],datos48$free[29],datos49$free[29],datos50$free[29],datos51$free[29],datos52$free[29],datos53$free[29],datos54$free[29],datos55$free[29],datos56$free[29],datos57$free[29],datos58$free[29],datos59$free[29],datos60$free[29])\n",
        "inventario_est33<-c(datos1$free[136],datos2$free[136],datos3$free[136],datos4$free[136],datos5$free[136],datos6$free[136],datos7$free[136],datos8$free[136],datos9$free[136],datos10$free[136],datos11$free[136],datos12$free[136],datos13$free[136],datos14$free[136],datos15$free[136],datos16$free[136],datos17$free[136],datos18$free[136],datos19$free[136],datos20$free[136],datos21$free[136],datos22$free[136],datos23$free[136],datos24$free[136],datos25$free[136],datos26$free[136],datos27$free[136],datos28$free[136],datos29$free[136],datos30$free[136],datos31$free[136],datos32$free[136],datos33$free[136],datos34$free[136],datos35$free[136],datos36$free[136],datos37$free[136],datos38$free[136],datos39$free[136],datos40$free[136],datos41$free[136],datos42$free[136],datos43$free[136],datos44$free[136],datos45$free[136],datos46$free[136],datos47$free[136],datos48$free[136],datos49$free[136],datos50$free[136],datos51$free[136],datos52$free[136],datos53$free[136],datos54$free[136],datos55$free[136],datos56$free[136],datos57$free[136],datos58$free[136],datos59$free[136],datos60$free[136])\n",
        "inventario_est36<-c(datos1$free[96],datos2$free[96],datos3$free[96],datos4$free[96],datos5$free[96],datos6$free[96],datos7$free[96],datos8$free[96],datos9$free[96],datos10$free[96],datos11$free[96],datos12$free[96],datos13$free[96],datos14$free[96],datos15$free[96],datos16$free[96],datos17$free[96],datos18$free[96],datos19$free[96],datos20$free[96],datos21$free[96],datos22$free[96],datos23$free[96],datos24$free[96],datos25$free[96],datos26$free[96],datos27$free[96],datos28$free[96],datos29$free[96],datos30$free[96],datos31$free[96],datos32$free[96],datos33$free[96],datos34$free[96],datos35$free[96],datos36$free[96],datos37$free[96],datos38$free[96],datos39$free[96],datos40$free[96],datos41$free[96],datos42$free[96],datos43$free[96],datos44$free[96],datos45$free[96],datos46$free[96],datos47$free[96],datos48$free[96],datos49$free[96],datos50$free[96],datos51$free[96],datos52$free[96],datos53$free[96],datos54$free[96],datos55$free[96],datos56$free[96],datos57$free[96],datos58$free[96],datos59$free[96],datos60$free[96])\n",
        "inventario_est46<-c(datos1$free[97],datos2$free[97],datos3$free[97],datos4$free[97],datos5$free[97],datos6$free[97],datos7$free[97],datos8$free[97],datos9$free[97],datos10$free[97],datos11$free[97],datos12$free[97],datos13$free[97],datos14$free[97],datos15$free[97],datos16$free[97],datos17$free[97],datos18$free[97],datos19$free[97],datos20$free[97],datos21$free[97],datos22$free[97],datos23$free[97],datos24$free[97],datos25$free[97],datos26$free[97],datos27$free[97],datos28$free[97],datos29$free[97],datos30$free[97],datos31$free[97],datos32$free[97],datos33$free[97],datos34$free[97],datos35$free[97],datos36$free[97],datos37$free[97],datos38$free[97],datos39$free[97],datos40$free[97],datos41$free[97],datos42$free[97],datos43$free[97],datos44$free[97],datos45$free[97],datos46$free[97],datos47$free[97],datos48$free[97],datos49$free[97],datos50$free[97],datos51$free[97],datos52$free[97],datos53$free[97],datos54$free[97],datos55$free[97],datos56$free[97],datos57$free[97],datos58$free[97],datos59$free[97],datos60$free[97])\n",
        "inventario_est47<-c(datos1$free[107],datos2$free[107],datos3$free[107],datos4$free[107],datos5$free[107],datos6$free[107],datos7$free[107],datos8$free[107],datos9$free[107],datos10$free[107],datos11$free[107],datos12$free[107],datos13$free[107],datos14$free[107],datos15$free[107],datos16$free[107],datos17$free[107],datos18$free[107],datos19$free[107],datos20$free[107],datos21$free[107],datos22$free[107],datos23$free[107],datos24$free[107],datos25$free[107],datos26$free[107],datos27$free[107],datos28$free[107],datos29$free[107],datos30$free[107],datos31$free[107],datos32$free[107],datos33$free[107],datos34$free[107],datos35$free[107],datos36$free[107],datos37$free[107],datos38$free[107],datos39$free[107],datos40$free[107],datos41$free[107],datos42$free[107],datos43$free[107],datos44$free[107],datos45$free[107],datos46$free[107],datos47$free[107],datos48$free[107],datos49$free[107],datos50$free[107],datos51$free[107],datos52$free[107],datos53$free[107],datos54$free[107],datos55$free[107],datos56$free[107],datos57$free[107],datos58$free[107],datos59$free[107],datos60$free[107])\n",
        "inventario_est53<-c(datos1$free[34],datos2$free[34],datos3$free[34],datos4$free[34],datos5$free[34],datos6$free[34],datos7$free[34],datos8$free[34],datos9$free[34],datos10$free[34],datos11$free[34],datos12$free[34],datos13$free[34],datos14$free[34],datos15$free[34],datos16$free[34],datos17$free[34],datos18$free[34],datos19$free[34],datos20$free[34],datos21$free[34],datos22$free[34],datos23$free[34],datos24$free[34],datos25$free[34],datos26$free[34],datos27$free[34],datos28$free[34],datos29$free[34],datos30$free[34],datos31$free[34],datos32$free[34],datos33$free[34],datos34$free[34],datos35$free[34],datos36$free[34],datos37$free[34],datos38$free[34],datos39$free[34],datos40$free[34],datos41$free[34],datos42$free[34],datos43$free[34],datos44$free[34],datos45$free[34],datos46$free[34],datos47$free[34],datos48$free[34],datos49$free[34],datos50$free[34],datos51$free[34],datos52$free[34],datos53$free[34],datos54$free[34],datos55$free[34],datos56$free[34],datos57$free[34],datos58$free[34],datos59$free[34],datos60$free[34])\n",
        "inventario_est57<-c(datos1$free[130],datos2$free[130],datos3$free[130],datos4$free[130],datos5$free[130],datos6$free[130],datos7$free[130],datos8$free[130],datos9$free[130],datos10$free[130],datos11$free[130],datos12$free[130],datos13$free[130],datos14$free[130],datos15$free[130],datos16$free[130],datos17$free[130],datos18$free[130],datos19$free[130],datos20$free[130],datos21$free[130],datos22$free[130],datos23$free[130],datos24$free[130],datos25$free[130],datos26$free[130],datos27$free[130],datos28$free[130],datos29$free[130],datos30$free[130],datos31$free[130],datos32$free[130],datos33$free[130],datos34$free[130],datos35$free[130],datos36$free[130],datos37$free[130],datos38$free[130],datos39$free[130],datos40$free[130],datos41$free[130],datos42$free[130],datos43$free[130],datos44$free[130],datos45$free[130],datos46$free[130],datos47$free[130],datos48$free[130],datos49$free[130],datos50$free[130],datos51$free[130],datos52$free[130],datos53$free[130],datos54$free[130],datos55$free[130],datos56$free[130],datos57$free[130],datos58$free[130],datos59$free[130],datos60$free[130])\n",
        "inventario_est58<-c(datos1$free[126],datos2$free[126],datos3$free[126],datos4$free[126],datos5$free[126],datos6$free[126],datos7$free[126],datos8$free[126],datos9$free[126],datos10$free[126],datos11$free[126],datos12$free[126],datos13$free[126],datos14$free[126],datos15$free[126],datos16$free[126],datos17$free[126],datos18$free[126],datos19$free[126],datos20$free[126],datos21$free[126],datos22$free[126],datos23$free[126],datos24$free[126],datos25$free[126],datos26$free[126],datos27$free[126],datos28$free[126],datos29$free[126],datos30$free[126],datos31$free[126],datos32$free[126],datos33$free[126],datos34$free[126],datos35$free[126],datos36$free[126],datos37$free[126],datos38$free[126],datos39$free[126],datos40$free[126],datos41$free[126],datos42$free[126],datos43$free[126],datos44$free[126],datos45$free[126],datos46$free[126],datos47$free[126],datos48$free[126],datos49$free[126],datos50$free[126],datos51$free[126],datos52$free[126],datos53$free[126],datos54$free[126],datos55$free[126],datos56$free[126],datos57$free[126],datos58$free[126],datos59$free[126],datos60$free[126])\n",
        "inventario_est59<-c(datos1$free[111],datos2$free[111],datos3$free[111],datos4$free[111],datos5$free[111],datos6$free[111],datos7$free[111],datos8$free[111],datos9$free[111],datos10$free[111],datos11$free[111],datos12$free[111],datos13$free[111],datos14$free[111],datos15$free[111],datos16$free[111],datos17$free[111],datos18$free[111],datos19$free[111],datos20$free[111],datos21$free[111],datos22$free[111],datos23$free[111],datos24$free[111],datos25$free[111],datos26$free[111],datos27$free[111],datos28$free[111],datos29$free[111],datos30$free[111],datos31$free[111],datos32$free[111],datos33$free[111],datos34$free[111],datos35$free[111],datos36$free[111],datos37$free[111],datos38$free[111],datos39$free[111],datos40$free[111],datos41$free[111],datos42$free[111],datos43$free[111],datos44$free[111],datos45$free[111],datos46$free[111],datos47$free[111],datos48$free[111],datos49$free[111],datos50$free[111],datos51$free[111],datos52$free[111],datos53$free[111],datos54$free[111],datos55$free[111],datos56$free[111],datos57$free[111],datos58$free[111],datos59$free[111],datos60$free[111])\n",
        "inventario_est60<-c(datos1$free[131],datos2$free[131],datos3$free[131],datos4$free[131],datos5$free[131],datos6$free[131],datos7$free[131],datos8$free[131],datos9$free[131],datos10$free[131],datos11$free[131],datos12$free[131],datos13$free[131],datos14$free[131],datos15$free[131],datos16$free[131],datos17$free[131],datos18$free[131],datos19$free[131],datos20$free[131],datos21$free[131],datos22$free[131],datos23$free[131],datos24$free[131],datos25$free[131],datos26$free[131],datos27$free[131],datos28$free[131],datos29$free[131],datos30$free[131],datos31$free[131],datos32$free[131],datos33$free[131],datos34$free[131],datos35$free[131],datos36$free[131],datos37$free[131],datos38$free[131],datos39$free[131],datos40$free[131],datos41$free[131],datos42$free[131],datos43$free[131],datos44$free[131],datos45$free[131],datos46$free[131],datos47$free[131],datos48$free[131],datos49$free[131],datos50$free[131],datos51$free[131],datos52$free[131],datos53$free[131],datos54$free[131],datos55$free[131],datos56$free[131],datos57$free[131],datos58$free[131],datos59$free[131],datos60$free[131])"
      ],
      "metadata": {
        "id": "JtCaSgTw6m2R"
      },
      "execution_count": null,
      "outputs": []
    },
    {
      "cell_type": "markdown",
      "source": [
        "<a id='Generación-de-fechas'></a>\n",
        "### Generación de fechas\n",
        "\n",
        "[Inicio ▲](#Indice)"
      ],
      "metadata": {
        "id": "2ksvVe9Eyhkj"
      }
    },
    {
      "cell_type": "markdown",
      "source": [
        "Generación de fechas semana 1"
      ],
      "metadata": {
        "id": "T51ebgo27Ou_"
      }
    },
    {
      "cell_type": "code",
      "source": [
        "lunes_inicio_sem1 <- as.POSIXct(\"2022-08-01 08:00:00\")\n",
        "lunes_termino_sem1 <- as.POSIXct(\"2022-08-01 20:00:00\")\n",
        "\n",
        "martes_inicio_sem1 <- as.POSIXct(\"2022-08-02 08:00:00\")\n",
        "martes_termino_sem1 <- as.POSIXct(\"2022-08-02 20:00:00\")\n",
        "\n",
        "miercoles_inicio_sem1 <- as.POSIXct(\"2022-08-03 08:00:00\")\n",
        "miercoles_termino_sem1 <- as.POSIXct(\"2022-08-03 20:00:00\")\n",
        "\n",
        "jueves_inicio_sem1 <- as.POSIXct(\"2022-08-04 08:00:00\")\n",
        "jueves_termino_sem1 <- as.POSIXct(\"2022-08-04 20:00:00\")\n",
        "\n",
        "viernes_inicio_sem1 <- as.POSIXct(\"2022-08-05 08:00:00\")\n",
        "viernes_termino_sem1 <- as.POSIXct(\"2022-08-05 20:00:00\")"
      ],
      "metadata": {
        "id": "XxLN9pyn7RmW"
      },
      "execution_count": null,
      "outputs": []
    },
    {
      "cell_type": "markdown",
      "source": [
        "Generación de fechas semana 5"
      ],
      "metadata": {
        "id": "ZGESJhI9kG4M"
      }
    },
    {
      "cell_type": "code",
      "source": [
        "lunes_inicio_sem5 <- as.POSIXct(\"2022-09-05 08:00:00\")\n",
        "lunes_termino_sem5 <- as.POSIXct(\"2022-09-05 20:00:00\")\n",
        "\n",
        "martes_inicio_sem5 <- as.POSIXct(\"2022-09-06 08:00:00\")\n",
        "martes_termino_sem5 <- as.POSIXct(\"2022-09-06 20:00:00\")\n",
        "\n",
        "miercoles_inicio_sem5 <- as.POSIXct(\"2022-09-07 08:00:00\")\n",
        "miercoles_termino_sem5 <- as.POSIXct(\"2022-09-07 20:00:00\")\n",
        "\n",
        "jueves_inicio_sem5 <- as.POSIXct(\"2022-09-08 08:00:00\")\n",
        "jueves_termino_sem5 <- as.POSIXct(\"2022-09-08 20:00:00\")\n",
        "\n",
        "viernes_inicio_sem5 <- as.POSIXct(\"2022-09-09 08:00:00\")\n",
        "viernes_termino_sem5 <- as.POSIXct(\"2022-09-09 20:00:00\")"
      ],
      "metadata": {
        "id": "XMULR6yfWLSS"
      },
      "execution_count": null,
      "outputs": []
    },
    {
      "cell_type": "markdown",
      "source": [
        "Generación de fechas semana 2"
      ],
      "metadata": {
        "id": "YDAY7v51zHmc"
      }
    },
    {
      "cell_type": "code",
      "source": [
        "lunes_inicio_sem2 <- as.POSIXct(\"2022-08-08 08:00:00\")\n",
        "lunes_termino_sem2 <- as.POSIXct(\"2022-08-08 20:00:00\")\n",
        "\n",
        "martes_inicio_sem2 <- as.POSIXct(\"2022-08-09 08:00:00\")\n",
        "martes_termino_sem2 <- as.POSIXct(\"2022-08-09 20:00:00\")\n",
        "\n",
        "miercoles_inicio_sem2 <- as.POSIXct(\"2022-08-10 08:00:00\")\n",
        "miercoles_termino_sem2 <- as.POSIXct(\"2022-08-10 20:00:00\")\n",
        "\n",
        "jueves_inicio_sem2 <- as.POSIXct(\"2022-08-11 08:00:00\")\n",
        "jueves_termino_sem2 <- as.POSIXct(\"2022-08-11 20:00:00\")\n",
        "\n",
        "viernes_inicio_sem2 <- as.POSIXct(\"2022-08-12 08:00:00\")\n",
        "viernes_termino_sem2 <- as.POSIXct(\"2022-08-12 20:00:00\")"
      ],
      "metadata": {
        "id": "CcpmY_Ypy8k2"
      },
      "execution_count": null,
      "outputs": []
    },
    {
      "cell_type": "markdown",
      "source": [
        "Generación de fechas semana 6"
      ],
      "metadata": {
        "id": "ovGB8QBEkL66"
      }
    },
    {
      "cell_type": "code",
      "source": [
        "lunes_inicio_sem6 <- as.POSIXct(\"2022-09-12 08:00:00\")\n",
        "lunes_termino_sem6 <- as.POSIXct(\"2022-09-12 20:00:00\")\n",
        "\n",
        "martes_inicio_sem6 <- as.POSIXct(\"2022-09-13 08:00:00\")\n",
        "martes_termino_sem6 <- as.POSIXct(\"2022-09-13 20:00:00\")\n",
        "\n",
        "miercoles_inicio_sem6 <- as.POSIXct(\"2022-09-14 08:00:00\")\n",
        "miercoles_termino_sem6 <- as.POSIXct(\"2022-09-14 20:00:00\")\n",
        "\n",
        "jueves_inicio_sem6 <- as.POSIXct(\"2022-09-15 08:00:00\")\n",
        "jueves_termino_sem6 <- as.POSIXct(\"2022-09-15 20:00:00\")\n",
        "\n",
        "viernes_inicio_sem6 <- as.POSIXct(\"2022-09-16 08:00:00\")\n",
        "viernes_termino_sem6 <- as.POSIXct(\"2022-09-16 20:00:00\")"
      ],
      "metadata": {
        "id": "4D4Vp-oLYEDH"
      },
      "execution_count": null,
      "outputs": []
    },
    {
      "cell_type": "markdown",
      "source": [
        "Generación de fechas semana 3"
      ],
      "metadata": {
        "id": "WyTvsfmt4n0A"
      }
    },
    {
      "cell_type": "code",
      "source": [
        "lunes_inicio_sem3 <- as.POSIXct(\"2022-08-15 08:00:00\")\n",
        "lunes_termino_sem3 <- as.POSIXct(\"2022-08-15 20:00:00\")\n",
        "\n",
        "martes_inicio_sem3 <- as.POSIXct(\"2022-08-16 08:00:00\")\n",
        "martes_termino_sem3 <- as.POSIXct(\"2022-08-16 20:00:00\")\n",
        "\n",
        "miercoles_inicio_sem3 <- as.POSIXct(\"2022-08-17 08:00:00\")\n",
        "miercoles_termino_sem3 <- as.POSIXct(\"2022-08-17 20:00:00\")\n",
        "\n",
        "jueves_inicio_sem3 <- as.POSIXct(\"2022-08-18 08:00:00\")\n",
        "jueves_termino_sem3 <- as.POSIXct(\"2022-08-18 20:00:00\")\n",
        "\n",
        "viernes_inicio_sem3 <- as.POSIXct(\"2022-08-19 08:00:00\")\n",
        "viernes_termino_sem3 <- as.POSIXct(\"2022-08-19 20:00:00\")"
      ],
      "metadata": {
        "id": "sXjZIt9w4pGR"
      },
      "execution_count": null,
      "outputs": []
    },
    {
      "cell_type": "markdown",
      "source": [
        "Generación de fechas semana 7"
      ],
      "metadata": {
        "id": "Ra55dhCnkOnM"
      }
    },
    {
      "cell_type": "code",
      "source": [
        "lunes_inicio_sem7 <- as.POSIXct(\"2022-09-19 08:00:00\")\n",
        "lunes_termino_sem7 <- as.POSIXct(\"2022-09-19 20:00:00\")\n",
        "\n",
        "martes_inicio_sem7 <- as.POSIXct(\"2022-09-20 08:00:00\")\n",
        "martes_termino_sem7 <- as.POSIXct(\"2022-09-20 20:00:00\")\n",
        "\n",
        "miercoles_inicio_sem7 <- as.POSIXct(\"2022-09-21 08:00:00\")\n",
        "miercoles_termino_sem7 <- as.POSIXct(\"2022-09-21 20:00:00\")\n",
        "\n",
        "jueves_inicio_sem7 <- as.POSIXct(\"2022-09-22 08:00:00\")\n",
        "jueves_termino_sem7 <- as.POSIXct(\"2022-09-22 20:00:00\")\n",
        "\n",
        "viernes_inicio_sem7 <- as.POSIXct(\"2022-09-23 08:00:00\")\n",
        "viernes_termino_sem7 <- as.POSIXct(\"2022-09-23 20:00:00\")"
      ],
      "metadata": {
        "id": "bB4UdSJcYUqq"
      },
      "execution_count": null,
      "outputs": []
    },
    {
      "cell_type": "markdown",
      "source": [
        "Generación de fechas semana 4"
      ],
      "metadata": {
        "id": "oZTJNQVo8PZo"
      }
    },
    {
      "cell_type": "code",
      "source": [
        "lunes_inicio_sem4 <- as.POSIXct(\"2022-08-22 08:00:00\")\n",
        "lunes_termino_sem4 <- as.POSIXct(\"2022-08-22 20:00:00\")\n",
        "\n",
        "martes_inicio_sem4 <- as.POSIXct(\"2022-08-23 08:00:00\")\n",
        "martes_termino_sem4 <- as.POSIXct(\"2022-08-23 20:00:00\")\n",
        "\n",
        "miercoles_inicio_sem4 <- as.POSIXct(\"2022-08-24 08:00:00\")\n",
        "miercoles_termino_sem4 <- as.POSIXct(\"2022-08-24 20:00:00\")\n",
        "\n",
        "jueves_inicio_sem4 <- as.POSIXct(\"2022-08-25 08:00:00\")\n",
        "jueves_termino_sem4 <- as.POSIXct(\"2022-08-25 20:00:00\")\n",
        "\n",
        "viernes_inicio_sem4 <- as.POSIXct(\"2022-08-26 08:00:00\")\n",
        "viernes_termino_sem4 <- as.POSIXct(\"2022-08-26 20:00:00\")"
      ],
      "metadata": {
        "id": "31wl1_Q98U-4"
      },
      "execution_count": null,
      "outputs": []
    },
    {
      "cell_type": "markdown",
      "source": [
        "Generación de fechas semana 8"
      ],
      "metadata": {
        "id": "Kr4_N0t8kQzX"
      }
    },
    {
      "cell_type": "code",
      "source": [
        "lunes_inicio_sem8 <- as.POSIXct(\"2022-09-26 08:00:00\")\n",
        "lunes_termino_sem8 <- as.POSIXct(\"2022-09-26 20:00:00\")\n",
        "\n",
        "martes_inicio_sem8 <- as.POSIXct(\"2022-09-27 08:00:00\")\n",
        "martes_termino_sem8 <- as.POSIXct(\"2022-09-27 20:00:00\")\n",
        "\n",
        "miercoles_inicio_sem8 <- as.POSIXct(\"2022-09-28 08:00:00\")\n",
        "miercoles_termino_sem8 <- as.POSIXct(\"2022-09-28 20:00:00\")\n",
        "\n",
        "jueves_inicio_sem8 <- as.POSIXct(\"2022-09-29 08:00:00\")\n",
        "jueves_termino_sem8 <- as.POSIXct(\"2022-09-29 20:00:00\")\n",
        "\n",
        "viernes_inicio_sem8 <- as.POSIXct(\"2022-09-30 08:00:00\")\n",
        "viernes_termino_sem8 <- as.POSIXct(\"2022-09-30 20:00:00\")"
      ],
      "metadata": {
        "id": "p2FYSuKxYjxn"
      },
      "execution_count": null,
      "outputs": []
    },
    {
      "cell_type": "markdown",
      "source": [
        "<a id='Combinación-de-fechas'></a>\n",
        "### Combinación de fechas\n",
        "\n",
        "[Inicio ▲](#Indice)"
      ],
      "metadata": {
        "id": "P8TvuCzQ1vIj"
      }
    },
    {
      "cell_type": "markdown",
      "source": [
        "Combinación de las fechas con los inventarios de la primera semana"
      ],
      "metadata": {
        "id": "Tu2Aocfq7YTu"
      }
    },
    {
      "cell_type": "code",
      "source": [
        "lunes_sem1<-data.frame(\"dias\"=seq(from=lunes_inicio_sem1, to=lunes_termino_sem1, by=\"360 min\"))\n",
        "martes_sem1<-data.frame(\"dias\"=seq(from=martes_inicio_sem1, to=martes_termino_sem1, by=\"360 min\"))\n",
        "miercoles_sem1<-data.frame(\"dias\"=seq(from=miercoles_inicio_sem1, to=miercoles_termino_sem1, by=\"360 min\"))\n",
        "jueves_sem1<-data.frame(\"dias\"=seq(from=jueves_inicio_sem1, to=jueves_termino_sem1, by=\"360 min\"))\n",
        "viernes_sem1<-data.frame(\"dias\"=seq(from=viernes_inicio_sem1, to=viernes_termino_sem1, by=\"360 min\"))"
      ],
      "metadata": {
        "id": "RNGwqjtZ7ftZ"
      },
      "execution_count": null,
      "outputs": []
    },
    {
      "cell_type": "markdown",
      "source": [
        "Combinación de las fechas con los inventarios de la quinta semana"
      ],
      "metadata": {
        "id": "YfykfwFhkWpS"
      }
    },
    {
      "cell_type": "code",
      "source": [
        "lunes_sem5<-data.frame(\"dias\"=seq(from=lunes_inicio_sem5, to=lunes_termino_sem5, by=\"360 min\"))\n",
        "martes_sem5<-data.frame(\"dias\"=seq(from=martes_inicio_sem5, to=martes_termino_sem5, by=\"360 min\"))\n",
        "miercoles_sem5<-data.frame(\"dias\"=seq(from=miercoles_inicio_sem5, to=miercoles_termino_sem5, by=\"360 min\"))\n",
        "jueves_sem5<-data.frame(\"dias\"=seq(from=jueves_inicio_sem5, to=jueves_termino_sem5, by=\"360 min\"))\n",
        "viernes_sem5<-data.frame(\"dias\"=seq(from=viernes_inicio_sem5, to=viernes_termino_sem5, by=\"360 min\"))"
      ],
      "metadata": {
        "id": "GsHfO8k4XfMH"
      },
      "execution_count": null,
      "outputs": []
    },
    {
      "cell_type": "markdown",
      "source": [
        "Combinación de las fechas con los inventarios de la segunda semana"
      ],
      "metadata": {
        "id": "fLDhtNjF2GXc"
      }
    },
    {
      "cell_type": "code",
      "source": [
        "lunes_sem2<-data.frame(\"dias\"=seq(from=lunes_inicio_sem2, to=lunes_termino_sem2, by=\"360 min\"))\n",
        "martes_sem2<-data.frame(\"dias\"=seq(from=martes_inicio_sem2, to=martes_termino_sem2, by=\"360 min\"))\n",
        "miercoles_sem2<-data.frame(\"dias\"=seq(from=miercoles_inicio_sem2, to=miercoles_termino_sem2, by=\"360 min\"))\n",
        "jueves_sem2<-data.frame(\"dias\"=seq(from=jueves_inicio_sem2, to=jueves_termino_sem2, by=\"360 min\"))\n",
        "viernes_sem2<-data.frame(\"dias\"=seq(from=viernes_inicio_sem2, to=viernes_termino_sem2, by=\"360 min\"))"
      ],
      "metadata": {
        "id": "ysjfB1-E2MGB"
      },
      "execution_count": null,
      "outputs": []
    },
    {
      "cell_type": "markdown",
      "source": [
        "Combinación de las fechas con los inventarios de la sexta semana"
      ],
      "metadata": {
        "id": "vByNv_ohkdCz"
      }
    },
    {
      "cell_type": "code",
      "source": [
        "lunes_sem6<-data.frame(\"dias\"=seq(from=lunes_inicio_sem6, to=lunes_termino_sem6, by=\"360 min\"))\n",
        "martes_sem6<-data.frame(\"dias\"=seq(from=martes_inicio_sem6, to=martes_termino_sem6, by=\"360 min\"))\n",
        "miercoles_sem6<-data.frame(\"dias\"=seq(from=miercoles_inicio_sem6, to=miercoles_termino_sem6, by=\"360 min\"))\n",
        "jueves_sem6<-data.frame(\"dias\"=seq(from=jueves_inicio_sem6, to=jueves_termino_sem6, by=\"360 min\"))\n",
        "viernes_sem6<-data.frame(\"dias\"=seq(from=viernes_inicio_sem6, to=viernes_termino_sem6, by=\"360 min\"))"
      ],
      "metadata": {
        "id": "wSV72P5PY77w"
      },
      "execution_count": null,
      "outputs": []
    },
    {
      "cell_type": "markdown",
      "source": [
        "Combinación de las fechas con los inventarios de la tercera semana"
      ],
      "metadata": {
        "id": "MWkPJ8Tg5Bu5"
      }
    },
    {
      "cell_type": "code",
      "source": [
        "lunes_sem3<-data.frame(\"dias\"=seq(from=lunes_inicio_sem3, to=lunes_termino_sem3, by=\"360 min\"))\n",
        "martes_sem3<-data.frame(\"dias\"=seq(from=martes_inicio_sem3, to=martes_termino_sem3, by=\"360 min\"))\n",
        "miercoles_sem3<-data.frame(\"dias\"=seq(from=miercoles_inicio_sem3, to=miercoles_termino_sem3, by=\"360 min\"))\n",
        "jueves_sem3<-data.frame(\"dias\"=seq(from=jueves_inicio_sem3, to=jueves_termino_sem3, by=\"360 min\"))\n",
        "viernes_sem3<-data.frame(\"dias\"=seq(from=viernes_inicio_sem3, to=viernes_termino_sem3, by=\"360 min\"))"
      ],
      "metadata": {
        "id": "Kx-LYrnW5Er_"
      },
      "execution_count": null,
      "outputs": []
    },
    {
      "cell_type": "markdown",
      "source": [
        "Combinación de las fechas con los inventarios de la septima semana"
      ],
      "metadata": {
        "id": "qwhP5uAGkftD"
      }
    },
    {
      "cell_type": "code",
      "source": [
        "lunes_sem7<-data.frame(\"dias\"=seq(from=lunes_inicio_sem7, to=lunes_termino_sem7, by=\"360 min\"))\n",
        "martes_sem7<-data.frame(\"dias\"=seq(from=martes_inicio_sem7, to=martes_termino_sem7, by=\"360 min\"))\n",
        "miercoles_sem7<-data.frame(\"dias\"=seq(from=miercoles_inicio_sem7, to=miercoles_termino_sem7, by=\"360 min\"))\n",
        "jueves_sem7<-data.frame(\"dias\"=seq(from=jueves_inicio_sem7, to=jueves_termino_sem7, by=\"360 min\"))\n",
        "viernes_sem7<-data.frame(\"dias\"=seq(from=viernes_inicio_sem7, to=viernes_termino_sem7, by=\"360 min\"))"
      ],
      "metadata": {
        "id": "otJw0_k8ZGMO"
      },
      "execution_count": null,
      "outputs": []
    },
    {
      "cell_type": "markdown",
      "source": [
        "Combinación de las fechas con los inventarios de la cuarta semana"
      ],
      "metadata": {
        "id": "i6wgzjbN8qmQ"
      }
    },
    {
      "cell_type": "code",
      "source": [
        "lunes_sem4<-data.frame(\"dias\"=seq(from=lunes_inicio_sem4, to=lunes_termino_sem4, by=\"360 min\"))\n",
        "martes_sem4<-data.frame(\"dias\"=seq(from=martes_inicio_sem4, to=martes_termino_sem4, by=\"360 min\"))\n",
        "miercoles_sem4<-data.frame(\"dias\"=seq(from=miercoles_inicio_sem4, to=miercoles_termino_sem4, by=\"360 min\"))\n",
        "jueves_sem4<-data.frame(\"dias\"=seq(from=jueves_inicio_sem4, to=jueves_termino_sem4, by=\"360 min\"))\n",
        "viernes_sem4<-data.frame(\"dias\"=seq(from=viernes_inicio_sem4, to=viernes_termino_sem4, by=\"360 min\"))"
      ],
      "metadata": {
        "id": "gDMwvlez8tRB"
      },
      "execution_count": null,
      "outputs": []
    },
    {
      "cell_type": "markdown",
      "source": [
        "Combinación de las fechas con los inventarios de la octava semana"
      ],
      "metadata": {
        "id": "upfPWTfckiRk"
      }
    },
    {
      "cell_type": "code",
      "source": [
        "lunes_sem8<-data.frame(\"dias\"=seq(from=lunes_inicio_sem8, to=lunes_termino_sem8, by=\"360 min\"))\n",
        "martes_sem8<-data.frame(\"dias\"=seq(from=martes_inicio_sem8, to=martes_termino_sem8, by=\"360 min\"))\n",
        "miercoles_sem8<-data.frame(\"dias\"=seq(from=miercoles_inicio_sem8, to=miercoles_termino_sem8, by=\"360 min\"))\n",
        "jueves_sem8<-data.frame(\"dias\"=seq(from=jueves_inicio_sem8, to=jueves_termino_sem8, by=\"360 min\"))\n",
        "viernes_sem8<-data.frame(\"dias\"=seq(from=viernes_inicio_sem8, to=viernes_termino_sem8, by=\"360 min\"))"
      ],
      "metadata": {
        "id": "KoA9KzTzZO6_"
      },
      "execution_count": null,
      "outputs": []
    },
    {
      "cell_type": "markdown",
      "source": [
        "<a id='Carga-mensual-completa'></a>\n",
        "### Carga mensual completa\n",
        "\n",
        "[Inicio ▲](#Indice)"
      ],
      "metadata": {
        "id": "DTm6qnuT3PG6"
      }
    },
    {
      "cell_type": "markdown",
      "source": [
        "Carga mensual de las 4 semanas con los inventarios correspondientes"
      ],
      "metadata": {
        "id": "LWOy2Frg7o8M"
      }
    },
    {
      "cell_type": "code",
      "source": [
        "semana1<-rbind(lunes_sem1,martes_sem1,miercoles_sem1,jueves_sem1,viernes_sem1)\n",
        "semana2<-rbind(lunes_sem2,martes_sem2,miercoles_sem2,jueves_sem2,viernes_sem2)\n",
        "semana3<-rbind(lunes_sem3,martes_sem3,miercoles_sem3,jueves_sem3,viernes_sem3)\n",
        "semana4<-rbind(lunes_sem4,martes_sem4,miercoles_sem4,jueves_sem4,viernes_sem4)\n",
        "\n",
        "mes<-rbind(semana1,semana2,semana3,semana4)\n",
        "mes<-data.frame(mes,inventario_est3,inventario_est6,inventario_est10,inventario_est13,inventario_est19,inventario_est23,inventario_est25,inventario_est26,inventario_est27,inventario_est28,inventario_est32,inventario_est33,inventario_est36,inventario_est46,inventario_est47,inventario_est53,inventario_est57,inventario_est58,inventario_est59,inventario_est60)\n",
        "mes"
      ],
      "metadata": {
        "id": "h2rEWP2F7uJ0",
        "colab": {
          "base_uri": "https://localhost:8080/",
          "height": 1000
        },
        "outputId": "04973b10-a47c-4387-8fb9-abe0158332c7"
      },
      "execution_count": null,
      "outputs": [
        {
          "output_type": "display_data",
          "data": {
            "text/html": [
              "<table class=\"dataframe\">\n",
              "<caption>A data.frame: 60 × 21</caption>\n",
              "<thead>\n",
              "\t<tr><th scope=col>dias</th><th scope=col>inventario_est3</th><th scope=col>inventario_est6</th><th scope=col>inventario_est10</th><th scope=col>inventario_est13</th><th scope=col>inventario_est19</th><th scope=col>inventario_est23</th><th scope=col>inventario_est25</th><th scope=col>inventario_est26</th><th scope=col>inventario_est27</th><th scope=col>⋯</th><th scope=col>inventario_est32</th><th scope=col>inventario_est33</th><th scope=col>inventario_est36</th><th scope=col>inventario_est46</th><th scope=col>inventario_est47</th><th scope=col>inventario_est53</th><th scope=col>inventario_est57</th><th scope=col>inventario_est58</th><th scope=col>inventario_est59</th><th scope=col>inventario_est60</th></tr>\n",
              "\t<tr><th scope=col>&lt;dttm&gt;</th><th scope=col>&lt;dbl&gt;</th><th scope=col>&lt;dbl&gt;</th><th scope=col>&lt;dbl&gt;</th><th scope=col>&lt;dbl&gt;</th><th scope=col>&lt;dbl&gt;</th><th scope=col>&lt;dbl&gt;</th><th scope=col>&lt;dbl&gt;</th><th scope=col>&lt;dbl&gt;</th><th scope=col>&lt;dbl&gt;</th><th scope=col>⋯</th><th scope=col>&lt;dbl&gt;</th><th scope=col>&lt;dbl&gt;</th><th scope=col>&lt;dbl&gt;</th><th scope=col>&lt;dbl&gt;</th><th scope=col>&lt;dbl&gt;</th><th scope=col>&lt;dbl&gt;</th><th scope=col>&lt;dbl&gt;</th><th scope=col>&lt;dbl&gt;</th><th scope=col>&lt;dbl&gt;</th><th scope=col>&lt;dbl&gt;</th></tr>\n",
              "</thead>\n",
              "<tbody>\n",
              "\t<tr><td>2022-08-01 08:00:00</td><td> 5</td><td> 6</td><td>12</td><td> 6</td><td> 6</td><td>10</td><td> 6</td><td>1</td><td> 8</td><td>⋯</td><td> 7</td><td>6</td><td>15</td><td> 5</td><td>7</td><td> 9</td><td>2</td><td> 6</td><td>4</td><td>3</td></tr>\n",
              "\t<tr><td>2022-08-01 14:00:00</td><td> 1</td><td> 7</td><td>12</td><td> 3</td><td>13</td><td> 8</td><td> 6</td><td>0</td><td>12</td><td>⋯</td><td> 6</td><td>8</td><td>11</td><td> 4</td><td>8</td><td> 8</td><td>2</td><td> 6</td><td>4</td><td>4</td></tr>\n",
              "\t<tr><td>2022-08-01 20:00:00</td><td> 9</td><td> 9</td><td> 3</td><td> 5</td><td> 4</td><td> 8</td><td>11</td><td>1</td><td> 6</td><td>⋯</td><td> 4</td><td>5</td><td> 4</td><td> 9</td><td>7</td><td> 6</td><td>2</td><td> 3</td><td>8</td><td>3</td></tr>\n",
              "\t<tr><td>2022-08-02 08:00:00</td><td> 9</td><td>10</td><td> 4</td><td> 8</td><td> 4</td><td> 7</td><td> 6</td><td>2</td><td>13</td><td>⋯</td><td> 5</td><td>3</td><td> 9</td><td> 3</td><td>5</td><td> 8</td><td>2</td><td> 6</td><td>8</td><td>3</td></tr>\n",
              "\t<tr><td>2022-08-02 14:00:00</td><td> 0</td><td> 1</td><td> 1</td><td> 2</td><td>13</td><td> 1</td><td> 3</td><td>1</td><td> 6</td><td>⋯</td><td> 6</td><td>0</td><td> 5</td><td>11</td><td>5</td><td>11</td><td>1</td><td> 2</td><td>5</td><td>3</td></tr>\n",
              "\t<tr><td>2022-08-02 20:00:00</td><td> 9</td><td> 6</td><td> 5</td><td> 3</td><td> 4</td><td> 8</td><td> 9</td><td>5</td><td> 3</td><td>⋯</td><td>10</td><td>0</td><td> 4</td><td> 3</td><td>5</td><td> 9</td><td>4</td><td> 7</td><td>8</td><td>1</td></tr>\n",
              "\t<tr><td>2022-08-03 08:00:00</td><td> 9</td><td> 6</td><td> 3</td><td> 7</td><td> 4</td><td> 7</td><td> 7</td><td>7</td><td> 5</td><td>⋯</td><td>11</td><td>0</td><td> 4</td><td> 3</td><td>2</td><td>13</td><td>4</td><td> 6</td><td>4</td><td>2</td></tr>\n",
              "\t<tr><td>2022-08-03 14:00:00</td><td> 1</td><td> 7</td><td> 1</td><td> 0</td><td>10</td><td> 5</td><td> 0</td><td>6</td><td> 3</td><td>⋯</td><td> 6</td><td>2</td><td> 6</td><td> 6</td><td>5</td><td> 6</td><td>1</td><td> 2</td><td>2</td><td>1</td></tr>\n",
              "\t<tr><td>2022-08-03 20:00:00</td><td>11</td><td> 5</td><td> 4</td><td> 2</td><td> 8</td><td> 8</td><td>11</td><td>5</td><td> 8</td><td>⋯</td><td> 4</td><td>3</td><td> 2</td><td>10</td><td>6</td><td> 6</td><td>5</td><td> 2</td><td>5</td><td>4</td></tr>\n",
              "\t<tr><td>2022-08-04 08:00:00</td><td>10</td><td> 7</td><td> 0</td><td> 2</td><td> 6</td><td> 5</td><td> 9</td><td>5</td><td> 2</td><td>⋯</td><td> 7</td><td>0</td><td> 3</td><td> 4</td><td>1</td><td> 8</td><td>7</td><td> 3</td><td>6</td><td>5</td></tr>\n",
              "\t<tr><td>2022-08-04 14:00:00</td><td> 0</td><td> 7</td><td> 3</td><td> 1</td><td> 7</td><td> 1</td><td> 0</td><td>1</td><td>10</td><td>⋯</td><td> 1</td><td>1</td><td> 0</td><td> 8</td><td>0</td><td> 8</td><td>0</td><td> 3</td><td>0</td><td>1</td></tr>\n",
              "\t<tr><td>2022-08-04 20:00:00</td><td>12</td><td> 8</td><td> 8</td><td> 2</td><td> 7</td><td> 8</td><td> 7</td><td>3</td><td> 2</td><td>⋯</td><td> 7</td><td>0</td><td> 0</td><td> 5</td><td>9</td><td> 6</td><td>4</td><td> 1</td><td>3</td><td>2</td></tr>\n",
              "\t<tr><td>2022-08-05 08:00:00</td><td> 7</td><td> 7</td><td> 3</td><td> 5</td><td> 6</td><td> 6</td><td> 6</td><td>5</td><td> 7</td><td>⋯</td><td>10</td><td>3</td><td> 6</td><td> 7</td><td>4</td><td>12</td><td>3</td><td> 5</td><td>4</td><td>3</td></tr>\n",
              "\t<tr><td>2022-08-05 14:00:00</td><td> 0</td><td> 5</td><td> 0</td><td> 8</td><td> 7</td><td> 3</td><td> 0</td><td>1</td><td> 4</td><td>⋯</td><td> 5</td><td>2</td><td> 5</td><td> 6</td><td>8</td><td>12</td><td>1</td><td>11</td><td>2</td><td>1</td></tr>\n",
              "\t<tr><td>2022-08-05 20:00:00</td><td> 6</td><td> 6</td><td> 7</td><td> 9</td><td> 5</td><td> 7</td><td> 5</td><td>4</td><td> 5</td><td>⋯</td><td> 4</td><td>5</td><td> 7</td><td> 4</td><td>6</td><td>13</td><td>6</td><td> 6</td><td>2</td><td>3</td></tr>\n",
              "\t<tr><td>2022-08-08 08:00:00</td><td> 5</td><td> 8</td><td> 5</td><td> 5</td><td> 9</td><td>10</td><td> 4</td><td>5</td><td>10</td><td>⋯</td><td> 6</td><td>2</td><td> 6</td><td> 8</td><td>5</td><td> 9</td><td>0</td><td> 6</td><td>2</td><td>3</td></tr>\n",
              "\t<tr><td>2022-08-08 14:00:00</td><td> 2</td><td> 2</td><td> 8</td><td> 2</td><td> 7</td><td> 9</td><td> 5</td><td>4</td><td>12</td><td>⋯</td><td> 3</td><td>4</td><td> 6</td><td> 8</td><td>5</td><td> 9</td><td>1</td><td> 5</td><td>2</td><td>4</td></tr>\n",
              "\t<tr><td>2022-08-08 20:00:00</td><td> 4</td><td>10</td><td> 5</td><td> 4</td><td> 6</td><td> 3</td><td> 5</td><td>2</td><td> 1</td><td>⋯</td><td> 2</td><td>1</td><td> 1</td><td> 8</td><td>8</td><td> 2</td><td>0</td><td> 6</td><td>4</td><td>0</td></tr>\n",
              "\t<tr><td>2022-08-09 08:00:00</td><td> 6</td><td> 6</td><td> 3</td><td> 5</td><td> 7</td><td> 6</td><td> 4</td><td>4</td><td>14</td><td>⋯</td><td> 3</td><td>2</td><td> 7</td><td> 4</td><td>6</td><td>10</td><td>6</td><td> 4</td><td>2</td><td>2</td></tr>\n",
              "\t<tr><td>2022-08-09 14:00:00</td><td> 2</td><td> 8</td><td> 2</td><td> 7</td><td> 5</td><td> 6</td><td> 6</td><td>1</td><td> 6</td><td>⋯</td><td> 1</td><td>3</td><td> 9</td><td> 6</td><td>7</td><td> 8</td><td>7</td><td> 4</td><td>4</td><td>1</td></tr>\n",
              "\t<tr><td>2022-08-09 20:00:00</td><td> 7</td><td> 4</td><td> 9</td><td> 2</td><td> 4</td><td> 1</td><td> 3</td><td>4</td><td> 1</td><td>⋯</td><td> 6</td><td>4</td><td> 0</td><td> 7</td><td>3</td><td> 8</td><td>1</td><td> 0</td><td>7</td><td>2</td></tr>\n",
              "\t<tr><td>2022-08-10 08:00:00</td><td> 3</td><td> 7</td><td> 6</td><td> 0</td><td> 5</td><td> 4</td><td> 1</td><td>0</td><td>14</td><td>⋯</td><td> 4</td><td>4</td><td> 1</td><td> 8</td><td>2</td><td> 5</td><td>1</td><td> 2</td><td>2</td><td>0</td></tr>\n",
              "\t<tr><td>2022-08-10 14:00:00</td><td> 1</td><td> 8</td><td> 5</td><td> 4</td><td> 5</td><td> 5</td><td> 5</td><td>1</td><td>11</td><td>⋯</td><td> 6</td><td>6</td><td> 6</td><td> 2</td><td>1</td><td>11</td><td>4</td><td> 1</td><td>2</td><td>2</td></tr>\n",
              "\t<tr><td>2022-08-10 20:00:00</td><td> 5</td><td> 7</td><td> 1</td><td> 0</td><td> 7</td><td> 5</td><td> 7</td><td>4</td><td> 5</td><td>⋯</td><td> 2</td><td>8</td><td> 4</td><td> 1</td><td>6</td><td> 7</td><td>6</td><td> 4</td><td>1</td><td>1</td></tr>\n",
              "\t<tr><td>2022-08-11 08:00:00</td><td> 8</td><td> 4</td><td> 0</td><td> 3</td><td> 3</td><td> 9</td><td> 5</td><td>4</td><td> 5</td><td>⋯</td><td> 5</td><td>2</td><td> 5</td><td> 2</td><td>2</td><td> 6</td><td>4</td><td> 4</td><td>0</td><td>1</td></tr>\n",
              "\t<tr><td>2022-08-11 14:00:00</td><td> 3</td><td> 2</td><td> 2</td><td> 0</td><td> 3</td><td> 7</td><td> 5</td><td>2</td><td> 3</td><td>⋯</td><td> 2</td><td>4</td><td> 5</td><td> 2</td><td>2</td><td> 5</td><td>3</td><td> 6</td><td>3</td><td>1</td></tr>\n",
              "\t<tr><td>2022-08-11 20:00:00</td><td> 6</td><td> 0</td><td> 6</td><td> 4</td><td> 5</td><td> 7</td><td> 5</td><td>2</td><td> 4</td><td>⋯</td><td> 3</td><td>3</td><td>13</td><td> 2</td><td>5</td><td> 8</td><td>3</td><td> 1</td><td>7</td><td>4</td></tr>\n",
              "\t<tr><td>2022-08-12 08:00:00</td><td> 8</td><td> 2</td><td> 2</td><td> 6</td><td> 4</td><td> 6</td><td> 4</td><td>1</td><td> 5</td><td>⋯</td><td> 6</td><td>1</td><td>14</td><td> 5</td><td>2</td><td> 8</td><td>3</td><td> 2</td><td>8</td><td>1</td></tr>\n",
              "\t<tr><td>2022-08-12 14:00:00</td><td> 2</td><td> 1</td><td> 2</td><td> 9</td><td> 1</td><td> 6</td><td> 4</td><td>4</td><td> 8</td><td>⋯</td><td> 1</td><td>1</td><td> 7</td><td> 6</td><td>2</td><td> 8</td><td>3</td><td> 2</td><td>5</td><td>4</td></tr>\n",
              "\t<tr><td>2022-08-12 20:00:00</td><td> 6</td><td> 4</td><td>10</td><td> 7</td><td> 8</td><td> 5</td><td> 4</td><td>5</td><td> 7</td><td>⋯</td><td> 4</td><td>3</td><td> 4</td><td> 2</td><td>6</td><td> 6</td><td>4</td><td> 1</td><td>4</td><td>5</td></tr>\n",
              "\t<tr><td>2022-08-15 08:00:00</td><td> 1</td><td> 7</td><td> 3</td><td> 4</td><td> 4</td><td> 8</td><td> 8</td><td>1</td><td> 6</td><td>⋯</td><td> 5</td><td>2</td><td> 2</td><td> 3</td><td>2</td><td>13</td><td>0</td><td> 5</td><td>3</td><td>5</td></tr>\n",
              "\t<tr><td>2022-08-15 14:00:00</td><td> 1</td><td> 4</td><td> 4</td><td> 4</td><td>11</td><td> 2</td><td> 7</td><td>0</td><td> 8</td><td>⋯</td><td> 0</td><td>1</td><td> 2</td><td> 3</td><td>2</td><td>12</td><td>1</td><td> 3</td><td>2</td><td>3</td></tr>\n",
              "\t<tr><td>2022-08-15 20:00:00</td><td> 3</td><td> 4</td><td> 3</td><td> 1</td><td> 7</td><td> 7</td><td> 9</td><td>1</td><td> 1</td><td>⋯</td><td> 5</td><td>0</td><td> 0</td><td> 3</td><td>1</td><td>14</td><td>2</td><td> 2</td><td>2</td><td>1</td></tr>\n",
              "\t<tr><td>2022-08-16 08:00:00</td><td> 5</td><td> 7</td><td> 2</td><td> 6</td><td> 7</td><td> 8</td><td> 1</td><td>6</td><td>17</td><td>⋯</td><td> 7</td><td>4</td><td> 5</td><td> 5</td><td>6</td><td> 6</td><td>3</td><td> 5</td><td>3</td><td>3</td></tr>\n",
              "\t<tr><td>2022-08-16 14:00:00</td><td> 1</td><td> 4</td><td> 4</td><td> 7</td><td> 8</td><td> 5</td><td> 2</td><td>2</td><td>23</td><td>⋯</td><td> 4</td><td>5</td><td> 4</td><td> 5</td><td>4</td><td> 9</td><td>2</td><td> 3</td><td>3</td><td>3</td></tr>\n",
              "\t<tr><td>2022-08-16 20:00:00</td><td> 5</td><td> 4</td><td> 8</td><td>11</td><td> 2</td><td>10</td><td> 1</td><td>6</td><td>20</td><td>⋯</td><td> 3</td><td>7</td><td> 1</td><td> 1</td><td>6</td><td>15</td><td>2</td><td> 6</td><td>5</td><td>0</td></tr>\n",
              "\t<tr><td>2022-08-17 08:00:00</td><td> 6</td><td> 2</td><td> 6</td><td> 9</td><td> 4</td><td> 6</td><td> 1</td><td>5</td><td>22</td><td>⋯</td><td> 4</td><td>7</td><td>12</td><td> 3</td><td>6</td><td>15</td><td>1</td><td> 6</td><td>4</td><td>4</td></tr>\n",
              "\t<tr><td>2022-08-17 14:00:00</td><td> 5</td><td> 4</td><td> 5</td><td> 6</td><td> 2</td><td> 5</td><td> 1</td><td>5</td><td>20</td><td>⋯</td><td> 0</td><td>7</td><td>14</td><td> 3</td><td>3</td><td>15</td><td>1</td><td> 5</td><td>6</td><td>5</td></tr>\n",
              "\t<tr><td>2022-08-17 20:00:00</td><td> 4</td><td> 5</td><td> 2</td><td> 2</td><td> 7</td><td> 1</td><td> 0</td><td>2</td><td> 2</td><td>⋯</td><td> 1</td><td>0</td><td> 6</td><td> 2</td><td>2</td><td> 6</td><td>0</td><td> 4</td><td>0</td><td>0</td></tr>\n",
              "\t<tr><td>2022-08-18 08:00:00</td><td> 3</td><td> 2</td><td> 0</td><td> 0</td><td> 6</td><td> 2</td><td> 0</td><td>0</td><td> 5</td><td>⋯</td><td> 0</td><td>1</td><td> 0</td><td> 8</td><td>0</td><td>10</td><td>0</td><td> 2</td><td>3</td><td>1</td></tr>\n",
              "\t<tr><td>2022-08-18 14:00:00</td><td> 2</td><td> 5</td><td> 4</td><td> 0</td><td> 9</td><td> 1</td><td> 4</td><td>5</td><td> 6</td><td>⋯</td><td> 5</td><td>0</td><td> 1</td><td> 2</td><td>2</td><td>11</td><td>2</td><td> 3</td><td>1</td><td>7</td></tr>\n",
              "\t<tr><td>2022-08-18 20:00:00</td><td>10</td><td> 8</td><td> 1</td><td> 0</td><td>13</td><td> 4</td><td> 1</td><td>7</td><td> 1</td><td>⋯</td><td> 4</td><td>6</td><td> 4</td><td> 6</td><td>1</td><td>13</td><td>4</td><td> 6</td><td>5</td><td>4</td></tr>\n",
              "\t<tr><td>2022-08-19 08:00:00</td><td> 8</td><td> 8</td><td> 0</td><td> 9</td><td>11</td><td> 4</td><td> 1</td><td>4</td><td> 4</td><td>⋯</td><td> 5</td><td>3</td><td> 5</td><td> 5</td><td>0</td><td>11</td><td>3</td><td> 5</td><td>6</td><td>3</td></tr>\n",
              "\t<tr><td>2022-08-19 14:00:00</td><td> 5</td><td> 9</td><td> 3</td><td> 7</td><td> 3</td><td> 2</td><td> 2</td><td>3</td><td> 7</td><td>⋯</td><td> 1</td><td>3</td><td> 8</td><td> 4</td><td>4</td><td>10</td><td>4</td><td> 7</td><td>6</td><td>1</td></tr>\n",
              "\t<tr><td>2022-08-19 20:00:00</td><td>14</td><td> 3</td><td> 5</td><td> 0</td><td> 0</td><td> 2</td><td> 3</td><td>6</td><td> 1</td><td>⋯</td><td> 2</td><td>4</td><td> 2</td><td> 7</td><td>5</td><td>10</td><td>2</td><td> 6</td><td>8</td><td>0</td></tr>\n",
              "\t<tr><td>2022-08-22 08:00:00</td><td> 9</td><td> 4</td><td> 2</td><td> 7</td><td> 6</td><td> 3</td><td> 5</td><td>4</td><td> 4</td><td>⋯</td><td> 4</td><td>3</td><td> 4</td><td> 4</td><td>5</td><td>12</td><td>1</td><td> 2</td><td>3</td><td>1</td></tr>\n",
              "\t<tr><td>2022-08-22 14:00:00</td><td> 5</td><td> 4</td><td> 5</td><td> 1</td><td> 7</td><td> 1</td><td> 5</td><td>3</td><td>10</td><td>⋯</td><td> 0</td><td>1</td><td> 5</td><td> 3</td><td>3</td><td>11</td><td>2</td><td> 0</td><td>2</td><td>1</td></tr>\n",
              "\t<tr><td>2022-08-22 20:00:00</td><td> 8</td><td> 3</td><td> 1</td><td> 4</td><td>10</td><td>10</td><td> 3</td><td>3</td><td> 2</td><td>⋯</td><td> 0</td><td>3</td><td> 4</td><td> 2</td><td>0</td><td>15</td><td>1</td><td> 2</td><td>0</td><td>0</td></tr>\n",
              "\t<tr><td>2022-08-23 08:00:00</td><td> 9</td><td> 3</td><td> 1</td><td> 6</td><td> 2</td><td> 4</td><td> 2</td><td>3</td><td> 5</td><td>⋯</td><td> 6</td><td>0</td><td> 3</td><td> 5</td><td>4</td><td> 8</td><td>2</td><td> 2</td><td>4</td><td>4</td></tr>\n",
              "\t<tr><td>2022-08-23 14:00:00</td><td> 1</td><td> 6</td><td> 0</td><td> 2</td><td> 5</td><td> 0</td><td> 4</td><td>2</td><td> 6</td><td>⋯</td><td> 3</td><td>7</td><td> 5</td><td> 4</td><td>0</td><td> 7</td><td>2</td><td> 2</td><td>0</td><td>0</td></tr>\n",
              "\t<tr><td>2022-08-23 20:00:00</td><td>10</td><td> 0</td><td> 1</td><td> 1</td><td>10</td><td> 7</td><td> 1</td><td>2</td><td> 9</td><td>⋯</td><td> 4</td><td>3</td><td> 1</td><td> 4</td><td>2</td><td> 9</td><td>5</td><td> 1</td><td>1</td><td>0</td></tr>\n",
              "\t<tr><td>2022-08-24 08:00:00</td><td> 1</td><td> 4</td><td> 3</td><td> 2</td><td> 1</td><td> 6</td><td> 3</td><td>3</td><td> 5</td><td>⋯</td><td> 5</td><td>3</td><td> 0</td><td> 6</td><td>4</td><td> 4</td><td>2</td><td> 2</td><td>2</td><td>0</td></tr>\n",
              "\t<tr><td>2022-08-24 14:00:00</td><td> 3</td><td> 4</td><td> 6</td><td> 2</td><td> 1</td><td> 6</td><td> 0</td><td>4</td><td> 7</td><td>⋯</td><td> 4</td><td>1</td><td> 2</td><td> 9</td><td>1</td><td> 3</td><td>2</td><td> 1</td><td>3</td><td>1</td></tr>\n",
              "\t<tr><td>2022-08-24 20:00:00</td><td> 8</td><td> 3</td><td> 1</td><td> 0</td><td> 3</td><td> 3</td><td> 1</td><td>0</td><td> 3</td><td>⋯</td><td> 4</td><td>1</td><td> 0</td><td> 5</td><td>2</td><td>10</td><td>3</td><td> 1</td><td>7</td><td>0</td></tr>\n",
              "\t<tr><td>2022-08-25 08:00:00</td><td> 3</td><td> 3</td><td> 1</td><td> 2</td><td> 4</td><td> 2</td><td> 2</td><td>1</td><td> 3</td><td>⋯</td><td> 5</td><td>2</td><td> 2</td><td> 8</td><td>2</td><td> 8</td><td>0</td><td> 7</td><td>6</td><td>0</td></tr>\n",
              "\t<tr><td>2022-08-25 14:00:00</td><td> 0</td><td> 5</td><td> 3</td><td> 5</td><td> 4</td><td> 2</td><td> 0</td><td>1</td><td> 4</td><td>⋯</td><td> 3</td><td>2</td><td> 2</td><td> 7</td><td>5</td><td> 7</td><td>0</td><td> 5</td><td>8</td><td>2</td></tr>\n",
              "\t<tr><td>2022-08-25 20:00:00</td><td> 9</td><td> 8</td><td> 5</td><td> 0</td><td> 6</td><td> 4</td><td> 7</td><td>3</td><td> 2</td><td>⋯</td><td> 5</td><td>6</td><td> 1</td><td> 3</td><td>5</td><td> 4</td><td>4</td><td> 3</td><td>8</td><td>3</td></tr>\n",
              "\t<tr><td>2022-08-26 08:00:00</td><td>14</td><td> 7</td><td> 3</td><td> 0</td><td> 6</td><td> 5</td><td> 4</td><td>0</td><td> 1</td><td>⋯</td><td> 4</td><td>2</td><td> 1</td><td> 3</td><td>6</td><td> 3</td><td>0</td><td> 3</td><td>5</td><td>2</td></tr>\n",
              "\t<tr><td>2022-08-26 14:00:00</td><td> 5</td><td> 5</td><td> 5</td><td> 1</td><td> 1</td><td> 1</td><td> 0</td><td>1</td><td> 4</td><td>⋯</td><td> 3</td><td>2</td><td> 1</td><td> 4</td><td>0</td><td>17</td><td>4</td><td> 0</td><td>0</td><td>3</td></tr>\n",
              "\t<tr><td>2022-08-26 20:00:00</td><td> 5</td><td> 4</td><td> 2</td><td> 0</td><td>11</td><td> 6</td><td> 4</td><td>4</td><td> 4</td><td>⋯</td><td> 6</td><td>0</td><td> 3</td><td> 2</td><td>3</td><td>11</td><td>5</td><td> 0</td><td>5</td><td>1</td></tr>\n",
              "</tbody>\n",
              "</table>\n"
            ],
            "text/markdown": "\nA data.frame: 60 × 21\n\n| dias &lt;dttm&gt; | inventario_est3 &lt;dbl&gt; | inventario_est6 &lt;dbl&gt; | inventario_est10 &lt;dbl&gt; | inventario_est13 &lt;dbl&gt; | inventario_est19 &lt;dbl&gt; | inventario_est23 &lt;dbl&gt; | inventario_est25 &lt;dbl&gt; | inventario_est26 &lt;dbl&gt; | inventario_est27 &lt;dbl&gt; | ⋯ ⋯ | inventario_est32 &lt;dbl&gt; | inventario_est33 &lt;dbl&gt; | inventario_est36 &lt;dbl&gt; | inventario_est46 &lt;dbl&gt; | inventario_est47 &lt;dbl&gt; | inventario_est53 &lt;dbl&gt; | inventario_est57 &lt;dbl&gt; | inventario_est58 &lt;dbl&gt; | inventario_est59 &lt;dbl&gt; | inventario_est60 &lt;dbl&gt; |\n|---|---|---|---|---|---|---|---|---|---|---|---|---|---|---|---|---|---|---|---|---|\n| 2022-08-01 08:00:00 |  5 |  6 | 12 |  6 |  6 | 10 |  6 | 1 |  8 | ⋯ |  7 | 6 | 15 |  5 | 7 |  9 | 2 |  6 | 4 | 3 |\n| 2022-08-01 14:00:00 |  1 |  7 | 12 |  3 | 13 |  8 |  6 | 0 | 12 | ⋯ |  6 | 8 | 11 |  4 | 8 |  8 | 2 |  6 | 4 | 4 |\n| 2022-08-01 20:00:00 |  9 |  9 |  3 |  5 |  4 |  8 | 11 | 1 |  6 | ⋯ |  4 | 5 |  4 |  9 | 7 |  6 | 2 |  3 | 8 | 3 |\n| 2022-08-02 08:00:00 |  9 | 10 |  4 |  8 |  4 |  7 |  6 | 2 | 13 | ⋯ |  5 | 3 |  9 |  3 | 5 |  8 | 2 |  6 | 8 | 3 |\n| 2022-08-02 14:00:00 |  0 |  1 |  1 |  2 | 13 |  1 |  3 | 1 |  6 | ⋯ |  6 | 0 |  5 | 11 | 5 | 11 | 1 |  2 | 5 | 3 |\n| 2022-08-02 20:00:00 |  9 |  6 |  5 |  3 |  4 |  8 |  9 | 5 |  3 | ⋯ | 10 | 0 |  4 |  3 | 5 |  9 | 4 |  7 | 8 | 1 |\n| 2022-08-03 08:00:00 |  9 |  6 |  3 |  7 |  4 |  7 |  7 | 7 |  5 | ⋯ | 11 | 0 |  4 |  3 | 2 | 13 | 4 |  6 | 4 | 2 |\n| 2022-08-03 14:00:00 |  1 |  7 |  1 |  0 | 10 |  5 |  0 | 6 |  3 | ⋯ |  6 | 2 |  6 |  6 | 5 |  6 | 1 |  2 | 2 | 1 |\n| 2022-08-03 20:00:00 | 11 |  5 |  4 |  2 |  8 |  8 | 11 | 5 |  8 | ⋯ |  4 | 3 |  2 | 10 | 6 |  6 | 5 |  2 | 5 | 4 |\n| 2022-08-04 08:00:00 | 10 |  7 |  0 |  2 |  6 |  5 |  9 | 5 |  2 | ⋯ |  7 | 0 |  3 |  4 | 1 |  8 | 7 |  3 | 6 | 5 |\n| 2022-08-04 14:00:00 |  0 |  7 |  3 |  1 |  7 |  1 |  0 | 1 | 10 | ⋯ |  1 | 1 |  0 |  8 | 0 |  8 | 0 |  3 | 0 | 1 |\n| 2022-08-04 20:00:00 | 12 |  8 |  8 |  2 |  7 |  8 |  7 | 3 |  2 | ⋯ |  7 | 0 |  0 |  5 | 9 |  6 | 4 |  1 | 3 | 2 |\n| 2022-08-05 08:00:00 |  7 |  7 |  3 |  5 |  6 |  6 |  6 | 5 |  7 | ⋯ | 10 | 3 |  6 |  7 | 4 | 12 | 3 |  5 | 4 | 3 |\n| 2022-08-05 14:00:00 |  0 |  5 |  0 |  8 |  7 |  3 |  0 | 1 |  4 | ⋯ |  5 | 2 |  5 |  6 | 8 | 12 | 1 | 11 | 2 | 1 |\n| 2022-08-05 20:00:00 |  6 |  6 |  7 |  9 |  5 |  7 |  5 | 4 |  5 | ⋯ |  4 | 5 |  7 |  4 | 6 | 13 | 6 |  6 | 2 | 3 |\n| 2022-08-08 08:00:00 |  5 |  8 |  5 |  5 |  9 | 10 |  4 | 5 | 10 | ⋯ |  6 | 2 |  6 |  8 | 5 |  9 | 0 |  6 | 2 | 3 |\n| 2022-08-08 14:00:00 |  2 |  2 |  8 |  2 |  7 |  9 |  5 | 4 | 12 | ⋯ |  3 | 4 |  6 |  8 | 5 |  9 | 1 |  5 | 2 | 4 |\n| 2022-08-08 20:00:00 |  4 | 10 |  5 |  4 |  6 |  3 |  5 | 2 |  1 | ⋯ |  2 | 1 |  1 |  8 | 8 |  2 | 0 |  6 | 4 | 0 |\n| 2022-08-09 08:00:00 |  6 |  6 |  3 |  5 |  7 |  6 |  4 | 4 | 14 | ⋯ |  3 | 2 |  7 |  4 | 6 | 10 | 6 |  4 | 2 | 2 |\n| 2022-08-09 14:00:00 |  2 |  8 |  2 |  7 |  5 |  6 |  6 | 1 |  6 | ⋯ |  1 | 3 |  9 |  6 | 7 |  8 | 7 |  4 | 4 | 1 |\n| 2022-08-09 20:00:00 |  7 |  4 |  9 |  2 |  4 |  1 |  3 | 4 |  1 | ⋯ |  6 | 4 |  0 |  7 | 3 |  8 | 1 |  0 | 7 | 2 |\n| 2022-08-10 08:00:00 |  3 |  7 |  6 |  0 |  5 |  4 |  1 | 0 | 14 | ⋯ |  4 | 4 |  1 |  8 | 2 |  5 | 1 |  2 | 2 | 0 |\n| 2022-08-10 14:00:00 |  1 |  8 |  5 |  4 |  5 |  5 |  5 | 1 | 11 | ⋯ |  6 | 6 |  6 |  2 | 1 | 11 | 4 |  1 | 2 | 2 |\n| 2022-08-10 20:00:00 |  5 |  7 |  1 |  0 |  7 |  5 |  7 | 4 |  5 | ⋯ |  2 | 8 |  4 |  1 | 6 |  7 | 6 |  4 | 1 | 1 |\n| 2022-08-11 08:00:00 |  8 |  4 |  0 |  3 |  3 |  9 |  5 | 4 |  5 | ⋯ |  5 | 2 |  5 |  2 | 2 |  6 | 4 |  4 | 0 | 1 |\n| 2022-08-11 14:00:00 |  3 |  2 |  2 |  0 |  3 |  7 |  5 | 2 |  3 | ⋯ |  2 | 4 |  5 |  2 | 2 |  5 | 3 |  6 | 3 | 1 |\n| 2022-08-11 20:00:00 |  6 |  0 |  6 |  4 |  5 |  7 |  5 | 2 |  4 | ⋯ |  3 | 3 | 13 |  2 | 5 |  8 | 3 |  1 | 7 | 4 |\n| 2022-08-12 08:00:00 |  8 |  2 |  2 |  6 |  4 |  6 |  4 | 1 |  5 | ⋯ |  6 | 1 | 14 |  5 | 2 |  8 | 3 |  2 | 8 | 1 |\n| 2022-08-12 14:00:00 |  2 |  1 |  2 |  9 |  1 |  6 |  4 | 4 |  8 | ⋯ |  1 | 1 |  7 |  6 | 2 |  8 | 3 |  2 | 5 | 4 |\n| 2022-08-12 20:00:00 |  6 |  4 | 10 |  7 |  8 |  5 |  4 | 5 |  7 | ⋯ |  4 | 3 |  4 |  2 | 6 |  6 | 4 |  1 | 4 | 5 |\n| 2022-08-15 08:00:00 |  1 |  7 |  3 |  4 |  4 |  8 |  8 | 1 |  6 | ⋯ |  5 | 2 |  2 |  3 | 2 | 13 | 0 |  5 | 3 | 5 |\n| 2022-08-15 14:00:00 |  1 |  4 |  4 |  4 | 11 |  2 |  7 | 0 |  8 | ⋯ |  0 | 1 |  2 |  3 | 2 | 12 | 1 |  3 | 2 | 3 |\n| 2022-08-15 20:00:00 |  3 |  4 |  3 |  1 |  7 |  7 |  9 | 1 |  1 | ⋯ |  5 | 0 |  0 |  3 | 1 | 14 | 2 |  2 | 2 | 1 |\n| 2022-08-16 08:00:00 |  5 |  7 |  2 |  6 |  7 |  8 |  1 | 6 | 17 | ⋯ |  7 | 4 |  5 |  5 | 6 |  6 | 3 |  5 | 3 | 3 |\n| 2022-08-16 14:00:00 |  1 |  4 |  4 |  7 |  8 |  5 |  2 | 2 | 23 | ⋯ |  4 | 5 |  4 |  5 | 4 |  9 | 2 |  3 | 3 | 3 |\n| 2022-08-16 20:00:00 |  5 |  4 |  8 | 11 |  2 | 10 |  1 | 6 | 20 | ⋯ |  3 | 7 |  1 |  1 | 6 | 15 | 2 |  6 | 5 | 0 |\n| 2022-08-17 08:00:00 |  6 |  2 |  6 |  9 |  4 |  6 |  1 | 5 | 22 | ⋯ |  4 | 7 | 12 |  3 | 6 | 15 | 1 |  6 | 4 | 4 |\n| 2022-08-17 14:00:00 |  5 |  4 |  5 |  6 |  2 |  5 |  1 | 5 | 20 | ⋯ |  0 | 7 | 14 |  3 | 3 | 15 | 1 |  5 | 6 | 5 |\n| 2022-08-17 20:00:00 |  4 |  5 |  2 |  2 |  7 |  1 |  0 | 2 |  2 | ⋯ |  1 | 0 |  6 |  2 | 2 |  6 | 0 |  4 | 0 | 0 |\n| 2022-08-18 08:00:00 |  3 |  2 |  0 |  0 |  6 |  2 |  0 | 0 |  5 | ⋯ |  0 | 1 |  0 |  8 | 0 | 10 | 0 |  2 | 3 | 1 |\n| 2022-08-18 14:00:00 |  2 |  5 |  4 |  0 |  9 |  1 |  4 | 5 |  6 | ⋯ |  5 | 0 |  1 |  2 | 2 | 11 | 2 |  3 | 1 | 7 |\n| 2022-08-18 20:00:00 | 10 |  8 |  1 |  0 | 13 |  4 |  1 | 7 |  1 | ⋯ |  4 | 6 |  4 |  6 | 1 | 13 | 4 |  6 | 5 | 4 |\n| 2022-08-19 08:00:00 |  8 |  8 |  0 |  9 | 11 |  4 |  1 | 4 |  4 | ⋯ |  5 | 3 |  5 |  5 | 0 | 11 | 3 |  5 | 6 | 3 |\n| 2022-08-19 14:00:00 |  5 |  9 |  3 |  7 |  3 |  2 |  2 | 3 |  7 | ⋯ |  1 | 3 |  8 |  4 | 4 | 10 | 4 |  7 | 6 | 1 |\n| 2022-08-19 20:00:00 | 14 |  3 |  5 |  0 |  0 |  2 |  3 | 6 |  1 | ⋯ |  2 | 4 |  2 |  7 | 5 | 10 | 2 |  6 | 8 | 0 |\n| 2022-08-22 08:00:00 |  9 |  4 |  2 |  7 |  6 |  3 |  5 | 4 |  4 | ⋯ |  4 | 3 |  4 |  4 | 5 | 12 | 1 |  2 | 3 | 1 |\n| 2022-08-22 14:00:00 |  5 |  4 |  5 |  1 |  7 |  1 |  5 | 3 | 10 | ⋯ |  0 | 1 |  5 |  3 | 3 | 11 | 2 |  0 | 2 | 1 |\n| 2022-08-22 20:00:00 |  8 |  3 |  1 |  4 | 10 | 10 |  3 | 3 |  2 | ⋯ |  0 | 3 |  4 |  2 | 0 | 15 | 1 |  2 | 0 | 0 |\n| 2022-08-23 08:00:00 |  9 |  3 |  1 |  6 |  2 |  4 |  2 | 3 |  5 | ⋯ |  6 | 0 |  3 |  5 | 4 |  8 | 2 |  2 | 4 | 4 |\n| 2022-08-23 14:00:00 |  1 |  6 |  0 |  2 |  5 |  0 |  4 | 2 |  6 | ⋯ |  3 | 7 |  5 |  4 | 0 |  7 | 2 |  2 | 0 | 0 |\n| 2022-08-23 20:00:00 | 10 |  0 |  1 |  1 | 10 |  7 |  1 | 2 |  9 | ⋯ |  4 | 3 |  1 |  4 | 2 |  9 | 5 |  1 | 1 | 0 |\n| 2022-08-24 08:00:00 |  1 |  4 |  3 |  2 |  1 |  6 |  3 | 3 |  5 | ⋯ |  5 | 3 |  0 |  6 | 4 |  4 | 2 |  2 | 2 | 0 |\n| 2022-08-24 14:00:00 |  3 |  4 |  6 |  2 |  1 |  6 |  0 | 4 |  7 | ⋯ |  4 | 1 |  2 |  9 | 1 |  3 | 2 |  1 | 3 | 1 |\n| 2022-08-24 20:00:00 |  8 |  3 |  1 |  0 |  3 |  3 |  1 | 0 |  3 | ⋯ |  4 | 1 |  0 |  5 | 2 | 10 | 3 |  1 | 7 | 0 |\n| 2022-08-25 08:00:00 |  3 |  3 |  1 |  2 |  4 |  2 |  2 | 1 |  3 | ⋯ |  5 | 2 |  2 |  8 | 2 |  8 | 0 |  7 | 6 | 0 |\n| 2022-08-25 14:00:00 |  0 |  5 |  3 |  5 |  4 |  2 |  0 | 1 |  4 | ⋯ |  3 | 2 |  2 |  7 | 5 |  7 | 0 |  5 | 8 | 2 |\n| 2022-08-25 20:00:00 |  9 |  8 |  5 |  0 |  6 |  4 |  7 | 3 |  2 | ⋯ |  5 | 6 |  1 |  3 | 5 |  4 | 4 |  3 | 8 | 3 |\n| 2022-08-26 08:00:00 | 14 |  7 |  3 |  0 |  6 |  5 |  4 | 0 |  1 | ⋯ |  4 | 2 |  1 |  3 | 6 |  3 | 0 |  3 | 5 | 2 |\n| 2022-08-26 14:00:00 |  5 |  5 |  5 |  1 |  1 |  1 |  0 | 1 |  4 | ⋯ |  3 | 2 |  1 |  4 | 0 | 17 | 4 |  0 | 0 | 3 |\n| 2022-08-26 20:00:00 |  5 |  4 |  2 |  0 | 11 |  6 |  4 | 4 |  4 | ⋯ |  6 | 0 |  3 |  2 | 3 | 11 | 5 |  0 | 5 | 1 |\n\n",
            "text/latex": "A data.frame: 60 × 21\n\\begin{tabular}{lllllllllllllllllllll}\n dias & inventario\\_est3 & inventario\\_est6 & inventario\\_est10 & inventario\\_est13 & inventario\\_est19 & inventario\\_est23 & inventario\\_est25 & inventario\\_est26 & inventario\\_est27 & ⋯ & inventario\\_est32 & inventario\\_est33 & inventario\\_est36 & inventario\\_est46 & inventario\\_est47 & inventario\\_est53 & inventario\\_est57 & inventario\\_est58 & inventario\\_est59 & inventario\\_est60\\\\\n <dttm> & <dbl> & <dbl> & <dbl> & <dbl> & <dbl> & <dbl> & <dbl> & <dbl> & <dbl> & ⋯ & <dbl> & <dbl> & <dbl> & <dbl> & <dbl> & <dbl> & <dbl> & <dbl> & <dbl> & <dbl>\\\\\n\\hline\n\t 2022-08-01 08:00:00 &  5 &  6 & 12 &  6 &  6 & 10 &  6 & 1 &  8 & ⋯ &  7 & 6 & 15 &  5 & 7 &  9 & 2 &  6 & 4 & 3\\\\\n\t 2022-08-01 14:00:00 &  1 &  7 & 12 &  3 & 13 &  8 &  6 & 0 & 12 & ⋯ &  6 & 8 & 11 &  4 & 8 &  8 & 2 &  6 & 4 & 4\\\\\n\t 2022-08-01 20:00:00 &  9 &  9 &  3 &  5 &  4 &  8 & 11 & 1 &  6 & ⋯ &  4 & 5 &  4 &  9 & 7 &  6 & 2 &  3 & 8 & 3\\\\\n\t 2022-08-02 08:00:00 &  9 & 10 &  4 &  8 &  4 &  7 &  6 & 2 & 13 & ⋯ &  5 & 3 &  9 &  3 & 5 &  8 & 2 &  6 & 8 & 3\\\\\n\t 2022-08-02 14:00:00 &  0 &  1 &  1 &  2 & 13 &  1 &  3 & 1 &  6 & ⋯ &  6 & 0 &  5 & 11 & 5 & 11 & 1 &  2 & 5 & 3\\\\\n\t 2022-08-02 20:00:00 &  9 &  6 &  5 &  3 &  4 &  8 &  9 & 5 &  3 & ⋯ & 10 & 0 &  4 &  3 & 5 &  9 & 4 &  7 & 8 & 1\\\\\n\t 2022-08-03 08:00:00 &  9 &  6 &  3 &  7 &  4 &  7 &  7 & 7 &  5 & ⋯ & 11 & 0 &  4 &  3 & 2 & 13 & 4 &  6 & 4 & 2\\\\\n\t 2022-08-03 14:00:00 &  1 &  7 &  1 &  0 & 10 &  5 &  0 & 6 &  3 & ⋯ &  6 & 2 &  6 &  6 & 5 &  6 & 1 &  2 & 2 & 1\\\\\n\t 2022-08-03 20:00:00 & 11 &  5 &  4 &  2 &  8 &  8 & 11 & 5 &  8 & ⋯ &  4 & 3 &  2 & 10 & 6 &  6 & 5 &  2 & 5 & 4\\\\\n\t 2022-08-04 08:00:00 & 10 &  7 &  0 &  2 &  6 &  5 &  9 & 5 &  2 & ⋯ &  7 & 0 &  3 &  4 & 1 &  8 & 7 &  3 & 6 & 5\\\\\n\t 2022-08-04 14:00:00 &  0 &  7 &  3 &  1 &  7 &  1 &  0 & 1 & 10 & ⋯ &  1 & 1 &  0 &  8 & 0 &  8 & 0 &  3 & 0 & 1\\\\\n\t 2022-08-04 20:00:00 & 12 &  8 &  8 &  2 &  7 &  8 &  7 & 3 &  2 & ⋯ &  7 & 0 &  0 &  5 & 9 &  6 & 4 &  1 & 3 & 2\\\\\n\t 2022-08-05 08:00:00 &  7 &  7 &  3 &  5 &  6 &  6 &  6 & 5 &  7 & ⋯ & 10 & 3 &  6 &  7 & 4 & 12 & 3 &  5 & 4 & 3\\\\\n\t 2022-08-05 14:00:00 &  0 &  5 &  0 &  8 &  7 &  3 &  0 & 1 &  4 & ⋯ &  5 & 2 &  5 &  6 & 8 & 12 & 1 & 11 & 2 & 1\\\\\n\t 2022-08-05 20:00:00 &  6 &  6 &  7 &  9 &  5 &  7 &  5 & 4 &  5 & ⋯ &  4 & 5 &  7 &  4 & 6 & 13 & 6 &  6 & 2 & 3\\\\\n\t 2022-08-08 08:00:00 &  5 &  8 &  5 &  5 &  9 & 10 &  4 & 5 & 10 & ⋯ &  6 & 2 &  6 &  8 & 5 &  9 & 0 &  6 & 2 & 3\\\\\n\t 2022-08-08 14:00:00 &  2 &  2 &  8 &  2 &  7 &  9 &  5 & 4 & 12 & ⋯ &  3 & 4 &  6 &  8 & 5 &  9 & 1 &  5 & 2 & 4\\\\\n\t 2022-08-08 20:00:00 &  4 & 10 &  5 &  4 &  6 &  3 &  5 & 2 &  1 & ⋯ &  2 & 1 &  1 &  8 & 8 &  2 & 0 &  6 & 4 & 0\\\\\n\t 2022-08-09 08:00:00 &  6 &  6 &  3 &  5 &  7 &  6 &  4 & 4 & 14 & ⋯ &  3 & 2 &  7 &  4 & 6 & 10 & 6 &  4 & 2 & 2\\\\\n\t 2022-08-09 14:00:00 &  2 &  8 &  2 &  7 &  5 &  6 &  6 & 1 &  6 & ⋯ &  1 & 3 &  9 &  6 & 7 &  8 & 7 &  4 & 4 & 1\\\\\n\t 2022-08-09 20:00:00 &  7 &  4 &  9 &  2 &  4 &  1 &  3 & 4 &  1 & ⋯ &  6 & 4 &  0 &  7 & 3 &  8 & 1 &  0 & 7 & 2\\\\\n\t 2022-08-10 08:00:00 &  3 &  7 &  6 &  0 &  5 &  4 &  1 & 0 & 14 & ⋯ &  4 & 4 &  1 &  8 & 2 &  5 & 1 &  2 & 2 & 0\\\\\n\t 2022-08-10 14:00:00 &  1 &  8 &  5 &  4 &  5 &  5 &  5 & 1 & 11 & ⋯ &  6 & 6 &  6 &  2 & 1 & 11 & 4 &  1 & 2 & 2\\\\\n\t 2022-08-10 20:00:00 &  5 &  7 &  1 &  0 &  7 &  5 &  7 & 4 &  5 & ⋯ &  2 & 8 &  4 &  1 & 6 &  7 & 6 &  4 & 1 & 1\\\\\n\t 2022-08-11 08:00:00 &  8 &  4 &  0 &  3 &  3 &  9 &  5 & 4 &  5 & ⋯ &  5 & 2 &  5 &  2 & 2 &  6 & 4 &  4 & 0 & 1\\\\\n\t 2022-08-11 14:00:00 &  3 &  2 &  2 &  0 &  3 &  7 &  5 & 2 &  3 & ⋯ &  2 & 4 &  5 &  2 & 2 &  5 & 3 &  6 & 3 & 1\\\\\n\t 2022-08-11 20:00:00 &  6 &  0 &  6 &  4 &  5 &  7 &  5 & 2 &  4 & ⋯ &  3 & 3 & 13 &  2 & 5 &  8 & 3 &  1 & 7 & 4\\\\\n\t 2022-08-12 08:00:00 &  8 &  2 &  2 &  6 &  4 &  6 &  4 & 1 &  5 & ⋯ &  6 & 1 & 14 &  5 & 2 &  8 & 3 &  2 & 8 & 1\\\\\n\t 2022-08-12 14:00:00 &  2 &  1 &  2 &  9 &  1 &  6 &  4 & 4 &  8 & ⋯ &  1 & 1 &  7 &  6 & 2 &  8 & 3 &  2 & 5 & 4\\\\\n\t 2022-08-12 20:00:00 &  6 &  4 & 10 &  7 &  8 &  5 &  4 & 5 &  7 & ⋯ &  4 & 3 &  4 &  2 & 6 &  6 & 4 &  1 & 4 & 5\\\\\n\t 2022-08-15 08:00:00 &  1 &  7 &  3 &  4 &  4 &  8 &  8 & 1 &  6 & ⋯ &  5 & 2 &  2 &  3 & 2 & 13 & 0 &  5 & 3 & 5\\\\\n\t 2022-08-15 14:00:00 &  1 &  4 &  4 &  4 & 11 &  2 &  7 & 0 &  8 & ⋯ &  0 & 1 &  2 &  3 & 2 & 12 & 1 &  3 & 2 & 3\\\\\n\t 2022-08-15 20:00:00 &  3 &  4 &  3 &  1 &  7 &  7 &  9 & 1 &  1 & ⋯ &  5 & 0 &  0 &  3 & 1 & 14 & 2 &  2 & 2 & 1\\\\\n\t 2022-08-16 08:00:00 &  5 &  7 &  2 &  6 &  7 &  8 &  1 & 6 & 17 & ⋯ &  7 & 4 &  5 &  5 & 6 &  6 & 3 &  5 & 3 & 3\\\\\n\t 2022-08-16 14:00:00 &  1 &  4 &  4 &  7 &  8 &  5 &  2 & 2 & 23 & ⋯ &  4 & 5 &  4 &  5 & 4 &  9 & 2 &  3 & 3 & 3\\\\\n\t 2022-08-16 20:00:00 &  5 &  4 &  8 & 11 &  2 & 10 &  1 & 6 & 20 & ⋯ &  3 & 7 &  1 &  1 & 6 & 15 & 2 &  6 & 5 & 0\\\\\n\t 2022-08-17 08:00:00 &  6 &  2 &  6 &  9 &  4 &  6 &  1 & 5 & 22 & ⋯ &  4 & 7 & 12 &  3 & 6 & 15 & 1 &  6 & 4 & 4\\\\\n\t 2022-08-17 14:00:00 &  5 &  4 &  5 &  6 &  2 &  5 &  1 & 5 & 20 & ⋯ &  0 & 7 & 14 &  3 & 3 & 15 & 1 &  5 & 6 & 5\\\\\n\t 2022-08-17 20:00:00 &  4 &  5 &  2 &  2 &  7 &  1 &  0 & 2 &  2 & ⋯ &  1 & 0 &  6 &  2 & 2 &  6 & 0 &  4 & 0 & 0\\\\\n\t 2022-08-18 08:00:00 &  3 &  2 &  0 &  0 &  6 &  2 &  0 & 0 &  5 & ⋯ &  0 & 1 &  0 &  8 & 0 & 10 & 0 &  2 & 3 & 1\\\\\n\t 2022-08-18 14:00:00 &  2 &  5 &  4 &  0 &  9 &  1 &  4 & 5 &  6 & ⋯ &  5 & 0 &  1 &  2 & 2 & 11 & 2 &  3 & 1 & 7\\\\\n\t 2022-08-18 20:00:00 & 10 &  8 &  1 &  0 & 13 &  4 &  1 & 7 &  1 & ⋯ &  4 & 6 &  4 &  6 & 1 & 13 & 4 &  6 & 5 & 4\\\\\n\t 2022-08-19 08:00:00 &  8 &  8 &  0 &  9 & 11 &  4 &  1 & 4 &  4 & ⋯ &  5 & 3 &  5 &  5 & 0 & 11 & 3 &  5 & 6 & 3\\\\\n\t 2022-08-19 14:00:00 &  5 &  9 &  3 &  7 &  3 &  2 &  2 & 3 &  7 & ⋯ &  1 & 3 &  8 &  4 & 4 & 10 & 4 &  7 & 6 & 1\\\\\n\t 2022-08-19 20:00:00 & 14 &  3 &  5 &  0 &  0 &  2 &  3 & 6 &  1 & ⋯ &  2 & 4 &  2 &  7 & 5 & 10 & 2 &  6 & 8 & 0\\\\\n\t 2022-08-22 08:00:00 &  9 &  4 &  2 &  7 &  6 &  3 &  5 & 4 &  4 & ⋯ &  4 & 3 &  4 &  4 & 5 & 12 & 1 &  2 & 3 & 1\\\\\n\t 2022-08-22 14:00:00 &  5 &  4 &  5 &  1 &  7 &  1 &  5 & 3 & 10 & ⋯ &  0 & 1 &  5 &  3 & 3 & 11 & 2 &  0 & 2 & 1\\\\\n\t 2022-08-22 20:00:00 &  8 &  3 &  1 &  4 & 10 & 10 &  3 & 3 &  2 & ⋯ &  0 & 3 &  4 &  2 & 0 & 15 & 1 &  2 & 0 & 0\\\\\n\t 2022-08-23 08:00:00 &  9 &  3 &  1 &  6 &  2 &  4 &  2 & 3 &  5 & ⋯ &  6 & 0 &  3 &  5 & 4 &  8 & 2 &  2 & 4 & 4\\\\\n\t 2022-08-23 14:00:00 &  1 &  6 &  0 &  2 &  5 &  0 &  4 & 2 &  6 & ⋯ &  3 & 7 &  5 &  4 & 0 &  7 & 2 &  2 & 0 & 0\\\\\n\t 2022-08-23 20:00:00 & 10 &  0 &  1 &  1 & 10 &  7 &  1 & 2 &  9 & ⋯ &  4 & 3 &  1 &  4 & 2 &  9 & 5 &  1 & 1 & 0\\\\\n\t 2022-08-24 08:00:00 &  1 &  4 &  3 &  2 &  1 &  6 &  3 & 3 &  5 & ⋯ &  5 & 3 &  0 &  6 & 4 &  4 & 2 &  2 & 2 & 0\\\\\n\t 2022-08-24 14:00:00 &  3 &  4 &  6 &  2 &  1 &  6 &  0 & 4 &  7 & ⋯ &  4 & 1 &  2 &  9 & 1 &  3 & 2 &  1 & 3 & 1\\\\\n\t 2022-08-24 20:00:00 &  8 &  3 &  1 &  0 &  3 &  3 &  1 & 0 &  3 & ⋯ &  4 & 1 &  0 &  5 & 2 & 10 & 3 &  1 & 7 & 0\\\\\n\t 2022-08-25 08:00:00 &  3 &  3 &  1 &  2 &  4 &  2 &  2 & 1 &  3 & ⋯ &  5 & 2 &  2 &  8 & 2 &  8 & 0 &  7 & 6 & 0\\\\\n\t 2022-08-25 14:00:00 &  0 &  5 &  3 &  5 &  4 &  2 &  0 & 1 &  4 & ⋯ &  3 & 2 &  2 &  7 & 5 &  7 & 0 &  5 & 8 & 2\\\\\n\t 2022-08-25 20:00:00 &  9 &  8 &  5 &  0 &  6 &  4 &  7 & 3 &  2 & ⋯ &  5 & 6 &  1 &  3 & 5 &  4 & 4 &  3 & 8 & 3\\\\\n\t 2022-08-26 08:00:00 & 14 &  7 &  3 &  0 &  6 &  5 &  4 & 0 &  1 & ⋯ &  4 & 2 &  1 &  3 & 6 &  3 & 0 &  3 & 5 & 2\\\\\n\t 2022-08-26 14:00:00 &  5 &  5 &  5 &  1 &  1 &  1 &  0 & 1 &  4 & ⋯ &  3 & 2 &  1 &  4 & 0 & 17 & 4 &  0 & 0 & 3\\\\\n\t 2022-08-26 20:00:00 &  5 &  4 &  2 &  0 & 11 &  6 &  4 & 4 &  4 & ⋯ &  6 & 0 &  3 &  2 & 3 & 11 & 5 &  0 & 5 & 1\\\\\n\\end{tabular}\n",
            "text/plain": [
              "   dias                inventario_est3 inventario_est6 inventario_est10\n",
              "1  2022-08-01 08:00:00  5               6              12              \n",
              "2  2022-08-01 14:00:00  1               7              12              \n",
              "3  2022-08-01 20:00:00  9               9               3              \n",
              "4  2022-08-02 08:00:00  9              10               4              \n",
              "5  2022-08-02 14:00:00  0               1               1              \n",
              "6  2022-08-02 20:00:00  9               6               5              \n",
              "7  2022-08-03 08:00:00  9               6               3              \n",
              "8  2022-08-03 14:00:00  1               7               1              \n",
              "9  2022-08-03 20:00:00 11               5               4              \n",
              "10 2022-08-04 08:00:00 10               7               0              \n",
              "11 2022-08-04 14:00:00  0               7               3              \n",
              "12 2022-08-04 20:00:00 12               8               8              \n",
              "13 2022-08-05 08:00:00  7               7               3              \n",
              "14 2022-08-05 14:00:00  0               5               0              \n",
              "15 2022-08-05 20:00:00  6               6               7              \n",
              "16 2022-08-08 08:00:00  5               8               5              \n",
              "17 2022-08-08 14:00:00  2               2               8              \n",
              "18 2022-08-08 20:00:00  4              10               5              \n",
              "19 2022-08-09 08:00:00  6               6               3              \n",
              "20 2022-08-09 14:00:00  2               8               2              \n",
              "21 2022-08-09 20:00:00  7               4               9              \n",
              "22 2022-08-10 08:00:00  3               7               6              \n",
              "23 2022-08-10 14:00:00  1               8               5              \n",
              "24 2022-08-10 20:00:00  5               7               1              \n",
              "25 2022-08-11 08:00:00  8               4               0              \n",
              "26 2022-08-11 14:00:00  3               2               2              \n",
              "27 2022-08-11 20:00:00  6               0               6              \n",
              "28 2022-08-12 08:00:00  8               2               2              \n",
              "29 2022-08-12 14:00:00  2               1               2              \n",
              "30 2022-08-12 20:00:00  6               4              10              \n",
              "31 2022-08-15 08:00:00  1               7               3              \n",
              "32 2022-08-15 14:00:00  1               4               4              \n",
              "33 2022-08-15 20:00:00  3               4               3              \n",
              "34 2022-08-16 08:00:00  5               7               2              \n",
              "35 2022-08-16 14:00:00  1               4               4              \n",
              "36 2022-08-16 20:00:00  5               4               8              \n",
              "37 2022-08-17 08:00:00  6               2               6              \n",
              "38 2022-08-17 14:00:00  5               4               5              \n",
              "39 2022-08-17 20:00:00  4               5               2              \n",
              "40 2022-08-18 08:00:00  3               2               0              \n",
              "41 2022-08-18 14:00:00  2               5               4              \n",
              "42 2022-08-18 20:00:00 10               8               1              \n",
              "43 2022-08-19 08:00:00  8               8               0              \n",
              "44 2022-08-19 14:00:00  5               9               3              \n",
              "45 2022-08-19 20:00:00 14               3               5              \n",
              "46 2022-08-22 08:00:00  9               4               2              \n",
              "47 2022-08-22 14:00:00  5               4               5              \n",
              "48 2022-08-22 20:00:00  8               3               1              \n",
              "49 2022-08-23 08:00:00  9               3               1              \n",
              "50 2022-08-23 14:00:00  1               6               0              \n",
              "51 2022-08-23 20:00:00 10               0               1              \n",
              "52 2022-08-24 08:00:00  1               4               3              \n",
              "53 2022-08-24 14:00:00  3               4               6              \n",
              "54 2022-08-24 20:00:00  8               3               1              \n",
              "55 2022-08-25 08:00:00  3               3               1              \n",
              "56 2022-08-25 14:00:00  0               5               3              \n",
              "57 2022-08-25 20:00:00  9               8               5              \n",
              "58 2022-08-26 08:00:00 14               7               3              \n",
              "59 2022-08-26 14:00:00  5               5               5              \n",
              "60 2022-08-26 20:00:00  5               4               2              \n",
              "   inventario_est13 inventario_est19 inventario_est23 inventario_est25\n",
              "1   6                6               10                6              \n",
              "2   3               13                8                6              \n",
              "3   5                4                8               11              \n",
              "4   8                4                7                6              \n",
              "5   2               13                1                3              \n",
              "6   3                4                8                9              \n",
              "7   7                4                7                7              \n",
              "8   0               10                5                0              \n",
              "9   2                8                8               11              \n",
              "10  2                6                5                9              \n",
              "11  1                7                1                0              \n",
              "12  2                7                8                7              \n",
              "13  5                6                6                6              \n",
              "14  8                7                3                0              \n",
              "15  9                5                7                5              \n",
              "16  5                9               10                4              \n",
              "17  2                7                9                5              \n",
              "18  4                6                3                5              \n",
              "19  5                7                6                4              \n",
              "20  7                5                6                6              \n",
              "21  2                4                1                3              \n",
              "22  0                5                4                1              \n",
              "23  4                5                5                5              \n",
              "24  0                7                5                7              \n",
              "25  3                3                9                5              \n",
              "26  0                3                7                5              \n",
              "27  4                5                7                5              \n",
              "28  6                4                6                4              \n",
              "29  9                1                6                4              \n",
              "30  7                8                5                4              \n",
              "31  4                4                8                8              \n",
              "32  4               11                2                7              \n",
              "33  1                7                7                9              \n",
              "34  6                7                8                1              \n",
              "35  7                8                5                2              \n",
              "36 11                2               10                1              \n",
              "37  9                4                6                1              \n",
              "38  6                2                5                1              \n",
              "39  2                7                1                0              \n",
              "40  0                6                2                0              \n",
              "41  0                9                1                4              \n",
              "42  0               13                4                1              \n",
              "43  9               11                4                1              \n",
              "44  7                3                2                2              \n",
              "45  0                0                2                3              \n",
              "46  7                6                3                5              \n",
              "47  1                7                1                5              \n",
              "48  4               10               10                3              \n",
              "49  6                2                4                2              \n",
              "50  2                5                0                4              \n",
              "51  1               10                7                1              \n",
              "52  2                1                6                3              \n",
              "53  2                1                6                0              \n",
              "54  0                3                3                1              \n",
              "55  2                4                2                2              \n",
              "56  5                4                2                0              \n",
              "57  0                6                4                7              \n",
              "58  0                6                5                4              \n",
              "59  1                1                1                0              \n",
              "60  0               11                6                4              \n",
              "   inventario_est26 inventario_est27 ⋯ inventario_est32 inventario_est33\n",
              "1  1                 8               ⋯  7               6               \n",
              "2  0                12               ⋯  6               8               \n",
              "3  1                 6               ⋯  4               5               \n",
              "4  2                13               ⋯  5               3               \n",
              "5  1                 6               ⋯  6               0               \n",
              "6  5                 3               ⋯ 10               0               \n",
              "7  7                 5               ⋯ 11               0               \n",
              "8  6                 3               ⋯  6               2               \n",
              "9  5                 8               ⋯  4               3               \n",
              "10 5                 2               ⋯  7               0               \n",
              "11 1                10               ⋯  1               1               \n",
              "12 3                 2               ⋯  7               0               \n",
              "13 5                 7               ⋯ 10               3               \n",
              "14 1                 4               ⋯  5               2               \n",
              "15 4                 5               ⋯  4               5               \n",
              "16 5                10               ⋯  6               2               \n",
              "17 4                12               ⋯  3               4               \n",
              "18 2                 1               ⋯  2               1               \n",
              "19 4                14               ⋯  3               2               \n",
              "20 1                 6               ⋯  1               3               \n",
              "21 4                 1               ⋯  6               4               \n",
              "22 0                14               ⋯  4               4               \n",
              "23 1                11               ⋯  6               6               \n",
              "24 4                 5               ⋯  2               8               \n",
              "25 4                 5               ⋯  5               2               \n",
              "26 2                 3               ⋯  2               4               \n",
              "27 2                 4               ⋯  3               3               \n",
              "28 1                 5               ⋯  6               1               \n",
              "29 4                 8               ⋯  1               1               \n",
              "30 5                 7               ⋯  4               3               \n",
              "31 1                 6               ⋯  5               2               \n",
              "32 0                 8               ⋯  0               1               \n",
              "33 1                 1               ⋯  5               0               \n",
              "34 6                17               ⋯  7               4               \n",
              "35 2                23               ⋯  4               5               \n",
              "36 6                20               ⋯  3               7               \n",
              "37 5                22               ⋯  4               7               \n",
              "38 5                20               ⋯  0               7               \n",
              "39 2                 2               ⋯  1               0               \n",
              "40 0                 5               ⋯  0               1               \n",
              "41 5                 6               ⋯  5               0               \n",
              "42 7                 1               ⋯  4               6               \n",
              "43 4                 4               ⋯  5               3               \n",
              "44 3                 7               ⋯  1               3               \n",
              "45 6                 1               ⋯  2               4               \n",
              "46 4                 4               ⋯  4               3               \n",
              "47 3                10               ⋯  0               1               \n",
              "48 3                 2               ⋯  0               3               \n",
              "49 3                 5               ⋯  6               0               \n",
              "50 2                 6               ⋯  3               7               \n",
              "51 2                 9               ⋯  4               3               \n",
              "52 3                 5               ⋯  5               3               \n",
              "53 4                 7               ⋯  4               1               \n",
              "54 0                 3               ⋯  4               1               \n",
              "55 1                 3               ⋯  5               2               \n",
              "56 1                 4               ⋯  3               2               \n",
              "57 3                 2               ⋯  5               6               \n",
              "58 0                 1               ⋯  4               2               \n",
              "59 1                 4               ⋯  3               2               \n",
              "60 4                 4               ⋯  6               0               \n",
              "   inventario_est36 inventario_est46 inventario_est47 inventario_est53\n",
              "1  15                5               7                 9              \n",
              "2  11                4               8                 8              \n",
              "3   4                9               7                 6              \n",
              "4   9                3               5                 8              \n",
              "5   5               11               5                11              \n",
              "6   4                3               5                 9              \n",
              "7   4                3               2                13              \n",
              "8   6                6               5                 6              \n",
              "9   2               10               6                 6              \n",
              "10  3                4               1                 8              \n",
              "11  0                8               0                 8              \n",
              "12  0                5               9                 6              \n",
              "13  6                7               4                12              \n",
              "14  5                6               8                12              \n",
              "15  7                4               6                13              \n",
              "16  6                8               5                 9              \n",
              "17  6                8               5                 9              \n",
              "18  1                8               8                 2              \n",
              "19  7                4               6                10              \n",
              "20  9                6               7                 8              \n",
              "21  0                7               3                 8              \n",
              "22  1                8               2                 5              \n",
              "23  6                2               1                11              \n",
              "24  4                1               6                 7              \n",
              "25  5                2               2                 6              \n",
              "26  5                2               2                 5              \n",
              "27 13                2               5                 8              \n",
              "28 14                5               2                 8              \n",
              "29  7                6               2                 8              \n",
              "30  4                2               6                 6              \n",
              "31  2                3               2                13              \n",
              "32  2                3               2                12              \n",
              "33  0                3               1                14              \n",
              "34  5                5               6                 6              \n",
              "35  4                5               4                 9              \n",
              "36  1                1               6                15              \n",
              "37 12                3               6                15              \n",
              "38 14                3               3                15              \n",
              "39  6                2               2                 6              \n",
              "40  0                8               0                10              \n",
              "41  1                2               2                11              \n",
              "42  4                6               1                13              \n",
              "43  5                5               0                11              \n",
              "44  8                4               4                10              \n",
              "45  2                7               5                10              \n",
              "46  4                4               5                12              \n",
              "47  5                3               3                11              \n",
              "48  4                2               0                15              \n",
              "49  3                5               4                 8              \n",
              "50  5                4               0                 7              \n",
              "51  1                4               2                 9              \n",
              "52  0                6               4                 4              \n",
              "53  2                9               1                 3              \n",
              "54  0                5               2                10              \n",
              "55  2                8               2                 8              \n",
              "56  2                7               5                 7              \n",
              "57  1                3               5                 4              \n",
              "58  1                3               6                 3              \n",
              "59  1                4               0                17              \n",
              "60  3                2               3                11              \n",
              "   inventario_est57 inventario_est58 inventario_est59 inventario_est60\n",
              "1  2                 6               4                3               \n",
              "2  2                 6               4                4               \n",
              "3  2                 3               8                3               \n",
              "4  2                 6               8                3               \n",
              "5  1                 2               5                3               \n",
              "6  4                 7               8                1               \n",
              "7  4                 6               4                2               \n",
              "8  1                 2               2                1               \n",
              "9  5                 2               5                4               \n",
              "10 7                 3               6                5               \n",
              "11 0                 3               0                1               \n",
              "12 4                 1               3                2               \n",
              "13 3                 5               4                3               \n",
              "14 1                11               2                1               \n",
              "15 6                 6               2                3               \n",
              "16 0                 6               2                3               \n",
              "17 1                 5               2                4               \n",
              "18 0                 6               4                0               \n",
              "19 6                 4               2                2               \n",
              "20 7                 4               4                1               \n",
              "21 1                 0               7                2               \n",
              "22 1                 2               2                0               \n",
              "23 4                 1               2                2               \n",
              "24 6                 4               1                1               \n",
              "25 4                 4               0                1               \n",
              "26 3                 6               3                1               \n",
              "27 3                 1               7                4               \n",
              "28 3                 2               8                1               \n",
              "29 3                 2               5                4               \n",
              "30 4                 1               4                5               \n",
              "31 0                 5               3                5               \n",
              "32 1                 3               2                3               \n",
              "33 2                 2               2                1               \n",
              "34 3                 5               3                3               \n",
              "35 2                 3               3                3               \n",
              "36 2                 6               5                0               \n",
              "37 1                 6               4                4               \n",
              "38 1                 5               6                5               \n",
              "39 0                 4               0                0               \n",
              "40 0                 2               3                1               \n",
              "41 2                 3               1                7               \n",
              "42 4                 6               5                4               \n",
              "43 3                 5               6                3               \n",
              "44 4                 7               6                1               \n",
              "45 2                 6               8                0               \n",
              "46 1                 2               3                1               \n",
              "47 2                 0               2                1               \n",
              "48 1                 2               0                0               \n",
              "49 2                 2               4                4               \n",
              "50 2                 2               0                0               \n",
              "51 5                 1               1                0               \n",
              "52 2                 2               2                0               \n",
              "53 2                 1               3                1               \n",
              "54 3                 1               7                0               \n",
              "55 0                 7               6                0               \n",
              "56 0                 5               8                2               \n",
              "57 4                 3               8                3               \n",
              "58 0                 3               5                2               \n",
              "59 4                 0               0                3               \n",
              "60 5                 0               5                1               "
            ]
          },
          "metadata": {}
        }
      ]
    },
    {
      "cell_type": "code",
      "source": [
        "install.packages(\"xlsx\")\n",
        "library(xlsx)\n",
        "write.xlsx(mes,\"Datos_mes.xlsx\")"
      ],
      "metadata": {
        "id": "dwF5ZsdGS5Yd"
      },
      "execution_count": null,
      "outputs": []
    },
    {
      "cell_type": "markdown",
      "source": [
        "Carga mensual de las 4 semanas siguientes con los inventarios correspondientes"
      ],
      "metadata": {
        "id": "b5RvFAl0kwrs"
      }
    },
    {
      "cell_type": "code",
      "source": [
        "semana5<-rbind(lunes_sem5,martes_sem5,miercoles_sem5,jueves_sem5,viernes_sem5)\n",
        "semana6<-rbind(lunes_sem6,martes_sem6,miercoles_sem6,jueves_sem6,viernes_sem6)\n",
        "semana7<-rbind(lunes_sem7,martes_sem7,miercoles_sem7,jueves_sem7,viernes_sem7)\n",
        "semana8<-rbind(lunes_sem8,martes_sem8,miercoles_sem8,jueves_sem8,viernes_sem8)\n",
        "\n",
        "mes_sig<-rbind(semana5,semana6,semana7,semana8)\n",
        "mes_sig<-data.frame(mes_sig,inventario_est3,inventario_est6,inventario_est10,inventario_est13,inventario_est19,inventario_est23,inventario_est25,inventario_est26,inventario_est27,inventario_est28,inventario_est32,inventario_est33,inventario_est36,inventario_est46,inventario_est47,inventario_est53,inventario_est57,inventario_est58,inventario_est59,inventario_est60)\n",
        "mes_sig"
      ],
      "metadata": {
        "colab": {
          "base_uri": "https://localhost:8080/",
          "height": 1000
        },
        "id": "Wai40-fYZcxf",
        "outputId": "b1d12f1f-ca4f-4770-cb0d-3dfd2bc7b166"
      },
      "execution_count": null,
      "outputs": [
        {
          "output_type": "display_data",
          "data": {
            "text/html": [
              "<table class=\"dataframe\">\n",
              "<caption>A data.frame: 60 × 21</caption>\n",
              "<thead>\n",
              "\t<tr><th scope=col>dias</th><th scope=col>inventario_est3</th><th scope=col>inventario_est6</th><th scope=col>inventario_est10</th><th scope=col>inventario_est13</th><th scope=col>inventario_est19</th><th scope=col>inventario_est23</th><th scope=col>inventario_est25</th><th scope=col>inventario_est26</th><th scope=col>inventario_est27</th><th scope=col>⋯</th><th scope=col>inventario_est32</th><th scope=col>inventario_est33</th><th scope=col>inventario_est36</th><th scope=col>inventario_est46</th><th scope=col>inventario_est47</th><th scope=col>inventario_est53</th><th scope=col>inventario_est57</th><th scope=col>inventario_est58</th><th scope=col>inventario_est59</th><th scope=col>inventario_est60</th></tr>\n",
              "\t<tr><th scope=col>&lt;dttm&gt;</th><th scope=col>&lt;dbl&gt;</th><th scope=col>&lt;dbl&gt;</th><th scope=col>&lt;dbl&gt;</th><th scope=col>&lt;dbl&gt;</th><th scope=col>&lt;dbl&gt;</th><th scope=col>&lt;dbl&gt;</th><th scope=col>&lt;dbl&gt;</th><th scope=col>&lt;dbl&gt;</th><th scope=col>&lt;dbl&gt;</th><th scope=col>⋯</th><th scope=col>&lt;dbl&gt;</th><th scope=col>&lt;dbl&gt;</th><th scope=col>&lt;dbl&gt;</th><th scope=col>&lt;dbl&gt;</th><th scope=col>&lt;dbl&gt;</th><th scope=col>&lt;dbl&gt;</th><th scope=col>&lt;dbl&gt;</th><th scope=col>&lt;dbl&gt;</th><th scope=col>&lt;dbl&gt;</th><th scope=col>&lt;dbl&gt;</th></tr>\n",
              "</thead>\n",
              "<tbody>\n",
              "\t<tr><td>2022-09-05 08:00:00</td><td> 5</td><td> 6</td><td>12</td><td> 6</td><td> 6</td><td>10</td><td> 6</td><td>1</td><td> 8</td><td>⋯</td><td> 7</td><td>6</td><td>15</td><td> 5</td><td>7</td><td> 9</td><td>2</td><td> 6</td><td>4</td><td>3</td></tr>\n",
              "\t<tr><td>2022-09-05 14:00:00</td><td> 1</td><td> 7</td><td>12</td><td> 3</td><td>13</td><td> 8</td><td> 6</td><td>0</td><td>12</td><td>⋯</td><td> 6</td><td>8</td><td>11</td><td> 4</td><td>8</td><td> 8</td><td>2</td><td> 6</td><td>4</td><td>4</td></tr>\n",
              "\t<tr><td>2022-09-05 20:00:00</td><td> 9</td><td> 9</td><td> 3</td><td> 5</td><td> 4</td><td> 8</td><td>11</td><td>1</td><td> 6</td><td>⋯</td><td> 4</td><td>5</td><td> 4</td><td> 9</td><td>7</td><td> 6</td><td>2</td><td> 3</td><td>8</td><td>3</td></tr>\n",
              "\t<tr><td>2022-09-06 08:00:00</td><td> 9</td><td>10</td><td> 4</td><td> 8</td><td> 4</td><td> 7</td><td> 6</td><td>2</td><td>13</td><td>⋯</td><td> 5</td><td>3</td><td> 9</td><td> 3</td><td>5</td><td> 8</td><td>2</td><td> 6</td><td>8</td><td>3</td></tr>\n",
              "\t<tr><td>2022-09-06 14:00:00</td><td> 0</td><td> 1</td><td> 1</td><td> 2</td><td>13</td><td> 1</td><td> 3</td><td>1</td><td> 6</td><td>⋯</td><td> 6</td><td>0</td><td> 5</td><td>11</td><td>5</td><td>11</td><td>1</td><td> 2</td><td>5</td><td>3</td></tr>\n",
              "\t<tr><td>2022-09-06 20:00:00</td><td> 9</td><td> 6</td><td> 5</td><td> 3</td><td> 4</td><td> 8</td><td> 9</td><td>5</td><td> 3</td><td>⋯</td><td>10</td><td>0</td><td> 4</td><td> 3</td><td>5</td><td> 9</td><td>4</td><td> 7</td><td>8</td><td>1</td></tr>\n",
              "\t<tr><td>2022-09-07 08:00:00</td><td> 9</td><td> 6</td><td> 3</td><td> 7</td><td> 4</td><td> 7</td><td> 7</td><td>7</td><td> 5</td><td>⋯</td><td>11</td><td>0</td><td> 4</td><td> 3</td><td>2</td><td>13</td><td>4</td><td> 6</td><td>4</td><td>2</td></tr>\n",
              "\t<tr><td>2022-09-07 14:00:00</td><td> 1</td><td> 7</td><td> 1</td><td> 0</td><td>10</td><td> 5</td><td> 0</td><td>6</td><td> 3</td><td>⋯</td><td> 6</td><td>2</td><td> 6</td><td> 6</td><td>5</td><td> 6</td><td>1</td><td> 2</td><td>2</td><td>1</td></tr>\n",
              "\t<tr><td>2022-09-07 20:00:00</td><td>11</td><td> 5</td><td> 4</td><td> 2</td><td> 8</td><td> 8</td><td>11</td><td>5</td><td> 8</td><td>⋯</td><td> 4</td><td>3</td><td> 2</td><td>10</td><td>6</td><td> 6</td><td>5</td><td> 2</td><td>5</td><td>4</td></tr>\n",
              "\t<tr><td>2022-09-08 08:00:00</td><td>10</td><td> 7</td><td> 0</td><td> 2</td><td> 6</td><td> 5</td><td> 9</td><td>5</td><td> 2</td><td>⋯</td><td> 7</td><td>0</td><td> 3</td><td> 4</td><td>1</td><td> 8</td><td>7</td><td> 3</td><td>6</td><td>5</td></tr>\n",
              "\t<tr><td>2022-09-08 14:00:00</td><td> 0</td><td> 7</td><td> 3</td><td> 1</td><td> 7</td><td> 1</td><td> 0</td><td>1</td><td>10</td><td>⋯</td><td> 1</td><td>1</td><td> 0</td><td> 8</td><td>0</td><td> 8</td><td>0</td><td> 3</td><td>0</td><td>1</td></tr>\n",
              "\t<tr><td>2022-09-08 20:00:00</td><td>12</td><td> 8</td><td> 8</td><td> 2</td><td> 7</td><td> 8</td><td> 7</td><td>3</td><td> 2</td><td>⋯</td><td> 7</td><td>0</td><td> 0</td><td> 5</td><td>9</td><td> 6</td><td>4</td><td> 1</td><td>3</td><td>2</td></tr>\n",
              "\t<tr><td>2022-09-09 08:00:00</td><td> 7</td><td> 7</td><td> 3</td><td> 5</td><td> 6</td><td> 6</td><td> 6</td><td>5</td><td> 7</td><td>⋯</td><td>10</td><td>3</td><td> 6</td><td> 7</td><td>4</td><td>12</td><td>3</td><td> 5</td><td>4</td><td>3</td></tr>\n",
              "\t<tr><td>2022-09-09 14:00:00</td><td> 0</td><td> 5</td><td> 0</td><td> 8</td><td> 7</td><td> 3</td><td> 0</td><td>1</td><td> 4</td><td>⋯</td><td> 5</td><td>2</td><td> 5</td><td> 6</td><td>8</td><td>12</td><td>1</td><td>11</td><td>2</td><td>1</td></tr>\n",
              "\t<tr><td>2022-09-09 20:00:00</td><td> 6</td><td> 6</td><td> 7</td><td> 9</td><td> 5</td><td> 7</td><td> 5</td><td>4</td><td> 5</td><td>⋯</td><td> 4</td><td>5</td><td> 7</td><td> 4</td><td>6</td><td>13</td><td>6</td><td> 6</td><td>2</td><td>3</td></tr>\n",
              "\t<tr><td>2022-09-12 08:00:00</td><td> 5</td><td> 8</td><td> 5</td><td> 5</td><td> 9</td><td>10</td><td> 4</td><td>5</td><td>10</td><td>⋯</td><td> 6</td><td>2</td><td> 6</td><td> 8</td><td>5</td><td> 9</td><td>0</td><td> 6</td><td>2</td><td>3</td></tr>\n",
              "\t<tr><td>2022-09-12 14:00:00</td><td> 2</td><td> 2</td><td> 8</td><td> 2</td><td> 7</td><td> 9</td><td> 5</td><td>4</td><td>12</td><td>⋯</td><td> 3</td><td>4</td><td> 6</td><td> 8</td><td>5</td><td> 9</td><td>1</td><td> 5</td><td>2</td><td>4</td></tr>\n",
              "\t<tr><td>2022-09-12 20:00:00</td><td> 4</td><td>10</td><td> 5</td><td> 4</td><td> 6</td><td> 3</td><td> 5</td><td>2</td><td> 1</td><td>⋯</td><td> 2</td><td>1</td><td> 1</td><td> 8</td><td>8</td><td> 2</td><td>0</td><td> 6</td><td>4</td><td>0</td></tr>\n",
              "\t<tr><td>2022-09-13 08:00:00</td><td> 6</td><td> 6</td><td> 3</td><td> 5</td><td> 7</td><td> 6</td><td> 4</td><td>4</td><td>14</td><td>⋯</td><td> 3</td><td>2</td><td> 7</td><td> 4</td><td>6</td><td>10</td><td>6</td><td> 4</td><td>2</td><td>2</td></tr>\n",
              "\t<tr><td>2022-09-13 14:00:00</td><td> 2</td><td> 8</td><td> 2</td><td> 7</td><td> 5</td><td> 6</td><td> 6</td><td>1</td><td> 6</td><td>⋯</td><td> 1</td><td>3</td><td> 9</td><td> 6</td><td>7</td><td> 8</td><td>7</td><td> 4</td><td>4</td><td>1</td></tr>\n",
              "\t<tr><td>2022-09-13 20:00:00</td><td> 7</td><td> 4</td><td> 9</td><td> 2</td><td> 4</td><td> 1</td><td> 3</td><td>4</td><td> 1</td><td>⋯</td><td> 6</td><td>4</td><td> 0</td><td> 7</td><td>3</td><td> 8</td><td>1</td><td> 0</td><td>7</td><td>2</td></tr>\n",
              "\t<tr><td>2022-09-14 08:00:00</td><td> 3</td><td> 7</td><td> 6</td><td> 0</td><td> 5</td><td> 4</td><td> 1</td><td>0</td><td>14</td><td>⋯</td><td> 4</td><td>4</td><td> 1</td><td> 8</td><td>2</td><td> 5</td><td>1</td><td> 2</td><td>2</td><td>0</td></tr>\n",
              "\t<tr><td>2022-09-14 14:00:00</td><td> 1</td><td> 8</td><td> 5</td><td> 4</td><td> 5</td><td> 5</td><td> 5</td><td>1</td><td>11</td><td>⋯</td><td> 6</td><td>6</td><td> 6</td><td> 2</td><td>1</td><td>11</td><td>4</td><td> 1</td><td>2</td><td>2</td></tr>\n",
              "\t<tr><td>2022-09-14 20:00:00</td><td> 5</td><td> 7</td><td> 1</td><td> 0</td><td> 7</td><td> 5</td><td> 7</td><td>4</td><td> 5</td><td>⋯</td><td> 2</td><td>8</td><td> 4</td><td> 1</td><td>6</td><td> 7</td><td>6</td><td> 4</td><td>1</td><td>1</td></tr>\n",
              "\t<tr><td>2022-09-15 08:00:00</td><td> 8</td><td> 4</td><td> 0</td><td> 3</td><td> 3</td><td> 9</td><td> 5</td><td>4</td><td> 5</td><td>⋯</td><td> 5</td><td>2</td><td> 5</td><td> 2</td><td>2</td><td> 6</td><td>4</td><td> 4</td><td>0</td><td>1</td></tr>\n",
              "\t<tr><td>2022-09-15 14:00:00</td><td> 3</td><td> 2</td><td> 2</td><td> 0</td><td> 3</td><td> 7</td><td> 5</td><td>2</td><td> 3</td><td>⋯</td><td> 2</td><td>4</td><td> 5</td><td> 2</td><td>2</td><td> 5</td><td>3</td><td> 6</td><td>3</td><td>1</td></tr>\n",
              "\t<tr><td>2022-09-15 20:00:00</td><td> 6</td><td> 0</td><td> 6</td><td> 4</td><td> 5</td><td> 7</td><td> 5</td><td>2</td><td> 4</td><td>⋯</td><td> 3</td><td>3</td><td>13</td><td> 2</td><td>5</td><td> 8</td><td>3</td><td> 1</td><td>7</td><td>4</td></tr>\n",
              "\t<tr><td>2022-09-16 08:00:00</td><td> 8</td><td> 2</td><td> 2</td><td> 6</td><td> 4</td><td> 6</td><td> 4</td><td>1</td><td> 5</td><td>⋯</td><td> 6</td><td>1</td><td>14</td><td> 5</td><td>2</td><td> 8</td><td>3</td><td> 2</td><td>8</td><td>1</td></tr>\n",
              "\t<tr><td>2022-09-16 14:00:00</td><td> 2</td><td> 1</td><td> 2</td><td> 9</td><td> 1</td><td> 6</td><td> 4</td><td>4</td><td> 8</td><td>⋯</td><td> 1</td><td>1</td><td> 7</td><td> 6</td><td>2</td><td> 8</td><td>3</td><td> 2</td><td>5</td><td>4</td></tr>\n",
              "\t<tr><td>2022-09-16 20:00:00</td><td> 6</td><td> 4</td><td>10</td><td> 7</td><td> 8</td><td> 5</td><td> 4</td><td>5</td><td> 7</td><td>⋯</td><td> 4</td><td>3</td><td> 4</td><td> 2</td><td>6</td><td> 6</td><td>4</td><td> 1</td><td>4</td><td>5</td></tr>\n",
              "\t<tr><td>2022-09-19 08:00:00</td><td> 1</td><td> 7</td><td> 3</td><td> 4</td><td> 4</td><td> 8</td><td> 8</td><td>1</td><td> 6</td><td>⋯</td><td> 5</td><td>2</td><td> 2</td><td> 3</td><td>2</td><td>13</td><td>0</td><td> 5</td><td>3</td><td>5</td></tr>\n",
              "\t<tr><td>2022-09-19 14:00:00</td><td> 1</td><td> 4</td><td> 4</td><td> 4</td><td>11</td><td> 2</td><td> 7</td><td>0</td><td> 8</td><td>⋯</td><td> 0</td><td>1</td><td> 2</td><td> 3</td><td>2</td><td>12</td><td>1</td><td> 3</td><td>2</td><td>3</td></tr>\n",
              "\t<tr><td>2022-09-19 20:00:00</td><td> 3</td><td> 4</td><td> 3</td><td> 1</td><td> 7</td><td> 7</td><td> 9</td><td>1</td><td> 1</td><td>⋯</td><td> 5</td><td>0</td><td> 0</td><td> 3</td><td>1</td><td>14</td><td>2</td><td> 2</td><td>2</td><td>1</td></tr>\n",
              "\t<tr><td>2022-09-20 08:00:00</td><td> 5</td><td> 7</td><td> 2</td><td> 6</td><td> 7</td><td> 8</td><td> 1</td><td>6</td><td>17</td><td>⋯</td><td> 7</td><td>4</td><td> 5</td><td> 5</td><td>6</td><td> 6</td><td>3</td><td> 5</td><td>3</td><td>3</td></tr>\n",
              "\t<tr><td>2022-09-20 14:00:00</td><td> 1</td><td> 4</td><td> 4</td><td> 7</td><td> 8</td><td> 5</td><td> 2</td><td>2</td><td>23</td><td>⋯</td><td> 4</td><td>5</td><td> 4</td><td> 5</td><td>4</td><td> 9</td><td>2</td><td> 3</td><td>3</td><td>3</td></tr>\n",
              "\t<tr><td>2022-09-20 20:00:00</td><td> 5</td><td> 4</td><td> 8</td><td>11</td><td> 2</td><td>10</td><td> 1</td><td>6</td><td>20</td><td>⋯</td><td> 3</td><td>7</td><td> 1</td><td> 1</td><td>6</td><td>15</td><td>2</td><td> 6</td><td>5</td><td>0</td></tr>\n",
              "\t<tr><td>2022-09-21 08:00:00</td><td> 6</td><td> 2</td><td> 6</td><td> 9</td><td> 4</td><td> 6</td><td> 1</td><td>5</td><td>22</td><td>⋯</td><td> 4</td><td>7</td><td>12</td><td> 3</td><td>6</td><td>15</td><td>1</td><td> 6</td><td>4</td><td>4</td></tr>\n",
              "\t<tr><td>2022-09-21 14:00:00</td><td> 5</td><td> 4</td><td> 5</td><td> 6</td><td> 2</td><td> 5</td><td> 1</td><td>5</td><td>20</td><td>⋯</td><td> 0</td><td>7</td><td>14</td><td> 3</td><td>3</td><td>15</td><td>1</td><td> 5</td><td>6</td><td>5</td></tr>\n",
              "\t<tr><td>2022-09-21 20:00:00</td><td> 4</td><td> 5</td><td> 2</td><td> 2</td><td> 7</td><td> 1</td><td> 0</td><td>2</td><td> 2</td><td>⋯</td><td> 1</td><td>0</td><td> 6</td><td> 2</td><td>2</td><td> 6</td><td>0</td><td> 4</td><td>0</td><td>0</td></tr>\n",
              "\t<tr><td>2022-09-22 08:00:00</td><td> 3</td><td> 2</td><td> 0</td><td> 0</td><td> 6</td><td> 2</td><td> 0</td><td>0</td><td> 5</td><td>⋯</td><td> 0</td><td>1</td><td> 0</td><td> 8</td><td>0</td><td>10</td><td>0</td><td> 2</td><td>3</td><td>1</td></tr>\n",
              "\t<tr><td>2022-09-22 14:00:00</td><td> 2</td><td> 5</td><td> 4</td><td> 0</td><td> 9</td><td> 1</td><td> 4</td><td>5</td><td> 6</td><td>⋯</td><td> 5</td><td>0</td><td> 1</td><td> 2</td><td>2</td><td>11</td><td>2</td><td> 3</td><td>1</td><td>7</td></tr>\n",
              "\t<tr><td>2022-09-22 20:00:00</td><td>10</td><td> 8</td><td> 1</td><td> 0</td><td>13</td><td> 4</td><td> 1</td><td>7</td><td> 1</td><td>⋯</td><td> 4</td><td>6</td><td> 4</td><td> 6</td><td>1</td><td>13</td><td>4</td><td> 6</td><td>5</td><td>4</td></tr>\n",
              "\t<tr><td>2022-09-23 08:00:00</td><td> 8</td><td> 8</td><td> 0</td><td> 9</td><td>11</td><td> 4</td><td> 1</td><td>4</td><td> 4</td><td>⋯</td><td> 5</td><td>3</td><td> 5</td><td> 5</td><td>0</td><td>11</td><td>3</td><td> 5</td><td>6</td><td>3</td></tr>\n",
              "\t<tr><td>2022-09-23 14:00:00</td><td> 5</td><td> 9</td><td> 3</td><td> 7</td><td> 3</td><td> 2</td><td> 2</td><td>3</td><td> 7</td><td>⋯</td><td> 1</td><td>3</td><td> 8</td><td> 4</td><td>4</td><td>10</td><td>4</td><td> 7</td><td>6</td><td>1</td></tr>\n",
              "\t<tr><td>2022-09-23 20:00:00</td><td>14</td><td> 3</td><td> 5</td><td> 0</td><td> 0</td><td> 2</td><td> 3</td><td>6</td><td> 1</td><td>⋯</td><td> 2</td><td>4</td><td> 2</td><td> 7</td><td>5</td><td>10</td><td>2</td><td> 6</td><td>8</td><td>0</td></tr>\n",
              "\t<tr><td>2022-09-26 08:00:00</td><td> 9</td><td> 4</td><td> 2</td><td> 7</td><td> 6</td><td> 3</td><td> 5</td><td>4</td><td> 4</td><td>⋯</td><td> 4</td><td>3</td><td> 4</td><td> 4</td><td>5</td><td>12</td><td>1</td><td> 2</td><td>3</td><td>1</td></tr>\n",
              "\t<tr><td>2022-09-26 14:00:00</td><td> 5</td><td> 4</td><td> 5</td><td> 1</td><td> 7</td><td> 1</td><td> 5</td><td>3</td><td>10</td><td>⋯</td><td> 0</td><td>1</td><td> 5</td><td> 3</td><td>3</td><td>11</td><td>2</td><td> 0</td><td>2</td><td>1</td></tr>\n",
              "\t<tr><td>2022-09-26 20:00:00</td><td> 8</td><td> 3</td><td> 1</td><td> 4</td><td>10</td><td>10</td><td> 3</td><td>3</td><td> 2</td><td>⋯</td><td> 0</td><td>3</td><td> 4</td><td> 2</td><td>0</td><td>15</td><td>1</td><td> 2</td><td>0</td><td>0</td></tr>\n",
              "\t<tr><td>2022-09-27 08:00:00</td><td> 9</td><td> 3</td><td> 1</td><td> 6</td><td> 2</td><td> 4</td><td> 2</td><td>3</td><td> 5</td><td>⋯</td><td> 6</td><td>0</td><td> 3</td><td> 5</td><td>4</td><td> 8</td><td>2</td><td> 2</td><td>4</td><td>4</td></tr>\n",
              "\t<tr><td>2022-09-27 14:00:00</td><td> 1</td><td> 6</td><td> 0</td><td> 2</td><td> 5</td><td> 0</td><td> 4</td><td>2</td><td> 6</td><td>⋯</td><td> 3</td><td>7</td><td> 5</td><td> 4</td><td>0</td><td> 7</td><td>2</td><td> 2</td><td>0</td><td>0</td></tr>\n",
              "\t<tr><td>2022-09-27 20:00:00</td><td>10</td><td> 0</td><td> 1</td><td> 1</td><td>10</td><td> 7</td><td> 1</td><td>2</td><td> 9</td><td>⋯</td><td> 4</td><td>3</td><td> 1</td><td> 4</td><td>2</td><td> 9</td><td>5</td><td> 1</td><td>1</td><td>0</td></tr>\n",
              "\t<tr><td>2022-09-28 08:00:00</td><td> 1</td><td> 4</td><td> 3</td><td> 2</td><td> 1</td><td> 6</td><td> 3</td><td>3</td><td> 5</td><td>⋯</td><td> 5</td><td>3</td><td> 0</td><td> 6</td><td>4</td><td> 4</td><td>2</td><td> 2</td><td>2</td><td>0</td></tr>\n",
              "\t<tr><td>2022-09-28 14:00:00</td><td> 3</td><td> 4</td><td> 6</td><td> 2</td><td> 1</td><td> 6</td><td> 0</td><td>4</td><td> 7</td><td>⋯</td><td> 4</td><td>1</td><td> 2</td><td> 9</td><td>1</td><td> 3</td><td>2</td><td> 1</td><td>3</td><td>1</td></tr>\n",
              "\t<tr><td>2022-09-28 20:00:00</td><td> 8</td><td> 3</td><td> 1</td><td> 0</td><td> 3</td><td> 3</td><td> 1</td><td>0</td><td> 3</td><td>⋯</td><td> 4</td><td>1</td><td> 0</td><td> 5</td><td>2</td><td>10</td><td>3</td><td> 1</td><td>7</td><td>0</td></tr>\n",
              "\t<tr><td>2022-09-29 08:00:00</td><td> 3</td><td> 3</td><td> 1</td><td> 2</td><td> 4</td><td> 2</td><td> 2</td><td>1</td><td> 3</td><td>⋯</td><td> 5</td><td>2</td><td> 2</td><td> 8</td><td>2</td><td> 8</td><td>0</td><td> 7</td><td>6</td><td>0</td></tr>\n",
              "\t<tr><td>2022-09-29 14:00:00</td><td> 0</td><td> 5</td><td> 3</td><td> 5</td><td> 4</td><td> 2</td><td> 0</td><td>1</td><td> 4</td><td>⋯</td><td> 3</td><td>2</td><td> 2</td><td> 7</td><td>5</td><td> 7</td><td>0</td><td> 5</td><td>8</td><td>2</td></tr>\n",
              "\t<tr><td>2022-09-29 20:00:00</td><td> 9</td><td> 8</td><td> 5</td><td> 0</td><td> 6</td><td> 4</td><td> 7</td><td>3</td><td> 2</td><td>⋯</td><td> 5</td><td>6</td><td> 1</td><td> 3</td><td>5</td><td> 4</td><td>4</td><td> 3</td><td>8</td><td>3</td></tr>\n",
              "\t<tr><td>2022-09-30 08:00:00</td><td>14</td><td> 7</td><td> 3</td><td> 0</td><td> 6</td><td> 5</td><td> 4</td><td>0</td><td> 1</td><td>⋯</td><td> 4</td><td>2</td><td> 1</td><td> 3</td><td>6</td><td> 3</td><td>0</td><td> 3</td><td>5</td><td>2</td></tr>\n",
              "\t<tr><td>2022-09-30 14:00:00</td><td> 5</td><td> 5</td><td> 5</td><td> 1</td><td> 1</td><td> 1</td><td> 0</td><td>1</td><td> 4</td><td>⋯</td><td> 3</td><td>2</td><td> 1</td><td> 4</td><td>0</td><td>17</td><td>4</td><td> 0</td><td>0</td><td>3</td></tr>\n",
              "\t<tr><td>2022-09-30 20:00:00</td><td> 5</td><td> 4</td><td> 2</td><td> 0</td><td>11</td><td> 6</td><td> 4</td><td>4</td><td> 4</td><td>⋯</td><td> 6</td><td>0</td><td> 3</td><td> 2</td><td>3</td><td>11</td><td>5</td><td> 0</td><td>5</td><td>1</td></tr>\n",
              "</tbody>\n",
              "</table>\n"
            ],
            "text/markdown": "\nA data.frame: 60 × 21\n\n| dias &lt;dttm&gt; | inventario_est3 &lt;dbl&gt; | inventario_est6 &lt;dbl&gt; | inventario_est10 &lt;dbl&gt; | inventario_est13 &lt;dbl&gt; | inventario_est19 &lt;dbl&gt; | inventario_est23 &lt;dbl&gt; | inventario_est25 &lt;dbl&gt; | inventario_est26 &lt;dbl&gt; | inventario_est27 &lt;dbl&gt; | ⋯ ⋯ | inventario_est32 &lt;dbl&gt; | inventario_est33 &lt;dbl&gt; | inventario_est36 &lt;dbl&gt; | inventario_est46 &lt;dbl&gt; | inventario_est47 &lt;dbl&gt; | inventario_est53 &lt;dbl&gt; | inventario_est57 &lt;dbl&gt; | inventario_est58 &lt;dbl&gt; | inventario_est59 &lt;dbl&gt; | inventario_est60 &lt;dbl&gt; |\n|---|---|---|---|---|---|---|---|---|---|---|---|---|---|---|---|---|---|---|---|---|\n| 2022-09-05 08:00:00 |  5 |  6 | 12 |  6 |  6 | 10 |  6 | 1 |  8 | ⋯ |  7 | 6 | 15 |  5 | 7 |  9 | 2 |  6 | 4 | 3 |\n| 2022-09-05 14:00:00 |  1 |  7 | 12 |  3 | 13 |  8 |  6 | 0 | 12 | ⋯ |  6 | 8 | 11 |  4 | 8 |  8 | 2 |  6 | 4 | 4 |\n| 2022-09-05 20:00:00 |  9 |  9 |  3 |  5 |  4 |  8 | 11 | 1 |  6 | ⋯ |  4 | 5 |  4 |  9 | 7 |  6 | 2 |  3 | 8 | 3 |\n| 2022-09-06 08:00:00 |  9 | 10 |  4 |  8 |  4 |  7 |  6 | 2 | 13 | ⋯ |  5 | 3 |  9 |  3 | 5 |  8 | 2 |  6 | 8 | 3 |\n| 2022-09-06 14:00:00 |  0 |  1 |  1 |  2 | 13 |  1 |  3 | 1 |  6 | ⋯ |  6 | 0 |  5 | 11 | 5 | 11 | 1 |  2 | 5 | 3 |\n| 2022-09-06 20:00:00 |  9 |  6 |  5 |  3 |  4 |  8 |  9 | 5 |  3 | ⋯ | 10 | 0 |  4 |  3 | 5 |  9 | 4 |  7 | 8 | 1 |\n| 2022-09-07 08:00:00 |  9 |  6 |  3 |  7 |  4 |  7 |  7 | 7 |  5 | ⋯ | 11 | 0 |  4 |  3 | 2 | 13 | 4 |  6 | 4 | 2 |\n| 2022-09-07 14:00:00 |  1 |  7 |  1 |  0 | 10 |  5 |  0 | 6 |  3 | ⋯ |  6 | 2 |  6 |  6 | 5 |  6 | 1 |  2 | 2 | 1 |\n| 2022-09-07 20:00:00 | 11 |  5 |  4 |  2 |  8 |  8 | 11 | 5 |  8 | ⋯ |  4 | 3 |  2 | 10 | 6 |  6 | 5 |  2 | 5 | 4 |\n| 2022-09-08 08:00:00 | 10 |  7 |  0 |  2 |  6 |  5 |  9 | 5 |  2 | ⋯ |  7 | 0 |  3 |  4 | 1 |  8 | 7 |  3 | 6 | 5 |\n| 2022-09-08 14:00:00 |  0 |  7 |  3 |  1 |  7 |  1 |  0 | 1 | 10 | ⋯ |  1 | 1 |  0 |  8 | 0 |  8 | 0 |  3 | 0 | 1 |\n| 2022-09-08 20:00:00 | 12 |  8 |  8 |  2 |  7 |  8 |  7 | 3 |  2 | ⋯ |  7 | 0 |  0 |  5 | 9 |  6 | 4 |  1 | 3 | 2 |\n| 2022-09-09 08:00:00 |  7 |  7 |  3 |  5 |  6 |  6 |  6 | 5 |  7 | ⋯ | 10 | 3 |  6 |  7 | 4 | 12 | 3 |  5 | 4 | 3 |\n| 2022-09-09 14:00:00 |  0 |  5 |  0 |  8 |  7 |  3 |  0 | 1 |  4 | ⋯ |  5 | 2 |  5 |  6 | 8 | 12 | 1 | 11 | 2 | 1 |\n| 2022-09-09 20:00:00 |  6 |  6 |  7 |  9 |  5 |  7 |  5 | 4 |  5 | ⋯ |  4 | 5 |  7 |  4 | 6 | 13 | 6 |  6 | 2 | 3 |\n| 2022-09-12 08:00:00 |  5 |  8 |  5 |  5 |  9 | 10 |  4 | 5 | 10 | ⋯ |  6 | 2 |  6 |  8 | 5 |  9 | 0 |  6 | 2 | 3 |\n| 2022-09-12 14:00:00 |  2 |  2 |  8 |  2 |  7 |  9 |  5 | 4 | 12 | ⋯ |  3 | 4 |  6 |  8 | 5 |  9 | 1 |  5 | 2 | 4 |\n| 2022-09-12 20:00:00 |  4 | 10 |  5 |  4 |  6 |  3 |  5 | 2 |  1 | ⋯ |  2 | 1 |  1 |  8 | 8 |  2 | 0 |  6 | 4 | 0 |\n| 2022-09-13 08:00:00 |  6 |  6 |  3 |  5 |  7 |  6 |  4 | 4 | 14 | ⋯ |  3 | 2 |  7 |  4 | 6 | 10 | 6 |  4 | 2 | 2 |\n| 2022-09-13 14:00:00 |  2 |  8 |  2 |  7 |  5 |  6 |  6 | 1 |  6 | ⋯ |  1 | 3 |  9 |  6 | 7 |  8 | 7 |  4 | 4 | 1 |\n| 2022-09-13 20:00:00 |  7 |  4 |  9 |  2 |  4 |  1 |  3 | 4 |  1 | ⋯ |  6 | 4 |  0 |  7 | 3 |  8 | 1 |  0 | 7 | 2 |\n| 2022-09-14 08:00:00 |  3 |  7 |  6 |  0 |  5 |  4 |  1 | 0 | 14 | ⋯ |  4 | 4 |  1 |  8 | 2 |  5 | 1 |  2 | 2 | 0 |\n| 2022-09-14 14:00:00 |  1 |  8 |  5 |  4 |  5 |  5 |  5 | 1 | 11 | ⋯ |  6 | 6 |  6 |  2 | 1 | 11 | 4 |  1 | 2 | 2 |\n| 2022-09-14 20:00:00 |  5 |  7 |  1 |  0 |  7 |  5 |  7 | 4 |  5 | ⋯ |  2 | 8 |  4 |  1 | 6 |  7 | 6 |  4 | 1 | 1 |\n| 2022-09-15 08:00:00 |  8 |  4 |  0 |  3 |  3 |  9 |  5 | 4 |  5 | ⋯ |  5 | 2 |  5 |  2 | 2 |  6 | 4 |  4 | 0 | 1 |\n| 2022-09-15 14:00:00 |  3 |  2 |  2 |  0 |  3 |  7 |  5 | 2 |  3 | ⋯ |  2 | 4 |  5 |  2 | 2 |  5 | 3 |  6 | 3 | 1 |\n| 2022-09-15 20:00:00 |  6 |  0 |  6 |  4 |  5 |  7 |  5 | 2 |  4 | ⋯ |  3 | 3 | 13 |  2 | 5 |  8 | 3 |  1 | 7 | 4 |\n| 2022-09-16 08:00:00 |  8 |  2 |  2 |  6 |  4 |  6 |  4 | 1 |  5 | ⋯ |  6 | 1 | 14 |  5 | 2 |  8 | 3 |  2 | 8 | 1 |\n| 2022-09-16 14:00:00 |  2 |  1 |  2 |  9 |  1 |  6 |  4 | 4 |  8 | ⋯ |  1 | 1 |  7 |  6 | 2 |  8 | 3 |  2 | 5 | 4 |\n| 2022-09-16 20:00:00 |  6 |  4 | 10 |  7 |  8 |  5 |  4 | 5 |  7 | ⋯ |  4 | 3 |  4 |  2 | 6 |  6 | 4 |  1 | 4 | 5 |\n| 2022-09-19 08:00:00 |  1 |  7 |  3 |  4 |  4 |  8 |  8 | 1 |  6 | ⋯ |  5 | 2 |  2 |  3 | 2 | 13 | 0 |  5 | 3 | 5 |\n| 2022-09-19 14:00:00 |  1 |  4 |  4 |  4 | 11 |  2 |  7 | 0 |  8 | ⋯ |  0 | 1 |  2 |  3 | 2 | 12 | 1 |  3 | 2 | 3 |\n| 2022-09-19 20:00:00 |  3 |  4 |  3 |  1 |  7 |  7 |  9 | 1 |  1 | ⋯ |  5 | 0 |  0 |  3 | 1 | 14 | 2 |  2 | 2 | 1 |\n| 2022-09-20 08:00:00 |  5 |  7 |  2 |  6 |  7 |  8 |  1 | 6 | 17 | ⋯ |  7 | 4 |  5 |  5 | 6 |  6 | 3 |  5 | 3 | 3 |\n| 2022-09-20 14:00:00 |  1 |  4 |  4 |  7 |  8 |  5 |  2 | 2 | 23 | ⋯ |  4 | 5 |  4 |  5 | 4 |  9 | 2 |  3 | 3 | 3 |\n| 2022-09-20 20:00:00 |  5 |  4 |  8 | 11 |  2 | 10 |  1 | 6 | 20 | ⋯ |  3 | 7 |  1 |  1 | 6 | 15 | 2 |  6 | 5 | 0 |\n| 2022-09-21 08:00:00 |  6 |  2 |  6 |  9 |  4 |  6 |  1 | 5 | 22 | ⋯ |  4 | 7 | 12 |  3 | 6 | 15 | 1 |  6 | 4 | 4 |\n| 2022-09-21 14:00:00 |  5 |  4 |  5 |  6 |  2 |  5 |  1 | 5 | 20 | ⋯ |  0 | 7 | 14 |  3 | 3 | 15 | 1 |  5 | 6 | 5 |\n| 2022-09-21 20:00:00 |  4 |  5 |  2 |  2 |  7 |  1 |  0 | 2 |  2 | ⋯ |  1 | 0 |  6 |  2 | 2 |  6 | 0 |  4 | 0 | 0 |\n| 2022-09-22 08:00:00 |  3 |  2 |  0 |  0 |  6 |  2 |  0 | 0 |  5 | ⋯ |  0 | 1 |  0 |  8 | 0 | 10 | 0 |  2 | 3 | 1 |\n| 2022-09-22 14:00:00 |  2 |  5 |  4 |  0 |  9 |  1 |  4 | 5 |  6 | ⋯ |  5 | 0 |  1 |  2 | 2 | 11 | 2 |  3 | 1 | 7 |\n| 2022-09-22 20:00:00 | 10 |  8 |  1 |  0 | 13 |  4 |  1 | 7 |  1 | ⋯ |  4 | 6 |  4 |  6 | 1 | 13 | 4 |  6 | 5 | 4 |\n| 2022-09-23 08:00:00 |  8 |  8 |  0 |  9 | 11 |  4 |  1 | 4 |  4 | ⋯ |  5 | 3 |  5 |  5 | 0 | 11 | 3 |  5 | 6 | 3 |\n| 2022-09-23 14:00:00 |  5 |  9 |  3 |  7 |  3 |  2 |  2 | 3 |  7 | ⋯ |  1 | 3 |  8 |  4 | 4 | 10 | 4 |  7 | 6 | 1 |\n| 2022-09-23 20:00:00 | 14 |  3 |  5 |  0 |  0 |  2 |  3 | 6 |  1 | ⋯ |  2 | 4 |  2 |  7 | 5 | 10 | 2 |  6 | 8 | 0 |\n| 2022-09-26 08:00:00 |  9 |  4 |  2 |  7 |  6 |  3 |  5 | 4 |  4 | ⋯ |  4 | 3 |  4 |  4 | 5 | 12 | 1 |  2 | 3 | 1 |\n| 2022-09-26 14:00:00 |  5 |  4 |  5 |  1 |  7 |  1 |  5 | 3 | 10 | ⋯ |  0 | 1 |  5 |  3 | 3 | 11 | 2 |  0 | 2 | 1 |\n| 2022-09-26 20:00:00 |  8 |  3 |  1 |  4 | 10 | 10 |  3 | 3 |  2 | ⋯ |  0 | 3 |  4 |  2 | 0 | 15 | 1 |  2 | 0 | 0 |\n| 2022-09-27 08:00:00 |  9 |  3 |  1 |  6 |  2 |  4 |  2 | 3 |  5 | ⋯ |  6 | 0 |  3 |  5 | 4 |  8 | 2 |  2 | 4 | 4 |\n| 2022-09-27 14:00:00 |  1 |  6 |  0 |  2 |  5 |  0 |  4 | 2 |  6 | ⋯ |  3 | 7 |  5 |  4 | 0 |  7 | 2 |  2 | 0 | 0 |\n| 2022-09-27 20:00:00 | 10 |  0 |  1 |  1 | 10 |  7 |  1 | 2 |  9 | ⋯ |  4 | 3 |  1 |  4 | 2 |  9 | 5 |  1 | 1 | 0 |\n| 2022-09-28 08:00:00 |  1 |  4 |  3 |  2 |  1 |  6 |  3 | 3 |  5 | ⋯ |  5 | 3 |  0 |  6 | 4 |  4 | 2 |  2 | 2 | 0 |\n| 2022-09-28 14:00:00 |  3 |  4 |  6 |  2 |  1 |  6 |  0 | 4 |  7 | ⋯ |  4 | 1 |  2 |  9 | 1 |  3 | 2 |  1 | 3 | 1 |\n| 2022-09-28 20:00:00 |  8 |  3 |  1 |  0 |  3 |  3 |  1 | 0 |  3 | ⋯ |  4 | 1 |  0 |  5 | 2 | 10 | 3 |  1 | 7 | 0 |\n| 2022-09-29 08:00:00 |  3 |  3 |  1 |  2 |  4 |  2 |  2 | 1 |  3 | ⋯ |  5 | 2 |  2 |  8 | 2 |  8 | 0 |  7 | 6 | 0 |\n| 2022-09-29 14:00:00 |  0 |  5 |  3 |  5 |  4 |  2 |  0 | 1 |  4 | ⋯ |  3 | 2 |  2 |  7 | 5 |  7 | 0 |  5 | 8 | 2 |\n| 2022-09-29 20:00:00 |  9 |  8 |  5 |  0 |  6 |  4 |  7 | 3 |  2 | ⋯ |  5 | 6 |  1 |  3 | 5 |  4 | 4 |  3 | 8 | 3 |\n| 2022-09-30 08:00:00 | 14 |  7 |  3 |  0 |  6 |  5 |  4 | 0 |  1 | ⋯ |  4 | 2 |  1 |  3 | 6 |  3 | 0 |  3 | 5 | 2 |\n| 2022-09-30 14:00:00 |  5 |  5 |  5 |  1 |  1 |  1 |  0 | 1 |  4 | ⋯ |  3 | 2 |  1 |  4 | 0 | 17 | 4 |  0 | 0 | 3 |\n| 2022-09-30 20:00:00 |  5 |  4 |  2 |  0 | 11 |  6 |  4 | 4 |  4 | ⋯ |  6 | 0 |  3 |  2 | 3 | 11 | 5 |  0 | 5 | 1 |\n\n",
            "text/latex": "A data.frame: 60 × 21\n\\begin{tabular}{lllllllllllllllllllll}\n dias & inventario\\_est3 & inventario\\_est6 & inventario\\_est10 & inventario\\_est13 & inventario\\_est19 & inventario\\_est23 & inventario\\_est25 & inventario\\_est26 & inventario\\_est27 & ⋯ & inventario\\_est32 & inventario\\_est33 & inventario\\_est36 & inventario\\_est46 & inventario\\_est47 & inventario\\_est53 & inventario\\_est57 & inventario\\_est58 & inventario\\_est59 & inventario\\_est60\\\\\n <dttm> & <dbl> & <dbl> & <dbl> & <dbl> & <dbl> & <dbl> & <dbl> & <dbl> & <dbl> & ⋯ & <dbl> & <dbl> & <dbl> & <dbl> & <dbl> & <dbl> & <dbl> & <dbl> & <dbl> & <dbl>\\\\\n\\hline\n\t 2022-09-05 08:00:00 &  5 &  6 & 12 &  6 &  6 & 10 &  6 & 1 &  8 & ⋯ &  7 & 6 & 15 &  5 & 7 &  9 & 2 &  6 & 4 & 3\\\\\n\t 2022-09-05 14:00:00 &  1 &  7 & 12 &  3 & 13 &  8 &  6 & 0 & 12 & ⋯ &  6 & 8 & 11 &  4 & 8 &  8 & 2 &  6 & 4 & 4\\\\\n\t 2022-09-05 20:00:00 &  9 &  9 &  3 &  5 &  4 &  8 & 11 & 1 &  6 & ⋯ &  4 & 5 &  4 &  9 & 7 &  6 & 2 &  3 & 8 & 3\\\\\n\t 2022-09-06 08:00:00 &  9 & 10 &  4 &  8 &  4 &  7 &  6 & 2 & 13 & ⋯ &  5 & 3 &  9 &  3 & 5 &  8 & 2 &  6 & 8 & 3\\\\\n\t 2022-09-06 14:00:00 &  0 &  1 &  1 &  2 & 13 &  1 &  3 & 1 &  6 & ⋯ &  6 & 0 &  5 & 11 & 5 & 11 & 1 &  2 & 5 & 3\\\\\n\t 2022-09-06 20:00:00 &  9 &  6 &  5 &  3 &  4 &  8 &  9 & 5 &  3 & ⋯ & 10 & 0 &  4 &  3 & 5 &  9 & 4 &  7 & 8 & 1\\\\\n\t 2022-09-07 08:00:00 &  9 &  6 &  3 &  7 &  4 &  7 &  7 & 7 &  5 & ⋯ & 11 & 0 &  4 &  3 & 2 & 13 & 4 &  6 & 4 & 2\\\\\n\t 2022-09-07 14:00:00 &  1 &  7 &  1 &  0 & 10 &  5 &  0 & 6 &  3 & ⋯ &  6 & 2 &  6 &  6 & 5 &  6 & 1 &  2 & 2 & 1\\\\\n\t 2022-09-07 20:00:00 & 11 &  5 &  4 &  2 &  8 &  8 & 11 & 5 &  8 & ⋯ &  4 & 3 &  2 & 10 & 6 &  6 & 5 &  2 & 5 & 4\\\\\n\t 2022-09-08 08:00:00 & 10 &  7 &  0 &  2 &  6 &  5 &  9 & 5 &  2 & ⋯ &  7 & 0 &  3 &  4 & 1 &  8 & 7 &  3 & 6 & 5\\\\\n\t 2022-09-08 14:00:00 &  0 &  7 &  3 &  1 &  7 &  1 &  0 & 1 & 10 & ⋯ &  1 & 1 &  0 &  8 & 0 &  8 & 0 &  3 & 0 & 1\\\\\n\t 2022-09-08 20:00:00 & 12 &  8 &  8 &  2 &  7 &  8 &  7 & 3 &  2 & ⋯ &  7 & 0 &  0 &  5 & 9 &  6 & 4 &  1 & 3 & 2\\\\\n\t 2022-09-09 08:00:00 &  7 &  7 &  3 &  5 &  6 &  6 &  6 & 5 &  7 & ⋯ & 10 & 3 &  6 &  7 & 4 & 12 & 3 &  5 & 4 & 3\\\\\n\t 2022-09-09 14:00:00 &  0 &  5 &  0 &  8 &  7 &  3 &  0 & 1 &  4 & ⋯ &  5 & 2 &  5 &  6 & 8 & 12 & 1 & 11 & 2 & 1\\\\\n\t 2022-09-09 20:00:00 &  6 &  6 &  7 &  9 &  5 &  7 &  5 & 4 &  5 & ⋯ &  4 & 5 &  7 &  4 & 6 & 13 & 6 &  6 & 2 & 3\\\\\n\t 2022-09-12 08:00:00 &  5 &  8 &  5 &  5 &  9 & 10 &  4 & 5 & 10 & ⋯ &  6 & 2 &  6 &  8 & 5 &  9 & 0 &  6 & 2 & 3\\\\\n\t 2022-09-12 14:00:00 &  2 &  2 &  8 &  2 &  7 &  9 &  5 & 4 & 12 & ⋯ &  3 & 4 &  6 &  8 & 5 &  9 & 1 &  5 & 2 & 4\\\\\n\t 2022-09-12 20:00:00 &  4 & 10 &  5 &  4 &  6 &  3 &  5 & 2 &  1 & ⋯ &  2 & 1 &  1 &  8 & 8 &  2 & 0 &  6 & 4 & 0\\\\\n\t 2022-09-13 08:00:00 &  6 &  6 &  3 &  5 &  7 &  6 &  4 & 4 & 14 & ⋯ &  3 & 2 &  7 &  4 & 6 & 10 & 6 &  4 & 2 & 2\\\\\n\t 2022-09-13 14:00:00 &  2 &  8 &  2 &  7 &  5 &  6 &  6 & 1 &  6 & ⋯ &  1 & 3 &  9 &  6 & 7 &  8 & 7 &  4 & 4 & 1\\\\\n\t 2022-09-13 20:00:00 &  7 &  4 &  9 &  2 &  4 &  1 &  3 & 4 &  1 & ⋯ &  6 & 4 &  0 &  7 & 3 &  8 & 1 &  0 & 7 & 2\\\\\n\t 2022-09-14 08:00:00 &  3 &  7 &  6 &  0 &  5 &  4 &  1 & 0 & 14 & ⋯ &  4 & 4 &  1 &  8 & 2 &  5 & 1 &  2 & 2 & 0\\\\\n\t 2022-09-14 14:00:00 &  1 &  8 &  5 &  4 &  5 &  5 &  5 & 1 & 11 & ⋯ &  6 & 6 &  6 &  2 & 1 & 11 & 4 &  1 & 2 & 2\\\\\n\t 2022-09-14 20:00:00 &  5 &  7 &  1 &  0 &  7 &  5 &  7 & 4 &  5 & ⋯ &  2 & 8 &  4 &  1 & 6 &  7 & 6 &  4 & 1 & 1\\\\\n\t 2022-09-15 08:00:00 &  8 &  4 &  0 &  3 &  3 &  9 &  5 & 4 &  5 & ⋯ &  5 & 2 &  5 &  2 & 2 &  6 & 4 &  4 & 0 & 1\\\\\n\t 2022-09-15 14:00:00 &  3 &  2 &  2 &  0 &  3 &  7 &  5 & 2 &  3 & ⋯ &  2 & 4 &  5 &  2 & 2 &  5 & 3 &  6 & 3 & 1\\\\\n\t 2022-09-15 20:00:00 &  6 &  0 &  6 &  4 &  5 &  7 &  5 & 2 &  4 & ⋯ &  3 & 3 & 13 &  2 & 5 &  8 & 3 &  1 & 7 & 4\\\\\n\t 2022-09-16 08:00:00 &  8 &  2 &  2 &  6 &  4 &  6 &  4 & 1 &  5 & ⋯ &  6 & 1 & 14 &  5 & 2 &  8 & 3 &  2 & 8 & 1\\\\\n\t 2022-09-16 14:00:00 &  2 &  1 &  2 &  9 &  1 &  6 &  4 & 4 &  8 & ⋯ &  1 & 1 &  7 &  6 & 2 &  8 & 3 &  2 & 5 & 4\\\\\n\t 2022-09-16 20:00:00 &  6 &  4 & 10 &  7 &  8 &  5 &  4 & 5 &  7 & ⋯ &  4 & 3 &  4 &  2 & 6 &  6 & 4 &  1 & 4 & 5\\\\\n\t 2022-09-19 08:00:00 &  1 &  7 &  3 &  4 &  4 &  8 &  8 & 1 &  6 & ⋯ &  5 & 2 &  2 &  3 & 2 & 13 & 0 &  5 & 3 & 5\\\\\n\t 2022-09-19 14:00:00 &  1 &  4 &  4 &  4 & 11 &  2 &  7 & 0 &  8 & ⋯ &  0 & 1 &  2 &  3 & 2 & 12 & 1 &  3 & 2 & 3\\\\\n\t 2022-09-19 20:00:00 &  3 &  4 &  3 &  1 &  7 &  7 &  9 & 1 &  1 & ⋯ &  5 & 0 &  0 &  3 & 1 & 14 & 2 &  2 & 2 & 1\\\\\n\t 2022-09-20 08:00:00 &  5 &  7 &  2 &  6 &  7 &  8 &  1 & 6 & 17 & ⋯ &  7 & 4 &  5 &  5 & 6 &  6 & 3 &  5 & 3 & 3\\\\\n\t 2022-09-20 14:00:00 &  1 &  4 &  4 &  7 &  8 &  5 &  2 & 2 & 23 & ⋯ &  4 & 5 &  4 &  5 & 4 &  9 & 2 &  3 & 3 & 3\\\\\n\t 2022-09-20 20:00:00 &  5 &  4 &  8 & 11 &  2 & 10 &  1 & 6 & 20 & ⋯ &  3 & 7 &  1 &  1 & 6 & 15 & 2 &  6 & 5 & 0\\\\\n\t 2022-09-21 08:00:00 &  6 &  2 &  6 &  9 &  4 &  6 &  1 & 5 & 22 & ⋯ &  4 & 7 & 12 &  3 & 6 & 15 & 1 &  6 & 4 & 4\\\\\n\t 2022-09-21 14:00:00 &  5 &  4 &  5 &  6 &  2 &  5 &  1 & 5 & 20 & ⋯ &  0 & 7 & 14 &  3 & 3 & 15 & 1 &  5 & 6 & 5\\\\\n\t 2022-09-21 20:00:00 &  4 &  5 &  2 &  2 &  7 &  1 &  0 & 2 &  2 & ⋯ &  1 & 0 &  6 &  2 & 2 &  6 & 0 &  4 & 0 & 0\\\\\n\t 2022-09-22 08:00:00 &  3 &  2 &  0 &  0 &  6 &  2 &  0 & 0 &  5 & ⋯ &  0 & 1 &  0 &  8 & 0 & 10 & 0 &  2 & 3 & 1\\\\\n\t 2022-09-22 14:00:00 &  2 &  5 &  4 &  0 &  9 &  1 &  4 & 5 &  6 & ⋯ &  5 & 0 &  1 &  2 & 2 & 11 & 2 &  3 & 1 & 7\\\\\n\t 2022-09-22 20:00:00 & 10 &  8 &  1 &  0 & 13 &  4 &  1 & 7 &  1 & ⋯ &  4 & 6 &  4 &  6 & 1 & 13 & 4 &  6 & 5 & 4\\\\\n\t 2022-09-23 08:00:00 &  8 &  8 &  0 &  9 & 11 &  4 &  1 & 4 &  4 & ⋯ &  5 & 3 &  5 &  5 & 0 & 11 & 3 &  5 & 6 & 3\\\\\n\t 2022-09-23 14:00:00 &  5 &  9 &  3 &  7 &  3 &  2 &  2 & 3 &  7 & ⋯ &  1 & 3 &  8 &  4 & 4 & 10 & 4 &  7 & 6 & 1\\\\\n\t 2022-09-23 20:00:00 & 14 &  3 &  5 &  0 &  0 &  2 &  3 & 6 &  1 & ⋯ &  2 & 4 &  2 &  7 & 5 & 10 & 2 &  6 & 8 & 0\\\\\n\t 2022-09-26 08:00:00 &  9 &  4 &  2 &  7 &  6 &  3 &  5 & 4 &  4 & ⋯ &  4 & 3 &  4 &  4 & 5 & 12 & 1 &  2 & 3 & 1\\\\\n\t 2022-09-26 14:00:00 &  5 &  4 &  5 &  1 &  7 &  1 &  5 & 3 & 10 & ⋯ &  0 & 1 &  5 &  3 & 3 & 11 & 2 &  0 & 2 & 1\\\\\n\t 2022-09-26 20:00:00 &  8 &  3 &  1 &  4 & 10 & 10 &  3 & 3 &  2 & ⋯ &  0 & 3 &  4 &  2 & 0 & 15 & 1 &  2 & 0 & 0\\\\\n\t 2022-09-27 08:00:00 &  9 &  3 &  1 &  6 &  2 &  4 &  2 & 3 &  5 & ⋯ &  6 & 0 &  3 &  5 & 4 &  8 & 2 &  2 & 4 & 4\\\\\n\t 2022-09-27 14:00:00 &  1 &  6 &  0 &  2 &  5 &  0 &  4 & 2 &  6 & ⋯ &  3 & 7 &  5 &  4 & 0 &  7 & 2 &  2 & 0 & 0\\\\\n\t 2022-09-27 20:00:00 & 10 &  0 &  1 &  1 & 10 &  7 &  1 & 2 &  9 & ⋯ &  4 & 3 &  1 &  4 & 2 &  9 & 5 &  1 & 1 & 0\\\\\n\t 2022-09-28 08:00:00 &  1 &  4 &  3 &  2 &  1 &  6 &  3 & 3 &  5 & ⋯ &  5 & 3 &  0 &  6 & 4 &  4 & 2 &  2 & 2 & 0\\\\\n\t 2022-09-28 14:00:00 &  3 &  4 &  6 &  2 &  1 &  6 &  0 & 4 &  7 & ⋯ &  4 & 1 &  2 &  9 & 1 &  3 & 2 &  1 & 3 & 1\\\\\n\t 2022-09-28 20:00:00 &  8 &  3 &  1 &  0 &  3 &  3 &  1 & 0 &  3 & ⋯ &  4 & 1 &  0 &  5 & 2 & 10 & 3 &  1 & 7 & 0\\\\\n\t 2022-09-29 08:00:00 &  3 &  3 &  1 &  2 &  4 &  2 &  2 & 1 &  3 & ⋯ &  5 & 2 &  2 &  8 & 2 &  8 & 0 &  7 & 6 & 0\\\\\n\t 2022-09-29 14:00:00 &  0 &  5 &  3 &  5 &  4 &  2 &  0 & 1 &  4 & ⋯ &  3 & 2 &  2 &  7 & 5 &  7 & 0 &  5 & 8 & 2\\\\\n\t 2022-09-29 20:00:00 &  9 &  8 &  5 &  0 &  6 &  4 &  7 & 3 &  2 & ⋯ &  5 & 6 &  1 &  3 & 5 &  4 & 4 &  3 & 8 & 3\\\\\n\t 2022-09-30 08:00:00 & 14 &  7 &  3 &  0 &  6 &  5 &  4 & 0 &  1 & ⋯ &  4 & 2 &  1 &  3 & 6 &  3 & 0 &  3 & 5 & 2\\\\\n\t 2022-09-30 14:00:00 &  5 &  5 &  5 &  1 &  1 &  1 &  0 & 1 &  4 & ⋯ &  3 & 2 &  1 &  4 & 0 & 17 & 4 &  0 & 0 & 3\\\\\n\t 2022-09-30 20:00:00 &  5 &  4 &  2 &  0 & 11 &  6 &  4 & 4 &  4 & ⋯ &  6 & 0 &  3 &  2 & 3 & 11 & 5 &  0 & 5 & 1\\\\\n\\end{tabular}\n",
            "text/plain": [
              "   dias                inventario_est3 inventario_est6 inventario_est10\n",
              "1  2022-09-05 08:00:00  5               6              12              \n",
              "2  2022-09-05 14:00:00  1               7              12              \n",
              "3  2022-09-05 20:00:00  9               9               3              \n",
              "4  2022-09-06 08:00:00  9              10               4              \n",
              "5  2022-09-06 14:00:00  0               1               1              \n",
              "6  2022-09-06 20:00:00  9               6               5              \n",
              "7  2022-09-07 08:00:00  9               6               3              \n",
              "8  2022-09-07 14:00:00  1               7               1              \n",
              "9  2022-09-07 20:00:00 11               5               4              \n",
              "10 2022-09-08 08:00:00 10               7               0              \n",
              "11 2022-09-08 14:00:00  0               7               3              \n",
              "12 2022-09-08 20:00:00 12               8               8              \n",
              "13 2022-09-09 08:00:00  7               7               3              \n",
              "14 2022-09-09 14:00:00  0               5               0              \n",
              "15 2022-09-09 20:00:00  6               6               7              \n",
              "16 2022-09-12 08:00:00  5               8               5              \n",
              "17 2022-09-12 14:00:00  2               2               8              \n",
              "18 2022-09-12 20:00:00  4              10               5              \n",
              "19 2022-09-13 08:00:00  6               6               3              \n",
              "20 2022-09-13 14:00:00  2               8               2              \n",
              "21 2022-09-13 20:00:00  7               4               9              \n",
              "22 2022-09-14 08:00:00  3               7               6              \n",
              "23 2022-09-14 14:00:00  1               8               5              \n",
              "24 2022-09-14 20:00:00  5               7               1              \n",
              "25 2022-09-15 08:00:00  8               4               0              \n",
              "26 2022-09-15 14:00:00  3               2               2              \n",
              "27 2022-09-15 20:00:00  6               0               6              \n",
              "28 2022-09-16 08:00:00  8               2               2              \n",
              "29 2022-09-16 14:00:00  2               1               2              \n",
              "30 2022-09-16 20:00:00  6               4              10              \n",
              "31 2022-09-19 08:00:00  1               7               3              \n",
              "32 2022-09-19 14:00:00  1               4               4              \n",
              "33 2022-09-19 20:00:00  3               4               3              \n",
              "34 2022-09-20 08:00:00  5               7               2              \n",
              "35 2022-09-20 14:00:00  1               4               4              \n",
              "36 2022-09-20 20:00:00  5               4               8              \n",
              "37 2022-09-21 08:00:00  6               2               6              \n",
              "38 2022-09-21 14:00:00  5               4               5              \n",
              "39 2022-09-21 20:00:00  4               5               2              \n",
              "40 2022-09-22 08:00:00  3               2               0              \n",
              "41 2022-09-22 14:00:00  2               5               4              \n",
              "42 2022-09-22 20:00:00 10               8               1              \n",
              "43 2022-09-23 08:00:00  8               8               0              \n",
              "44 2022-09-23 14:00:00  5               9               3              \n",
              "45 2022-09-23 20:00:00 14               3               5              \n",
              "46 2022-09-26 08:00:00  9               4               2              \n",
              "47 2022-09-26 14:00:00  5               4               5              \n",
              "48 2022-09-26 20:00:00  8               3               1              \n",
              "49 2022-09-27 08:00:00  9               3               1              \n",
              "50 2022-09-27 14:00:00  1               6               0              \n",
              "51 2022-09-27 20:00:00 10               0               1              \n",
              "52 2022-09-28 08:00:00  1               4               3              \n",
              "53 2022-09-28 14:00:00  3               4               6              \n",
              "54 2022-09-28 20:00:00  8               3               1              \n",
              "55 2022-09-29 08:00:00  3               3               1              \n",
              "56 2022-09-29 14:00:00  0               5               3              \n",
              "57 2022-09-29 20:00:00  9               8               5              \n",
              "58 2022-09-30 08:00:00 14               7               3              \n",
              "59 2022-09-30 14:00:00  5               5               5              \n",
              "60 2022-09-30 20:00:00  5               4               2              \n",
              "   inventario_est13 inventario_est19 inventario_est23 inventario_est25\n",
              "1   6                6               10                6              \n",
              "2   3               13                8                6              \n",
              "3   5                4                8               11              \n",
              "4   8                4                7                6              \n",
              "5   2               13                1                3              \n",
              "6   3                4                8                9              \n",
              "7   7                4                7                7              \n",
              "8   0               10                5                0              \n",
              "9   2                8                8               11              \n",
              "10  2                6                5                9              \n",
              "11  1                7                1                0              \n",
              "12  2                7                8                7              \n",
              "13  5                6                6                6              \n",
              "14  8                7                3                0              \n",
              "15  9                5                7                5              \n",
              "16  5                9               10                4              \n",
              "17  2                7                9                5              \n",
              "18  4                6                3                5              \n",
              "19  5                7                6                4              \n",
              "20  7                5                6                6              \n",
              "21  2                4                1                3              \n",
              "22  0                5                4                1              \n",
              "23  4                5                5                5              \n",
              "24  0                7                5                7              \n",
              "25  3                3                9                5              \n",
              "26  0                3                7                5              \n",
              "27  4                5                7                5              \n",
              "28  6                4                6                4              \n",
              "29  9                1                6                4              \n",
              "30  7                8                5                4              \n",
              "31  4                4                8                8              \n",
              "32  4               11                2                7              \n",
              "33  1                7                7                9              \n",
              "34  6                7                8                1              \n",
              "35  7                8                5                2              \n",
              "36 11                2               10                1              \n",
              "37  9                4                6                1              \n",
              "38  6                2                5                1              \n",
              "39  2                7                1                0              \n",
              "40  0                6                2                0              \n",
              "41  0                9                1                4              \n",
              "42  0               13                4                1              \n",
              "43  9               11                4                1              \n",
              "44  7                3                2                2              \n",
              "45  0                0                2                3              \n",
              "46  7                6                3                5              \n",
              "47  1                7                1                5              \n",
              "48  4               10               10                3              \n",
              "49  6                2                4                2              \n",
              "50  2                5                0                4              \n",
              "51  1               10                7                1              \n",
              "52  2                1                6                3              \n",
              "53  2                1                6                0              \n",
              "54  0                3                3                1              \n",
              "55  2                4                2                2              \n",
              "56  5                4                2                0              \n",
              "57  0                6                4                7              \n",
              "58  0                6                5                4              \n",
              "59  1                1                1                0              \n",
              "60  0               11                6                4              \n",
              "   inventario_est26 inventario_est27 ⋯ inventario_est32 inventario_est33\n",
              "1  1                 8               ⋯  7               6               \n",
              "2  0                12               ⋯  6               8               \n",
              "3  1                 6               ⋯  4               5               \n",
              "4  2                13               ⋯  5               3               \n",
              "5  1                 6               ⋯  6               0               \n",
              "6  5                 3               ⋯ 10               0               \n",
              "7  7                 5               ⋯ 11               0               \n",
              "8  6                 3               ⋯  6               2               \n",
              "9  5                 8               ⋯  4               3               \n",
              "10 5                 2               ⋯  7               0               \n",
              "11 1                10               ⋯  1               1               \n",
              "12 3                 2               ⋯  7               0               \n",
              "13 5                 7               ⋯ 10               3               \n",
              "14 1                 4               ⋯  5               2               \n",
              "15 4                 5               ⋯  4               5               \n",
              "16 5                10               ⋯  6               2               \n",
              "17 4                12               ⋯  3               4               \n",
              "18 2                 1               ⋯  2               1               \n",
              "19 4                14               ⋯  3               2               \n",
              "20 1                 6               ⋯  1               3               \n",
              "21 4                 1               ⋯  6               4               \n",
              "22 0                14               ⋯  4               4               \n",
              "23 1                11               ⋯  6               6               \n",
              "24 4                 5               ⋯  2               8               \n",
              "25 4                 5               ⋯  5               2               \n",
              "26 2                 3               ⋯  2               4               \n",
              "27 2                 4               ⋯  3               3               \n",
              "28 1                 5               ⋯  6               1               \n",
              "29 4                 8               ⋯  1               1               \n",
              "30 5                 7               ⋯  4               3               \n",
              "31 1                 6               ⋯  5               2               \n",
              "32 0                 8               ⋯  0               1               \n",
              "33 1                 1               ⋯  5               0               \n",
              "34 6                17               ⋯  7               4               \n",
              "35 2                23               ⋯  4               5               \n",
              "36 6                20               ⋯  3               7               \n",
              "37 5                22               ⋯  4               7               \n",
              "38 5                20               ⋯  0               7               \n",
              "39 2                 2               ⋯  1               0               \n",
              "40 0                 5               ⋯  0               1               \n",
              "41 5                 6               ⋯  5               0               \n",
              "42 7                 1               ⋯  4               6               \n",
              "43 4                 4               ⋯  5               3               \n",
              "44 3                 7               ⋯  1               3               \n",
              "45 6                 1               ⋯  2               4               \n",
              "46 4                 4               ⋯  4               3               \n",
              "47 3                10               ⋯  0               1               \n",
              "48 3                 2               ⋯  0               3               \n",
              "49 3                 5               ⋯  6               0               \n",
              "50 2                 6               ⋯  3               7               \n",
              "51 2                 9               ⋯  4               3               \n",
              "52 3                 5               ⋯  5               3               \n",
              "53 4                 7               ⋯  4               1               \n",
              "54 0                 3               ⋯  4               1               \n",
              "55 1                 3               ⋯  5               2               \n",
              "56 1                 4               ⋯  3               2               \n",
              "57 3                 2               ⋯  5               6               \n",
              "58 0                 1               ⋯  4               2               \n",
              "59 1                 4               ⋯  3               2               \n",
              "60 4                 4               ⋯  6               0               \n",
              "   inventario_est36 inventario_est46 inventario_est47 inventario_est53\n",
              "1  15                5               7                 9              \n",
              "2  11                4               8                 8              \n",
              "3   4                9               7                 6              \n",
              "4   9                3               5                 8              \n",
              "5   5               11               5                11              \n",
              "6   4                3               5                 9              \n",
              "7   4                3               2                13              \n",
              "8   6                6               5                 6              \n",
              "9   2               10               6                 6              \n",
              "10  3                4               1                 8              \n",
              "11  0                8               0                 8              \n",
              "12  0                5               9                 6              \n",
              "13  6                7               4                12              \n",
              "14  5                6               8                12              \n",
              "15  7                4               6                13              \n",
              "16  6                8               5                 9              \n",
              "17  6                8               5                 9              \n",
              "18  1                8               8                 2              \n",
              "19  7                4               6                10              \n",
              "20  9                6               7                 8              \n",
              "21  0                7               3                 8              \n",
              "22  1                8               2                 5              \n",
              "23  6                2               1                11              \n",
              "24  4                1               6                 7              \n",
              "25  5                2               2                 6              \n",
              "26  5                2               2                 5              \n",
              "27 13                2               5                 8              \n",
              "28 14                5               2                 8              \n",
              "29  7                6               2                 8              \n",
              "30  4                2               6                 6              \n",
              "31  2                3               2                13              \n",
              "32  2                3               2                12              \n",
              "33  0                3               1                14              \n",
              "34  5                5               6                 6              \n",
              "35  4                5               4                 9              \n",
              "36  1                1               6                15              \n",
              "37 12                3               6                15              \n",
              "38 14                3               3                15              \n",
              "39  6                2               2                 6              \n",
              "40  0                8               0                10              \n",
              "41  1                2               2                11              \n",
              "42  4                6               1                13              \n",
              "43  5                5               0                11              \n",
              "44  8                4               4                10              \n",
              "45  2                7               5                10              \n",
              "46  4                4               5                12              \n",
              "47  5                3               3                11              \n",
              "48  4                2               0                15              \n",
              "49  3                5               4                 8              \n",
              "50  5                4               0                 7              \n",
              "51  1                4               2                 9              \n",
              "52  0                6               4                 4              \n",
              "53  2                9               1                 3              \n",
              "54  0                5               2                10              \n",
              "55  2                8               2                 8              \n",
              "56  2                7               5                 7              \n",
              "57  1                3               5                 4              \n",
              "58  1                3               6                 3              \n",
              "59  1                4               0                17              \n",
              "60  3                2               3                11              \n",
              "   inventario_est57 inventario_est58 inventario_est59 inventario_est60\n",
              "1  2                 6               4                3               \n",
              "2  2                 6               4                4               \n",
              "3  2                 3               8                3               \n",
              "4  2                 6               8                3               \n",
              "5  1                 2               5                3               \n",
              "6  4                 7               8                1               \n",
              "7  4                 6               4                2               \n",
              "8  1                 2               2                1               \n",
              "9  5                 2               5                4               \n",
              "10 7                 3               6                5               \n",
              "11 0                 3               0                1               \n",
              "12 4                 1               3                2               \n",
              "13 3                 5               4                3               \n",
              "14 1                11               2                1               \n",
              "15 6                 6               2                3               \n",
              "16 0                 6               2                3               \n",
              "17 1                 5               2                4               \n",
              "18 0                 6               4                0               \n",
              "19 6                 4               2                2               \n",
              "20 7                 4               4                1               \n",
              "21 1                 0               7                2               \n",
              "22 1                 2               2                0               \n",
              "23 4                 1               2                2               \n",
              "24 6                 4               1                1               \n",
              "25 4                 4               0                1               \n",
              "26 3                 6               3                1               \n",
              "27 3                 1               7                4               \n",
              "28 3                 2               8                1               \n",
              "29 3                 2               5                4               \n",
              "30 4                 1               4                5               \n",
              "31 0                 5               3                5               \n",
              "32 1                 3               2                3               \n",
              "33 2                 2               2                1               \n",
              "34 3                 5               3                3               \n",
              "35 2                 3               3                3               \n",
              "36 2                 6               5                0               \n",
              "37 1                 6               4                4               \n",
              "38 1                 5               6                5               \n",
              "39 0                 4               0                0               \n",
              "40 0                 2               3                1               \n",
              "41 2                 3               1                7               \n",
              "42 4                 6               5                4               \n",
              "43 3                 5               6                3               \n",
              "44 4                 7               6                1               \n",
              "45 2                 6               8                0               \n",
              "46 1                 2               3                1               \n",
              "47 2                 0               2                1               \n",
              "48 1                 2               0                0               \n",
              "49 2                 2               4                4               \n",
              "50 2                 2               0                0               \n",
              "51 5                 1               1                0               \n",
              "52 2                 2               2                0               \n",
              "53 2                 1               3                1               \n",
              "54 3                 1               7                0               \n",
              "55 0                 7               6                0               \n",
              "56 0                 5               8                2               \n",
              "57 4                 3               8                3               \n",
              "58 0                 3               5                2               \n",
              "59 4                 0               0                3               \n",
              "60 5                 0               5                1               "
            ]
          },
          "metadata": {}
        }
      ]
    },
    {
      "cell_type": "markdown",
      "source": [
        "<a id='Algortimo-Grid'></a>\n",
        "### Algoritmo Grid\n",
        "\n",
        "[Inicio ▲](#Indice)"
      ],
      "metadata": {
        "id": "5dnzilblvl9I"
      }
    },
    {
      "cell_type": "markdown",
      "source": [
        "Carga de las librerias requeridas"
      ],
      "metadata": {
        "id": "gpc2P7ikOdLw"
      }
    },
    {
      "cell_type": "code",
      "source": [
        "install.packages(\"h2o\")\n",
        "install.packages(\"timetk\")\n",
        "install.packages(\"dplyr\")\n",
        "\n",
        "library(h2o)\n",
        "library(timetk)\n",
        "library(dplyr)"
      ],
      "metadata": {
        "id": "4f5U1SgbPmWb"
      },
      "execution_count": null,
      "outputs": []
    },
    {
      "cell_type": "markdown",
      "source": [
        "Preprocesamiento de los datos"
      ],
      "metadata": {
        "id": "8luW-Uy0P-m5"
      }
    },
    {
      "cell_type": "code",
      "source": [
        "#transformacion del mes segun el timetk\n",
        "mes<-mes%>%tk_augment_timeseries_signature()\n",
        "\n",
        "#limpiar los NA\n",
        "mes<-mes%>%\n",
        "  select_if(~!any(is.na(.)))%>%\n",
        "  mutate_if(is.ordered,~as.character(.)%>%as.factor)\n",
        "\n",
        "#generacion del set de datos train y valid\n",
        "train<-mes[1:45,]\n",
        "valid<-mes[46:60,]"
      ],
      "metadata": {
        "id": "kE7j6VHAO-P_"
      },
      "execution_count": null,
      "outputs": []
    },
    {
      "cell_type": "code",
      "source": [
        "#transformacion del mes siguiente segun el timetk\n",
        "mes_sig<-mes_sig%>%tk_augment_timeseries_signature()\n",
        "\n",
        "#limpiar los NA\n",
        "mes_sig<-mes_sig%>%\n",
        "  select_if(~!any(is.na(.)))%>%\n",
        "  mutate_if(is.ordered,~as.character(.)%>%as.factor)"
      ],
      "metadata": {
        "id": "mOpuzdHJaYtv"
      },
      "execution_count": null,
      "outputs": []
    },
    {
      "cell_type": "markdown",
      "source": [
        "Inicialización de h2o"
      ],
      "metadata": {
        "id": "VGxtw_W-PceP"
      }
    },
    {
      "cell_type": "code",
      "source": [
        "h2o.init(max_mem_size =  \"10g\",min_mem_size = \"1g\")"
      ],
      "metadata": {
        "id": "FY-Klv-RPg9i"
      },
      "execution_count": null,
      "outputs": []
    },
    {
      "cell_type": "code",
      "source": [
        "h2o.shutdown()"
      ],
      "metadata": {
        "id": "cQPwVoB1PnRQ"
      },
      "execution_count": null,
      "outputs": []
    },
    {
      "cell_type": "code",
      "source": [
        "#transformar el data.frame en un formato h2o\n",
        "train_h2o<-as.h2o(train)\n",
        "valid_h2o<-as.h2o(valid)"
      ],
      "metadata": {
        "id": "MUH8XxNzQuD5"
      },
      "execution_count": null,
      "outputs": []
    },
    {
      "cell_type": "code",
      "source": [
        "mes_sig_h2o<-as.h2o(mes_sig)"
      ],
      "metadata": {
        "id": "aLSSduMPd3i0"
      },
      "execution_count": null,
      "outputs": []
    },
    {
      "cell_type": "markdown",
      "source": [
        "## Grid de la estación con GBM"
      ],
      "metadata": {
        "id": "DDJqBRAqQ41H"
      }
    },
    {
      "cell_type": "markdown",
      "source": [
        "### Criterios de las estaciones"
      ],
      "metadata": {
        "id": "cVNjw_jPA-dc"
      }
    },
    {
      "cell_type": "code",
      "source": [
        "criterio_gbm_est3<-list(strategy=\"RandomDiscrete\",max_models=1000,seed=1)"
      ],
      "metadata": {
        "id": "SNgVVoUHESSU"
      },
      "execution_count": null,
      "outputs": []
    },
    {
      "cell_type": "code",
      "source": [
        "criterio_gbm_est6<-list(strategy=\"RandomDiscrete\",max_models=1000,seed=1)"
      ],
      "metadata": {
        "id": "Qv4kYRz-EUoZ"
      },
      "execution_count": null,
      "outputs": []
    },
    {
      "cell_type": "code",
      "source": [
        "criterio_gbm_est10<-list(strategy=\"RandomDiscrete\",max_models=1000,seed=1)"
      ],
      "metadata": {
        "id": "fUfJpeCnEW0p"
      },
      "execution_count": null,
      "outputs": []
    },
    {
      "cell_type": "code",
      "source": [
        "criterio_gbm_est13<-list(strategy=\"RandomDiscrete\",max_models=1000,seed=1)"
      ],
      "metadata": {
        "id": "agrgAIqREYdT"
      },
      "execution_count": null,
      "outputs": []
    },
    {
      "cell_type": "code",
      "source": [
        "criterio_gbm_est19<-list(strategy=\"RandomDiscrete\",max_models=1000,seed=1)"
      ],
      "metadata": {
        "id": "ooHwzSvNEaBB"
      },
      "execution_count": null,
      "outputs": []
    },
    {
      "cell_type": "code",
      "source": [
        "criterio_gbm_est23<-list(strategy=\"RandomDiscrete\",max_models=1000,seed=1)"
      ],
      "metadata": {
        "id": "C3ICL9pAEbRR"
      },
      "execution_count": null,
      "outputs": []
    },
    {
      "cell_type": "code",
      "source": [
        "criterio_gbm_est25<-list(strategy=\"RandomDiscrete\",max_models=1000,seed=1)"
      ],
      "metadata": {
        "id": "d4_v5V_rEct6"
      },
      "execution_count": null,
      "outputs": []
    },
    {
      "cell_type": "code",
      "source": [
        "criterio_gbm_est26<-list(strategy=\"RandomDiscrete\",max_models=1000,seed=1)"
      ],
      "metadata": {
        "id": "0c6-sivaEd5x"
      },
      "execution_count": null,
      "outputs": []
    },
    {
      "cell_type": "code",
      "source": [
        "criterio_gbm_est27<-list(strategy=\"RandomDiscrete\",max_models=1000,seed=1)"
      ],
      "metadata": {
        "id": "tF-CWSofEfA5"
      },
      "execution_count": null,
      "outputs": []
    },
    {
      "cell_type": "code",
      "source": [
        "criterio_gbm_est28<-list(strategy=\"RandomDiscrete\",max_models=1000,seed=1)"
      ],
      "metadata": {
        "id": "GbMxvA4jlepK"
      },
      "execution_count": null,
      "outputs": []
    },
    {
      "cell_type": "code",
      "source": [
        "criterio_gbm_est32<-list(strategy=\"RandomDiscrete\",max_models=1000,seed=1)"
      ],
      "metadata": {
        "id": "egI61CI2lfMq"
      },
      "execution_count": null,
      "outputs": []
    },
    {
      "cell_type": "code",
      "source": [
        "criterio_gbm_est33<-list(strategy=\"RandomDiscrete\",max_models=1000,seed=1)"
      ],
      "metadata": {
        "id": "EBEEFTMAlfkD"
      },
      "execution_count": null,
      "outputs": []
    },
    {
      "cell_type": "code",
      "source": [
        "criterio_gbm_est36<-list(strategy=\"RandomDiscrete\",max_models=1000,seed=1)"
      ],
      "metadata": {
        "id": "WrOhYT9Hlf3R"
      },
      "execution_count": null,
      "outputs": []
    },
    {
      "cell_type": "code",
      "source": [
        "criterio_gbm_est46<-list(strategy=\"RandomDiscrete\",max_models=1000,seed=1)"
      ],
      "metadata": {
        "id": "ocLPRviQlgQK"
      },
      "execution_count": null,
      "outputs": []
    },
    {
      "cell_type": "code",
      "source": [
        "criterio_gbm_est47<-list(strategy=\"RandomDiscrete\",max_models=1000,seed=1)"
      ],
      "metadata": {
        "id": "1KdNqvielgkS"
      },
      "execution_count": null,
      "outputs": []
    },
    {
      "cell_type": "code",
      "source": [
        "criterio_gbm_est53<-list(strategy=\"RandomDiscrete\",max_models=1000,seed=1)"
      ],
      "metadata": {
        "id": "nGQHBJQRlg9b"
      },
      "execution_count": null,
      "outputs": []
    },
    {
      "cell_type": "code",
      "source": [
        "criterio_gbm_est57<-list(strategy=\"RandomDiscrete\",max_models=1000,seed=1)"
      ],
      "metadata": {
        "id": "lp85rv7LlhOC"
      },
      "execution_count": null,
      "outputs": []
    },
    {
      "cell_type": "code",
      "source": [
        "criterio_gbm_est58<-list(strategy=\"RandomDiscrete\",max_models=1000,seed=1)"
      ],
      "metadata": {
        "id": "_5FWdSzolhkC"
      },
      "execution_count": null,
      "outputs": []
    },
    {
      "cell_type": "code",
      "source": [
        "criterio_gbm_est59<-list(strategy=\"RandomDiscrete\",max_models=1000,seed=1)"
      ],
      "metadata": {
        "id": "G9TVvQ7vlhzk"
      },
      "execution_count": null,
      "outputs": []
    },
    {
      "cell_type": "code",
      "source": [
        "criterio_gbm_est60<-list(strategy=\"RandomDiscrete\",max_models=1000,seed=1)"
      ],
      "metadata": {
        "id": "lzn1QoNGl6oZ"
      },
      "execution_count": null,
      "outputs": []
    },
    {
      "cell_type": "markdown",
      "source": [
        "### Parámetros de las estaciones"
      ],
      "metadata": {
        "id": "5_iGP2USBDIv"
      }
    },
    {
      "cell_type": "code",
      "source": [
        "gbm_params_est3<-list(learn_rate=c(0.001,0.005,0.007,0.01,0.05,0.07,0.1,0.5,0.7),\n",
        "                      sample_rate = c(0.7, 0.8, 1),\n",
        "                      col_sample_rate = c(0.3, 0.7, 0.8, 1),\n",
        "                      ntrees=c(30,40,50,60,70,100,150,200,250,500,550,600,650,700,1000),\n",
        "                      max_depth=c(5,10,15,20,50,55,60,65,70,100,150,200,250,300,500,550,600,650,700,1000),\n",
        "                      min_rows=c(1,5,10,15,20),\n",
        "                      seed=c(1,10,50,100,200,500,700,1000,3000,5000,7000,10000),\n",
        "                      learn_rate_annealing=c(0.99,0.989,0.985,0.983,0.98,0.94,0.92,0.89))"
      ],
      "metadata": {
        "id": "d3ooztCwRFk3"
      },
      "execution_count": null,
      "outputs": []
    },
    {
      "cell_type": "code",
      "source": [
        "gbm_params_est6<-list(learn_rate=c(0.001,0.005,0.007,0.01,0.05,0.07,0.1,0.5,0.7),\n",
        "                      sample_rate = c(0.7, 0.8, 1),\n",
        "                      col_sample_rate = c(0.3, 0.7, 0.8, 1),\n",
        "                      ntrees=c(30,40,50,60,70,100,150,200,250,500,550,600,650,700,1000),\n",
        "                      max_depth=c(5,10,15,20,50,55,60,65,70,100,150,200,250,300,500,550,600,650,700,1000),\n",
        "                      min_rows=c(1,5,10,15,20),\n",
        "                      seed=c(1,10,50,100,200,500,700,1000,3000,5000,7000,10000),\n",
        "                      learn_rate_annealing=c(0.99,0.989,0.985,0.983,0.98,0.94,0.92,0.89))"
      ],
      "metadata": {
        "id": "YVZeX1OwEjVJ"
      },
      "execution_count": null,
      "outputs": []
    },
    {
      "cell_type": "code",
      "source": [
        "gbm_params_est10<-list(learn_rate=c(0.001,0.005,0.007,0.01,0.05,0.07,0.1,0.5,0.7),\n",
        "                      sample_rate = c(0.7, 0.8, 1),\n",
        "                      col_sample_rate = c(0.3, 0.7, 0.8, 1),\n",
        "                      ntrees=c(30,40,50,60,70,100,150,200,250,500,550,600,650,700,1000),\n",
        "                      max_depth=c(5,10,15,20,50,55,60,65,70,100,150,200,250,300,500,550,600,650,700,1000),\n",
        "                      min_rows=c(1,5,10,15,20),\n",
        "                      seed=c(1,10,50,100,200,500,700,1000,3000,5000,7000,10000),\n",
        "                      learn_rate_annealing=c(0.99,0.989,0.985,0.983,0.98,0.94,0.92,0.89))"
      ],
      "metadata": {
        "id": "wAZkFOICEmVJ"
      },
      "execution_count": null,
      "outputs": []
    },
    {
      "cell_type": "code",
      "source": [
        "gbm_params_est13<-list(learn_rate=c(0.001,0.005,0.007,0.01,0.05,0.07,0.1,0.5,0.7),\n",
        "                      sample_rate = c(0.7, 0.8, 1),\n",
        "                      col_sample_rate = c(0.3, 0.7, 0.8, 1),\n",
        "                      ntrees=c(30,40,50,60,70,100,150,200,250,500,550,600,650,700,1000),\n",
        "                      max_depth=c(5,10,15,20,50,55,60,65,70,100,150,200,250,300,500,550,600,650,700,1000),\n",
        "                      min_rows=c(1,5,10,15,20),\n",
        "                      seed=c(1,10,50,100,200,500,700,1000,3000,5000,7000,10000),\n",
        "                      learn_rate_annealing=c(0.99,0.989,0.985,0.983,0.98,0.94,0.92,0.89))"
      ],
      "metadata": {
        "id": "f8JMRtdEEnng"
      },
      "execution_count": null,
      "outputs": []
    },
    {
      "cell_type": "code",
      "source": [
        "gbm_params_est19<-list(learn_rate=c(0.001,0.005,0.007,0.01,0.05,0.07,0.1,0.5,0.7),\n",
        "                      sample_rate = c(0.7, 0.8, 1),\n",
        "                      col_sample_rate = c(0.3, 0.7, 0.8, 1),\n",
        "                      ntrees=c(30,40,50,60,70,100,150,200,250,500,550,600,650,700,1000),\n",
        "                      max_depth=c(5,10,15,20,50,55,60,65,70,100,150,200,250,300,500,550,600,650,700,1000),\n",
        "                      min_rows=c(1,5,10,15,20),\n",
        "                      seed=c(1,10,50,100,200,500,700,1000,3000,5000,7000,10000),\n",
        "                      learn_rate_annealing=c(0.99,0.989,0.985,0.983,0.98,0.94,0.92,0.89))"
      ],
      "metadata": {
        "id": "SdFZkuGiEozA"
      },
      "execution_count": null,
      "outputs": []
    },
    {
      "cell_type": "code",
      "source": [
        "gbm_params_est23<-list(learn_rate=c(0.001,0.005,0.007,0.01,0.05,0.07,0.1,0.5,0.7),\n",
        "                      sample_rate = c(0.7, 0.8, 1),\n",
        "                      col_sample_rate = c(0.3, 0.7, 0.8, 1),\n",
        "                      ntrees=c(30,40,50,60,70,100,150,200,250,500,550,600,650,700,1000),\n",
        "                      max_depth=c(5,10,15,20,50,55,60,65,70,100,150,200,250,300,500,550,600,650,700,1000),\n",
        "                      min_rows=c(1,5,10,15,20),\n",
        "                      seed=c(1,10,50,100,200,500,700,1000,3000,5000,7000,10000),\n",
        "                      learn_rate_annealing=c(0.99,0.989,0.985,0.983,0.98,0.94,0.92,0.89))"
      ],
      "metadata": {
        "id": "YXD_VkDyEqnx"
      },
      "execution_count": null,
      "outputs": []
    },
    {
      "cell_type": "code",
      "source": [
        "gbm_params_est25<-list(learn_rate=c(0.001,0.005,0.007,0.01,0.05,0.07,0.1,0.5,0.7),\n",
        "                      sample_rate = c(0.7, 0.8, 1),\n",
        "                      col_sample_rate = c(0.3, 0.7, 0.8, 1),\n",
        "                      ntrees=c(30,40,50,60,70,100,150,200,250,500,550,600,650,700,1000),\n",
        "                      max_depth=c(5,10,15,20,50,55,60,65,70,100,150,200,250,300,500,550,600,650,700,1000),\n",
        "                      min_rows=c(1,5,10,15,20),\n",
        "                      seed=c(1,10,50,100,200,500,700,1000,3000,5000,7000,10000),\n",
        "                      learn_rate_annealing=c(0.99,0.989,0.985,0.983,0.98,0.94,0.92,0.89))"
      ],
      "metadata": {
        "id": "Og3v32fwEsTq"
      },
      "execution_count": null,
      "outputs": []
    },
    {
      "cell_type": "code",
      "source": [
        "gbm_params_est26<-list(learn_rate=c(0.001,0.005,0.007,0.01,0.05,0.07,0.1,0.5,0.7),\n",
        "                      sample_rate = c(0.7, 0.8, 1),\n",
        "                      col_sample_rate = c(0.3, 0.7, 0.8, 1),\n",
        "                      ntrees=c(30,40,50,60,70,100,150,200,250,500,550,600,650,700,1000),\n",
        "                      max_depth=c(5,10,15,20,50,55,60,65,70,100,150,200,250,300,500,550,600,650,700,1000),\n",
        "                      min_rows=c(1,5,10,15,20),\n",
        "                      seed=c(1,10,50,100,200,500,700,1000,3000,5000,7000,10000),\n",
        "                      learn_rate_annealing=c(0.99,0.989,0.985,0.983,0.98,0.94,0.92,0.89))"
      ],
      "metadata": {
        "id": "3kgzg8krEtpY"
      },
      "execution_count": null,
      "outputs": []
    },
    {
      "cell_type": "code",
      "source": [
        "gbm_params_est27<-list(learn_rate=c(0.001,0.005,0.007,0.01,0.05,0.07,0.1,0.5,0.7),\n",
        "                      sample_rate = c(0.7, 0.8, 1),\n",
        "                      col_sample_rate = c(0.3, 0.7, 0.8, 1),\n",
        "                      ntrees=c(30,40,50,60,70,100,150,200,250,500,550,600,650,700,1000),\n",
        "                      max_depth=c(5,10,15,20,50,55,60,65,70,100,150,200,250,300,500,550,600,650,700,1000),\n",
        "                      min_rows=c(1,5,10,15,20),\n",
        "                      seed=c(1,10,50,100,200,500,700,1000,3000,5000,7000,10000),\n",
        "                      learn_rate_annealing=c(0.99,0.989,0.985,0.983,0.98,0.94,0.92,0.89))"
      ],
      "metadata": {
        "id": "aOSg72aVEvBo"
      },
      "execution_count": null,
      "outputs": []
    },
    {
      "cell_type": "code",
      "source": [
        "gbm_params_est28<-list(learn_rate=c(0.001,0.005,0.007,0.01,0.05,0.07,0.1,0.5,0.7),\n",
        "                      sample_rate = c(0.7, 0.8, 1),\n",
        "                      col_sample_rate = c(0.3, 0.7, 0.8, 1),\n",
        "                      ntrees=c(30,40,50,60,70,100,150,200,250,500,550,600,650,700,1000),\n",
        "                      max_depth=c(5,10,15,20,50,55,60,65,70,100,150,200,250,300,500,550,600,650,700,1000),\n",
        "                      min_rows=c(1,5,10,15,20),\n",
        "                      seed=c(1,10,50,100,200,500,700,1000,3000,5000,7000,10000),\n",
        "                      learn_rate_annealing=c(0.99,0.989,0.985,0.983,0.98,0.94,0.92,0.89))"
      ],
      "metadata": {
        "id": "26eBCoY0Ew94"
      },
      "execution_count": null,
      "outputs": []
    },
    {
      "cell_type": "code",
      "source": [
        "gbm_params_est32<-list(learn_rate=c(0.001,0.005,0.007,0.01,0.05,0.07,0.1,0.5,0.7),\n",
        "                      sample_rate = c(0.7, 0.8, 1),\n",
        "                      col_sample_rate = c(0.3, 0.7, 0.8, 1),\n",
        "                      ntrees=c(30,40,50,60,70,100,150,200,250,500,550,600,650,700,1000),\n",
        "                      max_depth=c(5,10,15,20,50,55,60,65,70,100,150,200,250,300,500,550,600,650,700,1000),\n",
        "                      min_rows=c(1,5,10,15,20),\n",
        "                      seed=c(1,10,50,100,200,500,700,1000,3000,5000,7000,10000),\n",
        "                      learn_rate_annealing=c(0.99,0.989,0.985,0.983,0.98,0.94,0.92,0.89))"
      ],
      "metadata": {
        "id": "y9phdqBkuFnp"
      },
      "execution_count": null,
      "outputs": []
    },
    {
      "cell_type": "code",
      "source": [
        "gbm_params_est33<-list(learn_rate=c(0.001,0.005,0.007,0.01,0.05,0.07,0.1,0.5,0.7),\n",
        "                      sample_rate = c(0.7, 0.8, 1),\n",
        "                      col_sample_rate = c(0.3, 0.7, 0.8, 1),\n",
        "                      ntrees=c(30,40,50,60,70,100,150,200,250,500,550,600,650,700,1000),\n",
        "                      max_depth=c(5,10,15,20,50,55,60,65,70,100,150,200,250,300,500,550,600,650,700,1000),\n",
        "                      min_rows=c(1,5,10,15,20),\n",
        "                      seed=c(1,10,50,100,200,500,700,1000,3000,5000,7000,10000),\n",
        "                      learn_rate_annealing=c(0.99,0.989,0.985,0.983,0.98,0.94,0.92,0.89))"
      ],
      "metadata": {
        "id": "vJs6v6cKuF5_"
      },
      "execution_count": null,
      "outputs": []
    },
    {
      "cell_type": "code",
      "source": [
        "gbm_params_est36<-list(learn_rate=c(0.001,0.005,0.007,0.01,0.05,0.07,0.1,0.5,0.7),\n",
        "                      sample_rate = c(0.7, 0.8, 1),\n",
        "                      col_sample_rate = c(0.3, 0.7, 0.8, 1),\n",
        "                      ntrees=c(30,40,50,60,70,100,150,200,250,500,550,600,650,700,1000),\n",
        "                      max_depth=c(5,10,15,20,50,55,60,65,70,100,150,200,250,300,500,550,600,650,700,1000),\n",
        "                      min_rows=c(1,5,10,15,20),\n",
        "                      seed=c(1,10,50,100,200,500,700,1000,3000,5000,7000,10000),\n",
        "                      learn_rate_annealing=c(0.99,0.989,0.985,0.983,0.98,0.94,0.92,0.89))"
      ],
      "metadata": {
        "id": "mR0vWvwjuGLM"
      },
      "execution_count": null,
      "outputs": []
    },
    {
      "cell_type": "code",
      "source": [
        "gbm_params_est46<-list(learn_rate=c(0.001,0.005,0.007,0.01,0.05,0.07,0.1,0.5,0.7),\n",
        "                      sample_rate = c(0.7, 0.8, 1),\n",
        "                      col_sample_rate = c(0.3, 0.7, 0.8, 1),\n",
        "                      ntrees=c(30,40,50,60,70,100,150,200,250,500,550,600,650,700,1000),\n",
        "                      max_depth=c(5,10,15,20,50,55,60,65,70,100,150,200,250,300,500,550,600,650,700,1000),\n",
        "                      min_rows=c(1,5,10,15,20),\n",
        "                      seed=c(1,10,50,100,200,500,700,1000,3000,5000,7000,10000),\n",
        "                      learn_rate_annealing=c(0.99,0.989,0.985,0.983,0.98,0.94,0.92,0.89))"
      ],
      "metadata": {
        "id": "NQOLOnJcuGjQ"
      },
      "execution_count": null,
      "outputs": []
    },
    {
      "cell_type": "code",
      "source": [
        "gbm_params_est47<-list(learn_rate=c(0.001,0.005,0.007,0.01,0.05,0.07,0.1,0.5,0.7),\n",
        "                      sample_rate = c(0.7, 0.8, 1),\n",
        "                      col_sample_rate = c(0.3, 0.7, 0.8, 1),\n",
        "                      ntrees=c(30,40,50,60,70,100,150,200,250,500,550,600,650,700,1000),\n",
        "                      max_depth=c(5,10,15,20,50,55,60,65,70,100,150,200,250,300,500,550,600,650,700,1000),\n",
        "                      min_rows=c(1,5,10,15,20),\n",
        "                      seed=c(1,10,50,100,200,500,700,1000,3000,5000,7000,10000),\n",
        "                      learn_rate_annealing=c(0.99,0.989,0.985,0.983,0.98,0.94,0.92,0.89))"
      ],
      "metadata": {
        "id": "M2hnnhpTuG7A"
      },
      "execution_count": null,
      "outputs": []
    },
    {
      "cell_type": "code",
      "source": [
        "gbm_params_est53<-list(learn_rate=c(0.001,0.005,0.007,0.01,0.05,0.07,0.1,0.5,0.7),\n",
        "                      sample_rate = c(0.7, 0.8, 1),\n",
        "                      col_sample_rate = c(0.3, 0.7, 0.8, 1),\n",
        "                      ntrees=c(30,40,50,60,70,100,150,200,250,500,550,600,650,700,1000),\n",
        "                      max_depth=c(5,10,15,20,50,55,60,65,70,100,150,200,250,300,500,550,600,650,700,1000),\n",
        "                      min_rows=c(1,5,10,15,20),\n",
        "                      seed=c(1,10,50,100,200,500,700,1000,3000,5000,7000,10000),\n",
        "                      learn_rate_annealing=c(0.99,0.989,0.985,0.983,0.98,0.94,0.92,0.89))"
      ],
      "metadata": {
        "id": "MGlXlEl7uHUY"
      },
      "execution_count": null,
      "outputs": []
    },
    {
      "cell_type": "code",
      "source": [
        "gbm_params_est57<-list(learn_rate=c(0.001,0.005,0.007,0.01,0.05,0.07,0.1,0.5,0.7),\n",
        "                      sample_rate = c(0.7, 0.8, 1),\n",
        "                      col_sample_rate = c(0.3, 0.7, 0.8, 1),\n",
        "                      ntrees=c(30,40,50,60,70,100,150,200,250,500,550,600,650,700,1000),\n",
        "                      max_depth=c(5,10,15,20,50,55,60,65,70,100,150,200,250,300,500,550,600,650,700,1000),\n",
        "                      min_rows=c(1,5,10,15,20),\n",
        "                      seed=c(1,10,50,100,200,500,700,1000,3000,5000,7000,10000),\n",
        "                      learn_rate_annealing=c(0.99,0.989,0.985,0.983,0.98,0.94,0.92,0.89))"
      ],
      "metadata": {
        "id": "jBBMAybmuHqA"
      },
      "execution_count": null,
      "outputs": []
    },
    {
      "cell_type": "code",
      "source": [
        "gbm_params_est58<-list(learn_rate=c(0.001,0.005,0.007,0.01,0.05,0.07,0.1,0.5,0.7),\n",
        "                      sample_rate = c(0.7, 0.8, 1),\n",
        "                      col_sample_rate = c(0.3, 0.7, 0.8, 1),\n",
        "                      ntrees=c(30,40,50,60,70,100,150,200,250,500,550,600,650,700,1000),\n",
        "                      max_depth=c(5,10,15,20,50,55,60,65,70,100,150,200,250,300,500,550,600,650,700,1000),\n",
        "                      min_rows=c(1,5,10,15,20),\n",
        "                      seed=c(1,10,50,100,200,500,700,1000,3000,5000,7000,10000),\n",
        "                      learn_rate_annealing=c(0.99,0.989,0.985,0.983,0.98,0.94,0.92,0.89))"
      ],
      "metadata": {
        "id": "UBsvQ-N4uH7p"
      },
      "execution_count": null,
      "outputs": []
    },
    {
      "cell_type": "code",
      "source": [
        "gbm_params_est59<-list(learn_rate=c(0.001,0.005,0.007,0.01,0.05,0.07,0.1,0.5,0.7),\n",
        "                      sample_rate = c(0.7, 0.8, 1),\n",
        "                      col_sample_rate = c(0.3, 0.7, 0.8, 1),\n",
        "                      ntrees=c(30,40,50,60,70,100,150,200,250,500,550,600,650,700,1000),\n",
        "                      max_depth=c(5,10,15,20,50,55,60,65,70,100,150,200,250,300,500,550,600,650,700,1000),\n",
        "                      min_rows=c(1,5,10,15,20),\n",
        "                      seed=c(1,10,50,100,200,500,700,1000,3000,5000,7000,10000),\n",
        "                      learn_rate_annealing=c(0.99,0.989,0.985,0.983,0.98,0.94,0.92,0.89))"
      ],
      "metadata": {
        "id": "ws1bwZ2luJp3"
      },
      "execution_count": null,
      "outputs": []
    },
    {
      "cell_type": "code",
      "source": [
        "gbm_params_est60<-list(learn_rate=c(0.001,0.005,0.007,0.01,0.05,0.07,0.1,0.5,0.7),\n",
        "                      sample_rate = c(0.7, 0.8, 1),\n",
        "                      col_sample_rate = c(0.3, 0.7, 0.8, 1),\n",
        "                      ntrees=c(30,40,50,60,70,100,150,200,250,500,550,600,650,700,1000),\n",
        "                      max_depth=c(5,10,15,20,50,55,60,65,70,100,150,200,250,300,500,550,600,650,700,1000),\n",
        "                      min_rows=c(1,5,10,15,20),\n",
        "                      seed=c(1,10,50,100,200,500,700,1000,3000,5000,7000,10000),\n",
        "                      learn_rate_annealing=c(0.99,0.989,0.985,0.983,0.98,0.94,0.92,0.89))"
      ],
      "metadata": {
        "id": "gu_oF6pcuKAP"
      },
      "execution_count": null,
      "outputs": []
    },
    {
      "cell_type": "markdown",
      "source": [
        "### Ejecución del grid GBM"
      ],
      "metadata": {
        "id": "q92PdC0FBHG6"
      }
    },
    {
      "cell_type": "code",
      "source": [
        "gbm_grid_est3<-h2o.grid(\"gbm\",x = names(train_h2o[,22:48]),y = names(train_h2o[2]),\n",
        "                        grid_id = \"gbm_est3\",\n",
        "                        training_frame = train_h2o,\n",
        "                        validation_frame=valid_h2o,\n",
        "                        seed=1,\n",
        "                        hyper_params = gbm_params_est3,\n",
        "                        search_criteria = criterio_gbm_est3,\n",
        "                        parallelism = 10)"
      ],
      "metadata": {
        "id": "zfxJbRIqSEYn",
        "colab": {
          "base_uri": "https://localhost:8080/"
        },
        "outputId": "e0cad491-23e8-4d06-ec4a-c8f00c9b7b2f"
      },
      "execution_count": null,
      "outputs": [
        {
          "output_type": "stream",
          "name": "stdout",
          "text": [
            "  |======================================================================| 100%\n"
          ]
        }
      ]
    },
    {
      "cell_type": "code",
      "source": [
        "gbm_grid_est6<-h2o.grid(\"gbm\",x = names(train_h2o[,22:48]),y = names(train_h2o[3]),\n",
        "                        grid_id = \"gbm_est6\",\n",
        "                        training_frame = train_h2o,\n",
        "                        validation_frame=valid_h2o,\n",
        "                        seed=1,\n",
        "                        hyper_params = gbm_params_est6,\n",
        "                        search_criteria = criterio_gbm_est6,\n",
        "                        parallelism = 10)"
      ],
      "metadata": {
        "id": "pyaOpKGoGwAo",
        "colab": {
          "base_uri": "https://localhost:8080/"
        },
        "outputId": "6637f341-e736-4df9-bb5b-c9b0c23a1bf9"
      },
      "execution_count": null,
      "outputs": [
        {
          "output_type": "stream",
          "name": "stdout",
          "text": [
            "  |======================================================================| 100%\n"
          ]
        }
      ]
    },
    {
      "cell_type": "code",
      "source": [
        "gbm_grid_est10<-h2o.grid(\"gbm\",x = names(train_h2o[,22:48]),y = names(train_h2o[4]),\n",
        "                        grid_id = \"gbm_est10\",\n",
        "                        training_frame = train_h2o,\n",
        "                        validation_frame=valid_h2o,\n",
        "                        seed=1,\n",
        "                        hyper_params = gbm_params_est10,\n",
        "                        search_criteria = criterio_gbm_est10,\n",
        "                        parallelism = 10)"
      ],
      "metadata": {
        "id": "wvQkpTkvG5CI",
        "colab": {
          "base_uri": "https://localhost:8080/"
        },
        "outputId": "190e44d0-2dd7-48aa-88ba-ef08c2f81a86"
      },
      "execution_count": null,
      "outputs": [
        {
          "output_type": "stream",
          "name": "stdout",
          "text": [
            "  |======================================================================| 100%\n"
          ]
        }
      ]
    },
    {
      "cell_type": "code",
      "source": [
        "gbm_grid_est13<-h2o.grid(\"gbm\",x = names(train_h2o[,22:48]),y = names(train_h2o[5]),\n",
        "                        grid_id = \"gbm_est13\",\n",
        "                        training_frame = train_h2o,\n",
        "                        validation_frame=valid_h2o,\n",
        "                        seed=1,\n",
        "                        hyper_params = gbm_params_est13,\n",
        "                        search_criteria = criterio_gbm_est13,\n",
        "                        parallelism = 10)"
      ],
      "metadata": {
        "id": "dsUz1H_6G8ro",
        "colab": {
          "base_uri": "https://localhost:8080/"
        },
        "outputId": "7f8c6c8d-c49c-416e-c49f-02af165ee200"
      },
      "execution_count": null,
      "outputs": [
        {
          "output_type": "stream",
          "name": "stdout",
          "text": [
            "  |======================================================================| 100%\n"
          ]
        },
        {
          "output_type": "stream",
          "name": "stderr",
          "text": [
            "Warning message in h2o.getGrid(grid_id = grid_id):\n",
            "“Some models were not built due to a failure, for more details run `summary(grid_object, show_stack_traces = TRUE)`”\n"
          ]
        }
      ]
    },
    {
      "cell_type": "code",
      "source": [
        "gbm_grid_est19<-h2o.grid(\"gbm\",x = names(train_h2o[,22:48]),y = names(train_h2o[6]),\n",
        "                        grid_id = \"gbm_est19\",\n",
        "                        training_frame = train_h2o,\n",
        "                        validation_frame=valid_h2o,\n",
        "                        seed=1,\n",
        "                        hyper_params = gbm_params_est19,\n",
        "                        search_criteria = criterio_gbm_est19,\n",
        "                        parallelism = 10)"
      ],
      "metadata": {
        "id": "sQ3GGhnxG_95",
        "colab": {
          "base_uri": "https://localhost:8080/"
        },
        "outputId": "b2671686-07d3-416d-dbc0-d49650571e06"
      },
      "execution_count": null,
      "outputs": [
        {
          "output_type": "stream",
          "name": "stdout",
          "text": [
            "  |======================================================================| 100%\n"
          ]
        }
      ]
    },
    {
      "cell_type": "code",
      "source": [
        "gbm_grid_est23<-h2o.grid(\"gbm\",x = names(train_h2o[,22:48]),y = names(train_h2o[7]),\n",
        "                        grid_id = \"gbm_est23\",\n",
        "                        training_frame = train_h2o,\n",
        "                        validation_frame=valid_h2o,\n",
        "                        seed=1,\n",
        "                        hyper_params = gbm_params_est23,\n",
        "                        search_criteria = criterio_gbm_est23,\n",
        "                        parallelism = 10)"
      ],
      "metadata": {
        "id": "BM8-hrqyHLc_",
        "colab": {
          "base_uri": "https://localhost:8080/"
        },
        "outputId": "8edd648a-dcd4-45fc-f4f1-ce773057c93f"
      },
      "execution_count": null,
      "outputs": [
        {
          "output_type": "stream",
          "name": "stdout",
          "text": [
            "  |======================================================================| 100%\n"
          ]
        }
      ]
    },
    {
      "cell_type": "code",
      "source": [
        "gbm_grid_est25<-h2o.grid(\"gbm\",x = names(train_h2o[,22:48]),y = names(train_h2o[8]),\n",
        "                        grid_id = \"gbm_est25\",\n",
        "                        training_frame = train_h2o,\n",
        "                        validation_frame=valid_h2o,\n",
        "                        seed=1,\n",
        "                        hyper_params = gbm_params_est25,\n",
        "                        search_criteria = criterio_gbm_est25,\n",
        "                        parallelism = 10)"
      ],
      "metadata": {
        "id": "GbxW5ygwHROv",
        "colab": {
          "base_uri": "https://localhost:8080/"
        },
        "outputId": "67743031-f5e4-4515-c635-5808a1abf3b1"
      },
      "execution_count": null,
      "outputs": [
        {
          "output_type": "stream",
          "name": "stdout",
          "text": [
            "  |======================================================================| 100%\n"
          ]
        }
      ]
    },
    {
      "cell_type": "code",
      "source": [
        "gbm_grid_est26<-h2o.grid(\"gbm\",x = names(train_h2o[,22:48]),y = names(train_h2o[9]),\n",
        "                        grid_id = \"gbm_est26\",\n",
        "                        training_frame = train_h2o,\n",
        "                        validation_frame=valid_h2o,\n",
        "                        seed=1,\n",
        "                        hyper_params = gbm_params_est26,\n",
        "                        search_criteria = criterio_gbm_est26,\n",
        "                        parallelism = 10)"
      ],
      "metadata": {
        "id": "-HfNguZQHVi_",
        "colab": {
          "base_uri": "https://localhost:8080/"
        },
        "outputId": "d6a22313-5255-4ca7-e448-16897eee6888"
      },
      "execution_count": null,
      "outputs": [
        {
          "output_type": "stream",
          "name": "stdout",
          "text": [
            "  |======================================================================| 100%\n"
          ]
        },
        {
          "output_type": "stream",
          "name": "stderr",
          "text": [
            "Warning message in h2o.getGrid(grid_id = grid_id):\n",
            "“Some models were not built due to a failure, for more details run `summary(grid_object, show_stack_traces = TRUE)`”\n"
          ]
        }
      ]
    },
    {
      "cell_type": "code",
      "source": [
        "gbm_grid_est27<-h2o.grid(\"gbm\",x = names(train_h2o[,22:48]),y = names(train_h2o[10]),\n",
        "                        grid_id = \"gbm_est27\",\n",
        "                        training_frame = train_h2o,\n",
        "                        validation_frame=valid_h2o,\n",
        "                        seed=1,\n",
        "                        hyper_params = gbm_params_est27,\n",
        "                        search_criteria = criterio_gbm_est27,\n",
        "                        parallelism = 10)"
      ],
      "metadata": {
        "id": "P1vFbM7AHe_I",
        "colab": {
          "base_uri": "https://localhost:8080/"
        },
        "outputId": "cca8c709-dcc6-4725-e889-b8c2e27be1e7"
      },
      "execution_count": null,
      "outputs": [
        {
          "output_type": "stream",
          "name": "stdout",
          "text": [
            "  |======================================================================| 100%\n"
          ]
        }
      ]
    },
    {
      "cell_type": "code",
      "source": [
        "gbm_grid_est28<-h2o.grid(\"gbm\",x = names(train_h2o[,22:48]),y = names(train_h2o[11]),\n",
        "                        grid_id = \"gbm_est28\",\n",
        "                        training_frame = train_h2o,\n",
        "                        validation_frame=valid_h2o,\n",
        "                        seed=1,\n",
        "                        hyper_params = gbm_params_est28,\n",
        "                        search_criteria = criterio_gbm_est28,\n",
        "                        parallelism = 10)"
      ],
      "metadata": {
        "id": "zvrrzcbvHnOz",
        "colab": {
          "base_uri": "https://localhost:8080/"
        },
        "outputId": "36ac941f-3ff7-43f3-9f9b-fec44578490f"
      },
      "execution_count": null,
      "outputs": [
        {
          "output_type": "stream",
          "name": "stdout",
          "text": [
            "  |======================================================================| 100%\n"
          ]
        }
      ]
    },
    {
      "cell_type": "code",
      "source": [
        "gbm_grid_est32<-h2o.grid(\"gbm\",x = names(train_h2o[,22:48]),y = names(train_h2o[12]),\n",
        "                        grid_id = \"gbm_est32\",\n",
        "                        training_frame = train_h2o,\n",
        "                        validation_frame=valid_h2o,\n",
        "                        seed=1,\n",
        "                        hyper_params = gbm_params_est32,\n",
        "                        search_criteria = criterio_gbm_est32,\n",
        "                        parallelism = 10)"
      ],
      "metadata": {
        "id": "casgWFlFwRep",
        "colab": {
          "base_uri": "https://localhost:8080/"
        },
        "outputId": "373ed1e8-57b0-4fd6-9b2b-5bb48d1f7638"
      },
      "execution_count": null,
      "outputs": [
        {
          "output_type": "stream",
          "name": "stdout",
          "text": [
            "  |======================================================================| 100%\n"
          ]
        }
      ]
    },
    {
      "cell_type": "code",
      "source": [
        "gbm_grid_est33<-h2o.grid(\"gbm\",x = names(train_h2o[,22:48]),y = names(train_h2o[13]),\n",
        "                        grid_id = \"gbm_est33\",\n",
        "                        training_frame = train_h2o,\n",
        "                        validation_frame=valid_h2o,\n",
        "                        seed=1,\n",
        "                        hyper_params = gbm_params_est33,\n",
        "                        search_criteria = criterio_gbm_est33,\n",
        "                        parallelism = 10)"
      ],
      "metadata": {
        "id": "qYu0X-rGwRwQ",
        "colab": {
          "base_uri": "https://localhost:8080/"
        },
        "outputId": "f4814436-9e90-4f8d-db29-2c332792cff2"
      },
      "execution_count": null,
      "outputs": [
        {
          "output_type": "stream",
          "name": "stdout",
          "text": [
            "  |======================================================================| 100%\n"
          ]
        }
      ]
    },
    {
      "cell_type": "code",
      "source": [
        "gbm_grid_est36<-h2o.grid(\"gbm\",x = names(train_h2o[,22:48]),y = names(train_h2o[14]),\n",
        "                        grid_id = \"gbm_est36\",\n",
        "                        training_frame = train_h2o,\n",
        "                        validation_frame=valid_h2o,\n",
        "                        seed=1,\n",
        "                        hyper_params = gbm_params_est36,\n",
        "                        search_criteria = criterio_gbm_est36,\n",
        "                        parallelism = 10)"
      ],
      "metadata": {
        "id": "MMolCPLnwSEo",
        "colab": {
          "base_uri": "https://localhost:8080/"
        },
        "outputId": "26d19cb2-b4d0-430b-e399-29aa63b672fd"
      },
      "execution_count": null,
      "outputs": [
        {
          "output_type": "stream",
          "name": "stdout",
          "text": [
            "  |======================================================================| 100%\n"
          ]
        }
      ]
    },
    {
      "cell_type": "code",
      "source": [
        "gbm_grid_est46<-h2o.grid(\"gbm\",x = names(train_h2o[,22:48]),y = names(train_h2o[15]),\n",
        "                        grid_id = \"gbm_est46\",\n",
        "                        training_frame = train_h2o,\n",
        "                        validation_frame=valid_h2o,\n",
        "                        seed=1,\n",
        "                        hyper_params = gbm_params_est46,\n",
        "                        search_criteria = criterio_gbm_est46,\n",
        "                        parallelism = 10)"
      ],
      "metadata": {
        "id": "05UDhYeZwSdG",
        "colab": {
          "base_uri": "https://localhost:8080/"
        },
        "outputId": "28f6b1ab-c595-43a6-818a-88a6b0be9814"
      },
      "execution_count": null,
      "outputs": [
        {
          "output_type": "stream",
          "name": "stdout",
          "text": [
            "  |======================================================================| 100%\n"
          ]
        },
        {
          "output_type": "stream",
          "name": "stderr",
          "text": [
            "Warning message in h2o.getGrid(grid_id = grid_id):\n",
            "“Some models were not built due to a failure, for more details run `summary(grid_object, show_stack_traces = TRUE)`”\n"
          ]
        }
      ]
    },
    {
      "cell_type": "code",
      "source": [
        "gbm_grid_est47<-h2o.grid(\"gbm\",x = names(train_h2o[,22:48]),y = names(train_h2o[16]),\n",
        "                        grid_id = \"gbm_est47\",\n",
        "                        training_frame = train_h2o,\n",
        "                        validation_frame=valid_h2o,\n",
        "                        seed=1,\n",
        "                        hyper_params = gbm_params_est47,\n",
        "                        search_criteria = criterio_gbm_est47,\n",
        "                        parallelism = 10)"
      ],
      "metadata": {
        "id": "uXT-r7cNwSyn",
        "colab": {
          "base_uri": "https://localhost:8080/"
        },
        "outputId": "3314505c-c9f9-4ddf-e217-0fd58065f4e9"
      },
      "execution_count": null,
      "outputs": [
        {
          "output_type": "stream",
          "name": "stdout",
          "text": [
            "  |======================================================================| 100%\n"
          ]
        }
      ]
    },
    {
      "cell_type": "code",
      "source": [
        "gbm_grid_est53<-h2o.grid(\"gbm\",x = names(train_h2o[,22:48]),y = names(train_h2o[17]),\n",
        "                        grid_id = \"gbm_est53\",\n",
        "                        training_frame = train_h2o,\n",
        "                        validation_frame=valid_h2o,\n",
        "                        seed=1,\n",
        "                        hyper_params = gbm_params_est53,\n",
        "                        search_criteria = criterio_gbm_est53,\n",
        "                        parallelism = 10)"
      ],
      "metadata": {
        "id": "1wd7MjVqwTJ-",
        "colab": {
          "base_uri": "https://localhost:8080/"
        },
        "outputId": "a9eb2dac-b15c-4c30-8aed-ff7f8364c986"
      },
      "execution_count": null,
      "outputs": [
        {
          "output_type": "stream",
          "name": "stdout",
          "text": [
            "  |======================================================================| 100%\n"
          ]
        }
      ]
    },
    {
      "cell_type": "code",
      "source": [
        "gbm_grid_est57<-h2o.grid(\"gbm\",x = names(train_h2o[,22:48]),y = names(train_h2o[18]),\n",
        "                        grid_id = \"gbm_est57\",\n",
        "                        training_frame = train_h2o,\n",
        "                        validation_frame=valid_h2o,\n",
        "                        seed=1,\n",
        "                        hyper_params = gbm_params_est57,\n",
        "                        search_criteria = criterio_gbm_est57,\n",
        "                        parallelism = 10)"
      ],
      "metadata": {
        "id": "xUCQhDCQwTi4",
        "colab": {
          "base_uri": "https://localhost:8080/"
        },
        "outputId": "2169f34d-8be3-435b-e6bb-452ff3c9a5b5"
      },
      "execution_count": null,
      "outputs": [
        {
          "output_type": "stream",
          "name": "stdout",
          "text": [
            "  |======================================================================| 100%\n"
          ]
        },
        {
          "output_type": "stream",
          "name": "stderr",
          "text": [
            "Warning message in h2o.getGrid(grid_id = grid_id):\n",
            "“Some models were not built due to a failure, for more details run `summary(grid_object, show_stack_traces = TRUE)`”\n"
          ]
        }
      ]
    },
    {
      "cell_type": "code",
      "source": [
        "gbm_grid_est58<-h2o.grid(\"gbm\",x = names(train_h2o[,22:48]),y = names(train_h2o[19]),\n",
        "                        grid_id = \"gbm_est58\",\n",
        "                        training_frame = train_h2o,\n",
        "                        validation_frame=valid_h2o,\n",
        "                        seed=1,\n",
        "                        hyper_params = gbm_params_est58,\n",
        "                        search_criteria = criterio_gbm_est58,\n",
        "                        parallelism = 10)"
      ],
      "metadata": {
        "id": "-royJ5-0wT1W",
        "colab": {
          "base_uri": "https://localhost:8080/"
        },
        "outputId": "92961e07-3eac-400b-c91a-02e998a493bb"
      },
      "execution_count": null,
      "outputs": [
        {
          "output_type": "stream",
          "name": "stdout",
          "text": [
            "  |======================================================================| 100%\n"
          ]
        }
      ]
    },
    {
      "cell_type": "code",
      "source": [
        "gbm_grid_est59<-h2o.grid(\"gbm\",x = names(train_h2o[,22:48]),y = names(train_h2o[20]),\n",
        "                        grid_id = \"gbm_est59\",\n",
        "                        training_frame = train_h2o,\n",
        "                        validation_frame=valid_h2o,\n",
        "                        seed=1,\n",
        "                        hyper_params = gbm_params_est59,\n",
        "                        search_criteria = criterio_gbm_est59,\n",
        "                        parallelism = 10)"
      ],
      "metadata": {
        "id": "dBgDpWUxwUPf",
        "colab": {
          "base_uri": "https://localhost:8080/"
        },
        "outputId": "1b6bf2dc-011a-4965-a20e-bba8e75deab0"
      },
      "execution_count": null,
      "outputs": [
        {
          "output_type": "stream",
          "name": "stdout",
          "text": [
            "  |======================================================================| 100%\n"
          ]
        }
      ]
    },
    {
      "cell_type": "code",
      "source": [
        "gbm_grid_est60<-h2o.grid(\"gbm\",x = names(train_h2o[,22:48]),y = names(train_h2o[21]),\n",
        "                        grid_id = \"gbm_est60\",\n",
        "                        training_frame = train_h2o,\n",
        "                        validation_frame=valid_h2o,\n",
        "                        seed=1,\n",
        "                        hyper_params = gbm_params_est60,\n",
        "                        search_criteria = criterio_gbm_est60,\n",
        "                        parallelism = 10)"
      ],
      "metadata": {
        "id": "q7qrIh__wUm3",
        "colab": {
          "base_uri": "https://localhost:8080/"
        },
        "outputId": "e31b9e6d-3105-4f77-b43f-f58202c935aa"
      },
      "execution_count": null,
      "outputs": [
        {
          "output_type": "stream",
          "name": "stdout",
          "text": [
            "  |======================================================================| 100%\n"
          ]
        }
      ]
    },
    {
      "cell_type": "markdown",
      "source": [
        "### Selección del mejor modelo GBM"
      ],
      "metadata": {
        "id": "od_2DrnhBP1z"
      }
    },
    {
      "cell_type": "code",
      "source": [
        "gbm_gridperf_est3<-h2o.getGrid(grid_id = \"gbm_est3\",\n",
        "                               sort_by = \"MSE\",\n",
        "                               decreasing = FALSE)\n",
        "gbm_gridperf_est3"
      ],
      "metadata": {
        "id": "l7I4tTTvSPGH",
        "colab": {
          "base_uri": "https://localhost:8080/",
          "height": 798
        },
        "outputId": "758f4f97-01e8-4a4c-d5fb-7c2897cd561b"
      },
      "execution_count": null,
      "outputs": [
        {
          "output_type": "display_data",
          "data": {
            "text/plain": [
              "H2O Grid Details\n",
              "================\n",
              "\n",
              "Grid ID: gbm_est3 \n",
              "Used hyper parameters: \n",
              "  -  col_sample_rate \n",
              "  -  learn_rate \n",
              "  -  learn_rate_annealing \n",
              "  -  max_depth \n",
              "  -  min_rows \n",
              "  -  ntrees \n",
              "  -  sample_rate \n",
              "  -  seed \n",
              "Number of models: 1000 \n",
              "Number of failed models: 0 \n",
              "\n",
              "Hyper-Parameter Search Summary: ordered by increasing MSE\n",
              "  col_sample_rate learn_rate learn_rate_annealing max_depth min_rows    ntrees\n",
              "1         0.30000    0.70000              0.98900 100.00000  5.00000 500.00000\n",
              "2         0.30000    0.50000              0.98300 200.00000  5.00000 100.00000\n",
              "3         0.70000    0.70000              0.98000 300.00000 10.00000  50.00000\n",
              "4         0.80000    0.70000              0.92000 150.00000  5.00000 100.00000\n",
              "5         0.70000    0.50000              0.94000 100.00000 10.00000 100.00000\n",
              "  sample_rate        seed                   model_ids     mse\n",
              "1     0.70000 10000.00000 GBM_model_1670723304231_637 8.08869\n",
              "2     0.70000    10.00000 GBM_model_1670723304231_689 9.38965\n",
              "3     0.80000  7000.00000   GBM_model_1670723304231_4 9.59915\n",
              "4     0.80000   500.00000 GBM_model_1670723304231_773 9.83698\n",
              "5     0.70000 10000.00000 GBM_model_1670723304231_928 9.95059\n",
              "\n",
              "---\n",
              "     col_sample_rate learn_rate learn_rate_annealing max_depth min_rows\n",
              "995          1.00000    0.70000              0.98300 550.00000  1.00000\n",
              "996          0.70000    0.50000              0.92000 150.00000  1.00000\n",
              "997          1.00000    0.70000              0.89000 550.00000  1.00000\n",
              "998          0.70000    0.70000              0.98500 650.00000  1.00000\n",
              "999          0.80000    0.70000              0.98300  70.00000  1.00000\n",
              "1000         0.80000    0.70000              0.92000 650.00000  1.00000\n",
              "         ntrees sample_rate       seed                   model_ids      mse\n",
              "995    70.00000     0.80000 1000.00000 GBM_model_1670723304231_370 47.61624\n",
              "996  1000.00000     0.70000  500.00000 GBM_model_1670723304231_215 50.97181\n",
              "997    50.00000     0.70000  200.00000 GBM_model_1670723304231_617 50.99417\n",
              "998   150.00000     0.80000 1000.00000 GBM_model_1670723304231_351 53.50798\n",
              "999   500.00000     0.80000 3000.00000 GBM_model_1670723304231_621 60.88892\n",
              "1000  500.00000     0.80000 3000.00000 GBM_model_1670723304231_880 65.16065"
            ]
          },
          "metadata": {}
        }
      ]
    },
    {
      "cell_type": "code",
      "source": [
        "gbm_gridperf_est6<-h2o.getGrid(grid_id = \"gbm_est6\",\n",
        "                               sort_by = \"MSE\",\n",
        "                               decreasing = FALSE)\n",
        "gbm_gridperf_est6"
      ],
      "metadata": {
        "id": "b0p_nGxOIFoH",
        "colab": {
          "base_uri": "https://localhost:8080/",
          "height": 798
        },
        "outputId": "b8006d8b-dee2-4e13-d5b8-bcca65864463"
      },
      "execution_count": null,
      "outputs": [
        {
          "output_type": "display_data",
          "data": {
            "text/plain": [
              "H2O Grid Details\n",
              "================\n",
              "\n",
              "Grid ID: gbm_est6 \n",
              "Used hyper parameters: \n",
              "  -  col_sample_rate \n",
              "  -  learn_rate \n",
              "  -  learn_rate_annealing \n",
              "  -  max_depth \n",
              "  -  min_rows \n",
              "  -  ntrees \n",
              "  -  sample_rate \n",
              "  -  seed \n",
              "Number of models: 1000 \n",
              "Number of failed models: 0 \n",
              "\n",
              "Hyper-Parameter Search Summary: ordered by increasing MSE\n",
              "  col_sample_rate learn_rate learn_rate_annealing max_depth min_rows     ntrees\n",
              "1         0.70000    0.70000              0.98500 650.00000  1.00000  150.00000\n",
              "2         0.30000    0.70000              0.98000   5.00000  5.00000  200.00000\n",
              "3         0.30000    0.10000              0.98300 200.00000  1.00000   30.00000\n",
              "4         0.30000    0.07000              0.98500 600.00000  1.00000 1000.00000\n",
              "5         0.70000    0.70000              0.98300 250.00000  1.00000 1000.00000\n",
              "  sample_rate       seed                   model_ids     mse\n",
              "1     0.80000 1000.00000 GBM_model_1670725239692_351 1.95314\n",
              "2     0.70000 1000.00000 GBM_model_1670725239692_419 2.55079\n",
              "3     1.00000    1.00000 GBM_model_1670725239692_702 2.57256\n",
              "4     0.80000   50.00000 GBM_model_1670725239692_695 2.70854\n",
              "5     0.80000   50.00000 GBM_model_1670725239692_393 2.75172\n",
              "\n",
              "---\n",
              "     col_sample_rate learn_rate learn_rate_annealing max_depth min_rows\n",
              "995          1.00000    0.70000              0.99000 600.00000  5.00000\n",
              "996          0.80000    0.70000              0.94000 250.00000  5.00000\n",
              "997          1.00000    0.50000              0.89000  15.00000  5.00000\n",
              "998          0.30000    0.50000              0.98300  65.00000  1.00000\n",
              "999          0.70000    0.70000              0.89000  60.00000  1.00000\n",
              "1000         0.70000    0.70000              0.89000   5.00000  1.00000\n",
              "        ntrees sample_rate       seed                   model_ids      mse\n",
              "995   60.00000     0.80000  100.00000 GBM_model_1670725239692_312 13.26189\n",
              "996   50.00000     0.70000  500.00000 GBM_model_1670725239692_116 13.32869\n",
              "997  650.00000     0.70000 7000.00000 GBM_model_1670725239692_738 13.51601\n",
              "998   70.00000     0.70000  200.00000 GBM_model_1670725239692_898 13.74964\n",
              "999  500.00000     0.70000    1.00000 GBM_model_1670725239692_626 15.55681\n",
              "1000 250.00000     0.70000  500.00000 GBM_model_1670725239692_388 22.76120"
            ]
          },
          "metadata": {}
        }
      ]
    },
    {
      "cell_type": "code",
      "source": [
        "gbm_gridperf_est10<-h2o.getGrid(grid_id = \"gbm_est10\",\n",
        "                               sort_by = \"MSE\",\n",
        "                               decreasing = FALSE)\n",
        "gbm_gridperf_est10"
      ],
      "metadata": {
        "id": "KxyYn86_IJh4",
        "colab": {
          "base_uri": "https://localhost:8080/",
          "height": 798
        },
        "outputId": "ab340559-2bcf-4c99-e15f-1644f587b820"
      },
      "execution_count": null,
      "outputs": [
        {
          "output_type": "display_data",
          "data": {
            "text/plain": [
              "H2O Grid Details\n",
              "================\n",
              "\n",
              "Grid ID: gbm_est10 \n",
              "Used hyper parameters: \n",
              "  -  col_sample_rate \n",
              "  -  learn_rate \n",
              "  -  learn_rate_annealing \n",
              "  -  max_depth \n",
              "  -  min_rows \n",
              "  -  ntrees \n",
              "  -  sample_rate \n",
              "  -  seed \n",
              "Number of models: 1000 \n",
              "Number of failed models: 0 \n",
              "\n",
              "Hyper-Parameter Search Summary: ordered by increasing MSE\n",
              "  col_sample_rate learn_rate learn_rate_annealing max_depth min_rows     ntrees\n",
              "1         0.70000    0.50000              0.98000   5.00000  1.00000 1000.00000\n",
              "2         0.80000    0.50000              0.98300 700.00000  5.00000   50.00000\n",
              "3         0.30000    0.50000              0.98500 150.00000  5.00000  550.00000\n",
              "4         0.30000    0.70000              0.99000 550.00000  5.00000  600.00000\n",
              "5         0.70000    0.50000              0.98500  70.00000  5.00000   50.00000\n",
              "  sample_rate       seed                    model_ids     mse\n",
              "1     0.70000 1000.00000 GBM_model_1670725239692_1870 2.76780\n",
              "2     0.80000   10.00000 GBM_model_1670725239692_1263 2.92094\n",
              "3     0.70000 1000.00000 GBM_model_1670725239692_1514 3.23281\n",
              "4     1.00000    1.00000 GBM_model_1670725239692_1231 3.40217\n",
              "5     0.80000    1.00000 GBM_model_1670725239692_1966 3.41833\n",
              "\n",
              "---\n",
              "     col_sample_rate learn_rate learn_rate_annealing  max_depth min_rows\n",
              "995          1.00000    0.70000              0.92000   65.00000  1.00000\n",
              "996          1.00000    0.70000              0.92000 1000.00000  1.00000\n",
              "997          1.00000    0.50000              0.99000   60.00000  1.00000\n",
              "998          1.00000    0.50000              0.94000   15.00000  1.00000\n",
              "999          0.30000    0.70000              0.98000  100.00000  1.00000\n",
              "1000         0.30000    0.70000              0.98300  200.00000 10.00000\n",
              "        ntrees sample_rate        seed                    model_ids      mse\n",
              "995   60.00000     1.00000   700.00000 GBM_model_1670725239692_1372 13.64171\n",
              "996  650.00000     1.00000     1.00000 GBM_model_1670725239692_1746 13.64172\n",
              "997   60.00000     1.00000 10000.00000 GBM_model_1670725239692_1073 13.77479\n",
              "998  550.00000     1.00000    10.00000 GBM_model_1670725239692_1630 14.34123\n",
              "999   30.00000     0.70000    50.00000 GBM_model_1670725239692_1400 15.49117\n",
              "1000  50.00000     0.80000    10.00000 GBM_model_1670725239692_1046 15.99803"
            ]
          },
          "metadata": {}
        }
      ]
    },
    {
      "cell_type": "code",
      "source": [
        "gbm_gridperf_est13<-h2o.getGrid(grid_id = \"gbm_est13\",\n",
        "                               sort_by = \"MSE\",\n",
        "                               decreasing = FALSE)\n",
        "gbm_gridperf_est13"
      ],
      "metadata": {
        "id": "bPSFls45IM2_",
        "colab": {
          "base_uri": "https://localhost:8080/",
          "height": 972
        },
        "outputId": "c75fa4d3-66de-45c5-e670-c3d06cdd9eec"
      },
      "execution_count": null,
      "outputs": [
        {
          "output_type": "stream",
          "name": "stderr",
          "text": [
            "Warning message in h2o.getGrid(grid_id = \"gbm_est13\", sort_by = \"MSE\", decreasing = FALSE):\n",
            "“Some models were not built due to a failure, for more details run `summary(grid_object, show_stack_traces = TRUE)`”\n"
          ]
        },
        {
          "output_type": "display_data",
          "data": {
            "text/plain": [
              "H2O Grid Details\n",
              "================\n",
              "\n",
              "Grid ID: gbm_est13 \n",
              "Used hyper parameters: \n",
              "  -  col_sample_rate \n",
              "  -  learn_rate \n",
              "  -  learn_rate_annealing \n",
              "  -  max_depth \n",
              "  -  min_rows \n",
              "  -  ntrees \n",
              "  -  sample_rate \n",
              "  -  seed \n",
              "Number of models: 998 \n",
              "Number of failed models: 1 \n",
              "\n",
              "Hyper-Parameter Search Summary: ordered by increasing MSE\n",
              "  col_sample_rate learn_rate learn_rate_annealing max_depth min_rows     ntrees\n",
              "1         0.30000    0.07000              0.99000  15.00000  1.00000   30.00000\n",
              "2         0.80000    0.05000              0.94000  65.00000  1.00000  700.00000\n",
              "3         1.00000    0.07000              0.94000 150.00000  1.00000  200.00000\n",
              "4         0.30000    0.07000              0.98500 600.00000  1.00000 1000.00000\n",
              "5         0.80000    0.70000              0.98300  70.00000  1.00000  500.00000\n",
              "  sample_rate       seed                    model_ids     mse\n",
              "1     0.70000  100.00000 GBM_model_1670725239692_2520 3.90276\n",
              "2     0.80000  700.00000 GBM_model_1670725239692_2274 4.13090\n",
              "3     0.80000  700.00000 GBM_model_1670725239692_2744 4.32361\n",
              "4     0.80000   50.00000 GBM_model_1670725239692_2695 4.35340\n",
              "5     0.80000 3000.00000 GBM_model_1670725239692_2621 4.60013\n",
              "\n",
              "---\n",
              "    col_sample_rate learn_rate learn_rate_annealing max_depth min_rows\n",
              "993         0.70000    0.70000              0.98900  60.00000 10.00000\n",
              "994         0.30000    0.70000              0.99000  55.00000 10.00000\n",
              "995         1.00000    0.50000              0.98900  70.00000 10.00000\n",
              "996         1.00000    0.70000              0.89000 550.00000  1.00000\n",
              "997         0.70000    0.70000              0.98900  20.00000  1.00000\n",
              "998         1.00000    0.70000              0.98300  60.00000  1.00000\n",
              "        ntrees sample_rate        seed                    model_ids      mse\n",
              "993  150.00000     1.00000   200.00000 GBM_model_1670725239692_2692 22.48593\n",
              "994   70.00000     1.00000 10000.00000 GBM_model_1670725239692_2490 23.43481\n",
              "995 1000.00000     1.00000   700.00000 GBM_model_1670725239692_2551 23.59311\n",
              "996   50.00000     0.70000   200.00000 GBM_model_1670725239692_2617 25.91260\n",
              "997   30.00000     0.70000 10000.00000 GBM_model_1670725239692_2103 30.47787\n",
              "998   70.00000     0.80000 10000.00000 GBM_model_1670725239692_2949 75.92054\n",
              "Failed models\n",
              "-------------\n",
              " col_sample_rate learn_rate learn_rate_annealing max_depth min_rows ntrees\n",
              "             0.8      0.005                0.983       600     10.0    700\n",
              " sample_rate seed status_failed\n",
              "         0.7   50          FAIL\n",
              "                                                  msgs_failed\n",
              " \" wrong priority for task LocalMR, expected 120, but got 97\""
            ]
          },
          "metadata": {}
        }
      ]
    },
    {
      "cell_type": "code",
      "source": [
        "gbm_gridperf_est19<-h2o.getGrid(grid_id = \"gbm_est19\",\n",
        "                               sort_by = \"MSE\",\n",
        "                               decreasing = FALSE)\n",
        "gbm_gridperf_est19"
      ],
      "metadata": {
        "id": "yQnqXLUMIPIX",
        "colab": {
          "base_uri": "https://localhost:8080/",
          "height": 798
        },
        "outputId": "74a73301-3dd1-4c3c-c7db-e174b284c600"
      },
      "execution_count": null,
      "outputs": [
        {
          "output_type": "display_data",
          "data": {
            "text/plain": [
              "H2O Grid Details\n",
              "================\n",
              "\n",
              "Grid ID: gbm_est19 \n",
              "Used hyper parameters: \n",
              "  -  col_sample_rate \n",
              "  -  learn_rate \n",
              "  -  learn_rate_annealing \n",
              "  -  max_depth \n",
              "  -  min_rows \n",
              "  -  ntrees \n",
              "  -  sample_rate \n",
              "  -  seed \n",
              "Number of models: 1000 \n",
              "Number of failed models: 0 \n",
              "\n",
              "Hyper-Parameter Search Summary: ordered by increasing MSE\n",
              "  col_sample_rate learn_rate learn_rate_annealing max_depth min_rows    ntrees\n",
              "1         0.80000    0.50000              0.92000 500.00000 10.00000 250.00000\n",
              "2         0.70000    0.50000              0.94000 100.00000 10.00000 100.00000\n",
              "3         0.30000    0.70000              0.92000 550.00000 10.00000 700.00000\n",
              "4         0.70000    0.00500              0.99000   5.00000  1.00000  70.00000\n",
              "5         1.00000    0.00700              0.98300  60.00000  1.00000  40.00000\n",
              "  sample_rate        seed                   model_ids      mse\n",
              "1     1.00000  5000.00000 GBM_model_1670729624637_752  9.55503\n",
              "2     0.70000 10000.00000 GBM_model_1670729624637_928  9.62820\n",
              "3     0.80000  7000.00000 GBM_model_1670729624637_236 10.14534\n",
              "4     0.70000   100.00000 GBM_model_1670729624637_891 10.33227\n",
              "5     0.80000  7000.00000 GBM_model_1670729624637_281 10.38256\n",
              "\n",
              "---\n",
              "     col_sample_rate learn_rate learn_rate_annealing  max_depth min_rows\n",
              "995          1.00000    0.70000              0.92000   65.00000  1.00000\n",
              "996          1.00000    0.70000              0.92000 1000.00000  1.00000\n",
              "997          1.00000    0.50000              0.99000   60.00000  1.00000\n",
              "998          1.00000    0.70000              0.99000  600.00000  5.00000\n",
              "999          0.70000    0.50000              0.98500   10.00000  1.00000\n",
              "1000         0.70000    0.70000              0.92000  300.00000  1.00000\n",
              "        ntrees sample_rate        seed                   model_ids      mse\n",
              "995   60.00000     1.00000   700.00000 GBM_model_1670729624637_372 36.73313\n",
              "996  650.00000     1.00000     1.00000 GBM_model_1670729624637_746 36.73314\n",
              "997   60.00000     1.00000 10000.00000  GBM_model_1670729624637_73 36.73333\n",
              "998   60.00000     0.80000   100.00000 GBM_model_1670729624637_312 37.10527\n",
              "999   40.00000     0.80000  7000.00000 GBM_model_1670729624637_874 43.05514\n",
              "1000  50.00000     0.70000   200.00000 GBM_model_1670729624637_364 57.29885"
            ]
          },
          "metadata": {}
        }
      ]
    },
    {
      "cell_type": "code",
      "source": [
        "gbm_gridperf_est23<-h2o.getGrid(grid_id = \"gbm_est23\",\n",
        "                               sort_by = \"MSE\",\n",
        "                               decreasing = FALSE)\n",
        "gbm_gridperf_est23"
      ],
      "metadata": {
        "id": "R_uGg3R8IRvn",
        "colab": {
          "base_uri": "https://localhost:8080/",
          "height": 798
        },
        "outputId": "9946c557-4117-4d6d-f723-f1ca28ccb18b"
      },
      "execution_count": null,
      "outputs": [
        {
          "output_type": "display_data",
          "data": {
            "text/plain": [
              "H2O Grid Details\n",
              "================\n",
              "\n",
              "Grid ID: gbm_est23 \n",
              "Used hyper parameters: \n",
              "  -  col_sample_rate \n",
              "  -  learn_rate \n",
              "  -  learn_rate_annealing \n",
              "  -  max_depth \n",
              "  -  min_rows \n",
              "  -  ntrees \n",
              "  -  sample_rate \n",
              "  -  seed \n",
              "Number of models: 1000 \n",
              "Number of failed models: 0 \n",
              "\n",
              "Hyper-Parameter Search Summary: ordered by increasing MSE\n",
              "  col_sample_rate learn_rate learn_rate_annealing  max_depth min_rows\n",
              "1         0.30000    0.70000              0.92000   65.00000 10.00000\n",
              "2         0.80000    0.70000              0.89000 1000.00000 10.00000\n",
              "3         0.70000    0.50000              0.98000   20.00000 10.00000\n",
              "4         0.70000    0.50000              0.94000  700.00000  5.00000\n",
              "5         0.70000    0.50000              0.94000  100.00000 10.00000\n",
              "      ntrees sample_rate        seed                    model_ids     mse\n",
              "1  550.00000     0.70000  7000.00000 GBM_model_1670729624637_1729 5.31594\n",
              "2   60.00000     0.70000 10000.00000 GBM_model_1670729624637_1204 5.35668\n",
              "3   30.00000     0.70000     1.00000 GBM_model_1670729624637_1721 5.49740\n",
              "4 1000.00000     0.70000  5000.00000 GBM_model_1670729624637_1811 5.70973\n",
              "5  100.00000     0.70000 10000.00000 GBM_model_1670729624637_1928 5.73926\n",
              "\n",
              "---\n",
              "     col_sample_rate learn_rate learn_rate_annealing max_depth min_rows\n",
              "995          0.70000    0.70000              0.98500 650.00000  1.00000\n",
              "996          0.70000    0.70000              0.89000  20.00000  1.00000\n",
              "997          1.00000    0.70000              0.98300 550.00000  1.00000\n",
              "998          0.80000    0.70000              0.98900 250.00000  5.00000\n",
              "999          0.70000    0.70000              0.89000 150.00000  1.00000\n",
              "1000         0.70000    0.70000              0.98900  20.00000  1.00000\n",
              "        ntrees sample_rate        seed                    model_ids      mse\n",
              "995  150.00000     0.80000  1000.00000 GBM_model_1670729624637_1351 13.32581\n",
              "996  600.00000     1.00000  1000.00000 GBM_model_1670729624637_1576 13.56386\n",
              "997   70.00000     0.80000  1000.00000 GBM_model_1670729624637_1370 14.75097\n",
              "998  100.00000     0.80000 10000.00000 GBM_model_1670729624637_1239 14.85125\n",
              "999  500.00000     0.80000  7000.00000 GBM_model_1670729624637_1523 20.57488\n",
              "1000  30.00000     0.70000 10000.00000 GBM_model_1670729624637_1103 25.70411"
            ]
          },
          "metadata": {}
        }
      ]
    },
    {
      "cell_type": "code",
      "source": [
        "gbm_gridperf_est25<-h2o.getGrid(grid_id = \"gbm_est25\",\n",
        "                               sort_by = \"MSE\",\n",
        "                               decreasing = FALSE)\n",
        "gbm_gridperf_est25"
      ],
      "metadata": {
        "id": "XsDWl-DYIT9P",
        "colab": {
          "base_uri": "https://localhost:8080/",
          "height": 798
        },
        "outputId": "da690e4a-4298-4757-e547-2d4ecf1afd57"
      },
      "execution_count": null,
      "outputs": [
        {
          "output_type": "display_data",
          "data": {
            "text/plain": [
              "H2O Grid Details\n",
              "================\n",
              "\n",
              "Grid ID: gbm_est25 \n",
              "Used hyper parameters: \n",
              "  -  col_sample_rate \n",
              "  -  learn_rate \n",
              "  -  learn_rate_annealing \n",
              "  -  max_depth \n",
              "  -  min_rows \n",
              "  -  ntrees \n",
              "  -  sample_rate \n",
              "  -  seed \n",
              "Number of models: 1000 \n",
              "Number of failed models: 0 \n",
              "\n",
              "Hyper-Parameter Search Summary: ordered by increasing MSE\n",
              "  col_sample_rate learn_rate learn_rate_annealing  max_depth min_rows\n",
              "1         0.70000    0.50000              0.94000  700.00000  5.00000\n",
              "2         0.30000    0.70000              0.89000   15.00000 15.00000\n",
              "3         0.80000    0.70000              0.89000  100.00000 15.00000\n",
              "4         0.80000    0.50000              0.92000 1000.00000 15.00000\n",
              "5         0.70000    0.50000              0.94000   65.00000 15.00000\n",
              "      ntrees sample_rate       seed                    model_ids     mse\n",
              "1 1000.00000     0.70000 5000.00000 GBM_model_1670729624637_2811 3.10360\n",
              "2  700.00000     0.70000 5000.00000 GBM_model_1670729624637_2726 3.19284\n",
              "3  100.00000     1.00000    1.00000 GBM_model_1670729624637_2465 3.24643\n",
              "4   70.00000     0.80000 5000.00000 GBM_model_1670729624637_2552 3.29842\n",
              "5  650.00000     1.00000   50.00000 GBM_model_1670729624637_2439 3.31558\n",
              "\n",
              "---\n",
              "     col_sample_rate learn_rate learn_rate_annealing  max_depth min_rows\n",
              "995          1.00000    0.70000              0.94000  700.00000  5.00000\n",
              "996          0.70000    0.70000              0.92000  300.00000  1.00000\n",
              "997          0.70000    0.70000              0.98500  650.00000  1.00000\n",
              "998          0.30000    0.70000              0.98000    5.00000  5.00000\n",
              "999          0.30000    0.70000              0.98500   20.00000 15.00000\n",
              "1000         0.30000    0.50000              0.92000 1000.00000 15.00000\n",
              "        ntrees sample_rate       seed                    model_ids     mse\n",
              "995  650.00000     0.80000  200.00000 GBM_model_1670729624637_2404 7.90763\n",
              "996   50.00000     0.70000  200.00000 GBM_model_1670729624637_2364 8.10356\n",
              "997  150.00000     0.80000 1000.00000 GBM_model_1670729624637_2351 8.33947\n",
              "998  200.00000     0.70000 1000.00000 GBM_model_1670729624637_2419 8.98488\n",
              "999  100.00000     1.00000  500.00000 GBM_model_1670729624637_2610 9.52765\n",
              "1000 600.00000     0.70000   10.00000 GBM_model_1670729624637_2181 9.71275"
            ]
          },
          "metadata": {}
        }
      ]
    },
    {
      "cell_type": "code",
      "source": [
        "gbm_gridperf_est26<-h2o.getGrid(grid_id = \"gbm_est26\",\n",
        "                               sort_by = \"MSE\",\n",
        "                               decreasing = FALSE)\n",
        "gbm_gridperf_est26"
      ],
      "metadata": {
        "id": "p6MGQmf4IWpo",
        "colab": {
          "base_uri": "https://localhost:8080/",
          "height": 972
        },
        "outputId": "09d60b7d-d2f4-4e84-8c85-5e7f9a788eb3"
      },
      "execution_count": null,
      "outputs": [
        {
          "output_type": "stream",
          "name": "stderr",
          "text": [
            "Warning message in h2o.getGrid(grid_id = \"gbm_est26\", sort_by = \"MSE\", decreasing = FALSE):\n",
            "“Some models were not built due to a failure, for more details run `summary(grid_object, show_stack_traces = TRUE)`”\n"
          ]
        },
        {
          "output_type": "display_data",
          "data": {
            "text/plain": [
              "H2O Grid Details\n",
              "================\n",
              "\n",
              "Grid ID: gbm_est26 \n",
              "Used hyper parameters: \n",
              "  -  col_sample_rate \n",
              "  -  learn_rate \n",
              "  -  learn_rate_annealing \n",
              "  -  max_depth \n",
              "  -  min_rows \n",
              "  -  ntrees \n",
              "  -  sample_rate \n",
              "  -  seed \n",
              "Number of models: 998 \n",
              "Number of failed models: 1 \n",
              "\n",
              "Hyper-Parameter Search Summary: ordered by increasing MSE\n",
              "  col_sample_rate learn_rate learn_rate_annealing  max_depth min_rows    ntrees\n",
              "1         1.00000    0.00100              0.98000 1000.00000  1.00000  70.00000\n",
              "2         1.00000    0.00100              0.94000   65.00000  1.00000 550.00000\n",
              "3         1.00000    0.00100              0.92000   65.00000 15.00000 100.00000\n",
              "4         0.30000    0.00100              0.89000   65.00000 15.00000  50.00000\n",
              "5         0.70000    0.00100              0.92000  150.00000 15.00000 600.00000\n",
              "  sample_rate       seed                    model_ids     mse\n",
              "1     1.00000  500.00000 GBM_model_1670729624637_3693 2.60699\n",
              "2     1.00000  500.00000 GBM_model_1670729624637_3167 2.61590\n",
              "3     0.70000 5000.00000 GBM_model_1670729624637_3875 2.62698\n",
              "4     0.70000    1.00000 GBM_model_1670729624637_3228 2.62801\n",
              "5     0.80000 3000.00000 GBM_model_1670729624637_3908 2.62848\n",
              "\n",
              "---\n",
              "    col_sample_rate learn_rate learn_rate_annealing max_depth min_rows\n",
              "993         0.30000    0.70000              0.98000 250.00000  5.00000\n",
              "994         0.70000    0.70000              0.89000   5.00000  1.00000\n",
              "995         0.70000    0.70000              0.89000  60.00000  1.00000\n",
              "996         0.70000    0.50000              0.92000 150.00000  1.00000\n",
              "997         0.70000    0.70000              0.94000 550.00000  1.00000\n",
              "998         1.00000    0.70000              0.98300  60.00000  1.00000\n",
              "        ntrees sample_rate        seed                    model_ids      mse\n",
              "993  100.00000     1.00000  7000.00000 GBM_model_1670729624637_3025 12.77204\n",
              "994  250.00000     0.70000   500.00000 GBM_model_1670729624637_3388 13.65129\n",
              "995  500.00000     0.70000     1.00000 GBM_model_1670729624637_3626 14.19893\n",
              "996 1000.00000     0.70000   500.00000 GBM_model_1670729624637_3215 14.43621\n",
              "997  650.00000     0.80000 10000.00000 GBM_model_1670729624637_3505 16.02785\n",
              "998   70.00000     0.80000 10000.00000 GBM_model_1670729624637_3948 31.21281\n",
              "Failed models\n",
              "-------------\n",
              " col_sample_rate learn_rate learn_rate_annealing max_depth min_rows ntrees\n",
              "             1.0       0.05                 0.92       550     10.0    250\n",
              " sample_rate seed status_failed\n",
              "         0.7 7000          FAIL\n",
              "                                                   msgs_failed\n",
              " \" wrong priority for task LocalMR, expected 120, but got 106\""
            ]
          },
          "metadata": {}
        }
      ]
    },
    {
      "cell_type": "code",
      "source": [
        "gbm_gridperf_est27<-h2o.getGrid(grid_id = \"gbm_est27\",\n",
        "                               sort_by = \"MSE\",\n",
        "                               decreasing = FALSE)\n",
        "gbm_gridperf_est27"
      ],
      "metadata": {
        "id": "UeGmJs82IZHx",
        "colab": {
          "base_uri": "https://localhost:8080/",
          "height": 798
        },
        "outputId": "a449c16d-bce5-4230-c330-b32eda35ec79"
      },
      "execution_count": null,
      "outputs": [
        {
          "output_type": "display_data",
          "data": {
            "text/plain": [
              "H2O Grid Details\n",
              "================\n",
              "\n",
              "Grid ID: gbm_est27 \n",
              "Used hyper parameters: \n",
              "  -  col_sample_rate \n",
              "  -  learn_rate \n",
              "  -  learn_rate_annealing \n",
              "  -  max_depth \n",
              "  -  min_rows \n",
              "  -  ntrees \n",
              "  -  sample_rate \n",
              "  -  seed \n",
              "Number of models: 1000 \n",
              "Number of failed models: 0 \n",
              "\n",
              "Hyper-Parameter Search Summary: ordered by increasing MSE\n",
              "  col_sample_rate learn_rate learn_rate_annealing max_depth min_rows     ntrees\n",
              "1         1.00000    0.70000              0.92000 150.00000  1.00000   50.00000\n",
              "2         1.00000    0.07000              0.99000 500.00000  1.00000  100.00000\n",
              "3         0.70000    0.10000              0.92000 550.00000  1.00000  700.00000\n",
              "4         0.80000    0.07000              0.98300 700.00000  1.00000   30.00000\n",
              "5         1.00000    0.10000              0.98300  65.00000  1.00000 1000.00000\n",
              "  sample_rate       seed                    model_ids     mse\n",
              "1     0.80000   10.00000 GBM_model_1670729624637_4391 3.73673\n",
              "2     0.80000 1000.00000 GBM_model_1670729624637_4236 5.02227\n",
              "3     1.00000  500.00000 GBM_model_1670729624637_4911 5.11899\n",
              "4     1.00000 3000.00000 GBM_model_1670729624637_4497 5.17814\n",
              "5     0.80000 1000.00000 GBM_model_1670729624637_4823 5.31653\n",
              "\n",
              "---\n",
              "     col_sample_rate learn_rate learn_rate_annealing max_depth min_rows\n",
              "995          0.30000    0.70000              0.98500  60.00000 10.00000\n",
              "996          0.30000    0.70000              0.99000  55.00000 10.00000\n",
              "997          0.70000    0.70000              0.98300 250.00000  1.00000\n",
              "998          0.70000    0.70000              0.98900  60.00000 10.00000\n",
              "999          0.80000    0.70000              0.98500 250.00000 10.00000\n",
              "1000         0.70000    0.70000              0.98900  20.00000  1.00000\n",
              "         ntrees sample_rate        seed                    model_ids       mse\n",
              "995    30.00000     0.80000   700.00000 GBM_model_1670729624637_4510  82.05035\n",
              "996    70.00000     1.00000 10000.00000 GBM_model_1670729624637_4489  84.02818\n",
              "997  1000.00000     0.80000    50.00000 GBM_model_1670729624637_4392  95.62758\n",
              "998   150.00000     1.00000   200.00000 GBM_model_1670729624637_4691  97.44608\n",
              "999   700.00000     0.80000   700.00000 GBM_model_1670729624637_4880 103.32462\n",
              "1000   30.00000     0.70000 10000.00000 GBM_model_1670729624637_4102 135.23974"
            ]
          },
          "metadata": {}
        }
      ]
    },
    {
      "cell_type": "code",
      "source": [
        "gbm_gridperf_est28<-h2o.getGrid(grid_id = \"gbm_est28\",\n",
        "                               sort_by = \"MSE\",\n",
        "                               decreasing = FALSE)\n",
        "gbm_gridperf_est28"
      ],
      "metadata": {
        "id": "ioYwS3HOIbbP",
        "colab": {
          "base_uri": "https://localhost:8080/",
          "height": 798
        },
        "outputId": "0b2c45d9-05e7-4fb3-8c39-ce3d532c31e4"
      },
      "execution_count": null,
      "outputs": [
        {
          "output_type": "display_data",
          "data": {
            "text/plain": [
              "H2O Grid Details\n",
              "================\n",
              "\n",
              "Grid ID: gbm_est28 \n",
              "Used hyper parameters: \n",
              "  -  col_sample_rate \n",
              "  -  learn_rate \n",
              "  -  learn_rate_annealing \n",
              "  -  max_depth \n",
              "  -  min_rows \n",
              "  -  ntrees \n",
              "  -  sample_rate \n",
              "  -  seed \n",
              "Number of models: 1000 \n",
              "Number of failed models: 0 \n",
              "\n",
              "Hyper-Parameter Search Summary: ordered by increasing MSE\n",
              "  col_sample_rate learn_rate learn_rate_annealing max_depth min_rows     ntrees\n",
              "1         0.70000    0.50000              0.98300 100.00000  5.00000 1000.00000\n",
              "2         1.00000    0.50000              0.89000  15.00000  5.00000  650.00000\n",
              "3         0.70000    0.70000              0.92000  20.00000  5.00000   40.00000\n",
              "4         0.80000    0.70000              0.98300 300.00000  5.00000   60.00000\n",
              "5         0.30000    0.70000              0.98000   5.00000  5.00000  200.00000\n",
              "  sample_rate       seed                    model_ids     mse\n",
              "1     0.80000 5000.00000 GBM_model_1670729624637_5133 7.05577\n",
              "2     0.70000 7000.00000 GBM_model_1670729624637_5737 7.29280\n",
              "3     0.70000 3000.00000 GBM_model_1670729624637_5264 7.31767\n",
              "4     1.00000  500.00000 GBM_model_1670729624637_5573 7.69830\n",
              "5     0.70000 1000.00000 GBM_model_1670729624637_5418 7.71176\n",
              "\n",
              "---\n",
              "     col_sample_rate learn_rate learn_rate_annealing max_depth min_rows\n",
              "995          1.00000    0.50000              0.99000  60.00000  1.00000\n",
              "996          0.70000    0.70000              0.89000  60.00000  1.00000\n",
              "997          1.00000    0.50000              0.99000 100.00000  1.00000\n",
              "998          0.70000    0.70000              0.89000   5.00000  1.00000\n",
              "999          1.00000    0.70000              0.89000 550.00000  1.00000\n",
              "1000         0.70000    0.50000              0.98000   5.00000  1.00000\n",
              "         ntrees sample_rate        seed                    model_ids      mse\n",
              "995    60.00000     1.00000 10000.00000 GBM_model_1670729624637_5072 17.40000\n",
              "996   500.00000     0.70000     1.00000 GBM_model_1670729624637_5625 19.14861\n",
              "997  1000.00000     0.80000   200.00000 GBM_model_1670729624637_5673 20.14909\n",
              "998   250.00000     0.70000   500.00000 GBM_model_1670729624637_5387 20.59250\n",
              "999    50.00000     0.70000   200.00000 GBM_model_1670729624637_5616 21.21990\n",
              "1000 1000.00000     0.70000  1000.00000 GBM_model_1670729624637_5869 23.94662"
            ]
          },
          "metadata": {}
        }
      ]
    },
    {
      "cell_type": "code",
      "source": [
        "gbm_gridperf_est32<-h2o.getGrid(grid_id = \"gbm_est32\",\n",
        "                               sort_by = \"MSE\",\n",
        "                               decreasing = FALSE)\n",
        "gbm_gridperf_est32"
      ],
      "metadata": {
        "id": "d30SDCLhVfds",
        "colab": {
          "base_uri": "https://localhost:8080/",
          "height": 798
        },
        "outputId": "6863e06f-600c-44a9-e855-408521ebc418"
      },
      "execution_count": null,
      "outputs": [
        {
          "output_type": "display_data",
          "data": {
            "text/plain": [
              "H2O Grid Details\n",
              "================\n",
              "\n",
              "Grid ID: gbm_est32 \n",
              "Used hyper parameters: \n",
              "  -  col_sample_rate \n",
              "  -  learn_rate \n",
              "  -  learn_rate_annealing \n",
              "  -  max_depth \n",
              "  -  min_rows \n",
              "  -  ntrees \n",
              "  -  sample_rate \n",
              "  -  seed \n",
              "Number of models: 1000 \n",
              "Number of failed models: 0 \n",
              "\n",
              "Hyper-Parameter Search Summary: ordered by increasing MSE\n",
              "  col_sample_rate learn_rate learn_rate_annealing max_depth min_rows     ntrees\n",
              "1         0.30000    0.50000              0.98500 150.00000  5.00000  550.00000\n",
              "2         0.70000    0.50000              0.94000 700.00000  5.00000 1000.00000\n",
              "3         0.80000    0.07000              0.98900 250.00000 15.00000  150.00000\n",
              "4         0.70000    0.05000              0.99000 600.00000 15.00000  650.00000\n",
              "5         0.30000    0.50000              0.94000 650.00000 10.00000   50.00000\n",
              "  sample_rate        seed                    model_ids     mse\n",
              "1     0.70000  1000.00000 GBM_model_1670729624637_6513 1.70872\n",
              "2     0.70000  5000.00000 GBM_model_1670729624637_6810 2.09078\n",
              "3     0.80000  3000.00000 GBM_model_1670729624637_6234 2.11463\n",
              "4     1.00000 10000.00000 GBM_model_1670729624637_6822 2.13689\n",
              "5     0.80000   500.00000 GBM_model_1670729624637_6120 2.16418\n",
              "\n",
              "---\n",
              "     col_sample_rate learn_rate learn_rate_annealing  max_depth min_rows\n",
              "995          1.00000    0.70000              0.98300  550.00000  1.00000\n",
              "996          0.70000    0.50000              0.98500   10.00000  1.00000\n",
              "997          0.70000    0.70000              0.89000   60.00000  1.00000\n",
              "998          0.30000    0.70000              0.98900  100.00000  5.00000\n",
              "999          0.70000    0.70000              0.98300  250.00000  1.00000\n",
              "1000         0.30000    0.70000              0.98900 1000.00000  5.00000\n",
              "         ntrees sample_rate        seed                    model_ids      mse\n",
              "995    70.00000     0.80000  1000.00000 GBM_model_1670729624637_6369  9.64593\n",
              "996    40.00000     0.80000  7000.00000 GBM_model_1670729624637_6873  9.78781\n",
              "997   500.00000     0.70000     1.00000 GBM_model_1670729624637_6625 10.80218\n",
              "998   500.00000     0.70000 10000.00000 GBM_model_1670729624637_6636 11.77914\n",
              "999  1000.00000     0.80000    50.00000 GBM_model_1670729624637_6392 12.24706\n",
              "1000  500.00000     1.00000   500.00000 GBM_model_1670729624637_6802 13.95785"
            ]
          },
          "metadata": {}
        }
      ]
    },
    {
      "cell_type": "code",
      "source": [
        "gbm_gridperf_est33<-h2o.getGrid(grid_id = \"gbm_est33\",\n",
        "                               sort_by = \"MSE\",\n",
        "                               decreasing = FALSE)\n",
        "gbm_gridperf_est33"
      ],
      "metadata": {
        "id": "-orlijAVVfwL",
        "colab": {
          "base_uri": "https://localhost:8080/",
          "height": 798
        },
        "outputId": "bbc85d65-4d3d-4fdd-8d67-0306a457764e"
      },
      "execution_count": null,
      "outputs": [
        {
          "output_type": "display_data",
          "data": {
            "text/plain": [
              "H2O Grid Details\n",
              "================\n",
              "\n",
              "Grid ID: gbm_est33 \n",
              "Used hyper parameters: \n",
              "  -  col_sample_rate \n",
              "  -  learn_rate \n",
              "  -  learn_rate_annealing \n",
              "  -  max_depth \n",
              "  -  min_rows \n",
              "  -  ntrees \n",
              "  -  sample_rate \n",
              "  -  seed \n",
              "Number of models: 1000 \n",
              "Number of failed models: 0 \n",
              "\n",
              "Hyper-Parameter Search Summary: ordered by increasing MSE\n",
              "  col_sample_rate learn_rate learn_rate_annealing max_depth min_rows    ntrees\n",
              "1         0.30000    0.10000              0.98500 300.00000  1.00000 150.00000\n",
              "2         0.30000    0.05000              0.94000 150.00000  1.00000  40.00000\n",
              "3         0.30000    0.10000              0.98900  20.00000  1.00000 100.00000\n",
              "4         0.30000    0.05000              0.98000  70.00000  1.00000 100.00000\n",
              "5         0.30000    0.05000              0.98000  60.00000  1.00000 700.00000\n",
              "  sample_rate       seed                    model_ids     mse\n",
              "1     1.00000  200.00000 GBM_model_1670729624637_7922 3.45140\n",
              "2     1.00000   10.00000 GBM_model_1670729624637_7795 3.55004\n",
              "3     1.00000 7000.00000 GBM_model_1670729624637_7537 3.55279\n",
              "4     1.00000 7000.00000 GBM_model_1670729624637_7643 3.58333\n",
              "5     0.80000  700.00000 GBM_model_1670729624637_7071 3.60286\n",
              "\n",
              "---\n",
              "     col_sample_rate learn_rate learn_rate_annealing max_depth min_rows\n",
              "995          0.70000    0.70000              0.89000 150.00000  1.00000\n",
              "996          0.30000    0.70000              0.98500  60.00000 10.00000\n",
              "997          0.80000    0.70000              0.92000 650.00000 10.00000\n",
              "998          0.70000    0.70000              0.98500 650.00000  1.00000\n",
              "999          1.00000    0.50000              0.98900  70.00000 10.00000\n",
              "1000         0.70000    0.70000              0.89000   5.00000  1.00000\n",
              "         ntrees sample_rate        seed                    model_ids      mse\n",
              "995   500.00000     0.80000  7000.00000 GBM_model_1670729624637_7522  9.13352\n",
              "996    30.00000     0.80000   700.00000 GBM_model_1670729624637_7510  9.13636\n",
              "997   150.00000     1.00000 10000.00000 GBM_model_1670729624637_7498  9.33172\n",
              "998   150.00000     0.80000  1000.00000 GBM_model_1670729624637_7350  9.79470\n",
              "999  1000.00000     1.00000   700.00000 GBM_model_1670729624637_7550 10.60415\n",
              "1000  250.00000     0.70000   500.00000 GBM_model_1670729624637_7387 11.93981"
            ]
          },
          "metadata": {}
        }
      ]
    },
    {
      "cell_type": "code",
      "source": [
        "gbm_gridperf_est36<-h2o.getGrid(grid_id = \"gbm_est36\",\n",
        "                               sort_by = \"MSE\",\n",
        "                               decreasing = FALSE)\n",
        "gbm_gridperf_est36"
      ],
      "metadata": {
        "id": "oBSI8umaVgDl",
        "colab": {
          "base_uri": "https://localhost:8080/",
          "height": 798
        },
        "outputId": "3e022000-c8d7-48b2-addb-6cfec518846d"
      },
      "execution_count": null,
      "outputs": [
        {
          "output_type": "display_data",
          "data": {
            "text/plain": [
              "H2O Grid Details\n",
              "================\n",
              "\n",
              "Grid ID: gbm_est36 \n",
              "Used hyper parameters: \n",
              "  -  col_sample_rate \n",
              "  -  learn_rate \n",
              "  -  learn_rate_annealing \n",
              "  -  max_depth \n",
              "  -  min_rows \n",
              "  -  ntrees \n",
              "  -  sample_rate \n",
              "  -  seed \n",
              "Number of models: 1000 \n",
              "Number of failed models: 0 \n",
              "\n",
              "Hyper-Parameter Search Summary: ordered by increasing MSE\n",
              "  col_sample_rate learn_rate learn_rate_annealing max_depth min_rows    ntrees\n",
              "1         1.00000    0.50000              0.89000  50.00000  1.00000 200.00000\n",
              "2         1.00000    0.70000              0.98300  60.00000  1.00000  70.00000\n",
              "3         0.30000    0.50000              0.98300  65.00000  5.00000 650.00000\n",
              "4         0.30000    0.50000              0.98300  65.00000  1.00000  70.00000\n",
              "5         0.70000    0.50000              0.98500  10.00000  1.00000  40.00000\n",
              "  sample_rate        seed                   model_ids     mse\n",
              "1     0.70000   700.00000 GBM_model_1670733071004_445 5.79526\n",
              "2     0.80000 10000.00000 GBM_model_1670733071004_949 6.02133\n",
              "3     1.00000   100.00000 GBM_model_1670733071004_764 6.08540\n",
              "4     0.70000   200.00000 GBM_model_1670733071004_898 6.78471\n",
              "5     0.80000  7000.00000 GBM_model_1670733071004_874 7.29429\n",
              "\n",
              "---\n",
              "     col_sample_rate learn_rate learn_rate_annealing max_depth min_rows\n",
              "995          0.70000    0.70000              0.98300 100.00000 10.00000\n",
              "996          0.70000    0.70000              0.98900  20.00000  1.00000\n",
              "997          0.70000    0.70000              0.94000 550.00000  1.00000\n",
              "998          1.00000    0.70000              0.89000 550.00000  1.00000\n",
              "999          1.00000    0.70000              0.89000 700.00000  5.00000\n",
              "1000         0.70000    0.70000              0.89000   5.00000  1.00000\n",
              "        ntrees sample_rate        seed                   model_ids      mse\n",
              "995  600.00000     0.80000  7000.00000 GBM_model_1670733071004_716 28.33933\n",
              "996   30.00000     0.70000 10000.00000 GBM_model_1670733071004_103 31.45290\n",
              "997  650.00000     0.80000 10000.00000 GBM_model_1670733071004_505 32.75779\n",
              "998   50.00000     0.70000   200.00000 GBM_model_1670733071004_617 33.28199\n",
              "999   40.00000     0.80000  5000.00000 GBM_model_1670733071004_124 41.74285\n",
              "1000 250.00000     0.70000   500.00000 GBM_model_1670733071004_388 51.26036"
            ]
          },
          "metadata": {}
        }
      ]
    },
    {
      "cell_type": "code",
      "source": [
        "gbm_gridperf_est46<-h2o.getGrid(grid_id = \"gbm_est46\",\n",
        "                               sort_by = \"MSE\",\n",
        "                               decreasing = FALSE)\n",
        "gbm_gridperf_est46"
      ],
      "metadata": {
        "id": "0yTy5EJ5VgS8",
        "colab": {
          "base_uri": "https://localhost:8080/",
          "height": 1000
        },
        "outputId": "3fecd80f-a52c-449b-e3ba-4c237a925881"
      },
      "execution_count": null,
      "outputs": [
        {
          "output_type": "stream",
          "name": "stderr",
          "text": [
            "Warning message in h2o.getGrid(grid_id = \"gbm_est46\", sort_by = \"MSE\", decreasing = FALSE):\n",
            "“Some models were not built due to a failure, for more details run `summary(grid_object, show_stack_traces = TRUE)`”\n"
          ]
        },
        {
          "output_type": "display_data",
          "data": {
            "text/plain": [
              "H2O Grid Details\n",
              "================\n",
              "\n",
              "Grid ID: gbm_est46 \n",
              "Used hyper parameters: \n",
              "  -  col_sample_rate \n",
              "  -  learn_rate \n",
              "  -  learn_rate_annealing \n",
              "  -  max_depth \n",
              "  -  min_rows \n",
              "  -  ntrees \n",
              "  -  sample_rate \n",
              "  -  seed \n",
              "Number of models: 996 \n",
              "Number of failed models: 2 \n",
              "\n",
              "Hyper-Parameter Search Summary: ordered by increasing MSE\n",
              "  col_sample_rate learn_rate learn_rate_annealing max_depth min_rows     ntrees\n",
              "1         0.80000    0.00700              0.99000 150.00000 15.00000   40.00000\n",
              "2         1.00000    0.00500              0.99000  50.00000 15.00000   60.00000\n",
              "3         0.80000    0.00500              0.98000  20.00000 20.00000 1000.00000\n",
              "4         0.70000    0.00500              0.98000 200.00000 20.00000  150.00000\n",
              "5         0.80000    0.00500              0.98300 700.00000 20.00000  100.00000\n",
              "  sample_rate        seed                    model_ids     mse\n",
              "1     0.80000    50.00000 GBM_model_1670733071004_1700 4.10668\n",
              "2     0.80000  3000.00000 GBM_model_1670733071004_1770 4.10668\n",
              "3     0.70000 10000.00000 GBM_model_1670733071004_1813 4.10668\n",
              "4     0.70000   700.00000 GBM_model_1670733071004_1343 4.10674\n",
              "5     1.00000  7000.00000 GBM_model_1670733071004_1559 4.10674\n",
              "\n",
              "---\n",
              "    col_sample_rate learn_rate learn_rate_annealing max_depth min_rows\n",
              "991         0.70000    0.70000              0.92000 300.00000  1.00000\n",
              "992         1.00000    0.70000              0.98500  10.00000  1.00000\n",
              "993         0.70000    0.70000              0.89000   5.00000  1.00000\n",
              "994         1.00000    0.70000              0.99000 600.00000  5.00000\n",
              "995         1.00000    0.70000              0.98300  60.00000  1.00000\n",
              "996         0.70000    0.70000              0.98900  20.00000  1.00000\n",
              "       ntrees sample_rate        seed                    model_ids      mse\n",
              "991  50.00000     0.70000   200.00000 GBM_model_1670733071004_1364 12.49621\n",
              "992 550.00000     0.70000  3000.00000 GBM_model_1670733071004_1106 12.52582\n",
              "993 250.00000     0.70000   500.00000 GBM_model_1670733071004_1388 13.53725\n",
              "994  60.00000     0.80000   100.00000 GBM_model_1670733071004_1312 14.29498\n",
              "995  70.00000     0.80000 10000.00000 GBM_model_1670733071004_1948 14.85996\n",
              "996  30.00000     0.70000 10000.00000 GBM_model_1670733071004_1103 15.90410\n",
              "Failed models\n",
              "-------------\n",
              " col_sample_rate learn_rate learn_rate_annealing max_depth min_rows ntrees\n",
              "             0.7       0.05                 0.94        60      1.0     60\n",
              "             0.7      0.001                 0.94       100      5.0     70\n",
              " sample_rate seed status_failed\n",
              "         0.7 5000          FAIL\n",
              "         1.0 7000          FAIL\n",
              "                                                  msgs_failed\n",
              " \" wrong priority for task LocalMR, expected 120, but got 91\"\n",
              " \" wrong priority for task LocalMR, expected 120, but got 98\""
            ]
          },
          "metadata": {}
        }
      ]
    },
    {
      "cell_type": "code",
      "source": [
        "gbm_gridperf_est47<-h2o.getGrid(grid_id = \"gbm_est47\",\n",
        "                               sort_by = \"MSE\",\n",
        "                               decreasing = FALSE)\n",
        "gbm_gridperf_est47"
      ],
      "metadata": {
        "id": "0QCLJxRBVgs9",
        "colab": {
          "base_uri": "https://localhost:8080/",
          "height": 798
        },
        "outputId": "b27c18ca-a334-436e-f241-07ac1019b36f"
      },
      "execution_count": null,
      "outputs": [
        {
          "output_type": "display_data",
          "data": {
            "text/plain": [
              "H2O Grid Details\n",
              "================\n",
              "\n",
              "Grid ID: gbm_est47 \n",
              "Used hyper parameters: \n",
              "  -  col_sample_rate \n",
              "  -  learn_rate \n",
              "  -  learn_rate_annealing \n",
              "  -  max_depth \n",
              "  -  min_rows \n",
              "  -  ntrees \n",
              "  -  sample_rate \n",
              "  -  seed \n",
              "Number of models: 1000 \n",
              "Number of failed models: 0 \n",
              "\n",
              "Hyper-Parameter Search Summary: ordered by increasing MSE\n",
              "  col_sample_rate learn_rate learn_rate_annealing max_depth min_rows    ntrees\n",
              "1         0.30000    0.50000              0.98000 650.00000 20.00000  30.00000\n",
              "2         0.70000    0.70000              0.98500  70.00000 20.00000 150.00000\n",
              "3         0.80000    0.50000              0.94000  50.00000 20.00000  40.00000\n",
              "4         0.30000    0.10000              0.98500  65.00000 20.00000  60.00000\n",
              "5         0.70000    0.70000              0.98300 100.00000 20.00000 500.00000\n",
              "  sample_rate       seed                    model_ids     mse\n",
              "1     0.80000 7000.00000 GBM_model_1670733071004_2722 3.77578\n",
              "2     0.80000 3000.00000 GBM_model_1670733071004_2399 3.77769\n",
              "3     0.70000    1.00000 GBM_model_1670733071004_2539 3.78761\n",
              "4     0.70000 3000.00000 GBM_model_1670733071004_2265 3.79846\n",
              "5     0.70000 1000.00000 GBM_model_1670733071004_2253 3.80574\n",
              "\n",
              "---\n",
              "     col_sample_rate learn_rate learn_rate_annealing max_depth min_rows\n",
              "995          1.00000    0.70000              0.98500  10.00000  1.00000\n",
              "996          1.00000    0.70000              0.89000  70.00000  1.00000\n",
              "997          1.00000    0.70000              0.89000 550.00000  1.00000\n",
              "998          1.00000    0.70000              0.98300 550.00000  1.00000\n",
              "999          0.70000    0.70000              0.92000 300.00000  1.00000\n",
              "1000         0.70000    0.70000              0.98500 650.00000  1.00000\n",
              "        ntrees sample_rate       seed                    model_ids      mse\n",
              "995  550.00000     0.70000 3000.00000 GBM_model_1670733071004_2104 13.09429\n",
              "996   70.00000     0.70000   50.00000 GBM_model_1670733071004_2493 13.11525\n",
              "997   50.00000     0.70000  200.00000 GBM_model_1670733071004_2615 13.85578\n",
              "998   70.00000     0.80000 1000.00000 GBM_model_1670733071004_2368 15.10437\n",
              "999   50.00000     0.70000  200.00000 GBM_model_1670733071004_2362 21.65954\n",
              "1000 150.00000     0.80000 1000.00000 GBM_model_1670733071004_2349 27.27411"
            ]
          },
          "metadata": {}
        }
      ]
    },
    {
      "cell_type": "code",
      "source": [
        "gbm_gridperf_est53<-h2o.getGrid(grid_id = \"gbm_est53\",\n",
        "                               sort_by = \"MSE\",\n",
        "                               decreasing = FALSE)\n",
        "gbm_gridperf_est53"
      ],
      "metadata": {
        "id": "MPF5OMg8Vg_0",
        "colab": {
          "base_uri": "https://localhost:8080/",
          "height": 798
        },
        "outputId": "acde49c8-5f71-4a17-b0d5-2765f97c2e32"
      },
      "execution_count": null,
      "outputs": [
        {
          "output_type": "display_data",
          "data": {
            "text/plain": [
              "H2O Grid Details\n",
              "================\n",
              "\n",
              "Grid ID: gbm_est53 \n",
              "Used hyper parameters: \n",
              "  -  col_sample_rate \n",
              "  -  learn_rate \n",
              "  -  learn_rate_annealing \n",
              "  -  max_depth \n",
              "  -  min_rows \n",
              "  -  ntrees \n",
              "  -  sample_rate \n",
              "  -  seed \n",
              "Number of models: 1000 \n",
              "Number of failed models: 0 \n",
              "\n",
              "Hyper-Parameter Search Summary: ordered by increasing MSE\n",
              "  col_sample_rate learn_rate learn_rate_annealing max_depth min_rows    ntrees\n",
              "1         0.70000    0.50000              0.98500  10.00000  1.00000  40.00000\n",
              "2         0.70000    0.70000              0.89000 150.00000  1.00000 500.00000\n",
              "3         1.00000    0.70000              0.92000 150.00000  1.00000  50.00000\n",
              "4         0.70000    0.70000              0.98000 300.00000  1.00000 650.00000\n",
              "5         0.70000    0.50000              0.98300 550.00000  1.00000 650.00000\n",
              "  sample_rate       seed                    model_ids      mse\n",
              "1     0.80000 7000.00000 GBM_model_1670733071004_3872 12.90225\n",
              "2     0.80000 7000.00000 GBM_model_1670733071004_3521 13.45217\n",
              "3     0.80000   10.00000 GBM_model_1670733071004_3390 14.17691\n",
              "4     1.00000 7000.00000 GBM_model_1670733071004_3834 14.68103\n",
              "5     1.00000 7000.00000 GBM_model_1670733071004_3682 14.74734\n",
              "\n",
              "---\n",
              "     col_sample_rate learn_rate learn_rate_annealing  max_depth min_rows\n",
              "995          0.30000    0.70000              0.98900 1000.00000  5.00000\n",
              "996          0.80000    0.70000              0.98300   70.00000  1.00000\n",
              "997          0.80000    0.70000              0.92000  650.00000  1.00000\n",
              "998          0.30000    0.50000              0.98300 1000.00000  1.00000\n",
              "999          0.30000    0.50000              0.92000  250.00000  1.00000\n",
              "1000         0.70000    0.70000              0.98500  650.00000  1.00000\n",
              "        ntrees sample_rate       seed                    model_ids      mse\n",
              "995  500.00000     1.00000  500.00000 GBM_model_1670733071004_3801 29.15222\n",
              "996  500.00000     0.80000 3000.00000 GBM_model_1670733071004_3619 29.80146\n",
              "997  500.00000     0.80000 3000.00000 GBM_model_1670733071004_3878 29.82729\n",
              "998  150.00000     0.70000 7000.00000 GBM_model_1670733071004_3765 30.59862\n",
              "999  150.00000     0.80000    1.00000 GBM_model_1670733071004_3823 32.15897\n",
              "1000 150.00000     0.80000 1000.00000 GBM_model_1670733071004_3349 46.53335"
            ]
          },
          "metadata": {}
        }
      ]
    },
    {
      "cell_type": "code",
      "source": [
        "gbm_gridperf_est57<-h2o.getGrid(grid_id = \"gbm_est57\",\n",
        "                               sort_by = \"MSE\",\n",
        "                               decreasing = FALSE)\n",
        "gbm_gridperf_est57"
      ],
      "metadata": {
        "id": "aNmlcot9VhY8",
        "colab": {
          "base_uri": "https://localhost:8080/",
          "height": 972
        },
        "outputId": "2bd7994f-63b4-4598-a00b-a1375004f0dc"
      },
      "execution_count": null,
      "outputs": [
        {
          "output_type": "stream",
          "name": "stderr",
          "text": [
            "Warning message in h2o.getGrid(grid_id = \"gbm_est57\", sort_by = \"MSE\", decreasing = FALSE):\n",
            "“Some models were not built due to a failure, for more details run `summary(grid_object, show_stack_traces = TRUE)`”\n"
          ]
        },
        {
          "output_type": "display_data",
          "data": {
            "text/plain": [
              "H2O Grid Details\n",
              "================\n",
              "\n",
              "Grid ID: gbm_est57 \n",
              "Used hyper parameters: \n",
              "  -  col_sample_rate \n",
              "  -  learn_rate \n",
              "  -  learn_rate_annealing \n",
              "  -  max_depth \n",
              "  -  min_rows \n",
              "  -  ntrees \n",
              "  -  sample_rate \n",
              "  -  seed \n",
              "Number of models: 998 \n",
              "Number of failed models: 1 \n",
              "\n",
              "Hyper-Parameter Search Summary: ordered by increasing MSE\n",
              "  col_sample_rate learn_rate learn_rate_annealing max_depth min_rows     ntrees\n",
              "1         0.80000    0.50000              0.94000  70.00000 10.00000  500.00000\n",
              "2         0.70000    0.50000              0.98500  70.00000  5.00000   50.00000\n",
              "3         0.80000    0.70000              0.98300 100.00000 10.00000  550.00000\n",
              "4         0.70000    0.70000              0.89000  10.00000  5.00000 1000.00000\n",
              "5         0.70000    0.70000              0.92000  20.00000  5.00000   40.00000\n",
              "  sample_rate       seed                    model_ids     mse\n",
              "1     0.80000 7000.00000 GBM_model_1670733071004_4875 1.88080\n",
              "2     0.80000    1.00000 GBM_model_1670733071004_4964 1.94151\n",
              "3     0.80000  200.00000 GBM_model_1670733071004_4212 1.99118\n",
              "4     1.00000 5000.00000 GBM_model_1670733071004_4814 2.02529\n",
              "5     0.70000 3000.00000 GBM_model_1670733071004_4263 2.04111\n",
              "\n",
              "---\n",
              "    col_sample_rate learn_rate learn_rate_annealing max_depth min_rows\n",
              "993         0.70000    0.70000              0.94000 550.00000  1.00000\n",
              "994         1.00000    0.50000              0.98900 700.00000  1.00000\n",
              "995         0.80000    0.70000              0.94000 250.00000  5.00000\n",
              "996         1.00000    0.70000              0.98300  60.00000  1.00000\n",
              "997         0.30000    0.70000              0.98000 100.00000  1.00000\n",
              "998         0.70000    0.70000              0.98900  20.00000  1.00000\n",
              "       ntrees sample_rate        seed                    model_ids     mse\n",
              "993 650.00000     0.80000 10000.00000 GBM_model_1670733071004_4503 5.71764\n",
              "994  70.00000     0.70000    10.00000 GBM_model_1670733071004_4900 5.82740\n",
              "995  50.00000     0.70000   500.00000 GBM_model_1670733071004_4114 6.00734\n",
              "996  70.00000     0.80000 10000.00000 GBM_model_1670733071004_4947 6.22368\n",
              "997  30.00000     0.70000    50.00000 GBM_model_1670733071004_4398 6.64117\n",
              "998  30.00000     0.70000 10000.00000 GBM_model_1670733071004_4101 8.55156\n",
              "Failed models\n",
              "-------------\n",
              " col_sample_rate learn_rate learn_rate_annealing max_depth min_rows ntrees\n",
              "             1.0        0.7                 0.99       150     15.0    500\n",
              " sample_rate seed status_failed\n",
              "         0.7 7000          FAIL\n",
              "                                                   msgs_failed\n",
              " \" wrong priority for task LocalMR, expected 120, but got 101\""
            ]
          },
          "metadata": {}
        }
      ]
    },
    {
      "cell_type": "code",
      "source": [
        "gbm_gridperf_est58<-h2o.getGrid(grid_id = \"gbm_est58\",\n",
        "                               sort_by = \"MSE\",\n",
        "                               decreasing = FALSE)\n",
        "gbm_gridperf_est58"
      ],
      "metadata": {
        "id": "jIQURJR1Vhn7",
        "colab": {
          "base_uri": "https://localhost:8080/",
          "height": 798
        },
        "outputId": "1e866609-a87d-4c30-e3e5-aaa9c5507cb1"
      },
      "execution_count": null,
      "outputs": [
        {
          "output_type": "display_data",
          "data": {
            "text/plain": [
              "H2O Grid Details\n",
              "================\n",
              "\n",
              "Grid ID: gbm_est58 \n",
              "Used hyper parameters: \n",
              "  -  col_sample_rate \n",
              "  -  learn_rate \n",
              "  -  learn_rate_annealing \n",
              "  -  max_depth \n",
              "  -  min_rows \n",
              "  -  ntrees \n",
              "  -  sample_rate \n",
              "  -  seed \n",
              "Number of models: 1000 \n",
              "Number of failed models: 0 \n",
              "\n",
              "Hyper-Parameter Search Summary: ordered by increasing MSE\n",
              "  col_sample_rate learn_rate learn_rate_annealing max_depth min_rows    ntrees\n",
              "1         0.70000    0.70000              0.89000  20.00000  1.00000 600.00000\n",
              "2         0.70000    0.50000              0.98900  55.00000  1.00000  60.00000\n",
              "3         0.80000    0.50000              0.98500  60.00000  1.00000 500.00000\n",
              "4         0.80000    0.70000              0.92000 650.00000  1.00000 500.00000\n",
              "5         0.80000    0.70000              0.98300  70.00000  1.00000 500.00000\n",
              "  sample_rate        seed                    model_ids     mse\n",
              "1     1.00000  1000.00000 GBM_model_1670733071004_5573 1.40157\n",
              "2     1.00000 10000.00000 GBM_model_1670733071004_5553 1.81541\n",
              "3     1.00000  1000.00000 GBM_model_1670733071004_5273 2.34198\n",
              "4     0.80000  3000.00000 GBM_model_1670733071004_5877 2.63487\n",
              "5     0.80000  3000.00000 GBM_model_1670733071004_5618 2.90762\n",
              "\n",
              "---\n",
              "     col_sample_rate learn_rate learn_rate_annealing  max_depth min_rows\n",
              "995          0.70000    0.70000              0.92000  100.00000  5.00000\n",
              "996          0.30000    0.50000              0.98300 1000.00000  1.00000\n",
              "997          0.30000    0.70000              0.98000  100.00000  1.00000\n",
              "998          0.30000    0.70000              0.98500  650.00000  5.00000\n",
              "999          0.70000    0.70000              0.98300  250.00000  1.00000\n",
              "1000         0.30000    0.50000              0.98300   65.00000  1.00000\n",
              "         ntrees sample_rate       seed                    model_ids      mse\n",
              "995   100.00000     0.80000    1.00000 GBM_model_1670733071004_5186 16.72058\n",
              "996   150.00000     0.70000 7000.00000 GBM_model_1670733071004_5764 16.99363\n",
              "997    30.00000     0.70000   50.00000 GBM_model_1670733071004_5397 19.23065\n",
              "998   150.00000     0.70000    1.00000 GBM_model_1670733071004_5409 19.25071\n",
              "999  1000.00000     0.80000   50.00000 GBM_model_1670733071004_5390 19.79338\n",
              "1000   70.00000     0.70000  200.00000 GBM_model_1670733071004_5895 19.82785"
            ]
          },
          "metadata": {}
        }
      ]
    },
    {
      "cell_type": "code",
      "source": [
        "gbm_gridperf_est59<-h2o.getGrid(grid_id = \"gbm_est59\",\n",
        "                               sort_by = \"MSE\",\n",
        "                               decreasing = FALSE)\n",
        "gbm_gridperf_est59"
      ],
      "metadata": {
        "id": "VWbUdVK5Vh-T",
        "colab": {
          "base_uri": "https://localhost:8080/",
          "height": 798
        },
        "outputId": "aa8d4694-e8b2-4992-e2f4-f2dcd867fa59"
      },
      "execution_count": null,
      "outputs": [
        {
          "output_type": "display_data",
          "data": {
            "text/plain": [
              "H2O Grid Details\n",
              "================\n",
              "\n",
              "Grid ID: gbm_est59 \n",
              "Used hyper parameters: \n",
              "  -  col_sample_rate \n",
              "  -  learn_rate \n",
              "  -  learn_rate_annealing \n",
              "  -  max_depth \n",
              "  -  min_rows \n",
              "  -  ntrees \n",
              "  -  sample_rate \n",
              "  -  seed \n",
              "Number of models: 1000 \n",
              "Number of failed models: 0 \n",
              "\n",
              "Hyper-Parameter Search Summary: ordered by increasing MSE\n",
              "  col_sample_rate learn_rate learn_rate_annealing  max_depth min_rows\n",
              "1         0.30000    0.01000              0.92000  250.00000  5.00000\n",
              "2         0.30000    0.07000              0.98000  600.00000 20.00000\n",
              "3         0.30000    0.07000              0.92000 1000.00000 20.00000\n",
              "4         0.30000    0.01000              0.98000  300.00000 20.00000\n",
              "5         0.30000    0.00500              0.92000  200.00000 15.00000\n",
              "      ntrees sample_rate        seed                    model_ids     mse\n",
              "1   60.00000     0.70000 10000.00000 GBM_model_1670733071004_6342 7.49892\n",
              "2   60.00000     0.70000   200.00000 GBM_model_1670733071004_6921 7.50701\n",
              "3   60.00000     1.00000    50.00000 GBM_model_1670733071004_6589 7.50859\n",
              "4 1000.00000     0.70000   200.00000 GBM_model_1670733071004_6270 7.51060\n",
              "5  100.00000     0.80000 10000.00000 GBM_model_1670733071004_6539 7.51363\n",
              "\n",
              "---\n",
              "     col_sample_rate learn_rate learn_rate_annealing max_depth min_rows\n",
              "995          1.00000    0.70000              0.89000  55.00000  1.00000\n",
              "996          0.30000    0.50000              0.98500 650.00000  1.00000\n",
              "997          0.70000    0.70000              0.98300 250.00000  1.00000\n",
              "998          0.70000    0.70000              0.89000  60.00000  1.00000\n",
              "999          1.00000    0.70000              0.98300 550.00000  1.00000\n",
              "1000         0.70000    0.70000              0.89000   5.00000  1.00000\n",
              "         ntrees sample_rate        seed                    model_ids      mse\n",
              "995   100.00000     0.70000     1.00000 GBM_model_1670733071004_6088 21.13328\n",
              "996   200.00000     0.70000 10000.00000 GBM_model_1670733071004_6139 22.00037\n",
              "997  1000.00000     0.80000    50.00000 GBM_model_1670733071004_6390 22.67248\n",
              "998   500.00000     0.70000     1.00000 GBM_model_1670733071004_6623 23.52730\n",
              "999    70.00000     0.80000  1000.00000 GBM_model_1670733071004_6367 23.86677\n",
              "1000  250.00000     0.70000   500.00000 GBM_model_1670733071004_6385 25.34253"
            ]
          },
          "metadata": {}
        }
      ]
    },
    {
      "cell_type": "code",
      "source": [
        "gbm_gridperf_est60<-h2o.getGrid(grid_id = \"gbm_est60\",\n",
        "                               sort_by = \"MSE\",\n",
        "                               decreasing = FALSE)\n",
        "gbm_gridperf_est60"
      ],
      "metadata": {
        "id": "YrqaGSP1ViR0",
        "colab": {
          "base_uri": "https://localhost:8080/",
          "height": 798
        },
        "outputId": "3689f518-f99a-4754-f24f-ea3c12ae54e5"
      },
      "execution_count": null,
      "outputs": [
        {
          "output_type": "display_data",
          "data": {
            "text/plain": [
              "H2O Grid Details\n",
              "================\n",
              "\n",
              "Grid ID: gbm_est60 \n",
              "Used hyper parameters: \n",
              "  -  col_sample_rate \n",
              "  -  learn_rate \n",
              "  -  learn_rate_annealing \n",
              "  -  max_depth \n",
              "  -  min_rows \n",
              "  -  ntrees \n",
              "  -  sample_rate \n",
              "  -  seed \n",
              "Number of models: 1000 \n",
              "Number of failed models: 0 \n",
              "\n",
              "Hyper-Parameter Search Summary: ordered by increasing MSE\n",
              "  col_sample_rate learn_rate learn_rate_annealing max_depth min_rows   ntrees\n",
              "1         0.30000    0.10000              0.98300 550.00000  1.00000 40.00000\n",
              "2         0.80000    0.05000              0.98300   5.00000  1.00000 30.00000\n",
              "3         0.30000    0.10000              0.94000 200.00000  1.00000 30.00000\n",
              "4         0.80000    0.07000              0.98300 700.00000  1.00000 30.00000\n",
              "5         0.30000    0.07000              0.99000  15.00000  1.00000 30.00000\n",
              "  sample_rate       seed                    model_ids     mse\n",
              "1     0.70000  500.00000 GBM_model_1670733071004_7903 1.53008\n",
              "2     0.80000  500.00000 GBM_model_1670733071004_7612 1.53266\n",
              "3     0.70000  500.00000 GBM_model_1670733071004_7439 1.55606\n",
              "4     1.00000 3000.00000 GBM_model_1670733071004_7495 1.56659\n",
              "5     0.70000  100.00000 GBM_model_1670733071004_7517 1.56667\n",
              "\n",
              "---\n",
              "     col_sample_rate learn_rate learn_rate_annealing max_depth min_rows\n",
              "995          0.30000    0.70000              0.98900 100.00000  5.00000\n",
              "996          0.70000    0.50000              0.99000  10.00000  5.00000\n",
              "997          1.00000    0.50000              0.99000 100.00000  5.00000\n",
              "998          1.00000    0.70000              0.99000 200.00000  5.00000\n",
              "999          1.00000    0.70000              0.99000 600.00000  5.00000\n",
              "1000         0.30000    0.70000              0.98500 650.00000  5.00000\n",
              "        ntrees sample_rate        seed                    model_ids      mse\n",
              "995  500.00000     0.70000 10000.00000 GBM_model_1670733071004_7634  9.08400\n",
              "996  650.00000     1.00000  7000.00000 GBM_model_1670733071004_7982  9.48787\n",
              "997   60.00000     1.00000    10.00000 GBM_model_1670733071004_7263 10.51495\n",
              "998   50.00000     1.00000     1.00000 GBM_model_1670733071004_7875 12.04316\n",
              "999   60.00000     0.80000   100.00000 GBM_model_1670733071004_7309 12.42601\n",
              "1000 150.00000     0.70000     1.00000 GBM_model_1670733071004_7409 16.41334"
            ]
          },
          "metadata": {}
        }
      ]
    },
    {
      "cell_type": "markdown",
      "source": [
        "### Guardado del mejor modelo GBM"
      ],
      "metadata": {
        "id": "ig7UHi2VBU5i"
      }
    },
    {
      "cell_type": "code",
      "source": [
        "best_gbm_train_est3<-h2o.getModel(gbm_gridperf_est3@model_ids[[1]])\n",
        "best_gbm_train_est3"
      ],
      "metadata": {
        "id": "wYQQysdrSYGw",
        "colab": {
          "base_uri": "https://localhost:8080/",
          "height": 573
        },
        "outputId": "c3fea102-bfc9-4773-c098-63ac1057b384"
      },
      "execution_count": null,
      "outputs": [
        {
          "output_type": "display_data",
          "data": {
            "text/plain": [
              "Model Details:\n",
              "==============\n",
              "\n",
              "H2ORegressionModel: gbm\n",
              "Model ID:  GBM_model_1670723304231_637 \n",
              "Model Summary: \n",
              "  number_of_trees number_of_internal_trees model_size_in_bytes min_depth\n",
              "1             500                      500               61596         2\n",
              "  max_depth mean_depth min_leaves max_leaves mean_leaves\n",
              "1         5    3.48600          3          7     5.07400\n",
              "\n",
              "\n",
              "H2ORegressionMetrics: gbm\n",
              "** Reported on training data. **\n",
              "\n",
              "MSE:  0.2216594\n",
              "RMSE:  0.4708072\n",
              "MAE:  0.3444146\n",
              "RMSLE:  0.2054047\n",
              "Mean Residual Deviance :  0.2216594\n",
              "\n",
              "\n",
              "H2ORegressionMetrics: gbm\n",
              "** Reported on validation data. **\n",
              "\n",
              "MSE:  8.088695\n",
              "RMSE:  2.844063\n",
              "MAE:  2.288865\n",
              "RMSLE:  0.5146992\n",
              "Mean Residual Deviance :  8.088695\n",
              "\n",
              "\n"
            ]
          },
          "metadata": {}
        }
      ]
    },
    {
      "cell_type": "code",
      "source": [
        "best_gbm_train_est6<-h2o.getModel(gbm_gridperf_est6@model_ids[[1]])\n",
        "best_gbm_train_est6"
      ],
      "metadata": {
        "id": "RPE3Fa63gbTd",
        "colab": {
          "base_uri": "https://localhost:8080/",
          "height": 573
        },
        "outputId": "5bd2043f-64e3-40b1-b95a-666146f15f75"
      },
      "execution_count": null,
      "outputs": [
        {
          "output_type": "display_data",
          "data": {
            "text/plain": [
              "Model Details:\n",
              "==============\n",
              "\n",
              "H2ORegressionModel: gbm\n",
              "Model ID:  GBM_model_1670725239692_351 \n",
              "Model Summary: \n",
              "  number_of_trees number_of_internal_trees model_size_in_bytes min_depth\n",
              "1             150                      150               65553         7\n",
              "  max_depth mean_depth min_leaves max_leaves mean_leaves\n",
              "1        17   11.10667         20         39    30.07333\n",
              "\n",
              "\n",
              "H2ORegressionMetrics: gbm\n",
              "** Reported on training data. **\n",
              "\n",
              "MSE:  2.945045e-13\n",
              "RMSE:  5.426827e-07\n",
              "MAE:  4.629529e-07\n",
              "RMSLE:  8.731728e-08\n",
              "Mean Residual Deviance :  2.945045e-13\n",
              "\n",
              "\n",
              "H2ORegressionMetrics: gbm\n",
              "** Reported on validation data. **\n",
              "\n",
              "MSE:  1.953143\n",
              "RMSE:  1.397549\n",
              "MAE:  1.045337\n",
              "RMSLE:  0.4287672\n",
              "Mean Residual Deviance :  1.953143\n",
              "\n",
              "\n"
            ]
          },
          "metadata": {}
        }
      ]
    },
    {
      "cell_type": "code",
      "source": [
        "best_gbm_train_est10<-h2o.getModel(gbm_gridperf_est10@model_ids[[1]])\n",
        "best_gbm_train_est10"
      ],
      "metadata": {
        "id": "1Men34lGgff-",
        "colab": {
          "base_uri": "https://localhost:8080/",
          "height": 573
        },
        "outputId": "8f349495-f76b-48bf-f15e-5ee5b2966dff"
      },
      "execution_count": null,
      "outputs": [
        {
          "output_type": "display_data",
          "data": {
            "text/plain": [
              "Model Details:\n",
              "==============\n",
              "\n",
              "H2ORegressionModel: gbm\n",
              "Model ID:  GBM_model_1670725239692_1870 \n",
              "Model Summary: \n",
              "  number_of_trees number_of_internal_trees model_size_in_bytes min_depth\n",
              "1             651                      651              160140         5\n",
              "  max_depth mean_depth min_leaves max_leaves mean_leaves\n",
              "1         5    5.00000          7         26    14.92627\n",
              "\n",
              "\n",
              "H2ORegressionMetrics: gbm\n",
              "** Reported on training data. **\n",
              "\n",
              "MSE:  4.406335e-09\n",
              "RMSE:  6.638023e-05\n",
              "MAE:  6.053564e-05\n",
              "RMSLE:  2.304512e-05\n",
              "Mean Residual Deviance :  4.406335e-09\n",
              "\n",
              "\n",
              "H2ORegressionMetrics: gbm\n",
              "** Reported on validation data. **\n",
              "\n",
              "MSE:  2.767796\n",
              "RMSE:  1.663669\n",
              "MAE:  1.327154\n",
              "RMSLE:  0.5052737\n",
              "Mean Residual Deviance :  2.767796\n",
              "\n",
              "\n"
            ]
          },
          "metadata": {}
        }
      ]
    },
    {
      "cell_type": "code",
      "source": [
        "best_gbm_train_est13<-h2o.getModel(gbm_gridperf_est13@model_ids[[1]])\n",
        "best_gbm_train_est13"
      ],
      "metadata": {
        "id": "JwTSjd88ghr8",
        "colab": {
          "base_uri": "https://localhost:8080/",
          "height": 573
        },
        "outputId": "2c4dce60-faa5-46f8-ebed-91f719255548"
      },
      "execution_count": null,
      "outputs": [
        {
          "output_type": "display_data",
          "data": {
            "text/plain": [
              "Model Details:\n",
              "==============\n",
              "\n",
              "H2ORegressionModel: gbm\n",
              "Model ID:  GBM_model_1670725239692_2520 \n",
              "Model Summary: \n",
              "  number_of_trees number_of_internal_trees model_size_in_bytes min_depth\n",
              "1              30                       30               13034         6\n",
              "  max_depth mean_depth min_leaves max_leaves mean_leaves\n",
              "1        12    9.00000         18         36    29.80000\n",
              "\n",
              "\n",
              "H2ORegressionMetrics: gbm\n",
              "** Reported on training data. **\n",
              "\n",
              "MSE:  0.8081075\n",
              "RMSE:  0.898948\n",
              "MAE:  0.7233201\n",
              "RMSLE:  0.3377164\n",
              "Mean Residual Deviance :  0.8081075\n",
              "\n",
              "\n",
              "H2ORegressionMetrics: gbm\n",
              "** Reported on validation data. **\n",
              "\n",
              "MSE:  3.90276\n",
              "RMSE:  1.97554\n",
              "MAE:  1.7268\n",
              "RMSLE:  0.6997581\n",
              "Mean Residual Deviance :  3.90276\n",
              "\n",
              "\n"
            ]
          },
          "metadata": {}
        }
      ]
    },
    {
      "cell_type": "code",
      "source": [
        "best_gbm_train_est19<-h2o.getModel(gbm_gridperf_est19@model_ids[[1]])\n",
        "best_gbm_train_est19"
      ],
      "metadata": {
        "id": "FdFH1T9Ngjsf",
        "colab": {
          "base_uri": "https://localhost:8080/",
          "height": 573
        },
        "outputId": "91fb6eaa-0cd1-4171-f6e1-f59c8e8e8d6f"
      },
      "execution_count": null,
      "outputs": [
        {
          "output_type": "display_data",
          "data": {
            "text/plain": [
              "Model Details:\n",
              "==============\n",
              "\n",
              "H2ORegressionModel: gbm\n",
              "Model ID:  GBM_model_1670729624637_752 \n",
              "Model Summary: \n",
              "  number_of_trees number_of_internal_trees model_size_in_bytes min_depth\n",
              "1             159                      159               16184         2\n",
              "  max_depth mean_depth min_leaves max_leaves mean_leaves\n",
              "1         3    2.29560          3          4     3.39623\n",
              "\n",
              "\n",
              "H2ORegressionMetrics: gbm\n",
              "** Reported on training data. **\n",
              "\n",
              "MSE:  5.091195\n",
              "RMSE:  2.256368\n",
              "MAE:  1.750794\n",
              "RMSLE:  0.4133196\n",
              "Mean Residual Deviance :  5.091195\n",
              "\n",
              "\n",
              "H2ORegressionMetrics: gbm\n",
              "** Reported on validation data. **\n",
              "\n",
              "MSE:  9.555034\n",
              "RMSE:  3.091122\n",
              "MAE:  2.543398\n",
              "RMSLE:  0.5752995\n",
              "Mean Residual Deviance :  9.555034\n",
              "\n",
              "\n"
            ]
          },
          "metadata": {}
        }
      ]
    },
    {
      "cell_type": "code",
      "source": [
        "best_gbm_train_est23<-h2o.getModel(gbm_gridperf_est23@model_ids[[1]])\n",
        "best_gbm_train_est23"
      ],
      "metadata": {
        "id": "m03TGp61gl3D",
        "colab": {
          "base_uri": "https://localhost:8080/",
          "height": 573
        },
        "outputId": "b6b250e9-99b9-470c-ac02-4089f5883c86"
      },
      "execution_count": null,
      "outputs": [
        {
          "output_type": "display_data",
          "data": {
            "text/plain": [
              "Model Details:\n",
              "==============\n",
              "\n",
              "H2ORegressionModel: gbm\n",
              "Model ID:  GBM_model_1670729624637_1729 \n",
              "Model Summary: \n",
              "  number_of_trees number_of_internal_trees model_size_in_bytes min_depth\n",
              "1             163                      163               14598         1\n",
              "  max_depth mean_depth min_leaves max_leaves mean_leaves\n",
              "1         2    1.42945          2          3     2.42945\n",
              "\n",
              "\n",
              "H2ORegressionMetrics: gbm\n",
              "** Reported on training data. **\n",
              "\n",
              "MSE:  4.005538\n",
              "RMSE:  2.001384\n",
              "MAE:  1.549097\n",
              "RMSLE:  0.4255994\n",
              "Mean Residual Deviance :  4.005538\n",
              "\n",
              "\n",
              "H2ORegressionMetrics: gbm\n",
              "** Reported on validation data. **\n",
              "\n",
              "MSE:  5.315937\n",
              "RMSE:  2.305632\n",
              "MAE:  1.95376\n",
              "RMSLE:  0.5690082\n",
              "Mean Residual Deviance :  5.315937\n",
              "\n",
              "\n"
            ]
          },
          "metadata": {}
        }
      ]
    },
    {
      "cell_type": "code",
      "source": [
        "best_gbm_train_est25<-h2o.getModel(gbm_gridperf_est25@model_ids[[1]])\n",
        "best_gbm_train_est25"
      ],
      "metadata": {
        "id": "WEC5yx52gn5G",
        "colab": {
          "base_uri": "https://localhost:8080/",
          "height": 573
        },
        "outputId": "60d3ee02-78dd-4ab9-ff94-24b9c95ec485"
      },
      "execution_count": null,
      "outputs": [
        {
          "output_type": "display_data",
          "data": {
            "text/plain": [
              "Model Details:\n",
              "==============\n",
              "\n",
              "H2ORegressionModel: gbm\n",
              "Model ID:  GBM_model_1670729624637_2811 \n",
              "Model Summary: \n",
              "  number_of_trees number_of_internal_trees model_size_in_bytes min_depth\n",
              "1             214                      214               26061         2\n",
              "  max_depth mean_depth min_leaves max_leaves mean_leaves\n",
              "1         6    3.62150          4          7     5.02804\n",
              "\n",
              "\n",
              "H2ORegressionMetrics: gbm\n",
              "** Reported on training data. **\n",
              "\n",
              "MSE:  0.7901657\n",
              "RMSE:  0.8889127\n",
              "MAE:  0.702378\n",
              "RMSLE:  0.3080293\n",
              "Mean Residual Deviance :  0.7901657\n",
              "\n",
              "\n",
              "H2ORegressionMetrics: gbm\n",
              "** Reported on validation data. **\n",
              "\n",
              "MSE:  3.103602\n",
              "RMSE:  1.761704\n",
              "MAE:  1.567531\n",
              "RMSLE:  0.5861333\n",
              "Mean Residual Deviance :  3.103602\n",
              "\n",
              "\n"
            ]
          },
          "metadata": {}
        }
      ]
    },
    {
      "cell_type": "code",
      "source": [
        "best_gbm_train_est26<-h2o.getModel(gbm_gridperf_est26@model_ids[[1]])\n",
        "best_gbm_train_est26"
      ],
      "metadata": {
        "id": "dOW3cunMgprt",
        "colab": {
          "base_uri": "https://localhost:8080/",
          "height": 573
        },
        "outputId": "ca785a2d-105e-4dbe-bcd8-55f2d2da9996"
      },
      "execution_count": null,
      "outputs": [
        {
          "output_type": "display_data",
          "data": {
            "text/plain": [
              "Model Details:\n",
              "==============\n",
              "\n",
              "H2ORegressionModel: gbm\n",
              "Model ID:  GBM_model_1670729624637_3693 \n",
              "Model Summary: \n",
              "  number_of_trees number_of_internal_trees model_size_in_bytes min_depth\n",
              "1              70                       70               34005        10\n",
              "  max_depth mean_depth min_leaves max_leaves mean_leaves\n",
              "1        10   10.00000         34         34    34.00000\n",
              "\n",
              "\n",
              "H2ORegressionMetrics: gbm\n",
              "** Reported on training data. **\n",
              "\n",
              "MSE:  3.961333\n",
              "RMSE:  1.99031\n",
              "MAE:  1.792134\n",
              "RMSLE:  0.6080147\n",
              "Mean Residual Deviance :  3.961333\n",
              "\n",
              "\n",
              "H2ORegressionMetrics: gbm\n",
              "** Reported on validation data. **\n",
              "\n",
              "MSE:  2.606992\n",
              "RMSE:  1.614618\n",
              "MAE:  1.251115\n",
              "RMSLE:  0.6330313\n",
              "Mean Residual Deviance :  2.606992\n",
              "\n",
              "\n"
            ]
          },
          "metadata": {}
        }
      ]
    },
    {
      "cell_type": "code",
      "source": [
        "best_gbm_train_est27<-h2o.getModel(gbm_gridperf_est27@model_ids[[1]])\n",
        "best_gbm_train_est27"
      ],
      "metadata": {
        "id": "uCESWLQ9grgc",
        "colab": {
          "base_uri": "https://localhost:8080/",
          "height": 573
        },
        "outputId": "a567581e-9df7-4b2f-ebd1-927bf4785355"
      },
      "execution_count": null,
      "outputs": [
        {
          "output_type": "display_data",
          "data": {
            "text/plain": [
              "Model Details:\n",
              "==============\n",
              "\n",
              "H2ORegressionModel: gbm\n",
              "Model ID:  GBM_model_1670729624637_4391 \n",
              "Model Summary: \n",
              "  number_of_trees number_of_internal_trees model_size_in_bytes min_depth\n",
              "1              50                       50               25013         7\n",
              "  max_depth mean_depth min_leaves max_leaves mean_leaves\n",
              "1        15   11.04000         29         41    35.06000\n",
              "\n",
              "\n",
              "H2ORegressionMetrics: gbm\n",
              "** Reported on training data. **\n",
              "\n",
              "MSE:  1.497858e-05\n",
              "RMSE:  0.003870217\n",
              "MAE:  0.002830338\n",
              "RMSLE:  0.00125841\n",
              "Mean Residual Deviance :  1.497858e-05\n",
              "\n",
              "\n",
              "H2ORegressionMetrics: gbm\n",
              "** Reported on validation data. **\n",
              "\n",
              "MSE:  3.736732\n",
              "RMSE:  1.933063\n",
              "MAE:  1.642694\n",
              "RMSLE:  0.5045448\n",
              "Mean Residual Deviance :  3.736732\n",
              "\n",
              "\n"
            ]
          },
          "metadata": {}
        }
      ]
    },
    {
      "cell_type": "code",
      "source": [
        "best_gbm_train_est28<-h2o.getModel(gbm_gridperf_est28@model_ids[[1]])\n",
        "best_gbm_train_est28"
      ],
      "metadata": {
        "id": "llPssrKKgtUu",
        "colab": {
          "base_uri": "https://localhost:8080/",
          "height": 573
        },
        "outputId": "7a04a34e-6413-45d5-a80f-63c72d802c21"
      },
      "execution_count": null,
      "outputs": [
        {
          "output_type": "display_data",
          "data": {
            "text/plain": [
              "Model Details:\n",
              "==============\n",
              "\n",
              "H2ORegressionModel: gbm\n",
              "Model ID:  GBM_model_1670729624637_5133 \n",
              "Model Summary: \n",
              "  number_of_trees number_of_internal_trees model_size_in_bytes min_depth\n",
              "1             767                      767              102820         3\n",
              "  max_depth mean_depth min_leaves max_leaves mean_leaves\n",
              "1         6    4.14342          4          8     5.97653\n",
              "\n",
              "\n",
              "H2ORegressionMetrics: gbm\n",
              "** Reported on training data. **\n",
              "\n",
              "MSE:  0.3153089\n",
              "RMSE:  0.5615238\n",
              "MAE:  0.4411347\n",
              "RMSLE:  0.1664612\n",
              "Mean Residual Deviance :  0.3153089\n",
              "\n",
              "\n",
              "H2ORegressionMetrics: gbm\n",
              "** Reported on validation data. **\n",
              "\n",
              "MSE:  7.055768\n",
              "RMSE:  2.65627\n",
              "MAE:  1.861312\n",
              "RMSLE:  0.5484121\n",
              "Mean Residual Deviance :  7.055768\n",
              "\n",
              "\n"
            ]
          },
          "metadata": {}
        }
      ]
    },
    {
      "cell_type": "code",
      "source": [
        "best_gbm_train_est32<-h2o.getModel(gbm_gridperf_est32@model_ids[[1]])\n",
        "best_gbm_train_est32"
      ],
      "metadata": {
        "id": "zcuI2McYcC6r",
        "colab": {
          "base_uri": "https://localhost:8080/",
          "height": 573
        },
        "outputId": "ba1c5a6d-3cad-4b14-eed6-5784eba7b2d3"
      },
      "execution_count": null,
      "outputs": [
        {
          "output_type": "display_data",
          "data": {
            "text/plain": [
              "Model Details:\n",
              "==============\n",
              "\n",
              "H2ORegressionModel: gbm\n",
              "Model ID:  GBM_model_1670729624637_6513 \n",
              "Model Summary: \n",
              "  number_of_trees number_of_internal_trees model_size_in_bytes min_depth\n",
              "1             550                      550               68011         2\n",
              "  max_depth mean_depth min_leaves max_leaves mean_leaves\n",
              "1         5    3.63273          3          7     5.10182\n",
              "\n",
              "\n",
              "H2ORegressionMetrics: gbm\n",
              "** Reported on training data. **\n",
              "\n",
              "MSE:  0.5900719\n",
              "RMSE:  0.7681614\n",
              "MAE:  0.6316689\n",
              "RMSLE:  0.2444963\n",
              "Mean Residual Deviance :  0.5900719\n",
              "\n",
              "\n",
              "H2ORegressionMetrics: gbm\n",
              "** Reported on validation data. **\n",
              "\n",
              "MSE:  1.708721\n",
              "RMSE:  1.307181\n",
              "MAE:  1.032563\n",
              "RMSLE:  0.4211291\n",
              "Mean Residual Deviance :  1.708721\n",
              "\n",
              "\n"
            ]
          },
          "metadata": {}
        }
      ]
    },
    {
      "cell_type": "code",
      "source": [
        "best_gbm_train_est33<-h2o.getModel(gbm_gridperf_est33@model_ids[[1]])\n",
        "best_gbm_train_est33"
      ],
      "metadata": {
        "id": "Zb9kx9wfcDRZ",
        "colab": {
          "base_uri": "https://localhost:8080/",
          "height": 573
        },
        "outputId": "20ec9edc-99eb-4eab-b1f9-bd4e4d4e167f"
      },
      "execution_count": null,
      "outputs": [
        {
          "output_type": "display_data",
          "data": {
            "text/plain": [
              "Model Details:\n",
              "==============\n",
              "\n",
              "H2ORegressionModel: gbm\n",
              "Model ID:  GBM_model_1670729624637_7922 \n",
              "Model Summary: \n",
              "  number_of_trees number_of_internal_trees model_size_in_bytes min_depth\n",
              "1             150                      150               85479         9\n",
              "  max_depth mean_depth min_leaves max_leaves mean_leaves\n",
              "1        13   10.12667         29         45    40.68000\n",
              "\n",
              "\n",
              "H2ORegressionMetrics: gbm\n",
              "** Reported on training data. **\n",
              "\n",
              "MSE:  5.948206e-05\n",
              "RMSE:  0.007712462\n",
              "MAE:  0.006017042\n",
              "RMSLE:  0.00416421\n",
              "Mean Residual Deviance :  5.948206e-05\n",
              "\n",
              "\n",
              "H2ORegressionMetrics: gbm\n",
              "** Reported on validation data. **\n",
              "\n",
              "MSE:  3.451402\n",
              "RMSE:  1.857795\n",
              "MAE:  1.419812\n",
              "RMSLE:  0.6124006\n",
              "Mean Residual Deviance :  3.451402\n",
              "\n",
              "\n"
            ]
          },
          "metadata": {}
        }
      ]
    },
    {
      "cell_type": "code",
      "source": [
        "best_gbm_train_est36<-h2o.getModel(gbm_gridperf_est36@model_ids[[1]])\n",
        "best_gbm_train_est36"
      ],
      "metadata": {
        "id": "RUNR1bXAcDmp",
        "colab": {
          "base_uri": "https://localhost:8080/",
          "height": 573
        },
        "outputId": "6caaf671-db06-4508-9e15-9d4394314e74"
      },
      "execution_count": null,
      "outputs": [
        {
          "output_type": "display_data",
          "data": {
            "text/plain": [
              "Model Details:\n",
              "==============\n",
              "\n",
              "H2ORegressionModel: gbm\n",
              "Model ID:  GBM_model_1670733071004_445 \n",
              "Model Summary: \n",
              "  number_of_trees number_of_internal_trees model_size_in_bytes min_depth\n",
              "1             114                      114               52352         8\n",
              "  max_depth mean_depth min_leaves max_leaves mean_leaves\n",
              "1        15   11.38597         25         43    31.78947\n",
              "\n",
              "\n",
              "H2ORegressionMetrics: gbm\n",
              "** Reported on training data. **\n",
              "\n",
              "MSE:  0.02237572\n",
              "RMSE:  0.1495852\n",
              "MAE:  0.1012426\n",
              "RMSLE:  0.06886213\n",
              "Mean Residual Deviance :  0.02237572\n",
              "\n",
              "\n",
              "H2ORegressionMetrics: gbm\n",
              "** Reported on validation data. **\n",
              "\n",
              "MSE:  5.795259\n",
              "RMSE:  2.407334\n",
              "MAE:  1.965777\n",
              "RMSLE:  NaN\n",
              "Mean Residual Deviance :  5.795259\n",
              "\n",
              "\n"
            ]
          },
          "metadata": {}
        }
      ]
    },
    {
      "cell_type": "code",
      "source": [
        "best_gbm_train_est46<-h2o.getModel(gbm_gridperf_est46@model_ids[[1]])\n",
        "best_gbm_train_est46"
      ],
      "metadata": {
        "id": "kcG_IP_FcEAZ",
        "colab": {
          "base_uri": "https://localhost:8080/",
          "height": 573
        },
        "outputId": "54cce7b8-1ca5-4879-e833-be2720f6dc73"
      },
      "execution_count": null,
      "outputs": [
        {
          "output_type": "display_data",
          "data": {
            "text/plain": [
              "Model Details:\n",
              "==============\n",
              "\n",
              "H2ORegressionModel: gbm\n",
              "Model ID:  GBM_model_1670733071004_1700 \n",
              "Model Summary: \n",
              "  number_of_trees number_of_internal_trees model_size_in_bytes min_depth\n",
              "1              40                       40                3348         1\n",
              "  max_depth mean_depth min_leaves max_leaves mean_leaves\n",
              "1         1    1.00000          2          2     2.00000\n",
              "\n",
              "\n",
              "H2ORegressionMetrics: gbm\n",
              "** Reported on training data. **\n",
              "\n",
              "MSE:  5.589665\n",
              "RMSE:  2.364247\n",
              "MAE:  2.018792\n",
              "RMSLE:  0.4371784\n",
              "Mean Residual Deviance :  5.589665\n",
              "\n",
              "\n",
              "H2ORegressionMetrics: gbm\n",
              "** Reported on validation data. **\n",
              "\n",
              "MSE:  4.106676\n",
              "RMSE:  2.026494\n",
              "MAE:  1.653958\n",
              "RMSLE:  0.3576808\n",
              "Mean Residual Deviance :  4.106676\n",
              "\n",
              "\n"
            ]
          },
          "metadata": {}
        }
      ]
    },
    {
      "cell_type": "code",
      "source": [
        "best_gbm_train_est47<-h2o.getModel(gbm_gridperf_est47@model_ids[[1]])\n",
        "best_gbm_train_est47"
      ],
      "metadata": {
        "id": "SQnR95KOcEQD",
        "colab": {
          "base_uri": "https://localhost:8080/",
          "height": 573
        },
        "outputId": "5a844e6f-af45-44c2-e2a1-9c73b1aa532d"
      },
      "execution_count": null,
      "outputs": [
        {
          "output_type": "display_data",
          "data": {
            "text/plain": [
              "Model Details:\n",
              "==============\n",
              "\n",
              "H2ORegressionModel: gbm\n",
              "Model ID:  GBM_model_1670733071004_2722 \n",
              "Model Summary: \n",
              "  number_of_trees number_of_internal_trees model_size_in_bytes min_depth\n",
              "1              30                       30                2425         1\n",
              "  max_depth mean_depth min_leaves max_leaves mean_leaves\n",
              "1         1    0.70000          1          2     1.70000\n",
              "\n",
              "\n",
              "H2ORegressionMetrics: gbm\n",
              "** Reported on training data. **\n",
              "\n",
              "MSE:  4.41964\n",
              "RMSE:  2.102294\n",
              "MAE:  1.722633\n",
              "RMSLE:  0.556625\n",
              "Mean Residual Deviance :  4.41964\n",
              "\n",
              "\n",
              "H2ORegressionMetrics: gbm\n",
              "** Reported on validation data. **\n",
              "\n",
              "MSE:  3.775777\n",
              "RMSE:  1.943136\n",
              "MAE:  1.671626\n",
              "RMSLE:  0.6963849\n",
              "Mean Residual Deviance :  3.775777\n",
              "\n",
              "\n"
            ]
          },
          "metadata": {}
        }
      ]
    },
    {
      "cell_type": "code",
      "source": [
        "best_gbm_train_est53<-h2o.getModel(gbm_gridperf_est53@model_ids[[1]])\n",
        "best_gbm_train_est53"
      ],
      "metadata": {
        "id": "wTwFOrbccElD",
        "colab": {
          "base_uri": "https://localhost:8080/",
          "height": 573
        },
        "outputId": "d52385ad-ec5f-4a57-a7e4-443d82a1deef"
      },
      "execution_count": null,
      "outputs": [
        {
          "output_type": "display_data",
          "data": {
            "text/plain": [
              "Model Details:\n",
              "==============\n",
              "\n",
              "H2ORegressionModel: gbm\n",
              "Model ID:  GBM_model_1670733071004_3872 \n",
              "Model Summary: \n",
              "  number_of_trees number_of_internal_trees model_size_in_bytes min_depth\n",
              "1              40                       40               19156         7\n",
              "  max_depth mean_depth min_leaves max_leaves mean_leaves\n",
              "1        10    9.42500         23         41    33.50000\n",
              "\n",
              "\n",
              "H2ORegressionMetrics: gbm\n",
              "** Reported on training data. **\n",
              "\n",
              "MSE:  1.046172e-10\n",
              "RMSE:  1.022825e-05\n",
              "MAE:  7.703569e-06\n",
              "RMSLE:  1.148318e-06\n",
              "Mean Residual Deviance :  1.046172e-10\n",
              "\n",
              "\n",
              "H2ORegressionMetrics: gbm\n",
              "** Reported on validation data. **\n",
              "\n",
              "MSE:  12.90225\n",
              "RMSE:  3.59197\n",
              "MAE:  2.598939\n",
              "RMSLE:  0.4347382\n",
              "Mean Residual Deviance :  12.90225\n",
              "\n",
              "\n"
            ]
          },
          "metadata": {}
        }
      ]
    },
    {
      "cell_type": "code",
      "source": [
        "best_gbm_train_est57<-h2o.getModel(gbm_gridperf_est57@model_ids[[1]])\n",
        "best_gbm_train_est57"
      ],
      "metadata": {
        "id": "eR1IoleJcE6h",
        "colab": {
          "base_uri": "https://localhost:8080/",
          "height": 573
        },
        "outputId": "3ffff576-9459-4d2f-877f-a8c563c08048"
      },
      "execution_count": null,
      "outputs": [
        {
          "output_type": "display_data",
          "data": {
            "text/plain": [
              "Model Details:\n",
              "==============\n",
              "\n",
              "H2ORegressionModel: gbm\n",
              "Model ID:  GBM_model_1670733071004_4875 \n",
              "Model Summary: \n",
              "  number_of_trees number_of_internal_trees model_size_in_bytes min_depth\n",
              "1             214                      214               19740         1\n",
              "  max_depth mean_depth min_leaves max_leaves mean_leaves\n",
              "1         3    1.62617          2          4     2.64486\n",
              "\n",
              "\n",
              "H2ORegressionMetrics: gbm\n",
              "** Reported on training data. **\n",
              "\n",
              "MSE:  1.830132\n",
              "RMSE:  1.352824\n",
              "MAE:  1.062645\n",
              "RMSLE:  0.4519172\n",
              "Mean Residual Deviance :  1.830132\n",
              "\n",
              "\n",
              "H2ORegressionMetrics: gbm\n",
              "** Reported on validation data. **\n",
              "\n",
              "MSE:  1.880795\n",
              "RMSE:  1.371421\n",
              "MAE:  1.0407\n",
              "RMSLE:  0.584631\n",
              "Mean Residual Deviance :  1.880795\n",
              "\n",
              "\n"
            ]
          },
          "metadata": {}
        }
      ]
    },
    {
      "cell_type": "code",
      "source": [
        "best_gbm_train_est58<-h2o.getModel(gbm_gridperf_est58@model_ids[[1]])\n",
        "best_gbm_train_est58"
      ],
      "metadata": {
        "id": "XQzKEYITcFUC",
        "colab": {
          "base_uri": "https://localhost:8080/",
          "height": 573
        },
        "outputId": "02a99f04-bdaf-49a3-c637-2fc42e8b15e8"
      },
      "execution_count": null,
      "outputs": [
        {
          "output_type": "display_data",
          "data": {
            "text/plain": [
              "Model Details:\n",
              "==============\n",
              "\n",
              "H2ORegressionModel: gbm\n",
              "Model ID:  GBM_model_1670733071004_5573 \n",
              "Model Summary: \n",
              "  number_of_trees number_of_internal_trees model_size_in_bytes min_depth\n",
              "1             117                      117               57942         7\n",
              "  max_depth mean_depth min_leaves max_leaves mean_leaves\n",
              "1        10    8.35043         29         41    34.63248\n",
              "\n",
              "\n",
              "H2ORegressionMetrics: gbm\n",
              "** Reported on training data. **\n",
              "\n",
              "MSE:  1.50799e-08\n",
              "RMSE:  0.0001228002\n",
              "MAE:  0.0001031215\n",
              "RMSLE:  4.756573e-05\n",
              "Mean Residual Deviance :  1.50799e-08\n",
              "\n",
              "\n",
              "H2ORegressionMetrics: gbm\n",
              "** Reported on validation data. **\n",
              "\n",
              "MSE:  1.401569\n",
              "RMSE:  1.183879\n",
              "MAE:  1.045206\n",
              "RMSLE:  0.52348\n",
              "Mean Residual Deviance :  1.401569\n",
              "\n",
              "\n"
            ]
          },
          "metadata": {}
        }
      ]
    },
    {
      "cell_type": "code",
      "source": [
        "best_gbm_train_est59<-h2o.getModel(gbm_gridperf_est59@model_ids[[1]])\n",
        "best_gbm_train_est59"
      ],
      "metadata": {
        "id": "W3lywDgpcFrK",
        "colab": {
          "base_uri": "https://localhost:8080/",
          "height": 573
        },
        "outputId": "61577461-8c48-4545-8f7b-3efb05a01409"
      },
      "execution_count": null,
      "outputs": [
        {
          "output_type": "display_data",
          "data": {
            "text/plain": [
              "Model Details:\n",
              "==============\n",
              "\n",
              "H2ORegressionModel: gbm\n",
              "Model ID:  GBM_model_1670733071004_6342 \n",
              "Model Summary: \n",
              "  number_of_trees number_of_internal_trees model_size_in_bytes min_depth\n",
              "1              60                       60                7427         2\n",
              "  max_depth mean_depth min_leaves max_leaves mean_leaves\n",
              "1         5    3.63333          3          7     5.21667\n",
              "\n",
              "\n",
              "H2ORegressionMetrics: gbm\n",
              "** Reported on training data. **\n",
              "\n",
              "MSE:  4.751893\n",
              "RMSE:  2.179884\n",
              "MAE:  1.787598\n",
              "RMSLE:  0.5600001\n",
              "Mean Residual Deviance :  4.751893\n",
              "\n",
              "\n",
              "H2ORegressionMetrics: gbm\n",
              "** Reported on validation data. **\n",
              "\n",
              "MSE:  7.498924\n",
              "RMSE:  2.738416\n",
              "MAE:  2.364602\n",
              "RMSLE:  0.8209014\n",
              "Mean Residual Deviance :  7.498924\n",
              "\n",
              "\n"
            ]
          },
          "metadata": {}
        }
      ]
    },
    {
      "cell_type": "code",
      "source": [
        "best_gbm_train_est60<-h2o.getModel(gbm_gridperf_est60@model_ids[[1]])\n",
        "best_gbm_train_est60"
      ],
      "metadata": {
        "id": "raG5SgK7cGDi",
        "colab": {
          "base_uri": "https://localhost:8080/",
          "height": 573
        },
        "outputId": "761f17a8-8914-464f-a92f-6956f6c5ffc4"
      },
      "execution_count": null,
      "outputs": [
        {
          "output_type": "display_data",
          "data": {
            "text/plain": [
              "Model Details:\n",
              "==============\n",
              "\n",
              "H2ORegressionModel: gbm\n",
              "Model ID:  GBM_model_1670733071004_7903 \n",
              "Model Summary: \n",
              "  number_of_trees number_of_internal_trees model_size_in_bytes min_depth\n",
              "1              40                       40               17380         7\n",
              "  max_depth mean_depth min_leaves max_leaves mean_leaves\n",
              "1        13    9.30000         23         40    29.80000\n",
              "\n",
              "\n",
              "H2ORegressionMetrics: gbm\n",
              "** Reported on training data. **\n",
              "\n",
              "MSE:  0.08364806\n",
              "RMSE:  0.2892197\n",
              "MAE:  0.2357623\n",
              "RMSLE:  0.1383861\n",
              "Mean Residual Deviance :  0.08364806\n",
              "\n",
              "\n",
              "H2ORegressionMetrics: gbm\n",
              "** Reported on validation data. **\n",
              "\n",
              "MSE:  1.53008\n",
              "RMSE:  1.236964\n",
              "MAE:  1.0175\n",
              "RMSLE:  0.56621\n",
              "Mean Residual Deviance :  1.53008\n",
              "\n",
              "\n"
            ]
          },
          "metadata": {}
        }
      ]
    },
    {
      "cell_type": "markdown",
      "source": [
        "### Contador de modelos maximos a aplicar"
      ],
      "metadata": {
        "id": "Z0x6ABy_RdG_"
      }
    },
    {
      "cell_type": "code",
      "source": [
        "gbm_est3_l1<-length(gbm_params_est3$learn_rate)\n",
        "gbm_est3_l2<-length(gbm_params_est3$ntrees)\n",
        "gbm_est3_l3<-length(gbm_params_est3$max_depth)\n",
        "gbm_est3_l4<-length(gbm_params_est3$seed)\n",
        "gbm_est3_l5<-length(gbm_params_est3$learn_rate_annealing)\n",
        "(gbm_est3_l1*gbm_est3_l2*gbm_est3_l3*gbm_est3_l4*gbm_est3_l5)"
      ],
      "metadata": {
        "id": "c4a8w1jOhvaU",
        "colab": {
          "base_uri": "https://localhost:8080/",
          "height": 34
        },
        "outputId": "f673d58c-6660-4aca-c173-942731571812"
      },
      "execution_count": null,
      "outputs": [
        {
          "output_type": "display_data",
          "data": {
            "text/html": [
              "259200"
            ],
            "text/markdown": "259200",
            "text/latex": "259200",
            "text/plain": [
              "[1] 259200"
            ]
          },
          "metadata": {}
        }
      ]
    },
    {
      "cell_type": "markdown",
      "source": [
        "# Grid de la estación con red neuronal"
      ],
      "metadata": {
        "id": "5TcGbBvUTLa5"
      }
    },
    {
      "cell_type": "markdown",
      "source": [
        "## Criterios de las estaciones"
      ],
      "metadata": {
        "id": "WIllxIe6DyDh"
      }
    },
    {
      "cell_type": "code",
      "source": [
        "criterio_rn_est3<-list(strategy=\"RandomDiscrete\",max_models=1000,seed=1)"
      ],
      "metadata": {
        "id": "d5PLNTMITT9L"
      },
      "execution_count": null,
      "outputs": []
    },
    {
      "cell_type": "code",
      "source": [
        "criterio_rn_est6<-list(strategy=\"RandomDiscrete\",max_models=1000,seed=1)"
      ],
      "metadata": {
        "id": "3AmiSbRWjSC7"
      },
      "execution_count": null,
      "outputs": []
    },
    {
      "cell_type": "code",
      "source": [
        "criterio_rn_est10<-list(strategy=\"RandomDiscrete\",max_models=1000,seed=1)"
      ],
      "metadata": {
        "id": "swr-tpNrjUyT"
      },
      "execution_count": null,
      "outputs": []
    },
    {
      "cell_type": "code",
      "source": [
        "criterio_rn_est13<-list(strategy=\"RandomDiscrete\",max_models=1000,seed=1)"
      ],
      "metadata": {
        "id": "MGf54xuGjV0T"
      },
      "execution_count": null,
      "outputs": []
    },
    {
      "cell_type": "code",
      "source": [
        "criterio_rn_est19<-list(strategy=\"RandomDiscrete\",max_models=1000,seed=1)"
      ],
      "metadata": {
        "id": "jZ4tAkTVjXFq"
      },
      "execution_count": null,
      "outputs": []
    },
    {
      "cell_type": "code",
      "source": [
        "criterio_rn_est23<-list(strategy=\"RandomDiscrete\",max_models=1000,seed=1)"
      ],
      "metadata": {
        "id": "3U-9d4KXjYdz"
      },
      "execution_count": null,
      "outputs": []
    },
    {
      "cell_type": "code",
      "source": [
        "criterio_rn_est25<-list(strategy=\"RandomDiscrete\",max_models=1000,seed=1)"
      ],
      "metadata": {
        "id": "bBQlziRijatL"
      },
      "execution_count": null,
      "outputs": []
    },
    {
      "cell_type": "code",
      "source": [
        "criterio_rn_est26<-list(strategy=\"RandomDiscrete\",max_models=1000,seed=1)"
      ],
      "metadata": {
        "id": "zjDI1OORjbxa"
      },
      "execution_count": null,
      "outputs": []
    },
    {
      "cell_type": "code",
      "source": [
        "criterio_rn_est27<-list(strategy=\"RandomDiscrete\",max_models=1000,seed=1)"
      ],
      "metadata": {
        "id": "uvXBziINjdCK"
      },
      "execution_count": null,
      "outputs": []
    },
    {
      "cell_type": "code",
      "source": [
        "criterio_rn_est28<-list(strategy=\"RandomDiscrete\",max_models=1000,seed=1)"
      ],
      "metadata": {
        "id": "9pVyjbT3jeUC"
      },
      "execution_count": null,
      "outputs": []
    },
    {
      "cell_type": "code",
      "source": [
        "criterio_rn_est32<-list(strategy=\"RandomDiscrete\",max_models=1000,seed=1)"
      ],
      "metadata": {
        "id": "6qN_V_2sepVV"
      },
      "execution_count": null,
      "outputs": []
    },
    {
      "cell_type": "code",
      "source": [
        "criterio_rn_est33<-list(strategy=\"RandomDiscrete\",max_models=1000,seed=1)"
      ],
      "metadata": {
        "id": "EUyUe-Nhep56"
      },
      "execution_count": null,
      "outputs": []
    },
    {
      "cell_type": "code",
      "source": [
        "criterio_rn_est36<-list(strategy=\"RandomDiscrete\",max_models=1000,seed=1)"
      ],
      "metadata": {
        "id": "9KgeR5eZeqNr"
      },
      "execution_count": null,
      "outputs": []
    },
    {
      "cell_type": "code",
      "source": [
        "criterio_rn_est46<-list(strategy=\"RandomDiscrete\",max_models=1000,seed=1)"
      ],
      "metadata": {
        "id": "tpCO4cjteqlZ"
      },
      "execution_count": null,
      "outputs": []
    },
    {
      "cell_type": "code",
      "source": [
        "criterio_rn_est47<-list(strategy=\"RandomDiscrete\",max_models=1000,seed=1)"
      ],
      "metadata": {
        "id": "Ky-HfR8WerBZ"
      },
      "execution_count": null,
      "outputs": []
    },
    {
      "cell_type": "code",
      "source": [
        "criterio_rn_est53<-list(strategy=\"RandomDiscrete\",max_models=1000,seed=1)"
      ],
      "metadata": {
        "id": "SewKhAZaerT5"
      },
      "execution_count": null,
      "outputs": []
    },
    {
      "cell_type": "code",
      "source": [
        "criterio_rn_est57<-list(strategy=\"RandomDiscrete\",max_models=1000,seed=1)"
      ],
      "metadata": {
        "id": "SRvKb3ZBerqa"
      },
      "execution_count": null,
      "outputs": []
    },
    {
      "cell_type": "code",
      "source": [
        "criterio_rn_est58<-list(strategy=\"RandomDiscrete\",max_models=1000,seed=1)"
      ],
      "metadata": {
        "id": "BGok6m2ner_B"
      },
      "execution_count": null,
      "outputs": []
    },
    {
      "cell_type": "code",
      "source": [
        "criterio_rn_est59<-list(strategy=\"RandomDiscrete\",max_models=1000,seed=1)"
      ],
      "metadata": {
        "id": "hKnJyUGTesYt"
      },
      "execution_count": null,
      "outputs": []
    },
    {
      "cell_type": "code",
      "source": [
        "criterio_rn_est60<-list(strategy=\"RandomDiscrete\",max_models=1000,seed=1)"
      ],
      "metadata": {
        "id": "73bf103yessq"
      },
      "execution_count": null,
      "outputs": []
    },
    {
      "cell_type": "markdown",
      "source": [
        "## Parámetros de las estaciones"
      ],
      "metadata": {
        "id": "7bkgDmCxD1TL"
      }
    },
    {
      "cell_type": "code",
      "source": [
        "rn_params_est3<-list(hidden=c(30,40,50,60,70,100,150,200,250,500,550,600,650,700,1000),\n",
        "                     activation=c(\"Rectifier\", \"Maxout\", \"Tanh\", \"RectifierWithDropout\", \"MaxoutWithDropout\", \"TanhWithDropout\"),\n",
        "                     epochs=c(5,10,15,20,50,55,60,65,70,100,150,200),\n",
        "                     rate=c(0.001,0.005,0.007,0.01,0.05,0.07,0.1,0.5,0.7),\n",
        "                     rate_annealing=c(0.000001,0.000005,0.000007,0.0001,0.0005,0.0007),\n",
        "                     rate_decay=c(0.99,0.989,0.985,0.983,0.98))"
      ],
      "metadata": {
        "id": "8fAv-2GaTXJu"
      },
      "execution_count": null,
      "outputs": []
    },
    {
      "cell_type": "code",
      "source": [
        "rn_params_est6<-list(hidden=c(30,40,50,60,70,100,150,200,250,500,550,600,650,700,1000),\n",
        "                     activation=c(\"Rectifier\", \"Maxout\", \"Tanh\", \"RectifierWithDropout\", \"MaxoutWithDropout\", \"TanhWithDropout\"),\n",
        "                     epochs=c(5,10,15,20,50,55,60,65,70,100,150,200),\n",
        "                     rate=c(0.001,0.005,0.007,0.01,0.05,0.07,0.1,0.5,0.7),\n",
        "                     rate_annealing=c(0.000001,0.000005,0.000007,0.0001,0.0005,0.0007),\n",
        "                     rate_decay=c(0.99,0.989,0.985,0.983,0.98))"
      ],
      "metadata": {
        "id": "MuLxqABxjocc"
      },
      "execution_count": null,
      "outputs": []
    },
    {
      "cell_type": "code",
      "source": [
        "rn_params_est10<-list(hidden=c(30,40,50,60,70,100,150,200,250,500,550,600,650,700,1000),\n",
        "                     activation=c(\"Rectifier\", \"Maxout\", \"Tanh\", \"RectifierWithDropout\", \"MaxoutWithDropout\", \"TanhWithDropout\"),\n",
        "                     epochs=c(5,10,15,20,50,55,60,65,70,100,150,200),\n",
        "                     rate=c(0.001,0.005,0.007,0.01,0.05,0.07,0.1,0.5,0.7),\n",
        "                     rate_annealing=c(0.000001,0.000005,0.000007,0.0001,0.0005,0.0007),\n",
        "                     rate_decay=c(0.99,0.989,0.985,0.983,0.98))"
      ],
      "metadata": {
        "id": "_-tw06N-jp56"
      },
      "execution_count": null,
      "outputs": []
    },
    {
      "cell_type": "code",
      "source": [
        "rn_params_est13<-list(hidden=c(30,40,50,60,70,100,150,200,250,500,550,600,650,700,1000),\n",
        "                     activation=c(\"Rectifier\", \"Maxout\", \"Tanh\", \"RectifierWithDropout\", \"MaxoutWithDropout\", \"TanhWithDropout\"),\n",
        "                     epochs=c(5,10,15,20,50,55,60,65,70,100,150,200),\n",
        "                     rate=c(0.001,0.005,0.007,0.01,0.05,0.07,0.1,0.5,0.7),\n",
        "                     rate_annealing=c(0.000001,0.000005,0.000007,0.0001,0.0005,0.0007),\n",
        "                     rate_decay=c(0.99,0.989,0.985,0.983,0.98))"
      ],
      "metadata": {
        "id": "XveOh4emjrQ6"
      },
      "execution_count": null,
      "outputs": []
    },
    {
      "cell_type": "code",
      "source": [
        "rn_params_est19<-list(hidden=c(30,40,50,60,70,100,150,200,250,500,550,600,650,700,1000),\n",
        "                     activation=c(\"Rectifier\", \"Maxout\", \"Tanh\", \"RectifierWithDropout\", \"MaxoutWithDropout\", \"TanhWithDropout\"),\n",
        "                     epochs=c(5,10,15,20,50,55,60,65,70,100,150,200),\n",
        "                     rate=c(0.001,0.005,0.007,0.01,0.05,0.07,0.1,0.5,0.7),\n",
        "                     rate_annealing=c(0.000001,0.000005,0.000007,0.0001,0.0005,0.0007),\n",
        "                     rate_decay=c(0.99,0.989,0.985,0.983,0.98))"
      ],
      "metadata": {
        "id": "4fLW-OAXjstr"
      },
      "execution_count": null,
      "outputs": []
    },
    {
      "cell_type": "code",
      "source": [
        "rn_params_est23<-list(hidden=c(30,40,50,60,70,100,150,200,250,500,550,600,650,700,1000),\n",
        "                     activation=c(\"Rectifier\", \"Maxout\", \"Tanh\", \"RectifierWithDropout\", \"MaxoutWithDropout\", \"TanhWithDropout\"),\n",
        "                     epochs=c(5,10,15,20,50,55,60,65,70,100,150,200),\n",
        "                     rate=c(0.001,0.005,0.007,0.01,0.05,0.07,0.1,0.5,0.7),\n",
        "                     rate_annealing=c(0.000001,0.000005,0.000007,0.0001,0.0005,0.0007),\n",
        "                     rate_decay=c(0.99,0.989,0.985,0.983,0.98))"
      ],
      "metadata": {
        "id": "CgWmw0RxjuJL"
      },
      "execution_count": null,
      "outputs": []
    },
    {
      "cell_type": "code",
      "source": [
        "rn_params_est25<-list(hidden=c(30,40,50,60,70,100,150,200,250,500,550,600,650,700,1000),\n",
        "                     activation=c(\"Rectifier\", \"Maxout\", \"Tanh\", \"RectifierWithDropout\", \"MaxoutWithDropout\", \"TanhWithDropout\"),\n",
        "                     epochs=c(5,10,15,20,50,55,60,65,70,100,150,200),\n",
        "                     rate=c(0.001,0.005,0.007,0.01,0.05,0.07,0.1,0.5,0.7),\n",
        "                     rate_annealing=c(0.000001,0.000005,0.000007,0.0001,0.0005,0.0007),\n",
        "                     rate_decay=c(0.99,0.989,0.985,0.983,0.98))"
      ],
      "metadata": {
        "id": "goj0Qdh-jvXl"
      },
      "execution_count": null,
      "outputs": []
    },
    {
      "cell_type": "code",
      "source": [
        "rn_params_est26<-list(hidden=c(30,40,50,60,70,100,150,200,250,500,550,600,650,700,1000),\n",
        "                     activation=c(\"Rectifier\", \"Maxout\", \"Tanh\", \"RectifierWithDropout\", \"MaxoutWithDropout\", \"TanhWithDropout\"),\n",
        "                     epochs=c(5,10,15,20,50,55,60,65,70,100,150,200),\n",
        "                     rate=c(0.001,0.005,0.007,0.01,0.05,0.07,0.1,0.5,0.7),\n",
        "                     rate_annealing=c(0.000001,0.000005,0.000007,0.0001,0.0005,0.0007),\n",
        "                     rate_decay=c(0.99,0.989,0.985,0.983,0.98))"
      ],
      "metadata": {
        "id": "wjpCQnlajwkH"
      },
      "execution_count": null,
      "outputs": []
    },
    {
      "cell_type": "code",
      "source": [
        "rn_params_est27<-list(hidden=c(30,40,50,60,70,100,150,200,250,500,550,600,650,700,1000),\n",
        "                     activation=c(\"Rectifier\", \"Maxout\", \"Tanh\", \"RectifierWithDropout\", \"MaxoutWithDropout\", \"TanhWithDropout\"),\n",
        "                     epochs=c(5,10,15,20,50,55,60,65,70,100,150,200),\n",
        "                     rate=c(0.001,0.005,0.007,0.01,0.05,0.07,0.1,0.5,0.7),\n",
        "                     rate_annealing=c(0.000001,0.000005,0.000007,0.0001,0.0005,0.0007),\n",
        "                     rate_decay=c(0.99,0.989,0.985,0.983,0.98))"
      ],
      "metadata": {
        "id": "BPvaXROPjxs8"
      },
      "execution_count": null,
      "outputs": []
    },
    {
      "cell_type": "code",
      "source": [
        "rn_params_est28<-list(hidden=c(30,40,50,60,70,100,150,200,250,500,550,600,650,700,1000),\n",
        "                     activation=c(\"Rectifier\", \"Maxout\", \"Tanh\", \"RectifierWithDropout\", \"MaxoutWithDropout\", \"TanhWithDropout\"),\n",
        "                     epochs=c(5,10,15,20,50,55,60,65,70,100,150,200),\n",
        "                     rate=c(0.001,0.005,0.007,0.01,0.05,0.07,0.1,0.5,0.7),\n",
        "                     rate_annealing=c(0.000001,0.000005,0.000007,0.0001,0.0005,0.0007),\n",
        "                     rate_decay=c(0.99,0.989,0.985,0.983,0.98))"
      ],
      "metadata": {
        "id": "vGOZu4VIjy8j"
      },
      "execution_count": null,
      "outputs": []
    },
    {
      "cell_type": "code",
      "source": [
        "rn_params_est32<-list(hidden=c(30,40,50,60,70,100,150,200,250,500,550,600,650,700,1000),\n",
        "                     activation=c(\"Rectifier\", \"Maxout\", \"Tanh\", \"RectifierWithDropout\", \"MaxoutWithDropout\", \"TanhWithDropout\"),\n",
        "                     epochs=c(5,10,15,20,50,55,60,65,70,100,150,200),\n",
        "                     rate=c(0.001,0.005,0.007,0.01,0.05,0.07,0.1,0.5,0.7),\n",
        "                     rate_annealing=c(0.000001,0.000005,0.000007,0.0001,0.0005,0.0007),\n",
        "                     rate_decay=c(0.99,0.989,0.985,0.983,0.98))"
      ],
      "metadata": {
        "id": "WUjq3Kunfgxr"
      },
      "execution_count": null,
      "outputs": []
    },
    {
      "cell_type": "code",
      "source": [
        "rn_params_est33<-list(hidden=c(30,40,50,60,70,100,150,200,250,500,550,600,650,700,1000),\n",
        "                     activation=c(\"Rectifier\", \"Maxout\", \"Tanh\", \"RectifierWithDropout\", \"MaxoutWithDropout\", \"TanhWithDropout\"),\n",
        "                     epochs=c(5,10,15,20,50,55,60,65,70,100,150,200),\n",
        "                     rate=c(0.001,0.005,0.007,0.01,0.05,0.07,0.1,0.5,0.7),\n",
        "                     rate_annealing=c(0.000001,0.000005,0.000007,0.0001,0.0005,0.0007),\n",
        "                     rate_decay=c(0.99,0.989,0.985,0.983,0.98))"
      ],
      "metadata": {
        "id": "gXcVjAdSfhJJ"
      },
      "execution_count": null,
      "outputs": []
    },
    {
      "cell_type": "code",
      "source": [
        "rn_params_est36<-list(hidden=c(30,40,50,60,70,100,150,200,250,500,550,600,650,700,1000),\n",
        "                     activation=c(\"Rectifier\", \"Maxout\", \"Tanh\", \"RectifierWithDropout\", \"MaxoutWithDropout\", \"TanhWithDropout\"),\n",
        "                     epochs=c(5,10,15,20,50,55,60,65,70,100,150,200),\n",
        "                     rate=c(0.001,0.005,0.007,0.01,0.05,0.07,0.1,0.5,0.7),\n",
        "                     rate_annealing=c(0.000001,0.000005,0.000007,0.0001,0.0005,0.0007),\n",
        "                     rate_decay=c(0.99,0.989,0.985,0.983,0.98))"
      ],
      "metadata": {
        "id": "S0lHj6_LfhgB"
      },
      "execution_count": null,
      "outputs": []
    },
    {
      "cell_type": "code",
      "source": [
        "rn_params_est46<-list(hidden=c(30,40,50,60,70,100,150,200,250,500,550,600,650,700,1000),\n",
        "                     activation=c(\"Rectifier\", \"Maxout\", \"Tanh\", \"RectifierWithDropout\", \"MaxoutWithDropout\", \"TanhWithDropout\"),\n",
        "                     epochs=c(5,10,15,20,50,55,60,65,70,100,150,200),\n",
        "                     rate=c(0.001,0.005,0.007,0.01,0.05,0.07,0.1,0.5,0.7),\n",
        "                     rate_annealing=c(0.000001,0.000005,0.000007,0.0001,0.0005,0.0007),\n",
        "                     rate_decay=c(0.99,0.989,0.985,0.983,0.98))"
      ],
      "metadata": {
        "id": "QLhlYh1MfiEh"
      },
      "execution_count": null,
      "outputs": []
    },
    {
      "cell_type": "code",
      "source": [
        "rn_params_est47<-list(hidden=c(30,40,50,60,70,100,150,200,250,500,550,600,650,700,1000),\n",
        "                     activation=c(\"Rectifier\", \"Maxout\", \"Tanh\", \"RectifierWithDropout\", \"MaxoutWithDropout\", \"TanhWithDropout\"),\n",
        "                     epochs=c(5,10,15,20,50,55,60,65,70,100,150,200),\n",
        "                     rate=c(0.001,0.005,0.007,0.01,0.05,0.07,0.1,0.5,0.7),\n",
        "                     rate_annealing=c(0.000001,0.000005,0.000007,0.0001,0.0005,0.0007),\n",
        "                     rate_decay=c(0.99,0.989,0.985,0.983,0.98))"
      ],
      "metadata": {
        "id": "efXKvjrufiXq"
      },
      "execution_count": null,
      "outputs": []
    },
    {
      "cell_type": "code",
      "source": [
        "rn_params_est53<-list(hidden=c(30,40,50,60,70,100,150,200,250,500,550,600,650,700,1000),\n",
        "                     activation=c(\"Rectifier\", \"Maxout\", \"Tanh\", \"RectifierWithDropout\", \"MaxoutWithDropout\", \"TanhWithDropout\"),\n",
        "                     epochs=c(5,10,15,20,50,55,60,65,70,100,150,200),\n",
        "                     rate=c(0.001,0.005,0.007,0.01,0.05,0.07,0.1,0.5,0.7),\n",
        "                     rate_annealing=c(0.000001,0.000005,0.000007,0.0001,0.0005,0.0007),\n",
        "                     rate_decay=c(0.99,0.989,0.985,0.983,0.98))"
      ],
      "metadata": {
        "id": "qlSGhw0wfini"
      },
      "execution_count": null,
      "outputs": []
    },
    {
      "cell_type": "code",
      "source": [
        "rn_params_est57<-list(hidden=c(30,40,50,60,70,100,150,200,250,500,550,600,650,700,1000),\n",
        "                     activation=c(\"Rectifier\", \"Maxout\", \"Tanh\", \"RectifierWithDropout\", \"MaxoutWithDropout\", \"TanhWithDropout\"),\n",
        "                     epochs=c(5,10,15,20,50,55,60,65,70,100,150,200),\n",
        "                     rate=c(0.001,0.005,0.007,0.01,0.05,0.07,0.1,0.5,0.7),\n",
        "                     rate_annealing=c(0.000001,0.000005,0.000007,0.0001,0.0005,0.0007),\n",
        "                     rate_decay=c(0.99,0.989,0.985,0.983,0.98))"
      ],
      "metadata": {
        "id": "cvTTqlb3fi6C"
      },
      "execution_count": null,
      "outputs": []
    },
    {
      "cell_type": "code",
      "source": [
        "rn_params_est58<-list(hidden=c(30,40,50,60,70,100,150,200,250,500,550,600,650,700,1000),\n",
        "                     activation=c(\"Rectifier\", \"Maxout\", \"Tanh\", \"RectifierWithDropout\", \"MaxoutWithDropout\", \"TanhWithDropout\"),\n",
        "                     epochs=c(5,10,15,20,50,55,60,65,70,100,150,200),\n",
        "                     rate=c(0.001,0.005,0.007,0.01,0.05,0.07,0.1,0.5,0.7),\n",
        "                     rate_annealing=c(0.000001,0.000005,0.000007,0.0001,0.0005,0.0007),\n",
        "                     rate_decay=c(0.99,0.989,0.985,0.983,0.98))"
      ],
      "metadata": {
        "id": "H76VCZvYfjch"
      },
      "execution_count": null,
      "outputs": []
    },
    {
      "cell_type": "code",
      "source": [
        "rn_params_est59<-list(hidden=c(30,40,50,60,70,100,150,200,250,500,550,600,650,700,1000),\n",
        "                     activation=c(\"Rectifier\", \"Maxout\", \"Tanh\", \"RectifierWithDropout\", \"MaxoutWithDropout\", \"TanhWithDropout\"),\n",
        "                     epochs=c(5,10,15,20,50,55,60,65,70,100,150,200),\n",
        "                     rate=c(0.001,0.005,0.007,0.01,0.05,0.07,0.1,0.5,0.7),\n",
        "                     rate_annealing=c(0.000001,0.000005,0.000007,0.0001,0.0005,0.0007),\n",
        "                     rate_decay=c(0.99,0.989,0.985,0.983,0.98))"
      ],
      "metadata": {
        "id": "I4Aylf36fjtD"
      },
      "execution_count": null,
      "outputs": []
    },
    {
      "cell_type": "code",
      "source": [
        "rn_params_est60<-list(hidden=c(30,40,50,60,70,100,150,200,250,500,550,600,650,700,1000),\n",
        "                     activation=c(\"Rectifier\", \"Maxout\", \"Tanh\", \"RectifierWithDropout\", \"MaxoutWithDropout\", \"TanhWithDropout\"),\n",
        "                     epochs=c(5,10,15,20,50,55,60,65,70,100,150,200),\n",
        "                     rate=c(0.001,0.005,0.007,0.01,0.05,0.07,0.1,0.5,0.7),\n",
        "                     rate_annealing=c(0.000001,0.000005,0.000007,0.0001,0.0005,0.0007),\n",
        "                     rate_decay=c(0.99,0.989,0.985,0.983,0.98))"
      ],
      "metadata": {
        "id": "Wyfill6Vfkdh"
      },
      "execution_count": null,
      "outputs": []
    },
    {
      "cell_type": "markdown",
      "source": [
        "## Ejecución del grid Red Neuronal"
      ],
      "metadata": {
        "id": "6s3MPaZgD5kC"
      }
    },
    {
      "cell_type": "code",
      "source": [
        "rn_grid_est3<-h2o.grid(\"deeplearning\",x = names(train_h2o[,22:48]),y = names(train_h2o[2]),\n",
        "                       grid_id = \"rn_est3\",\n",
        "                       training_frame = train_h2o,\n",
        "                       validation_frame=valid_h2o,\n",
        "                       seed=1,\n",
        "                       hyper_params = rn_params_est3,\n",
        "                       search_criteria = criterio_rn_est3,\n",
        "                       parallelism = 10)"
      ],
      "metadata": {
        "id": "FQ5DLBsfTeC-",
        "colab": {
          "base_uri": "https://localhost:8080/"
        },
        "outputId": "13890440-f1ba-412b-cd95-01aa9a4e1ed7"
      },
      "execution_count": null,
      "outputs": [
        {
          "output_type": "stream",
          "name": "stdout",
          "text": [
            "  |======================================================================| 100%\n"
          ]
        },
        {
          "output_type": "stream",
          "name": "stderr",
          "text": [
            "Warning message in h2o.getGrid(grid_id = grid_id):\n",
            "“Some models were not built due to a failure, for more details run `summary(grid_object, show_stack_traces = TRUE)`”\n"
          ]
        }
      ]
    },
    {
      "cell_type": "code",
      "source": [
        "rn_grid_est6<-h2o.grid(\"deeplearning\",x = names(train_h2o[,22:48]),y = names(train_h2o[3]),\n",
        "                       grid_id = \"rn_est6\",\n",
        "                       training_frame = train_h2o,\n",
        "                       validation_frame=valid_h2o,\n",
        "                       seed=1,\n",
        "                       hyper_params = rn_params_est6,\n",
        "                       search_criteria = criterio_rn_est6,\n",
        "                       parallelism = 10)"
      ],
      "metadata": {
        "id": "nwVb7zUxkbcT",
        "colab": {
          "base_uri": "https://localhost:8080/"
        },
        "outputId": "df4b5ca8-7d78-457a-b0fa-a782df54756a"
      },
      "execution_count": null,
      "outputs": [
        {
          "output_type": "stream",
          "name": "stdout",
          "text": [
            "  |======================================================================| 100%\n"
          ]
        },
        {
          "output_type": "stream",
          "name": "stderr",
          "text": [
            "Warning message in h2o.getGrid(grid_id = grid_id):\n",
            "“Some models were not built due to a failure, for more details run `summary(grid_object, show_stack_traces = TRUE)`”\n"
          ]
        }
      ]
    },
    {
      "cell_type": "code",
      "source": [
        "rn_grid_est10<-h2o.grid(\"deeplearning\",x = names(train_h2o[,22:48]),y = names(train_h2o[4]),\n",
        "                       grid_id = \"rn_est10\",\n",
        "                       training_frame = train_h2o,\n",
        "                       validation_frame=valid_h2o,\n",
        "                       seed=1,\n",
        "                       hyper_params = rn_params_est10,\n",
        "                       search_criteria = criterio_rn_est10,\n",
        "                       parallelism = 10)"
      ],
      "metadata": {
        "id": "ChNeXhn6kkOz",
        "colab": {
          "base_uri": "https://localhost:8080/"
        },
        "outputId": "ea3d9345-908d-4143-8905-4b7f42b82ef0"
      },
      "execution_count": null,
      "outputs": [
        {
          "output_type": "stream",
          "name": "stdout",
          "text": [
            "  |======================================================================| 100%\n"
          ]
        },
        {
          "output_type": "stream",
          "name": "stderr",
          "text": [
            "Warning message in h2o.getGrid(grid_id = grid_id):\n",
            "“Some models were not built due to a failure, for more details run `summary(grid_object, show_stack_traces = TRUE)`”\n"
          ]
        }
      ]
    },
    {
      "cell_type": "code",
      "source": [
        "rn_grid_est13<-h2o.grid(\"deeplearning\",x = names(train_h2o[,22:48]),y = names(train_h2o[5]),\n",
        "                       grid_id = \"rn_est13\",\n",
        "                       training_frame = train_h2o,\n",
        "                       validation_frame=valid_h2o,\n",
        "                       seed=1,\n",
        "                       hyper_params = rn_params_est13,\n",
        "                       search_criteria = criterio_rn_est13,\n",
        "                       parallelism = 10)"
      ],
      "metadata": {
        "id": "jGqnflVFlLDl",
        "colab": {
          "base_uri": "https://localhost:8080/"
        },
        "outputId": "5d6927b3-f7e9-4504-d5f2-eb905ce244eb"
      },
      "execution_count": null,
      "outputs": [
        {
          "output_type": "stream",
          "name": "stdout",
          "text": [
            "  |======================================================================| 100%\n"
          ]
        },
        {
          "output_type": "stream",
          "name": "stderr",
          "text": [
            "Warning message in h2o.getGrid(grid_id = grid_id):\n",
            "“Some models were not built due to a failure, for more details run `summary(grid_object, show_stack_traces = TRUE)`”\n"
          ]
        }
      ]
    },
    {
      "cell_type": "code",
      "source": [
        "rn_grid_est19<-h2o.grid(\"deeplearning\",x = names(train_h2o[,22:48]),y = names(train_h2o[6]),\n",
        "                       grid_id = \"rn_est19\",\n",
        "                       training_frame = train_h2o,\n",
        "                       validation_frame=valid_h2o,\n",
        "                       seed=1,\n",
        "                       hyper_params = rn_params_est19,\n",
        "                       search_criteria = criterio_rn_est19,\n",
        "                       parallelism = 10)"
      ],
      "metadata": {
        "id": "d3HMowUdknnS",
        "colab": {
          "base_uri": "https://localhost:8080/"
        },
        "outputId": "b133a06c-b8b1-4751-bcb0-1da37ac02062"
      },
      "execution_count": null,
      "outputs": [
        {
          "output_type": "stream",
          "name": "stdout",
          "text": [
            "  |======================================================================| 100%\n"
          ]
        },
        {
          "output_type": "stream",
          "name": "stderr",
          "text": [
            "Warning message in h2o.getGrid(grid_id = grid_id):\n",
            "“Some models were not built due to a failure, for more details run `summary(grid_object, show_stack_traces = TRUE)`”\n"
          ]
        }
      ]
    },
    {
      "cell_type": "code",
      "source": [
        "rn_grid_est23<-h2o.grid(\"deeplearning\",x = names(train_h2o[,22:48]),y = names(train_h2o[7]),\n",
        "                       grid_id = \"rn_est23\",\n",
        "                       training_frame = train_h2o,\n",
        "                       validation_frame=valid_h2o,\n",
        "                       seed=1,\n",
        "                       hyper_params = rn_params_est23,\n",
        "                       search_criteria = criterio_rn_est23,\n",
        "                       parallelism = 10)"
      ],
      "metadata": {
        "id": "LM0x4Ktwksk7",
        "colab": {
          "base_uri": "https://localhost:8080/"
        },
        "outputId": "0886a564-b552-4ab3-8383-f300d4dde4c7"
      },
      "execution_count": null,
      "outputs": [
        {
          "output_type": "stream",
          "name": "stdout",
          "text": [
            "  |======================================================================| 100%\n"
          ]
        },
        {
          "output_type": "stream",
          "name": "stderr",
          "text": [
            "Warning message in h2o.getGrid(grid_id = grid_id):\n",
            "“Some models were not built due to a failure, for more details run `summary(grid_object, show_stack_traces = TRUE)`”\n"
          ]
        }
      ]
    },
    {
      "cell_type": "code",
      "source": [
        "rn_grid_est25<-h2o.grid(\"deeplearning\",x = names(train_h2o[,22:48]),y = names(train_h2o[8]),\n",
        "                       grid_id = \"rn_est25\",\n",
        "                       training_frame = train_h2o,\n",
        "                       validation_frame=valid_h2o,\n",
        "                       seed=1,\n",
        "                       hyper_params = rn_params_est25,\n",
        "                       search_criteria = criterio_rn_est25,\n",
        "                       parallelism = 10)"
      ],
      "metadata": {
        "id": "TZKm1S0ukweb",
        "colab": {
          "base_uri": "https://localhost:8080/"
        },
        "outputId": "19f1e183-956e-4f43-e1f3-58671dbe83e3"
      },
      "execution_count": null,
      "outputs": [
        {
          "output_type": "stream",
          "name": "stdout",
          "text": [
            "  |======================================================================| 100%\n"
          ]
        },
        {
          "output_type": "stream",
          "name": "stderr",
          "text": [
            "Warning message in h2o.getGrid(grid_id = grid_id):\n",
            "“Some models were not built due to a failure, for more details run `summary(grid_object, show_stack_traces = TRUE)`”\n"
          ]
        }
      ]
    },
    {
      "cell_type": "code",
      "source": [
        "rn_grid_est26<-h2o.grid(\"deeplearning\",x = names(train_h2o[,22:48]),y = names(train_h2o[9]),\n",
        "                       grid_id = \"rn_est26\",\n",
        "                       training_frame = train_h2o,\n",
        "                       validation_frame=valid_h2o,\n",
        "                       seed=1,\n",
        "                       hyper_params = rn_params_est26,\n",
        "                       search_criteria = criterio_rn_est26,\n",
        "                       parallelism = 10)"
      ],
      "metadata": {
        "id": "tUxHhYJbk0A0",
        "colab": {
          "base_uri": "https://localhost:8080/"
        },
        "outputId": "1e542755-e1ba-4a55-97a6-1300be6189bb"
      },
      "execution_count": null,
      "outputs": [
        {
          "output_type": "stream",
          "name": "stdout",
          "text": [
            "  |======================================================================| 100%\n"
          ]
        },
        {
          "output_type": "stream",
          "name": "stderr",
          "text": [
            "Warning message in h2o.getGrid(grid_id = grid_id):\n",
            "“Some models were not built due to a failure, for more details run `summary(grid_object, show_stack_traces = TRUE)`”\n"
          ]
        }
      ]
    },
    {
      "cell_type": "code",
      "source": [
        "rn_grid_est27<-h2o.grid(\"deeplearning\",x = names(train_h2o[,22:48]),y = names(train_h2o[10]),\n",
        "                       grid_id = \"rn_est27\",\n",
        "                       training_frame = train_h2o,\n",
        "                       validation_frame=valid_h2o,\n",
        "                       seed=1,\n",
        "                       hyper_params = rn_params_est27,\n",
        "                       search_criteria = criterio_rn_est27,\n",
        "                       parallelism = 10)"
      ],
      "metadata": {
        "id": "1LPsENuRk4tl",
        "colab": {
          "base_uri": "https://localhost:8080/"
        },
        "outputId": "877bd9c0-ad2d-430a-8d4b-a3e5461b4f8d"
      },
      "execution_count": null,
      "outputs": [
        {
          "output_type": "stream",
          "name": "stdout",
          "text": [
            "  |======================================================================| 100%\n"
          ]
        },
        {
          "output_type": "stream",
          "name": "stderr",
          "text": [
            "Warning message in h2o.getGrid(grid_id = grid_id):\n",
            "“Some models were not built due to a failure, for more details run `summary(grid_object, show_stack_traces = TRUE)`”\n"
          ]
        }
      ]
    },
    {
      "cell_type": "code",
      "source": [
        "rn_grid_est28<-h2o.grid(\"deeplearning\",x = names(train_h2o[,22:48]),y = names(train_h2o[11]),\n",
        "                       grid_id = \"rn_est28\",\n",
        "                       training_frame = train_h2o,\n",
        "                       validation_frame=valid_h2o,\n",
        "                       seed=1,\n",
        "                       hyper_params = rn_params_est28,\n",
        "                       search_criteria = criterio_rn_est28,\n",
        "                       parallelism = 10)"
      ],
      "metadata": {
        "id": "Bv400_dQk9L9",
        "colab": {
          "base_uri": "https://localhost:8080/"
        },
        "outputId": "7eef047c-3b21-4181-8d08-00216da740d5"
      },
      "execution_count": null,
      "outputs": [
        {
          "output_type": "stream",
          "name": "stdout",
          "text": [
            "  |======================================================================| 100%\n"
          ]
        },
        {
          "output_type": "stream",
          "name": "stderr",
          "text": [
            "Warning message in h2o.getGrid(grid_id = grid_id):\n",
            "“Some models were not built due to a failure, for more details run `summary(grid_object, show_stack_traces = TRUE)`”\n"
          ]
        }
      ]
    },
    {
      "cell_type": "code",
      "source": [
        "rn_grid_est32<-h2o.grid(\"deeplearning\",x = names(train_h2o[,22:48]),y = names(train_h2o[12]),\n",
        "                       grid_id = \"rn_est32\",\n",
        "                       training_frame = train_h2o,\n",
        "                       validation_frame=valid_h2o,\n",
        "                       seed=1,\n",
        "                       hyper_params = rn_params_est32,\n",
        "                       search_criteria = criterio_rn_est32,\n",
        "                       parallelism = 10)"
      ],
      "metadata": {
        "id": "xXCQtOERx33R",
        "colab": {
          "base_uri": "https://localhost:8080/"
        },
        "outputId": "21e0900a-acaa-4682-853e-c8fe931c49b0"
      },
      "execution_count": null,
      "outputs": [
        {
          "output_type": "stream",
          "name": "stdout",
          "text": [
            "  |======================================================================| 100%\n"
          ]
        },
        {
          "output_type": "stream",
          "name": "stderr",
          "text": [
            "Warning message in h2o.getGrid(grid_id = grid_id):\n",
            "“Some models were not built due to a failure, for more details run `summary(grid_object, show_stack_traces = TRUE)`”\n"
          ]
        }
      ]
    },
    {
      "cell_type": "code",
      "source": [
        "rn_grid_est33<-h2o.grid(\"deeplearning\",x = names(train_h2o[,22:48]),y = names(train_h2o[13]),\n",
        "                       grid_id = \"rn_est33\",\n",
        "                       training_frame = train_h2o,\n",
        "                       validation_frame=valid_h2o,\n",
        "                       seed=1,\n",
        "                       hyper_params = rn_params_est33,\n",
        "                       search_criteria = criterio_rn_est33,\n",
        "                       parallelism = 10)"
      ],
      "metadata": {
        "id": "REl1X-Ctx4G6",
        "colab": {
          "base_uri": "https://localhost:8080/"
        },
        "outputId": "9b90e778-c467-4963-a0c0-d6294d573f2f"
      },
      "execution_count": null,
      "outputs": [
        {
          "output_type": "stream",
          "name": "stdout",
          "text": [
            "  |======================================================================| 100%\n"
          ]
        },
        {
          "output_type": "stream",
          "name": "stderr",
          "text": [
            "Warning message in h2o.getGrid(grid_id = grid_id):\n",
            "“Some models were not built due to a failure, for more details run `summary(grid_object, show_stack_traces = TRUE)`”\n"
          ]
        }
      ]
    },
    {
      "cell_type": "code",
      "source": [
        "rn_grid_est36<-h2o.grid(\"deeplearning\",x = names(train_h2o[,22:48]),y = names(train_h2o[14]),\n",
        "                       grid_id = \"rn_est36\",\n",
        "                       training_frame = train_h2o,\n",
        "                       validation_frame=valid_h2o,\n",
        "                       seed=1,\n",
        "                       hyper_params = rn_params_est36,\n",
        "                       search_criteria = criterio_rn_est36,\n",
        "                       parallelism = 10)"
      ],
      "metadata": {
        "id": "19yLZ1q5x4UK",
        "colab": {
          "base_uri": "https://localhost:8080/"
        },
        "outputId": "9835b311-50e7-4948-c191-3e98862298d4"
      },
      "execution_count": null,
      "outputs": [
        {
          "output_type": "stream",
          "name": "stdout",
          "text": [
            "  |======================================================================| 100%\n"
          ]
        },
        {
          "output_type": "stream",
          "name": "stderr",
          "text": [
            "Warning message in h2o.getGrid(grid_id = grid_id):\n",
            "“Some models were not built due to a failure, for more details run `summary(grid_object, show_stack_traces = TRUE)`”\n"
          ]
        }
      ]
    },
    {
      "cell_type": "code",
      "source": [
        "rn_grid_est46<-h2o.grid(\"deeplearning\",x = names(train_h2o[,22:48]),y = names(train_h2o[15]),\n",
        "                       grid_id = \"rn_est46\",\n",
        "                       training_frame = train_h2o,\n",
        "                       validation_frame=valid_h2o,\n",
        "                       seed=1,\n",
        "                       hyper_params = rn_params_est46,\n",
        "                       search_criteria = criterio_rn_est46,\n",
        "                       parallelism = 10)"
      ],
      "metadata": {
        "id": "-Y0iKKC4x4iD",
        "colab": {
          "base_uri": "https://localhost:8080/"
        },
        "outputId": "d8dab0c8-448a-4d8b-dd00-55a337930791"
      },
      "execution_count": null,
      "outputs": [
        {
          "output_type": "stream",
          "name": "stdout",
          "text": [
            "  |======================================================================| 100%\n"
          ]
        },
        {
          "output_type": "stream",
          "name": "stderr",
          "text": [
            "Warning message in h2o.getGrid(grid_id = grid_id):\n",
            "“Some models were not built due to a failure, for more details run `summary(grid_object, show_stack_traces = TRUE)`”\n"
          ]
        }
      ]
    },
    {
      "cell_type": "code",
      "source": [
        "rn_grid_est47<-h2o.grid(\"deeplearning\",x = names(train_h2o[,22:48]),y = names(train_h2o[16]),\n",
        "                       grid_id = \"rn_est47\",\n",
        "                       training_frame = train_h2o,\n",
        "                       validation_frame=valid_h2o,\n",
        "                       seed=1,\n",
        "                       hyper_params = rn_params_est47,\n",
        "                       search_criteria = criterio_rn_est47,\n",
        "                       parallelism = 10)"
      ],
      "metadata": {
        "id": "A5wxVH2Ux494",
        "colab": {
          "base_uri": "https://localhost:8080/"
        },
        "outputId": "4d4a142b-f5ae-4ae2-f110-69f6cad3a0a1"
      },
      "execution_count": null,
      "outputs": [
        {
          "output_type": "stream",
          "name": "stdout",
          "text": [
            "  |======================================================================| 100%\n"
          ]
        },
        {
          "output_type": "stream",
          "name": "stderr",
          "text": [
            "Warning message in h2o.getGrid(grid_id = grid_id):\n",
            "“Some models were not built due to a failure, for more details run `summary(grid_object, show_stack_traces = TRUE)`”\n"
          ]
        }
      ]
    },
    {
      "cell_type": "code",
      "source": [
        "rn_grid_est53<-h2o.grid(\"deeplearning\",x = names(train_h2o[,22:48]),y = names(train_h2o[17]),\n",
        "                       grid_id = \"rn_est53\",\n",
        "                       training_frame = train_h2o,\n",
        "                       validation_frame=valid_h2o,\n",
        "                       seed=1,\n",
        "                       hyper_params = rn_params_est53,\n",
        "                       search_criteria = criterio_rn_est53,\n",
        "                       parallelism = 10)"
      ],
      "metadata": {
        "id": "A0IkrZ4lx5TJ",
        "colab": {
          "base_uri": "https://localhost:8080/"
        },
        "outputId": "d2fa0227-93af-4ed3-c982-11e2477f038c"
      },
      "execution_count": null,
      "outputs": [
        {
          "output_type": "stream",
          "name": "stdout",
          "text": [
            "  |======================================================================| 100%\n"
          ]
        },
        {
          "output_type": "stream",
          "name": "stderr",
          "text": [
            "Warning message in h2o.getGrid(grid_id = grid_id):\n",
            "“Some models were not built due to a failure, for more details run `summary(grid_object, show_stack_traces = TRUE)`”\n"
          ]
        }
      ]
    },
    {
      "cell_type": "code",
      "source": [
        "rn_grid_est57<-h2o.grid(\"deeplearning\",x = names(train_h2o[,22:48]),y = names(train_h2o[18]),\n",
        "                       grid_id = \"rn_est57\",\n",
        "                       training_frame = train_h2o,\n",
        "                       validation_frame=valid_h2o,\n",
        "                       seed=1,\n",
        "                       hyper_params = rn_params_est57,\n",
        "                       search_criteria = criterio_rn_est57,\n",
        "                       parallelism = 10)"
      ],
      "metadata": {
        "id": "PfpFCgHmx5lw",
        "colab": {
          "base_uri": "https://localhost:8080/"
        },
        "outputId": "ed8bc205-32a2-4ec1-d614-6f91995854b3"
      },
      "execution_count": null,
      "outputs": [
        {
          "output_type": "stream",
          "name": "stdout",
          "text": [
            "  |======================================================================| 100%\n"
          ]
        },
        {
          "output_type": "stream",
          "name": "stderr",
          "text": [
            "Warning message in h2o.getGrid(grid_id = grid_id):\n",
            "“Some models were not built due to a failure, for more details run `summary(grid_object, show_stack_traces = TRUE)`”\n"
          ]
        }
      ]
    },
    {
      "cell_type": "code",
      "source": [
        "rn_grid_est58<-h2o.grid(\"deeplearning\",x = names(train_h2o[,22:48]),y = names(train_h2o[19]),\n",
        "                       grid_id = \"rn_est58\",\n",
        "                       training_frame = train_h2o,\n",
        "                       validation_frame=valid_h2o,\n",
        "                       seed=1,\n",
        "                       hyper_params = rn_params_est58,\n",
        "                       search_criteria = criterio_rn_est58,\n",
        "                       parallelism = 10)"
      ],
      "metadata": {
        "id": "FCJ6aJ-2x52I",
        "colab": {
          "base_uri": "https://localhost:8080/"
        },
        "outputId": "443c628b-9744-4ec1-a9e2-706a2e300426"
      },
      "execution_count": null,
      "outputs": [
        {
          "output_type": "stream",
          "name": "stdout",
          "text": [
            "  |======================================================================| 100%\n"
          ]
        },
        {
          "output_type": "stream",
          "name": "stderr",
          "text": [
            "Warning message in h2o.getGrid(grid_id = grid_id):\n",
            "“Some models were not built due to a failure, for more details run `summary(grid_object, show_stack_traces = TRUE)`”\n"
          ]
        }
      ]
    },
    {
      "cell_type": "code",
      "source": [
        "rn_grid_est59<-h2o.grid(\"deeplearning\",x = names(train_h2o[,22:48]),y = names(train_h2o[20]),\n",
        "                       grid_id = \"rn_est59\",\n",
        "                       training_frame = train_h2o,\n",
        "                       validation_frame=valid_h2o,\n",
        "                       seed=1,\n",
        "                       hyper_params = rn_params_est59,\n",
        "                       search_criteria = criterio_rn_est59,\n",
        "                       parallelism = 10)"
      ],
      "metadata": {
        "id": "tIWq88CQx6Lq",
        "colab": {
          "base_uri": "https://localhost:8080/"
        },
        "outputId": "6e6dc98b-7a25-4b46-c862-f7321498157f"
      },
      "execution_count": null,
      "outputs": [
        {
          "output_type": "stream",
          "name": "stdout",
          "text": [
            "  |======================================================================| 100%\n"
          ]
        },
        {
          "output_type": "stream",
          "name": "stderr",
          "text": [
            "Warning message in h2o.getGrid(grid_id = grid_id):\n",
            "“Some models were not built due to a failure, for more details run `summary(grid_object, show_stack_traces = TRUE)`”\n"
          ]
        }
      ]
    },
    {
      "cell_type": "code",
      "source": [
        "rn_grid_est60<-h2o.grid(\"deeplearning\",x = names(train_h2o[,22:48]),y = names(train_h2o[21]),\n",
        "                       grid_id = \"rn_est60\",\n",
        "                       training_frame = train_h2o,\n",
        "                       validation_frame=valid_h2o,\n",
        "                       seed=1,\n",
        "                       hyper_params = rn_params_est60,\n",
        "                       search_criteria = criterio_rn_est60,\n",
        "                       parallelism = 10)"
      ],
      "metadata": {
        "id": "7OARFPTcx6bJ",
        "colab": {
          "base_uri": "https://localhost:8080/"
        },
        "outputId": "0fd4d8e8-ff30-4b00-8acc-6f5274d50874"
      },
      "execution_count": null,
      "outputs": [
        {
          "output_type": "stream",
          "name": "stdout",
          "text": [
            "  |======================================================================| 100%\n"
          ]
        },
        {
          "output_type": "stream",
          "name": "stderr",
          "text": [
            "Warning message in h2o.getGrid(grid_id = grid_id):\n",
            "“Some models were not built due to a failure, for more details run `summary(grid_object, show_stack_traces = TRUE)`”\n"
          ]
        }
      ]
    },
    {
      "cell_type": "markdown",
      "source": [
        "## Selección del mejor modelo Red Neuronal"
      ],
      "metadata": {
        "id": "4jm4_j0vD-G5"
      }
    },
    {
      "cell_type": "code",
      "source": [
        "rn_gridperf_est3<-h2o.getGrid(grid_id = \"rn_est3\",\n",
        "                              sort_by = \"MSE\",\n",
        "                              decreasing = FALSE)\n",
        "rn_gridperf_est3"
      ],
      "metadata": {
        "id": "3irLvt48TnWe",
        "colab": {
          "base_uri": "https://localhost:8080/",
          "height": 989
        },
        "outputId": "e9dd5319-8dfa-4f1c-a050-486282b2b3ed"
      },
      "execution_count": null,
      "outputs": [
        {
          "output_type": "stream",
          "name": "stderr",
          "text": [
            "Warning message in h2o.getGrid(grid_id = \"rn_est3\", sort_by = \"MSE\", decreasing = FALSE):\n",
            "“Some models were not built due to a failure, for more details run `summary(grid_object, show_stack_traces = TRUE)`”\n"
          ]
        },
        {
          "output_type": "display_data",
          "data": {
            "text/plain": [
              "H2O Grid Details\n",
              "================\n",
              "\n",
              "Grid ID: rn_est3 \n",
              "Used hyper parameters: \n",
              "  -  activation \n",
              "  -  epochs \n",
              "  -  hidden \n",
              "  -  rate \n",
              "  -  rate_annealing \n",
              "  -  rate_decay \n",
              "Number of models: 996 \n",
              "Number of failed models: 2 \n",
              "\n",
              "Hyper-Parameter Search Summary: ordered by increasing MSE\n",
              "  activation    epochs hidden    rate rate_annealing rate_decay\n",
              "1  Rectifier  70.00000    150 0.00700        0.00010    0.98300\n",
              "2  Rectifier  70.00000    100 0.70000        0.00050    0.98000\n",
              "3  Rectifier  70.00000    150 0.00100        0.00050    0.98500\n",
              "4  Rectifier 200.00000    650 0.50000        0.00001    0.98900\n",
              "5       Tanh 200.00000    500 0.50000        0.00050    0.98300\n",
              "                             model_ids      mse\n",
              "1 DeepLearning_model_1672909173019_676 10.01178\n",
              "2 DeepLearning_model_1672909173019_346 10.01212\n",
              "3 DeepLearning_model_1672909173019_142 10.02227\n",
              "4 DeepLearning_model_1672909173019_279 10.03747\n",
              "5 DeepLearning_model_1672909173019_890 10.12951\n",
              "\n",
              "---\n",
              "    activation    epochs hidden    rate rate_annealing rate_decay\n",
              "991     Maxout  20.00000     40 0.00100        0.00010    0.98000\n",
              "992     Maxout  20.00000     50 0.05000        0.00070    0.98900\n",
              "993     Maxout  20.00000     40 0.00500        0.00070    0.99000\n",
              "994     Maxout  70.00000     40 0.00500        0.00001    0.98900\n",
              "995     Maxout 150.00000     70 0.01000        0.00070    0.99000\n",
              "996       Tanh  20.00000    650 0.10000        0.00010    0.98500\n",
              "                               model_ids      mse\n",
              "991 DeepLearning_model_1672909173019_763 23.06182\n",
              "992 DeepLearning_model_1672909173019_153 23.77485\n",
              "993 DeepLearning_model_1672909173019_802 23.81599\n",
              "994 DeepLearning_model_1672909173019_415 23.91730\n",
              "995 DeepLearning_model_1672909173019_328 24.20121\n",
              "996 DeepLearning_model_1672909173019_344 28.49049\n",
              "Failed models\n",
              "-------------\n",
              "        activation epochs hidden  rate rate_annealing rate_decay status_failed\n",
              " MaxoutWithDropout  100.0  [100]   0.1         7.0E-6      0.989          FAIL\n",
              "   TanhWithDropout   20.0  [700] 0.001         7.0E-6       0.98          FAIL\n",
              "                                                                                                                                                                                                     msgs_failed\n",
              " \"DistributedException from localhost/127.0.0.1:54321: ' wrong priority for task Roll, expected 120, but got 116', caused by java.lang.AssertionError:  wrong priority for task Roll, expected 120, but got 116\"\n",
              "                                                                                                                                              \" wrong priority for task RebalanceTask, expected 120, but got 83\""
            ]
          },
          "metadata": {}
        }
      ]
    },
    {
      "cell_type": "code",
      "source": [
        "summary(rn_gridperf_est3, show_stack_traces = TRUE)"
      ],
      "metadata": {
        "colab": {
          "base_uri": "https://localhost:8080/"
        },
        "id": "vpihjYWwMBHS",
        "outputId": "8265be2d-319f-43b0-be50-7c37766544fe"
      },
      "execution_count": null,
      "outputs": [
        {
          "output_type": "stream",
          "name": "stdout",
          "text": [
            "H2O Grid Details\n",
            "================\n",
            "\n",
            "Grid ID: rn_est3 \n",
            "Used hyper parameters: \n",
            "  -  activation \n",
            "  -  epochs \n",
            "  -  hidden \n",
            "  -  rate \n",
            "  -  rate_annealing \n",
            "  -  rate_decay \n",
            "Number of models: 996 \n",
            "Number of failed models: 2 \n",
            "\n",
            "Hyper-Parameter Search Summary: ordered by increasing MSE\n",
            "  activation    epochs hidden    rate rate_annealing rate_decay\n",
            "1  Rectifier  70.00000    150 0.00700        0.00010    0.98300\n",
            "2  Rectifier  70.00000    100 0.70000        0.00050    0.98000\n",
            "3  Rectifier  70.00000    150 0.00100        0.00050    0.98500\n",
            "4  Rectifier 200.00000    650 0.50000        0.00001    0.98900\n",
            "5       Tanh 200.00000    500 0.50000        0.00050    0.98300\n",
            "                             model_ids      mse\n",
            "1 DeepLearning_model_1672909173019_676 10.01178\n",
            "2 DeepLearning_model_1672909173019_346 10.01212\n",
            "3 DeepLearning_model_1672909173019_142 10.02227\n",
            "4 DeepLearning_model_1672909173019_279 10.03747\n",
            "5 DeepLearning_model_1672909173019_890 10.12951\n",
            "\n",
            "---\n",
            "    activation    epochs hidden    rate rate_annealing rate_decay\n",
            "991     Maxout  20.00000     40 0.00100        0.00010    0.98000\n",
            "992     Maxout  20.00000     50 0.05000        0.00070    0.98900\n",
            "993     Maxout  20.00000     40 0.00500        0.00070    0.99000\n",
            "994     Maxout  70.00000     40 0.00500        0.00001    0.98900\n",
            "995     Maxout 150.00000     70 0.01000        0.00070    0.99000\n",
            "996       Tanh  20.00000    650 0.10000        0.00010    0.98500\n",
            "                               model_ids      mse\n",
            "991 DeepLearning_model_1672909173019_763 23.06182\n",
            "992 DeepLearning_model_1672909173019_153 23.77485\n",
            "993 DeepLearning_model_1672909173019_802 23.81599\n",
            "994 DeepLearning_model_1672909173019_415 23.91730\n",
            "995 DeepLearning_model_1672909173019_328 24.20121\n",
            "996 DeepLearning_model_1672909173019_344 28.49049\n",
            "Failed models\n",
            "-------------\n",
            "        activation epochs hidden  rate rate_annealing rate_decay status_failed\n",
            " MaxoutWithDropout  100.0  [100]   0.1         7.0E-6      0.989          FAIL\n",
            "   TanhWithDropout   20.0  [700] 0.001         7.0E-6       0.98          FAIL\n",
            "                                                                                                                                                                                                     msgs_failed\n",
            " \"DistributedException from localhost/127.0.0.1:54321: ' wrong priority for task Roll, expected 120, but got 116', caused by java.lang.AssertionError:  wrong priority for task Roll, expected 120, but got 116\"\n",
            "                                                                                                                                              \" wrong priority for task RebalanceTask, expected 120, but got 83\"\n",
            "H2O Grid Summary\n",
            "================\n",
            "\n",
            "Grid ID: rn_est3 \n",
            "Used hyper parameters: \n",
            "  -  activation \n",
            "  -  epochs \n",
            "  -  hidden \n",
            "  -  rate \n",
            "  -  rate_annealing \n",
            "  -  rate_decay \n",
            "Number of models: 996 \n",
            "  -  DeepLearning_model_1672909173019_676 \n",
            "  -  DeepLearning_model_1672909173019_346 \n",
            "  -  DeepLearning_model_1672909173019_142 \n",
            "  -  DeepLearning_model_1672909173019_279 \n",
            "  -  DeepLearning_model_1672909173019_890 \n",
            "  -  DeepLearning_model_1672909173019_51 \n",
            "  -  DeepLearning_model_1672909173019_309 \n",
            "  -  DeepLearning_model_1672909173019_875 \n",
            "  -  DeepLearning_model_1672909173019_852 \n",
            "  -  DeepLearning_model_1672909173019_935 \n",
            "  -  DeepLearning_model_1672909173019_858 \n",
            "  -  DeepLearning_model_1672909173019_663 \n",
            "  -  DeepLearning_model_1672909173019_879 \n",
            "  -  DeepLearning_model_1672909173019_665 \n",
            "  -  DeepLearning_model_1672909173019_33 \n",
            "  -  DeepLearning_model_1672909173019_72 \n",
            "  -  DeepLearning_model_1672909173019_443 \n",
            "  -  DeepLearning_model_1672909173019_130 \n",
            "  -  DeepLearning_model_1672909173019_496 \n",
            "  -  DeepLearning_model_1672909173019_164 \n",
            "  -  DeepLearning_model_1672909173019_228 \n",
            "  -  DeepLearning_model_1672909173019_783 \n",
            "  -  DeepLearning_model_1672909173019_689 \n",
            "  -  DeepLearning_model_1672909173019_347 \n",
            "  -  DeepLearning_model_1672909173019_756 \n",
            "  -  DeepLearning_model_1672909173019_760 \n",
            "  -  DeepLearning_model_1672909173019_777 \n",
            "  -  DeepLearning_model_1672909173019_275 \n",
            "  -  DeepLearning_model_1672909173019_113 \n",
            "  -  DeepLearning_model_1672909173019_787 \n",
            "  -  DeepLearning_model_1672909173019_998 \n",
            "  -  DeepLearning_model_1672909173019_959 \n",
            "  -  DeepLearning_model_1672909173019_662 \n",
            "  -  DeepLearning_model_1672909173019_450 \n",
            "  -  DeepLearning_model_1672909173019_229 \n",
            "  -  DeepLearning_model_1672909173019_700 \n",
            "  -  DeepLearning_model_1672909173019_118 \n",
            "  -  DeepLearning_model_1672909173019_543 \n",
            "  -  DeepLearning_model_1672909173019_44 \n",
            "  -  DeepLearning_model_1672909173019_357 \n",
            "  -  DeepLearning_model_1672909173019_902 \n",
            "  -  DeepLearning_model_1672909173019_735 \n",
            "  -  DeepLearning_model_1672909173019_567 \n",
            "  -  DeepLearning_model_1672909173019_441 \n",
            "  -  DeepLearning_model_1672909173019_949 \n",
            "  -  DeepLearning_model_1672909173019_729 \n",
            "  -  DeepLearning_model_1672909173019_722 \n",
            "  -  DeepLearning_model_1672909173019_539 \n",
            "  -  DeepLearning_model_1672909173019_292 \n",
            "  -  DeepLearning_model_1672909173019_872 \n",
            "  -  DeepLearning_model_1672909173019_200 \n",
            "  -  DeepLearning_model_1672909173019_836 \n",
            "  -  DeepLearning_model_1672909173019_197 \n",
            "  -  DeepLearning_model_1672909173019_336 \n",
            "  -  DeepLearning_model_1672909173019_295 \n",
            "  -  DeepLearning_model_1672909173019_535 \n",
            "  -  DeepLearning_model_1672909173019_453 \n",
            "  -  DeepLearning_model_1672909173019_492 \n",
            "  -  DeepLearning_model_1672909173019_104 \n",
            "  -  DeepLearning_model_1672909173019_144 \n",
            "  -  DeepLearning_model_1672909173019_455 \n",
            "  -  DeepLearning_model_1672909173019_696 \n",
            "  -  DeepLearning_model_1672909173019_263 \n",
            "  -  DeepLearning_model_1672909173019_956 \n",
            "  -  DeepLearning_model_1672909173019_724 \n",
            "  -  DeepLearning_model_1672909173019_583 \n",
            "  -  DeepLearning_model_1672909173019_319 \n",
            "  -  DeepLearning_model_1672909173019_818 \n",
            "  -  DeepLearning_model_1672909173019_835 \n",
            "  -  DeepLearning_model_1672909173019_59 \n",
            "  -  DeepLearning_model_1672909173019_710 \n",
            "  -  DeepLearning_model_1672909173019_628 \n",
            "  -  DeepLearning_model_1672909173019_761 \n",
            "  -  DeepLearning_model_1672909173019_631 \n",
            "  -  DeepLearning_model_1672909173019_734 \n",
            "  -  DeepLearning_model_1672909173019_536 \n",
            "  -  DeepLearning_model_1672909173019_30 \n",
            "  -  DeepLearning_model_1672909173019_620 \n",
            "  -  DeepLearning_model_1672909173019_423 \n",
            "  -  DeepLearning_model_1672909173019_318 \n",
            "  -  DeepLearning_model_1672909173019_972 \n",
            "  -  DeepLearning_model_1672909173019_786 \n",
            "  -  DeepLearning_model_1672909173019_741 \n",
            "  -  DeepLearning_model_1672909173019_821 \n",
            "  -  DeepLearning_model_1672909173019_773 \n",
            "  -  DeepLearning_model_1672909173019_642 \n",
            "  -  DeepLearning_model_1672909173019_925 \n",
            "  -  DeepLearning_model_1672909173019_429 \n",
            "  -  DeepLearning_model_1672909173019_365 \n",
            "  -  DeepLearning_model_1672909173019_259 \n",
            "  -  DeepLearning_model_1672909173019_705 \n",
            "  -  DeepLearning_model_1672909173019_758 \n",
            "  -  DeepLearning_model_1672909173019_910 \n",
            "  -  DeepLearning_model_1672909173019_24 \n",
            "  -  DeepLearning_model_1672909173019_132 \n",
            "  -  DeepLearning_model_1672909173019_325 \n",
            "  -  DeepLearning_model_1672909173019_945 \n",
            "  -  DeepLearning_model_1672909173019_42 \n",
            "  -  DeepLearning_model_1672909173019_969 \n",
            "  -  DeepLearning_model_1672909173019_946 \n",
            "  -  DeepLearning_model_1672909173019_147 \n",
            "  -  DeepLearning_model_1672909173019_880 \n",
            "  -  DeepLearning_model_1672909173019_745 \n",
            "  -  DeepLearning_model_1672909173019_170 \n",
            "  -  DeepLearning_model_1672909173019_832 \n",
            "  -  DeepLearning_model_1672909173019_675 \n",
            "  -  DeepLearning_model_1672909173019_670 \n",
            "  -  DeepLearning_model_1672909173019_87 \n",
            "  -  DeepLearning_model_1672909173019_79 \n",
            "  -  DeepLearning_model_1672909173019_196 \n",
            "  -  DeepLearning_model_1672909173019_826 \n",
            "  -  DeepLearning_model_1672909173019_625 \n",
            "  -  DeepLearning_model_1672909173019_551 \n",
            "  -  DeepLearning_model_1672909173019_160 \n",
            "  -  DeepLearning_model_1672909173019_80 \n",
            "  -  DeepLearning_model_1672909173019_214 \n",
            "  -  DeepLearning_model_1672909173019_391 \n",
            "  -  DeepLearning_model_1672909173019_871 \n",
            "  -  DeepLearning_model_1672909173019_984 \n",
            "  -  DeepLearning_model_1672909173019_685 \n",
            "  -  DeepLearning_model_1672909173019_923 \n",
            "  -  DeepLearning_model_1672909173019_148 \n",
            "  -  DeepLearning_model_1672909173019_645 \n",
            "  -  DeepLearning_model_1672909173019_181 \n",
            "  -  DeepLearning_model_1672909173019_335 \n",
            "  -  DeepLearning_model_1672909173019_740 \n",
            "  -  DeepLearning_model_1672909173019_12 \n",
            "  -  DeepLearning_model_1672909173019_561 \n",
            "  -  DeepLearning_model_1672909173019_839 \n",
            "  -  DeepLearning_model_1672909173019_143 \n",
            "  -  DeepLearning_model_1672909173019_418 \n",
            "  -  DeepLearning_model_1672909173019_568 \n",
            "  -  DeepLearning_model_1672909173019_865 \n",
            "  -  DeepLearning_model_1672909173019_396 \n",
            "  -  DeepLearning_model_1672909173019_851 \n",
            "  -  DeepLearning_model_1672909173019_870 \n",
            "  -  DeepLearning_model_1672909173019_256 \n",
            "  -  DeepLearning_model_1672909173019_649 \n",
            "  -  DeepLearning_model_1672909173019_720 \n",
            "  -  DeepLearning_model_1672909173019_274 \n",
            "  -  DeepLearning_model_1672909173019_522 \n",
            "  -  DeepLearning_model_1672909173019_548 \n",
            "  -  DeepLearning_model_1672909173019_820 \n",
            "  -  DeepLearning_model_1672909173019_788 \n",
            "  -  DeepLearning_model_1672909173019_916 \n",
            "  -  DeepLearning_model_1672909173019_166 \n",
            "  -  DeepLearning_model_1672909173019_426 \n",
            "  -  DeepLearning_model_1672909173019_917 \n",
            "  -  DeepLearning_model_1672909173019_387 \n",
            "  -  DeepLearning_model_1672909173019_329 \n",
            "  -  DeepLearning_model_1672909173019_277 \n",
            "  -  DeepLearning_model_1672909173019_606 \n",
            "  -  DeepLearning_model_1672909173019_726 \n",
            "  -  DeepLearning_model_1672909173019_134 \n",
            "  -  DeepLearning_model_1672909173019_533 \n",
            "  -  DeepLearning_model_1672909173019_888 \n",
            "  -  DeepLearning_model_1672909173019_380 \n",
            "  -  DeepLearning_model_1672909173019_610 \n",
            "  -  DeepLearning_model_1672909173019_463 \n",
            "  -  DeepLearning_model_1672909173019_373 \n",
            "  -  DeepLearning_model_1672909173019_31 \n",
            "  -  DeepLearning_model_1672909173019_555 \n",
            "  -  DeepLearning_model_1672909173019_940 \n",
            "  -  DeepLearning_model_1672909173019_510 \n",
            "  -  DeepLearning_model_1672909173019_194 \n",
            "  -  DeepLearning_model_1672909173019_824 \n",
            "  -  DeepLearning_model_1672909173019_862 \n",
            "  -  DeepLearning_model_1672909173019_864 \n",
            "  -  DeepLearning_model_1672909173019_219 \n",
            "  -  DeepLearning_model_1672909173019_848 \n",
            "  -  DeepLearning_model_1672909173019_138 \n",
            "  -  DeepLearning_model_1672909173019_171 \n",
            "  -  DeepLearning_model_1672909173019_842 \n",
            "  -  DeepLearning_model_1672909173019_537 \n",
            "  -  DeepLearning_model_1672909173019_237 \n",
            "  -  DeepLearning_model_1672909173019_846 \n",
            "  -  DeepLearning_model_1672909173019_438 \n",
            "  -  DeepLearning_model_1672909173019_957 \n",
            "  -  DeepLearning_model_1672909173019_503 \n",
            "  -  DeepLearning_model_1672909173019_23 \n",
            "  -  DeepLearning_model_1672909173019_881 \n",
            "  -  DeepLearning_model_1672909173019_560 \n",
            "  -  DeepLearning_model_1672909173019_110 \n",
            "  -  DeepLearning_model_1672909173019_965 \n",
            "  -  DeepLearning_model_1672909173019_217 \n",
            "  -  DeepLearning_model_1672909173019_900 \n",
            "  -  DeepLearning_model_1672909173019_273 \n",
            "  -  DeepLearning_model_1672909173019_493 \n",
            "  -  DeepLearning_model_1672909173019_521 \n",
            "  -  DeepLearning_model_1672909173019_105 \n",
            "  -  DeepLearning_model_1672909173019_616 \n",
            "  -  DeepLearning_model_1672909173019_63 \n",
            "  -  DeepLearning_model_1672909173019_149 \n",
            "  -  DeepLearning_model_1672909173019_22 \n",
            "  -  DeepLearning_model_1672909173019_819 \n",
            "  -  DeepLearning_model_1672909173019_594 \n",
            "  -  DeepLearning_model_1672909173019_938 \n",
            "  -  DeepLearning_model_1672909173019_903 \n",
            "  -  DeepLearning_model_1672909173019_294 \n",
            "  -  DeepLearning_model_1672909173019_190 \n",
            "  -  DeepLearning_model_1672909173019_564 \n",
            "  -  DeepLearning_model_1672909173019_34 \n",
            "  -  DeepLearning_model_1672909173019_422 \n",
            "  -  DeepLearning_model_1672909173019_213 \n",
            "  -  DeepLearning_model_1672909173019_68 \n",
            "  -  DeepLearning_model_1672909173019_386 \n",
            "  -  DeepLearning_model_1672909173019_693 \n",
            "  -  DeepLearning_model_1672909173019_69 \n",
            "  -  DeepLearning_model_1672909173019_592 \n",
            "  -  DeepLearning_model_1672909173019_615 \n",
            "  -  DeepLearning_model_1672909173019_811 \n",
            "  -  DeepLearning_model_1672909173019_815 \n",
            "  -  DeepLearning_model_1672909173019_381 \n",
            "  -  DeepLearning_model_1672909173019_498 \n",
            "  -  DeepLearning_model_1672909173019_156 \n",
            "  -  DeepLearning_model_1672909173019_518 \n",
            "  -  DeepLearning_model_1672909173019_106 \n",
            "  -  DeepLearning_model_1672909173019_119 \n",
            "  -  DeepLearning_model_1672909173019_554 \n",
            "  -  DeepLearning_model_1672909173019_419 \n",
            "  -  DeepLearning_model_1672909173019_184 \n",
            "  -  DeepLearning_model_1672909173019_235 \n",
            "  -  DeepLearning_model_1672909173019_209 \n",
            "  -  DeepLearning_model_1672909173019_199 \n",
            "  -  DeepLearning_model_1672909173019_779 \n",
            "  -  DeepLearning_model_1672909173019_562 \n",
            "  -  DeepLearning_model_1672909173019_869 \n",
            "  -  DeepLearning_model_1672909173019_829 \n",
            "  -  DeepLearning_model_1672909173019_557 \n",
            "  -  DeepLearning_model_1672909173019_684 \n",
            "  -  DeepLearning_model_1672909173019_827 \n",
            "  -  DeepLearning_model_1672909173019_13 \n",
            "  -  DeepLearning_model_1672909173019_114 \n",
            "  -  DeepLearning_model_1672909173019_544 \n",
            "  -  DeepLearning_model_1672909173019_801 \n",
            "  -  DeepLearning_model_1672909173019_189 \n",
            "  -  DeepLearning_model_1672909173019_81 \n",
            "  -  DeepLearning_model_1672909173019_430 \n",
            "  -  DeepLearning_model_1672909173019_378 \n",
            "  -  DeepLearning_model_1672909173019_913 \n",
            "  -  DeepLearning_model_1672909173019_48 \n",
            "  -  DeepLearning_model_1672909173019_896 \n",
            "  -  DeepLearning_model_1672909173019_545 \n",
            "  -  DeepLearning_model_1672909173019_348 \n",
            "  -  DeepLearning_model_1672909173019_709 \n",
            "  -  DeepLearning_model_1672909173019_406 \n",
            "  -  DeepLearning_model_1672909173019_316 \n",
            "  -  DeepLearning_model_1672909173019_227 \n",
            "  -  DeepLearning_model_1672909173019_781 \n",
            "  -  DeepLearning_model_1672909173019_424 \n",
            "  -  DeepLearning_model_1672909173019_841 \n",
            "  -  DeepLearning_model_1672909173019_37 \n",
            "  -  DeepLearning_model_1672909173019_139 \n",
            "  -  DeepLearning_model_1672909173019_964 \n",
            "  -  DeepLearning_model_1672909173019_21 \n",
            "  -  DeepLearning_model_1672909173019_1 \n",
            "  -  DeepLearning_model_1672909173019_300 \n",
            "  -  DeepLearning_model_1672909173019_19 \n",
            "  -  DeepLearning_model_1672909173019_230 \n",
            "  -  DeepLearning_model_1672909173019_251 \n",
            "  -  DeepLearning_model_1672909173019_586 \n",
            "  -  DeepLearning_model_1672909173019_928 \n",
            "  -  DeepLearning_model_1672909173019_623 \n",
            "  -  DeepLearning_model_1672909173019_579 \n",
            "  -  DeepLearning_model_1672909173019_677 \n",
            "  -  DeepLearning_model_1672909173019_78 \n",
            "  -  DeepLearning_model_1672909173019_844 \n",
            "  -  DeepLearning_model_1672909173019_89 \n",
            "  -  DeepLearning_model_1672909173019_40 \n",
            "  -  DeepLearning_model_1672909173019_403 \n",
            "  -  DeepLearning_model_1672909173019_321 \n",
            "  -  DeepLearning_model_1672909173019_290 \n",
            "  -  DeepLearning_model_1672909173019_212 \n",
            "  -  DeepLearning_model_1672909173019_688 \n",
            "  -  DeepLearning_model_1672909173019_513 \n",
            "  -  DeepLearning_model_1672909173019_260 \n",
            "  -  DeepLearning_model_1672909173019_327 \n",
            "  -  DeepLearning_model_1672909173019_436 \n",
            "  -  DeepLearning_model_1672909173019_168 \n",
            "  -  DeepLearning_model_1672909173019_433 \n",
            "  -  DeepLearning_model_1672909173019_833 \n",
            "  -  DeepLearning_model_1672909173019_272 \n",
            "  -  DeepLearning_model_1672909173019_727 \n",
            "  -  DeepLearning_model_1672909173019_622 \n",
            "  -  DeepLearning_model_1672909173019_723 \n",
            "  -  DeepLearning_model_1672909173019_619 \n",
            "  -  DeepLearning_model_1672909173019_980 \n",
            "  -  DeepLearning_model_1672909173019_20 \n",
            "  -  DeepLearning_model_1672909173019_791 \n",
            "  -  DeepLearning_model_1672909173019_698 \n",
            "  -  DeepLearning_model_1672909173019_838 \n",
            "  -  DeepLearning_model_1672909173019_203 \n",
            "  -  DeepLearning_model_1672909173019_305 \n",
            "  -  DeepLearning_model_1672909173019_897 \n",
            "  -  DeepLearning_model_1672909173019_962 \n",
            "  -  DeepLearning_model_1672909173019_506 \n",
            "  -  DeepLearning_model_1672909173019_470 \n",
            "  -  DeepLearning_model_1672909173019_793 \n",
            "  -  DeepLearning_model_1672909173019_490 \n",
            "  -  DeepLearning_model_1672909173019_680 \n",
            "  -  DeepLearning_model_1672909173019_62 \n",
            "  -  DeepLearning_model_1672909173019_267 \n",
            "  -  DeepLearning_model_1672909173019_96 \n",
            "  -  DeepLearning_model_1672909173019_847 \n",
            "  -  DeepLearning_model_1672909173019_495 \n",
            "  -  DeepLearning_model_1672909173019_50 \n",
            "  -  DeepLearning_model_1672909173019_401 \n",
            "  -  DeepLearning_model_1672909173019_703 \n",
            "  -  DeepLearning_model_1672909173019_128 \n",
            "  -  DeepLearning_model_1672909173019_885 \n",
            "  -  DeepLearning_model_1672909173019_566 \n",
            "  -  DeepLearning_model_1672909173019_914 \n",
            "  -  DeepLearning_model_1672909173019_695 \n",
            "  -  DeepLearning_model_1672909173019_762 \n",
            "  -  DeepLearning_model_1672909173019_152 \n",
            "  -  DeepLearning_model_1672909173019_431 \n",
            "  -  DeepLearning_model_1672909173019_702 \n",
            "  -  DeepLearning_model_1672909173019_434 \n",
            "  -  DeepLearning_model_1672909173019_331 \n",
            "  -  DeepLearning_model_1672909173019_704 \n",
            "  -  DeepLearning_model_1672909173019_996 \n",
            "  -  DeepLearning_model_1672909173019_759 \n",
            "  -  DeepLearning_model_1672909173019_183 \n",
            "  -  DeepLearning_model_1672909173019_661 \n",
            "  -  DeepLearning_model_1672909173019_953 \n",
            "  -  DeepLearning_model_1672909173019_172 \n",
            "  -  DeepLearning_model_1672909173019_576 \n",
            "  -  DeepLearning_model_1672909173019_995 \n",
            "  -  DeepLearning_model_1672909173019_527 \n",
            "  -  DeepLearning_model_1672909173019_878 \n",
            "  -  DeepLearning_model_1672909173019_585 \n",
            "  -  DeepLearning_model_1672909173019_612 \n",
            "  -  DeepLearning_model_1672909173019_643 \n",
            "  -  DeepLearning_model_1672909173019_92 \n",
            "  -  DeepLearning_model_1672909173019_990 \n",
            "  -  DeepLearning_model_1672909173019_517 \n",
            "  -  DeepLearning_model_1672909173019_145 \n",
            "  -  DeepLearning_model_1672909173019_814 \n",
            "  -  DeepLearning_model_1672909173019_475 \n",
            "  -  DeepLearning_model_1672909173019_141 \n",
            "  -  DeepLearning_model_1672909173019_271 \n",
            "  -  DeepLearning_model_1672909173019_859 \n",
            "  -  DeepLearning_model_1672909173019_905 \n",
            "  -  DeepLearning_model_1672909173019_711 \n",
            "  -  DeepLearning_model_1672909173019_205 \n",
            "  -  DeepLearning_model_1672909173019_725 \n",
            "  -  DeepLearning_model_1672909173019_376 \n",
            "  -  DeepLearning_model_1672909173019_244 \n",
            "  -  DeepLearning_model_1672909173019_719 \n",
            "  -  DeepLearning_model_1672909173019_743 \n",
            "  -  DeepLearning_model_1672909173019_312 \n",
            "  -  DeepLearning_model_1672909173019_789 \n",
            "  -  DeepLearning_model_1672909173019_343 \n",
            "  -  DeepLearning_model_1672909173019_593 \n",
            "  -  DeepLearning_model_1672909173019_338 \n",
            "  -  DeepLearning_model_1672909173019_893 \n",
            "  -  DeepLearning_model_1672909173019_287 \n",
            "  -  DeepLearning_model_1672909173019_624 \n",
            "  -  DeepLearning_model_1672909173019_4 \n",
            "  -  DeepLearning_model_1672909173019_221 \n",
            "  -  DeepLearning_model_1672909173019_587 \n",
            "  -  DeepLearning_model_1672909173019_876 \n",
            "  -  DeepLearning_model_1672909173019_127 \n",
            "  -  DeepLearning_model_1672909173019_341 \n",
            "  -  DeepLearning_model_1672909173019_617 \n",
            "  -  DeepLearning_model_1672909173019_371 \n",
            "  -  DeepLearning_model_1672909173019_681 \n",
            "  -  DeepLearning_model_1672909173019_927 \n",
            "  -  DeepLearning_model_1672909173019_961 \n",
            "  -  DeepLearning_model_1672909173019_501 \n",
            "  -  DeepLearning_model_1672909173019_534 \n",
            "  -  DeepLearning_model_1672909173019_830 \n",
            "  -  DeepLearning_model_1672909173019_283 \n",
            "  -  DeepLearning_model_1672909173019_668 \n",
            "  -  DeepLearning_model_1672909173019_94 \n",
            "  -  DeepLearning_model_1672909173019_210 \n",
            "  -  DeepLearning_model_1672909173019_262 \n",
            "  -  DeepLearning_model_1672909173019_655 \n",
            "  -  DeepLearning_model_1672909173019_488 \n",
            "  -  DeepLearning_model_1672909173019_997 \n",
            "  -  DeepLearning_model_1672909173019_140 \n",
            "  -  DeepLearning_model_1672909173019_91 \n",
            "  -  DeepLearning_model_1672909173019_187 \n",
            "  -  DeepLearning_model_1672909173019_71 \n",
            "  -  DeepLearning_model_1672909173019_884 \n",
            "  -  DeepLearning_model_1672909173019_238 \n",
            "  -  DeepLearning_model_1672909173019_334 \n",
            "  -  DeepLearning_model_1672909173019_629 \n",
            "  -  DeepLearning_model_1672909173019_445 \n",
            "  -  DeepLearning_model_1672909173019_354 \n",
            "  -  DeepLearning_model_1672909173019_41 \n",
            "  -  DeepLearning_model_1672909173019_297 \n",
            "  -  DeepLearning_model_1672909173019_337 \n",
            "  -  DeepLearning_model_1672909173019_282 \n",
            "  -  DeepLearning_model_1672909173019_11 \n",
            "  -  DeepLearning_model_1672909173019_173 \n",
            "  -  DeepLearning_model_1672909173019_577 \n",
            "  -  DeepLearning_model_1672909173019_877 \n",
            "  -  DeepLearning_model_1672909173019_248 \n",
            "  -  DeepLearning_model_1672909173019_963 \n",
            "  -  DeepLearning_model_1672909173019_204 \n",
            "  -  DeepLearning_model_1672909173019_931 \n",
            "  -  DeepLearning_model_1672909173019_306 \n",
            "  -  DeepLearning_model_1672909173019_131 \n",
            "  -  DeepLearning_model_1672909173019_481 \n",
            "  -  DeepLearning_model_1672909173019_635 \n",
            "  -  DeepLearning_model_1672909173019_840 \n",
            "  -  DeepLearning_model_1672909173019_941 \n",
            "  -  DeepLearning_model_1672909173019_370 \n",
            "  -  DeepLearning_model_1672909173019_556 \n",
            "  -  DeepLearning_model_1672909173019_679 \n",
            "  -  DeepLearning_model_1672909173019_323 \n",
            "  -  DeepLearning_model_1672909173019_17 \n",
            "  -  DeepLearning_model_1672909173019_465 \n",
            "  -  DeepLearning_model_1672909173019_690 \n",
            "  -  DeepLearning_model_1672909173019_382 \n",
            "  -  DeepLearning_model_1672909173019_504 \n",
            "  -  DeepLearning_model_1672909173019_133 \n",
            "  -  DeepLearning_model_1672909173019_322 \n",
            "  -  DeepLearning_model_1672909173019_175 \n",
            "  -  DeepLearning_model_1672909173019_353 \n",
            "  -  DeepLearning_model_1672909173019_542 \n",
            "  -  DeepLearning_model_1672909173019_15 \n",
            "  -  DeepLearning_model_1672909173019_57 \n",
            "  -  DeepLearning_model_1672909173019_746 \n",
            "  -  DeepLearning_model_1672909173019_843 \n",
            "  -  DeepLearning_model_1672909173019_563 \n",
            "  -  DeepLearning_model_1672909173019_694 \n",
            "  -  DeepLearning_model_1672909173019_569 \n",
            "  -  DeepLearning_model_1672909173019_778 \n",
            "  -  DeepLearning_model_1672909173019_855 \n",
            "  -  DeepLearning_model_1672909173019_701 \n",
            "  -  DeepLearning_model_1672909173019_362 \n",
            "  -  DeepLearning_model_1672909173019_241 \n",
            "  -  DeepLearning_model_1672909173019_970 \n",
            "  -  DeepLearning_model_1672909173019_326 \n",
            "  -  DeepLearning_model_1672909173019_638 \n",
            "  -  DeepLearning_model_1672909173019_730 \n",
            "  -  DeepLearning_model_1672909173019_383 \n",
            "  -  DeepLearning_model_1672909173019_298 \n",
            "  -  DeepLearning_model_1672909173019_834 \n",
            "  -  DeepLearning_model_1672909173019_968 \n",
            "  -  DeepLearning_model_1672909173019_86 \n",
            "  -  DeepLearning_model_1672909173019_47 \n",
            "  -  DeepLearning_model_1672909173019_458 \n",
            "  -  DeepLearning_model_1672909173019_177 \n",
            "  -  DeepLearning_model_1672909173019_462 \n",
            "  -  DeepLearning_model_1672909173019_955 \n",
            "  -  DeepLearning_model_1672909173019_208 \n",
            "  -  DeepLearning_model_1672909173019_794 \n",
            "  -  DeepLearning_model_1672909173019_699 \n",
            "  -  DeepLearning_model_1672909173019_603 \n",
            "  -  DeepLearning_model_1672909173019_742 \n",
            "  -  DeepLearning_model_1672909173019_937 \n",
            "  -  DeepLearning_model_1672909173019_600 \n",
            "  -  DeepLearning_model_1672909173019_169 \n",
            "  -  DeepLearning_model_1672909173019_609 \n",
            "  -  DeepLearning_model_1672909173019_845 \n",
            "  -  DeepLearning_model_1672909173019_850 \n",
            "  -  DeepLearning_model_1672909173019_45 \n",
            "  -  DeepLearning_model_1672909173019_437 \n",
            "  -  DeepLearning_model_1672909173019_399 \n",
            "  -  DeepLearning_model_1672909173019_892 \n",
            "  -  DeepLearning_model_1672909173019_109 \n",
            "  -  DeepLearning_model_1672909173019_671 \n",
            "  -  DeepLearning_model_1672909173019_449 \n",
            "  -  DeepLearning_model_1672909173019_157 \n",
            "  -  DeepLearning_model_1672909173019_595 \n",
            "  -  DeepLearning_model_1672909173019_64 \n",
            "  -  DeepLearning_model_1672909173019_121 \n",
            "  -  DeepLearning_model_1672909173019_966 \n",
            "  -  DeepLearning_model_1672909173019_129 \n",
            "  -  DeepLearning_model_1672909173019_626 \n",
            "  -  DeepLearning_model_1672909173019_692 \n",
            "  -  DeepLearning_model_1672909173019_520 \n",
            "  -  DeepLearning_model_1672909173019_981 \n",
            "  -  DeepLearning_model_1672909173019_317 \n",
            "  -  DeepLearning_model_1672909173019_375 \n",
            "  -  DeepLearning_model_1672909173019_151 \n",
            "  -  DeepLearning_model_1672909173019_240 \n",
            "  -  DeepLearning_model_1672909173019_369 \n",
            "  -  DeepLearning_model_1672909173019_721 \n",
            "  -  DeepLearning_model_1672909173019_860 \n",
            "  -  DeepLearning_model_1672909173019_192 \n",
            "  -  DeepLearning_model_1672909173019_61 \n",
            "  -  DeepLearning_model_1672909173019_582 \n",
            "  -  DeepLearning_model_1672909173019_546 \n",
            "  -  DeepLearning_model_1672909173019_713 \n",
            "  -  DeepLearning_model_1672909173019_823 \n",
            "  -  DeepLearning_model_1672909173019_780 \n",
            "  -  DeepLearning_model_1672909173019_101 \n",
            "  -  DeepLearning_model_1672909173019_639 \n",
            "  -  DeepLearning_model_1672909173019_179 \n",
            "  -  DeepLearning_model_1672909173019_236 \n",
            "  -  DeepLearning_model_1672909173019_456 \n",
            "  -  DeepLearning_model_1672909173019_253 \n",
            "  -  DeepLearning_model_1672909173019_185 \n",
            "  -  DeepLearning_model_1672909173019_487 \n",
            "  -  DeepLearning_model_1672909173019_989 \n",
            "  -  DeepLearning_model_1672909173019_798 \n",
            "  -  DeepLearning_model_1672909173019_605 \n",
            "  -  DeepLearning_model_1672909173019_494 \n",
            "  -  DeepLearning_model_1672909173019_207 \n",
            "  -  DeepLearning_model_1672909173019_774 \n",
            "  -  DeepLearning_model_1672909173019_32 \n",
            "  -  DeepLearning_model_1672909173019_215 \n",
            "  -  DeepLearning_model_1672909173019_286 \n",
            "  -  DeepLearning_model_1672909173019_249 \n",
            "  -  DeepLearning_model_1672909173019_873 \n",
            "  -  DeepLearning_model_1672909173019_247 \n",
            "  -  DeepLearning_model_1672909173019_324 \n",
            "  -  DeepLearning_model_1672909173019_973 \n",
            "  -  DeepLearning_model_1672909173019_796 \n",
            "  -  DeepLearning_model_1672909173019_435 \n",
            "  -  DeepLearning_model_1672909173019_976 \n",
            "  -  DeepLearning_model_1672909173019_8 \n",
            "  -  DeepLearning_model_1672909173019_245 \n",
            "  -  DeepLearning_model_1672909173019_280 \n",
            "  -  DeepLearning_model_1672909173019_974 \n",
            "  -  DeepLearning_model_1672909173019_90 \n",
            "  -  DeepLearning_model_1672909173019_377 \n",
            "  -  DeepLearning_model_1672909173019_360 \n",
            "  -  DeepLearning_model_1672909173019_697 \n",
            "  -  DeepLearning_model_1672909173019_718 \n",
            "  -  DeepLearning_model_1672909173019_911 \n",
            "  -  DeepLearning_model_1672909173019_749 \n",
            "  -  DeepLearning_model_1672909173019_678 \n",
            "  -  DeepLearning_model_1672909173019_299 \n",
            "  -  DeepLearning_model_1672909173019_630 \n",
            "  -  DeepLearning_model_1672909173019_466 \n",
            "  -  DeepLearning_model_1672909173019_986 \n",
            "  -  DeepLearning_model_1672909173019_117 \n",
            "  -  DeepLearning_model_1672909173019_716 \n",
            "  -  DeepLearning_model_1672909173019_356 \n",
            "  -  DeepLearning_model_1672909173019_468 \n",
            "  -  DeepLearning_model_1672909173019_528 \n",
            "  -  DeepLearning_model_1672909173019_395 \n",
            "  -  DeepLearning_model_1672909173019_84 \n",
            "  -  DeepLearning_model_1672909173019_887 \n",
            "  -  DeepLearning_model_1672909173019_922 \n",
            "  -  DeepLearning_model_1672909173019_816 \n",
            "  -  DeepLearning_model_1672909173019_116 \n",
            "  -  DeepLearning_model_1672909173019_632 \n",
            "  -  DeepLearning_model_1672909173019_971 \n",
            "  -  DeepLearning_model_1672909173019_776 \n",
            "  -  DeepLearning_model_1672909173019_201 \n",
            "  -  DeepLearning_model_1672909173019_226 \n",
            "  -  DeepLearning_model_1672909173019_530 \n",
            "  -  DeepLearning_model_1672909173019_538 \n",
            "  -  DeepLearning_model_1672909173019_613 \n",
            "  -  DeepLearning_model_1672909173019_825 \n",
            "  -  DeepLearning_model_1672909173019_333 \n",
            "  -  DeepLearning_model_1672909173019_706 \n",
            "  -  DeepLearning_model_1672909173019_83 \n",
            "  -  DeepLearning_model_1672909173019_413 \n",
            "  -  DeepLearning_model_1672909173019_108 \n",
            "  -  DeepLearning_model_1672909173019_265 \n",
            "  -  DeepLearning_model_1672909173019_489 \n",
            "  -  DeepLearning_model_1672909173019_98 \n",
            "  -  DeepLearning_model_1672909173019_364 \n",
            "  -  DeepLearning_model_1672909173019_239 \n",
            "  -  DeepLearning_model_1672909173019_211 \n",
            "  -  DeepLearning_model_1672909173019_486 \n",
            "  -  DeepLearning_model_1672909173019_924 \n",
            "  -  DeepLearning_model_1672909173019_442 \n",
            "  -  DeepLearning_model_1672909173019_883 \n",
            "  -  DeepLearning_model_1672909173019_285 \n",
            "  -  DeepLearning_model_1672909173019_519 \n",
            "  -  DeepLearning_model_1672909173019_223 \n",
            "  -  DeepLearning_model_1672909173019_3 \n",
            "  -  DeepLearning_model_1672909173019_107 \n",
            "  -  DeepLearning_model_1672909173019_288 \n",
            "  -  DeepLearning_model_1672909173019_516 \n",
            "  -  DeepLearning_model_1672909173019_257 \n",
            "  -  DeepLearning_model_1672909173019_770 \n",
            "  -  DeepLearning_model_1672909173019_985 \n",
            "  -  DeepLearning_model_1672909173019_46 \n",
            "  -  DeepLearning_model_1672909173019_799 \n",
            "  -  DeepLearning_model_1672909173019_651 \n",
            "  -  DeepLearning_model_1672909173019_514 \n",
            "  -  DeepLearning_model_1672909173019_657 \n",
            "  -  DeepLearning_model_1672909173019_174 \n",
            "  -  DeepLearning_model_1672909173019_912 \n",
            "  -  DeepLearning_model_1672909173019_765 \n",
            "  -  DeepLearning_model_1672909173019_451 \n",
            "  -  DeepLearning_model_1672909173019_58 \n",
            "  -  DeepLearning_model_1672909173019_908 \n",
            "  -  DeepLearning_model_1672909173019_332 \n",
            "  -  DeepLearning_model_1672909173019_234 \n",
            "  -  DeepLearning_model_1672909173019_982 \n",
            "  -  DeepLearning_model_1672909173019_320 \n",
            "  -  DeepLearning_model_1672909173019_644 \n",
            "  -  DeepLearning_model_1672909173019_313 \n",
            "  -  DeepLearning_model_1672909173019_182 \n",
            "  -  DeepLearning_model_1672909173019_979 \n",
            "  -  DeepLearning_model_1672909173019_664 \n",
            "  -  DeepLearning_model_1672909173019_122 \n",
            "  -  DeepLearning_model_1672909173019_270 \n",
            "  -  DeepLearning_model_1672909173019_614 \n",
            "  -  DeepLearning_model_1672909173019_473 \n",
            "  -  DeepLearning_model_1672909173019_574 \n",
            "  -  DeepLearning_model_1672909173019_915 \n",
            "  -  DeepLearning_model_1672909173019_75 \n",
            "  -  DeepLearning_model_1672909173019_82 \n",
            "  -  DeepLearning_model_1672909173019_18 \n",
            "  -  DeepLearning_model_1672909173019_581 \n",
            "  -  DeepLearning_model_1672909173019_102 \n",
            "  -  DeepLearning_model_1672909173019_549 \n",
            "  -  DeepLearning_model_1672909173019_124 \n",
            "  -  DeepLearning_model_1672909173019_604 \n",
            "  -  DeepLearning_model_1672909173019_28 \n",
            "  -  DeepLearning_model_1672909173019_484 \n",
            "  -  DeepLearning_model_1672909173019_733 \n",
            "  -  DeepLearning_model_1672909173019_408 \n",
            "  -  DeepLearning_model_1672909173019_163 \n",
            "  -  DeepLearning_model_1672909173019_552 \n",
            "  -  DeepLearning_model_1672909173019_559 \n",
            "  -  DeepLearning_model_1672909173019_766 \n",
            "  -  DeepLearning_model_1672909173019_66 \n",
            "  -  DeepLearning_model_1672909173019_314 \n",
            "  -  DeepLearning_model_1672909173019_804 \n",
            "  -  DeepLearning_model_1672909173019_417 \n",
            "  -  DeepLearning_model_1672909173019_446 \n",
            "  -  DeepLearning_model_1672909173019_507 \n",
            "  -  DeepLearning_model_1672909173019_352 \n",
            "  -  DeepLearning_model_1672909173019_198 \n",
            "  -  DeepLearning_model_1672909173019_691 \n",
            "  -  DeepLearning_model_1672909173019_178 \n",
            "  -  DeepLearning_model_1672909173019_16 \n",
            "  -  DeepLearning_model_1672909173019_398 \n",
            "  -  DeepLearning_model_1672909173019_195 \n",
            "  -  DeepLearning_model_1672909173019_155 \n",
            "  -  DeepLearning_model_1672909173019_978 \n",
            "  -  DeepLearning_model_1672909173019_942 \n",
            "  -  DeepLearning_model_1672909173019_775 \n",
            "  -  DeepLearning_model_1672909173019_599 \n",
            "  -  DeepLearning_model_1672909173019_738 \n",
            "  -  DeepLearning_model_1672909173019_590 \n",
            "  -  DeepLearning_model_1672909173019_540 \n",
            "  -  DeepLearning_model_1672909173019_526 \n",
            "  -  DeepLearning_model_1672909173019_409 \n",
            "  -  DeepLearning_model_1672909173019_921 \n",
            "  -  DeepLearning_model_1672909173019_926 \n",
            "  -  DeepLearning_model_1672909173019_505 \n",
            "  -  DeepLearning_model_1672909173019_739 \n",
            "  -  DeepLearning_model_1672909173019_736 \n",
            "  -  DeepLearning_model_1672909173019_186 \n",
            "  -  DeepLearning_model_1672909173019_393 \n",
            "  -  DeepLearning_model_1672909173019_529 \n",
            "  -  DeepLearning_model_1672909173019_497 \n",
            "  -  DeepLearning_model_1672909173019_795 \n",
            "  -  DeepLearning_model_1672909173019_478 \n",
            "  -  DeepLearning_model_1672909173019_191 \n",
            "  -  DeepLearning_model_1672909173019_591 \n",
            "  -  DeepLearning_model_1672909173019_29 \n",
            "  -  DeepLearning_model_1672909173019_822 \n",
            "  -  DeepLearning_model_1672909173019_650 \n",
            "  -  DeepLearning_model_1672909173019_682 \n",
            "  -  DeepLearning_model_1672909173019_621 \n",
            "  -  DeepLearning_model_1672909173019_368 \n",
            "  -  DeepLearning_model_1672909173019_768 \n",
            "  -  DeepLearning_model_1672909173019_363 \n",
            "  -  DeepLearning_model_1672909173019_894 \n",
            "  -  DeepLearning_model_1672909173019_303 \n",
            "  -  DeepLearning_model_1672909173019_550 \n",
            "  -  DeepLearning_model_1672909173019_254 \n",
            "  -  DeepLearning_model_1672909173019_385 \n",
            "  -  DeepLearning_model_1672909173019_930 \n",
            "  -  DeepLearning_model_1672909173019_126 \n",
            "  -  DeepLearning_model_1672909173019_532 \n",
            "  -  DeepLearning_model_1672909173019_849 \n",
            "  -  DeepLearning_model_1672909173019_457 \n",
            "  -  DeepLearning_model_1672909173019_410 \n",
            "  -  DeepLearning_model_1672909173019_188 \n",
            "  -  DeepLearning_model_1672909173019_509 \n",
            "  -  DeepLearning_model_1672909173019_640 \n",
            "  -  DeepLearning_model_1672909173019_14 \n",
            "  -  DeepLearning_model_1672909173019_828 \n",
            "  -  DeepLearning_model_1672909173019_269 \n",
            "  -  DeepLearning_model_1672909173019_461 \n",
            "  -  DeepLearning_model_1672909173019_541 \n",
            "  -  DeepLearning_model_1672909173019_476 \n",
            "  -  DeepLearning_model_1672909173019_302 \n",
            "  -  DeepLearning_model_1672909173019_712 \n",
            "  -  DeepLearning_model_1672909173019_307 \n",
            "  -  DeepLearning_model_1672909173019_93 \n",
            "  -  DeepLearning_model_1672909173019_939 \n",
            "  -  DeepLearning_model_1672909173019_898 \n",
            "  -  DeepLearning_model_1672909173019_218 \n",
            "  -  DeepLearning_model_1672909173019_580 \n",
            "  -  DeepLearning_model_1672909173019_252 \n",
            "  -  DeepLearning_model_1672909173019_405 \n",
            "  -  DeepLearning_model_1672909173019_837 \n",
            "  -  DeepLearning_model_1672909173019_958 \n",
            "  -  DeepLearning_model_1672909173019_737 \n",
            "  -  DeepLearning_model_1672909173019_206 \n",
            "  -  DeepLearning_model_1672909173019_402 \n",
            "  -  DeepLearning_model_1672909173019_919 \n",
            "  -  DeepLearning_model_1672909173019_714 \n",
            "  -  DeepLearning_model_1672909173019_10 \n",
            "  -  DeepLearning_model_1672909173019_65 \n",
            "  -  DeepLearning_model_1672909173019_339 \n",
            "  -  DeepLearning_model_1672909173019_35 \n",
            "  -  DeepLearning_model_1672909173019_683 \n",
            "  -  DeepLearning_model_1672909173019_284 \n",
            "  -  DeepLearning_model_1672909173019_666 \n",
            "  -  DeepLearning_model_1672909173019_472 \n",
            "  -  DeepLearning_model_1672909173019_523 \n",
            "  -  DeepLearning_model_1672909173019_895 \n",
            "  -  DeepLearning_model_1672909173019_159 \n",
            "  -  DeepLearning_model_1672909173019_782 \n",
            "  -  DeepLearning_model_1672909173019_73 \n",
            "  -  DeepLearning_model_1672909173019_854 \n",
            "  -  DeepLearning_model_1672909173019_565 \n",
            "  -  DeepLearning_model_1672909173019_648 \n",
            "  -  DeepLearning_model_1672909173019_276 \n",
            "  -  DeepLearning_model_1672909173019_967 \n",
            "  -  DeepLearning_model_1672909173019_88 \n",
            "  -  DeepLearning_model_1672909173019_26 \n",
            "  -  DeepLearning_model_1672909173019_454 \n",
            "  -  DeepLearning_model_1672909173019_36 \n",
            "  -  DeepLearning_model_1672909173019_38 \n",
            "  -  DeepLearning_model_1672909173019_115 \n",
            "  -  DeepLearning_model_1672909173019_757 \n",
            "  -  DeepLearning_model_1672909173019_929 \n",
            "  -  DeepLearning_model_1672909173019_817 \n",
            "  -  DeepLearning_model_1672909173019_943 \n",
            "  -  DeepLearning_model_1672909173019_918 \n",
            "  -  DeepLearning_model_1672909173019_669 \n",
            "  -  DeepLearning_model_1672909173019_656 \n",
            "  -  DeepLearning_model_1672909173019_975 \n",
            "  -  DeepLearning_model_1672909173019_359 \n",
            "  -  DeepLearning_model_1672909173019_608 \n",
            "  -  DeepLearning_model_1672909173019_412 \n",
            "  -  DeepLearning_model_1672909173019_268 \n",
            "  -  DeepLearning_model_1672909173019_731 \n",
            "  -  DeepLearning_model_1672909173019_293 \n",
            "  -  DeepLearning_model_1672909173019_67 \n",
            "  -  DeepLearning_model_1672909173019_672 \n",
            "  -  DeepLearning_model_1672909173019_372 \n",
            "  -  DeepLearning_model_1672909173019_717 \n",
            "  -  DeepLearning_model_1672909173019_588 \n",
            "  -  DeepLearning_model_1672909173019_960 \n",
            "  -  DeepLearning_model_1672909173019_570 \n",
            "  -  DeepLearning_model_1672909173019_482 \n",
            "  -  DeepLearning_model_1672909173019_611 \n",
            "  -  DeepLearning_model_1672909173019_951 \n",
            "  -  DeepLearning_model_1672909173019_992 \n",
            "  -  DeepLearning_model_1672909173019_575 \n",
            "  -  DeepLearning_model_1672909173019_77 \n",
            "  -  DeepLearning_model_1672909173019_425 \n",
            "  -  DeepLearning_model_1672909173019_74 \n",
            "  -  DeepLearning_model_1672909173019_933 \n",
            "  -  DeepLearning_model_1672909173019_123 \n",
            "  -  DeepLearning_model_1672909173019_467 \n",
            "  -  DeepLearning_model_1672909173019_652 \n",
            "  -  DeepLearning_model_1672909173019_407 \n",
            "  -  DeepLearning_model_1672909173019_367 \n",
            "  -  DeepLearning_model_1672909173019_686 \n",
            "  -  DeepLearning_model_1672909173019_447 \n",
            "  -  DeepLearning_model_1672909173019_355 \n",
            "  -  DeepLearning_model_1672909173019_25 \n",
            "  -  DeepLearning_model_1672909173019_39 \n",
            "  -  DeepLearning_model_1672909173019_785 \n",
            "  -  DeepLearning_model_1672909173019_988 \n",
            "  -  DeepLearning_model_1672909173019_906 \n",
            "  -  DeepLearning_model_1672909173019_553 \n",
            "  -  DeepLearning_model_1672909173019_618 \n",
            "  -  DeepLearning_model_1672909173019_180 \n",
            "  -  DeepLearning_model_1672909173019_384 \n",
            "  -  DeepLearning_model_1672909173019_330 \n",
            "  -  DeepLearning_model_1672909173019_531 \n",
            "  -  DeepLearning_model_1672909173019_136 \n",
            "  -  DeepLearning_model_1672909173019_76 \n",
            "  -  DeepLearning_model_1672909173019_547 \n",
            "  -  DeepLearning_model_1672909173019_948 \n",
            "  -  DeepLearning_model_1672909173019_161 \n",
            "  -  DeepLearning_model_1672909173019_857 \n",
            "  -  DeepLearning_model_1672909173019_289 \n",
            "  -  DeepLearning_model_1672909173019_311 \n",
            "  -  DeepLearning_model_1672909173019_397 \n",
            "  -  DeepLearning_model_1672909173019_167 \n",
            "  -  DeepLearning_model_1672909173019_440 \n",
            "  -  DeepLearning_model_1672909173019_952 \n",
            "  -  DeepLearning_model_1672909173019_853 \n",
            "  -  DeepLearning_model_1672909173019_904 \n",
            "  -  DeepLearning_model_1672909173019_932 \n",
            "  -  DeepLearning_model_1672909173019_150 \n",
            "  -  DeepLearning_model_1672909173019_232 \n",
            "  -  DeepLearning_model_1672909173019_673 \n",
            "  -  DeepLearning_model_1672909173019_304 \n",
            "  -  DeepLearning_model_1672909173019_103 \n",
            "  -  DeepLearning_model_1672909173019_474 \n",
            "  -  DeepLearning_model_1672909173019_176 \n",
            "  -  DeepLearning_model_1672909173019_350 \n",
            "  -  DeepLearning_model_1672909173019_674 \n",
            "  -  DeepLearning_model_1672909173019_216 \n",
            "  -  DeepLearning_model_1672909173019_193 \n",
            "  -  DeepLearning_model_1672909173019_571 \n",
            "  -  DeepLearning_model_1672909173019_767 \n",
            "  -  DeepLearning_model_1672909173019_633 \n",
            "  -  DeepLearning_model_1672909173019_812 \n",
            "  -  DeepLearning_model_1672909173019_485 \n",
            "  -  DeepLearning_model_1672909173019_95 \n",
            "  -  DeepLearning_model_1672909173019_421 \n",
            "  -  DeepLearning_model_1672909173019_342 \n",
            "  -  DeepLearning_model_1672909173019_752 \n",
            "  -  DeepLearning_model_1672909173019_856 \n",
            "  -  DeepLearning_model_1672909173019_950 \n",
            "  -  DeepLearning_model_1672909173019_7 \n",
            "  -  DeepLearning_model_1672909173019_806 \n",
            "  -  DeepLearning_model_1672909173019_111 \n",
            "  -  DeepLearning_model_1672909173019_154 \n",
            "  -  DeepLearning_model_1672909173019_125 \n",
            "  -  DeepLearning_model_1672909173019_444 \n",
            "  -  DeepLearning_model_1672909173019_390 \n",
            "  -  DeepLearning_model_1672909173019_411 \n",
            "  -  DeepLearning_model_1672909173019_800 \n",
            "  -  DeepLearning_model_1672909173019_601 \n",
            "  -  DeepLearning_model_1672909173019_715 \n",
            "  -  DeepLearning_model_1672909173019_9 \n",
            "  -  DeepLearning_model_1672909173019_994 \n",
            "  -  DeepLearning_model_1672909173019_459 \n",
            "  -  DeepLearning_model_1672909173019_361 \n",
            "  -  DeepLearning_model_1672909173019_886 \n",
            "  -  DeepLearning_model_1672909173019_809 \n",
            "  -  DeepLearning_model_1672909173019_525 \n",
            "  -  DeepLearning_model_1672909173019_889 \n",
            "  -  DeepLearning_model_1672909173019_653 \n",
            "  -  DeepLearning_model_1672909173019_907 \n",
            "  -  DeepLearning_model_1672909173019_120 \n",
            "  -  DeepLearning_model_1672909173019_808 \n",
            "  -  DeepLearning_model_1672909173019_479 \n",
            "  -  DeepLearning_model_1672909173019_137 \n",
            "  -  DeepLearning_model_1672909173019_747 \n",
            "  -  DeepLearning_model_1672909173019_647 \n",
            "  -  DeepLearning_model_1672909173019_771 \n",
            "  -  DeepLearning_model_1672909173019_991 \n",
            "  -  DeepLearning_model_1672909173019_394 \n",
            "  -  DeepLearning_model_1672909173019_708 \n",
            "  -  DeepLearning_model_1672909173019_807 \n",
            "  -  DeepLearning_model_1672909173019_654 \n",
            "  -  DeepLearning_model_1672909173019_278 \n",
            "  -  DeepLearning_model_1672909173019_100 \n",
            "  -  DeepLearning_model_1672909173019_764 \n",
            "  -  DeepLearning_model_1672909173019_258 \n",
            "  -  DeepLearning_model_1672909173019_750 \n",
            "  -  DeepLearning_model_1672909173019_392 \n",
            "  -  DeepLearning_model_1672909173019_866 \n",
            "  -  DeepLearning_model_1672909173019_515 \n",
            "  -  DeepLearning_model_1672909173019_480 \n",
            "  -  DeepLearning_model_1672909173019_428 \n",
            "  -  DeepLearning_model_1672909173019_416 \n",
            "  -  DeepLearning_model_1672909173019_502 \n",
            "  -  DeepLearning_model_1672909173019_165 \n",
            "  -  DeepLearning_model_1672909173019_810 \n",
            "  -  DeepLearning_model_1672909173019_261 \n",
            "  -  DeepLearning_model_1672909173019_349 \n",
            "  -  DeepLearning_model_1672909173019_744 \n",
            "  -  DeepLearning_model_1672909173019_5 \n",
            "  -  DeepLearning_model_1672909173019_634 \n",
            "  -  DeepLearning_model_1672909173019_2 \n",
            "  -  DeepLearning_model_1672909173019_993 \n",
            "  -  DeepLearning_model_1672909173019_224 \n",
            "  -  DeepLearning_model_1672909173019_499 \n",
            "  -  DeepLearning_model_1672909173019_558 \n",
            "  -  DeepLearning_model_1672909173019_944 \n",
            "  -  DeepLearning_model_1672909173019_158 \n",
            "  -  DeepLearning_model_1672909173019_748 \n",
            "  -  DeepLearning_model_1672909173019_414 \n",
            "  -  DeepLearning_model_1672909173019_755 \n",
            "  -  DeepLearning_model_1672909173019_374 \n",
            "  -  DeepLearning_model_1672909173019_792 \n",
            "  -  DeepLearning_model_1672909173019_420 \n",
            "  -  DeepLearning_model_1672909173019_301 \n",
            "  -  DeepLearning_model_1672909173019_977 \n",
            "  -  DeepLearning_model_1672909173019_315 \n",
            "  -  DeepLearning_model_1672909173019_452 \n",
            "  -  DeepLearning_model_1672909173019_602 \n",
            "  -  DeepLearning_model_1672909173019_572 \n",
            "  -  DeepLearning_model_1672909173019_231 \n",
            "  -  DeepLearning_model_1672909173019_983 \n",
            "  -  DeepLearning_model_1672909173019_246 \n",
            "  -  DeepLearning_model_1672909173019_659 \n",
            "  -  DeepLearning_model_1672909173019_366 \n",
            "  -  DeepLearning_model_1672909173019_162 \n",
            "  -  DeepLearning_model_1672909173019_54 \n",
            "  -  DeepLearning_model_1672909173019_135 \n",
            "  -  DeepLearning_model_1672909173019_379 \n",
            "  -  DeepLearning_model_1672909173019_56 \n",
            "  -  DeepLearning_model_1672909173019_97 \n",
            "  -  DeepLearning_model_1672909173019_49 \n",
            "  -  DeepLearning_model_1672909173019_404 \n",
            "  -  DeepLearning_model_1672909173019_351 \n",
            "  -  DeepLearning_model_1672909173019_687 \n",
            "  -  DeepLearning_model_1672909173019_584 \n",
            "  -  DeepLearning_model_1672909173019_524 \n",
            "  -  DeepLearning_model_1672909173019_947 \n",
            "  -  DeepLearning_model_1672909173019_291 \n",
            "  -  DeepLearning_model_1672909173019_658 \n",
            "  -  DeepLearning_model_1672909173019_901 \n",
            "  -  DeepLearning_model_1672909173019_891 \n",
            "  -  DeepLearning_model_1672909173019_243 \n",
            "  -  DeepLearning_model_1672909173019_233 \n",
            "  -  DeepLearning_model_1672909173019_308 \n",
            "  -  DeepLearning_model_1672909173019_769 \n",
            "  -  DeepLearning_model_1672909173019_52 \n",
            "  -  DeepLearning_model_1672909173019_861 \n",
            "  -  DeepLearning_model_1672909173019_597 \n",
            "  -  DeepLearning_model_1672909173019_358 \n",
            "  -  DeepLearning_model_1672909173019_934 \n",
            "  -  DeepLearning_model_1672909173019_388 \n",
            "  -  DeepLearning_model_1672909173019_867 \n",
            "  -  DeepLearning_model_1672909173019_242 \n",
            "  -  DeepLearning_model_1672909173019_596 \n",
            "  -  DeepLearning_model_1672909173019_477 \n",
            "  -  DeepLearning_model_1672909173019_573 \n",
            "  -  DeepLearning_model_1672909173019_784 \n",
            "  -  DeepLearning_model_1672909173019_471 \n",
            "  -  DeepLearning_model_1672909173019_899 \n",
            "  -  DeepLearning_model_1672909173019_439 \n",
            "  -  DeepLearning_model_1672909173019_6 \n",
            "  -  DeepLearning_model_1672909173019_99 \n",
            "  -  DeepLearning_model_1672909173019_660 \n",
            "  -  DeepLearning_model_1672909173019_805 \n",
            "  -  DeepLearning_model_1672909173019_483 \n",
            "  -  DeepLearning_model_1672909173019_55 \n",
            "  -  DeepLearning_model_1672909173019_607 \n",
            "  -  DeepLearning_model_1672909173019_255 \n",
            "  -  DeepLearning_model_1672909173019_813 \n",
            "  -  DeepLearning_model_1672909173019_803 \n",
            "  -  DeepLearning_model_1672909173019_296 \n",
            "  -  DeepLearning_model_1672909173019_868 \n",
            "  -  DeepLearning_model_1672909173019_400 \n",
            "  -  DeepLearning_model_1672909173019_909 \n",
            "  -  DeepLearning_model_1672909173019_464 \n",
            "  -  DeepLearning_model_1672909173019_646 \n",
            "  -  DeepLearning_model_1672909173019_146 \n",
            "  -  DeepLearning_model_1672909173019_627 \n",
            "  -  DeepLearning_model_1672909173019_500 \n",
            "  -  DeepLearning_model_1672909173019_220 \n",
            "  -  DeepLearning_model_1672909173019_920 \n",
            "  -  DeepLearning_model_1672909173019_202 \n",
            "  -  DeepLearning_model_1672909173019_797 \n",
            "  -  DeepLearning_model_1672909173019_707 \n",
            "  -  DeepLearning_model_1672909173019_831 \n",
            "  -  DeepLearning_model_1672909173019_636 \n",
            "  -  DeepLearning_model_1672909173019_266 \n",
            "  -  DeepLearning_model_1672909173019_772 \n",
            "  -  DeepLearning_model_1672909173019_448 \n",
            "  -  DeepLearning_model_1672909173019_882 \n",
            "  -  DeepLearning_model_1672909173019_250 \n",
            "  -  DeepLearning_model_1672909173019_751 \n",
            "  -  DeepLearning_model_1672909173019_225 \n",
            "  -  DeepLearning_model_1672909173019_222 \n",
            "  -  DeepLearning_model_1672909173019_754 \n",
            "  -  DeepLearning_model_1672909173019_264 \n",
            "  -  DeepLearning_model_1672909173019_512 \n",
            "  -  DeepLearning_model_1672909173019_790 \n",
            "  -  DeepLearning_model_1672909173019_589 \n",
            "  -  DeepLearning_model_1672909173019_60 \n",
            "  -  DeepLearning_model_1672909173019_637 \n",
            "  -  DeepLearning_model_1672909173019_340 \n",
            "  -  DeepLearning_model_1672909173019_389 \n",
            "  -  DeepLearning_model_1672909173019_641 \n",
            "  -  DeepLearning_model_1672909173019_508 \n",
            "  -  DeepLearning_model_1672909173019_27 \n",
            "  -  DeepLearning_model_1672909173019_85 \n",
            "  -  DeepLearning_model_1672909173019_491 \n",
            "  -  DeepLearning_model_1672909173019_345 \n",
            "  -  DeepLearning_model_1672909173019_310 \n",
            "  -  DeepLearning_model_1672909173019_53 \n",
            "  -  DeepLearning_model_1672909173019_281 \n",
            "  -  DeepLearning_model_1672909173019_427 \n",
            "  -  DeepLearning_model_1672909173019_70 \n",
            "  -  DeepLearning_model_1672909173019_112 \n",
            "  -  DeepLearning_model_1672909173019_753 \n",
            "  -  DeepLearning_model_1672909173019_954 \n",
            "  -  DeepLearning_model_1672909173019_987 \n",
            "  -  DeepLearning_model_1672909173019_469 \n",
            "  -  DeepLearning_model_1672909173019_460 \n",
            "  -  DeepLearning_model_1672909173019_43 \n",
            "  -  DeepLearning_model_1672909173019_732 \n",
            "  -  DeepLearning_model_1672909173019_598 \n",
            "  -  DeepLearning_model_1672909173019_432 \n",
            "  -  DeepLearning_model_1672909173019_511 \n",
            "  -  DeepLearning_model_1672909173019_667 \n",
            "  -  DeepLearning_model_1672909173019_728 \n",
            "  -  DeepLearning_model_1672909173019_578 \n",
            "  -  DeepLearning_model_1672909173019_874 \n",
            "  -  DeepLearning_model_1672909173019_763 \n",
            "  -  DeepLearning_model_1672909173019_153 \n",
            "  -  DeepLearning_model_1672909173019_802 \n",
            "  -  DeepLearning_model_1672909173019_415 \n",
            "  -  DeepLearning_model_1672909173019_328 \n",
            "  -  DeepLearning_model_1672909173019_344 \n",
            "\n",
            "Number of failed models: 2 \n",
            "  -  DistributedException from localhost/127.0.0.1:54321: ' wrong priority for task Roll, expected 120, but got 116', caused by java.lang.AssertionError:  wrong priority for task Roll, expected 120, but got 116java.lang.RuntimeException: DistributedException from localhost/127.0.0.1:54321: ' wrong priority for task Roll, expected 120, but got 116', caused by java.lang.AssertionError:  wrong priority for task Roll, expected 120, but got 116\n",
            "\tat water.fvec.RollupStats.get(RollupStats.java:362)\n",
            "\tat water.fvec.RollupStats.get(RollupStats.java:371)\n",
            "\tat water.fvec.Vec.rollupStats(Vec.java:933)\n",
            "\tat water.fvec.Vec.mins(Vec.java:849)\n",
            "\tat water.fvec.Vec.min(Vec.java:846)\n",
            "\tat water.fvec.Vec.isConst(Vec.java:858)\n",
            "\tat hex.ModelBuilder.init(ModelBuilder.java:1514)\n",
            "\tat hex.deeplearning.DeepLearning.init(DeepLearning.java:71)\n",
            "\tat hex.deeplearning.DeepLearning$DeepLearningDriver.computeImpl(DeepLearning.java:226)\n",
            "\tat hex.ModelBuilder$Driver.compute2(ModelBuilder.java:252)\n",
            "\tat hex.deeplearning.DeepLearning$DeepLearningDriver.compute2(DeepLearning.java:224)\n",
            "\tat water.H2O$H2OCountedCompleter.compute(H2O.java:1677)\n",
            "\tat jsr166y.CountedCompleter.exec(CountedCompleter.java:468)\n",
            "\tat jsr166y.ForkJoinTask.doExec(ForkJoinTask.java:263)\n",
            "\tat jsr166y.ForkJoinPool$WorkQueue.runTask(ForkJoinPool.java:976)\n",
            "\tat jsr166y.ForkJoinPool.runWorker(ForkJoinPool.java:1479)\n",
            "\tat jsr166y.ForkJoinWorkerThread.run(ForkJoinWorkerThread.java:104)\n",
            "Caused by: DistributedException from localhost/127.0.0.1:54321: ' wrong priority for task Roll, expected 120, but got 116', caused by java.lang.AssertionError:  wrong priority for task Roll, expected 120, but got 116\n",
            "\tat water.RPC.result(RPC.java:240)\n",
            "\tat water.RPC.get(RPC.java:281)\n",
            "\tat water.RPC.get(RPC.java:255)\n",
            "\tat water.fvec.RollupStats.get(RollupStats.java:356)\n",
            "\t... 16 more\n",
            "Caused by: java.lang.AssertionError:  wrong priority for task Roll, expected 120, but got 116\n",
            "\tat water.H2O$H2OCountedCompleter.compute(H2O.java:1652)\n",
            "\t... 5 more\n",
            " \n",
            "  -   wrong priority for task RebalanceTask, expected 120, but got 83java.lang.AssertionError:  wrong priority for task RebalanceTask, expected 120, but got 83\n",
            "\tat water.H2O$H2OCountedCompleter.compute(H2O.java:1652)\n",
            "\tat jsr166y.CountedCompleter.exec(CountedCompleter.java:468)\n",
            "\tat jsr166y.ForkJoinTask.doExec(ForkJoinTask.java:263)\n",
            "\tat jsr166y.ForkJoinPool$WorkQueue.runTask(ForkJoinPool.java:976)\n",
            "\tat jsr166y.ForkJoinPool.runWorker(ForkJoinPool.java:1479)\n",
            "\tat jsr166y.ForkJoinWorkerThread.run(ForkJoinWorkerThread.java:104)\n",
            " \n"
          ]
        }
      ]
    },
    {
      "cell_type": "code",
      "source": [
        "rn_gridperf_est6<-h2o.getGrid(grid_id = \"rn_est6\",\n",
        "                              sort_by = \"MSE\",\n",
        "                              decreasing = FALSE)\n",
        "rn_gridperf_est6"
      ],
      "metadata": {
        "id": "WwofH8B8lV8y",
        "colab": {
          "base_uri": "https://localhost:8080/",
          "height": 989
        },
        "outputId": "8f3ae243-8896-42d5-ecde-4b529d31f8ae"
      },
      "execution_count": null,
      "outputs": [
        {
          "output_type": "stream",
          "name": "stderr",
          "text": [
            "Warning message in h2o.getGrid(grid_id = \"rn_est6\", sort_by = \"MSE\", decreasing = FALSE):\n",
            "“Some models were not built due to a failure, for more details run `summary(grid_object, show_stack_traces = TRUE)`”\n"
          ]
        },
        {
          "output_type": "display_data",
          "data": {
            "text/plain": [
              "H2O Grid Details\n",
              "================\n",
              "\n",
              "Grid ID: rn_est6 \n",
              "Used hyper parameters: \n",
              "  -  activation \n",
              "  -  epochs \n",
              "  -  hidden \n",
              "  -  rate \n",
              "  -  rate_annealing \n",
              "  -  rate_decay \n",
              "Number of models: 997 \n",
              "Number of failed models: 2 \n",
              "\n",
              "Hyper-Parameter Search Summary: ordered by increasing MSE\n",
              "         activation    epochs hidden    rate rate_annealing rate_decay\n",
              "1 MaxoutWithDropout 200.00000     50 0.05000        0.00010    0.98500\n",
              "2              Tanh 200.00000    500 0.01000        0.00001    0.98000\n",
              "3            Maxout  15.00000    600 0.00100        0.00001    0.99000\n",
              "4 MaxoutWithDropout  20.00000     40 0.00700        0.00000    0.98300\n",
              "5            Maxout   5.00000    250 0.70000        0.00001    0.98900\n",
              "                              model_ids     mse\n",
              "1 DeepLearning_model_1670737080983_1075 2.96748\n",
              "2 DeepLearning_model_1670737080983_1664 3.11672\n",
              "3 DeepLearning_model_1670737080983_1139 3.14295\n",
              "4 DeepLearning_model_1670737080983_1452 3.36207\n",
              "5 DeepLearning_model_1670737080983_1631 3.39086\n",
              "\n",
              "---\n",
              "              activation    epochs hidden    rate rate_annealing rate_decay\n",
              "992            Rectifier  55.00000    650 0.50000        0.00050    0.98500\n",
              "993               Maxout 200.00000     40 0.07000        0.00000    0.98300\n",
              "994            Rectifier 100.00000    650 0.00500        0.00001    0.98900\n",
              "995    MaxoutWithDropout 150.00000   1000 0.70000        0.00050    0.99000\n",
              "996 RectifierWithDropout  50.00000    700 0.01000        0.00001    0.99000\n",
              "997               Maxout 150.00000     50 0.05000        0.00001    0.98900\n",
              "                                model_ids      mse\n",
              "992 DeepLearning_model_1670737080983_1459 14.65482\n",
              "993 DeepLearning_model_1670737080983_1495 14.66371\n",
              "994 DeepLearning_model_1670737080983_1428 14.77287\n",
              "995 DeepLearning_model_1670737080983_1540 14.86802\n",
              "996 DeepLearning_model_1670737080983_1753 18.42137\n",
              "997 DeepLearning_model_1670737080983_1762 19.34208\n",
              "Failed models\n",
              "-------------\n",
              "      activation epochs hidden  rate rate_annealing rate_decay status_failed\n",
              " TanhWithDropout   50.0   [40]  0.01         7.0E-6       0.98          FAIL\n",
              "            Tanh   55.0   [50] 0.007         1.0E-4      0.985          FAIL\n",
              "                                                                                                                                                                                                     msgs_failed\n",
              "   \"DistributedException from localhost/127.0.0.1:54321: ' wrong priority for task Roll, expected 120, but got 89', caused by java.lang.AssertionError:  wrong priority for task Roll, expected 120, but got 89\"\n",
              " \"DistributedException from localhost/127.0.0.1:54321: ' wrong priority for task Roll, expected 120, but got 111', caused by java.lang.AssertionError:  wrong priority for task Roll, expected 120, but got 111\""
            ]
          },
          "metadata": {}
        }
      ]
    },
    {
      "cell_type": "code",
      "source": [
        "rn_gridperf_est10<-h2o.getGrid(grid_id = \"rn_est10\",\n",
        "                              sort_by = \"MSE\",\n",
        "                              decreasing = FALSE)\n",
        "rn_gridperf_est10"
      ],
      "metadata": {
        "id": "dtlysVGElYvC",
        "colab": {
          "base_uri": "https://localhost:8080/",
          "height": 1000
        },
        "outputId": "7cfeccf9-6ad9-438e-bc8c-5a9714743fdf"
      },
      "execution_count": null,
      "outputs": [
        {
          "output_type": "stream",
          "name": "stderr",
          "text": [
            "Warning message in h2o.getGrid(grid_id = \"rn_est10\", sort_by = \"MSE\", decreasing = FALSE):\n",
            "“Some models were not built due to a failure, for more details run `summary(grid_object, show_stack_traces = TRUE)`”\n"
          ]
        },
        {
          "output_type": "display_data",
          "data": {
            "text/plain": [
              "H2O Grid Details\n",
              "================\n",
              "\n",
              "Grid ID: rn_est10 \n",
              "Used hyper parameters: \n",
              "  -  activation \n",
              "  -  epochs \n",
              "  -  hidden \n",
              "  -  rate \n",
              "  -  rate_annealing \n",
              "  -  rate_decay \n",
              "Number of models: 994 \n",
              "Number of failed models: 3 \n",
              "\n",
              "Hyper-Parameter Search Summary: ordered by increasing MSE\n",
              "         activation   epochs hidden    rate rate_annealing rate_decay\n",
              "1            Maxout  5.00000    250 0.50000        0.00070    0.99000\n",
              "2            Maxout  5.00000    250 0.70000        0.00070    0.98500\n",
              "3            Maxout  5.00000    250 0.00100        0.00000    0.98000\n",
              "4 MaxoutWithDropout 55.00000    250 0.50000        0.00000    0.98900\n",
              "5 MaxoutWithDropout 15.00000    200 0.07000        0.00010    0.98900\n",
              "                              model_ids     mse\n",
              "1 DeepLearning_model_1670737080983_2746 3.39605\n",
              "2 DeepLearning_model_1670737080983_2904 3.42528\n",
              "3 DeepLearning_model_1670737080983_2369 3.49234\n",
              "4 DeepLearning_model_1670737080983_2574 3.50588\n",
              "5 DeepLearning_model_1670737080983_2156 3.51050\n",
              "\n",
              "---\n",
              "    activation    epochs hidden    rate rate_annealing rate_decay\n",
              "989       Tanh  10.00000     30 0.00500        0.00001    0.98900\n",
              "990       Tanh  10.00000     30 0.00500        0.00070    0.98000\n",
              "991  Rectifier 150.00000     30 0.50000        0.00050    0.99000\n",
              "992  Rectifier   5.00000     30 0.70000        0.00000    0.98300\n",
              "993  Rectifier   5.00000     30 0.00500        0.00010    0.98900\n",
              "994  Rectifier  60.00000     30 0.00700        0.00050    0.98000\n",
              "                                model_ids      mse\n",
              "989 DeepLearning_model_1670737080983_2020 17.31387\n",
              "990 DeepLearning_model_1670737080983_2469 17.35258\n",
              "991 DeepLearning_model_1670737080983_2938 17.73981\n",
              "992 DeepLearning_model_1670737080983_2477 17.75205\n",
              "993 DeepLearning_model_1670737080983_2750 17.75205\n",
              "994 DeepLearning_model_1670737080983_2856 19.14942\n",
              "Failed models\n",
              "-------------\n",
              "           activation epochs hidden  rate rate_annealing rate_decay\n",
              "    MaxoutWithDropout   50.0   [50] 0.001         5.0E-4       0.98\n",
              " RectifierWithDropout   50.0  [500] 0.005         1.0E-4      0.985\n",
              "    MaxoutWithDropout  150.0  [500] 0.007         7.0E-4       0.98\n",
              " status_failed\n",
              "          FAIL\n",
              "          FAIL\n",
              "          FAIL\n",
              "                                                                                                                                                                                                   msgs_failed\n",
              " \"DistributedException from localhost/127.0.0.1:54321: ' wrong priority for task Roll, expected 120, but got 92', caused by java.lang.AssertionError:  wrong priority for task Roll, expected 120, but got 92\"\n",
              "                                                                                  \"DistributedException from localhost/127.0.0.1:54321: ' wrong priority for task DeepLearningTask, expected 120, but got 78'\"\n",
              " \"DistributedException from localhost/127.0.0.1:54321: ' wrong priority for task Roll, expected 120, but got 96', caused by java.lang.AssertionError:  wrong priority for task Roll, expected 120, but got 96\""
            ]
          },
          "metadata": {}
        }
      ]
    },
    {
      "cell_type": "code",
      "source": [
        "rn_gridperf_est13<-h2o.getGrid(grid_id = \"rn_est13\",\n",
        "                              sort_by = \"MSE\",\n",
        "                              decreasing = FALSE)\n",
        "rn_gridperf_est13"
      ],
      "metadata": {
        "id": "CqlgX2urlaqq",
        "colab": {
          "base_uri": "https://localhost:8080/",
          "height": 1000
        },
        "outputId": "c2091b68-42a3-4e17-a890-bd8bc2721124"
      },
      "execution_count": null,
      "outputs": [
        {
          "output_type": "stream",
          "name": "stderr",
          "text": [
            "Warning message in h2o.getGrid(grid_id = \"rn_est13\", sort_by = \"MSE\", decreasing = FALSE):\n",
            "“Some models were not built due to a failure, for more details run `summary(grid_object, show_stack_traces = TRUE)`”\n"
          ]
        },
        {
          "output_type": "display_data",
          "data": {
            "text/plain": [
              "H2O Grid Details\n",
              "================\n",
              "\n",
              "Grid ID: rn_est13 \n",
              "Used hyper parameters: \n",
              "  -  activation \n",
              "  -  epochs \n",
              "  -  hidden \n",
              "  -  rate \n",
              "  -  rate_annealing \n",
              "  -  rate_decay \n",
              "Number of models: 994 \n",
              "Number of failed models: 3 \n",
              "\n",
              "Hyper-Parameter Search Summary: ordered by increasing MSE\n",
              "            activation   epochs hidden    rate rate_annealing rate_decay\n",
              "1            Rectifier  5.00000    600 0.07000        0.00010    0.98300\n",
              "2    MaxoutWithDropout 10.00000   1000 0.05000        0.00050    0.98900\n",
              "3 RectifierWithDropout  5.00000    250 0.01000        0.00010    0.99000\n",
              "4    MaxoutWithDropout 50.00000    600 0.00100        0.00050    0.98900\n",
              "5 RectifierWithDropout  5.00000    650 0.00700        0.00050    0.98900\n",
              "                              model_ids     mse\n",
              "1 DeepLearning_model_1670737080983_3908 4.16927\n",
              "2 DeepLearning_model_1670737080983_3061 4.94538\n",
              "3 DeepLearning_model_1670737080983_3930 5.21043\n",
              "4 DeepLearning_model_1670737080983_3333 5.60340\n",
              "5 DeepLearning_model_1670737080983_3368 5.72310\n",
              "\n",
              "---\n",
              "    activation    epochs hidden    rate rate_annealing rate_decay\n",
              "989  Rectifier 200.00000     50 0.00100        0.00050    0.98500\n",
              "990  Rectifier  55.00000    150 0.10000        0.00001    0.98900\n",
              "991  Rectifier  60.00000     30 0.05000        0.00070    0.98900\n",
              "992  Rectifier 150.00000     40 0.05000        0.00070    0.98500\n",
              "993  Rectifier  15.00000     30 0.10000        0.00001    0.98900\n",
              "994  Rectifier  70.00000    100 0.70000        0.00050    0.98000\n",
              "                                model_ids      mse\n",
              "989 DeepLearning_model_1670737080983_3716 32.65492\n",
              "990 DeepLearning_model_1670737080983_3872 34.57454\n",
              "991 DeepLearning_model_1670737080983_3832 34.80413\n",
              "992 DeepLearning_model_1670737080983_3380 35.42994\n",
              "993 DeepLearning_model_1670737080983_3264 37.43722\n",
              "994 DeepLearning_model_1670737080983_3340 38.11893\n",
              "Failed models\n",
              "-------------\n",
              "      activation epochs hidden  rate rate_annealing rate_decay status_failed\n",
              "       Rectifier   70.0  [150] 0.007         1.0E-4      0.983          FAIL\n",
              "            Tanh  100.0  [650]   0.1         5.0E-6       0.99          FAIL\n",
              " TanhWithDropout   60.0   [50]  0.07         5.0E-6      0.985          FAIL\n",
              "                                                                                                                                                                                                   msgs_failed\n",
              "                                                                                                                                            \" wrong priority for task RebalanceTask, expected 120, but got 49\"\n",
              "                                                                                  \"DistributedException from localhost/127.0.0.1:54321: ' wrong priority for task DeepLearningTask, expected 120, but got 60'\"\n",
              " \"DistributedException from localhost/127.0.0.1:54321: ' wrong priority for task Roll, expected 120, but got 82', caused by java.lang.AssertionError:  wrong priority for task Roll, expected 120, but got 82\""
            ]
          },
          "metadata": {}
        }
      ]
    },
    {
      "cell_type": "code",
      "source": [
        "rn_gridperf_est19<-h2o.getGrid(grid_id = \"rn_est19\",\n",
        "                              sort_by = \"MSE\",\n",
        "                              decreasing = FALSE)\n",
        "rn_gridperf_est19"
      ],
      "metadata": {
        "id": "F-sH472aldO8",
        "colab": {
          "base_uri": "https://localhost:8080/",
          "height": 989
        },
        "outputId": "f0b22997-1056-4164-be39-261c8e044db2"
      },
      "execution_count": null,
      "outputs": [
        {
          "output_type": "stream",
          "name": "stderr",
          "text": [
            "Warning message in h2o.getGrid(grid_id = \"rn_est19\", sort_by = \"MSE\", decreasing = FALSE):\n",
            "“Some models were not built due to a failure, for more details run `summary(grid_object, show_stack_traces = TRUE)`”\n"
          ]
        },
        {
          "output_type": "display_data",
          "data": {
            "text/plain": [
              "H2O Grid Details\n",
              "================\n",
              "\n",
              "Grid ID: rn_est19 \n",
              "Used hyper parameters: \n",
              "  -  activation \n",
              "  -  epochs \n",
              "  -  hidden \n",
              "  -  rate \n",
              "  -  rate_annealing \n",
              "  -  rate_decay \n",
              "Number of models: 996 \n",
              "Number of failed models: 2 \n",
              "\n",
              "Hyper-Parameter Search Summary: ordered by increasing MSE\n",
              "  activation   epochs hidden    rate rate_annealing rate_decay\n",
              "1     Maxout 55.00000     30 0.00700        0.00001    0.98500\n",
              "2     Maxout 65.00000    150 0.70000        0.00050    0.99000\n",
              "3     Maxout 15.00000     70 0.10000        0.00001    0.98300\n",
              "4     Maxout 15.00000    150 0.00700        0.00001    0.98300\n",
              "5     Maxout 15.00000    150 0.01000        0.00000    0.98300\n",
              "                             model_ids     mse\n",
              "1 DeepLearning_model_1670741064947_382 6.32811\n",
              "2 DeepLearning_model_1670741064947_115 7.43833\n",
              "3 DeepLearning_model_1670741064947_111 7.45374\n",
              "4 DeepLearning_model_1670741064947_652 7.46231\n",
              "5 DeepLearning_model_1670741064947_467 7.64415\n",
              "\n",
              "---\n",
              "    activation    epochs hidden    rate rate_annealing rate_decay\n",
              "991  Rectifier  70.00000     30 0.07000        0.00050    0.98900\n",
              "992  Rectifier 200.00000     30 0.00100        0.00050    0.98300\n",
              "993  Rectifier 100.00000     40 0.70000        0.00050    0.98300\n",
              "994  Rectifier   5.00000     30 0.70000        0.00000    0.98300\n",
              "995  Rectifier 150.00000     30 0.50000        0.00050    0.99000\n",
              "996  Rectifier 200.00000     50 0.00100        0.00050    0.98500\n",
              "                               model_ids      mse\n",
              "991 DeepLearning_model_1670741064947_155 26.83032\n",
              "992 DeepLearning_model_1670741064947_849 27.87119\n",
              "993 DeepLearning_model_1670741064947_489 28.38281\n",
              "994 DeepLearning_model_1670741064947_480 28.60758\n",
              "995 DeepLearning_model_1670741064947_941 28.69113\n",
              "996 DeepLearning_model_1670741064947_724 30.95328\n",
              "Failed models\n",
              "-------------\n",
              " activation epochs hidden  rate rate_annealing rate_decay status_failed\n",
              "     Maxout   15.0   [50] 0.005         5.0E-4      0.983          FAIL\n",
              "     Maxout   15.0 [1000]  0.05         5.0E-6      0.983          FAIL\n",
              "                                                                                                                  msgs_failed\n",
              " \"DistributedException from localhost/127.0.0.1:54321: ' wrong priority for task DeepLearningTask, expected 120, but got 92'\"\n",
              "         \"DistributedException from localhost/127.0.0.1:54321: ' wrong priority for task BigScore, expected 120, but got 58'\""
            ]
          },
          "metadata": {}
        }
      ]
    },
    {
      "cell_type": "code",
      "source": [
        "rn_gridperf_est23<-h2o.getGrid(grid_id = \"rn_est23\",\n",
        "                              sort_by = \"MSE\",\n",
        "                              decreasing = FALSE)\n",
        "rn_gridperf_est23"
      ],
      "metadata": {
        "id": "3LrnemqqlfDD",
        "colab": {
          "base_uri": "https://localhost:8080/",
          "height": 1000
        },
        "outputId": "9c6262fe-65c7-401d-cc4e-3b5cddc6eb1a"
      },
      "execution_count": null,
      "outputs": [
        {
          "output_type": "stream",
          "name": "stderr",
          "text": [
            "Warning message in h2o.getGrid(grid_id = \"rn_est23\", sort_by = \"MSE\", decreasing = FALSE):\n",
            "“Some models were not built due to a failure, for more details run `summary(grid_object, show_stack_traces = TRUE)`”\n"
          ]
        },
        {
          "output_type": "display_data",
          "data": {
            "text/plain": [
              "H2O Grid Details\n",
              "================\n",
              "\n",
              "Grid ID: rn_est23 \n",
              "Used hyper parameters: \n",
              "  -  activation \n",
              "  -  epochs \n",
              "  -  hidden \n",
              "  -  rate \n",
              "  -  rate_annealing \n",
              "  -  rate_decay \n",
              "Number of models: 996 \n",
              "Number of failed models: 2 \n",
              "\n",
              "Hyper-Parameter Search Summary: ordered by increasing MSE\n",
              "  activation    epochs hidden    rate rate_annealing rate_decay\n",
              "1       Tanh 100.00000   1000 0.10000        0.00010    0.98000\n",
              "2       Tanh  70.00000    650 0.50000        0.00050    0.98500\n",
              "3       Tanh  60.00000   1000 0.50000        0.00001    0.99000\n",
              "4       Tanh  70.00000    550 0.07000        0.00010    0.98900\n",
              "5       Tanh  20.00000    550 0.70000        0.00000    0.98900\n",
              "                              model_ids     mse\n",
              "1 DeepLearning_model_1670741064947_1093 3.91015\n",
              "2 DeepLearning_model_1670741064947_1256 4.76153\n",
              "3 DeepLearning_model_1670741064947_1353 4.94897\n",
              "4 DeepLearning_model_1670741064947_1745 5.06849\n",
              "5 DeepLearning_model_1670741064947_1730 5.07468\n",
              "\n",
              "---\n",
              "    activation    epochs hidden    rate rate_annealing rate_decay\n",
              "991  Rectifier  60.00000     50 0.70000        0.00070    0.98300\n",
              "992  Rectifier 100.00000    650 0.10000        0.00070    0.98900\n",
              "993  Rectifier 100.00000     40 0.70000        0.00050    0.98300\n",
              "994  Rectifier 200.00000     30 0.70000        0.00070    0.98300\n",
              "995  Rectifier 200.00000     30 0.00100        0.00050    0.98300\n",
              "996  Rectifier 150.00000    150 0.70000        0.00010    0.99000\n",
              "                                model_ids      mse\n",
              "991 DeepLearning_model_1670741064947_1207 24.70484\n",
              "992 DeepLearning_model_1670741064947_1161 26.79246\n",
              "993 DeepLearning_model_1670741064947_1487 26.81754\n",
              "994 DeepLearning_model_1670741064947_1881 27.03477\n",
              "995 DeepLearning_model_1670741064947_1846 27.11415\n",
              "996 DeepLearning_model_1670741064947_1520 27.21498\n",
              "Failed models\n",
              "-------------\n",
              "           activation epochs hidden  rate rate_annealing rate_decay\n",
              "    MaxoutWithDropout  150.0   [70]  0.05         7.0E-4       0.99\n",
              " RectifierWithDropout    5.0  [150] 0.005         1.0E-6       0.99\n",
              " status_failed\n",
              "          FAIL\n",
              "          FAIL\n",
              "                                                                                                                                                                                                   msgs_failed\n",
              " \"DistributedException from localhost/127.0.0.1:54321: ' wrong priority for task Roll, expected 120, but got 60', caused by java.lang.AssertionError:  wrong priority for task Roll, expected 120, but got 60\"\n",
              " \"DistributedException from localhost/127.0.0.1:54321: ' wrong priority for task Roll, expected 121, but got 71', caused by java.lang.AssertionError:  wrong priority for task Roll, expected 121, but got 71\""
            ]
          },
          "metadata": {}
        }
      ]
    },
    {
      "cell_type": "code",
      "source": [
        "rn_gridperf_est25<-h2o.getGrid(grid_id = \"rn_est25\",\n",
        "                              sort_by = \"MSE\",\n",
        "                              decreasing = FALSE)\n",
        "rn_gridperf_est25"
      ],
      "metadata": {
        "id": "0qxhk4GtlieU",
        "colab": {
          "base_uri": "https://localhost:8080/",
          "height": 937
        },
        "outputId": "b30a735b-1555-4ec1-c1f2-79bdecf6ea0f"
      },
      "execution_count": null,
      "outputs": [
        {
          "output_type": "stream",
          "name": "stderr",
          "text": [
            "Warning message in h2o.getGrid(grid_id = \"rn_est25\", sort_by = \"MSE\", decreasing = FALSE):\n",
            "“Some models were not built due to a failure, for more details run `summary(grid_object, show_stack_traces = TRUE)`”\n"
          ]
        },
        {
          "output_type": "display_data",
          "data": {
            "text/plain": [
              "H2O Grid Details\n",
              "================\n",
              "\n",
              "Grid ID: rn_est25 \n",
              "Used hyper parameters: \n",
              "  -  activation \n",
              "  -  epochs \n",
              "  -  hidden \n",
              "  -  rate \n",
              "  -  rate_annealing \n",
              "  -  rate_decay \n",
              "Number of models: 998 \n",
              "Number of failed models: 1 \n",
              "\n",
              "Hyper-Parameter Search Summary: ordered by increasing MSE\n",
              "       activation   epochs hidden    rate rate_annealing rate_decay\n",
              "1 TanhWithDropout 10.00000    150 0.01000        0.00001    0.98300\n",
              "2            Tanh 20.00000     70 0.07000        0.00050    0.98900\n",
              "3 TanhWithDropout 50.00000     70 0.00100        0.00001    0.98000\n",
              "4 TanhWithDropout 20.00000     70 0.05000        0.00001    0.98500\n",
              "5            Tanh 20.00000     70 0.00500        0.00070    0.98500\n",
              "                              model_ids     mse\n",
              "1 DeepLearning_model_1670741064947_2313 3.41439\n",
              "2 DeepLearning_model_1670741064947_2736 3.45869\n",
              "3 DeepLearning_model_1670741064947_2431 3.48318\n",
              "4 DeepLearning_model_1670741064947_2716 3.48669\n",
              "5 DeepLearning_model_1670741064947_2252 3.53265\n",
              "\n",
              "---\n",
              "    activation   epochs hidden    rate rate_annealing rate_decay\n",
              "993  Rectifier 60.00000     40 0.00100        0.00001    0.98500\n",
              "994  Rectifier 50.00000     30 0.00500        0.00070    0.98500\n",
              "995  Rectifier 60.00000     30 0.00700        0.00050    0.98000\n",
              "996  Rectifier 65.00000     30 0.05000        0.00001    0.99000\n",
              "997  Rectifier 65.00000   1000 0.00100        0.00050    0.98300\n",
              "998     Maxout 55.00000     50 0.05000        0.00001    0.98000\n",
              "                                model_ids      mse\n",
              "993 DeepLearning_model_1670741064947_2258 16.72605\n",
              "994 DeepLearning_model_1670741064947_2053 16.78001\n",
              "995 DeepLearning_model_1670741064947_2856 17.30952\n",
              "996 DeepLearning_model_1670741064947_2188 17.45276\n",
              "997 DeepLearning_model_1670741064947_2686 21.75884\n",
              "998 DeepLearning_model_1670741064947_2158 22.65900\n",
              "Failed models\n",
              "-------------\n",
              "           activation epochs hidden  rate rate_annealing rate_decay\n",
              " RectifierWithDropout   50.0  [500] 0.005         1.0E-4      0.985\n",
              " status_failed\n",
              "          FAIL\n",
              "                                                                                                          msgs_failed\n",
              " \"DistributedException from localhost/127.0.0.1:54321: ' wrong priority for task BigScore, expected 120, but got 95'\""
            ]
          },
          "metadata": {}
        }
      ]
    },
    {
      "cell_type": "code",
      "source": [
        "rn_gridperf_est26<-h2o.getGrid(grid_id = \"rn_est26\",\n",
        "                              sort_by = \"MSE\",\n",
        "                              decreasing = FALSE)\n",
        "rn_gridperf_est26"
      ],
      "metadata": {
        "id": "HY5UDKkxlkR6",
        "colab": {
          "base_uri": "https://localhost:8080/",
          "height": 1000
        },
        "outputId": "da6f9312-ad53-4691-c4e7-041f55e7c3ff"
      },
      "execution_count": null,
      "outputs": [
        {
          "output_type": "stream",
          "name": "stderr",
          "text": [
            "Warning message in h2o.getGrid(grid_id = \"rn_est26\", sort_by = \"MSE\", decreasing = FALSE):\n",
            "“Some models were not built due to a failure, for more details run `summary(grid_object, show_stack_traces = TRUE)`”\n"
          ]
        },
        {
          "output_type": "display_data",
          "data": {
            "text/plain": [
              "H2O Grid Details\n",
              "================\n",
              "\n",
              "Grid ID: rn_est26 \n",
              "Used hyper parameters: \n",
              "  -  activation \n",
              "  -  epochs \n",
              "  -  hidden \n",
              "  -  rate \n",
              "  -  rate_annealing \n",
              "  -  rate_decay \n",
              "Number of models: 994 \n",
              "Number of failed models: 3 \n",
              "\n",
              "Hyper-Parameter Search Summary: ordered by increasing MSE\n",
              "            activation   epochs hidden    rate rate_annealing rate_decay\n",
              "1 RectifierWithDropout 10.00000    250 0.10000        0.00010    0.98900\n",
              "2               Maxout 20.00000    700 0.00500        0.00001    0.98000\n",
              "3               Maxout 20.00000    700 0.00700        0.00010    0.98500\n",
              "4 RectifierWithDropout 70.00000    550 0.00100        0.00050    0.98900\n",
              "5               Maxout 20.00000   1000 0.70000        0.00000    0.98300\n",
              "                              model_ids     mse\n",
              "1 DeepLearning_model_1670741064947_3023 1.74063\n",
              "2 DeepLearning_model_1670741064947_3820 1.76392\n",
              "3 DeepLearning_model_1670741064947_3070 1.76637\n",
              "4 DeepLearning_model_1670741064947_3033 1.80451\n",
              "5 DeepLearning_model_1670741064947_3840 1.80544\n",
              "\n",
              "---\n",
              "    activation   epochs hidden    rate rate_annealing rate_decay\n",
              "989       Tanh 20.00000     30 0.00500        0.00050    0.99000\n",
              "990       Tanh 55.00000     50 0.00700        0.00001    0.98300\n",
              "991  Rectifier 60.00000     30 0.00100        0.00070    0.98300\n",
              "992       Tanh 10.00000     30 0.00500        0.00001    0.98900\n",
              "993       Tanh 10.00000     30 0.00500        0.00070    0.98000\n",
              "994       Tanh 60.00000     30 0.00100        0.00010    0.98900\n",
              "                                model_ids      mse\n",
              "989 DeepLearning_model_1670741064947_3109 10.46823\n",
              "990 DeepLearning_model_1670741064947_3142 10.69843\n",
              "991 DeepLearning_model_1670741064947_3363 11.03658\n",
              "992 DeepLearning_model_1670741064947_3018 12.00618\n",
              "993 DeepLearning_model_1670741064947_3467 12.00618\n",
              "994 DeepLearning_model_1670741064947_3140 12.57487\n",
              "Failed models\n",
              "-------------\n",
              "           activation epochs hidden rate rate_annealing rate_decay\n",
              "                 Tanh   50.0   [70] 0.01         5.0E-4      0.983\n",
              "      TanhWithDropout   20.0   [40]  0.1         5.0E-6      0.989\n",
              " RectifierWithDropout   70.0  [150] 0.05         1.0E-6       0.99\n",
              " status_failed\n",
              "          FAIL\n",
              "          FAIL\n",
              "          FAIL\n",
              "                                                                                                                                                                                                   msgs_failed\n",
              " \"DistributedException from localhost/127.0.0.1:54321: ' wrong priority for task Roll, expected 120, but got 68', caused by java.lang.AssertionError:  wrong priority for task Roll, expected 120, but got 68\"\n",
              " \"DistributedException from localhost/127.0.0.1:54321: ' wrong priority for task Roll, expected 120, but got 69', caused by java.lang.AssertionError:  wrong priority for task Roll, expected 120, but got 69\"\n",
              " \"DistributedException from localhost/127.0.0.1:54321: ' wrong priority for task Roll, expected 120, but got 90', caused by java.lang.AssertionError:  wrong priority for task Roll, expected 120, but got 90\""
            ]
          },
          "metadata": {}
        }
      ]
    },
    {
      "cell_type": "code",
      "source": [
        "rn_gridperf_est27<-h2o.getGrid(grid_id = \"rn_est27\",\n",
        "                              sort_by = \"MSE\",\n",
        "                              decreasing = FALSE)\n",
        "rn_gridperf_est27"
      ],
      "metadata": {
        "id": "iwPXEBcdll5S",
        "colab": {
          "base_uri": "https://localhost:8080/",
          "height": 989
        },
        "outputId": "8c7d8621-fe07-42a0-f7e1-e398377cebb2"
      },
      "execution_count": null,
      "outputs": [
        {
          "output_type": "stream",
          "name": "stderr",
          "text": [
            "Warning message in h2o.getGrid(grid_id = \"rn_est27\", sort_by = \"MSE\", decreasing = FALSE):\n",
            "“Some models were not built due to a failure, for more details run `summary(grid_object, show_stack_traces = TRUE)`”\n"
          ]
        },
        {
          "output_type": "display_data",
          "data": {
            "text/plain": [
              "H2O Grid Details\n",
              "================\n",
              "\n",
              "Grid ID: rn_est27 \n",
              "Used hyper parameters: \n",
              "  -  activation \n",
              "  -  epochs \n",
              "  -  hidden \n",
              "  -  rate \n",
              "  -  rate_annealing \n",
              "  -  rate_decay \n",
              "Number of models: 996 \n",
              "Number of failed models: 2 \n",
              "\n",
              "Hyper-Parameter Search Summary: ordered by increasing MSE\n",
              "            activation  epochs hidden    rate rate_annealing rate_decay\n",
              "1 RectifierWithDropout 5.00000    250 0.00100        0.00000    0.98000\n",
              "2                 Tanh 5.00000   1000 0.01000        0.00000    0.98900\n",
              "3               Maxout 5.00000     70 0.05000        0.00001    0.99000\n",
              "4            Rectifier 5.00000    500 0.07000        0.00001    0.98000\n",
              "5    MaxoutWithDropout 5.00000    700 0.07000        0.00001    0.98900\n",
              "                              model_ids     mse\n",
              "1 DeepLearning_model_1670741064947_4401 4.92265\n",
              "2 DeepLearning_model_1670741064947_4765 6.03411\n",
              "3 DeepLearning_model_1670741064947_4581 6.51657\n",
              "4 DeepLearning_model_1670741064947_4291 7.67784\n",
              "5 DeepLearning_model_1670741064947_4185 8.27203\n",
              "\n",
              "---\n",
              "    activation   epochs hidden    rate rate_annealing rate_decay\n",
              "991  Rectifier 65.00000     40 0.10000        0.00050    0.98900\n",
              "992  Rectifier 70.00000     30 0.07000        0.00050    0.98900\n",
              "993  Rectifier 50.00000     40 0.01000        0.00001    0.98500\n",
              "994  Rectifier 20.00000   1000 0.00700        0.00000    0.99000\n",
              "995  Rectifier 60.00000     40 0.00100        0.00001    0.98500\n",
              "996     Maxout 10.00000   1000 0.00500        0.00010    0.98300\n",
              "                                model_ids       mse\n",
              "991 DeepLearning_model_1670741064947_4003 168.41592\n",
              "992 DeepLearning_model_1670741064947_4147 169.90303\n",
              "993 DeepLearning_model_1670741064947_4766 180.84417\n",
              "994 DeepLearning_model_1670741064947_4588 186.94311\n",
              "995 DeepLearning_model_1670741064947_4254 189.54401\n",
              "996 DeepLearning_model_1670741064947_4060 212.64629\n",
              "Failed models\n",
              "-------------\n",
              "      activation epochs hidden  rate rate_annealing rate_decay status_failed\n",
              " TanhWithDropout   60.0   [40]  0.01         5.0E-6      0.989          FAIL\n",
              " TanhWithDropout   15.0  [600] 0.005         7.0E-4       0.98          FAIL\n",
              "                                                                                                                                                                                                   msgs_failed\n",
              "                                                                                  \"DistributedException from localhost/127.0.0.1:54321: ' wrong priority for task DeepLearningTask, expected 120, but got 87'\"\n",
              " \"DistributedException from localhost/127.0.0.1:54321: ' wrong priority for task Roll, expected 120, but got 61', caused by java.lang.AssertionError:  wrong priority for task Roll, expected 120, but got 61\""
            ]
          },
          "metadata": {}
        }
      ]
    },
    {
      "cell_type": "code",
      "source": [
        "rn_gridperf_est28<-h2o.getGrid(grid_id = \"rn_est28\",\n",
        "                              sort_by = \"MSE\",\n",
        "                              decreasing = FALSE)\n",
        "rn_gridperf_est28"
      ],
      "metadata": {
        "id": "zSutmkvKlnxl",
        "colab": {
          "base_uri": "https://localhost:8080/",
          "height": 1000
        },
        "outputId": "9add9af7-f0b7-4947-b266-8eb51691aabf"
      },
      "execution_count": null,
      "outputs": [
        {
          "output_type": "stream",
          "name": "stderr",
          "text": [
            "Warning message in h2o.getGrid(grid_id = \"rn_est28\", sort_by = \"MSE\", decreasing = FALSE):\n",
            "“Some models were not built due to a failure, for more details run `summary(grid_object, show_stack_traces = TRUE)`”\n"
          ]
        },
        {
          "output_type": "display_data",
          "data": {
            "text/plain": [
              "H2O Grid Details\n",
              "================\n",
              "\n",
              "Grid ID: rn_est28 \n",
              "Used hyper parameters: \n",
              "  -  activation \n",
              "  -  epochs \n",
              "  -  hidden \n",
              "  -  rate \n",
              "  -  rate_annealing \n",
              "  -  rate_decay \n",
              "Number of models: 994 \n",
              "Number of failed models: 3 \n",
              "\n",
              "Hyper-Parameter Search Summary: ordered by increasing MSE\n",
              "            activation    epochs hidden    rate rate_annealing rate_decay\n",
              "1               Maxout  55.00000    150 0.05000        0.00070    0.98300\n",
              "2                 Tanh  70.00000    650 0.00100        0.00001    0.99000\n",
              "3 RectifierWithDropout 100.00000    250 0.01000        0.00000    0.98000\n",
              "4               Maxout  55.00000     60 0.05000        0.00000    0.98900\n",
              "5 RectifierWithDropout  55.00000    700 0.50000        0.00001    0.98300\n",
              "                              model_ids     mse\n",
              "1 DeepLearning_model_1670741064947_5578 7.19588\n",
              "2 DeepLearning_model_1670741064947_5802 7.37245\n",
              "3 DeepLearning_model_1670741064947_5604 7.45073\n",
              "4 DeepLearning_model_1670741064947_5043 7.59255\n",
              "5 DeepLearning_model_1670741064947_5341 7.61114\n",
              "\n",
              "---\n",
              "    activation   epochs hidden    rate rate_annealing rate_decay\n",
              "989       Tanh 70.00000     30 0.10000        0.00010    0.98900\n",
              "990       Tanh 60.00000     30 0.00100        0.00010    0.98900\n",
              "991       Tanh  5.00000   1000 0.01000        0.00000    0.98900\n",
              "992  Rectifier 60.00000     30 0.00700        0.00050    0.98000\n",
              "993  Rectifier 50.00000     30 0.00500        0.00070    0.98500\n",
              "994  Rectifier 65.00000     30 0.05000        0.00001    0.99000\n",
              "                                model_ids      mse\n",
              "989 DeepLearning_model_1670741064947_5184 35.78077\n",
              "990 DeepLearning_model_1670741064947_5135 37.65502\n",
              "991 DeepLearning_model_1670741064947_5762 37.82346\n",
              "992 DeepLearning_model_1670741064947_5849 44.47418\n",
              "993 DeepLearning_model_1670741064947_5047 50.12529\n",
              "994 DeepLearning_model_1670741064947_5182 61.80759\n",
              "Failed models\n",
              "-------------\n",
              "           activation epochs hidden rate rate_annealing rate_decay\n",
              "            Rectifier   50.0  [150] 0.01         1.0E-4      0.983\n",
              " RectifierWithDropout    5.0  [250] 0.01         1.0E-4       0.99\n",
              "               Maxout    5.0   [40] 0.01         7.0E-4       0.99\n",
              " status_failed\n",
              "          FAIL\n",
              "          FAIL\n",
              "          FAIL\n",
              "                                                                                                                                                                                                     msgs_failed\n",
              "   \"DistributedException from localhost/127.0.0.1:54321: ' wrong priority for task Roll, expected 121, but got 85', caused by java.lang.AssertionError:  wrong priority for task Roll, expected 121, but got 85\"\n",
              "   \"DistributedException from localhost/127.0.0.1:54321: ' wrong priority for task Roll, expected 121, but got 81', caused by java.lang.AssertionError:  wrong priority for task Roll, expected 121, but got 81\"\n",
              " \"DistributedException from localhost/127.0.0.1:54321: ' wrong priority for task Roll, expected 120, but got 115', caused by java.lang.AssertionError:  wrong priority for task Roll, expected 120, but got 115\""
            ]
          },
          "metadata": {}
        }
      ]
    },
    {
      "cell_type": "code",
      "source": [
        "rn_gridperf_est32<-h2o.getGrid(grid_id = \"rn_est32\",\n",
        "                              sort_by = \"MSE\",\n",
        "                              decreasing = FALSE)\n",
        "rn_gridperf_est32"
      ],
      "metadata": {
        "id": "XF15hr3p1EOg",
        "colab": {
          "base_uri": "https://localhost:8080/",
          "height": 1000
        },
        "outputId": "190db439-6139-4fe9-fbe3-e0907e86dd1b"
      },
      "execution_count": null,
      "outputs": [
        {
          "output_type": "stream",
          "name": "stderr",
          "text": [
            "Warning message in h2o.getGrid(grid_id = \"rn_est32\", sort_by = \"MSE\", decreasing = FALSE):\n",
            "“Some models were not built due to a failure, for more details run `summary(grid_object, show_stack_traces = TRUE)`”\n"
          ]
        },
        {
          "output_type": "display_data",
          "data": {
            "text/plain": [
              "H2O Grid Details\n",
              "================\n",
              "\n",
              "Grid ID: rn_est32 \n",
              "Used hyper parameters: \n",
              "  -  activation \n",
              "  -  epochs \n",
              "  -  hidden \n",
              "  -  rate \n",
              "  -  rate_annealing \n",
              "  -  rate_decay \n",
              "Number of models: 994 \n",
              "Number of failed models: 3 \n",
              "\n",
              "Hyper-Parameter Search Summary: ordered by increasing MSE\n",
              "         activation   epochs hidden    rate rate_annealing rate_decay\n",
              "1              Tanh 60.00000    650 0.50000        0.00000    0.98900\n",
              "2              Tanh  5.00000     70 0.00100        0.00001    0.98300\n",
              "3            Maxout  5.00000    100 0.00500        0.00001    0.99000\n",
              "4         Rectifier  5.00000     70 0.10000        0.00070    0.99000\n",
              "5 MaxoutWithDropout 20.00000     30 0.10000        0.00001    0.98500\n",
              "                              model_ids     mse\n",
              "1 DeepLearning_model_1670741064947_6512 1.42871\n",
              "2 DeepLearning_model_1670741064947_6610 1.43256\n",
              "3 DeepLearning_model_1670741064947_6320 1.60791\n",
              "4 DeepLearning_model_1670741064947_6292 1.63557\n",
              "5 DeepLearning_model_1670741064947_6898 1.76650\n",
              "\n",
              "---\n",
              "    activation    epochs hidden    rate rate_annealing rate_decay\n",
              "989     Maxout  20.00000     50 0.70000        0.00001    0.98500\n",
              "990     Maxout  20.00000     50 0.05000        0.00070    0.98900\n",
              "991       Tanh  10.00000    700 0.05000        0.00050    0.98300\n",
              "992     Maxout  70.00000     50 0.50000        0.00070    0.98900\n",
              "993     Maxout  60.00000     40 0.10000        0.00000    0.99000\n",
              "994  Rectifier 100.00000    650 0.10000        0.00070    0.98900\n",
              "                                model_ids      mse\n",
              "989 DeepLearning_model_1670741064947_6861 20.84105\n",
              "990 DeepLearning_model_1670741064947_6140 23.63777\n",
              "991 DeepLearning_model_1670741064947_6633 25.02890\n",
              "992 DeepLearning_model_1670741064947_6014 26.33729\n",
              "993 DeepLearning_model_1670741064947_6063 29.20372\n",
              "994 DeepLearning_model_1670741064947_6150 31.58959\n",
              "Failed models\n",
              "-------------\n",
              "        activation epochs hidden  rate rate_annealing rate_decay status_failed\n",
              "            Maxout   15.0 [1000]  0.05         5.0E-6      0.983          FAIL\n",
              "         Rectifier   55.0   [70] 0.007         1.0E-6      0.983          FAIL\n",
              " MaxoutWithDropout  150.0   [60]   0.5         1.0E-6       0.98          FAIL\n",
              "                                                                                                                                                                                                   msgs_failed\n",
              " \"DistributedException from localhost/127.0.0.1:54321: ' wrong priority for task Roll, expected 120, but got 94', caused by java.lang.AssertionError:  wrong priority for task Roll, expected 120, but got 94\"\n",
              "                                                                                  \"DistributedException from localhost/127.0.0.1:54321: ' wrong priority for task DeepLearningTask, expected 120, but got 72'\"\n",
              "                                                                                  \"DistributedException from localhost/127.0.0.1:54321: ' wrong priority for task DeepLearningTask, expected 120, but got 76'\""
            ]
          },
          "metadata": {}
        }
      ]
    },
    {
      "cell_type": "code",
      "source": [
        "rn_gridperf_est33<-h2o.getGrid(grid_id = \"rn_est33\",\n",
        "                              sort_by = \"MSE\",\n",
        "                              decreasing = FALSE)\n",
        "rn_gridperf_est33"
      ],
      "metadata": {
        "id": "leiEZNO_1Eex",
        "colab": {
          "base_uri": "https://localhost:8080/",
          "height": 1000
        },
        "outputId": "73e4652e-4461-4a1a-969d-4c2c1679c8c9"
      },
      "execution_count": null,
      "outputs": [
        {
          "output_type": "stream",
          "name": "stderr",
          "text": [
            "Warning message in h2o.getGrid(grid_id = \"rn_est33\", sort_by = \"MSE\", decreasing = FALSE):\n",
            "“Some models were not built due to a failure, for more details run `summary(grid_object, show_stack_traces = TRUE)`”\n"
          ]
        },
        {
          "output_type": "display_data",
          "data": {
            "text/plain": [
              "H2O Grid Details\n",
              "================\n",
              "\n",
              "Grid ID: rn_est33 \n",
              "Used hyper parameters: \n",
              "  -  activation \n",
              "  -  epochs \n",
              "  -  hidden \n",
              "  -  rate \n",
              "  -  rate_annealing \n",
              "  -  rate_decay \n",
              "Number of models: 992 \n",
              "Number of failed models: 4 \n",
              "\n",
              "Hyper-Parameter Search Summary: ordered by increasing MSE\n",
              "            activation    epochs hidden    rate rate_annealing rate_decay\n",
              "1 RectifierWithDropout 150.00000    150 0.00100        0.00070    0.99000\n",
              "2    MaxoutWithDropout  70.00000    250 0.50000        0.00010    0.98900\n",
              "3                 Tanh  15.00000    150 0.10000        0.00001    0.98900\n",
              "4 RectifierWithDropout  15.00000    650 0.00100        0.00050    0.99000\n",
              "5 RectifierWithDropout  50.00000    200 0.10000        0.00050    0.99000\n",
              "                              model_ids     mse\n",
              "1 DeepLearning_model_1670741064947_7228 3.40947\n",
              "2 DeepLearning_model_1670741064947_7789 3.44703\n",
              "3 DeepLearning_model_1670741064947_7026 3.45018\n",
              "4 DeepLearning_model_1670741064947_7121 3.46479\n",
              "5 DeepLearning_model_1670741064947_7470 3.46841\n",
              "\n",
              "---\n",
              "    activation    epochs hidden    rate rate_annealing rate_decay\n",
              "987       Tanh 100.00000     50 0.00700        0.00001    0.99000\n",
              "988  Rectifier  70.00000    100 0.70000        0.00050    0.98000\n",
              "989       Tanh  20.00000     30 0.00500        0.00050    0.99000\n",
              "990       Tanh  10.00000     30 0.00500        0.00001    0.98900\n",
              "991  Rectifier  65.00000    550 0.00100        0.00070    0.98500\n",
              "992  Rectifier  15.00000     30 0.10000        0.00001    0.98900\n",
              "                                model_ids      mse\n",
              "987 DeepLearning_model_1670741064947_7859 12.66941\n",
              "988 DeepLearning_model_1670741064947_7330 13.03421\n",
              "989 DeepLearning_model_1670741064947_7098 13.48616\n",
              "990 DeepLearning_model_1670741064947_7007 13.69187\n",
              "991 DeepLearning_model_1670741064947_7694 14.69477\n",
              "992 DeepLearning_model_1670741064947_7254 15.85388\n",
              "Failed models\n",
              "-------------\n",
              "      activation epochs hidden rate rate_annealing rate_decay status_failed\n",
              " TanhWithDropout   55.0   [60] 0.05         7.0E-4      0.985          FAIL\n",
              "            Tanh   50.0   [60] 0.07         7.0E-6       0.99          FAIL\n",
              "            Tanh   70.0  [200] 0.05         5.0E-6       0.98          FAIL\n",
              "            Tanh   50.0  [550] 0.07         1.0E-4      0.985          FAIL\n",
              "                                                                                                                                                                                                     msgs_failed\n",
              "   \"DistributedException from localhost/127.0.0.1:54321: ' wrong priority for task Roll, expected 120, but got 78', caused by java.lang.AssertionError:  wrong priority for task Roll, expected 120, but got 78\"\n",
              " \"DistributedException from localhost/127.0.0.1:54321: ' wrong priority for task Roll, expected 121, but got 116', caused by java.lang.AssertionError:  wrong priority for task Roll, expected 121, but got 116\"\n",
              "   \"DistributedException from localhost/127.0.0.1:54321: ' wrong priority for task Roll, expected 120, but got 74', caused by java.lang.AssertionError:  wrong priority for task Roll, expected 120, but got 74\"\n",
              "   \"DistributedException from localhost/127.0.0.1:54321: ' wrong priority for task Roll, expected 121, but got 78', caused by java.lang.AssertionError:  wrong priority for task Roll, expected 121, but got 78\""
            ]
          },
          "metadata": {}
        }
      ]
    },
    {
      "cell_type": "code",
      "source": [
        "rn_gridperf_est36<-h2o.getGrid(grid_id = \"rn_est36\",\n",
        "                              sort_by = \"MSE\",\n",
        "                              decreasing = FALSE)\n",
        "rn_gridperf_est36"
      ],
      "metadata": {
        "id": "aH-znX0T1Erg",
        "colab": {
          "base_uri": "https://localhost:8080/",
          "height": 989
        },
        "outputId": "cff9f28b-a4d6-430e-c67e-6e940ce3e25a"
      },
      "execution_count": null,
      "outputs": [
        {
          "output_type": "stream",
          "name": "stderr",
          "text": [
            "Warning message in h2o.getGrid(grid_id = \"rn_est36\", sort_by = \"MSE\", decreasing = FALSE):\n",
            "“Some models were not built due to a failure, for more details run `summary(grid_object, show_stack_traces = TRUE)`”\n"
          ]
        },
        {
          "output_type": "display_data",
          "data": {
            "text/plain": [
              "H2O Grid Details\n",
              "================\n",
              "\n",
              "Grid ID: rn_est36 \n",
              "Used hyper parameters: \n",
              "  -  activation \n",
              "  -  epochs \n",
              "  -  hidden \n",
              "  -  rate \n",
              "  -  rate_annealing \n",
              "  -  rate_decay \n",
              "Number of models: 996 \n",
              "Number of failed models: 2 \n",
              "\n",
              "Hyper-Parameter Search Summary: ordered by increasing MSE\n",
              "            activation   epochs hidden    rate rate_annealing rate_decay\n",
              "1 RectifierWithDropout  5.00000    650 0.01000        0.00010    0.98300\n",
              "2      TanhWithDropout 15.00000    500 0.07000        0.00001    0.98300\n",
              "3            Rectifier 15.00000    250 0.00100        0.00001    0.98300\n",
              "4      TanhWithDropout  5.00000    700 0.05000        0.00070    0.98500\n",
              "5 RectifierWithDropout  5.00000    700 0.70000        0.00070    0.99000\n",
              "                              model_ids     mse\n",
              "1 DeepLearning_model_1670741064947_8728 2.17790\n",
              "2 DeepLearning_model_1670741064947_8382 2.37215\n",
              "3 DeepLearning_model_1670741064947_8254 2.42071\n",
              "4 DeepLearning_model_1670741064947_8561 2.50059\n",
              "5 DeepLearning_model_1670741064947_8235 2.58093\n",
              "\n",
              "---\n",
              "    activation    epochs hidden    rate rate_annealing rate_decay\n",
              "991  Rectifier  50.00000    700 0.00500        0.00070    0.98000\n",
              "992     Maxout  55.00000    500 0.70000        0.00050    0.99000\n",
              "993  Rectifier  70.00000    700 0.10000        0.00010    0.98500\n",
              "994     Maxout 100.00000    650 0.01000        0.00000    0.98300\n",
              "995  Rectifier  55.00000     50 0.10000        0.00000    0.98900\n",
              "996     Maxout  15.00000    600 0.50000        0.00050    0.98500\n",
              "                                model_ids      mse\n",
              "991 DeepLearning_model_1670741064947_8507 40.84451\n",
              "992 DeepLearning_model_1670741064947_8532 44.89708\n",
              "993 DeepLearning_model_1670741064947_8739 45.84880\n",
              "994 DeepLearning_model_1670741064947_7988 47.41066\n",
              "995 DeepLearning_model_1670741064947_8149 48.91427\n",
              "996 DeepLearning_model_1670741064947_8705 60.37211\n",
              "Failed models\n",
              "-------------\n",
              " activation epochs hidden rate rate_annealing rate_decay status_failed\n",
              "       Tanh   20.0   [70] 0.01         1.0E-4       0.98          FAIL\n",
              "  Rectifier  150.0   [70]  0.5         5.0E-4       0.99          FAIL\n",
              "                                                                                                                                                                                                     msgs_failed\n",
              "   \"DistributedException from localhost/127.0.0.1:54321: ' wrong priority for task Roll, expected 121, but got 81', caused by java.lang.AssertionError:  wrong priority for task Roll, expected 121, but got 81\"\n",
              " \"DistributedException from localhost/127.0.0.1:54321: ' wrong priority for task Roll, expected 120, but got 100', caused by java.lang.AssertionError:  wrong priority for task Roll, expected 120, but got 100\""
            ]
          },
          "metadata": {}
        }
      ]
    },
    {
      "cell_type": "code",
      "source": [
        "rn_gridperf_est46<-h2o.getGrid(grid_id = \"rn_est46\",\n",
        "                              sort_by = \"MSE\",\n",
        "                              decreasing = FALSE)\n",
        "rn_gridperf_est46"
      ],
      "metadata": {
        "id": "7TV93S5i1E74",
        "colab": {
          "base_uri": "https://localhost:8080/",
          "height": 1000
        },
        "outputId": "3608b52c-921a-4f91-e4b0-75f9380341cc"
      },
      "execution_count": null,
      "outputs": [
        {
          "output_type": "stream",
          "name": "stderr",
          "text": [
            "Warning message in h2o.getGrid(grid_id = \"rn_est46\", sort_by = \"MSE\", decreasing = FALSE):\n",
            "“Some models were not built due to a failure, for more details run `summary(grid_object, show_stack_traces = TRUE)`”\n"
          ]
        },
        {
          "output_type": "display_data",
          "data": {
            "text/plain": [
              "H2O Grid Details\n",
              "================\n",
              "\n",
              "Grid ID: rn_est46 \n",
              "Used hyper parameters: \n",
              "  -  activation \n",
              "  -  epochs \n",
              "  -  hidden \n",
              "  -  rate \n",
              "  -  rate_annealing \n",
              "  -  rate_decay \n",
              "Number of models: 994 \n",
              "Number of failed models: 3 \n",
              "\n",
              "Hyper-Parameter Search Summary: ordered by increasing MSE\n",
              "            activation   epochs hidden    rate rate_annealing rate_decay\n",
              "1            Rectifier  5.00000     60 0.01000        0.00000    0.98900\n",
              "2            Rectifier  5.00000     60 0.00100        0.00001    0.98900\n",
              "3            Rectifier  5.00000     60 0.00100        0.00010    0.98500\n",
              "4 RectifierWithDropout 15.00000     50 0.07000        0.00001    0.99000\n",
              "5 RectifierWithDropout 15.00000     60 0.70000        0.00001    0.98500\n",
              "                              model_ids     mse\n",
              "1 DeepLearning_model_1670741064947_9740 3.31968\n",
              "2 DeepLearning_model_1670741064947_9459 3.32903\n",
              "3 DeepLearning_model_1670741064947_9109 3.33528\n",
              "4 DeepLearning_model_1670741064947_9165 3.50390\n",
              "5 DeepLearning_model_1670741064947_9414 3.52049\n",
              "\n",
              "---\n",
              "    activation   epochs hidden    rate rate_annealing rate_decay\n",
              "989  Rectifier 65.00000    650 0.07000        0.00010    0.98000\n",
              "990  Rectifier 65.00000    550 0.00100        0.00070    0.98500\n",
              "991  Rectifier 65.00000   1000 0.00100        0.00050    0.98300\n",
              "992  Rectifier 15.00000   1000 0.07000        0.00000    0.98900\n",
              "993  Rectifier 55.00000    650 0.50000        0.00050    0.98500\n",
              "994  Rectifier 55.00000   1000 0.05000        0.00001    0.98300\n",
              "                                model_ids      mse\n",
              "989 DeepLearning_model_1670741064947_9606 17.82601\n",
              "990 DeepLearning_model_1670741064947_9689 19.61611\n",
              "991 DeepLearning_model_1670741064947_9668 23.07365\n",
              "992 DeepLearning_model_1670741064947_9781 27.33300\n",
              "993 DeepLearning_model_1670741064947_9439 34.99549\n",
              "994 DeepLearning_model_1670741064947_9373 39.80668\n",
              "Failed models\n",
              "-------------\n",
              "           activation epochs hidden  rate rate_annealing rate_decay\n",
              "            Rectifier  200.0   [50]  0.07         5.0E-4       0.98\n",
              "    MaxoutWithDropout   65.0   [60]   0.1         5.0E-4      0.983\n",
              " RectifierWithDropout   20.0  [500] 0.007         7.0E-6       0.98\n",
              " status_failed\n",
              "          FAIL\n",
              "          FAIL\n",
              "          FAIL\n",
              "                                                                                                                                                                                                   msgs_failed\n",
              " \"DistributedException from localhost/127.0.0.1:54321: ' wrong priority for task Roll, expected 120, but got 97', caused by java.lang.AssertionError:  wrong priority for task Roll, expected 120, but got 97\"\n",
              " \"DistributedException from localhost/127.0.0.1:54321: ' wrong priority for task Roll, expected 120, but got 86', caused by java.lang.AssertionError:  wrong priority for task Roll, expected 120, but got 86\"\n",
              "                                                                                  \"DistributedException from localhost/127.0.0.1:54321: ' wrong priority for task DeepLearningTask, expected 120, but got 91'\""
            ]
          },
          "metadata": {}
        }
      ]
    },
    {
      "cell_type": "code",
      "source": [
        "rn_gridperf_est47<-h2o.getGrid(grid_id = \"rn_est47\",\n",
        "                              sort_by = \"MSE\",\n",
        "                              decreasing = FALSE)\n",
        "rn_gridperf_est47"
      ],
      "metadata": {
        "id": "yiKVw_081FOq",
        "colab": {
          "base_uri": "https://localhost:8080/",
          "height": 937
        },
        "outputId": "d265d3b7-547d-4c8d-a63d-8aeacf757b4f"
      },
      "execution_count": null,
      "outputs": [
        {
          "output_type": "stream",
          "name": "stderr",
          "text": [
            "Warning message in h2o.getGrid(grid_id = \"rn_est47\", sort_by = \"MSE\", decreasing = FALSE):\n",
            "“Some models were not built due to a failure, for more details run `summary(grid_object, show_stack_traces = TRUE)`”\n"
          ]
        },
        {
          "output_type": "display_data",
          "data": {
            "text/plain": [
              "H2O Grid Details\n",
              "================\n",
              "\n",
              "Grid ID: rn_est47 \n",
              "Used hyper parameters: \n",
              "  -  activation \n",
              "  -  epochs \n",
              "  -  hidden \n",
              "  -  rate \n",
              "  -  rate_annealing \n",
              "  -  rate_decay \n",
              "Number of models: 998 \n",
              "Number of failed models: 1 \n",
              "\n",
              "Hyper-Parameter Search Summary: ordered by increasing MSE\n",
              "         activation   epochs hidden    rate rate_annealing rate_decay\n",
              "1            Maxout  5.00000    250 0.00100        0.00000    0.98000\n",
              "2              Tanh  5.00000     70 0.00100        0.00001    0.98300\n",
              "3            Maxout 15.00000    250 0.00700        0.00010    0.98900\n",
              "4 MaxoutWithDropout  5.00000     70 0.00500        0.00070    0.99000\n",
              "5 MaxoutWithDropout  5.00000    200 0.00700        0.00001    0.98900\n",
              "                               model_ids     mse\n",
              "1 DeepLearning_model_1670741064947_10347 2.81855\n",
              "2 DeepLearning_model_1670741064947_10598 3.01439\n",
              "3 DeepLearning_model_1670741064947_10125 3.19640\n",
              "4 DeepLearning_model_1670741064947_10477 3.31048\n",
              "5 DeepLearning_model_1670741064947_10272 3.31825\n",
              "\n",
              "---\n",
              "    activation    epochs hidden    rate rate_annealing rate_decay\n",
              "993  Rectifier 200.00000    650 0.00100        0.00001    0.99000\n",
              "994     Maxout  60.00000    200 0.00100        0.00070    0.99000\n",
              "995     Maxout  60.00000    600 0.50000        0.00001    0.98900\n",
              "996  Rectifier  55.00000    150 0.10000        0.00001    0.98900\n",
              "997       Tanh 150.00000    650 0.07000        0.00000    0.98300\n",
              "998  Rectifier  50.00000   1000 0.00500        0.00000    0.98500\n",
              "                                 model_ids      mse\n",
              "993 DeepLearning_model_1670741064947_10523 10.70783\n",
              "994 DeepLearning_model_1670741064947_10264 10.79738\n",
              "995 DeepLearning_model_1670741064947_10251 11.55358\n",
              "996 DeepLearning_model_1670741064947_10855 12.76484\n",
              "997 DeepLearning_model_1670741064947_10760 13.40034\n",
              "998 DeepLearning_model_1670741064947_10827 14.36188\n",
              "Failed models\n",
              "-------------\n",
              "        activation epochs hidden  rate rate_annealing rate_decay status_failed\n",
              " MaxoutWithDropout  100.0   [50] 0.001         7.0E-4      0.989          FAIL\n",
              "                                                                                                                                                                                                     msgs_failed\n",
              " \"DistributedException from localhost/127.0.0.1:54321: ' wrong priority for task Roll, expected 120, but got 107', caused by java.lang.AssertionError:  wrong priority for task Roll, expected 120, but got 107\""
            ]
          },
          "metadata": {}
        }
      ]
    },
    {
      "cell_type": "code",
      "source": [
        "rn_gridperf_est53<-h2o.getGrid(grid_id = \"rn_est53\",\n",
        "                              sort_by = \"MSE\",\n",
        "                              decreasing = FALSE)\n",
        "rn_gridperf_est53"
      ],
      "metadata": {
        "id": "_RR8ftmX1Fnf",
        "colab": {
          "base_uri": "https://localhost:8080/",
          "height": 1000
        },
        "outputId": "7bd9a5de-2e9b-41a6-becf-b8b5c7a4e055"
      },
      "execution_count": null,
      "outputs": [
        {
          "output_type": "stream",
          "name": "stderr",
          "text": [
            "Warning message in h2o.getGrid(grid_id = \"rn_est53\", sort_by = \"MSE\", decreasing = FALSE):\n",
            "“Some models were not built due to a failure, for more details run `summary(grid_object, show_stack_traces = TRUE)`”\n"
          ]
        },
        {
          "output_type": "display_data",
          "data": {
            "text/plain": [
              "H2O Grid Details\n",
              "================\n",
              "\n",
              "Grid ID: rn_est53 \n",
              "Used hyper parameters: \n",
              "  -  activation \n",
              "  -  epochs \n",
              "  -  hidden \n",
              "  -  rate \n",
              "  -  rate_annealing \n",
              "  -  rate_decay \n",
              "Number of models: 992 \n",
              "Number of failed models: 4 \n",
              "\n",
              "Hyper-Parameter Search Summary: ordered by increasing MSE\n",
              "       activation    epochs hidden    rate rate_annealing rate_decay\n",
              "1          Maxout  55.00000   1000 0.00100        0.00070    0.98900\n",
              "2            Tanh 200.00000    700 0.07000        0.00001    0.99000\n",
              "3            Tanh  65.00000   1000 0.00700        0.00010    0.98500\n",
              "4          Maxout  65.00000    650 0.00100        0.00010    0.98000\n",
              "5 TanhWithDropout 150.00000    700 0.10000        0.00001    0.98000\n",
              "                               model_ids      mse\n",
              "1 DeepLearning_model_1670741064947_11927 12.60417\n",
              "2 DeepLearning_model_1670741064947_11091 13.30215\n",
              "3 DeepLearning_model_1670741064947_11377 13.38705\n",
              "4 DeepLearning_model_1670741064947_11969 13.47686\n",
              "5 DeepLearning_model_1670741064947_11413 13.53422\n",
              "\n",
              "---\n",
              "    activation    epochs hidden    rate rate_annealing rate_decay\n",
              "987  Rectifier 150.00000    700 0.07000        0.00000    0.98300\n",
              "988       Tanh  10.00000     30 0.00500        0.00001    0.98900\n",
              "989       Tanh  10.00000     30 0.00500        0.00070    0.98000\n",
              "990  Rectifier  15.00000     30 0.10000        0.00001    0.98900\n",
              "991  Rectifier  15.00000     30 0.00100        0.00050    0.98000\n",
              "992  Rectifier  15.00000     30 0.50000        0.00010    0.98000\n",
              "                                 model_ids      mse\n",
              "987 DeepLearning_model_1670741064947_11469 38.37616\n",
              "988 DeepLearning_model_1670741064947_10997 38.63877\n",
              "989 DeepLearning_model_1670741064947_11446 38.63877\n",
              "990 DeepLearning_model_1670741064947_11244 39.08830\n",
              "991 DeepLearning_model_1670741064947_11388 39.08830\n",
              "992 DeepLearning_model_1670741064947_11627 39.08830\n",
              "Failed models\n",
              "-------------\n",
              "        activation epochs hidden  rate rate_annealing rate_decay status_failed\n",
              "         Rectifier   50.0  [150]  0.01         1.0E-4      0.983          FAIL\n",
              "         Rectifier   15.0 [1000]  0.07         1.0E-6      0.989          FAIL\n",
              " MaxoutWithDropout   65.0   [60]   0.1         5.0E-4      0.983          FAIL\n",
              "            Maxout   70.0   [40] 0.005         5.0E-6       0.98          FAIL\n",
              "                                                                                                                                                                                                   msgs_failed\n",
              " \"DistributedException from localhost/127.0.0.1:54321: ' wrong priority for task Roll, expected 120, but got 97', caused by java.lang.AssertionError:  wrong priority for task Roll, expected 120, but got 97\"\n",
              "                                                                                         \"DistributedException from localhost/127.0.0.1:54321: ' wrong priority for task BigScore, expected 120, but got 102'\"\n",
              "                                                                                          \"DistributedException from localhost/127.0.0.1:54321: ' wrong priority for task BigScore, expected 120, but got 70'\"\n",
              " \"DistributedException from localhost/127.0.0.1:54321: ' wrong priority for task Roll, expected 120, but got 80', caused by java.lang.AssertionError:  wrong priority for task Roll, expected 120, but got 80\""
            ]
          },
          "metadata": {}
        }
      ]
    },
    {
      "cell_type": "code",
      "source": [
        "rn_gridperf_est57<-h2o.getGrid(grid_id = \"rn_est57\",\n",
        "                              sort_by = \"MSE\",\n",
        "                              decreasing = FALSE)\n",
        "rn_gridperf_est57"
      ],
      "metadata": {
        "id": "VV4WX2Uv1F3B",
        "colab": {
          "base_uri": "https://localhost:8080/",
          "height": 1000
        },
        "outputId": "2728351c-d05f-4363-e069-327c25e6a028"
      },
      "execution_count": null,
      "outputs": [
        {
          "output_type": "stream",
          "name": "stderr",
          "text": [
            "Warning message in h2o.getGrid(grid_id = \"rn_est57\", sort_by = \"MSE\", decreasing = FALSE):\n",
            "“Some models were not built due to a failure, for more details run `summary(grid_object, show_stack_traces = TRUE)`”\n"
          ]
        },
        {
          "output_type": "display_data",
          "data": {
            "text/plain": [
              "H2O Grid Details\n",
              "================\n",
              "\n",
              "Grid ID: rn_est57 \n",
              "Used hyper parameters: \n",
              "  -  activation \n",
              "  -  epochs \n",
              "  -  hidden \n",
              "  -  rate \n",
              "  -  rate_annealing \n",
              "  -  rate_decay \n",
              "Number of models: 994 \n",
              "Number of failed models: 3 \n",
              "\n",
              "Hyper-Parameter Search Summary: ordered by increasing MSE\n",
              "  activation   epochs hidden    rate rate_annealing rate_decay\n",
              "1     Maxout 60.00000     30 0.00500        0.00050    0.99000\n",
              "2  Rectifier 60.00000     70 0.50000        0.00001    0.98300\n",
              "3  Rectifier 70.00000     70 0.00500        0.00070    0.98000\n",
              "4  Rectifier 50.00000    150 0.70000        0.00001    0.98500\n",
              "5     Maxout 70.00000     40 0.00500        0.00001    0.98900\n",
              "                               model_ids     mse\n",
              "1 DeepLearning_model_1670741064947_12195 1.46691\n",
              "2 DeepLearning_model_1670741064947_12243 1.61638\n",
              "3 DeepLearning_model_1670741064947_12295 1.67072\n",
              "4 DeepLearning_model_1670741064947_12288 1.68366\n",
              "5 DeepLearning_model_1670741064947_12385 1.69061\n",
              "\n",
              "---\n",
              "    activation    epochs hidden    rate rate_annealing rate_decay\n",
              "989  Rectifier 200.00000    550 0.70000        0.00050    0.98300\n",
              "990  Rectifier 200.00000     50 0.00100        0.00050    0.98500\n",
              "991     Maxout  70.00000     60 0.05000        0.00000    0.99000\n",
              "992  Rectifier 100.00000     40 0.70000        0.00050    0.98300\n",
              "993  Rectifier  70.00000    550 0.05000        0.00070    0.98500\n",
              "994  Rectifier 200.00000    700 0.70000        0.00050    0.98000\n",
              "                                 model_ids      mse\n",
              "989 DeepLearning_model_1670741064947_12160  8.24642\n",
              "990 DeepLearning_model_1670741064947_12694  8.67437\n",
              "991 DeepLearning_model_1670741064947_12637  9.03825\n",
              "992 DeepLearning_model_1670741064947_12459  9.32577\n",
              "993 DeepLearning_model_1670741064947_12496 10.54987\n",
              "994 DeepLearning_model_1670741064947_12282 10.57142\n",
              "Failed models\n",
              "-------------\n",
              "           activation epochs hidden  rate rate_annealing rate_decay\n",
              " RectifierWithDropout   65.0   [30] 0.007         5.0E-4      0.989\n",
              "               Maxout  200.0  [100] 0.005         5.0E-6      0.985\n",
              "               Maxout    5.0  [200]   0.7         5.0E-6       0.99\n",
              " status_failed\n",
              "          FAIL\n",
              "          FAIL\n",
              "          FAIL\n",
              "                                                                                                                                                                                                     msgs_failed\n",
              "   \"DistributedException from localhost/127.0.0.1:54321: ' wrong priority for task Roll, expected 120, but got 97', caused by java.lang.AssertionError:  wrong priority for task Roll, expected 120, but got 97\"\n",
              "   \"DistributedException from localhost/127.0.0.1:54321: ' wrong priority for task Roll, expected 120, but got 88', caused by java.lang.AssertionError:  wrong priority for task Roll, expected 120, but got 88\"\n",
              " \"DistributedException from localhost/127.0.0.1:54321: ' wrong priority for task Roll, expected 121, but got 109', caused by java.lang.AssertionError:  wrong priority for task Roll, expected 121, but got 109\""
            ]
          },
          "metadata": {}
        }
      ]
    },
    {
      "cell_type": "code",
      "source": [
        "rn_gridperf_est58<-h2o.getGrid(grid_id = \"rn_est58\",\n",
        "                              sort_by = \"MSE\",\n",
        "                              decreasing = FALSE)\n",
        "rn_gridperf_est58"
      ],
      "metadata": {
        "id": "5NqkZa0I1GKH",
        "colab": {
          "base_uri": "https://localhost:8080/",
          "height": 1000
        },
        "outputId": "94f2ace5-e62a-4dab-aaaf-558efba8f54d"
      },
      "execution_count": null,
      "outputs": [
        {
          "output_type": "stream",
          "name": "stderr",
          "text": [
            "Warning message in h2o.getGrid(grid_id = \"rn_est58\", sort_by = \"MSE\", decreasing = FALSE):\n",
            "“Some models were not built due to a failure, for more details run `summary(grid_object, show_stack_traces = TRUE)`”\n"
          ]
        },
        {
          "output_type": "display_data",
          "data": {
            "text/plain": [
              "H2O Grid Details\n",
              "================\n",
              "\n",
              "Grid ID: rn_est58 \n",
              "Used hyper parameters: \n",
              "  -  activation \n",
              "  -  epochs \n",
              "  -  hidden \n",
              "  -  rate \n",
              "  -  rate_annealing \n",
              "  -  rate_decay \n",
              "Number of models: 994 \n",
              "Number of failed models: 3 \n",
              "\n",
              "Hyper-Parameter Search Summary: ordered by increasing MSE\n",
              "         activation    epochs hidden    rate rate_annealing rate_decay\n",
              "1            Maxout  15.00000    250 0.00700        0.00010    0.98900\n",
              "2 MaxoutWithDropout  60.00000    200 0.50000        0.00010    0.98900\n",
              "3 MaxoutWithDropout  60.00000    150 0.00500        0.00010    0.99000\n",
              "4 MaxoutWithDropout  55.00000    200 0.10000        0.00001    0.99000\n",
              "5 MaxoutWithDropout 200.00000    200 0.10000        0.00001    0.98500\n",
              "                               model_ids     mse\n",
              "1 DeepLearning_model_1670741064947_13117 3.00095\n",
              "2 DeepLearning_model_1670741064947_13566 3.10302\n",
              "3 DeepLearning_model_1670741064947_13333 3.12687\n",
              "4 DeepLearning_model_1670741064947_12976 3.17316\n",
              "5 DeepLearning_model_1670741064947_13193 3.18633\n",
              "\n",
              "---\n",
              "    activation    epochs hidden    rate rate_annealing rate_decay\n",
              "989       Tanh  20.00000     30 0.00500        0.00050    0.99000\n",
              "990  Rectifier  65.00000     30 0.05000        0.00001    0.99000\n",
              "991       Tanh  10.00000     30 0.00500        0.00001    0.98900\n",
              "992       Tanh  10.00000     30 0.00500        0.00070    0.98000\n",
              "993  Rectifier 150.00000     30 0.50000        0.00050    0.99000\n",
              "994  Rectifier  60.00000     30 0.05000        0.00070    0.98900\n",
              "                                 model_ids      mse\n",
              "989 DeepLearning_model_1670741064947_13081 16.21757\n",
              "990 DeepLearning_model_1670741064947_13159 16.91748\n",
              "991 DeepLearning_model_1670741064947_12990 17.52485\n",
              "992 DeepLearning_model_1670741064947_13439 17.52485\n",
              "993 DeepLearning_model_1670741064947_13907 19.67541\n",
              "994 DeepLearning_model_1670741064947_13806 28.39393\n",
              "Failed models\n",
              "-------------\n",
              "           activation epochs hidden  rate rate_annealing rate_decay\n",
              " RectifierWithDropout   20.0 [1000]  0.01         7.0E-4      0.989\n",
              "            Rectifier   55.0  [150]   0.1         7.0E-6      0.989\n",
              "               Maxout  150.0   [40] 0.001         7.0E-6       0.99\n",
              " status_failed\n",
              "          FAIL\n",
              "          FAIL\n",
              "          FAIL\n",
              "                                                                                                                                                                                                   msgs_failed\n",
              " \"DistributedException from localhost/127.0.0.1:54321: ' wrong priority for task Roll, expected 121, but got 47', caused by java.lang.AssertionError:  wrong priority for task Roll, expected 121, but got 47\"\n",
              " \"DistributedException from localhost/127.0.0.1:54321: ' wrong priority for task Roll, expected 120, but got 94', caused by java.lang.AssertionError:  wrong priority for task Roll, expected 120, but got 94\"\n",
              "                                                                                  \"DistributedException from localhost/127.0.0.1:54321: ' wrong priority for task DeepLearningTask, expected 120, but got 80'\""
            ]
          },
          "metadata": {}
        }
      ]
    },
    {
      "cell_type": "code",
      "source": [
        "rn_gridperf_est59<-h2o.getGrid(grid_id = \"rn_est59\",\n",
        "                              sort_by = \"MSE\",\n",
        "                              decreasing = FALSE)\n",
        "rn_gridperf_est59"
      ],
      "metadata": {
        "id": "ld9f9PQd1Gmf",
        "colab": {
          "base_uri": "https://localhost:8080/",
          "height": 1000
        },
        "outputId": "2c736f3d-b4c7-4d3f-deb9-f968eda5c4ed"
      },
      "execution_count": null,
      "outputs": [
        {
          "output_type": "stream",
          "name": "stderr",
          "text": [
            "Warning message in h2o.getGrid(grid_id = \"rn_est59\", sort_by = \"MSE\", decreasing = FALSE):\n",
            "“Some models were not built due to a failure, for more details run `summary(grid_object, show_stack_traces = TRUE)`”\n"
          ]
        },
        {
          "output_type": "display_data",
          "data": {
            "text/plain": [
              "H2O Grid Details\n",
              "================\n",
              "\n",
              "Grid ID: rn_est59 \n",
              "Used hyper parameters: \n",
              "  -  activation \n",
              "  -  epochs \n",
              "  -  hidden \n",
              "  -  rate \n",
              "  -  rate_annealing \n",
              "  -  rate_decay \n",
              "Number of models: 994 \n",
              "Number of failed models: 3 \n",
              "\n",
              "Hyper-Parameter Search Summary: ordered by increasing MSE\n",
              "  activation   epochs hidden    rate rate_annealing rate_decay\n",
              "1     Maxout 15.00000     50 0.00500        0.00050    0.98300\n",
              "2     Maxout 20.00000     50 0.05000        0.00070    0.98900\n",
              "3     Maxout 15.00000     70 0.10000        0.00001    0.98300\n",
              "4     Maxout 15.00000     30 0.10000        0.00001    0.98900\n",
              "5     Maxout 15.00000     30 0.01000        0.00001    0.98500\n",
              "                               model_ids     mse\n",
              "1 DeepLearning_model_1670741064947_14760 5.38606\n",
              "2 DeepLearning_model_1670741064947_14117 5.39189\n",
              "3 DeepLearning_model_1670741064947_14075 5.41429\n",
              "4 DeepLearning_model_1670741064947_14265 5.46424\n",
              "5 DeepLearning_model_1670741064947_14627 5.46424\n",
              "\n",
              "---\n",
              "         activation   epochs hidden    rate rate_annealing rate_decay\n",
              "989            Tanh 60.00000    650 0.07000        0.00000    0.98900\n",
              "990 TanhWithDropout 65.00000    600 0.70000        0.00070    0.98300\n",
              "991            Tanh 65.00000    700 0.70000        0.00000    0.98500\n",
              "992            Tanh 65.00000    500 0.00100        0.00000    0.98900\n",
              "993            Tanh 70.00000    550 0.70000        0.00001    0.98000\n",
              "994            Tanh 65.00000    550 0.70000        0.00001    0.98500\n",
              "                                 model_ids      mse\n",
              "989 DeepLearning_model_1670741064947_14210 21.67768\n",
              "990 DeepLearning_model_1670741064947_14646 21.80981\n",
              "991 DeepLearning_model_1670741064947_14381 21.97089\n",
              "992 DeepLearning_model_1670741064947_14291 22.22579\n",
              "993 DeepLearning_model_1670741064947_14488 22.52497\n",
              "994 DeepLearning_model_1670741064947_14435 23.14738\n",
              "Failed models\n",
              "-------------\n",
              "        activation epochs hidden  rate rate_annealing rate_decay status_failed\n",
              "         Rectifier   20.0 [1000] 0.007         1.0E-6       0.99          FAIL\n",
              " MaxoutWithDropout  150.0   [70]  0.05         7.0E-4       0.99          FAIL\n",
              "   TanhWithDropout   70.0   [30] 0.001         5.0E-4       0.98          FAIL\n",
              "                                                                                                                                                                                                     msgs_failed\n",
              "   \"DistributedException from localhost/127.0.0.1:54321: ' wrong priority for task Roll, expected 120, but got 86', caused by java.lang.AssertionError:  wrong priority for task Roll, expected 120, but got 86\"\n",
              " \"DistributedException from localhost/127.0.0.1:54321: ' wrong priority for task Roll, expected 120, but got 118', caused by java.lang.AssertionError:  wrong priority for task Roll, expected 120, but got 118\"\n",
              "                                                                                    \"DistributedException from localhost/127.0.0.1:54321: ' wrong priority for task DeepLearningTask, expected 120, but got 67'\""
            ]
          },
          "metadata": {}
        }
      ]
    },
    {
      "cell_type": "code",
      "source": [
        "rn_gridperf_est60<-h2o.getGrid(grid_id = \"rn_est60\",\n",
        "                              sort_by = \"MSE\",\n",
        "                              decreasing = FALSE)\n",
        "rn_gridperf_est60"
      ],
      "metadata": {
        "id": "DJQOUqAC1HCi",
        "colab": {
          "base_uri": "https://localhost:8080/",
          "height": 1000
        },
        "outputId": "6f84ac0a-af69-4611-c809-82b97fd635f7"
      },
      "execution_count": null,
      "outputs": [
        {
          "output_type": "stream",
          "name": "stderr",
          "text": [
            "Warning message in h2o.getGrid(grid_id = \"rn_est60\", sort_by = \"MSE\", decreasing = FALSE):\n",
            "“Some models were not built due to a failure, for more details run `summary(grid_object, show_stack_traces = TRUE)`”\n"
          ]
        },
        {
          "output_type": "display_data",
          "data": {
            "text/plain": [
              "H2O Grid Details\n",
              "================\n",
              "\n",
              "Grid ID: rn_est60 \n",
              "Used hyper parameters: \n",
              "  -  activation \n",
              "  -  epochs \n",
              "  -  hidden \n",
              "  -  rate \n",
              "  -  rate_annealing \n",
              "  -  rate_decay \n",
              "Number of models: 992 \n",
              "Number of failed models: 4 \n",
              "\n",
              "Hyper-Parameter Search Summary: ordered by increasing MSE\n",
              "  activation   epochs hidden    rate rate_annealing rate_decay\n",
              "1     Maxout 20.00000     40 0.00500        0.00070    0.99000\n",
              "2     Maxout 10.00000     40 0.00100        0.00000    0.98300\n",
              "3       Tanh 65.00000    550 0.70000        0.00001    0.98500\n",
              "4       Tanh 15.00000    650 0.70000        0.00000    0.98000\n",
              "5       Tanh  5.00000    650 0.07000        0.00070    0.98000\n",
              "                               model_ids     mse\n",
              "1 DeepLearning_model_1670741064947_15762 1.48340\n",
              "2 DeepLearning_model_1670741064947_15731 1.63383\n",
              "3 DeepLearning_model_1670741064947_15432 1.70847\n",
              "4 DeepLearning_model_1670741064947_15048 1.71202\n",
              "5 DeepLearning_model_1670741064947_15525 1.72906\n",
              "\n",
              "---\n",
              "    activation    epochs hidden    rate rate_annealing rate_decay\n",
              "987  Rectifier  15.00000     30 0.00100        0.00050    0.98000\n",
              "988  Rectifier  15.00000     30 0.50000        0.00010    0.98000\n",
              "989  Rectifier 200.00000     30 0.00100        0.00050    0.98300\n",
              "990     Maxout   5.00000    550 0.00100        0.00010    0.99000\n",
              "991  Rectifier  65.00000     40 0.00700        0.00000    0.98900\n",
              "992     Maxout  15.00000    500 0.07000        0.00010    0.98000\n",
              "                                 model_ids      mse\n",
              "987 DeepLearning_model_1670741064947_15375  9.47674\n",
              "988 DeepLearning_model_1670741064947_15614  9.47674\n",
              "989 DeepLearning_model_1670741064947_15809  9.54083\n",
              "990 DeepLearning_model_1670741064947_15526  9.92009\n",
              "991 DeepLearning_model_1670741064947_15118 10.11045\n",
              "992 DeepLearning_model_1670741064947_15248 10.13736\n",
              "Failed models\n",
              "-------------\n",
              " activation epochs hidden  rate rate_annealing rate_decay status_failed\n",
              "     Maxout   55.0  [200] 0.005         5.0E-6      0.989          FAIL\n",
              "     Maxout   10.0   [70] 0.007         7.0E-6       0.98          FAIL\n",
              "     Maxout  200.0  [600]   0.7         1.0E-4      0.983          FAIL\n",
              "  Rectifier  150.0  [200]  0.05         7.0E-6       0.98          FAIL\n",
              "                                                                                                                                                                                                     msgs_failed\n",
              "                                                                                           \"DistributedException from localhost/127.0.0.1:54321: ' wrong priority for task BigScore, expected 120, but got 100'\"\n",
              "   \"DistributedException from localhost/127.0.0.1:54321: ' wrong priority for task Roll, expected 120, but got 95', caused by java.lang.AssertionError:  wrong priority for task Roll, expected 120, but got 95\"\n",
              " \"DistributedException from localhost/127.0.0.1:54321: ' wrong priority for task Roll, expected 120, but got 101', caused by java.lang.AssertionError:  wrong priority for task Roll, expected 120, but got 101\"\n",
              "   \"DistributedException from localhost/127.0.0.1:54321: ' wrong priority for task Roll, expected 120, but got 72', caused by java.lang.AssertionError:  wrong priority for task Roll, expected 120, but got 72\""
            ]
          },
          "metadata": {}
        }
      ]
    },
    {
      "cell_type": "markdown",
      "source": [
        "## Guardado del mejor modelo Red Neuronal"
      ],
      "metadata": {
        "id": "vyIKutNEEFNC"
      }
    },
    {
      "cell_type": "code",
      "source": [
        "best_rn_train_est3<-h2o.getModel(rn_gridperf_est3@model_ids[[1]])\n",
        "best_rn_train_est3"
      ],
      "metadata": {
        "id": "P87-Rxp5Tui-",
        "colab": {
          "base_uri": "https://localhost:8080/",
          "height": 694
        },
        "outputId": "f60aea8a-5db2-4257-bb83-a07945954bf4"
      },
      "execution_count": null,
      "outputs": [
        {
          "output_type": "display_data",
          "data": {
            "text/plain": [
              "Model Details:\n",
              "==============\n",
              "\n",
              "H2ORegressionModel: deeplearning\n",
              "Model ID:  DeepLearning_model_1670737080983_883 \n",
              "Status of Neuron Layers: predicting inventario_est3, regression, gaussian distribution, Quadratic loss, 3,751 weights/biases, 51.7 KB, 2,700 training samples, mini-batch size 1\n",
              "  layer units   type dropout       l1       l2 mean_rate rate_rms momentum\n",
              "1     1    23  Input  0.00 %       NA       NA        NA       NA       NA\n",
              "2     2   150   Tanh  0.00 % 0.000000 0.000000  0.058404 0.204103 0.000000\n",
              "3     3     1 Linear      NA 0.000000 0.000000  0.001308 0.000705 0.000000\n",
              "  mean_weight weight_rms mean_bias bias_rms\n",
              "1          NA         NA        NA       NA\n",
              "2   -0.001673   0.107538 -0.000435 0.013457\n",
              "3   -0.004148   0.107267 -0.013925 0.000000\n",
              "\n",
              "\n",
              "H2ORegressionMetrics: deeplearning\n",
              "** Reported on training data. **\n",
              "** Metrics reported on full training frame **\n",
              "\n",
              "MSE:  6.458946\n",
              "RMSE:  2.541446\n",
              "MAE:  2.019109\n",
              "RMSLE:  0.7811385\n",
              "Mean Residual Deviance :  6.458946\n",
              "\n",
              "\n",
              "H2ORegressionMetrics: deeplearning\n",
              "** Reported on validation data. **\n",
              "** Metrics reported on full validation frame **\n",
              "\n",
              "MSE:  9.341401\n",
              "RMSE:  3.056371\n",
              "MAE:  2.50138\n",
              "RMSLE:  0.6119814\n",
              "Mean Residual Deviance :  9.341401\n",
              "\n",
              "\n"
            ]
          },
          "metadata": {}
        }
      ]
    },
    {
      "cell_type": "code",
      "source": [
        "best_rn_train_est6<-h2o.getModel(rn_gridperf_est6@model_ids[[1]])\n",
        "best_rn_train_est6"
      ],
      "metadata": {
        "id": "KjexK-rJl6RB",
        "colab": {
          "base_uri": "https://localhost:8080/",
          "height": 694
        },
        "outputId": "2a5172e5-021c-4927-b862-563b716477bd"
      },
      "execution_count": null,
      "outputs": [
        {
          "output_type": "display_data",
          "data": {
            "text/plain": [
              "Model Details:\n",
              "==============\n",
              "\n",
              "H2ORegressionModel: deeplearning\n",
              "Model ID:  DeepLearning_model_1670737080983_1075 \n",
              "Status of Neuron Layers: predicting inventario_est6, regression, gaussian distribution, Quadratic loss, 2,451 weights/biases, 35.9 KB, 9,000 training samples, mini-batch size 1\n",
              "  layer units          type dropout       l1       l2 mean_rate rate_rms\n",
              "1     1    23         Input  0.00 %       NA       NA        NA       NA\n",
              "2     2    50 MaxoutDropout 50.00 % 0.000000 0.000000  0.050827 0.204156\n",
              "3     3     1        Linear      NA 0.000000 0.000000  0.000381 0.000196\n",
              "  momentum mean_weight weight_rms mean_bias bias_rms\n",
              "1       NA          NA         NA        NA       NA\n",
              "2 0.000000   -0.008727   0.206861  0.488101 0.068311\n",
              "3 0.000000   -0.007927   0.079513 -0.010130 0.000000\n",
              "\n",
              "\n",
              "H2ORegressionMetrics: deeplearning\n",
              "** Reported on training data. **\n",
              "** Metrics reported on full training frame **\n",
              "\n",
              "MSE:  3.315768\n",
              "RMSE:  1.820925\n",
              "MAE:  1.488683\n",
              "RMSLE:  0.3726621\n",
              "Mean Residual Deviance :  3.315768\n",
              "\n",
              "\n",
              "H2ORegressionMetrics: deeplearning\n",
              "** Reported on validation data. **\n",
              "** Metrics reported on full validation frame **\n",
              "\n",
              "MSE:  2.96748\n",
              "RMSE:  1.722637\n",
              "MAE:  1.235017\n",
              "RMSLE:  0.4723808\n",
              "Mean Residual Deviance :  2.96748\n",
              "\n",
              "\n"
            ]
          },
          "metadata": {}
        }
      ]
    },
    {
      "cell_type": "code",
      "source": [
        "best_rn_train_est10<-h2o.getModel(rn_gridperf_est10@model_ids[[1]])\n",
        "best_rn_train_est10"
      ],
      "metadata": {
        "id": "zftogMF3mB4y",
        "colab": {
          "base_uri": "https://localhost:8080/",
          "height": 694
        },
        "outputId": "e7609db4-1667-4332-d075-027962143b3b"
      },
      "execution_count": null,
      "outputs": [
        {
          "output_type": "display_data",
          "data": {
            "text/plain": [
              "Model Details:\n",
              "==============\n",
              "\n",
              "H2ORegressionModel: deeplearning\n",
              "Model ID:  DeepLearning_model_1670737080983_2746 \n",
              "Status of Neuron Layers: predicting inventario_est10, regression, gaussian distribution, Quadratic loss, 12,251 weights/biases, 155.4 KB, 233 training samples, mini-batch size 1\n",
              "  layer units   type dropout       l1       l2 mean_rate rate_rms momentum\n",
              "1     1    23  Input  0.00 %       NA       NA        NA       NA       NA\n",
              "2     2   250 Maxout  0.00 % 0.000000 0.000000  0.065486 0.213906 0.000000\n",
              "3     3     1 Linear      NA 0.000000 0.000000  0.000443 0.000124 0.000000\n",
              "  mean_weight weight_rms mean_bias bias_rms\n",
              "1          NA         NA        NA       NA\n",
              "2   -0.000822   0.087744  0.499132 0.006503\n",
              "3   -0.000730   0.081887  0.002061 0.000000\n",
              "\n",
              "\n",
              "H2ORegressionMetrics: deeplearning\n",
              "** Reported on training data. **\n",
              "** Metrics reported on full training frame **\n",
              "\n",
              "MSE:  5.503248\n",
              "RMSE:  2.3459\n",
              "MAE:  1.745146\n",
              "RMSLE:  0.5125158\n",
              "Mean Residual Deviance :  5.503248\n",
              "\n",
              "\n",
              "H2ORegressionMetrics: deeplearning\n",
              "** Reported on validation data. **\n",
              "** Metrics reported on full validation frame **\n",
              "\n",
              "MSE:  3.396053\n",
              "RMSE:  1.842838\n",
              "MAE:  1.584574\n",
              "RMSLE:  0.6006258\n",
              "Mean Residual Deviance :  3.396053\n",
              "\n",
              "\n"
            ]
          },
          "metadata": {}
        }
      ]
    },
    {
      "cell_type": "code",
      "source": [
        "best_rn_train_est13<-h2o.getModel(rn_gridperf_est13@model_ids[[1]])\n",
        "best_rn_train_est13"
      ],
      "metadata": {
        "id": "lnlubu9-mEF6",
        "colab": {
          "base_uri": "https://localhost:8080/",
          "height": 694
        },
        "outputId": "8c2541a0-eefd-40d8-e11f-0a518fdfc4fa"
      },
      "execution_count": null,
      "outputs": [
        {
          "output_type": "display_data",
          "data": {
            "text/plain": [
              "Model Details:\n",
              "==============\n",
              "\n",
              "H2ORegressionModel: deeplearning\n",
              "Model ID:  DeepLearning_model_1670737080983_3908 \n",
              "Status of Neuron Layers: predicting inventario_est13, regression, gaussian distribution, Quadratic loss, 15,001 weights/biases, 188.8 KB, 233 training samples, mini-batch size 1\n",
              "  layer units      type dropout       l1       l2 mean_rate rate_rms momentum\n",
              "1     1    23     Input  0.00 %       NA       NA        NA       NA       NA\n",
              "2     2   600 Rectifier  0.00 % 0.000000 0.000000  0.064572 0.206390 0.000000\n",
              "3     3     1    Linear      NA 0.000000 0.000000  0.000658 0.000234 0.000000\n",
              "  mean_weight weight_rms mean_bias bias_rms\n",
              "1          NA         NA        NA       NA\n",
              "2   -0.000384   0.056046  0.499624 0.001473\n",
              "3   -0.000685   0.054627 -0.001725 0.000000\n",
              "\n",
              "\n",
              "H2ORegressionMetrics: deeplearning\n",
              "** Reported on training data. **\n",
              "** Metrics reported on full training frame **\n",
              "\n",
              "MSE:  10.32625\n",
              "RMSE:  3.213448\n",
              "MAE:  2.491568\n",
              "RMSLE:  0.7680333\n",
              "Mean Residual Deviance :  10.32625\n",
              "\n",
              "\n",
              "H2ORegressionMetrics: deeplearning\n",
              "** Reported on validation data. **\n",
              "** Metrics reported on full validation frame **\n",
              "\n",
              "MSE:  4.169272\n",
              "RMSE:  2.041879\n",
              "MAE:  1.622525\n",
              "RMSLE:  0.6937671\n",
              "Mean Residual Deviance :  4.169272\n",
              "\n",
              "\n"
            ]
          },
          "metadata": {}
        }
      ]
    },
    {
      "cell_type": "code",
      "source": [
        "best_rn_train_est19<-h2o.getModel(rn_gridperf_est19@model_ids[[1]])\n",
        "best_rn_train_est19"
      ],
      "metadata": {
        "id": "SCcnzk_3mGHR",
        "colab": {
          "base_uri": "https://localhost:8080/",
          "height": 694
        },
        "outputId": "4ad31b51-08af-430b-862d-bebc4de4b931"
      },
      "execution_count": null,
      "outputs": [
        {
          "output_type": "display_data",
          "data": {
            "text/plain": [
              "Model Details:\n",
              "==============\n",
              "\n",
              "H2ORegressionModel: deeplearning\n",
              "Model ID:  DeepLearning_model_1670741064947_382 \n",
              "Status of Neuron Layers: predicting inventario_est19, regression, gaussian distribution, Quadratic loss, 1,471 weights/biases, 23.9 KB, 2,476 training samples, mini-batch size 1\n",
              "  layer units   type dropout       l1       l2 mean_rate rate_rms momentum\n",
              "1     1    23  Input  0.00 %       NA       NA        NA       NA       NA\n",
              "2     2    30 Maxout  0.00 % 0.000000 0.000000  0.052989 0.215242 0.000000\n",
              "3     3     1 Linear      NA 0.000000 0.000000  0.000293 0.000140 0.000000\n",
              "  mean_weight weight_rms mean_bias bias_rms\n",
              "1          NA         NA        NA       NA\n",
              "2   -0.001223   0.202208  0.498130 0.048797\n",
              "3   -0.015056   0.266293  0.009772 0.000000\n",
              "\n",
              "\n",
              "H2ORegressionMetrics: deeplearning\n",
              "** Reported on training data. **\n",
              "** Metrics reported on full training frame **\n",
              "\n",
              "MSE:  2.649001\n",
              "RMSE:  1.627575\n",
              "MAE:  1.166691\n",
              "RMSLE:  0.358999\n",
              "Mean Residual Deviance :  2.649001\n",
              "\n",
              "\n",
              "H2ORegressionMetrics: deeplearning\n",
              "** Reported on validation data. **\n",
              "** Metrics reported on full validation frame **\n",
              "\n",
              "MSE:  6.328109\n",
              "RMSE:  2.515573\n",
              "MAE:  2.028299\n",
              "RMSLE:  0.4375343\n",
              "Mean Residual Deviance :  6.328109\n",
              "\n",
              "\n"
            ]
          },
          "metadata": {}
        }
      ]
    },
    {
      "cell_type": "code",
      "source": [
        "best_rn_train_est23<-h2o.getModel(rn_gridperf_est23@model_ids[[1]])\n",
        "best_rn_train_est23"
      ],
      "metadata": {
        "id": "1dbtefQbmHhy",
        "colab": {
          "base_uri": "https://localhost:8080/",
          "height": 694
        },
        "outputId": "39452d96-4adb-40e2-a257-3b89049d7bed"
      },
      "execution_count": null,
      "outputs": [
        {
          "output_type": "display_data",
          "data": {
            "text/plain": [
              "Model Details:\n",
              "==============\n",
              "\n",
              "H2ORegressionModel: deeplearning\n",
              "Model ID:  DeepLearning_model_1670741064947_1093 \n",
              "Status of Neuron Layers: predicting inventario_est23, regression, gaussian distribution, Quadratic loss, 25,001 weights/biases, 310.7 KB, 4,500 training samples, mini-batch size 1\n",
              "  layer units   type dropout       l1       l2 mean_rate rate_rms momentum\n",
              "1     1    23  Input  0.00 %       NA       NA        NA       NA       NA\n",
              "2     2  1000   Tanh  0.00 % 0.000000 0.000000  0.090641 0.202240 0.000000\n",
              "3     3     1 Linear      NA 0.000000 0.000000  0.003377 0.001669 0.000000\n",
              "  mean_weight weight_rms mean_bias bias_rms\n",
              "1          NA         NA        NA       NA\n",
              "2   -0.000001   0.059767 -0.000620 0.042128\n",
              "3   -0.001488   0.042300 -0.005720 0.000000\n",
              "\n",
              "\n",
              "H2ORegressionMetrics: deeplearning\n",
              "** Reported on training data. **\n",
              "** Metrics reported on full training frame **\n",
              "\n",
              "MSE:  3.342825\n",
              "RMSE:  1.828339\n",
              "MAE:  1.463395\n",
              "RMSLE:  0.3850811\n",
              "Mean Residual Deviance :  3.342825\n",
              "\n",
              "\n",
              "H2ORegressionMetrics: deeplearning\n",
              "** Reported on validation data. **\n",
              "** Metrics reported on full validation frame **\n",
              "\n",
              "MSE:  3.91015\n",
              "RMSE:  1.97741\n",
              "MAE:  1.560922\n",
              "RMSLE:  0.4518696\n",
              "Mean Residual Deviance :  3.91015\n",
              "\n",
              "\n"
            ]
          },
          "metadata": {}
        }
      ]
    },
    {
      "cell_type": "code",
      "source": [
        "best_rn_train_est25<-h2o.getModel(rn_gridperf_est25@model_ids[[1]])\n",
        "best_rn_train_est25"
      ],
      "metadata": {
        "id": "v-slLVYOmJLi",
        "colab": {
          "base_uri": "https://localhost:8080/",
          "height": 694
        },
        "outputId": "bf320911-2f1a-42fc-f02a-f9b89f163045"
      },
      "execution_count": null,
      "outputs": [
        {
          "output_type": "display_data",
          "data": {
            "text/plain": [
              "Model Details:\n",
              "==============\n",
              "\n",
              "H2ORegressionModel: deeplearning\n",
              "Model ID:  DeepLearning_model_1670741064947_2313 \n",
              "Status of Neuron Layers: predicting inventario_est25, regression, gaussian distribution, Quadratic loss, 3,751 weights/biases, 51.7 KB, 450 training samples, mini-batch size 1\n",
              "  layer units        type dropout       l1       l2 mean_rate rate_rms momentum\n",
              "1     1    23       Input  0.00 %       NA       NA        NA       NA       NA\n",
              "2     2   150 TanhDropout 50.00 % 0.000000 0.000000  0.058022 0.204011 0.000000\n",
              "3     3     1      Linear      NA 0.000000 0.000000  0.001513 0.000724 0.000000\n",
              "  mean_weight weight_rms mean_bias bias_rms\n",
              "1          NA         NA        NA       NA\n",
              "2   -0.001797   0.108072 -0.000503 0.008552\n",
              "3   -0.003835   0.101346  0.011508 0.000000\n",
              "\n",
              "\n",
              "H2ORegressionMetrics: deeplearning\n",
              "** Reported on training data. **\n",
              "** Metrics reported on full training frame **\n",
              "\n",
              "MSE:  5.186928\n",
              "RMSE:  2.277483\n",
              "MAE:  1.907108\n",
              "RMSLE:  0.6442028\n",
              "Mean Residual Deviance :  5.186928\n",
              "\n",
              "\n",
              "H2ORegressionMetrics: deeplearning\n",
              "** Reported on validation data. **\n",
              "** Metrics reported on full validation frame **\n",
              "\n",
              "MSE:  3.414389\n",
              "RMSE:  1.847806\n",
              "MAE:  1.602813\n",
              "RMSLE:  0.5728181\n",
              "Mean Residual Deviance :  3.414389\n",
              "\n",
              "\n"
            ]
          },
          "metadata": {}
        }
      ]
    },
    {
      "cell_type": "code",
      "source": [
        "best_rn_train_est26<-h2o.getModel(rn_gridperf_est26@model_ids[[1]])\n",
        "best_rn_train_est26"
      ],
      "metadata": {
        "id": "YlfthHi_mNBZ",
        "colab": {
          "base_uri": "https://localhost:8080/",
          "height": 694
        },
        "outputId": "40dff749-464b-4d59-da15-2e9ecec955ea"
      },
      "execution_count": null,
      "outputs": [
        {
          "output_type": "display_data",
          "data": {
            "text/plain": [
              "Model Details:\n",
              "==============\n",
              "\n",
              "H2ORegressionModel: deeplearning\n",
              "Model ID:  DeepLearning_model_1670741064947_3023 \n",
              "Status of Neuron Layers: predicting inventario_est26, regression, gaussian distribution, Quadratic loss, 6,251 weights/biases, 82.2 KB, 450 training samples, mini-batch size 1\n",
              "  layer units             type dropout       l1       l2 mean_rate rate_rms\n",
              "1     1    23            Input  0.00 %       NA       NA        NA       NA\n",
              "2     2   250 RectifierDropout 50.00 % 0.000000 0.000000  0.061601 0.207845\n",
              "3     3     1           Linear      NA 0.000000 0.000000  0.000693 0.000402\n",
              "  momentum mean_weight weight_rms mean_bias bias_rms\n",
              "1       NA          NA         NA        NA       NA\n",
              "2 0.000000   -0.001133   0.088187  0.499674 0.003389\n",
              "3 0.000000   -0.001666   0.081208  0.003396 0.000000\n",
              "\n",
              "\n",
              "H2ORegressionMetrics: deeplearning\n",
              "** Reported on training data. **\n",
              "** Metrics reported on full training frame **\n",
              "\n",
              "MSE:  4.374008\n",
              "RMSE:  2.091413\n",
              "MAE:  1.877439\n",
              "RMSLE:  0.6093328\n",
              "Mean Residual Deviance :  4.374008\n",
              "\n",
              "\n",
              "H2ORegressionMetrics: deeplearning\n",
              "** Reported on validation data. **\n",
              "** Metrics reported on full validation frame **\n",
              "\n",
              "MSE:  1.740632\n",
              "RMSE:  1.31933\n",
              "MAE:  1.095868\n",
              "RMSLE:  0.5454487\n",
              "Mean Residual Deviance :  1.740632\n",
              "\n",
              "\n"
            ]
          },
          "metadata": {}
        }
      ]
    },
    {
      "cell_type": "code",
      "source": [
        "best_rn_train_est27<-h2o.getModel(rn_gridperf_est27@model_ids[[1]])\n",
        "best_rn_train_est27"
      ],
      "metadata": {
        "id": "_0b5zusomP4a",
        "colab": {
          "base_uri": "https://localhost:8080/",
          "height": 694
        },
        "outputId": "be634469-5283-4385-9fe2-65537cf4299d"
      },
      "execution_count": null,
      "outputs": [
        {
          "output_type": "display_data",
          "data": {
            "text/plain": [
              "Model Details:\n",
              "==============\n",
              "\n",
              "H2ORegressionModel: deeplearning\n",
              "Model ID:  DeepLearning_model_1670741064947_4401 \n",
              "Status of Neuron Layers: predicting inventario_est27, regression, gaussian distribution, Quadratic loss, 6,251 weights/biases, 82.2 KB, 233 training samples, mini-batch size 1\n",
              "  layer units             type dropout       l1       l2 mean_rate rate_rms\n",
              "1     1    23            Input  0.00 %       NA       NA        NA       NA\n",
              "2     2   250 RectifierDropout 50.00 % 0.000000 0.000000  0.111609 0.270458\n",
              "3     3     1           Linear      NA 0.000000 0.000000  0.013254 0.108401\n",
              "  momentum mean_weight weight_rms mean_bias bias_rms\n",
              "1       NA          NA         NA        NA       NA\n",
              "2 0.000000   -0.001151   0.088197  0.499940 0.001102\n",
              "3 0.000000   -0.002196   0.081608  0.000880 0.000000\n",
              "\n",
              "\n",
              "H2ORegressionMetrics: deeplearning\n",
              "** Reported on training data. **\n",
              "** Metrics reported on full training frame **\n",
              "\n",
              "MSE:  32.33367\n",
              "RMSE:  5.686271\n",
              "MAE:  4.031843\n",
              "RMSLE:  0.6486797\n",
              "Mean Residual Deviance :  32.33367\n",
              "\n",
              "\n",
              "H2ORegressionMetrics: deeplearning\n",
              "** Reported on validation data. **\n",
              "** Metrics reported on full validation frame **\n",
              "\n",
              "MSE:  4.922654\n",
              "RMSE:  2.218706\n",
              "MAE:  1.876193\n",
              "RMSLE:  0.4373018\n",
              "Mean Residual Deviance :  4.922654\n",
              "\n",
              "\n"
            ]
          },
          "metadata": {}
        }
      ]
    },
    {
      "cell_type": "code",
      "source": [
        "best_rn_train_est28<-h2o.getModel(rn_gridperf_est28@model_ids[[1]])\n",
        "best_rn_train_est28"
      ],
      "metadata": {
        "id": "nHE5OU2-mReb",
        "colab": {
          "base_uri": "https://localhost:8080/",
          "height": 694
        },
        "outputId": "d31d7c19-3ded-42f5-c91d-3d6fd26b5014"
      },
      "execution_count": null,
      "outputs": [
        {
          "output_type": "display_data",
          "data": {
            "text/plain": [
              "Model Details:\n",
              "==============\n",
              "\n",
              "H2ORegressionModel: deeplearning\n",
              "Model ID:  DeepLearning_model_1670741064947_5578 \n",
              "Status of Neuron Layers: predicting inventario_est28, regression, gaussian distribution, Quadratic loss, 7,351 weights/biases, 95.6 KB, 2,476 training samples, mini-batch size 1\n",
              "  layer units   type dropout       l1       l2 mean_rate rate_rms momentum\n",
              "1     1    23  Input  0.00 %       NA       NA        NA       NA       NA\n",
              "2     2   150 Maxout  0.00 % 0.000000 0.000000  0.065644 0.212662 0.000000\n",
              "3     3     1 Linear      NA 0.000000 0.000000  0.001279 0.000740 0.000000\n",
              "  mean_weight weight_rms mean_bias bias_rms\n",
              "1          NA         NA        NA       NA\n",
              "2   -0.000985   0.107137  0.497040 0.010762\n",
              "3   -0.004221   0.104055  0.000386 0.000000\n",
              "\n",
              "\n",
              "H2ORegressionMetrics: deeplearning\n",
              "** Reported on training data. **\n",
              "** Metrics reported on full training frame **\n",
              "\n",
              "MSE:  7.861311\n",
              "RMSE:  2.803803\n",
              "MAE:  2.202598\n",
              "RMSLE:  0.488424\n",
              "Mean Residual Deviance :  7.861311\n",
              "\n",
              "\n",
              "H2ORegressionMetrics: deeplearning\n",
              "** Reported on validation data. **\n",
              "** Metrics reported on full validation frame **\n",
              "\n",
              "MSE:  7.195883\n",
              "RMSE:  2.682514\n",
              "MAE:  2.16726\n",
              "RMSLE:  0.6166142\n",
              "Mean Residual Deviance :  7.195883\n",
              "\n",
              "\n"
            ]
          },
          "metadata": {}
        }
      ]
    },
    {
      "cell_type": "code",
      "source": [
        "best_rn_train_est32<-h2o.getModel(rn_gridperf_est32@model_ids[[1]])\n",
        "best_rn_train_est32"
      ],
      "metadata": {
        "id": "rrEpv91_3Ami",
        "colab": {
          "base_uri": "https://localhost:8080/",
          "height": 694
        },
        "outputId": "b0c0d840-31c8-45d7-b7c1-af27dd682069"
      },
      "execution_count": null,
      "outputs": [
        {
          "output_type": "display_data",
          "data": {
            "text/plain": [
              "Model Details:\n",
              "==============\n",
              "\n",
              "H2ORegressionModel: deeplearning\n",
              "Model ID:  DeepLearning_model_1670741064947_6512 \n",
              "Status of Neuron Layers: predicting inventario_est32, regression, gaussian distribution, Quadratic loss, 16,251 weights/biases, 204.0 KB, 2,700 training samples, mini-batch size 1\n",
              "  layer units   type dropout       l1       l2 mean_rate rate_rms momentum\n",
              "1     1    23  Input  0.00 %       NA       NA        NA       NA       NA\n",
              "2     2   650   Tanh  0.00 % 0.000000 0.000000  0.078170 0.205210 0.000000\n",
              "3     3     1 Linear      NA 0.000000 0.000000  0.003612 0.001909 0.000000\n",
              "  mean_weight weight_rms mean_bias bias_rms\n",
              "1          NA         NA        NA       NA\n",
              "2   -0.000303   0.053963 -0.000133 0.003885\n",
              "3   -0.000265   0.046714  0.010178 0.000000\n",
              "\n",
              "\n",
              "H2ORegressionMetrics: deeplearning\n",
              "** Reported on training data. **\n",
              "** Metrics reported on full training frame **\n",
              "\n",
              "MSE:  5.645945\n",
              "RMSE:  2.37612\n",
              "MAE:  1.892875\n",
              "RMSLE:  0.9128326\n",
              "Mean Residual Deviance :  5.645945\n",
              "\n",
              "\n",
              "H2ORegressionMetrics: deeplearning\n",
              "** Reported on validation data. **\n",
              "** Metrics reported on full validation frame **\n",
              "\n",
              "MSE:  1.42871\n",
              "RMSE:  1.195287\n",
              "MAE:  0.9479643\n",
              "RMSLE:  0.3709549\n",
              "Mean Residual Deviance :  1.42871\n",
              "\n",
              "\n"
            ]
          },
          "metadata": {}
        }
      ]
    },
    {
      "cell_type": "code",
      "source": [
        "best_rn_train_est33<-h2o.getModel(rn_gridperf_est33@model_ids[[1]])\n",
        "best_rn_train_est33"
      ],
      "metadata": {
        "id": "_i0khkjG3A3Y",
        "colab": {
          "base_uri": "https://localhost:8080/",
          "height": 694
        },
        "outputId": "b47abec0-aad1-41da-ca5c-8d016fb74e9f"
      },
      "execution_count": null,
      "outputs": [
        {
          "output_type": "display_data",
          "data": {
            "text/plain": [
              "Model Details:\n",
              "==============\n",
              "\n",
              "H2ORegressionModel: deeplearning\n",
              "Model ID:  DeepLearning_model_1670741064947_7228 \n",
              "Status of Neuron Layers: predicting inventario_est33, regression, gaussian distribution, Quadratic loss, 3,751 weights/biases, 51.7 KB, 6,750 training samples, mini-batch size 1\n",
              "  layer units             type dropout       l1       l2 mean_rate rate_rms\n",
              "1     1    23            Input  0.00 %       NA       NA        NA       NA\n",
              "2     2   150 RectifierDropout 50.00 % 0.000000 0.000000  0.056237 0.203972\n",
              "3     3     1           Linear      NA 0.000000 0.000000  0.000835 0.000422\n",
              "  momentum mean_weight weight_rms mean_bias bias_rms\n",
              "1       NA          NA         NA        NA       NA\n",
              "2 0.000000   -0.000927   0.107099  0.494181 0.015775\n",
              "3 0.000000   -0.004823   0.101005  0.001767 0.000000\n",
              "\n",
              "\n",
              "H2ORegressionMetrics: deeplearning\n",
              "** Reported on training data. **\n",
              "** Metrics reported on full training frame **\n",
              "\n",
              "MSE:  5.47452\n",
              "RMSE:  2.339769\n",
              "MAE:  1.882364\n",
              "RMSLE:  0.6873618\n",
              "Mean Residual Deviance :  5.47452\n",
              "\n",
              "\n",
              "H2ORegressionMetrics: deeplearning\n",
              "** Reported on validation data. **\n",
              "** Metrics reported on full validation frame **\n",
              "\n",
              "MSE:  3.409466\n",
              "RMSE:  1.846474\n",
              "MAE:  1.359608\n",
              "RMSLE:  0.5875676\n",
              "Mean Residual Deviance :  3.409466\n",
              "\n",
              "\n"
            ]
          },
          "metadata": {}
        }
      ]
    },
    {
      "cell_type": "code",
      "source": [
        "best_rn_train_est36<-h2o.getModel(rn_gridperf_est36@model_ids[[1]])\n",
        "best_rn_train_est36"
      ],
      "metadata": {
        "id": "uDr52Kvq3BPf",
        "colab": {
          "base_uri": "https://localhost:8080/",
          "height": 694
        },
        "outputId": "302f0345-a5c4-458c-9dcc-477929512a05"
      },
      "execution_count": null,
      "outputs": [
        {
          "output_type": "display_data",
          "data": {
            "text/plain": [
              "Model Details:\n",
              "==============\n",
              "\n",
              "H2ORegressionModel: deeplearning\n",
              "Model ID:  DeepLearning_model_1670741064947_8728 \n",
              "Status of Neuron Layers: predicting inventario_est36, regression, gaussian distribution, Quadratic loss, 16,251 weights/biases, 204.1 KB, 233 training samples, mini-batch size 1\n",
              "  layer units             type dropout       l1       l2 mean_rate rate_rms\n",
              "1     1    23            Input  0.00 %       NA       NA        NA       NA\n",
              "2     2   650 RectifierDropout 50.00 % 0.000000 0.000000  0.065287 0.203687\n",
              "3     3     1           Linear      NA 0.000000 0.000000  0.000909 0.000310\n",
              "  momentum mean_weight weight_rms mean_bias bias_rms\n",
              "1       NA          NA         NA        NA       NA\n",
              "2 0.000000   -0.000394   0.054379  0.497529 0.007856\n",
              "3 0.000000   -0.000014   0.051574  0.000267 0.000000\n",
              "\n",
              "\n",
              "H2ORegressionMetrics: deeplearning\n",
              "** Reported on training data. **\n",
              "** Metrics reported on full training frame **\n",
              "\n",
              "MSE:  15.26193\n",
              "RMSE:  3.906652\n",
              "MAE:  2.994294\n",
              "RMSLE:  0.7754407\n",
              "Mean Residual Deviance :  15.26193\n",
              "\n",
              "\n",
              "H2ORegressionMetrics: deeplearning\n",
              "** Reported on validation data. **\n",
              "** Metrics reported on full validation frame **\n",
              "\n",
              "MSE:  2.177896\n",
              "RMSE:  1.475769\n",
              "MAE:  1.203487\n",
              "RMSLE:  0.5839718\n",
              "Mean Residual Deviance :  2.177896\n",
              "\n",
              "\n"
            ]
          },
          "metadata": {}
        }
      ]
    },
    {
      "cell_type": "code",
      "source": [
        "best_rn_train_est46<-h2o.getModel(rn_gridperf_est46@model_ids[[1]])\n",
        "best_rn_train_est46"
      ],
      "metadata": {
        "id": "Aztpvlr93Bfp",
        "colab": {
          "base_uri": "https://localhost:8080/",
          "height": 694
        },
        "outputId": "bb296ee8-90a1-44d5-d1c9-cd194ab0c53c"
      },
      "execution_count": null,
      "outputs": [
        {
          "output_type": "display_data",
          "data": {
            "text/plain": [
              "Model Details:\n",
              "==============\n",
              "\n",
              "H2ORegressionModel: deeplearning\n",
              "Model ID:  DeepLearning_model_1670741064947_9740 \n",
              "Status of Neuron Layers: predicting inventario_est46, regression, gaussian distribution, Quadratic loss, 1,501 weights/biases, 24.3 KB, 233 training samples, mini-batch size 1\n",
              "  layer units      type dropout       l1       l2 mean_rate rate_rms momentum\n",
              "1     1    23     Input  0.00 %       NA       NA        NA       NA       NA\n",
              "2     2    60 Rectifier  0.00 % 0.000000 0.000000  0.061520 0.217042 0.000000\n",
              "3     3     1    Linear      NA 0.000000 0.000000  0.000727 0.000281 0.000000\n",
              "  mean_weight weight_rms mean_bias bias_rms\n",
              "1          NA         NA        NA       NA\n",
              "2   -0.000957   0.155423  0.499715 0.002817\n",
              "3    0.006198   0.172973 -0.000968 0.000000\n",
              "\n",
              "\n",
              "H2ORegressionMetrics: deeplearning\n",
              "** Reported on training data. **\n",
              "** Metrics reported on full training frame **\n",
              "\n",
              "MSE:  7.797007\n",
              "RMSE:  2.792312\n",
              "MAE:  2.323811\n",
              "RMSLE:  0.5002081\n",
              "Mean Residual Deviance :  7.797007\n",
              "\n",
              "\n",
              "H2ORegressionMetrics: deeplearning\n",
              "** Reported on validation data. **\n",
              "** Metrics reported on full validation frame **\n",
              "\n",
              "MSE:  3.319681\n",
              "RMSE:  1.821999\n",
              "MAE:  1.440748\n",
              "RMSLE:  0.3006651\n",
              "Mean Residual Deviance :  3.319681\n",
              "\n",
              "\n"
            ]
          },
          "metadata": {}
        }
      ]
    },
    {
      "cell_type": "code",
      "source": [
        "best_rn_train_est47<-h2o.getModel(rn_gridperf_est47@model_ids[[1]])\n",
        "best_rn_train_est47"
      ],
      "metadata": {
        "id": "YZEXvlWk3B8u",
        "colab": {
          "base_uri": "https://localhost:8080/",
          "height": 694
        },
        "outputId": "3715a684-9f17-4181-c454-188caef77392"
      },
      "execution_count": null,
      "outputs": [
        {
          "output_type": "display_data",
          "data": {
            "text/plain": [
              "Model Details:\n",
              "==============\n",
              "\n",
              "H2ORegressionModel: deeplearning\n",
              "Model ID:  DeepLearning_model_1670741064947_10347 \n",
              "Status of Neuron Layers: predicting inventario_est47, regression, gaussian distribution, Quadratic loss, 12,251 weights/biases, 155.4 KB, 233 training samples, mini-batch size 1\n",
              "  layer units   type dropout       l1       l2 mean_rate rate_rms momentum\n",
              "1     1    23  Input  0.00 %       NA       NA        NA       NA       NA\n",
              "2     2   250 Maxout  0.00 % 0.000000 0.000000  0.093813 0.256554 0.000000\n",
              "3     3     1 Linear      NA 0.000000 0.000000  0.000413 0.000126 0.000000\n",
              "  mean_weight weight_rms mean_bias bias_rms\n",
              "1          NA         NA        NA       NA\n",
              "2   -0.000839   0.087681  0.499959 0.001790\n",
              "3   -0.001335   0.081789  0.001094 0.000000\n",
              "\n",
              "\n",
              "H2ORegressionMetrics: deeplearning\n",
              "** Reported on training data. **\n",
              "** Metrics reported on full training frame **\n",
              "\n",
              "MSE:  4.948259\n",
              "RMSE:  2.224468\n",
              "MAE:  1.888657\n",
              "RMSLE:  0.5783769\n",
              "Mean Residual Deviance :  4.948259\n",
              "\n",
              "\n",
              "H2ORegressionMetrics: deeplearning\n",
              "** Reported on validation data. **\n",
              "** Metrics reported on full validation frame **\n",
              "\n",
              "MSE:  2.81855\n",
              "RMSE:  1.678854\n",
              "MAE:  1.436899\n",
              "RMSLE:  0.612692\n",
              "Mean Residual Deviance :  2.81855\n",
              "\n",
              "\n"
            ]
          },
          "metadata": {}
        }
      ]
    },
    {
      "cell_type": "code",
      "source": [
        "best_rn_train_est53<-h2o.getModel(rn_gridperf_est53@model_ids[[1]])\n",
        "best_rn_train_est53"
      ],
      "metadata": {
        "id": "xg-hsDOn3CX4",
        "colab": {
          "base_uri": "https://localhost:8080/",
          "height": 694
        },
        "outputId": "65409321-c865-4fca-d89e-4565cafa89b2"
      },
      "execution_count": null,
      "outputs": [
        {
          "output_type": "display_data",
          "data": {
            "text/plain": [
              "Model Details:\n",
              "==============\n",
              "\n",
              "H2ORegressionModel: deeplearning\n",
              "Model ID:  DeepLearning_model_1670741064947_11927 \n",
              "Status of Neuron Layers: predicting inventario_est53, regression, gaussian distribution, Quadratic loss, 49,001 weights/biases, 603.7 KB, 2,476 training samples, mini-batch size 1\n",
              "  layer units   type dropout       l1       l2 mean_rate rate_rms momentum\n",
              "1     1    23  Input  0.00 %       NA       NA        NA       NA       NA\n",
              "2     2  1000 Maxout  0.00 % 0.000000 0.000000  0.075197 0.208542 0.000000\n",
              "3     3     1 Linear      NA 0.000000 0.000000  0.001005 0.000252 0.000000\n",
              "  mean_weight weight_rms mean_bias bias_rms\n",
              "1          NA         NA        NA       NA\n",
              "2   -0.000155   0.046001  0.493132 0.011835\n",
              "3   -0.000252   0.040747 -0.001315 0.000000\n",
              "\n",
              "\n",
              "H2ORegressionMetrics: deeplearning\n",
              "** Reported on training data. **\n",
              "** Metrics reported on full training frame **\n",
              "\n",
              "MSE:  8.635857\n",
              "RMSE:  2.938683\n",
              "MAE:  2.324205\n",
              "RMSLE:  0.327378\n",
              "Mean Residual Deviance :  8.635857\n",
              "\n",
              "\n",
              "H2ORegressionMetrics: deeplearning\n",
              "** Reported on validation data. **\n",
              "** Metrics reported on full validation frame **\n",
              "\n",
              "MSE:  12.60417\n",
              "RMSE:  3.550236\n",
              "MAE:  2.760644\n",
              "RMSLE:  0.4152707\n",
              "Mean Residual Deviance :  12.60417\n",
              "\n",
              "\n"
            ]
          },
          "metadata": {}
        }
      ]
    },
    {
      "cell_type": "code",
      "source": [
        "best_rn_train_est57<-h2o.getModel(rn_gridperf_est57@model_ids[[1]])\n",
        "best_rn_train_est57"
      ],
      "metadata": {
        "id": "d25Qp6Yk3Cpy",
        "colab": {
          "base_uri": "https://localhost:8080/",
          "height": 694
        },
        "outputId": "61e9f201-2550-4b8d-db9f-17563d03e813"
      },
      "execution_count": null,
      "outputs": [
        {
          "output_type": "display_data",
          "data": {
            "text/plain": [
              "Model Details:\n",
              "==============\n",
              "\n",
              "H2ORegressionModel: deeplearning\n",
              "Model ID:  DeepLearning_model_1670741064947_12195 \n",
              "Status of Neuron Layers: predicting inventario_est57, regression, gaussian distribution, Quadratic loss, 1,471 weights/biases, 23.9 KB, 2,700 training samples, mini-batch size 1\n",
              "  layer units   type dropout       l1       l2 mean_rate rate_rms momentum\n",
              "1     1    23  Input  0.00 %       NA       NA        NA       NA       NA\n",
              "2     2    30 Maxout  0.00 % 0.000000 0.000000  0.054522 0.214947 0.000000\n",
              "3     3     1 Linear      NA 0.000000 0.000000  0.000488 0.000263 0.000000\n",
              "  mean_weight weight_rms mean_bias bias_rms\n",
              "1          NA         NA        NA       NA\n",
              "2   -0.001167   0.197729  0.500078 0.021317\n",
              "3   -0.009535   0.249930  0.001428 0.000000\n",
              "\n",
              "\n",
              "H2ORegressionMetrics: deeplearning\n",
              "** Reported on training data. **\n",
              "** Metrics reported on full training frame **\n",
              "\n",
              "MSE:  2.580375\n",
              "RMSE:  1.606354\n",
              "MAE:  1.251401\n",
              "RMSLE:  0.5409348\n",
              "Mean Residual Deviance :  2.580375\n",
              "\n",
              "\n",
              "H2ORegressionMetrics: deeplearning\n",
              "** Reported on validation data. **\n",
              "** Metrics reported on full validation frame **\n",
              "\n",
              "MSE:  1.466912\n",
              "RMSE:  1.211161\n",
              "MAE:  0.941078\n",
              "RMSLE:  0.5608741\n",
              "Mean Residual Deviance :  1.466912\n",
              "\n",
              "\n"
            ]
          },
          "metadata": {}
        }
      ]
    },
    {
      "cell_type": "code",
      "source": [
        "best_rn_train_est58<-h2o.getModel(rn_gridperf_est57@model_ids[[1]])\n",
        "best_rn_train_est58"
      ],
      "metadata": {
        "id": "QdGzs4Od3C73",
        "colab": {
          "base_uri": "https://localhost:8080/",
          "height": 694
        },
        "outputId": "6dfe80e5-5e16-496c-867a-800c9a7df561"
      },
      "execution_count": null,
      "outputs": [
        {
          "output_type": "display_data",
          "data": {
            "text/plain": [
              "Model Details:\n",
              "==============\n",
              "\n",
              "H2ORegressionModel: deeplearning\n",
              "Model ID:  DeepLearning_model_1670741064947_12195 \n",
              "Status of Neuron Layers: predicting inventario_est57, regression, gaussian distribution, Quadratic loss, 1,471 weights/biases, 23.9 KB, 2,700 training samples, mini-batch size 1\n",
              "  layer units   type dropout       l1       l2 mean_rate rate_rms momentum\n",
              "1     1    23  Input  0.00 %       NA       NA        NA       NA       NA\n",
              "2     2    30 Maxout  0.00 % 0.000000 0.000000  0.054522 0.214947 0.000000\n",
              "3     3     1 Linear      NA 0.000000 0.000000  0.000488 0.000263 0.000000\n",
              "  mean_weight weight_rms mean_bias bias_rms\n",
              "1          NA         NA        NA       NA\n",
              "2   -0.001167   0.197729  0.500078 0.021317\n",
              "3   -0.009535   0.249930  0.001428 0.000000\n",
              "\n",
              "\n",
              "H2ORegressionMetrics: deeplearning\n",
              "** Reported on training data. **\n",
              "** Metrics reported on full training frame **\n",
              "\n",
              "MSE:  2.580375\n",
              "RMSE:  1.606354\n",
              "MAE:  1.251401\n",
              "RMSLE:  0.5409348\n",
              "Mean Residual Deviance :  2.580375\n",
              "\n",
              "\n",
              "H2ORegressionMetrics: deeplearning\n",
              "** Reported on validation data. **\n",
              "** Metrics reported on full validation frame **\n",
              "\n",
              "MSE:  1.466912\n",
              "RMSE:  1.211161\n",
              "MAE:  0.941078\n",
              "RMSLE:  0.5608741\n",
              "Mean Residual Deviance :  1.466912\n",
              "\n",
              "\n"
            ]
          },
          "metadata": {}
        }
      ]
    },
    {
      "cell_type": "code",
      "source": [
        "best_rn_train_est59<-h2o.getModel(rn_gridperf_est57@model_ids[[1]])\n",
        "best_rn_train_est59"
      ],
      "metadata": {
        "id": "oBMU1V7R3DT-",
        "colab": {
          "base_uri": "https://localhost:8080/",
          "height": 694
        },
        "outputId": "eb30960b-805a-487c-c7de-11c508ccaf05"
      },
      "execution_count": null,
      "outputs": [
        {
          "output_type": "display_data",
          "data": {
            "text/plain": [
              "Model Details:\n",
              "==============\n",
              "\n",
              "H2ORegressionModel: deeplearning\n",
              "Model ID:  DeepLearning_model_1670741064947_12195 \n",
              "Status of Neuron Layers: predicting inventario_est57, regression, gaussian distribution, Quadratic loss, 1,471 weights/biases, 23.9 KB, 2,700 training samples, mini-batch size 1\n",
              "  layer units   type dropout       l1       l2 mean_rate rate_rms momentum\n",
              "1     1    23  Input  0.00 %       NA       NA        NA       NA       NA\n",
              "2     2    30 Maxout  0.00 % 0.000000 0.000000  0.054522 0.214947 0.000000\n",
              "3     3     1 Linear      NA 0.000000 0.000000  0.000488 0.000263 0.000000\n",
              "  mean_weight weight_rms mean_bias bias_rms\n",
              "1          NA         NA        NA       NA\n",
              "2   -0.001167   0.197729  0.500078 0.021317\n",
              "3   -0.009535   0.249930  0.001428 0.000000\n",
              "\n",
              "\n",
              "H2ORegressionMetrics: deeplearning\n",
              "** Reported on training data. **\n",
              "** Metrics reported on full training frame **\n",
              "\n",
              "MSE:  2.580375\n",
              "RMSE:  1.606354\n",
              "MAE:  1.251401\n",
              "RMSLE:  0.5409348\n",
              "Mean Residual Deviance :  2.580375\n",
              "\n",
              "\n",
              "H2ORegressionMetrics: deeplearning\n",
              "** Reported on validation data. **\n",
              "** Metrics reported on full validation frame **\n",
              "\n",
              "MSE:  1.466912\n",
              "RMSE:  1.211161\n",
              "MAE:  0.941078\n",
              "RMSLE:  0.5608741\n",
              "Mean Residual Deviance :  1.466912\n",
              "\n",
              "\n"
            ]
          },
          "metadata": {}
        }
      ]
    },
    {
      "cell_type": "code",
      "source": [
        "best_rn_train_est60<-h2o.getModel(rn_gridperf_est57@model_ids[[1]])\n",
        "best_rn_train_est60"
      ],
      "metadata": {
        "id": "NN4zS6Te3DsY",
        "colab": {
          "base_uri": "https://localhost:8080/",
          "height": 694
        },
        "outputId": "64ecf092-6085-4b40-d7aa-ce37e1c60f01"
      },
      "execution_count": null,
      "outputs": [
        {
          "output_type": "display_data",
          "data": {
            "text/plain": [
              "Model Details:\n",
              "==============\n",
              "\n",
              "H2ORegressionModel: deeplearning\n",
              "Model ID:  DeepLearning_model_1670741064947_12195 \n",
              "Status of Neuron Layers: predicting inventario_est57, regression, gaussian distribution, Quadratic loss, 1,471 weights/biases, 23.9 KB, 2,700 training samples, mini-batch size 1\n",
              "  layer units   type dropout       l1       l2 mean_rate rate_rms momentum\n",
              "1     1    23  Input  0.00 %       NA       NA        NA       NA       NA\n",
              "2     2    30 Maxout  0.00 % 0.000000 0.000000  0.054522 0.214947 0.000000\n",
              "3     3     1 Linear      NA 0.000000 0.000000  0.000488 0.000263 0.000000\n",
              "  mean_weight weight_rms mean_bias bias_rms\n",
              "1          NA         NA        NA       NA\n",
              "2   -0.001167   0.197729  0.500078 0.021317\n",
              "3   -0.009535   0.249930  0.001428 0.000000\n",
              "\n",
              "\n",
              "H2ORegressionMetrics: deeplearning\n",
              "** Reported on training data. **\n",
              "** Metrics reported on full training frame **\n",
              "\n",
              "MSE:  2.580375\n",
              "RMSE:  1.606354\n",
              "MAE:  1.251401\n",
              "RMSLE:  0.5409348\n",
              "Mean Residual Deviance :  2.580375\n",
              "\n",
              "\n",
              "H2ORegressionMetrics: deeplearning\n",
              "** Reported on validation data. **\n",
              "** Metrics reported on full validation frame **\n",
              "\n",
              "MSE:  1.466912\n",
              "RMSE:  1.211161\n",
              "MAE:  0.941078\n",
              "RMSLE:  0.5608741\n",
              "Mean Residual Deviance :  1.466912\n",
              "\n",
              "\n"
            ]
          },
          "metadata": {}
        }
      ]
    },
    {
      "cell_type": "markdown",
      "source": [
        "## Contador de modelos maximos a aplicar"
      ],
      "metadata": {
        "id": "CmwKu8k9UdQY"
      }
    },
    {
      "cell_type": "code",
      "source": [
        "rn_est3_l1<-length(rn_params_est3$hidden)\n",
        "rn_est3_l2<-length(rn_params_est3$epochs)\n",
        "rn_est3_l3<-length(rn_params_est3$rate)\n",
        "rn_est3_l4<-length(rn_params_est3$rate_annealing)\n",
        "rn_est3_l5<-length(rn_params_est3$rate_decay)\n",
        "(rn_est3_l1*rn_est3_l2*rn_est3_l3*rn_est3_l4*rn_est3_l5)"
      ],
      "metadata": {
        "id": "GyLWSI9Ema-Z",
        "colab": {
          "base_uri": "https://localhost:8080/",
          "height": 34
        },
        "outputId": "8c709f2d-05be-4ea4-fee0-6afdc8303182"
      },
      "execution_count": null,
      "outputs": [
        {
          "output_type": "display_data",
          "data": {
            "text/html": [
              "48600"
            ],
            "text/markdown": "48600",
            "text/latex": "48600",
            "text/plain": [
              "[1] 48600"
            ]
          },
          "metadata": {}
        }
      ]
    },
    {
      "cell_type": "markdown",
      "source": [
        "# Archivo del mejor modelo guardado"
      ],
      "metadata": {
        "id": "j04sMXP2Ra7b"
      }
    },
    {
      "cell_type": "code",
      "source": [
        "dir<-getwd()"
      ],
      "metadata": {
        "id": "o4FlGt4TRkzE"
      },
      "execution_count": null,
      "outputs": []
    },
    {
      "cell_type": "markdown",
      "source": [
        "## Archivos de los modelos GBM de las estaciones"
      ],
      "metadata": {
        "id": "m4olU5LBSQKE"
      }
    },
    {
      "cell_type": "code",
      "source": [
        "h2o.saveModel(best_gbm_train_est3,dir,filename=\"train2_gbm_bike_est3\")"
      ],
      "metadata": {
        "id": "W2j-zX21R_vV",
        "colab": {
          "base_uri": "https://localhost:8080/",
          "height": 34
        },
        "outputId": "ba699798-bbbb-457c-a3c7-15bb988cad8a"
      },
      "execution_count": null,
      "outputs": [
        {
          "output_type": "display_data",
          "data": {
            "text/html": [
              "'/content/train2_gbm_bike_est3'"
            ],
            "text/markdown": "'/content/train2_gbm_bike_est3'",
            "text/latex": "'/content/train2\\_gbm\\_bike\\_est3'",
            "text/plain": [
              "[1] \"/content/train2_gbm_bike_est3\""
            ]
          },
          "metadata": {}
        }
      ]
    },
    {
      "cell_type": "code",
      "source": [
        "h2o.saveModel(best_gbm_train_est6,dir,filename=\"train2_gbm_bike_est6\")"
      ],
      "metadata": {
        "id": "MepGER20SaU1",
        "colab": {
          "base_uri": "https://localhost:8080/",
          "height": 34
        },
        "outputId": "87d71220-abce-425d-875d-c6c1db5aa7f6"
      },
      "execution_count": null,
      "outputs": [
        {
          "output_type": "display_data",
          "data": {
            "text/html": [
              "'/content/train2_gbm_bike_est6'"
            ],
            "text/markdown": "'/content/train2_gbm_bike_est6'",
            "text/latex": "'/content/train2\\_gbm\\_bike\\_est6'",
            "text/plain": [
              "[1] \"/content/train2_gbm_bike_est6\""
            ]
          },
          "metadata": {}
        }
      ]
    },
    {
      "cell_type": "code",
      "source": [
        "h2o.saveModel(best_gbm_train_est10,dir,filename=\"train2_gbm_bike_est10\")"
      ],
      "metadata": {
        "id": "WCkgpxSlSs30",
        "colab": {
          "base_uri": "https://localhost:8080/",
          "height": 34
        },
        "outputId": "6a3e6a08-8b5b-4f94-b5fd-17d878989f07"
      },
      "execution_count": null,
      "outputs": [
        {
          "output_type": "display_data",
          "data": {
            "text/html": [
              "'/content/train2_gbm_bike_est10'"
            ],
            "text/markdown": "'/content/train2_gbm_bike_est10'",
            "text/latex": "'/content/train2\\_gbm\\_bike\\_est10'",
            "text/plain": [
              "[1] \"/content/train2_gbm_bike_est10\""
            ]
          },
          "metadata": {}
        }
      ]
    },
    {
      "cell_type": "code",
      "source": [
        "h2o.saveModel(best_gbm_train_est13,dir,filename=\"train2_gbm_bike_est13\")"
      ],
      "metadata": {
        "id": "HSefu-djSuV8",
        "colab": {
          "base_uri": "https://localhost:8080/",
          "height": 34
        },
        "outputId": "3b261e14-0255-4de2-8f47-318010fdc553"
      },
      "execution_count": null,
      "outputs": [
        {
          "output_type": "display_data",
          "data": {
            "text/html": [
              "'/content/train2_gbm_bike_est13'"
            ],
            "text/markdown": "'/content/train2_gbm_bike_est13'",
            "text/latex": "'/content/train2\\_gbm\\_bike\\_est13'",
            "text/plain": [
              "[1] \"/content/train2_gbm_bike_est13\""
            ]
          },
          "metadata": {}
        }
      ]
    },
    {
      "cell_type": "code",
      "source": [
        "h2o.saveModel(best_gbm_train_est19,dir,filename=\"train2_gbm_bike_est19\")"
      ],
      "metadata": {
        "id": "g8RzXKhJSu1d",
        "colab": {
          "base_uri": "https://localhost:8080/",
          "height": 34
        },
        "outputId": "221c8427-b69f-4caf-e7a0-9a9303be1a2a"
      },
      "execution_count": null,
      "outputs": [
        {
          "output_type": "display_data",
          "data": {
            "text/html": [
              "'/content/train2_gbm_bike_est19'"
            ],
            "text/markdown": "'/content/train2_gbm_bike_est19'",
            "text/latex": "'/content/train2\\_gbm\\_bike\\_est19'",
            "text/plain": [
              "[1] \"/content/train2_gbm_bike_est19\""
            ]
          },
          "metadata": {}
        }
      ]
    },
    {
      "cell_type": "code",
      "source": [
        "h2o.saveModel(best_gbm_train_est23,dir,filename=\"train2_gbm_bike_est23\")"
      ],
      "metadata": {
        "id": "rcWv54YzSvj8",
        "colab": {
          "base_uri": "https://localhost:8080/",
          "height": 34
        },
        "outputId": "5b50259b-c2e6-4dc0-a520-7280342d3f31"
      },
      "execution_count": null,
      "outputs": [
        {
          "output_type": "display_data",
          "data": {
            "text/html": [
              "'/content/train2_gbm_bike_est23'"
            ],
            "text/markdown": "'/content/train2_gbm_bike_est23'",
            "text/latex": "'/content/train2\\_gbm\\_bike\\_est23'",
            "text/plain": [
              "[1] \"/content/train2_gbm_bike_est23\""
            ]
          },
          "metadata": {}
        }
      ]
    },
    {
      "cell_type": "code",
      "source": [
        "h2o.saveModel(best_gbm_train_est25,dir,filename=\"train2_gbm_bike_est25\")"
      ],
      "metadata": {
        "id": "Zf6ihhozSv-s",
        "colab": {
          "base_uri": "https://localhost:8080/",
          "height": 34
        },
        "outputId": "f06fbb91-d1ed-40c2-dd07-d98ddb532957"
      },
      "execution_count": null,
      "outputs": [
        {
          "output_type": "display_data",
          "data": {
            "text/html": [
              "'/content/train2_gbm_bike_est25'"
            ],
            "text/markdown": "'/content/train2_gbm_bike_est25'",
            "text/latex": "'/content/train2\\_gbm\\_bike\\_est25'",
            "text/plain": [
              "[1] \"/content/train2_gbm_bike_est25\""
            ]
          },
          "metadata": {}
        }
      ]
    },
    {
      "cell_type": "code",
      "source": [
        "h2o.saveModel(best_gbm_train_est26,dir,filename=\"train2_gbm_bike_est26\")"
      ],
      "metadata": {
        "id": "nWZf3mO2Swr9",
        "colab": {
          "base_uri": "https://localhost:8080/",
          "height": 34
        },
        "outputId": "82d98476-11ad-42d5-dcc2-7b2786638de1"
      },
      "execution_count": null,
      "outputs": [
        {
          "output_type": "display_data",
          "data": {
            "text/html": [
              "'/content/train2_gbm_bike_est26'"
            ],
            "text/markdown": "'/content/train2_gbm_bike_est26'",
            "text/latex": "'/content/train2\\_gbm\\_bike\\_est26'",
            "text/plain": [
              "[1] \"/content/train2_gbm_bike_est26\""
            ]
          },
          "metadata": {}
        }
      ]
    },
    {
      "cell_type": "code",
      "source": [
        "h2o.saveModel(best_gbm_train_est27,dir,filename=\"train2_gbm_bike_est27\")"
      ],
      "metadata": {
        "id": "oYEgwv0QSxEN",
        "colab": {
          "base_uri": "https://localhost:8080/",
          "height": 34
        },
        "outputId": "7c634db9-2d43-4d37-f9d2-d6c406df2885"
      },
      "execution_count": null,
      "outputs": [
        {
          "output_type": "display_data",
          "data": {
            "text/html": [
              "'/content/train2_gbm_bike_est27'"
            ],
            "text/markdown": "'/content/train2_gbm_bike_est27'",
            "text/latex": "'/content/train2\\_gbm\\_bike\\_est27'",
            "text/plain": [
              "[1] \"/content/train2_gbm_bike_est27\""
            ]
          },
          "metadata": {}
        }
      ]
    },
    {
      "cell_type": "code",
      "source": [
        "h2o.saveModel(best_gbm_train_est28,dir,filename=\"train2_gbm_bike_est28\")"
      ],
      "metadata": {
        "id": "Xf3TbuOfSxlr",
        "colab": {
          "base_uri": "https://localhost:8080/",
          "height": 34
        },
        "outputId": "48703b5a-5d73-4e21-ddc6-26022f0abd2b"
      },
      "execution_count": null,
      "outputs": [
        {
          "output_type": "display_data",
          "data": {
            "text/html": [
              "'/content/train2_gbm_bike_est28'"
            ],
            "text/markdown": "'/content/train2_gbm_bike_est28'",
            "text/latex": "'/content/train2\\_gbm\\_bike\\_est28'",
            "text/plain": [
              "[1] \"/content/train2_gbm_bike_est28\""
            ]
          },
          "metadata": {}
        }
      ]
    },
    {
      "cell_type": "code",
      "source": [
        "h2o.saveModel(best_gbm_train_est32,dir,filename=\"train2_gbm_bike_est32\")"
      ],
      "metadata": {
        "id": "RJ7rzi2T710X",
        "colab": {
          "base_uri": "https://localhost:8080/",
          "height": 34
        },
        "outputId": "8f1a1221-f639-41c1-e60d-49630d3b23f4"
      },
      "execution_count": null,
      "outputs": [
        {
          "output_type": "display_data",
          "data": {
            "text/html": [
              "'/content/train2_gbm_bike_est32'"
            ],
            "text/markdown": "'/content/train2_gbm_bike_est32'",
            "text/latex": "'/content/train2\\_gbm\\_bike\\_est32'",
            "text/plain": [
              "[1] \"/content/train2_gbm_bike_est32\""
            ]
          },
          "metadata": {}
        }
      ]
    },
    {
      "cell_type": "code",
      "source": [
        "h2o.saveModel(best_gbm_train_est33,dir,filename=\"train2_gbm_bike_est33\")"
      ],
      "metadata": {
        "id": "OfDW1Pyz72SO",
        "colab": {
          "base_uri": "https://localhost:8080/",
          "height": 34
        },
        "outputId": "a52b63de-8e59-4a54-c77b-fd104c0a51d8"
      },
      "execution_count": null,
      "outputs": [
        {
          "output_type": "display_data",
          "data": {
            "text/html": [
              "'/content/train2_gbm_bike_est33'"
            ],
            "text/markdown": "'/content/train2_gbm_bike_est33'",
            "text/latex": "'/content/train2\\_gbm\\_bike\\_est33'",
            "text/plain": [
              "[1] \"/content/train2_gbm_bike_est33\""
            ]
          },
          "metadata": {}
        }
      ]
    },
    {
      "cell_type": "code",
      "source": [
        "h2o.saveModel(best_gbm_train_est36,dir,filename=\"train2_gbm_bike_est36\")"
      ],
      "metadata": {
        "id": "LHhDLoBk72iG",
        "colab": {
          "base_uri": "https://localhost:8080/",
          "height": 34
        },
        "outputId": "745f3fe7-8f5a-45cf-f013-d81449b102e8"
      },
      "execution_count": null,
      "outputs": [
        {
          "output_type": "display_data",
          "data": {
            "text/html": [
              "'/content/train2_gbm_bike_est36'"
            ],
            "text/markdown": "'/content/train2_gbm_bike_est36'",
            "text/latex": "'/content/train2\\_gbm\\_bike\\_est36'",
            "text/plain": [
              "[1] \"/content/train2_gbm_bike_est36\""
            ]
          },
          "metadata": {}
        }
      ]
    },
    {
      "cell_type": "code",
      "source": [
        "h2o.saveModel(best_gbm_train_est46,dir,filename=\"train2_gbm_bike_est46\")"
      ],
      "metadata": {
        "id": "5MUgC_nc723m",
        "colab": {
          "base_uri": "https://localhost:8080/",
          "height": 34
        },
        "outputId": "f60cd79a-a757-489c-bb8e-c35e9a47cfe0"
      },
      "execution_count": null,
      "outputs": [
        {
          "output_type": "display_data",
          "data": {
            "text/html": [
              "'/content/train2_gbm_bike_est46'"
            ],
            "text/markdown": "'/content/train2_gbm_bike_est46'",
            "text/latex": "'/content/train2\\_gbm\\_bike\\_est46'",
            "text/plain": [
              "[1] \"/content/train2_gbm_bike_est46\""
            ]
          },
          "metadata": {}
        }
      ]
    },
    {
      "cell_type": "code",
      "source": [
        "h2o.saveModel(best_gbm_train_est47,dir,filename=\"train2_gbm_bike_est47\")"
      ],
      "metadata": {
        "id": "K2OCM1aT73FK",
        "colab": {
          "base_uri": "https://localhost:8080/",
          "height": 34
        },
        "outputId": "969c90a4-bb55-4447-b04c-df10f49642b7"
      },
      "execution_count": null,
      "outputs": [
        {
          "output_type": "display_data",
          "data": {
            "text/html": [
              "'/content/train2_gbm_bike_est47'"
            ],
            "text/markdown": "'/content/train2_gbm_bike_est47'",
            "text/latex": "'/content/train2\\_gbm\\_bike\\_est47'",
            "text/plain": [
              "[1] \"/content/train2_gbm_bike_est47\""
            ]
          },
          "metadata": {}
        }
      ]
    },
    {
      "cell_type": "code",
      "source": [
        "h2o.saveModel(best_gbm_train_est53,dir,filename=\"train2_gbm_bike_est53\")"
      ],
      "metadata": {
        "id": "ld3g3BHA73fV",
        "colab": {
          "base_uri": "https://localhost:8080/",
          "height": 34
        },
        "outputId": "db3435dc-ce07-45a9-ef4c-1f56fbe3e2fe"
      },
      "execution_count": null,
      "outputs": [
        {
          "output_type": "display_data",
          "data": {
            "text/html": [
              "'/content/train2_gbm_bike_est53'"
            ],
            "text/markdown": "'/content/train2_gbm_bike_est53'",
            "text/latex": "'/content/train2\\_gbm\\_bike\\_est53'",
            "text/plain": [
              "[1] \"/content/train2_gbm_bike_est53\""
            ]
          },
          "metadata": {}
        }
      ]
    },
    {
      "cell_type": "code",
      "source": [
        "h2o.saveModel(best_gbm_train_est57,dir,filename=\"train2_gbm_bike_est57\")"
      ],
      "metadata": {
        "id": "bCVWNDot730F",
        "colab": {
          "base_uri": "https://localhost:8080/",
          "height": 34
        },
        "outputId": "c009b0c8-6ad2-48d4-c645-7bef98677ec0"
      },
      "execution_count": null,
      "outputs": [
        {
          "output_type": "display_data",
          "data": {
            "text/html": [
              "'/content/train2_gbm_bike_est57'"
            ],
            "text/markdown": "'/content/train2_gbm_bike_est57'",
            "text/latex": "'/content/train2\\_gbm\\_bike\\_est57'",
            "text/plain": [
              "[1] \"/content/train2_gbm_bike_est57\""
            ]
          },
          "metadata": {}
        }
      ]
    },
    {
      "cell_type": "code",
      "source": [
        "h2o.saveModel(best_gbm_train_est58,dir,filename=\"train2_gbm_bike_est58\")"
      ],
      "metadata": {
        "id": "HiJZq2iz74CG",
        "colab": {
          "base_uri": "https://localhost:8080/",
          "height": 34
        },
        "outputId": "51b0609d-9351-4e4a-9ae5-852bfb5b9655"
      },
      "execution_count": null,
      "outputs": [
        {
          "output_type": "display_data",
          "data": {
            "text/html": [
              "'/content/train2_gbm_bike_est58'"
            ],
            "text/markdown": "'/content/train2_gbm_bike_est58'",
            "text/latex": "'/content/train2\\_gbm\\_bike\\_est58'",
            "text/plain": [
              "[1] \"/content/train2_gbm_bike_est58\""
            ]
          },
          "metadata": {}
        }
      ]
    },
    {
      "cell_type": "code",
      "source": [
        "h2o.saveModel(best_gbm_train_est59,dir,filename=\"train2_gbm_bike_est59\")"
      ],
      "metadata": {
        "id": "vOTDYmxh74dV",
        "colab": {
          "base_uri": "https://localhost:8080/",
          "height": 34
        },
        "outputId": "a7d15c3c-4b04-46a6-fad7-fb86da6a9071"
      },
      "execution_count": null,
      "outputs": [
        {
          "output_type": "display_data",
          "data": {
            "text/html": [
              "'/content/train2_gbm_bike_est59'"
            ],
            "text/markdown": "'/content/train2_gbm_bike_est59'",
            "text/latex": "'/content/train2\\_gbm\\_bike\\_est59'",
            "text/plain": [
              "[1] \"/content/train2_gbm_bike_est59\""
            ]
          },
          "metadata": {}
        }
      ]
    },
    {
      "cell_type": "code",
      "source": [
        "h2o.saveModel(best_gbm_train_est60,dir,filename=\"train2_gbm_bike_est60\")"
      ],
      "metadata": {
        "id": "ph8ggzbX74s2",
        "colab": {
          "base_uri": "https://localhost:8080/",
          "height": 34
        },
        "outputId": "09fe499e-df15-4824-a38e-235e88dc2253"
      },
      "execution_count": null,
      "outputs": [
        {
          "output_type": "display_data",
          "data": {
            "text/html": [
              "'/content/train2_gbm_bike_est60'"
            ],
            "text/markdown": "'/content/train2_gbm_bike_est60'",
            "text/latex": "'/content/train2\\_gbm\\_bike\\_est60'",
            "text/plain": [
              "[1] \"/content/train2_gbm_bike_est60\""
            ]
          },
          "metadata": {}
        }
      ]
    },
    {
      "cell_type": "markdown",
      "source": [
        "## Archivos de los modelos Red Neuronal de las estaciones"
      ],
      "metadata": {
        "id": "XOtgVyK7SdX0"
      }
    },
    {
      "cell_type": "code",
      "source": [
        "h2o.saveModel(best_rn_train_est3,dir,filename=\"train2_rn_bike_est3\")"
      ],
      "metadata": {
        "id": "LDjTQDfMShXL",
        "colab": {
          "base_uri": "https://localhost:8080/",
          "height": 34
        },
        "outputId": "49de607f-bb95-4afd-86f3-685c996cf31e"
      },
      "execution_count": null,
      "outputs": [
        {
          "output_type": "display_data",
          "data": {
            "text/html": [
              "'/content/train2_rn_bike_est3'"
            ],
            "text/markdown": "'/content/train2_rn_bike_est3'",
            "text/latex": "'/content/train2\\_rn\\_bike\\_est3'",
            "text/plain": [
              "[1] \"/content/train2_rn_bike_est3\""
            ]
          },
          "metadata": {}
        }
      ]
    },
    {
      "cell_type": "code",
      "source": [
        "h2o.saveModel(best_rn_train_est6,dir,filename=\"train2_rn_bike_est6\")"
      ],
      "metadata": {
        "id": "YVgM0FlqTLBF",
        "colab": {
          "base_uri": "https://localhost:8080/",
          "height": 34
        },
        "outputId": "c27a18bc-5aea-4526-b7c0-e6e65bc7ef24"
      },
      "execution_count": null,
      "outputs": [
        {
          "output_type": "display_data",
          "data": {
            "text/html": [
              "'/content/train2_rn_bike_est6'"
            ],
            "text/markdown": "'/content/train2_rn_bike_est6'",
            "text/latex": "'/content/train2\\_rn\\_bike\\_est6'",
            "text/plain": [
              "[1] \"/content/train2_rn_bike_est6\""
            ]
          },
          "metadata": {}
        }
      ]
    },
    {
      "cell_type": "code",
      "source": [
        "h2o.saveModel(best_rn_train_est10,dir,filename=\"train2_rn_bike_est10\")"
      ],
      "metadata": {
        "id": "udV9q_NeTMa0",
        "colab": {
          "base_uri": "https://localhost:8080/",
          "height": 34
        },
        "outputId": "7274a49e-045a-45c8-bad2-31d827813b33"
      },
      "execution_count": null,
      "outputs": [
        {
          "output_type": "display_data",
          "data": {
            "text/html": [
              "'/content/train2_rn_bike_est10'"
            ],
            "text/markdown": "'/content/train2_rn_bike_est10'",
            "text/latex": "'/content/train2\\_rn\\_bike\\_est10'",
            "text/plain": [
              "[1] \"/content/train2_rn_bike_est10\""
            ]
          },
          "metadata": {}
        }
      ]
    },
    {
      "cell_type": "code",
      "source": [
        "h2o.saveModel(best_rn_train_est13,dir,filename=\"train2_rn_bike_est13\")"
      ],
      "metadata": {
        "id": "EIOobsPgTM32",
        "colab": {
          "base_uri": "https://localhost:8080/",
          "height": 34
        },
        "outputId": "23777394-bd11-4867-9916-09f2b43e32e4"
      },
      "execution_count": null,
      "outputs": [
        {
          "output_type": "display_data",
          "data": {
            "text/html": [
              "'/content/train2_rn_bike_est13'"
            ],
            "text/markdown": "'/content/train2_rn_bike_est13'",
            "text/latex": "'/content/train2\\_rn\\_bike\\_est13'",
            "text/plain": [
              "[1] \"/content/train2_rn_bike_est13\""
            ]
          },
          "metadata": {}
        }
      ]
    },
    {
      "cell_type": "code",
      "source": [
        "h2o.saveModel(best_rn_train_est19,dir,filename=\"train2_rn_bike_est19\")"
      ],
      "metadata": {
        "id": "C8IutpEXTNTF",
        "colab": {
          "base_uri": "https://localhost:8080/",
          "height": 34
        },
        "outputId": "d9cc1ca6-d956-4f77-c0f8-fd422119bce6"
      },
      "execution_count": null,
      "outputs": [
        {
          "output_type": "display_data",
          "data": {
            "text/html": [
              "'/content/train2_rn_bike_est19'"
            ],
            "text/markdown": "'/content/train2_rn_bike_est19'",
            "text/latex": "'/content/train2\\_rn\\_bike\\_est19'",
            "text/plain": [
              "[1] \"/content/train2_rn_bike_est19\""
            ]
          },
          "metadata": {}
        }
      ]
    },
    {
      "cell_type": "code",
      "source": [
        "h2o.saveModel(best_rn_train_est23,dir,filename=\"train2_rn_bike_est23\")"
      ],
      "metadata": {
        "id": "OTBVgf7STNwE",
        "colab": {
          "base_uri": "https://localhost:8080/",
          "height": 34
        },
        "outputId": "21e3dc17-e50a-4971-a8d7-4993701e22a0"
      },
      "execution_count": null,
      "outputs": [
        {
          "output_type": "display_data",
          "data": {
            "text/html": [
              "'/content/train2_rn_bike_est23'"
            ],
            "text/markdown": "'/content/train2_rn_bike_est23'",
            "text/latex": "'/content/train2\\_rn\\_bike\\_est23'",
            "text/plain": [
              "[1] \"/content/train2_rn_bike_est23\""
            ]
          },
          "metadata": {}
        }
      ]
    },
    {
      "cell_type": "code",
      "source": [
        "h2o.saveModel(best_rn_train_est25,dir,filename=\"train2_rn_bike_est25\")"
      ],
      "metadata": {
        "id": "klpLFHN2TOGN",
        "colab": {
          "base_uri": "https://localhost:8080/",
          "height": 34
        },
        "outputId": "d275dee0-8641-4eb8-a0f0-615c0075d5c8"
      },
      "execution_count": null,
      "outputs": [
        {
          "output_type": "display_data",
          "data": {
            "text/html": [
              "'/content/train2_rn_bike_est25'"
            ],
            "text/markdown": "'/content/train2_rn_bike_est25'",
            "text/latex": "'/content/train2\\_rn\\_bike\\_est25'",
            "text/plain": [
              "[1] \"/content/train2_rn_bike_est25\""
            ]
          },
          "metadata": {}
        }
      ]
    },
    {
      "cell_type": "code",
      "source": [
        "h2o.saveModel(best_rn_train_est26,dir,filename=\"train2_rn_bike_est26\")"
      ],
      "metadata": {
        "id": "Ic86McocTOZ8",
        "colab": {
          "base_uri": "https://localhost:8080/",
          "height": 34
        },
        "outputId": "185983c9-ca39-4369-9469-96666769c1d3"
      },
      "execution_count": null,
      "outputs": [
        {
          "output_type": "display_data",
          "data": {
            "text/html": [
              "'/content/train2_rn_bike_est26'"
            ],
            "text/markdown": "'/content/train2_rn_bike_est26'",
            "text/latex": "'/content/train2\\_rn\\_bike\\_est26'",
            "text/plain": [
              "[1] \"/content/train2_rn_bike_est26\""
            ]
          },
          "metadata": {}
        }
      ]
    },
    {
      "cell_type": "code",
      "source": [
        "h2o.saveModel(best_rn_train_est27,dir,filename=\"train2_rn_bike_est27\")"
      ],
      "metadata": {
        "id": "2JBS7dEOTOzM",
        "colab": {
          "base_uri": "https://localhost:8080/",
          "height": 34
        },
        "outputId": "70a12673-435f-4673-8d68-dfde0924ddd6"
      },
      "execution_count": null,
      "outputs": [
        {
          "output_type": "display_data",
          "data": {
            "text/html": [
              "'/content/train2_rn_bike_est27'"
            ],
            "text/markdown": "'/content/train2_rn_bike_est27'",
            "text/latex": "'/content/train2\\_rn\\_bike\\_est27'",
            "text/plain": [
              "[1] \"/content/train2_rn_bike_est27\""
            ]
          },
          "metadata": {}
        }
      ]
    },
    {
      "cell_type": "code",
      "source": [
        "h2o.saveModel(best_rn_train_est28,dir,filename=\"train2_rn_bike_est28\")"
      ],
      "metadata": {
        "id": "ssV67tieTPH8",
        "colab": {
          "base_uri": "https://localhost:8080/",
          "height": 34
        },
        "outputId": "f6fa7bb3-ac12-4e80-c88c-f6fd71942a6d"
      },
      "execution_count": null,
      "outputs": [
        {
          "output_type": "display_data",
          "data": {
            "text/html": [
              "'/content/train2_rn_bike_est28'"
            ],
            "text/markdown": "'/content/train2_rn_bike_est28'",
            "text/latex": "'/content/train2\\_rn\\_bike\\_est28'",
            "text/plain": [
              "[1] \"/content/train2_rn_bike_est28\""
            ]
          },
          "metadata": {}
        }
      ]
    },
    {
      "cell_type": "code",
      "source": [
        "h2o.saveModel(best_rn_train_est32,dir,filename=\"train2_rn_bike_est32\")"
      ],
      "metadata": {
        "id": "OP6h9_w58nHG",
        "colab": {
          "base_uri": "https://localhost:8080/",
          "height": 34
        },
        "outputId": "1f35b032-cb36-48d4-e827-f2c33ec29a8a"
      },
      "execution_count": null,
      "outputs": [
        {
          "output_type": "display_data",
          "data": {
            "text/html": [
              "'/content/train2_rn_bike_est32'"
            ],
            "text/markdown": "'/content/train2_rn_bike_est32'",
            "text/latex": "'/content/train2\\_rn\\_bike\\_est32'",
            "text/plain": [
              "[1] \"/content/train2_rn_bike_est32\""
            ]
          },
          "metadata": {}
        }
      ]
    },
    {
      "cell_type": "code",
      "source": [
        "h2o.saveModel(best_rn_train_est33,dir,filename=\"train2_rn_bike_est33\")"
      ],
      "metadata": {
        "id": "813q7P6j8nb-",
        "colab": {
          "base_uri": "https://localhost:8080/",
          "height": 34
        },
        "outputId": "2eab0d22-f17a-41f9-f97d-b8bda26e86fb"
      },
      "execution_count": null,
      "outputs": [
        {
          "output_type": "display_data",
          "data": {
            "text/html": [
              "'/content/train2_rn_bike_est33'"
            ],
            "text/markdown": "'/content/train2_rn_bike_est33'",
            "text/latex": "'/content/train2\\_rn\\_bike\\_est33'",
            "text/plain": [
              "[1] \"/content/train2_rn_bike_est33\""
            ]
          },
          "metadata": {}
        }
      ]
    },
    {
      "cell_type": "code",
      "source": [
        "h2o.saveModel(best_rn_train_est36,dir,filename=\"train2_rn_bike_est36\")"
      ],
      "metadata": {
        "id": "USpQRLLO8n8F",
        "colab": {
          "base_uri": "https://localhost:8080/",
          "height": 34
        },
        "outputId": "d322af9d-3e76-428a-c7d9-878cf494ff32"
      },
      "execution_count": null,
      "outputs": [
        {
          "output_type": "display_data",
          "data": {
            "text/html": [
              "'/content/train2_rn_bike_est36'"
            ],
            "text/markdown": "'/content/train2_rn_bike_est36'",
            "text/latex": "'/content/train2\\_rn\\_bike\\_est36'",
            "text/plain": [
              "[1] \"/content/train2_rn_bike_est36\""
            ]
          },
          "metadata": {}
        }
      ]
    },
    {
      "cell_type": "code",
      "source": [
        "h2o.saveModel(best_rn_train_est46,dir,filename=\"train2_rn_bike_est46\")"
      ],
      "metadata": {
        "id": "DLnWvj-l8oOn",
        "colab": {
          "base_uri": "https://localhost:8080/",
          "height": 34
        },
        "outputId": "774b8261-da8d-4f43-9eba-6d0900f93b24"
      },
      "execution_count": null,
      "outputs": [
        {
          "output_type": "display_data",
          "data": {
            "text/html": [
              "'/content/train2_rn_bike_est46'"
            ],
            "text/markdown": "'/content/train2_rn_bike_est46'",
            "text/latex": "'/content/train2\\_rn\\_bike\\_est46'",
            "text/plain": [
              "[1] \"/content/train2_rn_bike_est46\""
            ]
          },
          "metadata": {}
        }
      ]
    },
    {
      "cell_type": "code",
      "source": [
        "h2o.saveModel(best_rn_train_est47,dir,filename=\"train2_rn_bike_est47\")"
      ],
      "metadata": {
        "id": "oZA1Bxt08olV",
        "colab": {
          "base_uri": "https://localhost:8080/",
          "height": 34
        },
        "outputId": "f7b8a929-c4c0-4039-eb5c-fd978b3d5391"
      },
      "execution_count": null,
      "outputs": [
        {
          "output_type": "display_data",
          "data": {
            "text/html": [
              "'/content/train2_rn_bike_est47'"
            ],
            "text/markdown": "'/content/train2_rn_bike_est47'",
            "text/latex": "'/content/train2\\_rn\\_bike\\_est47'",
            "text/plain": [
              "[1] \"/content/train2_rn_bike_est47\""
            ]
          },
          "metadata": {}
        }
      ]
    },
    {
      "cell_type": "code",
      "source": [
        "h2o.saveModel(best_rn_train_est53,dir,filename=\"train2_rn_bike_est53\")"
      ],
      "metadata": {
        "id": "rV5JE4ZL8o5g",
        "colab": {
          "base_uri": "https://localhost:8080/",
          "height": 34
        },
        "outputId": "c651d9cd-b845-41d3-e34c-8b489437e8ff"
      },
      "execution_count": null,
      "outputs": [
        {
          "output_type": "display_data",
          "data": {
            "text/html": [
              "'/content/train2_rn_bike_est53'"
            ],
            "text/markdown": "'/content/train2_rn_bike_est53'",
            "text/latex": "'/content/train2\\_rn\\_bike\\_est53'",
            "text/plain": [
              "[1] \"/content/train2_rn_bike_est53\""
            ]
          },
          "metadata": {}
        }
      ]
    },
    {
      "cell_type": "code",
      "source": [
        "h2o.saveModel(best_rn_train_est57,dir,filename=\"train2_rn_bike_est57\")"
      ],
      "metadata": {
        "id": "GalZDxn68pKH",
        "colab": {
          "base_uri": "https://localhost:8080/",
          "height": 34
        },
        "outputId": "2b0d57b8-c5e0-4c7a-8bc0-3148e8f84eef"
      },
      "execution_count": null,
      "outputs": [
        {
          "output_type": "display_data",
          "data": {
            "text/html": [
              "'/content/train2_rn_bike_est57'"
            ],
            "text/markdown": "'/content/train2_rn_bike_est57'",
            "text/latex": "'/content/train2\\_rn\\_bike\\_est57'",
            "text/plain": [
              "[1] \"/content/train2_rn_bike_est57\""
            ]
          },
          "metadata": {}
        }
      ]
    },
    {
      "cell_type": "code",
      "source": [
        "h2o.saveModel(best_rn_train_est58,dir,filename=\"train2_rn_bike_est58\")"
      ],
      "metadata": {
        "id": "dNx-zTbT8pn9",
        "colab": {
          "base_uri": "https://localhost:8080/",
          "height": 34
        },
        "outputId": "4a9fb936-d74a-44a1-c814-304026cfbd2b"
      },
      "execution_count": null,
      "outputs": [
        {
          "output_type": "display_data",
          "data": {
            "text/html": [
              "'/content/train2_rn_bike_est58'"
            ],
            "text/markdown": "'/content/train2_rn_bike_est58'",
            "text/latex": "'/content/train2\\_rn\\_bike\\_est58'",
            "text/plain": [
              "[1] \"/content/train2_rn_bike_est58\""
            ]
          },
          "metadata": {}
        }
      ]
    },
    {
      "cell_type": "code",
      "source": [
        "h2o.saveModel(best_rn_train_est59,dir,filename=\"train2_rn_bike_est59\")"
      ],
      "metadata": {
        "id": "c5P19Trf8p7O",
        "colab": {
          "base_uri": "https://localhost:8080/",
          "height": 34
        },
        "outputId": "1bc80ae8-ed75-40f2-9b2b-1b968e526e62"
      },
      "execution_count": null,
      "outputs": [
        {
          "output_type": "display_data",
          "data": {
            "text/html": [
              "'/content/train2_rn_bike_est59'"
            ],
            "text/markdown": "'/content/train2_rn_bike_est59'",
            "text/latex": "'/content/train2\\_rn\\_bike\\_est59'",
            "text/plain": [
              "[1] \"/content/train2_rn_bike_est59\""
            ]
          },
          "metadata": {}
        }
      ]
    },
    {
      "cell_type": "code",
      "source": [
        "h2o.saveModel(best_rn_train_est60,dir,filename=\"train2_rn_bike_est60\")"
      ],
      "metadata": {
        "id": "SNzcdnja8qOH",
        "colab": {
          "base_uri": "https://localhost:8080/",
          "height": 34
        },
        "outputId": "2457575c-1c4b-44bf-8229-6d3a9aee7de5"
      },
      "execution_count": null,
      "outputs": [
        {
          "output_type": "display_data",
          "data": {
            "text/html": [
              "'/content/train2_rn_bike_est60'"
            ],
            "text/markdown": "'/content/train2_rn_bike_est60'",
            "text/latex": "'/content/train2\\_rn\\_bike\\_est60'",
            "text/plain": [
              "[1] \"/content/train2_rn_bike_est60\""
            ]
          },
          "metadata": {}
        }
      ]
    },
    {
      "cell_type": "markdown",
      "source": [
        "# Predicciónes con los modelos"
      ],
      "metadata": {
        "id": "RTbnfttbz48X"
      }
    },
    {
      "cell_type": "markdown",
      "source": [
        "## Carga de los modelos generados por estaciones"
      ],
      "metadata": {
        "id": "M5sINoTo0EVU"
      }
    },
    {
      "cell_type": "markdown",
      "source": [
        "### Carga de los modelos generados por GBM"
      ],
      "metadata": {
        "id": "VBNc_X3Z0I1y"
      }
    },
    {
      "cell_type": "code",
      "source": [
        "train_gbm_model_bike_est3<-h2o.loadModel(\"/content/train2_gbm_bike_est3\")"
      ],
      "metadata": {
        "id": "YcHJCdA10OVs"
      },
      "execution_count": null,
      "outputs": []
    },
    {
      "cell_type": "code",
      "source": [
        "train_gbm_model_bike_est6<-h2o.loadModel(\"/content/train2_gbm_bike_est6\")"
      ],
      "metadata": {
        "id": "1NaXBjy80a70"
      },
      "execution_count": null,
      "outputs": []
    },
    {
      "cell_type": "code",
      "source": [
        "train_gbm_model_bike_est10<-h2o.loadModel(\"/content/train2_gbm_bike_est10\")"
      ],
      "metadata": {
        "id": "mN_FpJxZ0hBc"
      },
      "execution_count": null,
      "outputs": []
    },
    {
      "cell_type": "code",
      "source": [
        "train_gbm_model_bike_est13<-h2o.loadModel(\"/content/train2_gbm_bike_est13\")"
      ],
      "metadata": {
        "id": "nK3ODX-H0hlU"
      },
      "execution_count": null,
      "outputs": []
    },
    {
      "cell_type": "code",
      "source": [
        "train_gbm_model_bike_est19<-h2o.loadModel(\"/content/train2_gbm_bike_est19\")"
      ],
      "metadata": {
        "id": "utvaw-Zc0iNs"
      },
      "execution_count": null,
      "outputs": []
    },
    {
      "cell_type": "code",
      "source": [
        "train_gbm_model_bike_est23<-h2o.loadModel(\"/content/train2_gbm_bike_est23\")"
      ],
      "metadata": {
        "id": "CduqywUc0i5d"
      },
      "execution_count": null,
      "outputs": []
    },
    {
      "cell_type": "code",
      "source": [
        "train_gbm_model_bike_est25<-h2o.loadModel(\"/content/train2_gbm_bike_est25\")"
      ],
      "metadata": {
        "id": "XgX28zhS0jmb"
      },
      "execution_count": null,
      "outputs": []
    },
    {
      "cell_type": "code",
      "source": [
        "train_gbm_model_bike_est26<-h2o.loadModel(\"/content/train2_gbm_bike_est26\")"
      ],
      "metadata": {
        "id": "h6or8z4J0kBE"
      },
      "execution_count": null,
      "outputs": []
    },
    {
      "cell_type": "code",
      "source": [
        "train_gbm_model_bike_est27<-h2o.loadModel(\"/content/train2_gbm_bike_est27\")"
      ],
      "metadata": {
        "id": "NbjfEiuM0kaE"
      },
      "execution_count": null,
      "outputs": []
    },
    {
      "cell_type": "code",
      "source": [
        "train_gbm_model_bike_est28<-h2o.loadModel(\"/content/train2_gbm_bike_est28\")"
      ],
      "metadata": {
        "id": "QjYUxI0v0k09"
      },
      "execution_count": null,
      "outputs": []
    },
    {
      "cell_type": "code",
      "source": [
        "train_gbm_model_bike_est32<-h2o.loadModel(\"/content/train2_gbm_bike_est32\")"
      ],
      "metadata": {
        "id": "rlTWu_usAIYh"
      },
      "execution_count": null,
      "outputs": []
    },
    {
      "cell_type": "code",
      "source": [
        "train_gbm_model_bike_est33<-h2o.loadModel(\"/content/train2_gbm_bike_est33\")"
      ],
      "metadata": {
        "id": "XeOzIP8aAIxX"
      },
      "execution_count": null,
      "outputs": []
    },
    {
      "cell_type": "code",
      "source": [
        "train_gbm_model_bike_est36<-h2o.loadModel(\"/content/train2_gbm_bike_est36\")"
      ],
      "metadata": {
        "id": "Tu29G7iGAJHU"
      },
      "execution_count": null,
      "outputs": []
    },
    {
      "cell_type": "code",
      "source": [
        "train_gbm_model_bike_est46<-h2o.loadModel(\"/content/train2_gbm_bike_est46\")"
      ],
      "metadata": {
        "id": "bS59dmqzAJc9"
      },
      "execution_count": null,
      "outputs": []
    },
    {
      "cell_type": "code",
      "source": [
        "train_gbm_model_bike_est47<-h2o.loadModel(\"/content/train2_gbm_bike_est47\")"
      ],
      "metadata": {
        "id": "MN6IvRo6AKBA"
      },
      "execution_count": null,
      "outputs": []
    },
    {
      "cell_type": "code",
      "source": [
        "train_gbm_model_bike_est53<-h2o.loadModel(\"/content/train2_gbm_bike_est53\")"
      ],
      "metadata": {
        "id": "vnlNfzESAKZ8"
      },
      "execution_count": null,
      "outputs": []
    },
    {
      "cell_type": "code",
      "source": [
        "train_gbm_model_bike_est57<-h2o.loadModel(\"/content/train2_gbm_bike_est57\")"
      ],
      "metadata": {
        "id": "_UCX7tQcAKxm"
      },
      "execution_count": null,
      "outputs": []
    },
    {
      "cell_type": "code",
      "source": [
        "train_gbm_model_bike_est58<-h2o.loadModel(\"/content/train2_gbm_bike_est58\")"
      ],
      "metadata": {
        "id": "Ejg5PlZkALOm"
      },
      "execution_count": null,
      "outputs": []
    },
    {
      "cell_type": "code",
      "source": [
        "train_gbm_model_bike_est59<-h2o.loadModel(\"/content/train2_gbm_bike_est59\")"
      ],
      "metadata": {
        "id": "lA46k-A0ALsm"
      },
      "execution_count": null,
      "outputs": []
    },
    {
      "cell_type": "code",
      "source": [
        "train_gbm_model_bike_est60<-h2o.loadModel(\"/content/train2_gbm_bike_est60\")"
      ],
      "metadata": {
        "id": "4nlqBMF6AMAX"
      },
      "execution_count": null,
      "outputs": []
    },
    {
      "cell_type": "markdown",
      "source": [
        "### Carga de modelos generados por Red Neuronal"
      ],
      "metadata": {
        "id": "MY6AENZm1FF8"
      }
    },
    {
      "cell_type": "code",
      "source": [
        "train_rn_model_bike_est3<-h2o.loadModel(\"/content/train2_rn_bike_est3\")"
      ],
      "metadata": {
        "id": "KlQjc2BM1KG-"
      },
      "execution_count": null,
      "outputs": []
    },
    {
      "cell_type": "code",
      "source": [
        "train_rn_model_bike_est6<-h2o.loadModel(\"/content/train2_rn_bike_est6\")"
      ],
      "metadata": {
        "id": "Hxjl7iJH1eRk"
      },
      "execution_count": null,
      "outputs": []
    },
    {
      "cell_type": "code",
      "source": [
        "train_rn_model_bike_est10<-h2o.loadModel(\"/content/train2_rn_bike_est10\")"
      ],
      "metadata": {
        "id": "3GZbZMSH1fsD"
      },
      "execution_count": null,
      "outputs": []
    },
    {
      "cell_type": "code",
      "source": [
        "train_rn_model_bike_est13<-h2o.loadModel(\"/content/train2_rn_bike_est13\")"
      ],
      "metadata": {
        "id": "lR5PExmx1gRj"
      },
      "execution_count": null,
      "outputs": []
    },
    {
      "cell_type": "code",
      "source": [
        "train_rn_model_bike_est19<-h2o.loadModel(\"/content/train2_rn_bike_est19\")"
      ],
      "metadata": {
        "id": "IqcwVCMW1g3z"
      },
      "execution_count": null,
      "outputs": []
    },
    {
      "cell_type": "code",
      "source": [
        "train_rn_model_bike_est23<-h2o.loadModel(\"/content/train2_rn_bike_est23\")"
      ],
      "metadata": {
        "id": "fFe8hcib1hbM"
      },
      "execution_count": null,
      "outputs": []
    },
    {
      "cell_type": "code",
      "source": [
        "train_rn_model_bike_est25<-h2o.loadModel(\"/content/train2_rn_bike_est25\")"
      ],
      "metadata": {
        "id": "OTSJ-7Rm1h5b"
      },
      "execution_count": null,
      "outputs": []
    },
    {
      "cell_type": "code",
      "source": [
        "train_rn_model_bike_est26<-h2o.loadModel(\"/content/train2_rn_bike_est26\")"
      ],
      "metadata": {
        "id": "BSL-rw6N1ia8"
      },
      "execution_count": null,
      "outputs": []
    },
    {
      "cell_type": "code",
      "source": [
        "train_rn_model_bike_est27<-h2o.loadModel(\"/content/train2_rn_bike_est27\")"
      ],
      "metadata": {
        "id": "jiy5JHmT1izs"
      },
      "execution_count": null,
      "outputs": []
    },
    {
      "cell_type": "code",
      "source": [
        "train_rn_model_bike_est28<-h2o.loadModel(\"/content/train2_rn_bike_est28\")"
      ],
      "metadata": {
        "id": "nWzTCYWJ1jXz"
      },
      "execution_count": null,
      "outputs": []
    },
    {
      "cell_type": "code",
      "source": [
        "train_rn_model_bike_est32<-h2o.loadModel(\"/content/train2_rn_bike_est32\")"
      ],
      "metadata": {
        "id": "MxF58hCaBBce"
      },
      "execution_count": null,
      "outputs": []
    },
    {
      "cell_type": "code",
      "source": [
        "train_rn_model_bike_est33<-h2o.loadModel(\"/content/train2_rn_bike_est33\")"
      ],
      "metadata": {
        "id": "c_tDNpcKBBxQ"
      },
      "execution_count": null,
      "outputs": []
    },
    {
      "cell_type": "code",
      "source": [
        "train_rn_model_bike_est36<-h2o.loadModel(\"/content/train2_rn_bike_est36\")"
      ],
      "metadata": {
        "id": "CPXQIaSABCAM"
      },
      "execution_count": null,
      "outputs": []
    },
    {
      "cell_type": "code",
      "source": [
        "train_rn_model_bike_est46<-h2o.loadModel(\"/content/train2_rn_bike_est46\")"
      ],
      "metadata": {
        "id": "dCx_3JGFBCT2"
      },
      "execution_count": null,
      "outputs": []
    },
    {
      "cell_type": "code",
      "source": [
        "train_rn_model_bike_est47<-h2o.loadModel(\"/content/train2_rn_bike_est47\")"
      ],
      "metadata": {
        "id": "4aRg-GS6BCju"
      },
      "execution_count": null,
      "outputs": []
    },
    {
      "cell_type": "code",
      "source": [
        "train_rn_model_bike_est53<-h2o.loadModel(\"/content/train2_rn_bike_est53\")"
      ],
      "metadata": {
        "id": "z0cHVlwjBC5c"
      },
      "execution_count": null,
      "outputs": []
    },
    {
      "cell_type": "code",
      "source": [
        "train_rn_model_bike_est57<-h2o.loadModel(\"/content/train2_rn_bike_est57\")"
      ],
      "metadata": {
        "id": "7aoRXx5VBDKP"
      },
      "execution_count": null,
      "outputs": []
    },
    {
      "cell_type": "code",
      "source": [
        "train_rn_model_bike_est58<-h2o.loadModel(\"/content/train2_rn_bike_est58\")"
      ],
      "metadata": {
        "id": "_5IFurLpBDgd"
      },
      "execution_count": null,
      "outputs": []
    },
    {
      "cell_type": "code",
      "source": [
        "train_rn_model_bike_est59<-h2o.loadModel(\"/content/train2_rn_bike_est59\")"
      ],
      "metadata": {
        "id": "P8l0qjzABD29"
      },
      "execution_count": null,
      "outputs": []
    },
    {
      "cell_type": "code",
      "source": [
        "train_rn_model_bike_est60<-h2o.loadModel(\"/content/train2_rn_bike_est60\")"
      ],
      "metadata": {
        "id": "mqCf5c0ZBEPC"
      },
      "execution_count": null,
      "outputs": []
    },
    {
      "cell_type": "markdown",
      "source": [
        "## Predicciónes usando train hasta la 3era semana"
      ],
      "metadata": {
        "id": "f2-jfLib2Kku"
      }
    },
    {
      "cell_type": "markdown",
      "source": [
        "### Predicciónes usando GBM"
      ],
      "metadata": {
        "id": "SxDeQAHW2Sp9"
      }
    },
    {
      "cell_type": "code",
      "source": [
        "predic_train_bike_gbm_est3<-h2o.predict(train_gbm_model_bike_est3,valid_h2o)\n",
        "predic_train_bike_gbm_est3<-as.data.frame(predic_train_bike_gbm_est3)\n",
        "vec_gbm_est3<-vector(mode = \"numeric\",length = 45)+0\n",
        "vec_gbm_est3<-as.data.frame(vec_gbm_est3)\n",
        "data_vec_gbm_est3<-vec_gbm_est3\n",
        "colnames(data_vec_gbm_est3)<-colnames(predic_train_bike_gbm_est3)\n",
        "predic_bike_gbm_est3<-rbind(data_vec_gbm_est3,predic_train_bike_gbm_est3)\n",
        "predic_bike_gbm_est3<-round(predic_bike_gbm_est3,0)"
      ],
      "metadata": {
        "id": "tW_aZCwH2h1j",
        "colab": {
          "base_uri": "https://localhost:8080/"
        },
        "outputId": "5ad4d43e-55f1-42c1-9649-39a295f0c040"
      },
      "execution_count": null,
      "outputs": [
        {
          "output_type": "stream",
          "name": "stdout",
          "text": [
            "  |======================================================================| 100%\n"
          ]
        }
      ]
    },
    {
      "cell_type": "code",
      "source": [
        "predic_train_bike_gbm_est6<-h2o.predict(train_gbm_model_bike_est6,valid_h2o)\n",
        "predic_train_bike_gbm_est6<-as.data.frame(predic_train_bike_gbm_est6)\n",
        "vec_gbm_est6<-vector(mode = \"numeric\",length = 45)+0\n",
        "vec_gbm_est6<-as.data.frame(vec_gbm_est6)\n",
        "data_vec_gbm_est6<-vec_gbm_est6\n",
        "colnames(data_vec_gbm_est6)<-colnames(predic_train_bike_gbm_est6)\n",
        "predic_bike_gbm_est6<-rbind(data_vec_gbm_est6,predic_train_bike_gbm_est6)\n",
        "predic_bike_gbm_est6<-round(predic_bike_gbm_est6,0)"
      ],
      "metadata": {
        "id": "KxwihFd12mI0",
        "colab": {
          "base_uri": "https://localhost:8080/"
        },
        "outputId": "2f7b3bfe-d83f-42af-e1e4-cc29f41446a4"
      },
      "execution_count": null,
      "outputs": [
        {
          "output_type": "stream",
          "name": "stdout",
          "text": [
            "  |======================================================================| 100%\n"
          ]
        }
      ]
    },
    {
      "cell_type": "code",
      "source": [
        "predic_train_bike_gbm_est10<-h2o.predict(train_gbm_model_bike_est10,valid_h2o)\n",
        "predic_train_bike_gbm_est10<-as.data.frame(predic_train_bike_gbm_est10)\n",
        "vec_gbm_est10<-vector(mode = \"numeric\",length = 45)+0\n",
        "vec_gbm_est10<-as.data.frame(vec_gbm_est10)\n",
        "data_vec_gbm_est10<-vec_gbm_est10\n",
        "colnames(data_vec_gbm_est10)<-colnames(predic_train_bike_gbm_est10)\n",
        "predic_bike_gbm_est10<-rbind(data_vec_gbm_est10,predic_train_bike_gbm_est10)\n",
        "predic_bike_gbm_est10<-round(predic_bike_gbm_est10,0)"
      ],
      "metadata": {
        "id": "Jrd55dJY2pxz",
        "colab": {
          "base_uri": "https://localhost:8080/"
        },
        "outputId": "fe7a6868-d912-4f40-cb0a-6bc30613d644"
      },
      "execution_count": null,
      "outputs": [
        {
          "output_type": "stream",
          "name": "stdout",
          "text": [
            "  |======================================================================| 100%\n"
          ]
        }
      ]
    },
    {
      "cell_type": "code",
      "source": [
        "predic_train_bike_gbm_est13<-h2o.predict(train_gbm_model_bike_est13,valid_h2o)\n",
        "predic_train_bike_gbm_est13<-as.data.frame(predic_train_bike_gbm_est13)\n",
        "vec_gbm_est13<-vector(mode = \"numeric\",length = 45)+0\n",
        "vec_gbm_est13<-as.data.frame(vec_gbm_est13)\n",
        "data_vec_gbm_est13<-vec_gbm_est13\n",
        "colnames(data_vec_gbm_est13)<-colnames(predic_train_bike_gbm_est13)\n",
        "predic_bike_gbm_est13<-rbind(data_vec_gbm_est13,predic_train_bike_gbm_est13)\n",
        "predic_bike_gbm_est13<-round(predic_bike_gbm_est13,0)"
      ],
      "metadata": {
        "id": "Eq3KZwCY2tF7",
        "colab": {
          "base_uri": "https://localhost:8080/"
        },
        "outputId": "18ff3b09-9c6d-438c-82fd-e71c0a978382"
      },
      "execution_count": null,
      "outputs": [
        {
          "output_type": "stream",
          "name": "stdout",
          "text": [
            "  |======================================================================| 100%\n"
          ]
        }
      ]
    },
    {
      "cell_type": "code",
      "source": [
        "predic_train_bike_gbm_est19<-h2o.predict(train_gbm_model_bike_est19,valid_h2o)\n",
        "predic_train_bike_gbm_est19<-as.data.frame(predic_train_bike_gbm_est19)\n",
        "vec_gbm_est19<-vector(mode = \"numeric\",length = 45)+0\n",
        "vec_gbm_est19<-as.data.frame(vec_gbm_est19)\n",
        "data_vec_gbm_est19<-vec_gbm_est19\n",
        "colnames(data_vec_gbm_est19)<-colnames(predic_train_bike_gbm_est19)\n",
        "predic_bike_gbm_est19<-rbind(data_vec_gbm_est19,predic_train_bike_gbm_est19)\n",
        "predic_bike_gbm_est19<-round(predic_bike_gbm_est19,0)"
      ],
      "metadata": {
        "id": "24mSsrhd2vrE",
        "colab": {
          "base_uri": "https://localhost:8080/"
        },
        "outputId": "a9c6f066-0539-406c-c5da-d64f4b4932b9"
      },
      "execution_count": null,
      "outputs": [
        {
          "output_type": "stream",
          "name": "stdout",
          "text": [
            "  |======================================================================| 100%\n"
          ]
        }
      ]
    },
    {
      "cell_type": "code",
      "source": [
        "predic_train_bike_gbm_est23<-h2o.predict(train_gbm_model_bike_est23,valid_h2o)\n",
        "predic_train_bike_gbm_est23<-as.data.frame(predic_train_bike_gbm_est23)\n",
        "vec_gbm_est23<-vector(mode = \"numeric\",length = 45)+0\n",
        "vec_gbm_est23<-as.data.frame(vec_gbm_est23)\n",
        "data_vec_gbm_est23<-vec_gbm_est23\n",
        "colnames(data_vec_gbm_est23)<-colnames(predic_train_bike_gbm_est23)\n",
        "predic_bike_gbm_est23<-rbind(data_vec_gbm_est23,predic_train_bike_gbm_est23)\n",
        "predic_bike_gbm_est23<-round(predic_bike_gbm_est23,0)"
      ],
      "metadata": {
        "id": "yhW_RK9A26_G",
        "colab": {
          "base_uri": "https://localhost:8080/"
        },
        "outputId": "444a5739-4535-4a2a-d05f-11272b37eb5f"
      },
      "execution_count": null,
      "outputs": [
        {
          "output_type": "stream",
          "name": "stdout",
          "text": [
            "  |======================================================================| 100%\n"
          ]
        }
      ]
    },
    {
      "cell_type": "code",
      "source": [
        "predic_train_bike_gbm_est25<-h2o.predict(train_gbm_model_bike_est25,valid_h2o)\n",
        "predic_train_bike_gbm_est25<-as.data.frame(predic_train_bike_gbm_est25)\n",
        "vec_gbm_est25<-vector(mode = \"numeric\",length = 45)+0\n",
        "vec_gbm_est25<-as.data.frame(vec_gbm_est25)\n",
        "data_vec_gbm_est25<-vec_gbm_est25\n",
        "colnames(data_vec_gbm_est25)<-colnames(predic_train_bike_gbm_est25)\n",
        "predic_bike_gbm_est25<-rbind(data_vec_gbm_est25,predic_train_bike_gbm_est25)\n",
        "predic_bike_gbm_est25<-round(predic_bike_gbm_est25,0)"
      ],
      "metadata": {
        "id": "EJaQRvra2987",
        "colab": {
          "base_uri": "https://localhost:8080/"
        },
        "outputId": "6008531b-b3fa-4aba-af79-63ec36df01ca"
      },
      "execution_count": null,
      "outputs": [
        {
          "output_type": "stream",
          "name": "stdout",
          "text": [
            "  |======================================================================| 100%\n"
          ]
        }
      ]
    },
    {
      "cell_type": "code",
      "source": [
        "predic_train_bike_gbm_est26<-h2o.predict(train_gbm_model_bike_est26,valid_h2o)\n",
        "predic_train_bike_gbm_est26<-as.data.frame(predic_train_bike_gbm_est26)\n",
        "vec_gbm_est26<-vector(mode = \"numeric\",length = 45)+0\n",
        "vec_gbm_est26<-as.data.frame(vec_gbm_est26)\n",
        "data_vec_gbm_est26<-vec_gbm_est26\n",
        "colnames(data_vec_gbm_est26)<-colnames(predic_train_bike_gbm_est26)\n",
        "predic_bike_gbm_est26<-rbind(data_vec_gbm_est26,predic_train_bike_gbm_est26)\n",
        "predic_bike_gbm_est26<-round(predic_bike_gbm_est26,0)"
      ],
      "metadata": {
        "id": "suJqJms23A0j",
        "colab": {
          "base_uri": "https://localhost:8080/"
        },
        "outputId": "10176abc-6fb4-4e12-aa0e-7dc13aa5b31d"
      },
      "execution_count": null,
      "outputs": [
        {
          "output_type": "stream",
          "name": "stdout",
          "text": [
            "  |======================================================================| 100%\n"
          ]
        }
      ]
    },
    {
      "cell_type": "code",
      "source": [
        "predic_train_bike_gbm_est27<-h2o.predict(train_gbm_model_bike_est27,valid_h2o)\n",
        "predic_train_bike_gbm_est27<-as.data.frame(predic_train_bike_gbm_est27)\n",
        "vec_gbm_est27<-vector(mode = \"numeric\",length = 45)+0\n",
        "vec_gbm_est27<-as.data.frame(vec_gbm_est27)\n",
        "data_vec_gbm_est27<-vec_gbm_est27\n",
        "colnames(data_vec_gbm_est27)<-colnames(predic_train_bike_gbm_est27)\n",
        "predic_bike_gbm_est27<-rbind(data_vec_gbm_est27,predic_train_bike_gbm_est27)\n",
        "predic_bike_gbm_est27<-round(predic_bike_gbm_est27,0)"
      ],
      "metadata": {
        "id": "5bCSnXcs3DV7",
        "colab": {
          "base_uri": "https://localhost:8080/"
        },
        "outputId": "f75b3d4f-7996-444f-9fc6-d8445d4e6c5a"
      },
      "execution_count": null,
      "outputs": [
        {
          "output_type": "stream",
          "name": "stdout",
          "text": [
            "  |======================================================================| 100%\n"
          ]
        }
      ]
    },
    {
      "cell_type": "code",
      "source": [
        "predic_train_bike_gbm_est28<-h2o.predict(train_gbm_model_bike_est28,valid_h2o)\n",
        "predic_train_bike_gbm_est28<-as.data.frame(predic_train_bike_gbm_est28)\n",
        "vec_gbm_est28<-vector(mode = \"numeric\",length = 45)+0\n",
        "vec_gbm_est28<-as.data.frame(vec_gbm_est28)\n",
        "data_vec_gbm_est28<-vec_gbm_est28\n",
        "colnames(data_vec_gbm_est28)<-colnames(predic_train_bike_gbm_est28)\n",
        "predic_bike_gbm_est28<-rbind(data_vec_gbm_est28,predic_train_bike_gbm_est28)\n",
        "predic_bike_gbm_est28<-round(predic_bike_gbm_est28,0)"
      ],
      "metadata": {
        "id": "MXED2ypy3H8U",
        "colab": {
          "base_uri": "https://localhost:8080/"
        },
        "outputId": "bce180a6-80c5-43b5-fe8b-53438ebe6ab4"
      },
      "execution_count": null,
      "outputs": [
        {
          "output_type": "stream",
          "name": "stdout",
          "text": [
            "  |======================================================================| 100%\n"
          ]
        }
      ]
    },
    {
      "cell_type": "code",
      "source": [
        "predic_train_bike_gbm_est32<-h2o.predict(train_gbm_model_bike_est32,valid_h2o)\n",
        "predic_train_bike_gbm_est32<-as.data.frame(predic_train_bike_gbm_est32)\n",
        "vec_gbm_est32<-vector(mode = \"numeric\",length = 45)+0\n",
        "vec_gbm_est32<-as.data.frame(vec_gbm_est32)\n",
        "data_vec_gbm_est32<-vec_gbm_est32\n",
        "colnames(data_vec_gbm_est32)<-colnames(predic_train_bike_gbm_est32)\n",
        "predic_bike_gbm_est32<-rbind(data_vec_gbm_est32,predic_train_bike_gbm_est32)\n",
        "predic_bike_gbm_est32<-round(predic_bike_gbm_est32,0)"
      ],
      "metadata": {
        "id": "sSLw4yKZFm62",
        "colab": {
          "base_uri": "https://localhost:8080/"
        },
        "outputId": "66107707-cc5e-4c2f-e1f5-1aefee7e8dea"
      },
      "execution_count": null,
      "outputs": [
        {
          "output_type": "stream",
          "name": "stdout",
          "text": [
            "  |======================================================================| 100%\n"
          ]
        }
      ]
    },
    {
      "cell_type": "code",
      "source": [
        "predic_train_bike_gbm_est33<-h2o.predict(train_gbm_model_bike_est33,valid_h2o)\n",
        "predic_train_bike_gbm_est33<-as.data.frame(predic_train_bike_gbm_est33)\n",
        "vec_gbm_est33<-vector(mode = \"numeric\",length = 45)+0\n",
        "vec_gbm_est33<-as.data.frame(vec_gbm_est33)\n",
        "data_vec_gbm_est33<-vec_gbm_est33\n",
        "colnames(data_vec_gbm_est33)<-colnames(predic_train_bike_gbm_est33)\n",
        "predic_bike_gbm_est33<-rbind(data_vec_gbm_est33,predic_train_bike_gbm_est33)\n",
        "predic_bike_gbm_est33<-round(predic_bike_gbm_est33,0)"
      ],
      "metadata": {
        "id": "UPi4QwDqFnN9",
        "colab": {
          "base_uri": "https://localhost:8080/"
        },
        "outputId": "ef0f9e35-d1e7-4877-989d-d467d6361484"
      },
      "execution_count": null,
      "outputs": [
        {
          "output_type": "stream",
          "name": "stdout",
          "text": [
            "  |======================================================================| 100%\n"
          ]
        }
      ]
    },
    {
      "cell_type": "code",
      "source": [
        "predic_train_bike_gbm_est36<-h2o.predict(train_gbm_model_bike_est36,valid_h2o)\n",
        "predic_train_bike_gbm_est36<-as.data.frame(predic_train_bike_gbm_est36)\n",
        "vec_gbm_est36<-vector(mode = \"numeric\",length = 45)+0\n",
        "vec_gbm_est36<-as.data.frame(vec_gbm_est36)\n",
        "data_vec_gbm_est36<-vec_gbm_est36\n",
        "colnames(data_vec_gbm_est36)<-colnames(predic_train_bike_gbm_est36)\n",
        "predic_bike_gbm_est36<-rbind(data_vec_gbm_est36,predic_train_bike_gbm_est36)\n",
        "predic_bike_gbm_est36<-round(predic_bike_gbm_est36,0)"
      ],
      "metadata": {
        "id": "XAB_TbTsFnmT",
        "colab": {
          "base_uri": "https://localhost:8080/"
        },
        "outputId": "efb7b8f5-a099-4181-b653-1b462d1f1035"
      },
      "execution_count": null,
      "outputs": [
        {
          "output_type": "stream",
          "name": "stdout",
          "text": [
            "  |======================================================================| 100%\n"
          ]
        }
      ]
    },
    {
      "cell_type": "code",
      "source": [
        "predic_train_bike_gbm_est46<-h2o.predict(train_gbm_model_bike_est46,valid_h2o)\n",
        "predic_train_bike_gbm_est46<-as.data.frame(predic_train_bike_gbm_est46)\n",
        "vec_gbm_est46<-vector(mode = \"numeric\",length = 45)+0\n",
        "vec_gbm_est46<-as.data.frame(vec_gbm_est46)\n",
        "data_vec_gbm_est46<-vec_gbm_est46\n",
        "colnames(data_vec_gbm_est46)<-colnames(predic_train_bike_gbm_est46)\n",
        "predic_bike_gbm_est46<-rbind(data_vec_gbm_est46,predic_train_bike_gbm_est46)\n",
        "predic_bike_gbm_est46<-round(predic_bike_gbm_est46,0)"
      ],
      "metadata": {
        "id": "C2yGQZHtFn0U",
        "colab": {
          "base_uri": "https://localhost:8080/"
        },
        "outputId": "415e8e2d-4d57-4641-dcdd-aaa30bcb68da"
      },
      "execution_count": null,
      "outputs": [
        {
          "output_type": "stream",
          "name": "stdout",
          "text": [
            "  |======================================================================| 100%\n"
          ]
        }
      ]
    },
    {
      "cell_type": "code",
      "source": [
        "predic_train_bike_gbm_est47<-h2o.predict(train_gbm_model_bike_est47,valid_h2o)\n",
        "predic_train_bike_gbm_est47<-as.data.frame(predic_train_bike_gbm_est47)\n",
        "vec_gbm_est47<-vector(mode = \"numeric\",length = 45)+0\n",
        "vec_gbm_est47<-as.data.frame(vec_gbm_est47)\n",
        "data_vec_gbm_est47<-vec_gbm_est47\n",
        "colnames(data_vec_gbm_est47)<-colnames(predic_train_bike_gbm_est47)\n",
        "predic_bike_gbm_est47<-rbind(data_vec_gbm_est47,predic_train_bike_gbm_est47)\n",
        "predic_bike_gbm_est47<-round(predic_bike_gbm_est47,0)"
      ],
      "metadata": {
        "id": "Czv_GckwFoEt",
        "colab": {
          "base_uri": "https://localhost:8080/"
        },
        "outputId": "a9b0ef14-3fa3-447f-875d-a16f5bca4666"
      },
      "execution_count": null,
      "outputs": [
        {
          "output_type": "stream",
          "name": "stdout",
          "text": [
            "  |======================================================================| 100%\n"
          ]
        }
      ]
    },
    {
      "cell_type": "code",
      "source": [
        "predic_train_bike_gbm_est53<-h2o.predict(train_gbm_model_bike_est53,valid_h2o)\n",
        "predic_train_bike_gbm_est53<-as.data.frame(predic_train_bike_gbm_est53)\n",
        "vec_gbm_est53<-vector(mode = \"numeric\",length = 45)+0\n",
        "vec_gbm_est53<-as.data.frame(vec_gbm_est53)\n",
        "data_vec_gbm_est53<-vec_gbm_est53\n",
        "colnames(data_vec_gbm_est53)<-colnames(predic_train_bike_gbm_est53)\n",
        "predic_bike_gbm_est53<-rbind(data_vec_gbm_est53,predic_train_bike_gbm_est53)\n",
        "predic_bike_gbm_est53<-round(predic_bike_gbm_est53,0)"
      ],
      "metadata": {
        "id": "Cp1tBEApFoZs",
        "colab": {
          "base_uri": "https://localhost:8080/"
        },
        "outputId": "d98839f6-88a5-40ef-92c8-158771eeee8a"
      },
      "execution_count": null,
      "outputs": [
        {
          "output_type": "stream",
          "name": "stdout",
          "text": [
            "  |======================================================================| 100%\n"
          ]
        }
      ]
    },
    {
      "cell_type": "code",
      "source": [
        "predic_train_bike_gbm_est57<-h2o.predict(train_gbm_model_bike_est57,valid_h2o)\n",
        "predic_train_bike_gbm_est57<-as.data.frame(predic_train_bike_gbm_est57)\n",
        "vec_gbm_est57<-vector(mode = \"numeric\",length = 45)+0\n",
        "vec_gbm_est57<-as.data.frame(vec_gbm_est57)\n",
        "data_vec_gbm_est57<-vec_gbm_est57\n",
        "colnames(data_vec_gbm_est57)<-colnames(predic_train_bike_gbm_est57)\n",
        "predic_bike_gbm_est57<-rbind(data_vec_gbm_est57,predic_train_bike_gbm_est57)\n",
        "predic_bike_gbm_est57<-round(predic_bike_gbm_est57,0)"
      ],
      "metadata": {
        "id": "HWRNvBU_Fo4U",
        "colab": {
          "base_uri": "https://localhost:8080/"
        },
        "outputId": "37b2fd41-2a18-40fe-d9e4-de4ec2aa0b59"
      },
      "execution_count": null,
      "outputs": [
        {
          "output_type": "stream",
          "name": "stdout",
          "text": [
            "  |======================================================================| 100%\n"
          ]
        }
      ]
    },
    {
      "cell_type": "code",
      "source": [
        "predic_train_bike_gbm_est58<-h2o.predict(train_gbm_model_bike_est58,valid_h2o)\n",
        "predic_train_bike_gbm_est58<-as.data.frame(predic_train_bike_gbm_est58)\n",
        "vec_gbm_est58<-vector(mode = \"numeric\",length = 45)+0\n",
        "vec_gbm_est58<-as.data.frame(vec_gbm_est58)\n",
        "data_vec_gbm_est58<-vec_gbm_est58\n",
        "colnames(data_vec_gbm_est58)<-colnames(predic_train_bike_gbm_est58)\n",
        "predic_bike_gbm_est58<-rbind(data_vec_gbm_est58,predic_train_bike_gbm_est58)\n",
        "predic_bike_gbm_est58<-round(predic_bike_gbm_est58,0)"
      ],
      "metadata": {
        "id": "ZZ913Ii7FpLD",
        "colab": {
          "base_uri": "https://localhost:8080/"
        },
        "outputId": "715618be-3b99-4040-e655-0d42a5609e61"
      },
      "execution_count": null,
      "outputs": [
        {
          "output_type": "stream",
          "name": "stdout",
          "text": [
            "  |======================================================================| 100%\n"
          ]
        }
      ]
    },
    {
      "cell_type": "code",
      "source": [
        "predic_train_bike_gbm_est59<-h2o.predict(train_gbm_model_bike_est59,valid_h2o)\n",
        "predic_train_bike_gbm_est59<-as.data.frame(predic_train_bike_gbm_est59)\n",
        "vec_gbm_est59<-vector(mode = \"numeric\",length = 45)+0\n",
        "vec_gbm_est59<-as.data.frame(vec_gbm_est59)\n",
        "data_vec_gbm_est59<-vec_gbm_est59\n",
        "colnames(data_vec_gbm_est59)<-colnames(predic_train_bike_gbm_est59)\n",
        "predic_bike_gbm_est59<-rbind(data_vec_gbm_est59,predic_train_bike_gbm_est59)\n",
        "predic_bike_gbm_est59<-round(predic_bike_gbm_est59,0)"
      ],
      "metadata": {
        "id": "HA6irepiFpfj",
        "colab": {
          "base_uri": "https://localhost:8080/"
        },
        "outputId": "3bfb3e43-f8b8-45eb-8b67-e462a78af039"
      },
      "execution_count": null,
      "outputs": [
        {
          "output_type": "stream",
          "name": "stdout",
          "text": [
            "  |======================================================================| 100%\n"
          ]
        }
      ]
    },
    {
      "cell_type": "code",
      "source": [
        "predic_train_bike_gbm_est60<-h2o.predict(train_gbm_model_bike_est60,valid_h2o)\n",
        "predic_train_bike_gbm_est60<-as.data.frame(predic_train_bike_gbm_est60)\n",
        "vec_gbm_est60<-vector(mode = \"numeric\",length = 45)+0\n",
        "vec_gbm_est60<-as.data.frame(vec_gbm_est60)\n",
        "data_vec_gbm_est60<-vec_gbm_est60\n",
        "colnames(data_vec_gbm_est60)<-colnames(predic_train_bike_gbm_est60)\n",
        "predic_bike_gbm_est60<-rbind(data_vec_gbm_est60,predic_train_bike_gbm_est60)\n",
        "predic_bike_gbm_est60<-round(predic_bike_gbm_est60,0)"
      ],
      "metadata": {
        "id": "veDBFoXOFptr",
        "colab": {
          "base_uri": "https://localhost:8080/"
        },
        "outputId": "d63fea4f-df04-40e5-ab5c-1c8d2559cfb1"
      },
      "execution_count": null,
      "outputs": [
        {
          "output_type": "stream",
          "name": "stdout",
          "text": [
            "  |======================================================================| 100%\n"
          ]
        }
      ]
    },
    {
      "cell_type": "markdown",
      "source": [
        "### Predicciónes usando Red Neuronal"
      ],
      "metadata": {
        "id": "nyg15i3_2aoD"
      }
    },
    {
      "cell_type": "code",
      "source": [
        "predic_train_bike_rn_est3<-h2o.predict(train_rn_model_bike_est3,valid_h2o)\n",
        "predic_train_bike_rn_est3<-as.data.frame(predic_train_bike_rn_est3)\n",
        "vec_rn_est3<-vector(mode = \"numeric\",length = 45)+0\n",
        "vec_rn_est3<-as.data.frame(vec_rn_est3)\n",
        "data_vec_rn_est3<-vec_rn_est3\n",
        "colnames(data_vec_rn_est3)<-colnames(predic_train_bike_rn_est3)\n",
        "predic_bike_rn_est3<-rbind(data_vec_rn_est3,predic_train_bike_rn_est3)\n",
        "predic_bike_rn_est3<-round(predic_bike_rn_est3,0)"
      ],
      "metadata": {
        "id": "Ahdekamd3N3t",
        "colab": {
          "base_uri": "https://localhost:8080/"
        },
        "outputId": "4af3decc-de82-4d6a-c1c7-58caf7feaddc"
      },
      "execution_count": null,
      "outputs": [
        {
          "output_type": "stream",
          "name": "stdout",
          "text": [
            "  |======================================================================| 100%\n"
          ]
        }
      ]
    },
    {
      "cell_type": "code",
      "source": [
        "predic_train_bike_rn_est6<-h2o.predict(train_rn_model_bike_est6,valid_h2o)\n",
        "predic_train_bike_rn_est6<-as.data.frame(predic_train_bike_rn_est6)\n",
        "vec_rn_est6<-vector(mode = \"numeric\",length = 45)+0\n",
        "vec_rn_est6<-as.data.frame(vec_rn_est6)\n",
        "data_vec_rn_est6<-vec_rn_est6\n",
        "colnames(data_vec_rn_est6)<-colnames(predic_train_bike_rn_est6)\n",
        "predic_bike_rn_est6<-rbind(data_vec_rn_est6,predic_train_bike_rn_est6)\n",
        "predic_bike_rn_est6<-round(predic_bike_rn_est6,0)"
      ],
      "metadata": {
        "id": "KQmDkODQ3SOD",
        "colab": {
          "base_uri": "https://localhost:8080/"
        },
        "outputId": "cd2e274a-a1bb-4347-99ad-9cc886e7a86e"
      },
      "execution_count": null,
      "outputs": [
        {
          "output_type": "stream",
          "name": "stdout",
          "text": [
            "  |======================================================================| 100%\n"
          ]
        }
      ]
    },
    {
      "cell_type": "code",
      "source": [
        "predic_train_bike_rn_est10<-h2o.predict(train_rn_model_bike_est10,valid_h2o)\n",
        "predic_train_bike_rn_est10<-as.data.frame(predic_train_bike_rn_est10)\n",
        "vec_rn_est10<-vector(mode = \"numeric\",length = 45)+0\n",
        "vec_rn_est10<-as.data.frame(vec_rn_est10)\n",
        "data_vec_rn_est10<-vec_rn_est10\n",
        "colnames(data_vec_rn_est10)<-colnames(predic_train_bike_rn_est10)\n",
        "predic_bike_rn_est10<-rbind(data_vec_rn_est10,predic_train_bike_rn_est10)\n",
        "predic_bike_rn_est10<-round(predic_bike_rn_est10,0)"
      ],
      "metadata": {
        "id": "ejgjGqPb3Utr",
        "colab": {
          "base_uri": "https://localhost:8080/"
        },
        "outputId": "4fbd8497-657f-4b7b-8012-02ee1205caa3"
      },
      "execution_count": null,
      "outputs": [
        {
          "output_type": "stream",
          "name": "stdout",
          "text": [
            "  |======================================================================| 100%\n"
          ]
        }
      ]
    },
    {
      "cell_type": "code",
      "source": [
        "predic_train_bike_rn_est13<-h2o.predict(train_rn_model_bike_est13,valid_h2o)\n",
        "predic_train_bike_rn_est13<-as.data.frame(predic_train_bike_rn_est13)\n",
        "vec_rn_est13<-vector(mode = \"numeric\",length = 45)+0\n",
        "vec_rn_est13<-as.data.frame(vec_rn_est13)\n",
        "data_vec_rn_est13<-vec_rn_est13\n",
        "colnames(data_vec_rn_est13)<-colnames(predic_train_bike_rn_est13)\n",
        "predic_bike_rn_est13<-rbind(data_vec_rn_est13,predic_train_bike_rn_est13)\n",
        "predic_bike_rn_est13<-round(predic_bike_rn_est13,0)"
      ],
      "metadata": {
        "id": "fjQekdKb3XpT",
        "colab": {
          "base_uri": "https://localhost:8080/"
        },
        "outputId": "3e941849-61f9-4922-ab8b-d24f40ebe9d2"
      },
      "execution_count": null,
      "outputs": [
        {
          "output_type": "stream",
          "name": "stdout",
          "text": [
            "  |======================================================================| 100%\n"
          ]
        }
      ]
    },
    {
      "cell_type": "code",
      "source": [
        "predic_train_bike_rn_est19<-h2o.predict(train_rn_model_bike_est19,valid_h2o)\n",
        "predic_train_bike_rn_est19<-as.data.frame(predic_train_bike_rn_est19)\n",
        "vec_rn_est19<-vector(mode = \"numeric\",length = 45)+0\n",
        "vec_rn_est19<-as.data.frame(vec_rn_est19)\n",
        "data_vec_rn_est19<-vec_rn_est19\n",
        "colnames(data_vec_rn_est19)<-colnames(predic_train_bike_rn_est19)\n",
        "predic_bike_rn_est19<-rbind(data_vec_rn_est19,predic_train_bike_rn_est19)\n",
        "predic_bike_rn_est19<-round(predic_bike_rn_est19,0)"
      ],
      "metadata": {
        "id": "vwf9cZ7u3ae1",
        "colab": {
          "base_uri": "https://localhost:8080/"
        },
        "outputId": "408ae5fe-62ea-4d7a-a83e-c643ac915cec"
      },
      "execution_count": null,
      "outputs": [
        {
          "output_type": "stream",
          "name": "stdout",
          "text": [
            "  |======================================================================| 100%\n"
          ]
        }
      ]
    },
    {
      "cell_type": "code",
      "source": [
        "predic_train_bike_rn_est23<-h2o.predict(train_rn_model_bike_est23,valid_h2o)\n",
        "predic_train_bike_rn_est23<-as.data.frame(predic_train_bike_rn_est23)\n",
        "vec_rn_est23<-vector(mode = \"numeric\",length = 45)+0\n",
        "vec_rn_est23<-as.data.frame(vec_rn_est23)\n",
        "data_vec_rn_est23<-vec_rn_est23\n",
        "colnames(data_vec_rn_est23)<-colnames(predic_train_bike_rn_est23)\n",
        "predic_bike_rn_est23<-rbind(data_vec_rn_est23,predic_train_bike_rn_est23)\n",
        "predic_bike_rn_est23<-round(predic_bike_rn_est23,0)"
      ],
      "metadata": {
        "id": "6W90ny--3dSb",
        "colab": {
          "base_uri": "https://localhost:8080/"
        },
        "outputId": "5239e092-71d5-4179-89a9-321167d79bd8"
      },
      "execution_count": null,
      "outputs": [
        {
          "output_type": "stream",
          "name": "stdout",
          "text": [
            "  |======================================================================| 100%\n"
          ]
        }
      ]
    },
    {
      "cell_type": "code",
      "source": [
        "predic_train_bike_rn_est25<-h2o.predict(train_rn_model_bike_est25,valid_h2o)\n",
        "predic_train_bike_rn_est25<-as.data.frame(predic_train_bike_rn_est25)\n",
        "vec_rn_est25<-vector(mode = \"numeric\",length = 45)+0\n",
        "vec_rn_est25<-as.data.frame(vec_rn_est25)\n",
        "data_vec_rn_est25<-vec_rn_est25\n",
        "colnames(data_vec_rn_est25)<-colnames(predic_train_bike_rn_est25)\n",
        "predic_bike_rn_est25<-rbind(data_vec_rn_est25,predic_train_bike_rn_est25)\n",
        "predic_bike_rn_est25<-round(predic_bike_rn_est25,0)"
      ],
      "metadata": {
        "id": "2Vf0kqCJ3fy7",
        "colab": {
          "base_uri": "https://localhost:8080/"
        },
        "outputId": "e8c44546-4c3f-48c8-b4b3-7b8b4ae260bf"
      },
      "execution_count": null,
      "outputs": [
        {
          "output_type": "stream",
          "name": "stdout",
          "text": [
            "  |======================================================================| 100%\n"
          ]
        }
      ]
    },
    {
      "cell_type": "code",
      "source": [
        "predic_train_bike_rn_est26<-h2o.predict(train_rn_model_bike_est26,valid_h2o)\n",
        "predic_train_bike_rn_est26<-as.data.frame(predic_train_bike_rn_est26)\n",
        "vec_rn_est26<-vector(mode = \"numeric\",length = 45)+0\n",
        "vec_rn_est26<-as.data.frame(vec_rn_est26)\n",
        "data_vec_rn_est26<-vec_rn_est26\n",
        "colnames(data_vec_rn_est26)<-colnames(predic_train_bike_rn_est26)\n",
        "predic_bike_rn_est26<-rbind(data_vec_rn_est26,predic_train_bike_rn_est26)\n",
        "predic_bike_rn_est26<-round(predic_bike_rn_est26,0)"
      ],
      "metadata": {
        "id": "mvx27zMf3iN8",
        "colab": {
          "base_uri": "https://localhost:8080/"
        },
        "outputId": "b2f6780c-53d5-4d37-ff37-ec2a02569490"
      },
      "execution_count": null,
      "outputs": [
        {
          "output_type": "stream",
          "name": "stdout",
          "text": [
            "  |======================================================================| 100%\n"
          ]
        }
      ]
    },
    {
      "cell_type": "code",
      "source": [
        "predic_train_bike_rn_est27<-h2o.predict(train_rn_model_bike_est27,valid_h2o)\n",
        "predic_train_bike_rn_est27<-as.data.frame(predic_train_bike_rn_est27)\n",
        "vec_rn_est27<-vector(mode = \"numeric\",length = 45)+0\n",
        "vec_rn_est27<-as.data.frame(vec_rn_est27)\n",
        "data_vec_rn_est27<-vec_rn_est27\n",
        "colnames(data_vec_rn_est27)<-colnames(predic_train_bike_rn_est27)\n",
        "predic_bike_rn_est27<-rbind(data_vec_rn_est27,predic_train_bike_rn_est27)\n",
        "predic_bike_rn_est27<-round(predic_bike_rn_est27,0)"
      ],
      "metadata": {
        "id": "vBqYfAHU3kvz",
        "colab": {
          "base_uri": "https://localhost:8080/"
        },
        "outputId": "a7e3452f-57db-4841-fa33-2e2b266fa2c1"
      },
      "execution_count": null,
      "outputs": [
        {
          "output_type": "stream",
          "name": "stdout",
          "text": [
            "  |======================================================================| 100%\n"
          ]
        }
      ]
    },
    {
      "cell_type": "code",
      "source": [
        "predic_train_bike_rn_est28<-h2o.predict(train_rn_model_bike_est28,valid_h2o)\n",
        "predic_train_bike_rn_est28<-as.data.frame(predic_train_bike_rn_est28)\n",
        "vec_rn_est28<-vector(mode = \"numeric\",length = 45)+0\n",
        "vec_rn_est28<-as.data.frame(vec_rn_est28)\n",
        "data_vec_rn_est28<-vec_rn_est28\n",
        "colnames(data_vec_rn_est28)<-colnames(predic_train_bike_rn_est28)\n",
        "predic_bike_rn_est28<-rbind(data_vec_rn_est28,predic_train_bike_rn_est28)\n",
        "predic_bike_rn_est28<-round(predic_bike_rn_est28,0)"
      ],
      "metadata": {
        "id": "McAVJ9MP3nT0",
        "colab": {
          "base_uri": "https://localhost:8080/"
        },
        "outputId": "cabcc55d-268e-4777-f1fc-510d83fbc36a"
      },
      "execution_count": null,
      "outputs": [
        {
          "output_type": "stream",
          "name": "stdout",
          "text": [
            "  |======================================================================| 100%\n"
          ]
        }
      ]
    },
    {
      "cell_type": "code",
      "source": [
        "predic_train_bike_rn_est32<-h2o.predict(train_rn_model_bike_est32,valid_h2o)\n",
        "predic_train_bike_rn_est32<-as.data.frame(predic_train_bike_rn_est32)\n",
        "vec_rn_est32<-vector(mode = \"numeric\",length = 45)+0\n",
        "vec_rn_est32<-as.data.frame(vec_rn_est32)\n",
        "data_vec_rn_est32<-vec_rn_est32\n",
        "colnames(data_vec_rn_est32)<-colnames(predic_train_bike_rn_est32)\n",
        "predic_bike_rn_est32<-rbind(data_vec_rn_est32,predic_train_bike_rn_est32)\n",
        "predic_bike_rn_est32<-round(predic_bike_rn_est32,0)"
      ],
      "metadata": {
        "id": "LDVVau84HAOt",
        "colab": {
          "base_uri": "https://localhost:8080/"
        },
        "outputId": "366230f4-9664-4a98-a1d3-784836f7cf83"
      },
      "execution_count": null,
      "outputs": [
        {
          "output_type": "stream",
          "name": "stdout",
          "text": [
            "  |======================================================================| 100%\n"
          ]
        }
      ]
    },
    {
      "cell_type": "code",
      "source": [
        "predic_train_bike_rn_est33<-h2o.predict(train_rn_model_bike_est33,valid_h2o)\n",
        "predic_train_bike_rn_est33<-as.data.frame(predic_train_bike_rn_est33)\n",
        "vec_rn_est33<-vector(mode = \"numeric\",length = 45)+0\n",
        "vec_rn_est33<-as.data.frame(vec_rn_est33)\n",
        "data_vec_rn_est33<-vec_rn_est33\n",
        "colnames(data_vec_rn_est33)<-colnames(predic_train_bike_rn_est33)\n",
        "predic_bike_rn_est33<-rbind(data_vec_rn_est33,predic_train_bike_rn_est33)\n",
        "predic_bike_rn_est33<-round(predic_bike_rn_est33,0)"
      ],
      "metadata": {
        "id": "xz8yUNNQHAdT",
        "colab": {
          "base_uri": "https://localhost:8080/"
        },
        "outputId": "5f9d3914-eb47-4035-9e75-365b34098639"
      },
      "execution_count": null,
      "outputs": [
        {
          "output_type": "stream",
          "name": "stdout",
          "text": [
            "  |======================================================================| 100%\n"
          ]
        }
      ]
    },
    {
      "cell_type": "code",
      "source": [
        "predic_train_bike_rn_est36<-h2o.predict(train_rn_model_bike_est36,valid_h2o)\n",
        "predic_train_bike_rn_est36<-as.data.frame(predic_train_bike_rn_est36)\n",
        "vec_rn_est36<-vector(mode = \"numeric\",length = 45)+0\n",
        "vec_rn_est36<-as.data.frame(vec_rn_est36)\n",
        "data_vec_rn_est36<-vec_rn_est36\n",
        "colnames(data_vec_rn_est36)<-colnames(predic_train_bike_rn_est36)\n",
        "predic_bike_rn_est36<-rbind(data_vec_rn_est36,predic_train_bike_rn_est36)\n",
        "predic_bike_rn_est36<-round(predic_bike_rn_est36,0)"
      ],
      "metadata": {
        "id": "eL4G8zrxHAqn",
        "colab": {
          "base_uri": "https://localhost:8080/"
        },
        "outputId": "98338839-4373-4c6a-d608-b1467cf82929"
      },
      "execution_count": null,
      "outputs": [
        {
          "output_type": "stream",
          "name": "stdout",
          "text": [
            "  |======================================================================| 100%\n"
          ]
        }
      ]
    },
    {
      "cell_type": "code",
      "source": [
        "predic_train_bike_rn_est46<-h2o.predict(train_rn_model_bike_est46,valid_h2o)\n",
        "predic_train_bike_rn_est46<-as.data.frame(predic_train_bike_rn_est46)\n",
        "vec_rn_est46<-vector(mode = \"numeric\",length = 45)+0\n",
        "vec_rn_est46<-as.data.frame(vec_rn_est46)\n",
        "data_vec_rn_est46<-vec_rn_est46\n",
        "colnames(data_vec_rn_est46)<-colnames(predic_train_bike_rn_est46)\n",
        "predic_bike_rn_est46<-rbind(data_vec_rn_est46,predic_train_bike_rn_est46)\n",
        "predic_bike_rn_est46<-round(predic_bike_rn_est46,0)"
      ],
      "metadata": {
        "id": "TpiABdsoHA5a",
        "colab": {
          "base_uri": "https://localhost:8080/"
        },
        "outputId": "92a19edf-460a-4bcd-b538-96d2d61c51ba"
      },
      "execution_count": null,
      "outputs": [
        {
          "output_type": "stream",
          "name": "stdout",
          "text": [
            "  |======================================================================| 100%\n"
          ]
        }
      ]
    },
    {
      "cell_type": "code",
      "source": [
        "predic_train_bike_rn_est47<-h2o.predict(train_rn_model_bike_est47,valid_h2o)\n",
        "predic_train_bike_rn_est47<-as.data.frame(predic_train_bike_rn_est47)\n",
        "vec_rn_est47<-vector(mode = \"numeric\",length = 45)+0\n",
        "vec_rn_est47<-as.data.frame(vec_rn_est47)\n",
        "data_vec_rn_est47<-vec_rn_est47\n",
        "colnames(data_vec_rn_est47)<-colnames(predic_train_bike_rn_est47)\n",
        "predic_bike_rn_est47<-rbind(data_vec_rn_est47,predic_train_bike_rn_est47)\n",
        "predic_bike_rn_est47<-round(predic_bike_rn_est47,0)"
      ],
      "metadata": {
        "id": "7GRRHtQdHBOD",
        "colab": {
          "base_uri": "https://localhost:8080/"
        },
        "outputId": "e2b4d630-a1a3-4ba3-a949-f3ec2619ed38"
      },
      "execution_count": null,
      "outputs": [
        {
          "output_type": "stream",
          "name": "stdout",
          "text": [
            "  |======================================================================| 100%\n"
          ]
        }
      ]
    },
    {
      "cell_type": "code",
      "source": [
        "predic_train_bike_rn_est53<-h2o.predict(train_rn_model_bike_est53,valid_h2o)\n",
        "predic_train_bike_rn_est53<-as.data.frame(predic_train_bike_rn_est53)\n",
        "vec_rn_est53<-vector(mode = \"numeric\",length = 45)+0\n",
        "vec_rn_est53<-as.data.frame(vec_rn_est53)\n",
        "data_vec_rn_est53<-vec_rn_est53\n",
        "colnames(data_vec_rn_est53)<-colnames(predic_train_bike_rn_est53)\n",
        "predic_bike_rn_est53<-rbind(data_vec_rn_est53,predic_train_bike_rn_est53)\n",
        "predic_bike_rn_est53<-round(predic_bike_rn_est53,0)"
      ],
      "metadata": {
        "id": "0kUrpJT_HBb7",
        "colab": {
          "base_uri": "https://localhost:8080/"
        },
        "outputId": "409b2256-0197-42d8-f227-28647bae7a75"
      },
      "execution_count": null,
      "outputs": [
        {
          "output_type": "stream",
          "name": "stdout",
          "text": [
            "  |======================================================================| 100%\n"
          ]
        }
      ]
    },
    {
      "cell_type": "code",
      "source": [
        "predic_train_bike_rn_est57<-h2o.predict(train_rn_model_bike_est57,valid_h2o)\n",
        "predic_train_bike_rn_est57<-as.data.frame(predic_train_bike_rn_est57)\n",
        "vec_rn_est57<-vector(mode = \"numeric\",length = 45)+0\n",
        "vec_rn_est57<-as.data.frame(vec_rn_est57)\n",
        "data_vec_rn_est57<-vec_rn_est57\n",
        "colnames(data_vec_rn_est57)<-colnames(predic_train_bike_rn_est57)\n",
        "predic_bike_rn_est57<-rbind(data_vec_rn_est57,predic_train_bike_rn_est57)\n",
        "predic_bike_rn_est57<-round(predic_bike_rn_est57,0)"
      ],
      "metadata": {
        "id": "MCvx7rwFHBpm",
        "colab": {
          "base_uri": "https://localhost:8080/"
        },
        "outputId": "9ec55b35-f92a-45fc-c62b-431007a71bc2"
      },
      "execution_count": null,
      "outputs": [
        {
          "output_type": "stream",
          "name": "stdout",
          "text": [
            "  |======================================================================| 100%\n"
          ]
        }
      ]
    },
    {
      "cell_type": "code",
      "source": [
        "predic_train_bike_rn_est58<-h2o.predict(train_rn_model_bike_est58,valid_h2o)\n",
        "predic_train_bike_rn_est58<-as.data.frame(predic_train_bike_rn_est58)\n",
        "vec_rn_est58<-vector(mode = \"numeric\",length = 45)+0\n",
        "vec_rn_est58<-as.data.frame(vec_rn_est58)\n",
        "data_vec_rn_est58<-vec_rn_est58\n",
        "colnames(data_vec_rn_est58)<-colnames(predic_train_bike_rn_est58)\n",
        "predic_bike_rn_est58<-rbind(data_vec_rn_est58,predic_train_bike_rn_est58)\n",
        "predic_bike_rn_est58<-round(predic_bike_rn_est58,0)"
      ],
      "metadata": {
        "id": "ewYDwkD4HCAe",
        "colab": {
          "base_uri": "https://localhost:8080/"
        },
        "outputId": "ca085ad1-4c03-4b02-8ff8-e51ac8490323"
      },
      "execution_count": null,
      "outputs": [
        {
          "output_type": "stream",
          "name": "stdout",
          "text": [
            "  |======================================================================| 100%\n"
          ]
        }
      ]
    },
    {
      "cell_type": "code",
      "source": [
        "predic_train_bike_rn_est59<-h2o.predict(train_rn_model_bike_est59,valid_h2o)\n",
        "predic_train_bike_rn_est59<-as.data.frame(predic_train_bike_rn_est59)\n",
        "vec_rn_est59<-vector(mode = \"numeric\",length = 45)+0\n",
        "vec_rn_est59<-as.data.frame(vec_rn_est59)\n",
        "data_vec_rn_est59<-vec_rn_est59\n",
        "colnames(data_vec_rn_est59)<-colnames(predic_train_bike_rn_est59)\n",
        "predic_bike_rn_est59<-rbind(data_vec_rn_est59,predic_train_bike_rn_est59)\n",
        "predic_bike_rn_est59<-round(predic_bike_rn_est59,0)"
      ],
      "metadata": {
        "id": "UFPCLou8HCNi",
        "colab": {
          "base_uri": "https://localhost:8080/"
        },
        "outputId": "3c413762-6a9a-4e75-b2da-2b83f3ffc1f0"
      },
      "execution_count": null,
      "outputs": [
        {
          "output_type": "stream",
          "name": "stdout",
          "text": [
            "  |======================================================================| 100%\n"
          ]
        }
      ]
    },
    {
      "cell_type": "code",
      "source": [
        "predic_train_bike_rn_est60<-h2o.predict(train_rn_model_bike_est60,valid_h2o)\n",
        "predic_train_bike_rn_est60<-as.data.frame(predic_train_bike_rn_est60)\n",
        "vec_rn_est60<-vector(mode = \"numeric\",length = 45)+0\n",
        "vec_rn_est60<-as.data.frame(vec_rn_est60)\n",
        "data_vec_rn_est60<-vec_rn_est60\n",
        "colnames(data_vec_rn_est60)<-colnames(predic_train_bike_rn_est60)\n",
        "predic_bike_rn_est60<-rbind(data_vec_rn_est60,predic_train_bike_rn_est60)\n",
        "predic_bike_rn_est60<-round(predic_bike_rn_est60,0)"
      ],
      "metadata": {
        "id": "jNIrwNgxHCfb",
        "colab": {
          "base_uri": "https://localhost:8080/"
        },
        "outputId": "26542a03-e307-4fcb-f830-bf1b45de16f0"
      },
      "execution_count": null,
      "outputs": [
        {
          "output_type": "stream",
          "name": "stdout",
          "text": [
            "  |======================================================================| 100%\n"
          ]
        }
      ]
    },
    {
      "cell_type": "markdown",
      "source": [
        "## Elaboración de predicciónes y exporte"
      ],
      "metadata": {
        "id": "tjXuUWef3-Cu"
      }
    },
    {
      "cell_type": "markdown",
      "source": [
        "Data train de las predicciónes elaboradas"
      ],
      "metadata": {
        "id": "JIF24_Nl4VOT"
      }
    },
    {
      "cell_type": "code",
      "source": [
        "data_train_GBM<-data.frame(mes[1],predic_bike_gbm_est3,predic_bike_gbm_est6,predic_bike_gbm_est10,predic_bike_gbm_est13,predic_bike_gbm_est19,predic_bike_gbm_est23,predic_bike_gbm_est25,predic_bike_gbm_est26,predic_bike_gbm_est27,predic_bike_gbm_est28,predic_bike_gbm_est32,predic_bike_gbm_est33,predic_bike_gbm_est36,predic_bike_gbm_est46,predic_bike_gbm_est47,predic_bike_gbm_est53,predic_bike_gbm_est57,predic_bike_gbm_est58,predic_bike_gbm_est59,predic_bike_gbm_est60)\n",
        "data_train_GBM"
      ],
      "metadata": {
        "id": "n2gQSQuk4EqT",
        "colab": {
          "base_uri": "https://localhost:8080/",
          "height": 1000
        },
        "outputId": "eafcbb6c-68aa-4019-83c4-2944fb1b2acc"
      },
      "execution_count": null,
      "outputs": [
        {
          "output_type": "display_data",
          "data": {
            "text/html": [
              "<table class=\"dataframe\">\n",
              "<caption>A data.frame: 60 × 21</caption>\n",
              "<thead>\n",
              "\t<tr><th scope=col>dias</th><th scope=col>predict</th><th scope=col>predict.1</th><th scope=col>predict.2</th><th scope=col>predict.3</th><th scope=col>predict.4</th><th scope=col>predict.5</th><th scope=col>predict.6</th><th scope=col>predict.7</th><th scope=col>predict.8</th><th scope=col>⋯</th><th scope=col>predict.10</th><th scope=col>predict.11</th><th scope=col>predict.12</th><th scope=col>predict.13</th><th scope=col>predict.14</th><th scope=col>predict.15</th><th scope=col>predict.16</th><th scope=col>predict.17</th><th scope=col>predict.18</th><th scope=col>predict.19</th></tr>\n",
              "\t<tr><th scope=col>&lt;dttm&gt;</th><th scope=col>&lt;dbl&gt;</th><th scope=col>&lt;dbl&gt;</th><th scope=col>&lt;dbl&gt;</th><th scope=col>&lt;dbl&gt;</th><th scope=col>&lt;dbl&gt;</th><th scope=col>&lt;dbl&gt;</th><th scope=col>&lt;dbl&gt;</th><th scope=col>&lt;dbl&gt;</th><th scope=col>&lt;dbl&gt;</th><th scope=col>⋯</th><th scope=col>&lt;dbl&gt;</th><th scope=col>&lt;dbl&gt;</th><th scope=col>&lt;dbl&gt;</th><th scope=col>&lt;dbl&gt;</th><th scope=col>&lt;dbl&gt;</th><th scope=col>&lt;dbl&gt;</th><th scope=col>&lt;dbl&gt;</th><th scope=col>&lt;dbl&gt;</th><th scope=col>&lt;dbl&gt;</th><th scope=col>&lt;dbl&gt;</th></tr>\n",
              "</thead>\n",
              "<tbody>\n",
              "\t<tr><td>2022-08-01 08:00:00</td><td> 0</td><td>0</td><td>0</td><td>0</td><td>0</td><td>0</td><td>0</td><td>0</td><td>0</td><td>⋯</td><td>0</td><td>0</td><td> 0</td><td>0</td><td>0</td><td> 0</td><td>0</td><td>0</td><td>0</td><td>0</td></tr>\n",
              "\t<tr><td>2022-08-01 14:00:00</td><td> 0</td><td>0</td><td>0</td><td>0</td><td>0</td><td>0</td><td>0</td><td>0</td><td>0</td><td>⋯</td><td>0</td><td>0</td><td> 0</td><td>0</td><td>0</td><td> 0</td><td>0</td><td>0</td><td>0</td><td>0</td></tr>\n",
              "\t<tr><td>2022-08-01 20:00:00</td><td> 0</td><td>0</td><td>0</td><td>0</td><td>0</td><td>0</td><td>0</td><td>0</td><td>0</td><td>⋯</td><td>0</td><td>0</td><td> 0</td><td>0</td><td>0</td><td> 0</td><td>0</td><td>0</td><td>0</td><td>0</td></tr>\n",
              "\t<tr><td>2022-08-02 08:00:00</td><td> 0</td><td>0</td><td>0</td><td>0</td><td>0</td><td>0</td><td>0</td><td>0</td><td>0</td><td>⋯</td><td>0</td><td>0</td><td> 0</td><td>0</td><td>0</td><td> 0</td><td>0</td><td>0</td><td>0</td><td>0</td></tr>\n",
              "\t<tr><td>2022-08-02 14:00:00</td><td> 0</td><td>0</td><td>0</td><td>0</td><td>0</td><td>0</td><td>0</td><td>0</td><td>0</td><td>⋯</td><td>0</td><td>0</td><td> 0</td><td>0</td><td>0</td><td> 0</td><td>0</td><td>0</td><td>0</td><td>0</td></tr>\n",
              "\t<tr><td>2022-08-02 20:00:00</td><td> 0</td><td>0</td><td>0</td><td>0</td><td>0</td><td>0</td><td>0</td><td>0</td><td>0</td><td>⋯</td><td>0</td><td>0</td><td> 0</td><td>0</td><td>0</td><td> 0</td><td>0</td><td>0</td><td>0</td><td>0</td></tr>\n",
              "\t<tr><td>2022-08-03 08:00:00</td><td> 0</td><td>0</td><td>0</td><td>0</td><td>0</td><td>0</td><td>0</td><td>0</td><td>0</td><td>⋯</td><td>0</td><td>0</td><td> 0</td><td>0</td><td>0</td><td> 0</td><td>0</td><td>0</td><td>0</td><td>0</td></tr>\n",
              "\t<tr><td>2022-08-03 14:00:00</td><td> 0</td><td>0</td><td>0</td><td>0</td><td>0</td><td>0</td><td>0</td><td>0</td><td>0</td><td>⋯</td><td>0</td><td>0</td><td> 0</td><td>0</td><td>0</td><td> 0</td><td>0</td><td>0</td><td>0</td><td>0</td></tr>\n",
              "\t<tr><td>2022-08-03 20:00:00</td><td> 0</td><td>0</td><td>0</td><td>0</td><td>0</td><td>0</td><td>0</td><td>0</td><td>0</td><td>⋯</td><td>0</td><td>0</td><td> 0</td><td>0</td><td>0</td><td> 0</td><td>0</td><td>0</td><td>0</td><td>0</td></tr>\n",
              "\t<tr><td>2022-08-04 08:00:00</td><td> 0</td><td>0</td><td>0</td><td>0</td><td>0</td><td>0</td><td>0</td><td>0</td><td>0</td><td>⋯</td><td>0</td><td>0</td><td> 0</td><td>0</td><td>0</td><td> 0</td><td>0</td><td>0</td><td>0</td><td>0</td></tr>\n",
              "\t<tr><td>2022-08-04 14:00:00</td><td> 0</td><td>0</td><td>0</td><td>0</td><td>0</td><td>0</td><td>0</td><td>0</td><td>0</td><td>⋯</td><td>0</td><td>0</td><td> 0</td><td>0</td><td>0</td><td> 0</td><td>0</td><td>0</td><td>0</td><td>0</td></tr>\n",
              "\t<tr><td>2022-08-04 20:00:00</td><td> 0</td><td>0</td><td>0</td><td>0</td><td>0</td><td>0</td><td>0</td><td>0</td><td>0</td><td>⋯</td><td>0</td><td>0</td><td> 0</td><td>0</td><td>0</td><td> 0</td><td>0</td><td>0</td><td>0</td><td>0</td></tr>\n",
              "\t<tr><td>2022-08-05 08:00:00</td><td> 0</td><td>0</td><td>0</td><td>0</td><td>0</td><td>0</td><td>0</td><td>0</td><td>0</td><td>⋯</td><td>0</td><td>0</td><td> 0</td><td>0</td><td>0</td><td> 0</td><td>0</td><td>0</td><td>0</td><td>0</td></tr>\n",
              "\t<tr><td>2022-08-05 14:00:00</td><td> 0</td><td>0</td><td>0</td><td>0</td><td>0</td><td>0</td><td>0</td><td>0</td><td>0</td><td>⋯</td><td>0</td><td>0</td><td> 0</td><td>0</td><td>0</td><td> 0</td><td>0</td><td>0</td><td>0</td><td>0</td></tr>\n",
              "\t<tr><td>2022-08-05 20:00:00</td><td> 0</td><td>0</td><td>0</td><td>0</td><td>0</td><td>0</td><td>0</td><td>0</td><td>0</td><td>⋯</td><td>0</td><td>0</td><td> 0</td><td>0</td><td>0</td><td> 0</td><td>0</td><td>0</td><td>0</td><td>0</td></tr>\n",
              "\t<tr><td>2022-08-08 08:00:00</td><td> 0</td><td>0</td><td>0</td><td>0</td><td>0</td><td>0</td><td>0</td><td>0</td><td>0</td><td>⋯</td><td>0</td><td>0</td><td> 0</td><td>0</td><td>0</td><td> 0</td><td>0</td><td>0</td><td>0</td><td>0</td></tr>\n",
              "\t<tr><td>2022-08-08 14:00:00</td><td> 0</td><td>0</td><td>0</td><td>0</td><td>0</td><td>0</td><td>0</td><td>0</td><td>0</td><td>⋯</td><td>0</td><td>0</td><td> 0</td><td>0</td><td>0</td><td> 0</td><td>0</td><td>0</td><td>0</td><td>0</td></tr>\n",
              "\t<tr><td>2022-08-08 20:00:00</td><td> 0</td><td>0</td><td>0</td><td>0</td><td>0</td><td>0</td><td>0</td><td>0</td><td>0</td><td>⋯</td><td>0</td><td>0</td><td> 0</td><td>0</td><td>0</td><td> 0</td><td>0</td><td>0</td><td>0</td><td>0</td></tr>\n",
              "\t<tr><td>2022-08-09 08:00:00</td><td> 0</td><td>0</td><td>0</td><td>0</td><td>0</td><td>0</td><td>0</td><td>0</td><td>0</td><td>⋯</td><td>0</td><td>0</td><td> 0</td><td>0</td><td>0</td><td> 0</td><td>0</td><td>0</td><td>0</td><td>0</td></tr>\n",
              "\t<tr><td>2022-08-09 14:00:00</td><td> 0</td><td>0</td><td>0</td><td>0</td><td>0</td><td>0</td><td>0</td><td>0</td><td>0</td><td>⋯</td><td>0</td><td>0</td><td> 0</td><td>0</td><td>0</td><td> 0</td><td>0</td><td>0</td><td>0</td><td>0</td></tr>\n",
              "\t<tr><td>2022-08-09 20:00:00</td><td> 0</td><td>0</td><td>0</td><td>0</td><td>0</td><td>0</td><td>0</td><td>0</td><td>0</td><td>⋯</td><td>0</td><td>0</td><td> 0</td><td>0</td><td>0</td><td> 0</td><td>0</td><td>0</td><td>0</td><td>0</td></tr>\n",
              "\t<tr><td>2022-08-10 08:00:00</td><td> 0</td><td>0</td><td>0</td><td>0</td><td>0</td><td>0</td><td>0</td><td>0</td><td>0</td><td>⋯</td><td>0</td><td>0</td><td> 0</td><td>0</td><td>0</td><td> 0</td><td>0</td><td>0</td><td>0</td><td>0</td></tr>\n",
              "\t<tr><td>2022-08-10 14:00:00</td><td> 0</td><td>0</td><td>0</td><td>0</td><td>0</td><td>0</td><td>0</td><td>0</td><td>0</td><td>⋯</td><td>0</td><td>0</td><td> 0</td><td>0</td><td>0</td><td> 0</td><td>0</td><td>0</td><td>0</td><td>0</td></tr>\n",
              "\t<tr><td>2022-08-10 20:00:00</td><td> 0</td><td>0</td><td>0</td><td>0</td><td>0</td><td>0</td><td>0</td><td>0</td><td>0</td><td>⋯</td><td>0</td><td>0</td><td> 0</td><td>0</td><td>0</td><td> 0</td><td>0</td><td>0</td><td>0</td><td>0</td></tr>\n",
              "\t<tr><td>2022-08-11 08:00:00</td><td> 0</td><td>0</td><td>0</td><td>0</td><td>0</td><td>0</td><td>0</td><td>0</td><td>0</td><td>⋯</td><td>0</td><td>0</td><td> 0</td><td>0</td><td>0</td><td> 0</td><td>0</td><td>0</td><td>0</td><td>0</td></tr>\n",
              "\t<tr><td>2022-08-11 14:00:00</td><td> 0</td><td>0</td><td>0</td><td>0</td><td>0</td><td>0</td><td>0</td><td>0</td><td>0</td><td>⋯</td><td>0</td><td>0</td><td> 0</td><td>0</td><td>0</td><td> 0</td><td>0</td><td>0</td><td>0</td><td>0</td></tr>\n",
              "\t<tr><td>2022-08-11 20:00:00</td><td> 0</td><td>0</td><td>0</td><td>0</td><td>0</td><td>0</td><td>0</td><td>0</td><td>0</td><td>⋯</td><td>0</td><td>0</td><td> 0</td><td>0</td><td>0</td><td> 0</td><td>0</td><td>0</td><td>0</td><td>0</td></tr>\n",
              "\t<tr><td>2022-08-12 08:00:00</td><td> 0</td><td>0</td><td>0</td><td>0</td><td>0</td><td>0</td><td>0</td><td>0</td><td>0</td><td>⋯</td><td>0</td><td>0</td><td> 0</td><td>0</td><td>0</td><td> 0</td><td>0</td><td>0</td><td>0</td><td>0</td></tr>\n",
              "\t<tr><td>2022-08-12 14:00:00</td><td> 0</td><td>0</td><td>0</td><td>0</td><td>0</td><td>0</td><td>0</td><td>0</td><td>0</td><td>⋯</td><td>0</td><td>0</td><td> 0</td><td>0</td><td>0</td><td> 0</td><td>0</td><td>0</td><td>0</td><td>0</td></tr>\n",
              "\t<tr><td>2022-08-12 20:00:00</td><td> 0</td><td>0</td><td>0</td><td>0</td><td>0</td><td>0</td><td>0</td><td>0</td><td>0</td><td>⋯</td><td>0</td><td>0</td><td> 0</td><td>0</td><td>0</td><td> 0</td><td>0</td><td>0</td><td>0</td><td>0</td></tr>\n",
              "\t<tr><td>2022-08-15 08:00:00</td><td> 0</td><td>0</td><td>0</td><td>0</td><td>0</td><td>0</td><td>0</td><td>0</td><td>0</td><td>⋯</td><td>0</td><td>0</td><td> 0</td><td>0</td><td>0</td><td> 0</td><td>0</td><td>0</td><td>0</td><td>0</td></tr>\n",
              "\t<tr><td>2022-08-15 14:00:00</td><td> 0</td><td>0</td><td>0</td><td>0</td><td>0</td><td>0</td><td>0</td><td>0</td><td>0</td><td>⋯</td><td>0</td><td>0</td><td> 0</td><td>0</td><td>0</td><td> 0</td><td>0</td><td>0</td><td>0</td><td>0</td></tr>\n",
              "\t<tr><td>2022-08-15 20:00:00</td><td> 0</td><td>0</td><td>0</td><td>0</td><td>0</td><td>0</td><td>0</td><td>0</td><td>0</td><td>⋯</td><td>0</td><td>0</td><td> 0</td><td>0</td><td>0</td><td> 0</td><td>0</td><td>0</td><td>0</td><td>0</td></tr>\n",
              "\t<tr><td>2022-08-16 08:00:00</td><td> 0</td><td>0</td><td>0</td><td>0</td><td>0</td><td>0</td><td>0</td><td>0</td><td>0</td><td>⋯</td><td>0</td><td>0</td><td> 0</td><td>0</td><td>0</td><td> 0</td><td>0</td><td>0</td><td>0</td><td>0</td></tr>\n",
              "\t<tr><td>2022-08-16 14:00:00</td><td> 0</td><td>0</td><td>0</td><td>0</td><td>0</td><td>0</td><td>0</td><td>0</td><td>0</td><td>⋯</td><td>0</td><td>0</td><td> 0</td><td>0</td><td>0</td><td> 0</td><td>0</td><td>0</td><td>0</td><td>0</td></tr>\n",
              "\t<tr><td>2022-08-16 20:00:00</td><td> 0</td><td>0</td><td>0</td><td>0</td><td>0</td><td>0</td><td>0</td><td>0</td><td>0</td><td>⋯</td><td>0</td><td>0</td><td> 0</td><td>0</td><td>0</td><td> 0</td><td>0</td><td>0</td><td>0</td><td>0</td></tr>\n",
              "\t<tr><td>2022-08-17 08:00:00</td><td> 0</td><td>0</td><td>0</td><td>0</td><td>0</td><td>0</td><td>0</td><td>0</td><td>0</td><td>⋯</td><td>0</td><td>0</td><td> 0</td><td>0</td><td>0</td><td> 0</td><td>0</td><td>0</td><td>0</td><td>0</td></tr>\n",
              "\t<tr><td>2022-08-17 14:00:00</td><td> 0</td><td>0</td><td>0</td><td>0</td><td>0</td><td>0</td><td>0</td><td>0</td><td>0</td><td>⋯</td><td>0</td><td>0</td><td> 0</td><td>0</td><td>0</td><td> 0</td><td>0</td><td>0</td><td>0</td><td>0</td></tr>\n",
              "\t<tr><td>2022-08-17 20:00:00</td><td> 0</td><td>0</td><td>0</td><td>0</td><td>0</td><td>0</td><td>0</td><td>0</td><td>0</td><td>⋯</td><td>0</td><td>0</td><td> 0</td><td>0</td><td>0</td><td> 0</td><td>0</td><td>0</td><td>0</td><td>0</td></tr>\n",
              "\t<tr><td>2022-08-18 08:00:00</td><td> 0</td><td>0</td><td>0</td><td>0</td><td>0</td><td>0</td><td>0</td><td>0</td><td>0</td><td>⋯</td><td>0</td><td>0</td><td> 0</td><td>0</td><td>0</td><td> 0</td><td>0</td><td>0</td><td>0</td><td>0</td></tr>\n",
              "\t<tr><td>2022-08-18 14:00:00</td><td> 0</td><td>0</td><td>0</td><td>0</td><td>0</td><td>0</td><td>0</td><td>0</td><td>0</td><td>⋯</td><td>0</td><td>0</td><td> 0</td><td>0</td><td>0</td><td> 0</td><td>0</td><td>0</td><td>0</td><td>0</td></tr>\n",
              "\t<tr><td>2022-08-18 20:00:00</td><td> 0</td><td>0</td><td>0</td><td>0</td><td>0</td><td>0</td><td>0</td><td>0</td><td>0</td><td>⋯</td><td>0</td><td>0</td><td> 0</td><td>0</td><td>0</td><td> 0</td><td>0</td><td>0</td><td>0</td><td>0</td></tr>\n",
              "\t<tr><td>2022-08-19 08:00:00</td><td> 0</td><td>0</td><td>0</td><td>0</td><td>0</td><td>0</td><td>0</td><td>0</td><td>0</td><td>⋯</td><td>0</td><td>0</td><td> 0</td><td>0</td><td>0</td><td> 0</td><td>0</td><td>0</td><td>0</td><td>0</td></tr>\n",
              "\t<tr><td>2022-08-19 14:00:00</td><td> 0</td><td>0</td><td>0</td><td>0</td><td>0</td><td>0</td><td>0</td><td>0</td><td>0</td><td>⋯</td><td>0</td><td>0</td><td> 0</td><td>0</td><td>0</td><td> 0</td><td>0</td><td>0</td><td>0</td><td>0</td></tr>\n",
              "\t<tr><td>2022-08-19 20:00:00</td><td> 0</td><td>0</td><td>0</td><td>0</td><td>0</td><td>0</td><td>0</td><td>0</td><td>0</td><td>⋯</td><td>0</td><td>0</td><td> 0</td><td>0</td><td>0</td><td> 0</td><td>0</td><td>0</td><td>0</td><td>0</td></tr>\n",
              "\t<tr><td>2022-08-22 08:00:00</td><td> 5</td><td>4</td><td>2</td><td>4</td><td>6</td><td>6</td><td>4</td><td>3</td><td>5</td><td>⋯</td><td>3</td><td>2</td><td> 5</td><td>5</td><td>3</td><td>12</td><td>1</td><td>1</td><td>4</td><td>2</td></tr>\n",
              "\t<tr><td>2022-08-22 14:00:00</td><td> 5</td><td>5</td><td>4</td><td>3</td><td>6</td><td>4</td><td>4</td><td>3</td><td>8</td><td>⋯</td><td>1</td><td>2</td><td> 5</td><td>5</td><td>3</td><td>10</td><td>1</td><td>1</td><td>4</td><td>2</td></tr>\n",
              "\t<tr><td>2022-08-22 20:00:00</td><td> 8</td><td>3</td><td>1</td><td>3</td><td>6</td><td>5</td><td>5</td><td>3</td><td>0</td><td>⋯</td><td>2</td><td>3</td><td> 2</td><td>5</td><td>3</td><td>12</td><td>2</td><td>1</td><td>4</td><td>1</td></tr>\n",
              "\t<tr><td>2022-08-23 08:00:00</td><td> 7</td><td>5</td><td>1</td><td>5</td><td>5</td><td>6</td><td>2</td><td>3</td><td>3</td><td>⋯</td><td>4</td><td>2</td><td> 5</td><td>5</td><td>3</td><td> 8</td><td>2</td><td>1</td><td>4</td><td>2</td></tr>\n",
              "\t<tr><td>2022-08-23 14:00:00</td><td> 3</td><td>5</td><td>2</td><td>4</td><td>5</td><td>4</td><td>2</td><td>3</td><td>6</td><td>⋯</td><td>3</td><td>2</td><td> 5</td><td>5</td><td>3</td><td> 7</td><td>3</td><td>0</td><td>4</td><td>1</td></tr>\n",
              "\t<tr><td>2022-08-23 20:00:00</td><td> 8</td><td>3</td><td>4</td><td>2</td><td>5</td><td>5</td><td>3</td><td>3</td><td>6</td><td>⋯</td><td>4</td><td>3</td><td>-1</td><td>5</td><td>3</td><td> 9</td><td>3</td><td>0</td><td>4</td><td>0</td></tr>\n",
              "\t<tr><td>2022-08-24 08:00:00</td><td> 4</td><td>4</td><td>2</td><td>3</td><td>5</td><td>5</td><td>2</td><td>3</td><td>3</td><td>⋯</td><td>5</td><td>2</td><td> 6</td><td>5</td><td>3</td><td> 8</td><td>2</td><td>1</td><td>4</td><td>2</td></tr>\n",
              "\t<tr><td>2022-08-24 14:00:00</td><td> 3</td><td>5</td><td>5</td><td>2</td><td>4</td><td>3</td><td>1</td><td>3</td><td>6</td><td>⋯</td><td>3</td><td>2</td><td> 6</td><td>5</td><td>3</td><td> 7</td><td>2</td><td>1</td><td>4</td><td>1</td></tr>\n",
              "\t<tr><td>2022-08-24 20:00:00</td><td> 6</td><td>4</td><td>1</td><td>2</td><td>5</td><td>4</td><td>3</td><td>3</td><td>3</td><td>⋯</td><td>3</td><td>3</td><td> 3</td><td>5</td><td>3</td><td> 8</td><td>3</td><td>1</td><td>4</td><td>0</td></tr>\n",
              "\t<tr><td>2022-08-25 08:00:00</td><td> 5</td><td>4</td><td>1</td><td>2</td><td>7</td><td>4</td><td>3</td><td>3</td><td>1</td><td>⋯</td><td>5</td><td>3</td><td> 3</td><td>5</td><td>3</td><td> 9</td><td>2</td><td>5</td><td>4</td><td>2</td></tr>\n",
              "\t<tr><td>2022-08-25 14:00:00</td><td> 2</td><td>5</td><td>3</td><td>2</td><td>6</td><td>2</td><td>2</td><td>3</td><td>7</td><td>⋯</td><td>4</td><td>3</td><td> 3</td><td>5</td><td>3</td><td> 9</td><td>2</td><td>5</td><td>4</td><td>2</td></tr>\n",
              "\t<tr><td>2022-08-25 20:00:00</td><td> 8</td><td>7</td><td>2</td><td>1</td><td>7</td><td>4</td><td>3</td><td>3</td><td>1</td><td>⋯</td><td>4</td><td>5</td><td> 3</td><td>5</td><td>3</td><td>10</td><td>3</td><td>1</td><td>4</td><td>1</td></tr>\n",
              "\t<tr><td>2022-08-26 08:00:00</td><td> 8</td><td>5</td><td>1</td><td>4</td><td>5</td><td>4</td><td>2</td><td>3</td><td>1</td><td>⋯</td><td>5</td><td>3</td><td> 3</td><td>5</td><td>3</td><td>10</td><td>3</td><td>1</td><td>4</td><td>2</td></tr>\n",
              "\t<tr><td>2022-08-26 14:00:00</td><td> 6</td><td>5</td><td>3</td><td>3</td><td>4</td><td>2</td><td>2</td><td>3</td><td>7</td><td>⋯</td><td>2</td><td>3</td><td> 3</td><td>5</td><td>3</td><td> 9</td><td>3</td><td>2</td><td>4</td><td>1</td></tr>\n",
              "\t<tr><td>2022-08-26 20:00:00</td><td>11</td><td>3</td><td>5</td><td>1</td><td>4</td><td>4</td><td>3</td><td>3</td><td>1</td><td>⋯</td><td>3</td><td>4</td><td> 2</td><td>5</td><td>3</td><td>10</td><td>4</td><td>1</td><td>4</td><td>0</td></tr>\n",
              "</tbody>\n",
              "</table>\n"
            ],
            "text/markdown": "\nA data.frame: 60 × 21\n\n| dias &lt;dttm&gt; | predict &lt;dbl&gt; | predict.1 &lt;dbl&gt; | predict.2 &lt;dbl&gt; | predict.3 &lt;dbl&gt; | predict.4 &lt;dbl&gt; | predict.5 &lt;dbl&gt; | predict.6 &lt;dbl&gt; | predict.7 &lt;dbl&gt; | predict.8 &lt;dbl&gt; | ⋯ ⋯ | predict.10 &lt;dbl&gt; | predict.11 &lt;dbl&gt; | predict.12 &lt;dbl&gt; | predict.13 &lt;dbl&gt; | predict.14 &lt;dbl&gt; | predict.15 &lt;dbl&gt; | predict.16 &lt;dbl&gt; | predict.17 &lt;dbl&gt; | predict.18 &lt;dbl&gt; | predict.19 &lt;dbl&gt; |\n|---|---|---|---|---|---|---|---|---|---|---|---|---|---|---|---|---|---|---|---|---|\n| 2022-08-01 08:00:00 |  0 | 0 | 0 | 0 | 0 | 0 | 0 | 0 | 0 | ⋯ | 0 | 0 |  0 | 0 | 0 |  0 | 0 | 0 | 0 | 0 |\n| 2022-08-01 14:00:00 |  0 | 0 | 0 | 0 | 0 | 0 | 0 | 0 | 0 | ⋯ | 0 | 0 |  0 | 0 | 0 |  0 | 0 | 0 | 0 | 0 |\n| 2022-08-01 20:00:00 |  0 | 0 | 0 | 0 | 0 | 0 | 0 | 0 | 0 | ⋯ | 0 | 0 |  0 | 0 | 0 |  0 | 0 | 0 | 0 | 0 |\n| 2022-08-02 08:00:00 |  0 | 0 | 0 | 0 | 0 | 0 | 0 | 0 | 0 | ⋯ | 0 | 0 |  0 | 0 | 0 |  0 | 0 | 0 | 0 | 0 |\n| 2022-08-02 14:00:00 |  0 | 0 | 0 | 0 | 0 | 0 | 0 | 0 | 0 | ⋯ | 0 | 0 |  0 | 0 | 0 |  0 | 0 | 0 | 0 | 0 |\n| 2022-08-02 20:00:00 |  0 | 0 | 0 | 0 | 0 | 0 | 0 | 0 | 0 | ⋯ | 0 | 0 |  0 | 0 | 0 |  0 | 0 | 0 | 0 | 0 |\n| 2022-08-03 08:00:00 |  0 | 0 | 0 | 0 | 0 | 0 | 0 | 0 | 0 | ⋯ | 0 | 0 |  0 | 0 | 0 |  0 | 0 | 0 | 0 | 0 |\n| 2022-08-03 14:00:00 |  0 | 0 | 0 | 0 | 0 | 0 | 0 | 0 | 0 | ⋯ | 0 | 0 |  0 | 0 | 0 |  0 | 0 | 0 | 0 | 0 |\n| 2022-08-03 20:00:00 |  0 | 0 | 0 | 0 | 0 | 0 | 0 | 0 | 0 | ⋯ | 0 | 0 |  0 | 0 | 0 |  0 | 0 | 0 | 0 | 0 |\n| 2022-08-04 08:00:00 |  0 | 0 | 0 | 0 | 0 | 0 | 0 | 0 | 0 | ⋯ | 0 | 0 |  0 | 0 | 0 |  0 | 0 | 0 | 0 | 0 |\n| 2022-08-04 14:00:00 |  0 | 0 | 0 | 0 | 0 | 0 | 0 | 0 | 0 | ⋯ | 0 | 0 |  0 | 0 | 0 |  0 | 0 | 0 | 0 | 0 |\n| 2022-08-04 20:00:00 |  0 | 0 | 0 | 0 | 0 | 0 | 0 | 0 | 0 | ⋯ | 0 | 0 |  0 | 0 | 0 |  0 | 0 | 0 | 0 | 0 |\n| 2022-08-05 08:00:00 |  0 | 0 | 0 | 0 | 0 | 0 | 0 | 0 | 0 | ⋯ | 0 | 0 |  0 | 0 | 0 |  0 | 0 | 0 | 0 | 0 |\n| 2022-08-05 14:00:00 |  0 | 0 | 0 | 0 | 0 | 0 | 0 | 0 | 0 | ⋯ | 0 | 0 |  0 | 0 | 0 |  0 | 0 | 0 | 0 | 0 |\n| 2022-08-05 20:00:00 |  0 | 0 | 0 | 0 | 0 | 0 | 0 | 0 | 0 | ⋯ | 0 | 0 |  0 | 0 | 0 |  0 | 0 | 0 | 0 | 0 |\n| 2022-08-08 08:00:00 |  0 | 0 | 0 | 0 | 0 | 0 | 0 | 0 | 0 | ⋯ | 0 | 0 |  0 | 0 | 0 |  0 | 0 | 0 | 0 | 0 |\n| 2022-08-08 14:00:00 |  0 | 0 | 0 | 0 | 0 | 0 | 0 | 0 | 0 | ⋯ | 0 | 0 |  0 | 0 | 0 |  0 | 0 | 0 | 0 | 0 |\n| 2022-08-08 20:00:00 |  0 | 0 | 0 | 0 | 0 | 0 | 0 | 0 | 0 | ⋯ | 0 | 0 |  0 | 0 | 0 |  0 | 0 | 0 | 0 | 0 |\n| 2022-08-09 08:00:00 |  0 | 0 | 0 | 0 | 0 | 0 | 0 | 0 | 0 | ⋯ | 0 | 0 |  0 | 0 | 0 |  0 | 0 | 0 | 0 | 0 |\n| 2022-08-09 14:00:00 |  0 | 0 | 0 | 0 | 0 | 0 | 0 | 0 | 0 | ⋯ | 0 | 0 |  0 | 0 | 0 |  0 | 0 | 0 | 0 | 0 |\n| 2022-08-09 20:00:00 |  0 | 0 | 0 | 0 | 0 | 0 | 0 | 0 | 0 | ⋯ | 0 | 0 |  0 | 0 | 0 |  0 | 0 | 0 | 0 | 0 |\n| 2022-08-10 08:00:00 |  0 | 0 | 0 | 0 | 0 | 0 | 0 | 0 | 0 | ⋯ | 0 | 0 |  0 | 0 | 0 |  0 | 0 | 0 | 0 | 0 |\n| 2022-08-10 14:00:00 |  0 | 0 | 0 | 0 | 0 | 0 | 0 | 0 | 0 | ⋯ | 0 | 0 |  0 | 0 | 0 |  0 | 0 | 0 | 0 | 0 |\n| 2022-08-10 20:00:00 |  0 | 0 | 0 | 0 | 0 | 0 | 0 | 0 | 0 | ⋯ | 0 | 0 |  0 | 0 | 0 |  0 | 0 | 0 | 0 | 0 |\n| 2022-08-11 08:00:00 |  0 | 0 | 0 | 0 | 0 | 0 | 0 | 0 | 0 | ⋯ | 0 | 0 |  0 | 0 | 0 |  0 | 0 | 0 | 0 | 0 |\n| 2022-08-11 14:00:00 |  0 | 0 | 0 | 0 | 0 | 0 | 0 | 0 | 0 | ⋯ | 0 | 0 |  0 | 0 | 0 |  0 | 0 | 0 | 0 | 0 |\n| 2022-08-11 20:00:00 |  0 | 0 | 0 | 0 | 0 | 0 | 0 | 0 | 0 | ⋯ | 0 | 0 |  0 | 0 | 0 |  0 | 0 | 0 | 0 | 0 |\n| 2022-08-12 08:00:00 |  0 | 0 | 0 | 0 | 0 | 0 | 0 | 0 | 0 | ⋯ | 0 | 0 |  0 | 0 | 0 |  0 | 0 | 0 | 0 | 0 |\n| 2022-08-12 14:00:00 |  0 | 0 | 0 | 0 | 0 | 0 | 0 | 0 | 0 | ⋯ | 0 | 0 |  0 | 0 | 0 |  0 | 0 | 0 | 0 | 0 |\n| 2022-08-12 20:00:00 |  0 | 0 | 0 | 0 | 0 | 0 | 0 | 0 | 0 | ⋯ | 0 | 0 |  0 | 0 | 0 |  0 | 0 | 0 | 0 | 0 |\n| 2022-08-15 08:00:00 |  0 | 0 | 0 | 0 | 0 | 0 | 0 | 0 | 0 | ⋯ | 0 | 0 |  0 | 0 | 0 |  0 | 0 | 0 | 0 | 0 |\n| 2022-08-15 14:00:00 |  0 | 0 | 0 | 0 | 0 | 0 | 0 | 0 | 0 | ⋯ | 0 | 0 |  0 | 0 | 0 |  0 | 0 | 0 | 0 | 0 |\n| 2022-08-15 20:00:00 |  0 | 0 | 0 | 0 | 0 | 0 | 0 | 0 | 0 | ⋯ | 0 | 0 |  0 | 0 | 0 |  0 | 0 | 0 | 0 | 0 |\n| 2022-08-16 08:00:00 |  0 | 0 | 0 | 0 | 0 | 0 | 0 | 0 | 0 | ⋯ | 0 | 0 |  0 | 0 | 0 |  0 | 0 | 0 | 0 | 0 |\n| 2022-08-16 14:00:00 |  0 | 0 | 0 | 0 | 0 | 0 | 0 | 0 | 0 | ⋯ | 0 | 0 |  0 | 0 | 0 |  0 | 0 | 0 | 0 | 0 |\n| 2022-08-16 20:00:00 |  0 | 0 | 0 | 0 | 0 | 0 | 0 | 0 | 0 | ⋯ | 0 | 0 |  0 | 0 | 0 |  0 | 0 | 0 | 0 | 0 |\n| 2022-08-17 08:00:00 |  0 | 0 | 0 | 0 | 0 | 0 | 0 | 0 | 0 | ⋯ | 0 | 0 |  0 | 0 | 0 |  0 | 0 | 0 | 0 | 0 |\n| 2022-08-17 14:00:00 |  0 | 0 | 0 | 0 | 0 | 0 | 0 | 0 | 0 | ⋯ | 0 | 0 |  0 | 0 | 0 |  0 | 0 | 0 | 0 | 0 |\n| 2022-08-17 20:00:00 |  0 | 0 | 0 | 0 | 0 | 0 | 0 | 0 | 0 | ⋯ | 0 | 0 |  0 | 0 | 0 |  0 | 0 | 0 | 0 | 0 |\n| 2022-08-18 08:00:00 |  0 | 0 | 0 | 0 | 0 | 0 | 0 | 0 | 0 | ⋯ | 0 | 0 |  0 | 0 | 0 |  0 | 0 | 0 | 0 | 0 |\n| 2022-08-18 14:00:00 |  0 | 0 | 0 | 0 | 0 | 0 | 0 | 0 | 0 | ⋯ | 0 | 0 |  0 | 0 | 0 |  0 | 0 | 0 | 0 | 0 |\n| 2022-08-18 20:00:00 |  0 | 0 | 0 | 0 | 0 | 0 | 0 | 0 | 0 | ⋯ | 0 | 0 |  0 | 0 | 0 |  0 | 0 | 0 | 0 | 0 |\n| 2022-08-19 08:00:00 |  0 | 0 | 0 | 0 | 0 | 0 | 0 | 0 | 0 | ⋯ | 0 | 0 |  0 | 0 | 0 |  0 | 0 | 0 | 0 | 0 |\n| 2022-08-19 14:00:00 |  0 | 0 | 0 | 0 | 0 | 0 | 0 | 0 | 0 | ⋯ | 0 | 0 |  0 | 0 | 0 |  0 | 0 | 0 | 0 | 0 |\n| 2022-08-19 20:00:00 |  0 | 0 | 0 | 0 | 0 | 0 | 0 | 0 | 0 | ⋯ | 0 | 0 |  0 | 0 | 0 |  0 | 0 | 0 | 0 | 0 |\n| 2022-08-22 08:00:00 |  5 | 4 | 2 | 4 | 6 | 6 | 4 | 3 | 5 | ⋯ | 3 | 2 |  5 | 5 | 3 | 12 | 1 | 1 | 4 | 2 |\n| 2022-08-22 14:00:00 |  5 | 5 | 4 | 3 | 6 | 4 | 4 | 3 | 8 | ⋯ | 1 | 2 |  5 | 5 | 3 | 10 | 1 | 1 | 4 | 2 |\n| 2022-08-22 20:00:00 |  8 | 3 | 1 | 3 | 6 | 5 | 5 | 3 | 0 | ⋯ | 2 | 3 |  2 | 5 | 3 | 12 | 2 | 1 | 4 | 1 |\n| 2022-08-23 08:00:00 |  7 | 5 | 1 | 5 | 5 | 6 | 2 | 3 | 3 | ⋯ | 4 | 2 |  5 | 5 | 3 |  8 | 2 | 1 | 4 | 2 |\n| 2022-08-23 14:00:00 |  3 | 5 | 2 | 4 | 5 | 4 | 2 | 3 | 6 | ⋯ | 3 | 2 |  5 | 5 | 3 |  7 | 3 | 0 | 4 | 1 |\n| 2022-08-23 20:00:00 |  8 | 3 | 4 | 2 | 5 | 5 | 3 | 3 | 6 | ⋯ | 4 | 3 | -1 | 5 | 3 |  9 | 3 | 0 | 4 | 0 |\n| 2022-08-24 08:00:00 |  4 | 4 | 2 | 3 | 5 | 5 | 2 | 3 | 3 | ⋯ | 5 | 2 |  6 | 5 | 3 |  8 | 2 | 1 | 4 | 2 |\n| 2022-08-24 14:00:00 |  3 | 5 | 5 | 2 | 4 | 3 | 1 | 3 | 6 | ⋯ | 3 | 2 |  6 | 5 | 3 |  7 | 2 | 1 | 4 | 1 |\n| 2022-08-24 20:00:00 |  6 | 4 | 1 | 2 | 5 | 4 | 3 | 3 | 3 | ⋯ | 3 | 3 |  3 | 5 | 3 |  8 | 3 | 1 | 4 | 0 |\n| 2022-08-25 08:00:00 |  5 | 4 | 1 | 2 | 7 | 4 | 3 | 3 | 1 | ⋯ | 5 | 3 |  3 | 5 | 3 |  9 | 2 | 5 | 4 | 2 |\n| 2022-08-25 14:00:00 |  2 | 5 | 3 | 2 | 6 | 2 | 2 | 3 | 7 | ⋯ | 4 | 3 |  3 | 5 | 3 |  9 | 2 | 5 | 4 | 2 |\n| 2022-08-25 20:00:00 |  8 | 7 | 2 | 1 | 7 | 4 | 3 | 3 | 1 | ⋯ | 4 | 5 |  3 | 5 | 3 | 10 | 3 | 1 | 4 | 1 |\n| 2022-08-26 08:00:00 |  8 | 5 | 1 | 4 | 5 | 4 | 2 | 3 | 1 | ⋯ | 5 | 3 |  3 | 5 | 3 | 10 | 3 | 1 | 4 | 2 |\n| 2022-08-26 14:00:00 |  6 | 5 | 3 | 3 | 4 | 2 | 2 | 3 | 7 | ⋯ | 2 | 3 |  3 | 5 | 3 |  9 | 3 | 2 | 4 | 1 |\n| 2022-08-26 20:00:00 | 11 | 3 | 5 | 1 | 4 | 4 | 3 | 3 | 1 | ⋯ | 3 | 4 |  2 | 5 | 3 | 10 | 4 | 1 | 4 | 0 |\n\n",
            "text/latex": "A data.frame: 60 × 21\n\\begin{tabular}{lllllllllllllllllllll}\n dias & predict & predict.1 & predict.2 & predict.3 & predict.4 & predict.5 & predict.6 & predict.7 & predict.8 & ⋯ & predict.10 & predict.11 & predict.12 & predict.13 & predict.14 & predict.15 & predict.16 & predict.17 & predict.18 & predict.19\\\\\n <dttm> & <dbl> & <dbl> & <dbl> & <dbl> & <dbl> & <dbl> & <dbl> & <dbl> & <dbl> & ⋯ & <dbl> & <dbl> & <dbl> & <dbl> & <dbl> & <dbl> & <dbl> & <dbl> & <dbl> & <dbl>\\\\\n\\hline\n\t 2022-08-01 08:00:00 &  0 & 0 & 0 & 0 & 0 & 0 & 0 & 0 & 0 & ⋯ & 0 & 0 &  0 & 0 & 0 &  0 & 0 & 0 & 0 & 0\\\\\n\t 2022-08-01 14:00:00 &  0 & 0 & 0 & 0 & 0 & 0 & 0 & 0 & 0 & ⋯ & 0 & 0 &  0 & 0 & 0 &  0 & 0 & 0 & 0 & 0\\\\\n\t 2022-08-01 20:00:00 &  0 & 0 & 0 & 0 & 0 & 0 & 0 & 0 & 0 & ⋯ & 0 & 0 &  0 & 0 & 0 &  0 & 0 & 0 & 0 & 0\\\\\n\t 2022-08-02 08:00:00 &  0 & 0 & 0 & 0 & 0 & 0 & 0 & 0 & 0 & ⋯ & 0 & 0 &  0 & 0 & 0 &  0 & 0 & 0 & 0 & 0\\\\\n\t 2022-08-02 14:00:00 &  0 & 0 & 0 & 0 & 0 & 0 & 0 & 0 & 0 & ⋯ & 0 & 0 &  0 & 0 & 0 &  0 & 0 & 0 & 0 & 0\\\\\n\t 2022-08-02 20:00:00 &  0 & 0 & 0 & 0 & 0 & 0 & 0 & 0 & 0 & ⋯ & 0 & 0 &  0 & 0 & 0 &  0 & 0 & 0 & 0 & 0\\\\\n\t 2022-08-03 08:00:00 &  0 & 0 & 0 & 0 & 0 & 0 & 0 & 0 & 0 & ⋯ & 0 & 0 &  0 & 0 & 0 &  0 & 0 & 0 & 0 & 0\\\\\n\t 2022-08-03 14:00:00 &  0 & 0 & 0 & 0 & 0 & 0 & 0 & 0 & 0 & ⋯ & 0 & 0 &  0 & 0 & 0 &  0 & 0 & 0 & 0 & 0\\\\\n\t 2022-08-03 20:00:00 &  0 & 0 & 0 & 0 & 0 & 0 & 0 & 0 & 0 & ⋯ & 0 & 0 &  0 & 0 & 0 &  0 & 0 & 0 & 0 & 0\\\\\n\t 2022-08-04 08:00:00 &  0 & 0 & 0 & 0 & 0 & 0 & 0 & 0 & 0 & ⋯ & 0 & 0 &  0 & 0 & 0 &  0 & 0 & 0 & 0 & 0\\\\\n\t 2022-08-04 14:00:00 &  0 & 0 & 0 & 0 & 0 & 0 & 0 & 0 & 0 & ⋯ & 0 & 0 &  0 & 0 & 0 &  0 & 0 & 0 & 0 & 0\\\\\n\t 2022-08-04 20:00:00 &  0 & 0 & 0 & 0 & 0 & 0 & 0 & 0 & 0 & ⋯ & 0 & 0 &  0 & 0 & 0 &  0 & 0 & 0 & 0 & 0\\\\\n\t 2022-08-05 08:00:00 &  0 & 0 & 0 & 0 & 0 & 0 & 0 & 0 & 0 & ⋯ & 0 & 0 &  0 & 0 & 0 &  0 & 0 & 0 & 0 & 0\\\\\n\t 2022-08-05 14:00:00 &  0 & 0 & 0 & 0 & 0 & 0 & 0 & 0 & 0 & ⋯ & 0 & 0 &  0 & 0 & 0 &  0 & 0 & 0 & 0 & 0\\\\\n\t 2022-08-05 20:00:00 &  0 & 0 & 0 & 0 & 0 & 0 & 0 & 0 & 0 & ⋯ & 0 & 0 &  0 & 0 & 0 &  0 & 0 & 0 & 0 & 0\\\\\n\t 2022-08-08 08:00:00 &  0 & 0 & 0 & 0 & 0 & 0 & 0 & 0 & 0 & ⋯ & 0 & 0 &  0 & 0 & 0 &  0 & 0 & 0 & 0 & 0\\\\\n\t 2022-08-08 14:00:00 &  0 & 0 & 0 & 0 & 0 & 0 & 0 & 0 & 0 & ⋯ & 0 & 0 &  0 & 0 & 0 &  0 & 0 & 0 & 0 & 0\\\\\n\t 2022-08-08 20:00:00 &  0 & 0 & 0 & 0 & 0 & 0 & 0 & 0 & 0 & ⋯ & 0 & 0 &  0 & 0 & 0 &  0 & 0 & 0 & 0 & 0\\\\\n\t 2022-08-09 08:00:00 &  0 & 0 & 0 & 0 & 0 & 0 & 0 & 0 & 0 & ⋯ & 0 & 0 &  0 & 0 & 0 &  0 & 0 & 0 & 0 & 0\\\\\n\t 2022-08-09 14:00:00 &  0 & 0 & 0 & 0 & 0 & 0 & 0 & 0 & 0 & ⋯ & 0 & 0 &  0 & 0 & 0 &  0 & 0 & 0 & 0 & 0\\\\\n\t 2022-08-09 20:00:00 &  0 & 0 & 0 & 0 & 0 & 0 & 0 & 0 & 0 & ⋯ & 0 & 0 &  0 & 0 & 0 &  0 & 0 & 0 & 0 & 0\\\\\n\t 2022-08-10 08:00:00 &  0 & 0 & 0 & 0 & 0 & 0 & 0 & 0 & 0 & ⋯ & 0 & 0 &  0 & 0 & 0 &  0 & 0 & 0 & 0 & 0\\\\\n\t 2022-08-10 14:00:00 &  0 & 0 & 0 & 0 & 0 & 0 & 0 & 0 & 0 & ⋯ & 0 & 0 &  0 & 0 & 0 &  0 & 0 & 0 & 0 & 0\\\\\n\t 2022-08-10 20:00:00 &  0 & 0 & 0 & 0 & 0 & 0 & 0 & 0 & 0 & ⋯ & 0 & 0 &  0 & 0 & 0 &  0 & 0 & 0 & 0 & 0\\\\\n\t 2022-08-11 08:00:00 &  0 & 0 & 0 & 0 & 0 & 0 & 0 & 0 & 0 & ⋯ & 0 & 0 &  0 & 0 & 0 &  0 & 0 & 0 & 0 & 0\\\\\n\t 2022-08-11 14:00:00 &  0 & 0 & 0 & 0 & 0 & 0 & 0 & 0 & 0 & ⋯ & 0 & 0 &  0 & 0 & 0 &  0 & 0 & 0 & 0 & 0\\\\\n\t 2022-08-11 20:00:00 &  0 & 0 & 0 & 0 & 0 & 0 & 0 & 0 & 0 & ⋯ & 0 & 0 &  0 & 0 & 0 &  0 & 0 & 0 & 0 & 0\\\\\n\t 2022-08-12 08:00:00 &  0 & 0 & 0 & 0 & 0 & 0 & 0 & 0 & 0 & ⋯ & 0 & 0 &  0 & 0 & 0 &  0 & 0 & 0 & 0 & 0\\\\\n\t 2022-08-12 14:00:00 &  0 & 0 & 0 & 0 & 0 & 0 & 0 & 0 & 0 & ⋯ & 0 & 0 &  0 & 0 & 0 &  0 & 0 & 0 & 0 & 0\\\\\n\t 2022-08-12 20:00:00 &  0 & 0 & 0 & 0 & 0 & 0 & 0 & 0 & 0 & ⋯ & 0 & 0 &  0 & 0 & 0 &  0 & 0 & 0 & 0 & 0\\\\\n\t 2022-08-15 08:00:00 &  0 & 0 & 0 & 0 & 0 & 0 & 0 & 0 & 0 & ⋯ & 0 & 0 &  0 & 0 & 0 &  0 & 0 & 0 & 0 & 0\\\\\n\t 2022-08-15 14:00:00 &  0 & 0 & 0 & 0 & 0 & 0 & 0 & 0 & 0 & ⋯ & 0 & 0 &  0 & 0 & 0 &  0 & 0 & 0 & 0 & 0\\\\\n\t 2022-08-15 20:00:00 &  0 & 0 & 0 & 0 & 0 & 0 & 0 & 0 & 0 & ⋯ & 0 & 0 &  0 & 0 & 0 &  0 & 0 & 0 & 0 & 0\\\\\n\t 2022-08-16 08:00:00 &  0 & 0 & 0 & 0 & 0 & 0 & 0 & 0 & 0 & ⋯ & 0 & 0 &  0 & 0 & 0 &  0 & 0 & 0 & 0 & 0\\\\\n\t 2022-08-16 14:00:00 &  0 & 0 & 0 & 0 & 0 & 0 & 0 & 0 & 0 & ⋯ & 0 & 0 &  0 & 0 & 0 &  0 & 0 & 0 & 0 & 0\\\\\n\t 2022-08-16 20:00:00 &  0 & 0 & 0 & 0 & 0 & 0 & 0 & 0 & 0 & ⋯ & 0 & 0 &  0 & 0 & 0 &  0 & 0 & 0 & 0 & 0\\\\\n\t 2022-08-17 08:00:00 &  0 & 0 & 0 & 0 & 0 & 0 & 0 & 0 & 0 & ⋯ & 0 & 0 &  0 & 0 & 0 &  0 & 0 & 0 & 0 & 0\\\\\n\t 2022-08-17 14:00:00 &  0 & 0 & 0 & 0 & 0 & 0 & 0 & 0 & 0 & ⋯ & 0 & 0 &  0 & 0 & 0 &  0 & 0 & 0 & 0 & 0\\\\\n\t 2022-08-17 20:00:00 &  0 & 0 & 0 & 0 & 0 & 0 & 0 & 0 & 0 & ⋯ & 0 & 0 &  0 & 0 & 0 &  0 & 0 & 0 & 0 & 0\\\\\n\t 2022-08-18 08:00:00 &  0 & 0 & 0 & 0 & 0 & 0 & 0 & 0 & 0 & ⋯ & 0 & 0 &  0 & 0 & 0 &  0 & 0 & 0 & 0 & 0\\\\\n\t 2022-08-18 14:00:00 &  0 & 0 & 0 & 0 & 0 & 0 & 0 & 0 & 0 & ⋯ & 0 & 0 &  0 & 0 & 0 &  0 & 0 & 0 & 0 & 0\\\\\n\t 2022-08-18 20:00:00 &  0 & 0 & 0 & 0 & 0 & 0 & 0 & 0 & 0 & ⋯ & 0 & 0 &  0 & 0 & 0 &  0 & 0 & 0 & 0 & 0\\\\\n\t 2022-08-19 08:00:00 &  0 & 0 & 0 & 0 & 0 & 0 & 0 & 0 & 0 & ⋯ & 0 & 0 &  0 & 0 & 0 &  0 & 0 & 0 & 0 & 0\\\\\n\t 2022-08-19 14:00:00 &  0 & 0 & 0 & 0 & 0 & 0 & 0 & 0 & 0 & ⋯ & 0 & 0 &  0 & 0 & 0 &  0 & 0 & 0 & 0 & 0\\\\\n\t 2022-08-19 20:00:00 &  0 & 0 & 0 & 0 & 0 & 0 & 0 & 0 & 0 & ⋯ & 0 & 0 &  0 & 0 & 0 &  0 & 0 & 0 & 0 & 0\\\\\n\t 2022-08-22 08:00:00 &  5 & 4 & 2 & 4 & 6 & 6 & 4 & 3 & 5 & ⋯ & 3 & 2 &  5 & 5 & 3 & 12 & 1 & 1 & 4 & 2\\\\\n\t 2022-08-22 14:00:00 &  5 & 5 & 4 & 3 & 6 & 4 & 4 & 3 & 8 & ⋯ & 1 & 2 &  5 & 5 & 3 & 10 & 1 & 1 & 4 & 2\\\\\n\t 2022-08-22 20:00:00 &  8 & 3 & 1 & 3 & 6 & 5 & 5 & 3 & 0 & ⋯ & 2 & 3 &  2 & 5 & 3 & 12 & 2 & 1 & 4 & 1\\\\\n\t 2022-08-23 08:00:00 &  7 & 5 & 1 & 5 & 5 & 6 & 2 & 3 & 3 & ⋯ & 4 & 2 &  5 & 5 & 3 &  8 & 2 & 1 & 4 & 2\\\\\n\t 2022-08-23 14:00:00 &  3 & 5 & 2 & 4 & 5 & 4 & 2 & 3 & 6 & ⋯ & 3 & 2 &  5 & 5 & 3 &  7 & 3 & 0 & 4 & 1\\\\\n\t 2022-08-23 20:00:00 &  8 & 3 & 4 & 2 & 5 & 5 & 3 & 3 & 6 & ⋯ & 4 & 3 & -1 & 5 & 3 &  9 & 3 & 0 & 4 & 0\\\\\n\t 2022-08-24 08:00:00 &  4 & 4 & 2 & 3 & 5 & 5 & 2 & 3 & 3 & ⋯ & 5 & 2 &  6 & 5 & 3 &  8 & 2 & 1 & 4 & 2\\\\\n\t 2022-08-24 14:00:00 &  3 & 5 & 5 & 2 & 4 & 3 & 1 & 3 & 6 & ⋯ & 3 & 2 &  6 & 5 & 3 &  7 & 2 & 1 & 4 & 1\\\\\n\t 2022-08-24 20:00:00 &  6 & 4 & 1 & 2 & 5 & 4 & 3 & 3 & 3 & ⋯ & 3 & 3 &  3 & 5 & 3 &  8 & 3 & 1 & 4 & 0\\\\\n\t 2022-08-25 08:00:00 &  5 & 4 & 1 & 2 & 7 & 4 & 3 & 3 & 1 & ⋯ & 5 & 3 &  3 & 5 & 3 &  9 & 2 & 5 & 4 & 2\\\\\n\t 2022-08-25 14:00:00 &  2 & 5 & 3 & 2 & 6 & 2 & 2 & 3 & 7 & ⋯ & 4 & 3 &  3 & 5 & 3 &  9 & 2 & 5 & 4 & 2\\\\\n\t 2022-08-25 20:00:00 &  8 & 7 & 2 & 1 & 7 & 4 & 3 & 3 & 1 & ⋯ & 4 & 5 &  3 & 5 & 3 & 10 & 3 & 1 & 4 & 1\\\\\n\t 2022-08-26 08:00:00 &  8 & 5 & 1 & 4 & 5 & 4 & 2 & 3 & 1 & ⋯ & 5 & 3 &  3 & 5 & 3 & 10 & 3 & 1 & 4 & 2\\\\\n\t 2022-08-26 14:00:00 &  6 & 5 & 3 & 3 & 4 & 2 & 2 & 3 & 7 & ⋯ & 2 & 3 &  3 & 5 & 3 &  9 & 3 & 2 & 4 & 1\\\\\n\t 2022-08-26 20:00:00 & 11 & 3 & 5 & 1 & 4 & 4 & 3 & 3 & 1 & ⋯ & 3 & 4 &  2 & 5 & 3 & 10 & 4 & 1 & 4 & 0\\\\\n\\end{tabular}\n",
            "text/plain": [
              "   dias                predict predict.1 predict.2 predict.3 predict.4\n",
              "1  2022-08-01 08:00:00  0      0         0         0         0        \n",
              "2  2022-08-01 14:00:00  0      0         0         0         0        \n",
              "3  2022-08-01 20:00:00  0      0         0         0         0        \n",
              "4  2022-08-02 08:00:00  0      0         0         0         0        \n",
              "5  2022-08-02 14:00:00  0      0         0         0         0        \n",
              "6  2022-08-02 20:00:00  0      0         0         0         0        \n",
              "7  2022-08-03 08:00:00  0      0         0         0         0        \n",
              "8  2022-08-03 14:00:00  0      0         0         0         0        \n",
              "9  2022-08-03 20:00:00  0      0         0         0         0        \n",
              "10 2022-08-04 08:00:00  0      0         0         0         0        \n",
              "11 2022-08-04 14:00:00  0      0         0         0         0        \n",
              "12 2022-08-04 20:00:00  0      0         0         0         0        \n",
              "13 2022-08-05 08:00:00  0      0         0         0         0        \n",
              "14 2022-08-05 14:00:00  0      0         0         0         0        \n",
              "15 2022-08-05 20:00:00  0      0         0         0         0        \n",
              "16 2022-08-08 08:00:00  0      0         0         0         0        \n",
              "17 2022-08-08 14:00:00  0      0         0         0         0        \n",
              "18 2022-08-08 20:00:00  0      0         0         0         0        \n",
              "19 2022-08-09 08:00:00  0      0         0         0         0        \n",
              "20 2022-08-09 14:00:00  0      0         0         0         0        \n",
              "21 2022-08-09 20:00:00  0      0         0         0         0        \n",
              "22 2022-08-10 08:00:00  0      0         0         0         0        \n",
              "23 2022-08-10 14:00:00  0      0         0         0         0        \n",
              "24 2022-08-10 20:00:00  0      0         0         0         0        \n",
              "25 2022-08-11 08:00:00  0      0         0         0         0        \n",
              "26 2022-08-11 14:00:00  0      0         0         0         0        \n",
              "27 2022-08-11 20:00:00  0      0         0         0         0        \n",
              "28 2022-08-12 08:00:00  0      0         0         0         0        \n",
              "29 2022-08-12 14:00:00  0      0         0         0         0        \n",
              "30 2022-08-12 20:00:00  0      0         0         0         0        \n",
              "31 2022-08-15 08:00:00  0      0         0         0         0        \n",
              "32 2022-08-15 14:00:00  0      0         0         0         0        \n",
              "33 2022-08-15 20:00:00  0      0         0         0         0        \n",
              "34 2022-08-16 08:00:00  0      0         0         0         0        \n",
              "35 2022-08-16 14:00:00  0      0         0         0         0        \n",
              "36 2022-08-16 20:00:00  0      0         0         0         0        \n",
              "37 2022-08-17 08:00:00  0      0         0         0         0        \n",
              "38 2022-08-17 14:00:00  0      0         0         0         0        \n",
              "39 2022-08-17 20:00:00  0      0         0         0         0        \n",
              "40 2022-08-18 08:00:00  0      0         0         0         0        \n",
              "41 2022-08-18 14:00:00  0      0         0         0         0        \n",
              "42 2022-08-18 20:00:00  0      0         0         0         0        \n",
              "43 2022-08-19 08:00:00  0      0         0         0         0        \n",
              "44 2022-08-19 14:00:00  0      0         0         0         0        \n",
              "45 2022-08-19 20:00:00  0      0         0         0         0        \n",
              "46 2022-08-22 08:00:00  5      4         2         4         6        \n",
              "47 2022-08-22 14:00:00  5      5         4         3         6        \n",
              "48 2022-08-22 20:00:00  8      3         1         3         6        \n",
              "49 2022-08-23 08:00:00  7      5         1         5         5        \n",
              "50 2022-08-23 14:00:00  3      5         2         4         5        \n",
              "51 2022-08-23 20:00:00  8      3         4         2         5        \n",
              "52 2022-08-24 08:00:00  4      4         2         3         5        \n",
              "53 2022-08-24 14:00:00  3      5         5         2         4        \n",
              "54 2022-08-24 20:00:00  6      4         1         2         5        \n",
              "55 2022-08-25 08:00:00  5      4         1         2         7        \n",
              "56 2022-08-25 14:00:00  2      5         3         2         6        \n",
              "57 2022-08-25 20:00:00  8      7         2         1         7        \n",
              "58 2022-08-26 08:00:00  8      5         1         4         5        \n",
              "59 2022-08-26 14:00:00  6      5         3         3         4        \n",
              "60 2022-08-26 20:00:00 11      3         5         1         4        \n",
              "   predict.5 predict.6 predict.7 predict.8 ⋯ predict.10 predict.11 predict.12\n",
              "1  0         0         0         0         ⋯ 0          0           0        \n",
              "2  0         0         0         0         ⋯ 0          0           0        \n",
              "3  0         0         0         0         ⋯ 0          0           0        \n",
              "4  0         0         0         0         ⋯ 0          0           0        \n",
              "5  0         0         0         0         ⋯ 0          0           0        \n",
              "6  0         0         0         0         ⋯ 0          0           0        \n",
              "7  0         0         0         0         ⋯ 0          0           0        \n",
              "8  0         0         0         0         ⋯ 0          0           0        \n",
              "9  0         0         0         0         ⋯ 0          0           0        \n",
              "10 0         0         0         0         ⋯ 0          0           0        \n",
              "11 0         0         0         0         ⋯ 0          0           0        \n",
              "12 0         0         0         0         ⋯ 0          0           0        \n",
              "13 0         0         0         0         ⋯ 0          0           0        \n",
              "14 0         0         0         0         ⋯ 0          0           0        \n",
              "15 0         0         0         0         ⋯ 0          0           0        \n",
              "16 0         0         0         0         ⋯ 0          0           0        \n",
              "17 0         0         0         0         ⋯ 0          0           0        \n",
              "18 0         0         0         0         ⋯ 0          0           0        \n",
              "19 0         0         0         0         ⋯ 0          0           0        \n",
              "20 0         0         0         0         ⋯ 0          0           0        \n",
              "21 0         0         0         0         ⋯ 0          0           0        \n",
              "22 0         0         0         0         ⋯ 0          0           0        \n",
              "23 0         0         0         0         ⋯ 0          0           0        \n",
              "24 0         0         0         0         ⋯ 0          0           0        \n",
              "25 0         0         0         0         ⋯ 0          0           0        \n",
              "26 0         0         0         0         ⋯ 0          0           0        \n",
              "27 0         0         0         0         ⋯ 0          0           0        \n",
              "28 0         0         0         0         ⋯ 0          0           0        \n",
              "29 0         0         0         0         ⋯ 0          0           0        \n",
              "30 0         0         0         0         ⋯ 0          0           0        \n",
              "31 0         0         0         0         ⋯ 0          0           0        \n",
              "32 0         0         0         0         ⋯ 0          0           0        \n",
              "33 0         0         0         0         ⋯ 0          0           0        \n",
              "34 0         0         0         0         ⋯ 0          0           0        \n",
              "35 0         0         0         0         ⋯ 0          0           0        \n",
              "36 0         0         0         0         ⋯ 0          0           0        \n",
              "37 0         0         0         0         ⋯ 0          0           0        \n",
              "38 0         0         0         0         ⋯ 0          0           0        \n",
              "39 0         0         0         0         ⋯ 0          0           0        \n",
              "40 0         0         0         0         ⋯ 0          0           0        \n",
              "41 0         0         0         0         ⋯ 0          0           0        \n",
              "42 0         0         0         0         ⋯ 0          0           0        \n",
              "43 0         0         0         0         ⋯ 0          0           0        \n",
              "44 0         0         0         0         ⋯ 0          0           0        \n",
              "45 0         0         0         0         ⋯ 0          0           0        \n",
              "46 6         4         3         5         ⋯ 3          2           5        \n",
              "47 4         4         3         8         ⋯ 1          2           5        \n",
              "48 5         5         3         0         ⋯ 2          3           2        \n",
              "49 6         2         3         3         ⋯ 4          2           5        \n",
              "50 4         2         3         6         ⋯ 3          2           5        \n",
              "51 5         3         3         6         ⋯ 4          3          -1        \n",
              "52 5         2         3         3         ⋯ 5          2           6        \n",
              "53 3         1         3         6         ⋯ 3          2           6        \n",
              "54 4         3         3         3         ⋯ 3          3           3        \n",
              "55 4         3         3         1         ⋯ 5          3           3        \n",
              "56 2         2         3         7         ⋯ 4          3           3        \n",
              "57 4         3         3         1         ⋯ 4          5           3        \n",
              "58 4         2         3         1         ⋯ 5          3           3        \n",
              "59 2         2         3         7         ⋯ 2          3           3        \n",
              "60 4         3         3         1         ⋯ 3          4           2        \n",
              "   predict.13 predict.14 predict.15 predict.16 predict.17 predict.18 predict.19\n",
              "1  0          0           0         0          0          0          0         \n",
              "2  0          0           0         0          0          0          0         \n",
              "3  0          0           0         0          0          0          0         \n",
              "4  0          0           0         0          0          0          0         \n",
              "5  0          0           0         0          0          0          0         \n",
              "6  0          0           0         0          0          0          0         \n",
              "7  0          0           0         0          0          0          0         \n",
              "8  0          0           0         0          0          0          0         \n",
              "9  0          0           0         0          0          0          0         \n",
              "10 0          0           0         0          0          0          0         \n",
              "11 0          0           0         0          0          0          0         \n",
              "12 0          0           0         0          0          0          0         \n",
              "13 0          0           0         0          0          0          0         \n",
              "14 0          0           0         0          0          0          0         \n",
              "15 0          0           0         0          0          0          0         \n",
              "16 0          0           0         0          0          0          0         \n",
              "17 0          0           0         0          0          0          0         \n",
              "18 0          0           0         0          0          0          0         \n",
              "19 0          0           0         0          0          0          0         \n",
              "20 0          0           0         0          0          0          0         \n",
              "21 0          0           0         0          0          0          0         \n",
              "22 0          0           0         0          0          0          0         \n",
              "23 0          0           0         0          0          0          0         \n",
              "24 0          0           0         0          0          0          0         \n",
              "25 0          0           0         0          0          0          0         \n",
              "26 0          0           0         0          0          0          0         \n",
              "27 0          0           0         0          0          0          0         \n",
              "28 0          0           0         0          0          0          0         \n",
              "29 0          0           0         0          0          0          0         \n",
              "30 0          0           0         0          0          0          0         \n",
              "31 0          0           0         0          0          0          0         \n",
              "32 0          0           0         0          0          0          0         \n",
              "33 0          0           0         0          0          0          0         \n",
              "34 0          0           0         0          0          0          0         \n",
              "35 0          0           0         0          0          0          0         \n",
              "36 0          0           0         0          0          0          0         \n",
              "37 0          0           0         0          0          0          0         \n",
              "38 0          0           0         0          0          0          0         \n",
              "39 0          0           0         0          0          0          0         \n",
              "40 0          0           0         0          0          0          0         \n",
              "41 0          0           0         0          0          0          0         \n",
              "42 0          0           0         0          0          0          0         \n",
              "43 0          0           0         0          0          0          0         \n",
              "44 0          0           0         0          0          0          0         \n",
              "45 0          0           0         0          0          0          0         \n",
              "46 5          3          12         1          1          4          2         \n",
              "47 5          3          10         1          1          4          2         \n",
              "48 5          3          12         2          1          4          1         \n",
              "49 5          3           8         2          1          4          2         \n",
              "50 5          3           7         3          0          4          1         \n",
              "51 5          3           9         3          0          4          0         \n",
              "52 5          3           8         2          1          4          2         \n",
              "53 5          3           7         2          1          4          1         \n",
              "54 5          3           8         3          1          4          0         \n",
              "55 5          3           9         2          5          4          2         \n",
              "56 5          3           9         2          5          4          2         \n",
              "57 5          3          10         3          1          4          1         \n",
              "58 5          3          10         3          1          4          2         \n",
              "59 5          3           9         3          2          4          1         \n",
              "60 5          3          10         4          1          4          0         "
            ]
          },
          "metadata": {}
        }
      ]
    },
    {
      "cell_type": "code",
      "source": [
        "data_train_RN<-data.frame(mes[1],predic_bike_rn_est3,predic_bike_rn_est6,predic_bike_rn_est10,predic_bike_rn_est13,predic_bike_rn_est19,predic_bike_rn_est23,predic_bike_rn_est25,predic_bike_rn_est26,predic_bike_rn_est27,predic_bike_rn_est28,predic_bike_rn_est32,predic_bike_rn_est33,predic_bike_rn_est36,predic_bike_rn_est46,predic_bike_rn_est47,predic_bike_rn_est53,predic_bike_rn_est57,predic_bike_rn_est58,predic_bike_rn_est59,predic_bike_rn_est60)\n",
        "data_train_RN"
      ],
      "metadata": {
        "id": "N0zR7A2tNwOn",
        "colab": {
          "base_uri": "https://localhost:8080/",
          "height": 1000
        },
        "outputId": "ef658f9f-f185-4aeb-ab73-dd4d28674afc"
      },
      "execution_count": null,
      "outputs": [
        {
          "output_type": "display_data",
          "data": {
            "text/html": [
              "<table class=\"dataframe\">\n",
              "<caption>A data.frame: 60 × 21</caption>\n",
              "<thead>\n",
              "\t<tr><th scope=col>dias</th><th scope=col>predict</th><th scope=col>predict.1</th><th scope=col>predict.2</th><th scope=col>predict.3</th><th scope=col>predict.4</th><th scope=col>predict.5</th><th scope=col>predict.6</th><th scope=col>predict.7</th><th scope=col>predict.8</th><th scope=col>⋯</th><th scope=col>predict.10</th><th scope=col>predict.11</th><th scope=col>predict.12</th><th scope=col>predict.13</th><th scope=col>predict.14</th><th scope=col>predict.15</th><th scope=col>predict.16</th><th scope=col>predict.17</th><th scope=col>predict.18</th><th scope=col>predict.19</th></tr>\n",
              "\t<tr><th scope=col>&lt;dttm&gt;</th><th scope=col>&lt;dbl&gt;</th><th scope=col>&lt;dbl&gt;</th><th scope=col>&lt;dbl&gt;</th><th scope=col>&lt;dbl&gt;</th><th scope=col>&lt;dbl&gt;</th><th scope=col>&lt;dbl&gt;</th><th scope=col>&lt;dbl&gt;</th><th scope=col>&lt;dbl&gt;</th><th scope=col>&lt;dbl&gt;</th><th scope=col>⋯</th><th scope=col>&lt;dbl&gt;</th><th scope=col>&lt;dbl&gt;</th><th scope=col>&lt;dbl&gt;</th><th scope=col>&lt;dbl&gt;</th><th scope=col>&lt;dbl&gt;</th><th scope=col>&lt;dbl&gt;</th><th scope=col>&lt;dbl&gt;</th><th scope=col>&lt;dbl&gt;</th><th scope=col>&lt;dbl&gt;</th><th scope=col>&lt;dbl&gt;</th></tr>\n",
              "</thead>\n",
              "<tbody>\n",
              "\t<tr><td>2022-08-01 08:00:00</td><td>0</td><td>0</td><td>0</td><td>0</td><td>0</td><td>0</td><td>0</td><td>0</td><td>0</td><td>⋯</td><td>0</td><td>0</td><td>0</td><td>0</td><td>0</td><td> 0</td><td>0</td><td>0</td><td>0</td><td>0</td></tr>\n",
              "\t<tr><td>2022-08-01 14:00:00</td><td>0</td><td>0</td><td>0</td><td>0</td><td>0</td><td>0</td><td>0</td><td>0</td><td>0</td><td>⋯</td><td>0</td><td>0</td><td>0</td><td>0</td><td>0</td><td> 0</td><td>0</td><td>0</td><td>0</td><td>0</td></tr>\n",
              "\t<tr><td>2022-08-01 20:00:00</td><td>0</td><td>0</td><td>0</td><td>0</td><td>0</td><td>0</td><td>0</td><td>0</td><td>0</td><td>⋯</td><td>0</td><td>0</td><td>0</td><td>0</td><td>0</td><td> 0</td><td>0</td><td>0</td><td>0</td><td>0</td></tr>\n",
              "\t<tr><td>2022-08-02 08:00:00</td><td>0</td><td>0</td><td>0</td><td>0</td><td>0</td><td>0</td><td>0</td><td>0</td><td>0</td><td>⋯</td><td>0</td><td>0</td><td>0</td><td>0</td><td>0</td><td> 0</td><td>0</td><td>0</td><td>0</td><td>0</td></tr>\n",
              "\t<tr><td>2022-08-02 14:00:00</td><td>0</td><td>0</td><td>0</td><td>0</td><td>0</td><td>0</td><td>0</td><td>0</td><td>0</td><td>⋯</td><td>0</td><td>0</td><td>0</td><td>0</td><td>0</td><td> 0</td><td>0</td><td>0</td><td>0</td><td>0</td></tr>\n",
              "\t<tr><td>2022-08-02 20:00:00</td><td>0</td><td>0</td><td>0</td><td>0</td><td>0</td><td>0</td><td>0</td><td>0</td><td>0</td><td>⋯</td><td>0</td><td>0</td><td>0</td><td>0</td><td>0</td><td> 0</td><td>0</td><td>0</td><td>0</td><td>0</td></tr>\n",
              "\t<tr><td>2022-08-03 08:00:00</td><td>0</td><td>0</td><td>0</td><td>0</td><td>0</td><td>0</td><td>0</td><td>0</td><td>0</td><td>⋯</td><td>0</td><td>0</td><td>0</td><td>0</td><td>0</td><td> 0</td><td>0</td><td>0</td><td>0</td><td>0</td></tr>\n",
              "\t<tr><td>2022-08-03 14:00:00</td><td>0</td><td>0</td><td>0</td><td>0</td><td>0</td><td>0</td><td>0</td><td>0</td><td>0</td><td>⋯</td><td>0</td><td>0</td><td>0</td><td>0</td><td>0</td><td> 0</td><td>0</td><td>0</td><td>0</td><td>0</td></tr>\n",
              "\t<tr><td>2022-08-03 20:00:00</td><td>0</td><td>0</td><td>0</td><td>0</td><td>0</td><td>0</td><td>0</td><td>0</td><td>0</td><td>⋯</td><td>0</td><td>0</td><td>0</td><td>0</td><td>0</td><td> 0</td><td>0</td><td>0</td><td>0</td><td>0</td></tr>\n",
              "\t<tr><td>2022-08-04 08:00:00</td><td>0</td><td>0</td><td>0</td><td>0</td><td>0</td><td>0</td><td>0</td><td>0</td><td>0</td><td>⋯</td><td>0</td><td>0</td><td>0</td><td>0</td><td>0</td><td> 0</td><td>0</td><td>0</td><td>0</td><td>0</td></tr>\n",
              "\t<tr><td>2022-08-04 14:00:00</td><td>0</td><td>0</td><td>0</td><td>0</td><td>0</td><td>0</td><td>0</td><td>0</td><td>0</td><td>⋯</td><td>0</td><td>0</td><td>0</td><td>0</td><td>0</td><td> 0</td><td>0</td><td>0</td><td>0</td><td>0</td></tr>\n",
              "\t<tr><td>2022-08-04 20:00:00</td><td>0</td><td>0</td><td>0</td><td>0</td><td>0</td><td>0</td><td>0</td><td>0</td><td>0</td><td>⋯</td><td>0</td><td>0</td><td>0</td><td>0</td><td>0</td><td> 0</td><td>0</td><td>0</td><td>0</td><td>0</td></tr>\n",
              "\t<tr><td>2022-08-05 08:00:00</td><td>0</td><td>0</td><td>0</td><td>0</td><td>0</td><td>0</td><td>0</td><td>0</td><td>0</td><td>⋯</td><td>0</td><td>0</td><td>0</td><td>0</td><td>0</td><td> 0</td><td>0</td><td>0</td><td>0</td><td>0</td></tr>\n",
              "\t<tr><td>2022-08-05 14:00:00</td><td>0</td><td>0</td><td>0</td><td>0</td><td>0</td><td>0</td><td>0</td><td>0</td><td>0</td><td>⋯</td><td>0</td><td>0</td><td>0</td><td>0</td><td>0</td><td> 0</td><td>0</td><td>0</td><td>0</td><td>0</td></tr>\n",
              "\t<tr><td>2022-08-05 20:00:00</td><td>0</td><td>0</td><td>0</td><td>0</td><td>0</td><td>0</td><td>0</td><td>0</td><td>0</td><td>⋯</td><td>0</td><td>0</td><td>0</td><td>0</td><td>0</td><td> 0</td><td>0</td><td>0</td><td>0</td><td>0</td></tr>\n",
              "\t<tr><td>2022-08-08 08:00:00</td><td>0</td><td>0</td><td>0</td><td>0</td><td>0</td><td>0</td><td>0</td><td>0</td><td>0</td><td>⋯</td><td>0</td><td>0</td><td>0</td><td>0</td><td>0</td><td> 0</td><td>0</td><td>0</td><td>0</td><td>0</td></tr>\n",
              "\t<tr><td>2022-08-08 14:00:00</td><td>0</td><td>0</td><td>0</td><td>0</td><td>0</td><td>0</td><td>0</td><td>0</td><td>0</td><td>⋯</td><td>0</td><td>0</td><td>0</td><td>0</td><td>0</td><td> 0</td><td>0</td><td>0</td><td>0</td><td>0</td></tr>\n",
              "\t<tr><td>2022-08-08 20:00:00</td><td>0</td><td>0</td><td>0</td><td>0</td><td>0</td><td>0</td><td>0</td><td>0</td><td>0</td><td>⋯</td><td>0</td><td>0</td><td>0</td><td>0</td><td>0</td><td> 0</td><td>0</td><td>0</td><td>0</td><td>0</td></tr>\n",
              "\t<tr><td>2022-08-09 08:00:00</td><td>0</td><td>0</td><td>0</td><td>0</td><td>0</td><td>0</td><td>0</td><td>0</td><td>0</td><td>⋯</td><td>0</td><td>0</td><td>0</td><td>0</td><td>0</td><td> 0</td><td>0</td><td>0</td><td>0</td><td>0</td></tr>\n",
              "\t<tr><td>2022-08-09 14:00:00</td><td>0</td><td>0</td><td>0</td><td>0</td><td>0</td><td>0</td><td>0</td><td>0</td><td>0</td><td>⋯</td><td>0</td><td>0</td><td>0</td><td>0</td><td>0</td><td> 0</td><td>0</td><td>0</td><td>0</td><td>0</td></tr>\n",
              "\t<tr><td>2022-08-09 20:00:00</td><td>0</td><td>0</td><td>0</td><td>0</td><td>0</td><td>0</td><td>0</td><td>0</td><td>0</td><td>⋯</td><td>0</td><td>0</td><td>0</td><td>0</td><td>0</td><td> 0</td><td>0</td><td>0</td><td>0</td><td>0</td></tr>\n",
              "\t<tr><td>2022-08-10 08:00:00</td><td>0</td><td>0</td><td>0</td><td>0</td><td>0</td><td>0</td><td>0</td><td>0</td><td>0</td><td>⋯</td><td>0</td><td>0</td><td>0</td><td>0</td><td>0</td><td> 0</td><td>0</td><td>0</td><td>0</td><td>0</td></tr>\n",
              "\t<tr><td>2022-08-10 14:00:00</td><td>0</td><td>0</td><td>0</td><td>0</td><td>0</td><td>0</td><td>0</td><td>0</td><td>0</td><td>⋯</td><td>0</td><td>0</td><td>0</td><td>0</td><td>0</td><td> 0</td><td>0</td><td>0</td><td>0</td><td>0</td></tr>\n",
              "\t<tr><td>2022-08-10 20:00:00</td><td>0</td><td>0</td><td>0</td><td>0</td><td>0</td><td>0</td><td>0</td><td>0</td><td>0</td><td>⋯</td><td>0</td><td>0</td><td>0</td><td>0</td><td>0</td><td> 0</td><td>0</td><td>0</td><td>0</td><td>0</td></tr>\n",
              "\t<tr><td>2022-08-11 08:00:00</td><td>0</td><td>0</td><td>0</td><td>0</td><td>0</td><td>0</td><td>0</td><td>0</td><td>0</td><td>⋯</td><td>0</td><td>0</td><td>0</td><td>0</td><td>0</td><td> 0</td><td>0</td><td>0</td><td>0</td><td>0</td></tr>\n",
              "\t<tr><td>2022-08-11 14:00:00</td><td>0</td><td>0</td><td>0</td><td>0</td><td>0</td><td>0</td><td>0</td><td>0</td><td>0</td><td>⋯</td><td>0</td><td>0</td><td>0</td><td>0</td><td>0</td><td> 0</td><td>0</td><td>0</td><td>0</td><td>0</td></tr>\n",
              "\t<tr><td>2022-08-11 20:00:00</td><td>0</td><td>0</td><td>0</td><td>0</td><td>0</td><td>0</td><td>0</td><td>0</td><td>0</td><td>⋯</td><td>0</td><td>0</td><td>0</td><td>0</td><td>0</td><td> 0</td><td>0</td><td>0</td><td>0</td><td>0</td></tr>\n",
              "\t<tr><td>2022-08-12 08:00:00</td><td>0</td><td>0</td><td>0</td><td>0</td><td>0</td><td>0</td><td>0</td><td>0</td><td>0</td><td>⋯</td><td>0</td><td>0</td><td>0</td><td>0</td><td>0</td><td> 0</td><td>0</td><td>0</td><td>0</td><td>0</td></tr>\n",
              "\t<tr><td>2022-08-12 14:00:00</td><td>0</td><td>0</td><td>0</td><td>0</td><td>0</td><td>0</td><td>0</td><td>0</td><td>0</td><td>⋯</td><td>0</td><td>0</td><td>0</td><td>0</td><td>0</td><td> 0</td><td>0</td><td>0</td><td>0</td><td>0</td></tr>\n",
              "\t<tr><td>2022-08-12 20:00:00</td><td>0</td><td>0</td><td>0</td><td>0</td><td>0</td><td>0</td><td>0</td><td>0</td><td>0</td><td>⋯</td><td>0</td><td>0</td><td>0</td><td>0</td><td>0</td><td> 0</td><td>0</td><td>0</td><td>0</td><td>0</td></tr>\n",
              "\t<tr><td>2022-08-15 08:00:00</td><td>0</td><td>0</td><td>0</td><td>0</td><td>0</td><td>0</td><td>0</td><td>0</td><td>0</td><td>⋯</td><td>0</td><td>0</td><td>0</td><td>0</td><td>0</td><td> 0</td><td>0</td><td>0</td><td>0</td><td>0</td></tr>\n",
              "\t<tr><td>2022-08-15 14:00:00</td><td>0</td><td>0</td><td>0</td><td>0</td><td>0</td><td>0</td><td>0</td><td>0</td><td>0</td><td>⋯</td><td>0</td><td>0</td><td>0</td><td>0</td><td>0</td><td> 0</td><td>0</td><td>0</td><td>0</td><td>0</td></tr>\n",
              "\t<tr><td>2022-08-15 20:00:00</td><td>0</td><td>0</td><td>0</td><td>0</td><td>0</td><td>0</td><td>0</td><td>0</td><td>0</td><td>⋯</td><td>0</td><td>0</td><td>0</td><td>0</td><td>0</td><td> 0</td><td>0</td><td>0</td><td>0</td><td>0</td></tr>\n",
              "\t<tr><td>2022-08-16 08:00:00</td><td>0</td><td>0</td><td>0</td><td>0</td><td>0</td><td>0</td><td>0</td><td>0</td><td>0</td><td>⋯</td><td>0</td><td>0</td><td>0</td><td>0</td><td>0</td><td> 0</td><td>0</td><td>0</td><td>0</td><td>0</td></tr>\n",
              "\t<tr><td>2022-08-16 14:00:00</td><td>0</td><td>0</td><td>0</td><td>0</td><td>0</td><td>0</td><td>0</td><td>0</td><td>0</td><td>⋯</td><td>0</td><td>0</td><td>0</td><td>0</td><td>0</td><td> 0</td><td>0</td><td>0</td><td>0</td><td>0</td></tr>\n",
              "\t<tr><td>2022-08-16 20:00:00</td><td>0</td><td>0</td><td>0</td><td>0</td><td>0</td><td>0</td><td>0</td><td>0</td><td>0</td><td>⋯</td><td>0</td><td>0</td><td>0</td><td>0</td><td>0</td><td> 0</td><td>0</td><td>0</td><td>0</td><td>0</td></tr>\n",
              "\t<tr><td>2022-08-17 08:00:00</td><td>0</td><td>0</td><td>0</td><td>0</td><td>0</td><td>0</td><td>0</td><td>0</td><td>0</td><td>⋯</td><td>0</td><td>0</td><td>0</td><td>0</td><td>0</td><td> 0</td><td>0</td><td>0</td><td>0</td><td>0</td></tr>\n",
              "\t<tr><td>2022-08-17 14:00:00</td><td>0</td><td>0</td><td>0</td><td>0</td><td>0</td><td>0</td><td>0</td><td>0</td><td>0</td><td>⋯</td><td>0</td><td>0</td><td>0</td><td>0</td><td>0</td><td> 0</td><td>0</td><td>0</td><td>0</td><td>0</td></tr>\n",
              "\t<tr><td>2022-08-17 20:00:00</td><td>0</td><td>0</td><td>0</td><td>0</td><td>0</td><td>0</td><td>0</td><td>0</td><td>0</td><td>⋯</td><td>0</td><td>0</td><td>0</td><td>0</td><td>0</td><td> 0</td><td>0</td><td>0</td><td>0</td><td>0</td></tr>\n",
              "\t<tr><td>2022-08-18 08:00:00</td><td>0</td><td>0</td><td>0</td><td>0</td><td>0</td><td>0</td><td>0</td><td>0</td><td>0</td><td>⋯</td><td>0</td><td>0</td><td>0</td><td>0</td><td>0</td><td> 0</td><td>0</td><td>0</td><td>0</td><td>0</td></tr>\n",
              "\t<tr><td>2022-08-18 14:00:00</td><td>0</td><td>0</td><td>0</td><td>0</td><td>0</td><td>0</td><td>0</td><td>0</td><td>0</td><td>⋯</td><td>0</td><td>0</td><td>0</td><td>0</td><td>0</td><td> 0</td><td>0</td><td>0</td><td>0</td><td>0</td></tr>\n",
              "\t<tr><td>2022-08-18 20:00:00</td><td>0</td><td>0</td><td>0</td><td>0</td><td>0</td><td>0</td><td>0</td><td>0</td><td>0</td><td>⋯</td><td>0</td><td>0</td><td>0</td><td>0</td><td>0</td><td> 0</td><td>0</td><td>0</td><td>0</td><td>0</td></tr>\n",
              "\t<tr><td>2022-08-19 08:00:00</td><td>0</td><td>0</td><td>0</td><td>0</td><td>0</td><td>0</td><td>0</td><td>0</td><td>0</td><td>⋯</td><td>0</td><td>0</td><td>0</td><td>0</td><td>0</td><td> 0</td><td>0</td><td>0</td><td>0</td><td>0</td></tr>\n",
              "\t<tr><td>2022-08-19 14:00:00</td><td>0</td><td>0</td><td>0</td><td>0</td><td>0</td><td>0</td><td>0</td><td>0</td><td>0</td><td>⋯</td><td>0</td><td>0</td><td>0</td><td>0</td><td>0</td><td> 0</td><td>0</td><td>0</td><td>0</td><td>0</td></tr>\n",
              "\t<tr><td>2022-08-19 20:00:00</td><td>0</td><td>0</td><td>0</td><td>0</td><td>0</td><td>0</td><td>0</td><td>0</td><td>0</td><td>⋯</td><td>0</td><td>0</td><td>0</td><td>0</td><td>0</td><td> 0</td><td>0</td><td>0</td><td>0</td><td>0</td></tr>\n",
              "\t<tr><td>2022-08-22 08:00:00</td><td>7</td><td>4</td><td>2</td><td>3</td><td>6</td><td>5</td><td>4</td><td>3</td><td>7</td><td>⋯</td><td>4</td><td>2</td><td>3</td><td>5</td><td>3</td><td>11</td><td>1</td><td>1</td><td>1</td><td>1</td></tr>\n",
              "\t<tr><td>2022-08-22 14:00:00</td><td>2</td><td>4</td><td>4</td><td>1</td><td>7</td><td>1</td><td>3</td><td>3</td><td>7</td><td>⋯</td><td>0</td><td>3</td><td>4</td><td>4</td><td>2</td><td>12</td><td>1</td><td>1</td><td>1</td><td>1</td></tr>\n",
              "\t<tr><td>2022-08-22 20:00:00</td><td>7</td><td>4</td><td>3</td><td>2</td><td>8</td><td>7</td><td>5</td><td>3</td><td>6</td><td>⋯</td><td>2</td><td>2</td><td>3</td><td>4</td><td>2</td><td>13</td><td>2</td><td>2</td><td>2</td><td>2</td></tr>\n",
              "\t<tr><td>2022-08-23 08:00:00</td><td>8</td><td>4</td><td>2</td><td>3</td><td>5</td><td>5</td><td>3</td><td>3</td><td>7</td><td>⋯</td><td>6</td><td>2</td><td>3</td><td>6</td><td>3</td><td> 7</td><td>2</td><td>2</td><td>2</td><td>2</td></tr>\n",
              "\t<tr><td>2022-08-23 14:00:00</td><td>3</td><td>4</td><td>4</td><td>2</td><td>5</td><td>2</td><td>2</td><td>3</td><td>7</td><td>⋯</td><td>3</td><td>3</td><td>4</td><td>5</td><td>2</td><td> 9</td><td>3</td><td>3</td><td>3</td><td>3</td></tr>\n",
              "\t<tr><td>2022-08-23 20:00:00</td><td>8</td><td>4</td><td>4</td><td>2</td><td>7</td><td>6</td><td>4</td><td>3</td><td>6</td><td>⋯</td><td>5</td><td>3</td><td>2</td><td>4</td><td>2</td><td>10</td><td>4</td><td>4</td><td>4</td><td>4</td></tr>\n",
              "\t<tr><td>2022-08-24 08:00:00</td><td>7</td><td>4</td><td>2</td><td>4</td><td>3</td><td>6</td><td>3</td><td>3</td><td>6</td><td>⋯</td><td>5</td><td>2</td><td>3</td><td>6</td><td>3</td><td> 7</td><td>1</td><td>1</td><td>1</td><td>1</td></tr>\n",
              "\t<tr><td>2022-08-24 14:00:00</td><td>2</td><td>4</td><td>4</td><td>2</td><td>3</td><td>2</td><td>2</td><td>3</td><td>6</td><td>⋯</td><td>1</td><td>3</td><td>4</td><td>5</td><td>2</td><td>10</td><td>2</td><td>2</td><td>2</td><td>2</td></tr>\n",
              "\t<tr><td>2022-08-24 20:00:00</td><td>8</td><td>4</td><td>3</td><td>2</td><td>6</td><td>6</td><td>3</td><td>3</td><td>5</td><td>⋯</td><td>3</td><td>3</td><td>3</td><td>4</td><td>2</td><td> 9</td><td>3</td><td>3</td><td>3</td><td>3</td></tr>\n",
              "\t<tr><td>2022-08-25 08:00:00</td><td>7</td><td>4</td><td>1</td><td>3</td><td>6</td><td>5</td><td>3</td><td>2</td><td>5</td><td>⋯</td><td>6</td><td>2</td><td>2</td><td>5</td><td>4</td><td> 6</td><td>2</td><td>2</td><td>2</td><td>2</td></tr>\n",
              "\t<tr><td>2022-08-25 14:00:00</td><td>2</td><td>4</td><td>4</td><td>1</td><td>5</td><td>1</td><td>1</td><td>2</td><td>5</td><td>⋯</td><td>2</td><td>2</td><td>2</td><td>4</td><td>3</td><td> 9</td><td>3</td><td>3</td><td>3</td><td>3</td></tr>\n",
              "\t<tr><td>2022-08-25 20:00:00</td><td>8</td><td>4</td><td>3</td><td>1</td><td>8</td><td>5</td><td>3</td><td>3</td><td>4</td><td>⋯</td><td>4</td><td>2</td><td>1</td><td>4</td><td>3</td><td> 9</td><td>4</td><td>4</td><td>4</td><td>4</td></tr>\n",
              "\t<tr><td>2022-08-26 08:00:00</td><td>8</td><td>5</td><td>2</td><td>3</td><td>4</td><td>5</td><td>2</td><td>2</td><td>4</td><td>⋯</td><td>6</td><td>2</td><td>2</td><td>4</td><td>4</td><td> 5</td><td>2</td><td>2</td><td>2</td><td>2</td></tr>\n",
              "\t<tr><td>2022-08-26 14:00:00</td><td>3</td><td>5</td><td>4</td><td>1</td><td>1</td><td>1</td><td>1</td><td>2</td><td>4</td><td>⋯</td><td>2</td><td>2</td><td>2</td><td>4</td><td>3</td><td> 8</td><td>3</td><td>3</td><td>3</td><td>3</td></tr>\n",
              "\t<tr><td>2022-08-26 20:00:00</td><td>8</td><td>5</td><td>4</td><td>1</td><td>5</td><td>3</td><td>3</td><td>2</td><td>3</td><td>⋯</td><td>4</td><td>2</td><td>1</td><td>3</td><td>3</td><td> 7</td><td>4</td><td>4</td><td>4</td><td>4</td></tr>\n",
              "</tbody>\n",
              "</table>\n"
            ],
            "text/markdown": "\nA data.frame: 60 × 21\n\n| dias &lt;dttm&gt; | predict &lt;dbl&gt; | predict.1 &lt;dbl&gt; | predict.2 &lt;dbl&gt; | predict.3 &lt;dbl&gt; | predict.4 &lt;dbl&gt; | predict.5 &lt;dbl&gt; | predict.6 &lt;dbl&gt; | predict.7 &lt;dbl&gt; | predict.8 &lt;dbl&gt; | ⋯ ⋯ | predict.10 &lt;dbl&gt; | predict.11 &lt;dbl&gt; | predict.12 &lt;dbl&gt; | predict.13 &lt;dbl&gt; | predict.14 &lt;dbl&gt; | predict.15 &lt;dbl&gt; | predict.16 &lt;dbl&gt; | predict.17 &lt;dbl&gt; | predict.18 &lt;dbl&gt; | predict.19 &lt;dbl&gt; |\n|---|---|---|---|---|---|---|---|---|---|---|---|---|---|---|---|---|---|---|---|---|\n| 2022-08-01 08:00:00 | 0 | 0 | 0 | 0 | 0 | 0 | 0 | 0 | 0 | ⋯ | 0 | 0 | 0 | 0 | 0 |  0 | 0 | 0 | 0 | 0 |\n| 2022-08-01 14:00:00 | 0 | 0 | 0 | 0 | 0 | 0 | 0 | 0 | 0 | ⋯ | 0 | 0 | 0 | 0 | 0 |  0 | 0 | 0 | 0 | 0 |\n| 2022-08-01 20:00:00 | 0 | 0 | 0 | 0 | 0 | 0 | 0 | 0 | 0 | ⋯ | 0 | 0 | 0 | 0 | 0 |  0 | 0 | 0 | 0 | 0 |\n| 2022-08-02 08:00:00 | 0 | 0 | 0 | 0 | 0 | 0 | 0 | 0 | 0 | ⋯ | 0 | 0 | 0 | 0 | 0 |  0 | 0 | 0 | 0 | 0 |\n| 2022-08-02 14:00:00 | 0 | 0 | 0 | 0 | 0 | 0 | 0 | 0 | 0 | ⋯ | 0 | 0 | 0 | 0 | 0 |  0 | 0 | 0 | 0 | 0 |\n| 2022-08-02 20:00:00 | 0 | 0 | 0 | 0 | 0 | 0 | 0 | 0 | 0 | ⋯ | 0 | 0 | 0 | 0 | 0 |  0 | 0 | 0 | 0 | 0 |\n| 2022-08-03 08:00:00 | 0 | 0 | 0 | 0 | 0 | 0 | 0 | 0 | 0 | ⋯ | 0 | 0 | 0 | 0 | 0 |  0 | 0 | 0 | 0 | 0 |\n| 2022-08-03 14:00:00 | 0 | 0 | 0 | 0 | 0 | 0 | 0 | 0 | 0 | ⋯ | 0 | 0 | 0 | 0 | 0 |  0 | 0 | 0 | 0 | 0 |\n| 2022-08-03 20:00:00 | 0 | 0 | 0 | 0 | 0 | 0 | 0 | 0 | 0 | ⋯ | 0 | 0 | 0 | 0 | 0 |  0 | 0 | 0 | 0 | 0 |\n| 2022-08-04 08:00:00 | 0 | 0 | 0 | 0 | 0 | 0 | 0 | 0 | 0 | ⋯ | 0 | 0 | 0 | 0 | 0 |  0 | 0 | 0 | 0 | 0 |\n| 2022-08-04 14:00:00 | 0 | 0 | 0 | 0 | 0 | 0 | 0 | 0 | 0 | ⋯ | 0 | 0 | 0 | 0 | 0 |  0 | 0 | 0 | 0 | 0 |\n| 2022-08-04 20:00:00 | 0 | 0 | 0 | 0 | 0 | 0 | 0 | 0 | 0 | ⋯ | 0 | 0 | 0 | 0 | 0 |  0 | 0 | 0 | 0 | 0 |\n| 2022-08-05 08:00:00 | 0 | 0 | 0 | 0 | 0 | 0 | 0 | 0 | 0 | ⋯ | 0 | 0 | 0 | 0 | 0 |  0 | 0 | 0 | 0 | 0 |\n| 2022-08-05 14:00:00 | 0 | 0 | 0 | 0 | 0 | 0 | 0 | 0 | 0 | ⋯ | 0 | 0 | 0 | 0 | 0 |  0 | 0 | 0 | 0 | 0 |\n| 2022-08-05 20:00:00 | 0 | 0 | 0 | 0 | 0 | 0 | 0 | 0 | 0 | ⋯ | 0 | 0 | 0 | 0 | 0 |  0 | 0 | 0 | 0 | 0 |\n| 2022-08-08 08:00:00 | 0 | 0 | 0 | 0 | 0 | 0 | 0 | 0 | 0 | ⋯ | 0 | 0 | 0 | 0 | 0 |  0 | 0 | 0 | 0 | 0 |\n| 2022-08-08 14:00:00 | 0 | 0 | 0 | 0 | 0 | 0 | 0 | 0 | 0 | ⋯ | 0 | 0 | 0 | 0 | 0 |  0 | 0 | 0 | 0 | 0 |\n| 2022-08-08 20:00:00 | 0 | 0 | 0 | 0 | 0 | 0 | 0 | 0 | 0 | ⋯ | 0 | 0 | 0 | 0 | 0 |  0 | 0 | 0 | 0 | 0 |\n| 2022-08-09 08:00:00 | 0 | 0 | 0 | 0 | 0 | 0 | 0 | 0 | 0 | ⋯ | 0 | 0 | 0 | 0 | 0 |  0 | 0 | 0 | 0 | 0 |\n| 2022-08-09 14:00:00 | 0 | 0 | 0 | 0 | 0 | 0 | 0 | 0 | 0 | ⋯ | 0 | 0 | 0 | 0 | 0 |  0 | 0 | 0 | 0 | 0 |\n| 2022-08-09 20:00:00 | 0 | 0 | 0 | 0 | 0 | 0 | 0 | 0 | 0 | ⋯ | 0 | 0 | 0 | 0 | 0 |  0 | 0 | 0 | 0 | 0 |\n| 2022-08-10 08:00:00 | 0 | 0 | 0 | 0 | 0 | 0 | 0 | 0 | 0 | ⋯ | 0 | 0 | 0 | 0 | 0 |  0 | 0 | 0 | 0 | 0 |\n| 2022-08-10 14:00:00 | 0 | 0 | 0 | 0 | 0 | 0 | 0 | 0 | 0 | ⋯ | 0 | 0 | 0 | 0 | 0 |  0 | 0 | 0 | 0 | 0 |\n| 2022-08-10 20:00:00 | 0 | 0 | 0 | 0 | 0 | 0 | 0 | 0 | 0 | ⋯ | 0 | 0 | 0 | 0 | 0 |  0 | 0 | 0 | 0 | 0 |\n| 2022-08-11 08:00:00 | 0 | 0 | 0 | 0 | 0 | 0 | 0 | 0 | 0 | ⋯ | 0 | 0 | 0 | 0 | 0 |  0 | 0 | 0 | 0 | 0 |\n| 2022-08-11 14:00:00 | 0 | 0 | 0 | 0 | 0 | 0 | 0 | 0 | 0 | ⋯ | 0 | 0 | 0 | 0 | 0 |  0 | 0 | 0 | 0 | 0 |\n| 2022-08-11 20:00:00 | 0 | 0 | 0 | 0 | 0 | 0 | 0 | 0 | 0 | ⋯ | 0 | 0 | 0 | 0 | 0 |  0 | 0 | 0 | 0 | 0 |\n| 2022-08-12 08:00:00 | 0 | 0 | 0 | 0 | 0 | 0 | 0 | 0 | 0 | ⋯ | 0 | 0 | 0 | 0 | 0 |  0 | 0 | 0 | 0 | 0 |\n| 2022-08-12 14:00:00 | 0 | 0 | 0 | 0 | 0 | 0 | 0 | 0 | 0 | ⋯ | 0 | 0 | 0 | 0 | 0 |  0 | 0 | 0 | 0 | 0 |\n| 2022-08-12 20:00:00 | 0 | 0 | 0 | 0 | 0 | 0 | 0 | 0 | 0 | ⋯ | 0 | 0 | 0 | 0 | 0 |  0 | 0 | 0 | 0 | 0 |\n| 2022-08-15 08:00:00 | 0 | 0 | 0 | 0 | 0 | 0 | 0 | 0 | 0 | ⋯ | 0 | 0 | 0 | 0 | 0 |  0 | 0 | 0 | 0 | 0 |\n| 2022-08-15 14:00:00 | 0 | 0 | 0 | 0 | 0 | 0 | 0 | 0 | 0 | ⋯ | 0 | 0 | 0 | 0 | 0 |  0 | 0 | 0 | 0 | 0 |\n| 2022-08-15 20:00:00 | 0 | 0 | 0 | 0 | 0 | 0 | 0 | 0 | 0 | ⋯ | 0 | 0 | 0 | 0 | 0 |  0 | 0 | 0 | 0 | 0 |\n| 2022-08-16 08:00:00 | 0 | 0 | 0 | 0 | 0 | 0 | 0 | 0 | 0 | ⋯ | 0 | 0 | 0 | 0 | 0 |  0 | 0 | 0 | 0 | 0 |\n| 2022-08-16 14:00:00 | 0 | 0 | 0 | 0 | 0 | 0 | 0 | 0 | 0 | ⋯ | 0 | 0 | 0 | 0 | 0 |  0 | 0 | 0 | 0 | 0 |\n| 2022-08-16 20:00:00 | 0 | 0 | 0 | 0 | 0 | 0 | 0 | 0 | 0 | ⋯ | 0 | 0 | 0 | 0 | 0 |  0 | 0 | 0 | 0 | 0 |\n| 2022-08-17 08:00:00 | 0 | 0 | 0 | 0 | 0 | 0 | 0 | 0 | 0 | ⋯ | 0 | 0 | 0 | 0 | 0 |  0 | 0 | 0 | 0 | 0 |\n| 2022-08-17 14:00:00 | 0 | 0 | 0 | 0 | 0 | 0 | 0 | 0 | 0 | ⋯ | 0 | 0 | 0 | 0 | 0 |  0 | 0 | 0 | 0 | 0 |\n| 2022-08-17 20:00:00 | 0 | 0 | 0 | 0 | 0 | 0 | 0 | 0 | 0 | ⋯ | 0 | 0 | 0 | 0 | 0 |  0 | 0 | 0 | 0 | 0 |\n| 2022-08-18 08:00:00 | 0 | 0 | 0 | 0 | 0 | 0 | 0 | 0 | 0 | ⋯ | 0 | 0 | 0 | 0 | 0 |  0 | 0 | 0 | 0 | 0 |\n| 2022-08-18 14:00:00 | 0 | 0 | 0 | 0 | 0 | 0 | 0 | 0 | 0 | ⋯ | 0 | 0 | 0 | 0 | 0 |  0 | 0 | 0 | 0 | 0 |\n| 2022-08-18 20:00:00 | 0 | 0 | 0 | 0 | 0 | 0 | 0 | 0 | 0 | ⋯ | 0 | 0 | 0 | 0 | 0 |  0 | 0 | 0 | 0 | 0 |\n| 2022-08-19 08:00:00 | 0 | 0 | 0 | 0 | 0 | 0 | 0 | 0 | 0 | ⋯ | 0 | 0 | 0 | 0 | 0 |  0 | 0 | 0 | 0 | 0 |\n| 2022-08-19 14:00:00 | 0 | 0 | 0 | 0 | 0 | 0 | 0 | 0 | 0 | ⋯ | 0 | 0 | 0 | 0 | 0 |  0 | 0 | 0 | 0 | 0 |\n| 2022-08-19 20:00:00 | 0 | 0 | 0 | 0 | 0 | 0 | 0 | 0 | 0 | ⋯ | 0 | 0 | 0 | 0 | 0 |  0 | 0 | 0 | 0 | 0 |\n| 2022-08-22 08:00:00 | 7 | 4 | 2 | 3 | 6 | 5 | 4 | 3 | 7 | ⋯ | 4 | 2 | 3 | 5 | 3 | 11 | 1 | 1 | 1 | 1 |\n| 2022-08-22 14:00:00 | 2 | 4 | 4 | 1 | 7 | 1 | 3 | 3 | 7 | ⋯ | 0 | 3 | 4 | 4 | 2 | 12 | 1 | 1 | 1 | 1 |\n| 2022-08-22 20:00:00 | 7 | 4 | 3 | 2 | 8 | 7 | 5 | 3 | 6 | ⋯ | 2 | 2 | 3 | 4 | 2 | 13 | 2 | 2 | 2 | 2 |\n| 2022-08-23 08:00:00 | 8 | 4 | 2 | 3 | 5 | 5 | 3 | 3 | 7 | ⋯ | 6 | 2 | 3 | 6 | 3 |  7 | 2 | 2 | 2 | 2 |\n| 2022-08-23 14:00:00 | 3 | 4 | 4 | 2 | 5 | 2 | 2 | 3 | 7 | ⋯ | 3 | 3 | 4 | 5 | 2 |  9 | 3 | 3 | 3 | 3 |\n| 2022-08-23 20:00:00 | 8 | 4 | 4 | 2 | 7 | 6 | 4 | 3 | 6 | ⋯ | 5 | 3 | 2 | 4 | 2 | 10 | 4 | 4 | 4 | 4 |\n| 2022-08-24 08:00:00 | 7 | 4 | 2 | 4 | 3 | 6 | 3 | 3 | 6 | ⋯ | 5 | 2 | 3 | 6 | 3 |  7 | 1 | 1 | 1 | 1 |\n| 2022-08-24 14:00:00 | 2 | 4 | 4 | 2 | 3 | 2 | 2 | 3 | 6 | ⋯ | 1 | 3 | 4 | 5 | 2 | 10 | 2 | 2 | 2 | 2 |\n| 2022-08-24 20:00:00 | 8 | 4 | 3 | 2 | 6 | 6 | 3 | 3 | 5 | ⋯ | 3 | 3 | 3 | 4 | 2 |  9 | 3 | 3 | 3 | 3 |\n| 2022-08-25 08:00:00 | 7 | 4 | 1 | 3 | 6 | 5 | 3 | 2 | 5 | ⋯ | 6 | 2 | 2 | 5 | 4 |  6 | 2 | 2 | 2 | 2 |\n| 2022-08-25 14:00:00 | 2 | 4 | 4 | 1 | 5 | 1 | 1 | 2 | 5 | ⋯ | 2 | 2 | 2 | 4 | 3 |  9 | 3 | 3 | 3 | 3 |\n| 2022-08-25 20:00:00 | 8 | 4 | 3 | 1 | 8 | 5 | 3 | 3 | 4 | ⋯ | 4 | 2 | 1 | 4 | 3 |  9 | 4 | 4 | 4 | 4 |\n| 2022-08-26 08:00:00 | 8 | 5 | 2 | 3 | 4 | 5 | 2 | 2 | 4 | ⋯ | 6 | 2 | 2 | 4 | 4 |  5 | 2 | 2 | 2 | 2 |\n| 2022-08-26 14:00:00 | 3 | 5 | 4 | 1 | 1 | 1 | 1 | 2 | 4 | ⋯ | 2 | 2 | 2 | 4 | 3 |  8 | 3 | 3 | 3 | 3 |\n| 2022-08-26 20:00:00 | 8 | 5 | 4 | 1 | 5 | 3 | 3 | 2 | 3 | ⋯ | 4 | 2 | 1 | 3 | 3 |  7 | 4 | 4 | 4 | 4 |\n\n",
            "text/latex": "A data.frame: 60 × 21\n\\begin{tabular}{lllllllllllllllllllll}\n dias & predict & predict.1 & predict.2 & predict.3 & predict.4 & predict.5 & predict.6 & predict.7 & predict.8 & ⋯ & predict.10 & predict.11 & predict.12 & predict.13 & predict.14 & predict.15 & predict.16 & predict.17 & predict.18 & predict.19\\\\\n <dttm> & <dbl> & <dbl> & <dbl> & <dbl> & <dbl> & <dbl> & <dbl> & <dbl> & <dbl> & ⋯ & <dbl> & <dbl> & <dbl> & <dbl> & <dbl> & <dbl> & <dbl> & <dbl> & <dbl> & <dbl>\\\\\n\\hline\n\t 2022-08-01 08:00:00 & 0 & 0 & 0 & 0 & 0 & 0 & 0 & 0 & 0 & ⋯ & 0 & 0 & 0 & 0 & 0 &  0 & 0 & 0 & 0 & 0\\\\\n\t 2022-08-01 14:00:00 & 0 & 0 & 0 & 0 & 0 & 0 & 0 & 0 & 0 & ⋯ & 0 & 0 & 0 & 0 & 0 &  0 & 0 & 0 & 0 & 0\\\\\n\t 2022-08-01 20:00:00 & 0 & 0 & 0 & 0 & 0 & 0 & 0 & 0 & 0 & ⋯ & 0 & 0 & 0 & 0 & 0 &  0 & 0 & 0 & 0 & 0\\\\\n\t 2022-08-02 08:00:00 & 0 & 0 & 0 & 0 & 0 & 0 & 0 & 0 & 0 & ⋯ & 0 & 0 & 0 & 0 & 0 &  0 & 0 & 0 & 0 & 0\\\\\n\t 2022-08-02 14:00:00 & 0 & 0 & 0 & 0 & 0 & 0 & 0 & 0 & 0 & ⋯ & 0 & 0 & 0 & 0 & 0 &  0 & 0 & 0 & 0 & 0\\\\\n\t 2022-08-02 20:00:00 & 0 & 0 & 0 & 0 & 0 & 0 & 0 & 0 & 0 & ⋯ & 0 & 0 & 0 & 0 & 0 &  0 & 0 & 0 & 0 & 0\\\\\n\t 2022-08-03 08:00:00 & 0 & 0 & 0 & 0 & 0 & 0 & 0 & 0 & 0 & ⋯ & 0 & 0 & 0 & 0 & 0 &  0 & 0 & 0 & 0 & 0\\\\\n\t 2022-08-03 14:00:00 & 0 & 0 & 0 & 0 & 0 & 0 & 0 & 0 & 0 & ⋯ & 0 & 0 & 0 & 0 & 0 &  0 & 0 & 0 & 0 & 0\\\\\n\t 2022-08-03 20:00:00 & 0 & 0 & 0 & 0 & 0 & 0 & 0 & 0 & 0 & ⋯ & 0 & 0 & 0 & 0 & 0 &  0 & 0 & 0 & 0 & 0\\\\\n\t 2022-08-04 08:00:00 & 0 & 0 & 0 & 0 & 0 & 0 & 0 & 0 & 0 & ⋯ & 0 & 0 & 0 & 0 & 0 &  0 & 0 & 0 & 0 & 0\\\\\n\t 2022-08-04 14:00:00 & 0 & 0 & 0 & 0 & 0 & 0 & 0 & 0 & 0 & ⋯ & 0 & 0 & 0 & 0 & 0 &  0 & 0 & 0 & 0 & 0\\\\\n\t 2022-08-04 20:00:00 & 0 & 0 & 0 & 0 & 0 & 0 & 0 & 0 & 0 & ⋯ & 0 & 0 & 0 & 0 & 0 &  0 & 0 & 0 & 0 & 0\\\\\n\t 2022-08-05 08:00:00 & 0 & 0 & 0 & 0 & 0 & 0 & 0 & 0 & 0 & ⋯ & 0 & 0 & 0 & 0 & 0 &  0 & 0 & 0 & 0 & 0\\\\\n\t 2022-08-05 14:00:00 & 0 & 0 & 0 & 0 & 0 & 0 & 0 & 0 & 0 & ⋯ & 0 & 0 & 0 & 0 & 0 &  0 & 0 & 0 & 0 & 0\\\\\n\t 2022-08-05 20:00:00 & 0 & 0 & 0 & 0 & 0 & 0 & 0 & 0 & 0 & ⋯ & 0 & 0 & 0 & 0 & 0 &  0 & 0 & 0 & 0 & 0\\\\\n\t 2022-08-08 08:00:00 & 0 & 0 & 0 & 0 & 0 & 0 & 0 & 0 & 0 & ⋯ & 0 & 0 & 0 & 0 & 0 &  0 & 0 & 0 & 0 & 0\\\\\n\t 2022-08-08 14:00:00 & 0 & 0 & 0 & 0 & 0 & 0 & 0 & 0 & 0 & ⋯ & 0 & 0 & 0 & 0 & 0 &  0 & 0 & 0 & 0 & 0\\\\\n\t 2022-08-08 20:00:00 & 0 & 0 & 0 & 0 & 0 & 0 & 0 & 0 & 0 & ⋯ & 0 & 0 & 0 & 0 & 0 &  0 & 0 & 0 & 0 & 0\\\\\n\t 2022-08-09 08:00:00 & 0 & 0 & 0 & 0 & 0 & 0 & 0 & 0 & 0 & ⋯ & 0 & 0 & 0 & 0 & 0 &  0 & 0 & 0 & 0 & 0\\\\\n\t 2022-08-09 14:00:00 & 0 & 0 & 0 & 0 & 0 & 0 & 0 & 0 & 0 & ⋯ & 0 & 0 & 0 & 0 & 0 &  0 & 0 & 0 & 0 & 0\\\\\n\t 2022-08-09 20:00:00 & 0 & 0 & 0 & 0 & 0 & 0 & 0 & 0 & 0 & ⋯ & 0 & 0 & 0 & 0 & 0 &  0 & 0 & 0 & 0 & 0\\\\\n\t 2022-08-10 08:00:00 & 0 & 0 & 0 & 0 & 0 & 0 & 0 & 0 & 0 & ⋯ & 0 & 0 & 0 & 0 & 0 &  0 & 0 & 0 & 0 & 0\\\\\n\t 2022-08-10 14:00:00 & 0 & 0 & 0 & 0 & 0 & 0 & 0 & 0 & 0 & ⋯ & 0 & 0 & 0 & 0 & 0 &  0 & 0 & 0 & 0 & 0\\\\\n\t 2022-08-10 20:00:00 & 0 & 0 & 0 & 0 & 0 & 0 & 0 & 0 & 0 & ⋯ & 0 & 0 & 0 & 0 & 0 &  0 & 0 & 0 & 0 & 0\\\\\n\t 2022-08-11 08:00:00 & 0 & 0 & 0 & 0 & 0 & 0 & 0 & 0 & 0 & ⋯ & 0 & 0 & 0 & 0 & 0 &  0 & 0 & 0 & 0 & 0\\\\\n\t 2022-08-11 14:00:00 & 0 & 0 & 0 & 0 & 0 & 0 & 0 & 0 & 0 & ⋯ & 0 & 0 & 0 & 0 & 0 &  0 & 0 & 0 & 0 & 0\\\\\n\t 2022-08-11 20:00:00 & 0 & 0 & 0 & 0 & 0 & 0 & 0 & 0 & 0 & ⋯ & 0 & 0 & 0 & 0 & 0 &  0 & 0 & 0 & 0 & 0\\\\\n\t 2022-08-12 08:00:00 & 0 & 0 & 0 & 0 & 0 & 0 & 0 & 0 & 0 & ⋯ & 0 & 0 & 0 & 0 & 0 &  0 & 0 & 0 & 0 & 0\\\\\n\t 2022-08-12 14:00:00 & 0 & 0 & 0 & 0 & 0 & 0 & 0 & 0 & 0 & ⋯ & 0 & 0 & 0 & 0 & 0 &  0 & 0 & 0 & 0 & 0\\\\\n\t 2022-08-12 20:00:00 & 0 & 0 & 0 & 0 & 0 & 0 & 0 & 0 & 0 & ⋯ & 0 & 0 & 0 & 0 & 0 &  0 & 0 & 0 & 0 & 0\\\\\n\t 2022-08-15 08:00:00 & 0 & 0 & 0 & 0 & 0 & 0 & 0 & 0 & 0 & ⋯ & 0 & 0 & 0 & 0 & 0 &  0 & 0 & 0 & 0 & 0\\\\\n\t 2022-08-15 14:00:00 & 0 & 0 & 0 & 0 & 0 & 0 & 0 & 0 & 0 & ⋯ & 0 & 0 & 0 & 0 & 0 &  0 & 0 & 0 & 0 & 0\\\\\n\t 2022-08-15 20:00:00 & 0 & 0 & 0 & 0 & 0 & 0 & 0 & 0 & 0 & ⋯ & 0 & 0 & 0 & 0 & 0 &  0 & 0 & 0 & 0 & 0\\\\\n\t 2022-08-16 08:00:00 & 0 & 0 & 0 & 0 & 0 & 0 & 0 & 0 & 0 & ⋯ & 0 & 0 & 0 & 0 & 0 &  0 & 0 & 0 & 0 & 0\\\\\n\t 2022-08-16 14:00:00 & 0 & 0 & 0 & 0 & 0 & 0 & 0 & 0 & 0 & ⋯ & 0 & 0 & 0 & 0 & 0 &  0 & 0 & 0 & 0 & 0\\\\\n\t 2022-08-16 20:00:00 & 0 & 0 & 0 & 0 & 0 & 0 & 0 & 0 & 0 & ⋯ & 0 & 0 & 0 & 0 & 0 &  0 & 0 & 0 & 0 & 0\\\\\n\t 2022-08-17 08:00:00 & 0 & 0 & 0 & 0 & 0 & 0 & 0 & 0 & 0 & ⋯ & 0 & 0 & 0 & 0 & 0 &  0 & 0 & 0 & 0 & 0\\\\\n\t 2022-08-17 14:00:00 & 0 & 0 & 0 & 0 & 0 & 0 & 0 & 0 & 0 & ⋯ & 0 & 0 & 0 & 0 & 0 &  0 & 0 & 0 & 0 & 0\\\\\n\t 2022-08-17 20:00:00 & 0 & 0 & 0 & 0 & 0 & 0 & 0 & 0 & 0 & ⋯ & 0 & 0 & 0 & 0 & 0 &  0 & 0 & 0 & 0 & 0\\\\\n\t 2022-08-18 08:00:00 & 0 & 0 & 0 & 0 & 0 & 0 & 0 & 0 & 0 & ⋯ & 0 & 0 & 0 & 0 & 0 &  0 & 0 & 0 & 0 & 0\\\\\n\t 2022-08-18 14:00:00 & 0 & 0 & 0 & 0 & 0 & 0 & 0 & 0 & 0 & ⋯ & 0 & 0 & 0 & 0 & 0 &  0 & 0 & 0 & 0 & 0\\\\\n\t 2022-08-18 20:00:00 & 0 & 0 & 0 & 0 & 0 & 0 & 0 & 0 & 0 & ⋯ & 0 & 0 & 0 & 0 & 0 &  0 & 0 & 0 & 0 & 0\\\\\n\t 2022-08-19 08:00:00 & 0 & 0 & 0 & 0 & 0 & 0 & 0 & 0 & 0 & ⋯ & 0 & 0 & 0 & 0 & 0 &  0 & 0 & 0 & 0 & 0\\\\\n\t 2022-08-19 14:00:00 & 0 & 0 & 0 & 0 & 0 & 0 & 0 & 0 & 0 & ⋯ & 0 & 0 & 0 & 0 & 0 &  0 & 0 & 0 & 0 & 0\\\\\n\t 2022-08-19 20:00:00 & 0 & 0 & 0 & 0 & 0 & 0 & 0 & 0 & 0 & ⋯ & 0 & 0 & 0 & 0 & 0 &  0 & 0 & 0 & 0 & 0\\\\\n\t 2022-08-22 08:00:00 & 7 & 4 & 2 & 3 & 6 & 5 & 4 & 3 & 7 & ⋯ & 4 & 2 & 3 & 5 & 3 & 11 & 1 & 1 & 1 & 1\\\\\n\t 2022-08-22 14:00:00 & 2 & 4 & 4 & 1 & 7 & 1 & 3 & 3 & 7 & ⋯ & 0 & 3 & 4 & 4 & 2 & 12 & 1 & 1 & 1 & 1\\\\\n\t 2022-08-22 20:00:00 & 7 & 4 & 3 & 2 & 8 & 7 & 5 & 3 & 6 & ⋯ & 2 & 2 & 3 & 4 & 2 & 13 & 2 & 2 & 2 & 2\\\\\n\t 2022-08-23 08:00:00 & 8 & 4 & 2 & 3 & 5 & 5 & 3 & 3 & 7 & ⋯ & 6 & 2 & 3 & 6 & 3 &  7 & 2 & 2 & 2 & 2\\\\\n\t 2022-08-23 14:00:00 & 3 & 4 & 4 & 2 & 5 & 2 & 2 & 3 & 7 & ⋯ & 3 & 3 & 4 & 5 & 2 &  9 & 3 & 3 & 3 & 3\\\\\n\t 2022-08-23 20:00:00 & 8 & 4 & 4 & 2 & 7 & 6 & 4 & 3 & 6 & ⋯ & 5 & 3 & 2 & 4 & 2 & 10 & 4 & 4 & 4 & 4\\\\\n\t 2022-08-24 08:00:00 & 7 & 4 & 2 & 4 & 3 & 6 & 3 & 3 & 6 & ⋯ & 5 & 2 & 3 & 6 & 3 &  7 & 1 & 1 & 1 & 1\\\\\n\t 2022-08-24 14:00:00 & 2 & 4 & 4 & 2 & 3 & 2 & 2 & 3 & 6 & ⋯ & 1 & 3 & 4 & 5 & 2 & 10 & 2 & 2 & 2 & 2\\\\\n\t 2022-08-24 20:00:00 & 8 & 4 & 3 & 2 & 6 & 6 & 3 & 3 & 5 & ⋯ & 3 & 3 & 3 & 4 & 2 &  9 & 3 & 3 & 3 & 3\\\\\n\t 2022-08-25 08:00:00 & 7 & 4 & 1 & 3 & 6 & 5 & 3 & 2 & 5 & ⋯ & 6 & 2 & 2 & 5 & 4 &  6 & 2 & 2 & 2 & 2\\\\\n\t 2022-08-25 14:00:00 & 2 & 4 & 4 & 1 & 5 & 1 & 1 & 2 & 5 & ⋯ & 2 & 2 & 2 & 4 & 3 &  9 & 3 & 3 & 3 & 3\\\\\n\t 2022-08-25 20:00:00 & 8 & 4 & 3 & 1 & 8 & 5 & 3 & 3 & 4 & ⋯ & 4 & 2 & 1 & 4 & 3 &  9 & 4 & 4 & 4 & 4\\\\\n\t 2022-08-26 08:00:00 & 8 & 5 & 2 & 3 & 4 & 5 & 2 & 2 & 4 & ⋯ & 6 & 2 & 2 & 4 & 4 &  5 & 2 & 2 & 2 & 2\\\\\n\t 2022-08-26 14:00:00 & 3 & 5 & 4 & 1 & 1 & 1 & 1 & 2 & 4 & ⋯ & 2 & 2 & 2 & 4 & 3 &  8 & 3 & 3 & 3 & 3\\\\\n\t 2022-08-26 20:00:00 & 8 & 5 & 4 & 1 & 5 & 3 & 3 & 2 & 3 & ⋯ & 4 & 2 & 1 & 3 & 3 &  7 & 4 & 4 & 4 & 4\\\\\n\\end{tabular}\n",
            "text/plain": [
              "   dias                predict predict.1 predict.2 predict.3 predict.4\n",
              "1  2022-08-01 08:00:00 0       0         0         0         0        \n",
              "2  2022-08-01 14:00:00 0       0         0         0         0        \n",
              "3  2022-08-01 20:00:00 0       0         0         0         0        \n",
              "4  2022-08-02 08:00:00 0       0         0         0         0        \n",
              "5  2022-08-02 14:00:00 0       0         0         0         0        \n",
              "6  2022-08-02 20:00:00 0       0         0         0         0        \n",
              "7  2022-08-03 08:00:00 0       0         0         0         0        \n",
              "8  2022-08-03 14:00:00 0       0         0         0         0        \n",
              "9  2022-08-03 20:00:00 0       0         0         0         0        \n",
              "10 2022-08-04 08:00:00 0       0         0         0         0        \n",
              "11 2022-08-04 14:00:00 0       0         0         0         0        \n",
              "12 2022-08-04 20:00:00 0       0         0         0         0        \n",
              "13 2022-08-05 08:00:00 0       0         0         0         0        \n",
              "14 2022-08-05 14:00:00 0       0         0         0         0        \n",
              "15 2022-08-05 20:00:00 0       0         0         0         0        \n",
              "16 2022-08-08 08:00:00 0       0         0         0         0        \n",
              "17 2022-08-08 14:00:00 0       0         0         0         0        \n",
              "18 2022-08-08 20:00:00 0       0         0         0         0        \n",
              "19 2022-08-09 08:00:00 0       0         0         0         0        \n",
              "20 2022-08-09 14:00:00 0       0         0         0         0        \n",
              "21 2022-08-09 20:00:00 0       0         0         0         0        \n",
              "22 2022-08-10 08:00:00 0       0         0         0         0        \n",
              "23 2022-08-10 14:00:00 0       0         0         0         0        \n",
              "24 2022-08-10 20:00:00 0       0         0         0         0        \n",
              "25 2022-08-11 08:00:00 0       0         0         0         0        \n",
              "26 2022-08-11 14:00:00 0       0         0         0         0        \n",
              "27 2022-08-11 20:00:00 0       0         0         0         0        \n",
              "28 2022-08-12 08:00:00 0       0         0         0         0        \n",
              "29 2022-08-12 14:00:00 0       0         0         0         0        \n",
              "30 2022-08-12 20:00:00 0       0         0         0         0        \n",
              "31 2022-08-15 08:00:00 0       0         0         0         0        \n",
              "32 2022-08-15 14:00:00 0       0         0         0         0        \n",
              "33 2022-08-15 20:00:00 0       0         0         0         0        \n",
              "34 2022-08-16 08:00:00 0       0         0         0         0        \n",
              "35 2022-08-16 14:00:00 0       0         0         0         0        \n",
              "36 2022-08-16 20:00:00 0       0         0         0         0        \n",
              "37 2022-08-17 08:00:00 0       0         0         0         0        \n",
              "38 2022-08-17 14:00:00 0       0         0         0         0        \n",
              "39 2022-08-17 20:00:00 0       0         0         0         0        \n",
              "40 2022-08-18 08:00:00 0       0         0         0         0        \n",
              "41 2022-08-18 14:00:00 0       0         0         0         0        \n",
              "42 2022-08-18 20:00:00 0       0         0         0         0        \n",
              "43 2022-08-19 08:00:00 0       0         0         0         0        \n",
              "44 2022-08-19 14:00:00 0       0         0         0         0        \n",
              "45 2022-08-19 20:00:00 0       0         0         0         0        \n",
              "46 2022-08-22 08:00:00 7       4         2         3         6        \n",
              "47 2022-08-22 14:00:00 2       4         4         1         7        \n",
              "48 2022-08-22 20:00:00 7       4         3         2         8        \n",
              "49 2022-08-23 08:00:00 8       4         2         3         5        \n",
              "50 2022-08-23 14:00:00 3       4         4         2         5        \n",
              "51 2022-08-23 20:00:00 8       4         4         2         7        \n",
              "52 2022-08-24 08:00:00 7       4         2         4         3        \n",
              "53 2022-08-24 14:00:00 2       4         4         2         3        \n",
              "54 2022-08-24 20:00:00 8       4         3         2         6        \n",
              "55 2022-08-25 08:00:00 7       4         1         3         6        \n",
              "56 2022-08-25 14:00:00 2       4         4         1         5        \n",
              "57 2022-08-25 20:00:00 8       4         3         1         8        \n",
              "58 2022-08-26 08:00:00 8       5         2         3         4        \n",
              "59 2022-08-26 14:00:00 3       5         4         1         1        \n",
              "60 2022-08-26 20:00:00 8       5         4         1         5        \n",
              "   predict.5 predict.6 predict.7 predict.8 ⋯ predict.10 predict.11 predict.12\n",
              "1  0         0         0         0         ⋯ 0          0          0         \n",
              "2  0         0         0         0         ⋯ 0          0          0         \n",
              "3  0         0         0         0         ⋯ 0          0          0         \n",
              "4  0         0         0         0         ⋯ 0          0          0         \n",
              "5  0         0         0         0         ⋯ 0          0          0         \n",
              "6  0         0         0         0         ⋯ 0          0          0         \n",
              "7  0         0         0         0         ⋯ 0          0          0         \n",
              "8  0         0         0         0         ⋯ 0          0          0         \n",
              "9  0         0         0         0         ⋯ 0          0          0         \n",
              "10 0         0         0         0         ⋯ 0          0          0         \n",
              "11 0         0         0         0         ⋯ 0          0          0         \n",
              "12 0         0         0         0         ⋯ 0          0          0         \n",
              "13 0         0         0         0         ⋯ 0          0          0         \n",
              "14 0         0         0         0         ⋯ 0          0          0         \n",
              "15 0         0         0         0         ⋯ 0          0          0         \n",
              "16 0         0         0         0         ⋯ 0          0          0         \n",
              "17 0         0         0         0         ⋯ 0          0          0         \n",
              "18 0         0         0         0         ⋯ 0          0          0         \n",
              "19 0         0         0         0         ⋯ 0          0          0         \n",
              "20 0         0         0         0         ⋯ 0          0          0         \n",
              "21 0         0         0         0         ⋯ 0          0          0         \n",
              "22 0         0         0         0         ⋯ 0          0          0         \n",
              "23 0         0         0         0         ⋯ 0          0          0         \n",
              "24 0         0         0         0         ⋯ 0          0          0         \n",
              "25 0         0         0         0         ⋯ 0          0          0         \n",
              "26 0         0         0         0         ⋯ 0          0          0         \n",
              "27 0         0         0         0         ⋯ 0          0          0         \n",
              "28 0         0         0         0         ⋯ 0          0          0         \n",
              "29 0         0         0         0         ⋯ 0          0          0         \n",
              "30 0         0         0         0         ⋯ 0          0          0         \n",
              "31 0         0         0         0         ⋯ 0          0          0         \n",
              "32 0         0         0         0         ⋯ 0          0          0         \n",
              "33 0         0         0         0         ⋯ 0          0          0         \n",
              "34 0         0         0         0         ⋯ 0          0          0         \n",
              "35 0         0         0         0         ⋯ 0          0          0         \n",
              "36 0         0         0         0         ⋯ 0          0          0         \n",
              "37 0         0         0         0         ⋯ 0          0          0         \n",
              "38 0         0         0         0         ⋯ 0          0          0         \n",
              "39 0         0         0         0         ⋯ 0          0          0         \n",
              "40 0         0         0         0         ⋯ 0          0          0         \n",
              "41 0         0         0         0         ⋯ 0          0          0         \n",
              "42 0         0         0         0         ⋯ 0          0          0         \n",
              "43 0         0         0         0         ⋯ 0          0          0         \n",
              "44 0         0         0         0         ⋯ 0          0          0         \n",
              "45 0         0         0         0         ⋯ 0          0          0         \n",
              "46 5         4         3         7         ⋯ 4          2          3         \n",
              "47 1         3         3         7         ⋯ 0          3          4         \n",
              "48 7         5         3         6         ⋯ 2          2          3         \n",
              "49 5         3         3         7         ⋯ 6          2          3         \n",
              "50 2         2         3         7         ⋯ 3          3          4         \n",
              "51 6         4         3         6         ⋯ 5          3          2         \n",
              "52 6         3         3         6         ⋯ 5          2          3         \n",
              "53 2         2         3         6         ⋯ 1          3          4         \n",
              "54 6         3         3         5         ⋯ 3          3          3         \n",
              "55 5         3         2         5         ⋯ 6          2          2         \n",
              "56 1         1         2         5         ⋯ 2          2          2         \n",
              "57 5         3         3         4         ⋯ 4          2          1         \n",
              "58 5         2         2         4         ⋯ 6          2          2         \n",
              "59 1         1         2         4         ⋯ 2          2          2         \n",
              "60 3         3         2         3         ⋯ 4          2          1         \n",
              "   predict.13 predict.14 predict.15 predict.16 predict.17 predict.18 predict.19\n",
              "1  0          0           0         0          0          0          0         \n",
              "2  0          0           0         0          0          0          0         \n",
              "3  0          0           0         0          0          0          0         \n",
              "4  0          0           0         0          0          0          0         \n",
              "5  0          0           0         0          0          0          0         \n",
              "6  0          0           0         0          0          0          0         \n",
              "7  0          0           0         0          0          0          0         \n",
              "8  0          0           0         0          0          0          0         \n",
              "9  0          0           0         0          0          0          0         \n",
              "10 0          0           0         0          0          0          0         \n",
              "11 0          0           0         0          0          0          0         \n",
              "12 0          0           0         0          0          0          0         \n",
              "13 0          0           0         0          0          0          0         \n",
              "14 0          0           0         0          0          0          0         \n",
              "15 0          0           0         0          0          0          0         \n",
              "16 0          0           0         0          0          0          0         \n",
              "17 0          0           0         0          0          0          0         \n",
              "18 0          0           0         0          0          0          0         \n",
              "19 0          0           0         0          0          0          0         \n",
              "20 0          0           0         0          0          0          0         \n",
              "21 0          0           0         0          0          0          0         \n",
              "22 0          0           0         0          0          0          0         \n",
              "23 0          0           0         0          0          0          0         \n",
              "24 0          0           0         0          0          0          0         \n",
              "25 0          0           0         0          0          0          0         \n",
              "26 0          0           0         0          0          0          0         \n",
              "27 0          0           0         0          0          0          0         \n",
              "28 0          0           0         0          0          0          0         \n",
              "29 0          0           0         0          0          0          0         \n",
              "30 0          0           0         0          0          0          0         \n",
              "31 0          0           0         0          0          0          0         \n",
              "32 0          0           0         0          0          0          0         \n",
              "33 0          0           0         0          0          0          0         \n",
              "34 0          0           0         0          0          0          0         \n",
              "35 0          0           0         0          0          0          0         \n",
              "36 0          0           0         0          0          0          0         \n",
              "37 0          0           0         0          0          0          0         \n",
              "38 0          0           0         0          0          0          0         \n",
              "39 0          0           0         0          0          0          0         \n",
              "40 0          0           0         0          0          0          0         \n",
              "41 0          0           0         0          0          0          0         \n",
              "42 0          0           0         0          0          0          0         \n",
              "43 0          0           0         0          0          0          0         \n",
              "44 0          0           0         0          0          0          0         \n",
              "45 0          0           0         0          0          0          0         \n",
              "46 5          3          11         1          1          1          1         \n",
              "47 4          2          12         1          1          1          1         \n",
              "48 4          2          13         2          2          2          2         \n",
              "49 6          3           7         2          2          2          2         \n",
              "50 5          2           9         3          3          3          3         \n",
              "51 4          2          10         4          4          4          4         \n",
              "52 6          3           7         1          1          1          1         \n",
              "53 5          2          10         2          2          2          2         \n",
              "54 4          2           9         3          3          3          3         \n",
              "55 5          4           6         2          2          2          2         \n",
              "56 4          3           9         3          3          3          3         \n",
              "57 4          3           9         4          4          4          4         \n",
              "58 4          4           5         2          2          2          2         \n",
              "59 4          3           8         3          3          3          3         \n",
              "60 3          3           7         4          4          4          4         "
            ]
          },
          "metadata": {}
        }
      ]
    },
    {
      "cell_type": "markdown",
      "source": [
        "Exporte a Excel"
      ],
      "metadata": {
        "id": "rR1ECSjg4aec"
      }
    },
    {
      "cell_type": "code",
      "source": [
        "install.packages(\"xlsx\")\n",
        "library(xlsx)\n",
        "write.xlsx(data_train_GBM,\"data_train_GBM.xlsx\")\n",
        "write.xlsx(data_train_RN,\"data_train_RN.xlsx\")"
      ],
      "metadata": {
        "id": "B-U5uT944dYu",
        "colab": {
          "base_uri": "https://localhost:8080/"
        },
        "outputId": "f7af5f6e-076a-4b98-d52f-9a472fcf00b0"
      },
      "execution_count": null,
      "outputs": [
        {
          "output_type": "stream",
          "name": "stderr",
          "text": [
            "Installing package into ‘/usr/local/lib/R/site-library’\n",
            "(as ‘lib’ is unspecified)\n",
            "\n",
            "also installing the dependencies ‘rJava’, ‘xlsxjars’\n",
            "\n",
            "\n"
          ]
        }
      ]
    },
    {
      "cell_type": "markdown",
      "source": [
        "##Predicciónes del mes siguiente"
      ],
      "metadata": {
        "id": "dELPULD5le-v"
      }
    },
    {
      "cell_type": "markdown",
      "source": [
        "###Predicciónes con los modelos GBM"
      ],
      "metadata": {
        "id": "2St0CD9Tl547"
      }
    },
    {
      "cell_type": "code",
      "source": [
        "predic_test_bike_gbm_est3<-h2o.predict(train_gbm_model_bike_est3,mes_sig_h2o)\n",
        "predic_test_bike_gbm_est3<-as.data.frame(predic_test_bike_gbm_est3)\n",
        "predic_test_bike_gbm_est3<-round(predic_test_bike_gbm_est3,0)"
      ],
      "metadata": {
        "id": "EGesVqFCdhkA",
        "colab": {
          "base_uri": "https://localhost:8080/"
        },
        "outputId": "1159659c-cfee-4b74-ce81-e25772757b48"
      },
      "execution_count": null,
      "outputs": [
        {
          "output_type": "stream",
          "name": "stdout",
          "text": [
            "  |======================================================================| 100%\n"
          ]
        }
      ]
    },
    {
      "cell_type": "code",
      "source": [
        "predic_test_bike_gbm_est6<-h2o.predict(train_gbm_model_bike_est6,mes_sig_h2o)\n",
        "predic_test_bike_gbm_est6<-as.data.frame(predic_test_bike_gbm_est6)\n",
        "predic_test_bike_gbm_est6<-round(predic_test_bike_gbm_est6,0)"
      ],
      "metadata": {
        "id": "JkLagx4rk747",
        "colab": {
          "base_uri": "https://localhost:8080/"
        },
        "outputId": "62a38549-b451-4c04-cd0e-c9a8eb18d21f"
      },
      "execution_count": null,
      "outputs": [
        {
          "output_type": "stream",
          "name": "stdout",
          "text": [
            "  |======================================================================| 100%\n"
          ]
        }
      ]
    },
    {
      "cell_type": "code",
      "source": [
        "predic_test_bike_gbm_est10<-h2o.predict(train_gbm_model_bike_est10,mes_sig_h2o)\n",
        "predic_test_bike_gbm_est10<-as.data.frame(predic_test_bike_gbm_est10)\n",
        "predic_test_bike_gbm_est10<-round(predic_test_bike_gbm_est10,0)"
      ],
      "metadata": {
        "id": "fphoDf2xlKC7",
        "colab": {
          "base_uri": "https://localhost:8080/"
        },
        "outputId": "892fc6ea-cd85-43b8-9cb8-d87f06eff8f1"
      },
      "execution_count": null,
      "outputs": [
        {
          "output_type": "stream",
          "name": "stdout",
          "text": [
            "  |======================================================================| 100%\n"
          ]
        }
      ]
    },
    {
      "cell_type": "code",
      "source": [
        "predic_test_bike_gbm_est13<-h2o.predict(train_gbm_model_bike_est13,mes_sig_h2o)\n",
        "predic_test_bike_gbm_est13<-as.data.frame(predic_test_bike_gbm_est13)\n",
        "predic_test_bike_gbm_est13<-round(predic_test_bike_gbm_est13,0)"
      ],
      "metadata": {
        "id": "DP46HHWSmFvb",
        "colab": {
          "base_uri": "https://localhost:8080/"
        },
        "outputId": "2999c651-e508-4a79-f30c-cbeffe6a0aa9"
      },
      "execution_count": null,
      "outputs": [
        {
          "output_type": "stream",
          "name": "stdout",
          "text": [
            "  |======================================================================| 100%\n"
          ]
        }
      ]
    },
    {
      "cell_type": "code",
      "source": [
        "predic_test_bike_gbm_est19<-h2o.predict(train_gbm_model_bike_est19,mes_sig_h2o)\n",
        "predic_test_bike_gbm_est19<-as.data.frame(predic_test_bike_gbm_est19)\n",
        "predic_test_bike_gbm_est19<-round(predic_test_bike_gbm_est19,0)"
      ],
      "metadata": {
        "id": "Ka5KAMhBmKrb",
        "colab": {
          "base_uri": "https://localhost:8080/"
        },
        "outputId": "c9957036-c597-4ab6-c349-08ceb93eb753"
      },
      "execution_count": null,
      "outputs": [
        {
          "output_type": "stream",
          "name": "stdout",
          "text": [
            "  |======================================================================| 100%\n"
          ]
        }
      ]
    },
    {
      "cell_type": "code",
      "source": [
        "predic_test_bike_gbm_est23<-h2o.predict(train_gbm_model_bike_est23,mes_sig_h2o)\n",
        "predic_test_bike_gbm_est23<-as.data.frame(predic_test_bike_gbm_est23)\n",
        "predic_test_bike_gbm_est23<-round(predic_test_bike_gbm_est23,0)"
      ],
      "metadata": {
        "id": "GkqrSIxumKfl",
        "colab": {
          "base_uri": "https://localhost:8080/"
        },
        "outputId": "5b0d05ca-8d8c-48ed-c2ba-931b7ef4fb08"
      },
      "execution_count": null,
      "outputs": [
        {
          "output_type": "stream",
          "name": "stdout",
          "text": [
            "  |======================================================================| 100%\n"
          ]
        }
      ]
    },
    {
      "cell_type": "code",
      "source": [
        "predic_test_bike_gbm_est25<-h2o.predict(train_gbm_model_bike_est25,mes_sig_h2o)\n",
        "predic_test_bike_gbm_est25<-as.data.frame(predic_test_bike_gbm_est25)\n",
        "predic_test_bike_gbm_est25<-round(predic_test_bike_gbm_est25,0)"
      ],
      "metadata": {
        "id": "rBHoH97MmOrx",
        "colab": {
          "base_uri": "https://localhost:8080/"
        },
        "outputId": "7f247e34-67e4-4f10-bb44-1a8a937846dd"
      },
      "execution_count": null,
      "outputs": [
        {
          "output_type": "stream",
          "name": "stdout",
          "text": [
            "  |======================================================================| 100%\n"
          ]
        }
      ]
    },
    {
      "cell_type": "code",
      "source": [
        "predic_test_bike_gbm_est26<-h2o.predict(train_gbm_model_bike_est26,mes_sig_h2o)\n",
        "predic_test_bike_gbm_est26<-as.data.frame(predic_test_bike_gbm_est26)\n",
        "predic_test_bike_gbm_est26<-round(predic_test_bike_gbm_est26,0)"
      ],
      "metadata": {
        "id": "4ZB7qYQGmTZS",
        "colab": {
          "base_uri": "https://localhost:8080/"
        },
        "outputId": "e3046045-c1f1-41b7-8efe-75a90a96e8df"
      },
      "execution_count": null,
      "outputs": [
        {
          "output_type": "stream",
          "name": "stdout",
          "text": [
            "  |======================================================================| 100%\n"
          ]
        }
      ]
    },
    {
      "cell_type": "code",
      "source": [
        "predic_test_bike_gbm_est27<-h2o.predict(train_gbm_model_bike_est27,mes_sig_h2o)\n",
        "predic_test_bike_gbm_est27<-as.data.frame(predic_test_bike_gbm_est27)\n",
        "predic_test_bike_gbm_est27<-round(predic_test_bike_gbm_est27,0)"
      ],
      "metadata": {
        "id": "4AsHg34HmXHz",
        "colab": {
          "base_uri": "https://localhost:8080/"
        },
        "outputId": "f57709b0-4d48-42e6-b297-8e8891a4c20d"
      },
      "execution_count": null,
      "outputs": [
        {
          "output_type": "stream",
          "name": "stdout",
          "text": [
            "  |======================================================================| 100%\n"
          ]
        }
      ]
    },
    {
      "cell_type": "code",
      "source": [
        "predic_test_bike_gbm_est28<-h2o.predict(train_gbm_model_bike_est28,mes_sig_h2o)\n",
        "predic_test_bike_gbm_est28<-as.data.frame(predic_test_bike_gbm_est28)\n",
        "predic_test_bike_gbm_est28<-round(predic_test_bike_gbm_est28,0)"
      ],
      "metadata": {
        "id": "D3CShgaUmaP7",
        "colab": {
          "base_uri": "https://localhost:8080/"
        },
        "outputId": "cce18930-9610-49f9-9e3e-d9619ea11e7d"
      },
      "execution_count": null,
      "outputs": [
        {
          "output_type": "stream",
          "name": "stdout",
          "text": [
            "  |======================================================================| 100%\n"
          ]
        }
      ]
    },
    {
      "cell_type": "code",
      "source": [
        "predic_test_bike_gbm_est32<-h2o.predict(train_gbm_model_bike_est32,mes_sig_h2o)\n",
        "predic_test_bike_gbm_est32<-as.data.frame(predic_test_bike_gbm_est32)\n",
        "predic_test_bike_gbm_est32<-round(predic_test_bike_gbm_est32,0)"
      ],
      "metadata": {
        "id": "zfVau5D4KnJA",
        "colab": {
          "base_uri": "https://localhost:8080/"
        },
        "outputId": "d8958518-ba87-4267-e336-136647719fde"
      },
      "execution_count": null,
      "outputs": [
        {
          "output_type": "stream",
          "name": "stdout",
          "text": [
            "  |======================================================================| 100%\n"
          ]
        }
      ]
    },
    {
      "cell_type": "code",
      "source": [
        "predic_test_bike_gbm_est33<-h2o.predict(train_gbm_model_bike_est33,mes_sig_h2o)\n",
        "predic_test_bike_gbm_est33<-as.data.frame(predic_test_bike_gbm_est33)\n",
        "predic_test_bike_gbm_est33<-round(predic_test_bike_gbm_est33,0)"
      ],
      "metadata": {
        "id": "NdcKXKH0KnY5",
        "colab": {
          "base_uri": "https://localhost:8080/"
        },
        "outputId": "423dafa2-d478-46b1-bc25-ec808ea7f84f"
      },
      "execution_count": null,
      "outputs": [
        {
          "output_type": "stream",
          "name": "stdout",
          "text": [
            "  |======================================================================| 100%\n"
          ]
        }
      ]
    },
    {
      "cell_type": "code",
      "source": [
        "predic_test_bike_gbm_est36<-h2o.predict(train_gbm_model_bike_est36,mes_sig_h2o)\n",
        "predic_test_bike_gbm_est36<-as.data.frame(predic_test_bike_gbm_est36)\n",
        "predic_test_bike_gbm_est36<-round(predic_test_bike_gbm_est36,0)"
      ],
      "metadata": {
        "id": "d5Mmp4SLKnnx",
        "colab": {
          "base_uri": "https://localhost:8080/"
        },
        "outputId": "849daf4d-4992-4b6c-9cad-08f16099a1d4"
      },
      "execution_count": null,
      "outputs": [
        {
          "output_type": "stream",
          "name": "stdout",
          "text": [
            "  |======================================================================| 100%\n"
          ]
        }
      ]
    },
    {
      "cell_type": "code",
      "source": [
        "predic_test_bike_gbm_est46<-h2o.predict(train_gbm_model_bike_est46,mes_sig_h2o)\n",
        "predic_test_bike_gbm_est46<-as.data.frame(predic_test_bike_gbm_est46)\n",
        "predic_test_bike_gbm_est46<-round(predic_test_bike_gbm_est46,0)"
      ],
      "metadata": {
        "id": "_71RkL1AKn8z",
        "colab": {
          "base_uri": "https://localhost:8080/"
        },
        "outputId": "94874436-ac09-413b-bc41-4b17509e51aa"
      },
      "execution_count": null,
      "outputs": [
        {
          "output_type": "stream",
          "name": "stdout",
          "text": [
            "  |======================================================================| 100%\n"
          ]
        }
      ]
    },
    {
      "cell_type": "code",
      "source": [
        "predic_test_bike_gbm_est47<-h2o.predict(train_gbm_model_bike_est47,mes_sig_h2o)\n",
        "predic_test_bike_gbm_est47<-as.data.frame(predic_test_bike_gbm_est47)\n",
        "predic_test_bike_gbm_est47<-round(predic_test_bike_gbm_est47,0)"
      ],
      "metadata": {
        "id": "XZFBG4V7KoNp",
        "colab": {
          "base_uri": "https://localhost:8080/"
        },
        "outputId": "c8cb4a33-fe6b-4c39-a340-2d3570d6cd54"
      },
      "execution_count": null,
      "outputs": [
        {
          "output_type": "stream",
          "name": "stdout",
          "text": [
            "  |======================================================================| 100%\n"
          ]
        }
      ]
    },
    {
      "cell_type": "code",
      "source": [
        "predic_test_bike_gbm_est53<-h2o.predict(train_gbm_model_bike_est53,mes_sig_h2o)\n",
        "predic_test_bike_gbm_est53<-as.data.frame(predic_test_bike_gbm_est53)\n",
        "predic_test_bike_gbm_est53<-round(predic_test_bike_gbm_est53,0)"
      ],
      "metadata": {
        "id": "LyALR1aVKopj",
        "colab": {
          "base_uri": "https://localhost:8080/"
        },
        "outputId": "6e609449-eec6-4f76-86c7-a12c91c74654"
      },
      "execution_count": null,
      "outputs": [
        {
          "output_type": "stream",
          "name": "stdout",
          "text": [
            "  |======================================================================| 100%\n"
          ]
        }
      ]
    },
    {
      "cell_type": "code",
      "source": [
        "predic_test_bike_gbm_est57<-h2o.predict(train_gbm_model_bike_est57,mes_sig_h2o)\n",
        "predic_test_bike_gbm_est57<-as.data.frame(predic_test_bike_gbm_est57)\n",
        "predic_test_bike_gbm_est57<-round(predic_test_bike_gbm_est57,0)"
      ],
      "metadata": {
        "id": "DFpm16HfKo4S",
        "colab": {
          "base_uri": "https://localhost:8080/"
        },
        "outputId": "c541475b-57ed-44f9-cc6f-41279391e06e"
      },
      "execution_count": null,
      "outputs": [
        {
          "output_type": "stream",
          "name": "stdout",
          "text": [
            "  |======================================================================| 100%\n"
          ]
        }
      ]
    },
    {
      "cell_type": "code",
      "source": [
        "predic_test_bike_gbm_est58<-h2o.predict(train_gbm_model_bike_est58,mes_sig_h2o)\n",
        "predic_test_bike_gbm_est58<-as.data.frame(predic_test_bike_gbm_est58)\n",
        "predic_test_bike_gbm_est58<-round(predic_test_bike_gbm_est58,0)"
      ],
      "metadata": {
        "id": "RMaHHviCKpSp",
        "colab": {
          "base_uri": "https://localhost:8080/"
        },
        "outputId": "2619160f-6974-4952-fcf8-613e0fe4947d"
      },
      "execution_count": null,
      "outputs": [
        {
          "output_type": "stream",
          "name": "stdout",
          "text": [
            "  |======================================================================| 100%\n"
          ]
        }
      ]
    },
    {
      "cell_type": "code",
      "source": [
        "predic_test_bike_gbm_est59<-h2o.predict(train_gbm_model_bike_est59,mes_sig_h2o)\n",
        "predic_test_bike_gbm_est59<-as.data.frame(predic_test_bike_gbm_est59)\n",
        "predic_test_bike_gbm_est59<-round(predic_test_bike_gbm_est59,0)"
      ],
      "metadata": {
        "id": "Gwql525eKpix",
        "colab": {
          "base_uri": "https://localhost:8080/"
        },
        "outputId": "4fa1a801-793d-4051-eed2-33bfbdd25ae4"
      },
      "execution_count": null,
      "outputs": [
        {
          "output_type": "stream",
          "name": "stdout",
          "text": [
            "  |======================================================================| 100%\n"
          ]
        }
      ]
    },
    {
      "cell_type": "code",
      "source": [
        "predic_test_bike_gbm_est60<-h2o.predict(train_gbm_model_bike_est60,mes_sig_h2o)\n",
        "predic_test_bike_gbm_est60<-as.data.frame(predic_test_bike_gbm_est60)\n",
        "predic_test_bike_gbm_est60<-round(predic_test_bike_gbm_est60,0)"
      ],
      "metadata": {
        "id": "r9qVvkXrKp8x",
        "colab": {
          "base_uri": "https://localhost:8080/"
        },
        "outputId": "fc198264-4893-456e-d227-068d64a4f9aa"
      },
      "execution_count": null,
      "outputs": [
        {
          "output_type": "stream",
          "name": "stdout",
          "text": [
            "  |======================================================================| 100%\n"
          ]
        }
      ]
    },
    {
      "cell_type": "markdown",
      "source": [
        "###Predicciónes con los modelos Red Neuronal"
      ],
      "metadata": {
        "id": "_Uc_nbxAl_Fi"
      }
    },
    {
      "cell_type": "code",
      "source": [
        "predic_test_bike_rn_est3<-h2o.predict(train_rn_model_bike_est3,mes_sig_h2o)\n",
        "predic_test_bike_rn_est3<-as.data.frame(predic_test_bike_rn_est3)\n",
        "predic_test_bike_rn_est3<-round(predic_test_bike_rn_est3,0)"
      ],
      "metadata": {
        "id": "pNpTKE-FnF3h",
        "colab": {
          "base_uri": "https://localhost:8080/"
        },
        "outputId": "1b6be59b-4bb5-4e06-a6da-2858d1bc1c03"
      },
      "execution_count": null,
      "outputs": [
        {
          "output_type": "stream",
          "name": "stdout",
          "text": [
            "  |======================================================================| 100%\n"
          ]
        }
      ]
    },
    {
      "cell_type": "code",
      "source": [
        "predic_test_bike_rn_est6<-h2o.predict(train_rn_model_bike_est6,mes_sig_h2o)\n",
        "predic_test_bike_rn_est6<-as.data.frame(predic_test_bike_rn_est6)\n",
        "predic_test_bike_rn_est6<-round(predic_test_bike_rn_est6,0)"
      ],
      "metadata": {
        "id": "a4N2AoYPoHmi",
        "colab": {
          "base_uri": "https://localhost:8080/"
        },
        "outputId": "b66072dd-c46f-4218-9a5d-eab9e07d4ccc"
      },
      "execution_count": null,
      "outputs": [
        {
          "output_type": "stream",
          "name": "stdout",
          "text": [
            "  |======================================================================| 100%\n"
          ]
        }
      ]
    },
    {
      "cell_type": "code",
      "source": [
        "predic_test_bike_rn_est10<-h2o.predict(train_rn_model_bike_est10,mes_sig_h2o)\n",
        "predic_test_bike_rn_est10<-as.data.frame(predic_test_bike_rn_est10)\n",
        "predic_test_bike_rn_est10<-round(predic_test_bike_rn_est10,0)"
      ],
      "metadata": {
        "id": "3pIo-UbkoMJh",
        "colab": {
          "base_uri": "https://localhost:8080/"
        },
        "outputId": "5fbf7ed7-0425-4ae7-b1cf-67daca3f5c31"
      },
      "execution_count": null,
      "outputs": [
        {
          "output_type": "stream",
          "name": "stdout",
          "text": [
            "  |======================================================================| 100%\n"
          ]
        }
      ]
    },
    {
      "cell_type": "code",
      "source": [
        "predic_test_bike_rn_est13<-h2o.predict(train_rn_model_bike_est13,mes_sig_h2o)\n",
        "predic_test_bike_rn_est13<-as.data.frame(predic_test_bike_rn_est13)\n",
        "predic_test_bike_rn_est13<-round(predic_test_bike_rn_est13,0)"
      ],
      "metadata": {
        "id": "ve0DezlwoPm0",
        "colab": {
          "base_uri": "https://localhost:8080/"
        },
        "outputId": "7799b60d-edc3-4f6d-e3e3-903e441743e6"
      },
      "execution_count": null,
      "outputs": [
        {
          "output_type": "stream",
          "name": "stdout",
          "text": [
            "  |======================================================================| 100%\n"
          ]
        }
      ]
    },
    {
      "cell_type": "code",
      "source": [
        "predic_test_bike_rn_est19<-h2o.predict(train_rn_model_bike_est19,mes_sig_h2o)\n",
        "predic_test_bike_rn_est19<-as.data.frame(predic_test_bike_rn_est19)\n",
        "predic_test_bike_rn_est19<-round(predic_test_bike_rn_est19,0)"
      ],
      "metadata": {
        "id": "KDxZyRk3oTnK",
        "colab": {
          "base_uri": "https://localhost:8080/"
        },
        "outputId": "6605be99-4b50-4431-df5c-56a7682ad922"
      },
      "execution_count": null,
      "outputs": [
        {
          "output_type": "stream",
          "name": "stdout",
          "text": [
            "  |======================================================================| 100%\n"
          ]
        }
      ]
    },
    {
      "cell_type": "code",
      "source": [
        "predic_test_bike_rn_est23<-h2o.predict(train_rn_model_bike_est23,mes_sig_h2o)\n",
        "predic_test_bike_rn_est23<-as.data.frame(predic_test_bike_rn_est23)\n",
        "predic_test_bike_rn_est23<-round(predic_test_bike_rn_est23,0)"
      ],
      "metadata": {
        "id": "tCqoz_GQoXkj",
        "colab": {
          "base_uri": "https://localhost:8080/"
        },
        "outputId": "111b013c-381c-4711-b5e2-352113f92262"
      },
      "execution_count": null,
      "outputs": [
        {
          "output_type": "stream",
          "name": "stdout",
          "text": [
            "  |======================================================================| 100%\n"
          ]
        }
      ]
    },
    {
      "cell_type": "code",
      "source": [
        "predic_test_bike_rn_est25<-h2o.predict(train_rn_model_bike_est25,mes_sig_h2o)\n",
        "predic_test_bike_rn_est25<-as.data.frame(predic_test_bike_rn_est25)\n",
        "predic_test_bike_rn_est25<-round(predic_test_bike_rn_est25,0)"
      ],
      "metadata": {
        "id": "5ous_tZ-oari",
        "colab": {
          "base_uri": "https://localhost:8080/"
        },
        "outputId": "d0ae844d-73e1-4134-ef52-771ca22de4b3"
      },
      "execution_count": null,
      "outputs": [
        {
          "output_type": "stream",
          "name": "stdout",
          "text": [
            "  |======================================================================| 100%\n"
          ]
        }
      ]
    },
    {
      "cell_type": "code",
      "source": [
        "predic_test_bike_rn_est26<-h2o.predict(train_rn_model_bike_est26,mes_sig_h2o)\n",
        "predic_test_bike_rn_est26<-as.data.frame(predic_test_bike_rn_est26)\n",
        "predic_test_bike_rn_est26<-round(predic_test_bike_rn_est26,0)"
      ],
      "metadata": {
        "id": "4T-Lp-QCod0T",
        "colab": {
          "base_uri": "https://localhost:8080/"
        },
        "outputId": "2feac03a-4696-4805-fcaf-b33979d72400"
      },
      "execution_count": null,
      "outputs": [
        {
          "output_type": "stream",
          "name": "stdout",
          "text": [
            "  |======================================================================| 100%\n"
          ]
        }
      ]
    },
    {
      "cell_type": "code",
      "source": [
        "predic_test_bike_rn_est27<-h2o.predict(train_rn_model_bike_est27,mes_sig_h2o)\n",
        "predic_test_bike_rn_est27<-as.data.frame(predic_test_bike_rn_est27)\n",
        "predic_test_bike_rn_est27<-round(predic_test_bike_rn_est27,0)"
      ],
      "metadata": {
        "id": "jUajkR7Gogwj",
        "colab": {
          "base_uri": "https://localhost:8080/"
        },
        "outputId": "2ad2f187-e8df-4561-8c6d-936bf713023c"
      },
      "execution_count": null,
      "outputs": [
        {
          "output_type": "stream",
          "name": "stdout",
          "text": [
            "  |======================================================================| 100%\n"
          ]
        }
      ]
    },
    {
      "cell_type": "code",
      "source": [
        "predic_test_bike_rn_est28<-h2o.predict(train_rn_model_bike_est28,mes_sig_h2o)\n",
        "predic_test_bike_rn_est28<-as.data.frame(predic_test_bike_rn_est28)\n",
        "predic_test_bike_rn_est28<-round(predic_test_bike_rn_est28,0)"
      ],
      "metadata": {
        "id": "0z6dvN7PojxC",
        "colab": {
          "base_uri": "https://localhost:8080/"
        },
        "outputId": "cddfe51d-f2c8-40ea-af17-ad3312960458"
      },
      "execution_count": null,
      "outputs": [
        {
          "output_type": "stream",
          "name": "stdout",
          "text": [
            "  |======================================================================| 100%\n"
          ]
        }
      ]
    },
    {
      "cell_type": "code",
      "source": [
        "predic_test_bike_rn_est32<-h2o.predict(train_rn_model_bike_est32,mes_sig_h2o)\n",
        "predic_test_bike_rn_est32<-as.data.frame(predic_test_bike_rn_est32)\n",
        "predic_test_bike_rn_est32<-round(predic_test_bike_rn_est32,0)"
      ],
      "metadata": {
        "id": "EQI_cVj3QAyo",
        "colab": {
          "base_uri": "https://localhost:8080/"
        },
        "outputId": "d121e97e-5469-4b33-894b-adbb37ec8a33"
      },
      "execution_count": null,
      "outputs": [
        {
          "output_type": "stream",
          "name": "stdout",
          "text": [
            "  |======================================================================| 100%\n"
          ]
        }
      ]
    },
    {
      "cell_type": "code",
      "source": [
        "predic_test_bike_rn_est33<-h2o.predict(train_rn_model_bike_est33,mes_sig_h2o)\n",
        "predic_test_bike_rn_est33<-as.data.frame(predic_test_bike_rn_est33)\n",
        "predic_test_bike_rn_est33<-round(predic_test_bike_rn_est33,0)"
      ],
      "metadata": {
        "id": "_o6Un23rQBFQ",
        "colab": {
          "base_uri": "https://localhost:8080/"
        },
        "outputId": "21f24bd8-6752-486b-880d-a8894d3eae16"
      },
      "execution_count": null,
      "outputs": [
        {
          "output_type": "stream",
          "name": "stdout",
          "text": [
            "  |======================================================================| 100%\n"
          ]
        }
      ]
    },
    {
      "cell_type": "code",
      "source": [
        "predic_test_bike_rn_est36<-h2o.predict(train_rn_model_bike_est36,mes_sig_h2o)\n",
        "predic_test_bike_rn_est36<-as.data.frame(predic_test_bike_rn_est36)\n",
        "predic_test_bike_rn_est36<-round(predic_test_bike_rn_est36,0)"
      ],
      "metadata": {
        "id": "tXUY8dWBQBXR",
        "colab": {
          "base_uri": "https://localhost:8080/"
        },
        "outputId": "972fe958-ad12-4dcc-f7e5-2dc0db6bc225"
      },
      "execution_count": null,
      "outputs": [
        {
          "output_type": "stream",
          "name": "stdout",
          "text": [
            "  |======================================================================| 100%\n"
          ]
        }
      ]
    },
    {
      "cell_type": "code",
      "source": [
        "predic_test_bike_rn_est46<-h2o.predict(train_rn_model_bike_est46,mes_sig_h2o)\n",
        "predic_test_bike_rn_est46<-as.data.frame(predic_test_bike_rn_est46)\n",
        "predic_test_bike_rn_est46<-round(predic_test_bike_rn_est46,0)"
      ],
      "metadata": {
        "id": "yfVpATQuQBl8",
        "colab": {
          "base_uri": "https://localhost:8080/"
        },
        "outputId": "20d0ad82-edab-4ee3-c914-853e364c83a5"
      },
      "execution_count": null,
      "outputs": [
        {
          "output_type": "stream",
          "name": "stdout",
          "text": [
            "  |======================================================================| 100%\n"
          ]
        }
      ]
    },
    {
      "cell_type": "code",
      "source": [
        "predic_test_bike_rn_est47<-h2o.predict(train_rn_model_bike_est47,mes_sig_h2o)\n",
        "predic_test_bike_rn_est47<-as.data.frame(predic_test_bike_rn_est47)\n",
        "predic_test_bike_rn_est47<-round(predic_test_bike_rn_est47,0)"
      ],
      "metadata": {
        "id": "q6gX_im7QCBA",
        "colab": {
          "base_uri": "https://localhost:8080/"
        },
        "outputId": "03336c75-947a-4a53-f66d-286e3b56db76"
      },
      "execution_count": null,
      "outputs": [
        {
          "output_type": "stream",
          "name": "stdout",
          "text": [
            "  |======================================================================| 100%\n"
          ]
        }
      ]
    },
    {
      "cell_type": "code",
      "source": [
        "predic_test_bike_rn_est53<-h2o.predict(train_rn_model_bike_est53,mes_sig_h2o)\n",
        "predic_test_bike_rn_est53<-as.data.frame(predic_test_bike_rn_est53)\n",
        "predic_test_bike_rn_est53<-round(predic_test_bike_rn_est53,0)"
      ],
      "metadata": {
        "id": "nwxdfUT6QCOS",
        "colab": {
          "base_uri": "https://localhost:8080/"
        },
        "outputId": "cf762183-ffd9-4b6c-a6f4-2f5fce9e9159"
      },
      "execution_count": null,
      "outputs": [
        {
          "output_type": "stream",
          "name": "stdout",
          "text": [
            "  |======================================================================| 100%\n"
          ]
        }
      ]
    },
    {
      "cell_type": "code",
      "source": [
        "predic_test_bike_rn_est57<-h2o.predict(train_rn_model_bike_est57,mes_sig_h2o)\n",
        "predic_test_bike_rn_est57<-as.data.frame(predic_test_bike_rn_est57)\n",
        "predic_test_bike_rn_est57<-round(predic_test_bike_rn_est57,0)"
      ],
      "metadata": {
        "id": "yrV7jYCPQCmB",
        "colab": {
          "base_uri": "https://localhost:8080/"
        },
        "outputId": "172ceec4-01b9-4917-a942-48943576ca17"
      },
      "execution_count": null,
      "outputs": [
        {
          "output_type": "stream",
          "name": "stdout",
          "text": [
            "  |======================================================================| 100%\n"
          ]
        }
      ]
    },
    {
      "cell_type": "code",
      "source": [
        "predic_test_bike_rn_est58<-h2o.predict(train_rn_model_bike_est58,mes_sig_h2o)\n",
        "predic_test_bike_rn_est58<-as.data.frame(predic_test_bike_rn_est58)\n",
        "predic_test_bike_rn_est58<-round(predic_test_bike_rn_est58,0)"
      ],
      "metadata": {
        "id": "-68zHbfdQDB6",
        "colab": {
          "base_uri": "https://localhost:8080/"
        },
        "outputId": "007948ff-6f4b-4633-9c44-64bc74e04f6b"
      },
      "execution_count": null,
      "outputs": [
        {
          "output_type": "stream",
          "name": "stdout",
          "text": [
            "  |======================================================================| 100%\n"
          ]
        }
      ]
    },
    {
      "cell_type": "code",
      "source": [
        "predic_test_bike_rn_est59<-h2o.predict(train_rn_model_bike_est59,mes_sig_h2o)\n",
        "predic_test_bike_rn_est59<-as.data.frame(predic_test_bike_rn_est59)\n",
        "predic_test_bike_rn_est59<-round(predic_test_bike_rn_est59,0)"
      ],
      "metadata": {
        "id": "HmDZAxnyQDZS",
        "colab": {
          "base_uri": "https://localhost:8080/"
        },
        "outputId": "668e77b4-0ec7-4ad3-8353-a594494b113f"
      },
      "execution_count": null,
      "outputs": [
        {
          "output_type": "stream",
          "name": "stdout",
          "text": [
            "  |======================================================================| 100%\n"
          ]
        }
      ]
    },
    {
      "cell_type": "code",
      "source": [
        "predic_test_bike_rn_est60<-h2o.predict(train_rn_model_bike_est60,mes_sig_h2o)\n",
        "predic_test_bike_rn_est60<-as.data.frame(predic_test_bike_rn_est60)\n",
        "predic_test_bike_rn_est60<-round(predic_test_bike_rn_est60,0)"
      ],
      "metadata": {
        "id": "-vgd7ahBQDny",
        "colab": {
          "base_uri": "https://localhost:8080/"
        },
        "outputId": "d68c4cce-d80d-47bf-9b18-bce29845733e"
      },
      "execution_count": null,
      "outputs": [
        {
          "output_type": "stream",
          "name": "stdout",
          "text": [
            "  |======================================================================| 100%\n"
          ]
        }
      ]
    },
    {
      "cell_type": "markdown",
      "source": [
        "###Elaboración de los test y exporte"
      ],
      "metadata": {
        "id": "8I1ox9J0nMja"
      }
    },
    {
      "cell_type": "markdown",
      "source": [
        "Data test de las predicciónes al mes siguiente"
      ],
      "metadata": {
        "id": "JA7MtSlYovlZ"
      }
    },
    {
      "cell_type": "code",
      "source": [
        "data_test_GBM<-data.frame(mes_sig[1],predic_test_bike_gbm_est3,predic_test_bike_gbm_est6,predic_test_bike_gbm_est10,predic_test_bike_gbm_est13,predic_test_bike_gbm_est19,predic_test_bike_gbm_est23,predic_test_bike_gbm_est25,predic_test_bike_gbm_est26,predic_test_bike_gbm_est27,predic_test_bike_gbm_est28,predic_test_bike_gbm_est32,predic_test_bike_gbm_est33,predic_test_bike_gbm_est36,predic_test_bike_gbm_est46,predic_test_bike_gbm_est47,predic_test_bike_gbm_est53,predic_test_bike_gbm_est57,predic_test_bike_gbm_est58,predic_test_bike_gbm_est59,predic_test_bike_gbm_est60)\n",
        "data_test_GBM"
      ],
      "metadata": {
        "id": "A4k2l4ejjM6z",
        "colab": {
          "base_uri": "https://localhost:8080/",
          "height": 1000
        },
        "outputId": "20711275-9b17-4cf9-9de8-70e804dfec24"
      },
      "execution_count": null,
      "outputs": [
        {
          "output_type": "display_data",
          "data": {
            "text/html": [
              "<table class=\"dataframe\">\n",
              "<caption>A data.frame: 60 × 21</caption>\n",
              "<thead>\n",
              "\t<tr><th scope=col>dias</th><th scope=col>predict</th><th scope=col>predict.1</th><th scope=col>predict.2</th><th scope=col>predict.3</th><th scope=col>predict.4</th><th scope=col>predict.5</th><th scope=col>predict.6</th><th scope=col>predict.7</th><th scope=col>predict.8</th><th scope=col>⋯</th><th scope=col>predict.10</th><th scope=col>predict.11</th><th scope=col>predict.12</th><th scope=col>predict.13</th><th scope=col>predict.14</th><th scope=col>predict.15</th><th scope=col>predict.16</th><th scope=col>predict.17</th><th scope=col>predict.18</th><th scope=col>predict.19</th></tr>\n",
              "\t<tr><th scope=col>&lt;dttm&gt;</th><th scope=col>&lt;dbl&gt;</th><th scope=col>&lt;dbl&gt;</th><th scope=col>&lt;dbl&gt;</th><th scope=col>&lt;dbl&gt;</th><th scope=col>&lt;dbl&gt;</th><th scope=col>&lt;dbl&gt;</th><th scope=col>&lt;dbl&gt;</th><th scope=col>&lt;dbl&gt;</th><th scope=col>&lt;dbl&gt;</th><th scope=col>⋯</th><th scope=col>&lt;dbl&gt;</th><th scope=col>&lt;dbl&gt;</th><th scope=col>&lt;dbl&gt;</th><th scope=col>&lt;dbl&gt;</th><th scope=col>&lt;dbl&gt;</th><th scope=col>&lt;dbl&gt;</th><th scope=col>&lt;dbl&gt;</th><th scope=col>&lt;dbl&gt;</th><th scope=col>&lt;dbl&gt;</th><th scope=col>&lt;dbl&gt;</th></tr>\n",
              "</thead>\n",
              "<tbody>\n",
              "\t<tr><td>2022-09-05 08:00:00</td><td> 3</td><td>4</td><td> 0</td><td>3</td><td>7</td><td>5</td><td>6</td><td>3</td><td>5</td><td>⋯</td><td>4</td><td>2</td><td> 5</td><td>5</td><td>4</td><td> 8</td><td>1</td><td>1</td><td>4</td><td>2</td></tr>\n",
              "\t<tr><td>2022-09-05 14:00:00</td><td> 3</td><td>5</td><td> 5</td><td>3</td><td>7</td><td>3</td><td>7</td><td>3</td><td>9</td><td>⋯</td><td>2</td><td>2</td><td> 5</td><td>5</td><td>4</td><td>10</td><td>1</td><td>1</td><td>4</td><td>2</td></tr>\n",
              "\t<tr><td>2022-09-05 20:00:00</td><td> 3</td><td>3</td><td> 0</td><td>3</td><td>7</td><td>5</td><td>7</td><td>3</td><td>1</td><td>⋯</td><td>2</td><td>2</td><td> 2</td><td>5</td><td>4</td><td> 8</td><td>1</td><td>1</td><td>4</td><td>1</td></tr>\n",
              "\t<tr><td>2022-09-06 08:00:00</td><td> 4</td><td>4</td><td>-2</td><td>3</td><td>5</td><td>5</td><td>4</td><td>3</td><td>0</td><td>⋯</td><td>4</td><td>2</td><td> 5</td><td>5</td><td>4</td><td> 9</td><td>2</td><td>0</td><td>4</td><td>2</td></tr>\n",
              "\t<tr><td>2022-09-06 14:00:00</td><td> 1</td><td>5</td><td> 3</td><td>4</td><td>5</td><td>3</td><td>5</td><td>3</td><td>3</td><td>⋯</td><td>3</td><td>2</td><td> 6</td><td>5</td><td>4</td><td>10</td><td>2</td><td>0</td><td>4</td><td>2</td></tr>\n",
              "\t<tr><td>2022-09-06 20:00:00</td><td> 4</td><td>3</td><td> 3</td><td>2</td><td>5</td><td>5</td><td>5</td><td>3</td><td>3</td><td>⋯</td><td>4</td><td>3</td><td>-1</td><td>5</td><td>4</td><td>11</td><td>3</td><td>0</td><td>4</td><td>1</td></tr>\n",
              "\t<tr><td>2022-09-07 08:00:00</td><td> 4</td><td>4</td><td> 1</td><td>2</td><td>5</td><td>5</td><td>3</td><td>3</td><td>0</td><td>⋯</td><td>6</td><td>2</td><td> 6</td><td>5</td><td>4</td><td> 8</td><td>1</td><td>1</td><td>4</td><td>2</td></tr>\n",
              "\t<tr><td>2022-09-07 14:00:00</td><td> 3</td><td>5</td><td> 6</td><td>2</td><td>5</td><td>3</td><td>4</td><td>3</td><td>3</td><td>⋯</td><td>2</td><td>2</td><td> 6</td><td>5</td><td>4</td><td> 9</td><td>1</td><td>1</td><td>4</td><td>2</td></tr>\n",
              "\t<tr><td>2022-09-07 20:00:00</td><td> 3</td><td>4</td><td> 1</td><td>2</td><td>6</td><td>4</td><td>5</td><td>3</td><td>0</td><td>⋯</td><td>2</td><td>3</td><td> 3</td><td>5</td><td>4</td><td> 9</td><td>2</td><td>1</td><td>4</td><td>1</td></tr>\n",
              "\t<tr><td>2022-09-08 08:00:00</td><td> 4</td><td>4</td><td>-2</td><td>2</td><td>7</td><td>4</td><td>3</td><td>3</td><td>2</td><td>⋯</td><td>4</td><td>3</td><td> 3</td><td>5</td><td>4</td><td> 8</td><td>2</td><td>5</td><td>4</td><td>2</td></tr>\n",
              "\t<tr><td>2022-09-08 14:00:00</td><td> 2</td><td>5</td><td> 4</td><td>1</td><td>6</td><td>2</td><td>4</td><td>3</td><td>7</td><td>⋯</td><td>2</td><td>3</td><td> 4</td><td>5</td><td>4</td><td> 7</td><td>2</td><td>5</td><td>4</td><td>2</td></tr>\n",
              "\t<tr><td>2022-09-08 20:00:00</td><td> 4</td><td>7</td><td> 2</td><td>1</td><td>7</td><td>4</td><td>4</td><td>3</td><td>2</td><td>⋯</td><td>2</td><td>4</td><td> 3</td><td>5</td><td>4</td><td> 9</td><td>2</td><td>1</td><td>4</td><td>1</td></tr>\n",
              "\t<tr><td>2022-09-09 08:00:00</td><td> 6</td><td>4</td><td> 1</td><td>4</td><td>5</td><td>4</td><td>3</td><td>3</td><td>1</td><td>⋯</td><td>5</td><td>3</td><td> 3</td><td>5</td><td>4</td><td> 9</td><td>3</td><td>1</td><td>4</td><td>1</td></tr>\n",
              "\t<tr><td>2022-09-09 14:00:00</td><td> 5</td><td>5</td><td> 4</td><td>5</td><td>4</td><td>2</td><td>3</td><td>3</td><td>7</td><td>⋯</td><td>2</td><td>3</td><td> 3</td><td>5</td><td>4</td><td> 9</td><td>3</td><td>1</td><td>4</td><td>2</td></tr>\n",
              "\t<tr><td>2022-09-09 20:00:00</td><td> 6</td><td>3</td><td> 4</td><td>3</td><td>5</td><td>4</td><td>4</td><td>3</td><td>2</td><td>⋯</td><td>2</td><td>4</td><td> 2</td><td>5</td><td>4</td><td> 9</td><td>3</td><td>1</td><td>4</td><td>2</td></tr>\n",
              "\t<tr><td>2022-09-12 08:00:00</td><td> 2</td><td>4</td><td> 1</td><td>3</td><td>7</td><td>6</td><td>6</td><td>3</td><td>5</td><td>⋯</td><td>4</td><td>2</td><td> 5</td><td>5</td><td>3</td><td> 9</td><td>1</td><td>5</td><td>4</td><td>2</td></tr>\n",
              "\t<tr><td>2022-09-12 14:00:00</td><td> 2</td><td>5</td><td> 5</td><td>3</td><td>8</td><td>4</td><td>7</td><td>3</td><td>8</td><td>⋯</td><td>1</td><td>2</td><td> 5</td><td>5</td><td>3</td><td> 7</td><td>1</td><td>5</td><td>4</td><td>2</td></tr>\n",
              "\t<tr><td>2022-09-12 20:00:00</td><td> 5</td><td>3</td><td> 0</td><td>3</td><td>7</td><td>5</td><td>7</td><td>3</td><td>0</td><td>⋯</td><td>2</td><td>2</td><td> 2</td><td>5</td><td>3</td><td> 9</td><td>1</td><td>4</td><td>4</td><td>1</td></tr>\n",
              "\t<tr><td>2022-09-13 08:00:00</td><td> 2</td><td>5</td><td>-1</td><td>3</td><td>5</td><td>6</td><td>4</td><td>3</td><td>3</td><td>⋯</td><td>5</td><td>2</td><td> 5</td><td>5</td><td>3</td><td> 8</td><td>2</td><td>5</td><td>4</td><td>2</td></tr>\n",
              "\t<tr><td>2022-09-13 14:00:00</td><td>-2</td><td>5</td><td> 2</td><td>4</td><td>6</td><td>4</td><td>5</td><td>3</td><td>6</td><td>⋯</td><td>3</td><td>2</td><td> 6</td><td>5</td><td>3</td><td> 8</td><td>2</td><td>5</td><td>4</td><td>2</td></tr>\n",
              "\t<tr><td>2022-09-13 20:00:00</td><td> 4</td><td>3</td><td> 3</td><td>3</td><td>5</td><td>5</td><td>5</td><td>3</td><td>6</td><td>⋯</td><td>4</td><td>2</td><td> 2</td><td>5</td><td>3</td><td>10</td><td>3</td><td>5</td><td>4</td><td>1</td></tr>\n",
              "\t<tr><td>2022-09-14 08:00:00</td><td> 1</td><td>4</td><td> 2</td><td>2</td><td>5</td><td>5</td><td>3</td><td>3</td><td>3</td><td>⋯</td><td>5</td><td>2</td><td> 6</td><td>5</td><td>3</td><td> 8</td><td>2</td><td>6</td><td>4</td><td>2</td></tr>\n",
              "\t<tr><td>2022-09-14 14:00:00</td><td> 0</td><td>5</td><td> 6</td><td>3</td><td>6</td><td>3</td><td>3</td><td>3</td><td>6</td><td>⋯</td><td>2</td><td>3</td><td> 6</td><td>5</td><td>3</td><td> 7</td><td>2</td><td>5</td><td>4</td><td>2</td></tr>\n",
              "\t<tr><td>2022-09-14 20:00:00</td><td> 3</td><td>4</td><td> 0</td><td>2</td><td>5</td><td>4</td><td>4</td><td>3</td><td>3</td><td>⋯</td><td>2</td><td>2</td><td> 3</td><td>5</td><td>3</td><td> 8</td><td>3</td><td>4</td><td>4</td><td>0</td></tr>\n",
              "\t<tr><td>2022-09-15 08:00:00</td><td> 2</td><td>4</td><td>-1</td><td>2</td><td>7</td><td>4</td><td>3</td><td>3</td><td>1</td><td>⋯</td><td>5</td><td>3</td><td> 2</td><td>5</td><td>3</td><td> 9</td><td>2</td><td>3</td><td>4</td><td>2</td></tr>\n",
              "\t<tr><td>2022-09-15 14:00:00</td><td>-1</td><td>5</td><td> 3</td><td>2</td><td>8</td><td>2</td><td>4</td><td>3</td><td>7</td><td>⋯</td><td>3</td><td>3</td><td> 3</td><td>5</td><td>3</td><td> 9</td><td>2</td><td>3</td><td>4</td><td>3</td></tr>\n",
              "\t<tr><td>2022-09-15 20:00:00</td><td> 6</td><td>7</td><td> 1</td><td>2</td><td>7</td><td>4</td><td>4</td><td>3</td><td>1</td><td>⋯</td><td>4</td><td>5</td><td> 3</td><td>5</td><td>3</td><td>10</td><td>3</td><td>5</td><td>4</td><td>2</td></tr>\n",
              "\t<tr><td>2022-09-16 08:00:00</td><td> 5</td><td>5</td><td> 0</td><td>4</td><td>5</td><td>4</td><td>1</td><td>3</td><td>1</td><td>⋯</td><td>6</td><td>3</td><td> 3</td><td>5</td><td>3</td><td>10</td><td>3</td><td>5</td><td>4</td><td>2</td></tr>\n",
              "\t<tr><td>2022-09-16 14:00:00</td><td> 3</td><td>5</td><td> 3</td><td>4</td><td>5</td><td>2</td><td>2</td><td>3</td><td>7</td><td>⋯</td><td>2</td><td>3</td><td> 3</td><td>5</td><td>3</td><td> 9</td><td>3</td><td>7</td><td>4</td><td>2</td></tr>\n",
              "\t<tr><td>2022-09-16 20:00:00</td><td> 9</td><td>3</td><td> 4</td><td>2</td><td>5</td><td>4</td><td>2</td><td>3</td><td>1</td><td>⋯</td><td>3</td><td>4</td><td> 2</td><td>5</td><td>3</td><td>10</td><td>4</td><td>6</td><td>4</td><td>1</td></tr>\n",
              "\t<tr><td>2022-09-19 08:00:00</td><td> 5</td><td>4</td><td> 2</td><td>4</td><td>6</td><td>6</td><td>5</td><td>3</td><td>5</td><td>⋯</td><td>3</td><td>2</td><td> 6</td><td>5</td><td>3</td><td>12</td><td>1</td><td>1</td><td>4</td><td>2</td></tr>\n",
              "\t<tr><td>2022-09-19 14:00:00</td><td> 5</td><td>5</td><td> 4</td><td>3</td><td>6</td><td>4</td><td>4</td><td>3</td><td>8</td><td>⋯</td><td>1</td><td>2</td><td> 6</td><td>5</td><td>3</td><td>10</td><td>1</td><td>1</td><td>4</td><td>2</td></tr>\n",
              "\t<tr><td>2022-09-19 20:00:00</td><td> 8</td><td>3</td><td> 1</td><td>3</td><td>6</td><td>5</td><td>5</td><td>3</td><td>0</td><td>⋯</td><td>2</td><td>3</td><td> 3</td><td>5</td><td>3</td><td>12</td><td>2</td><td>1</td><td>4</td><td>1</td></tr>\n",
              "\t<tr><td>2022-09-20 08:00:00</td><td> 7</td><td>5</td><td> 1</td><td>5</td><td>5</td><td>6</td><td>3</td><td>3</td><td>3</td><td>⋯</td><td>4</td><td>2</td><td> 6</td><td>5</td><td>3</td><td> 8</td><td>3</td><td>0</td><td>4</td><td>2</td></tr>\n",
              "\t<tr><td>2022-09-20 14:00:00</td><td> 3</td><td>5</td><td> 2</td><td>4</td><td>5</td><td>4</td><td>3</td><td>3</td><td>6</td><td>⋯</td><td>3</td><td>2</td><td> 6</td><td>5</td><td>3</td><td> 7</td><td>3</td><td>0</td><td>4</td><td>1</td></tr>\n",
              "\t<tr><td>2022-09-20 20:00:00</td><td> 8</td><td>3</td><td> 4</td><td>2</td><td>5</td><td>5</td><td>3</td><td>3</td><td>6</td><td>⋯</td><td>4</td><td>3</td><td>-1</td><td>5</td><td>3</td><td> 9</td><td>3</td><td>0</td><td>4</td><td>0</td></tr>\n",
              "\t<tr><td>2022-09-21 08:00:00</td><td> 4</td><td>4</td><td> 2</td><td>3</td><td>5</td><td>5</td><td>3</td><td>3</td><td>3</td><td>⋯</td><td>5</td><td>2</td><td> 6</td><td>5</td><td>3</td><td> 7</td><td>3</td><td>1</td><td>4</td><td>2</td></tr>\n",
              "\t<tr><td>2022-09-21 14:00:00</td><td> 3</td><td>5</td><td> 5</td><td>2</td><td>4</td><td>3</td><td>2</td><td>3</td><td>6</td><td>⋯</td><td>2</td><td>2</td><td> 6</td><td>5</td><td>3</td><td> 7</td><td>2</td><td>1</td><td>4</td><td>1</td></tr>\n",
              "\t<tr><td>2022-09-21 20:00:00</td><td> 6</td><td>4</td><td> 1</td><td>2</td><td>5</td><td>5</td><td>3</td><td>3</td><td>3</td><td>⋯</td><td>2</td><td>3</td><td> 3</td><td>5</td><td>3</td><td> 8</td><td>3</td><td>1</td><td>4</td><td>0</td></tr>\n",
              "\t<tr><td>2022-09-22 08:00:00</td><td> 5</td><td>4</td><td> 1</td><td>3</td><td>7</td><td>4</td><td>3</td><td>3</td><td>1</td><td>⋯</td><td>4</td><td>3</td><td> 4</td><td>5</td><td>3</td><td> 9</td><td>2</td><td>5</td><td>4</td><td>2</td></tr>\n",
              "\t<tr><td>2022-09-22 14:00:00</td><td> 2</td><td>5</td><td> 3</td><td>2</td><td>6</td><td>2</td><td>3</td><td>3</td><td>7</td><td>⋯</td><td>3</td><td>3</td><td> 4</td><td>5</td><td>3</td><td> 8</td><td>2</td><td>5</td><td>4</td><td>2</td></tr>\n",
              "\t<tr><td>2022-09-22 20:00:00</td><td> 8</td><td>7</td><td> 2</td><td>1</td><td>7</td><td>4</td><td>3</td><td>3</td><td>1</td><td>⋯</td><td>4</td><td>4</td><td> 3</td><td>5</td><td>3</td><td> 9</td><td>3</td><td>1</td><td>4</td><td>1</td></tr>\n",
              "\t<tr><td>2022-09-23 08:00:00</td><td> 8</td><td>5</td><td> 1</td><td>4</td><td>5</td><td>4</td><td>3</td><td>3</td><td>1</td><td>⋯</td><td>5</td><td>3</td><td> 3</td><td>5</td><td>3</td><td> 9</td><td>4</td><td>1</td><td>4</td><td>2</td></tr>\n",
              "\t<tr><td>2022-09-23 14:00:00</td><td> 6</td><td>5</td><td> 3</td><td>3</td><td>4</td><td>2</td><td>2</td><td>3</td><td>7</td><td>⋯</td><td>2</td><td>3</td><td> 3</td><td>5</td><td>3</td><td> 9</td><td>4</td><td>2</td><td>4</td><td>1</td></tr>\n",
              "\t<tr><td>2022-09-23 20:00:00</td><td>11</td><td>3</td><td> 6</td><td>1</td><td>4</td><td>4</td><td>3</td><td>3</td><td>1</td><td>⋯</td><td>3</td><td>4</td><td> 3</td><td>5</td><td>3</td><td> 9</td><td>4</td><td>1</td><td>4</td><td>0</td></tr>\n",
              "\t<tr><td>2022-09-26 08:00:00</td><td> 5</td><td>4</td><td> 3</td><td>4</td><td>7</td><td>6</td><td>4</td><td>3</td><td>5</td><td>⋯</td><td>3</td><td>3</td><td> 5</td><td>5</td><td>3</td><td>12</td><td>0</td><td>5</td><td>4</td><td>2</td></tr>\n",
              "\t<tr><td>2022-09-26 14:00:00</td><td> 5</td><td>5</td><td> 4</td><td>3</td><td>8</td><td>4</td><td>4</td><td>3</td><td>8</td><td>⋯</td><td>1</td><td>2</td><td> 5</td><td>5</td><td>3</td><td>11</td><td>1</td><td>5</td><td>4</td><td>2</td></tr>\n",
              "\t<tr><td>2022-09-26 20:00:00</td><td>10</td><td>3</td><td> 1</td><td>3</td><td>7</td><td>5</td><td>5</td><td>3</td><td>0</td><td>⋯</td><td>2</td><td>3</td><td> 2</td><td>5</td><td>3</td><td>12</td><td>1</td><td>4</td><td>4</td><td>1</td></tr>\n",
              "\t<tr><td>2022-09-27 08:00:00</td><td> 6</td><td>5</td><td> 2</td><td>5</td><td>5</td><td>6</td><td>2</td><td>3</td><td>3</td><td>⋯</td><td>4</td><td>2</td><td> 5</td><td>5</td><td>3</td><td> 7</td><td>2</td><td>5</td><td>4</td><td>2</td></tr>\n",
              "\t<tr><td>2022-09-27 14:00:00</td><td> 3</td><td>5</td><td> 3</td><td>4</td><td>6</td><td>4</td><td>2</td><td>3</td><td>6</td><td>⋯</td><td>3</td><td>3</td><td> 5</td><td>5</td><td>3</td><td> 7</td><td>2</td><td>5</td><td>4</td><td>1</td></tr>\n",
              "\t<tr><td>2022-09-27 20:00:00</td><td>10</td><td>3</td><td> 4</td><td>2</td><td>5</td><td>5</td><td>3</td><td>3</td><td>6</td><td>⋯</td><td>4</td><td>2</td><td> 1</td><td>5</td><td>3</td><td> 8</td><td>3</td><td>6</td><td>4</td><td>0</td></tr>\n",
              "\t<tr><td>2022-09-28 08:00:00</td><td> 4</td><td>4</td><td> 2</td><td>3</td><td>5</td><td>5</td><td>2</td><td>3</td><td>3</td><td>⋯</td><td>5</td><td>2</td><td> 6</td><td>5</td><td>3</td><td> 8</td><td>1</td><td>6</td><td>4</td><td>2</td></tr>\n",
              "\t<tr><td>2022-09-28 14:00:00</td><td> 4</td><td>5</td><td> 5</td><td>2</td><td>6</td><td>3</td><td>1</td><td>3</td><td>6</td><td>⋯</td><td>2</td><td>2</td><td> 6</td><td>5</td><td>3</td><td> 7</td><td>1</td><td>5</td><td>4</td><td>1</td></tr>\n",
              "\t<tr><td>2022-09-28 20:00:00</td><td> 8</td><td>4</td><td> 1</td><td>2</td><td>5</td><td>4</td><td>3</td><td>3</td><td>3</td><td>⋯</td><td>3</td><td>2</td><td> 3</td><td>5</td><td>3</td><td> 8</td><td>2</td><td>4</td><td>4</td><td>0</td></tr>\n",
              "\t<tr><td>2022-09-29 08:00:00</td><td> 5</td><td>4</td><td> 1</td><td>2</td><td>7</td><td>4</td><td>2</td><td>3</td><td>1</td><td>⋯</td><td>4</td><td>3</td><td> 2</td><td>5</td><td>3</td><td>10</td><td>2</td><td>4</td><td>4</td><td>2</td></tr>\n",
              "\t<tr><td>2022-09-29 14:00:00</td><td> 2</td><td>5</td><td> 4</td><td>2</td><td>8</td><td>2</td><td>2</td><td>3</td><td>7</td><td>⋯</td><td>3</td><td>3</td><td> 2</td><td>5</td><td>3</td><td> 9</td><td>2</td><td>4</td><td>4</td><td>2</td></tr>\n",
              "\t<tr><td>2022-09-29 20:00:00</td><td>10</td><td>7</td><td> 2</td><td>1</td><td>7</td><td>4</td><td>3</td><td>3</td><td>1</td><td>⋯</td><td>4</td><td>5</td><td> 3</td><td>5</td><td>3</td><td>10</td><td>2</td><td>6</td><td>4</td><td>1</td></tr>\n",
              "\t<tr><td>2022-09-30 08:00:00</td><td> 8</td><td>5</td><td> 1</td><td>4</td><td>5</td><td>4</td><td>2</td><td>3</td><td>1</td><td>⋯</td><td>4</td><td>3</td><td> 3</td><td>5</td><td>3</td><td>10</td><td>2</td><td>5</td><td>4</td><td>2</td></tr>\n",
              "\t<tr><td>2022-09-30 14:00:00</td><td> 7</td><td>5</td><td> 3</td><td>3</td><td>5</td><td>2</td><td>2</td><td>3</td><td>7</td><td>⋯</td><td>2</td><td>3</td><td> 3</td><td>5</td><td>3</td><td> 9</td><td>2</td><td>7</td><td>4</td><td>1</td></tr>\n",
              "\t<tr><td>2022-09-30 20:00:00</td><td>13</td><td>3</td><td> 5</td><td>1</td><td>5</td><td>4</td><td>3</td><td>3</td><td>1</td><td>⋯</td><td>2</td><td>4</td><td> 2</td><td>5</td><td>3</td><td>10</td><td>3</td><td>6</td><td>4</td><td>0</td></tr>\n",
              "</tbody>\n",
              "</table>\n"
            ],
            "text/markdown": "\nA data.frame: 60 × 21\n\n| dias &lt;dttm&gt; | predict &lt;dbl&gt; | predict.1 &lt;dbl&gt; | predict.2 &lt;dbl&gt; | predict.3 &lt;dbl&gt; | predict.4 &lt;dbl&gt; | predict.5 &lt;dbl&gt; | predict.6 &lt;dbl&gt; | predict.7 &lt;dbl&gt; | predict.8 &lt;dbl&gt; | ⋯ ⋯ | predict.10 &lt;dbl&gt; | predict.11 &lt;dbl&gt; | predict.12 &lt;dbl&gt; | predict.13 &lt;dbl&gt; | predict.14 &lt;dbl&gt; | predict.15 &lt;dbl&gt; | predict.16 &lt;dbl&gt; | predict.17 &lt;dbl&gt; | predict.18 &lt;dbl&gt; | predict.19 &lt;dbl&gt; |\n|---|---|---|---|---|---|---|---|---|---|---|---|---|---|---|---|---|---|---|---|---|\n| 2022-09-05 08:00:00 |  3 | 4 |  0 | 3 | 7 | 5 | 6 | 3 | 5 | ⋯ | 4 | 2 |  5 | 5 | 4 |  8 | 1 | 1 | 4 | 2 |\n| 2022-09-05 14:00:00 |  3 | 5 |  5 | 3 | 7 | 3 | 7 | 3 | 9 | ⋯ | 2 | 2 |  5 | 5 | 4 | 10 | 1 | 1 | 4 | 2 |\n| 2022-09-05 20:00:00 |  3 | 3 |  0 | 3 | 7 | 5 | 7 | 3 | 1 | ⋯ | 2 | 2 |  2 | 5 | 4 |  8 | 1 | 1 | 4 | 1 |\n| 2022-09-06 08:00:00 |  4 | 4 | -2 | 3 | 5 | 5 | 4 | 3 | 0 | ⋯ | 4 | 2 |  5 | 5 | 4 |  9 | 2 | 0 | 4 | 2 |\n| 2022-09-06 14:00:00 |  1 | 5 |  3 | 4 | 5 | 3 | 5 | 3 | 3 | ⋯ | 3 | 2 |  6 | 5 | 4 | 10 | 2 | 0 | 4 | 2 |\n| 2022-09-06 20:00:00 |  4 | 3 |  3 | 2 | 5 | 5 | 5 | 3 | 3 | ⋯ | 4 | 3 | -1 | 5 | 4 | 11 | 3 | 0 | 4 | 1 |\n| 2022-09-07 08:00:00 |  4 | 4 |  1 | 2 | 5 | 5 | 3 | 3 | 0 | ⋯ | 6 | 2 |  6 | 5 | 4 |  8 | 1 | 1 | 4 | 2 |\n| 2022-09-07 14:00:00 |  3 | 5 |  6 | 2 | 5 | 3 | 4 | 3 | 3 | ⋯ | 2 | 2 |  6 | 5 | 4 |  9 | 1 | 1 | 4 | 2 |\n| 2022-09-07 20:00:00 |  3 | 4 |  1 | 2 | 6 | 4 | 5 | 3 | 0 | ⋯ | 2 | 3 |  3 | 5 | 4 |  9 | 2 | 1 | 4 | 1 |\n| 2022-09-08 08:00:00 |  4 | 4 | -2 | 2 | 7 | 4 | 3 | 3 | 2 | ⋯ | 4 | 3 |  3 | 5 | 4 |  8 | 2 | 5 | 4 | 2 |\n| 2022-09-08 14:00:00 |  2 | 5 |  4 | 1 | 6 | 2 | 4 | 3 | 7 | ⋯ | 2 | 3 |  4 | 5 | 4 |  7 | 2 | 5 | 4 | 2 |\n| 2022-09-08 20:00:00 |  4 | 7 |  2 | 1 | 7 | 4 | 4 | 3 | 2 | ⋯ | 2 | 4 |  3 | 5 | 4 |  9 | 2 | 1 | 4 | 1 |\n| 2022-09-09 08:00:00 |  6 | 4 |  1 | 4 | 5 | 4 | 3 | 3 | 1 | ⋯ | 5 | 3 |  3 | 5 | 4 |  9 | 3 | 1 | 4 | 1 |\n| 2022-09-09 14:00:00 |  5 | 5 |  4 | 5 | 4 | 2 | 3 | 3 | 7 | ⋯ | 2 | 3 |  3 | 5 | 4 |  9 | 3 | 1 | 4 | 2 |\n| 2022-09-09 20:00:00 |  6 | 3 |  4 | 3 | 5 | 4 | 4 | 3 | 2 | ⋯ | 2 | 4 |  2 | 5 | 4 |  9 | 3 | 1 | 4 | 2 |\n| 2022-09-12 08:00:00 |  2 | 4 |  1 | 3 | 7 | 6 | 6 | 3 | 5 | ⋯ | 4 | 2 |  5 | 5 | 3 |  9 | 1 | 5 | 4 | 2 |\n| 2022-09-12 14:00:00 |  2 | 5 |  5 | 3 | 8 | 4 | 7 | 3 | 8 | ⋯ | 1 | 2 |  5 | 5 | 3 |  7 | 1 | 5 | 4 | 2 |\n| 2022-09-12 20:00:00 |  5 | 3 |  0 | 3 | 7 | 5 | 7 | 3 | 0 | ⋯ | 2 | 2 |  2 | 5 | 3 |  9 | 1 | 4 | 4 | 1 |\n| 2022-09-13 08:00:00 |  2 | 5 | -1 | 3 | 5 | 6 | 4 | 3 | 3 | ⋯ | 5 | 2 |  5 | 5 | 3 |  8 | 2 | 5 | 4 | 2 |\n| 2022-09-13 14:00:00 | -2 | 5 |  2 | 4 | 6 | 4 | 5 | 3 | 6 | ⋯ | 3 | 2 |  6 | 5 | 3 |  8 | 2 | 5 | 4 | 2 |\n| 2022-09-13 20:00:00 |  4 | 3 |  3 | 3 | 5 | 5 | 5 | 3 | 6 | ⋯ | 4 | 2 |  2 | 5 | 3 | 10 | 3 | 5 | 4 | 1 |\n| 2022-09-14 08:00:00 |  1 | 4 |  2 | 2 | 5 | 5 | 3 | 3 | 3 | ⋯ | 5 | 2 |  6 | 5 | 3 |  8 | 2 | 6 | 4 | 2 |\n| 2022-09-14 14:00:00 |  0 | 5 |  6 | 3 | 6 | 3 | 3 | 3 | 6 | ⋯ | 2 | 3 |  6 | 5 | 3 |  7 | 2 | 5 | 4 | 2 |\n| 2022-09-14 20:00:00 |  3 | 4 |  0 | 2 | 5 | 4 | 4 | 3 | 3 | ⋯ | 2 | 2 |  3 | 5 | 3 |  8 | 3 | 4 | 4 | 0 |\n| 2022-09-15 08:00:00 |  2 | 4 | -1 | 2 | 7 | 4 | 3 | 3 | 1 | ⋯ | 5 | 3 |  2 | 5 | 3 |  9 | 2 | 3 | 4 | 2 |\n| 2022-09-15 14:00:00 | -1 | 5 |  3 | 2 | 8 | 2 | 4 | 3 | 7 | ⋯ | 3 | 3 |  3 | 5 | 3 |  9 | 2 | 3 | 4 | 3 |\n| 2022-09-15 20:00:00 |  6 | 7 |  1 | 2 | 7 | 4 | 4 | 3 | 1 | ⋯ | 4 | 5 |  3 | 5 | 3 | 10 | 3 | 5 | 4 | 2 |\n| 2022-09-16 08:00:00 |  5 | 5 |  0 | 4 | 5 | 4 | 1 | 3 | 1 | ⋯ | 6 | 3 |  3 | 5 | 3 | 10 | 3 | 5 | 4 | 2 |\n| 2022-09-16 14:00:00 |  3 | 5 |  3 | 4 | 5 | 2 | 2 | 3 | 7 | ⋯ | 2 | 3 |  3 | 5 | 3 |  9 | 3 | 7 | 4 | 2 |\n| 2022-09-16 20:00:00 |  9 | 3 |  4 | 2 | 5 | 4 | 2 | 3 | 1 | ⋯ | 3 | 4 |  2 | 5 | 3 | 10 | 4 | 6 | 4 | 1 |\n| 2022-09-19 08:00:00 |  5 | 4 |  2 | 4 | 6 | 6 | 5 | 3 | 5 | ⋯ | 3 | 2 |  6 | 5 | 3 | 12 | 1 | 1 | 4 | 2 |\n| 2022-09-19 14:00:00 |  5 | 5 |  4 | 3 | 6 | 4 | 4 | 3 | 8 | ⋯ | 1 | 2 |  6 | 5 | 3 | 10 | 1 | 1 | 4 | 2 |\n| 2022-09-19 20:00:00 |  8 | 3 |  1 | 3 | 6 | 5 | 5 | 3 | 0 | ⋯ | 2 | 3 |  3 | 5 | 3 | 12 | 2 | 1 | 4 | 1 |\n| 2022-09-20 08:00:00 |  7 | 5 |  1 | 5 | 5 | 6 | 3 | 3 | 3 | ⋯ | 4 | 2 |  6 | 5 | 3 |  8 | 3 | 0 | 4 | 2 |\n| 2022-09-20 14:00:00 |  3 | 5 |  2 | 4 | 5 | 4 | 3 | 3 | 6 | ⋯ | 3 | 2 |  6 | 5 | 3 |  7 | 3 | 0 | 4 | 1 |\n| 2022-09-20 20:00:00 |  8 | 3 |  4 | 2 | 5 | 5 | 3 | 3 | 6 | ⋯ | 4 | 3 | -1 | 5 | 3 |  9 | 3 | 0 | 4 | 0 |\n| 2022-09-21 08:00:00 |  4 | 4 |  2 | 3 | 5 | 5 | 3 | 3 | 3 | ⋯ | 5 | 2 |  6 | 5 | 3 |  7 | 3 | 1 | 4 | 2 |\n| 2022-09-21 14:00:00 |  3 | 5 |  5 | 2 | 4 | 3 | 2 | 3 | 6 | ⋯ | 2 | 2 |  6 | 5 | 3 |  7 | 2 | 1 | 4 | 1 |\n| 2022-09-21 20:00:00 |  6 | 4 |  1 | 2 | 5 | 5 | 3 | 3 | 3 | ⋯ | 2 | 3 |  3 | 5 | 3 |  8 | 3 | 1 | 4 | 0 |\n| 2022-09-22 08:00:00 |  5 | 4 |  1 | 3 | 7 | 4 | 3 | 3 | 1 | ⋯ | 4 | 3 |  4 | 5 | 3 |  9 | 2 | 5 | 4 | 2 |\n| 2022-09-22 14:00:00 |  2 | 5 |  3 | 2 | 6 | 2 | 3 | 3 | 7 | ⋯ | 3 | 3 |  4 | 5 | 3 |  8 | 2 | 5 | 4 | 2 |\n| 2022-09-22 20:00:00 |  8 | 7 |  2 | 1 | 7 | 4 | 3 | 3 | 1 | ⋯ | 4 | 4 |  3 | 5 | 3 |  9 | 3 | 1 | 4 | 1 |\n| 2022-09-23 08:00:00 |  8 | 5 |  1 | 4 | 5 | 4 | 3 | 3 | 1 | ⋯ | 5 | 3 |  3 | 5 | 3 |  9 | 4 | 1 | 4 | 2 |\n| 2022-09-23 14:00:00 |  6 | 5 |  3 | 3 | 4 | 2 | 2 | 3 | 7 | ⋯ | 2 | 3 |  3 | 5 | 3 |  9 | 4 | 2 | 4 | 1 |\n| 2022-09-23 20:00:00 | 11 | 3 |  6 | 1 | 4 | 4 | 3 | 3 | 1 | ⋯ | 3 | 4 |  3 | 5 | 3 |  9 | 4 | 1 | 4 | 0 |\n| 2022-09-26 08:00:00 |  5 | 4 |  3 | 4 | 7 | 6 | 4 | 3 | 5 | ⋯ | 3 | 3 |  5 | 5 | 3 | 12 | 0 | 5 | 4 | 2 |\n| 2022-09-26 14:00:00 |  5 | 5 |  4 | 3 | 8 | 4 | 4 | 3 | 8 | ⋯ | 1 | 2 |  5 | 5 | 3 | 11 | 1 | 5 | 4 | 2 |\n| 2022-09-26 20:00:00 | 10 | 3 |  1 | 3 | 7 | 5 | 5 | 3 | 0 | ⋯ | 2 | 3 |  2 | 5 | 3 | 12 | 1 | 4 | 4 | 1 |\n| 2022-09-27 08:00:00 |  6 | 5 |  2 | 5 | 5 | 6 | 2 | 3 | 3 | ⋯ | 4 | 2 |  5 | 5 | 3 |  7 | 2 | 5 | 4 | 2 |\n| 2022-09-27 14:00:00 |  3 | 5 |  3 | 4 | 6 | 4 | 2 | 3 | 6 | ⋯ | 3 | 3 |  5 | 5 | 3 |  7 | 2 | 5 | 4 | 1 |\n| 2022-09-27 20:00:00 | 10 | 3 |  4 | 2 | 5 | 5 | 3 | 3 | 6 | ⋯ | 4 | 2 |  1 | 5 | 3 |  8 | 3 | 6 | 4 | 0 |\n| 2022-09-28 08:00:00 |  4 | 4 |  2 | 3 | 5 | 5 | 2 | 3 | 3 | ⋯ | 5 | 2 |  6 | 5 | 3 |  8 | 1 | 6 | 4 | 2 |\n| 2022-09-28 14:00:00 |  4 | 5 |  5 | 2 | 6 | 3 | 1 | 3 | 6 | ⋯ | 2 | 2 |  6 | 5 | 3 |  7 | 1 | 5 | 4 | 1 |\n| 2022-09-28 20:00:00 |  8 | 4 |  1 | 2 | 5 | 4 | 3 | 3 | 3 | ⋯ | 3 | 2 |  3 | 5 | 3 |  8 | 2 | 4 | 4 | 0 |\n| 2022-09-29 08:00:00 |  5 | 4 |  1 | 2 | 7 | 4 | 2 | 3 | 1 | ⋯ | 4 | 3 |  2 | 5 | 3 | 10 | 2 | 4 | 4 | 2 |\n| 2022-09-29 14:00:00 |  2 | 5 |  4 | 2 | 8 | 2 | 2 | 3 | 7 | ⋯ | 3 | 3 |  2 | 5 | 3 |  9 | 2 | 4 | 4 | 2 |\n| 2022-09-29 20:00:00 | 10 | 7 |  2 | 1 | 7 | 4 | 3 | 3 | 1 | ⋯ | 4 | 5 |  3 | 5 | 3 | 10 | 2 | 6 | 4 | 1 |\n| 2022-09-30 08:00:00 |  8 | 5 |  1 | 4 | 5 | 4 | 2 | 3 | 1 | ⋯ | 4 | 3 |  3 | 5 | 3 | 10 | 2 | 5 | 4 | 2 |\n| 2022-09-30 14:00:00 |  7 | 5 |  3 | 3 | 5 | 2 | 2 | 3 | 7 | ⋯ | 2 | 3 |  3 | 5 | 3 |  9 | 2 | 7 | 4 | 1 |\n| 2022-09-30 20:00:00 | 13 | 3 |  5 | 1 | 5 | 4 | 3 | 3 | 1 | ⋯ | 2 | 4 |  2 | 5 | 3 | 10 | 3 | 6 | 4 | 0 |\n\n",
            "text/latex": "A data.frame: 60 × 21\n\\begin{tabular}{lllllllllllllllllllll}\n dias & predict & predict.1 & predict.2 & predict.3 & predict.4 & predict.5 & predict.6 & predict.7 & predict.8 & ⋯ & predict.10 & predict.11 & predict.12 & predict.13 & predict.14 & predict.15 & predict.16 & predict.17 & predict.18 & predict.19\\\\\n <dttm> & <dbl> & <dbl> & <dbl> & <dbl> & <dbl> & <dbl> & <dbl> & <dbl> & <dbl> & ⋯ & <dbl> & <dbl> & <dbl> & <dbl> & <dbl> & <dbl> & <dbl> & <dbl> & <dbl> & <dbl>\\\\\n\\hline\n\t 2022-09-05 08:00:00 &  3 & 4 &  0 & 3 & 7 & 5 & 6 & 3 & 5 & ⋯ & 4 & 2 &  5 & 5 & 4 &  8 & 1 & 1 & 4 & 2\\\\\n\t 2022-09-05 14:00:00 &  3 & 5 &  5 & 3 & 7 & 3 & 7 & 3 & 9 & ⋯ & 2 & 2 &  5 & 5 & 4 & 10 & 1 & 1 & 4 & 2\\\\\n\t 2022-09-05 20:00:00 &  3 & 3 &  0 & 3 & 7 & 5 & 7 & 3 & 1 & ⋯ & 2 & 2 &  2 & 5 & 4 &  8 & 1 & 1 & 4 & 1\\\\\n\t 2022-09-06 08:00:00 &  4 & 4 & -2 & 3 & 5 & 5 & 4 & 3 & 0 & ⋯ & 4 & 2 &  5 & 5 & 4 &  9 & 2 & 0 & 4 & 2\\\\\n\t 2022-09-06 14:00:00 &  1 & 5 &  3 & 4 & 5 & 3 & 5 & 3 & 3 & ⋯ & 3 & 2 &  6 & 5 & 4 & 10 & 2 & 0 & 4 & 2\\\\\n\t 2022-09-06 20:00:00 &  4 & 3 &  3 & 2 & 5 & 5 & 5 & 3 & 3 & ⋯ & 4 & 3 & -1 & 5 & 4 & 11 & 3 & 0 & 4 & 1\\\\\n\t 2022-09-07 08:00:00 &  4 & 4 &  1 & 2 & 5 & 5 & 3 & 3 & 0 & ⋯ & 6 & 2 &  6 & 5 & 4 &  8 & 1 & 1 & 4 & 2\\\\\n\t 2022-09-07 14:00:00 &  3 & 5 &  6 & 2 & 5 & 3 & 4 & 3 & 3 & ⋯ & 2 & 2 &  6 & 5 & 4 &  9 & 1 & 1 & 4 & 2\\\\\n\t 2022-09-07 20:00:00 &  3 & 4 &  1 & 2 & 6 & 4 & 5 & 3 & 0 & ⋯ & 2 & 3 &  3 & 5 & 4 &  9 & 2 & 1 & 4 & 1\\\\\n\t 2022-09-08 08:00:00 &  4 & 4 & -2 & 2 & 7 & 4 & 3 & 3 & 2 & ⋯ & 4 & 3 &  3 & 5 & 4 &  8 & 2 & 5 & 4 & 2\\\\\n\t 2022-09-08 14:00:00 &  2 & 5 &  4 & 1 & 6 & 2 & 4 & 3 & 7 & ⋯ & 2 & 3 &  4 & 5 & 4 &  7 & 2 & 5 & 4 & 2\\\\\n\t 2022-09-08 20:00:00 &  4 & 7 &  2 & 1 & 7 & 4 & 4 & 3 & 2 & ⋯ & 2 & 4 &  3 & 5 & 4 &  9 & 2 & 1 & 4 & 1\\\\\n\t 2022-09-09 08:00:00 &  6 & 4 &  1 & 4 & 5 & 4 & 3 & 3 & 1 & ⋯ & 5 & 3 &  3 & 5 & 4 &  9 & 3 & 1 & 4 & 1\\\\\n\t 2022-09-09 14:00:00 &  5 & 5 &  4 & 5 & 4 & 2 & 3 & 3 & 7 & ⋯ & 2 & 3 &  3 & 5 & 4 &  9 & 3 & 1 & 4 & 2\\\\\n\t 2022-09-09 20:00:00 &  6 & 3 &  4 & 3 & 5 & 4 & 4 & 3 & 2 & ⋯ & 2 & 4 &  2 & 5 & 4 &  9 & 3 & 1 & 4 & 2\\\\\n\t 2022-09-12 08:00:00 &  2 & 4 &  1 & 3 & 7 & 6 & 6 & 3 & 5 & ⋯ & 4 & 2 &  5 & 5 & 3 &  9 & 1 & 5 & 4 & 2\\\\\n\t 2022-09-12 14:00:00 &  2 & 5 &  5 & 3 & 8 & 4 & 7 & 3 & 8 & ⋯ & 1 & 2 &  5 & 5 & 3 &  7 & 1 & 5 & 4 & 2\\\\\n\t 2022-09-12 20:00:00 &  5 & 3 &  0 & 3 & 7 & 5 & 7 & 3 & 0 & ⋯ & 2 & 2 &  2 & 5 & 3 &  9 & 1 & 4 & 4 & 1\\\\\n\t 2022-09-13 08:00:00 &  2 & 5 & -1 & 3 & 5 & 6 & 4 & 3 & 3 & ⋯ & 5 & 2 &  5 & 5 & 3 &  8 & 2 & 5 & 4 & 2\\\\\n\t 2022-09-13 14:00:00 & -2 & 5 &  2 & 4 & 6 & 4 & 5 & 3 & 6 & ⋯ & 3 & 2 &  6 & 5 & 3 &  8 & 2 & 5 & 4 & 2\\\\\n\t 2022-09-13 20:00:00 &  4 & 3 &  3 & 3 & 5 & 5 & 5 & 3 & 6 & ⋯ & 4 & 2 &  2 & 5 & 3 & 10 & 3 & 5 & 4 & 1\\\\\n\t 2022-09-14 08:00:00 &  1 & 4 &  2 & 2 & 5 & 5 & 3 & 3 & 3 & ⋯ & 5 & 2 &  6 & 5 & 3 &  8 & 2 & 6 & 4 & 2\\\\\n\t 2022-09-14 14:00:00 &  0 & 5 &  6 & 3 & 6 & 3 & 3 & 3 & 6 & ⋯ & 2 & 3 &  6 & 5 & 3 &  7 & 2 & 5 & 4 & 2\\\\\n\t 2022-09-14 20:00:00 &  3 & 4 &  0 & 2 & 5 & 4 & 4 & 3 & 3 & ⋯ & 2 & 2 &  3 & 5 & 3 &  8 & 3 & 4 & 4 & 0\\\\\n\t 2022-09-15 08:00:00 &  2 & 4 & -1 & 2 & 7 & 4 & 3 & 3 & 1 & ⋯ & 5 & 3 &  2 & 5 & 3 &  9 & 2 & 3 & 4 & 2\\\\\n\t 2022-09-15 14:00:00 & -1 & 5 &  3 & 2 & 8 & 2 & 4 & 3 & 7 & ⋯ & 3 & 3 &  3 & 5 & 3 &  9 & 2 & 3 & 4 & 3\\\\\n\t 2022-09-15 20:00:00 &  6 & 7 &  1 & 2 & 7 & 4 & 4 & 3 & 1 & ⋯ & 4 & 5 &  3 & 5 & 3 & 10 & 3 & 5 & 4 & 2\\\\\n\t 2022-09-16 08:00:00 &  5 & 5 &  0 & 4 & 5 & 4 & 1 & 3 & 1 & ⋯ & 6 & 3 &  3 & 5 & 3 & 10 & 3 & 5 & 4 & 2\\\\\n\t 2022-09-16 14:00:00 &  3 & 5 &  3 & 4 & 5 & 2 & 2 & 3 & 7 & ⋯ & 2 & 3 &  3 & 5 & 3 &  9 & 3 & 7 & 4 & 2\\\\\n\t 2022-09-16 20:00:00 &  9 & 3 &  4 & 2 & 5 & 4 & 2 & 3 & 1 & ⋯ & 3 & 4 &  2 & 5 & 3 & 10 & 4 & 6 & 4 & 1\\\\\n\t 2022-09-19 08:00:00 &  5 & 4 &  2 & 4 & 6 & 6 & 5 & 3 & 5 & ⋯ & 3 & 2 &  6 & 5 & 3 & 12 & 1 & 1 & 4 & 2\\\\\n\t 2022-09-19 14:00:00 &  5 & 5 &  4 & 3 & 6 & 4 & 4 & 3 & 8 & ⋯ & 1 & 2 &  6 & 5 & 3 & 10 & 1 & 1 & 4 & 2\\\\\n\t 2022-09-19 20:00:00 &  8 & 3 &  1 & 3 & 6 & 5 & 5 & 3 & 0 & ⋯ & 2 & 3 &  3 & 5 & 3 & 12 & 2 & 1 & 4 & 1\\\\\n\t 2022-09-20 08:00:00 &  7 & 5 &  1 & 5 & 5 & 6 & 3 & 3 & 3 & ⋯ & 4 & 2 &  6 & 5 & 3 &  8 & 3 & 0 & 4 & 2\\\\\n\t 2022-09-20 14:00:00 &  3 & 5 &  2 & 4 & 5 & 4 & 3 & 3 & 6 & ⋯ & 3 & 2 &  6 & 5 & 3 &  7 & 3 & 0 & 4 & 1\\\\\n\t 2022-09-20 20:00:00 &  8 & 3 &  4 & 2 & 5 & 5 & 3 & 3 & 6 & ⋯ & 4 & 3 & -1 & 5 & 3 &  9 & 3 & 0 & 4 & 0\\\\\n\t 2022-09-21 08:00:00 &  4 & 4 &  2 & 3 & 5 & 5 & 3 & 3 & 3 & ⋯ & 5 & 2 &  6 & 5 & 3 &  7 & 3 & 1 & 4 & 2\\\\\n\t 2022-09-21 14:00:00 &  3 & 5 &  5 & 2 & 4 & 3 & 2 & 3 & 6 & ⋯ & 2 & 2 &  6 & 5 & 3 &  7 & 2 & 1 & 4 & 1\\\\\n\t 2022-09-21 20:00:00 &  6 & 4 &  1 & 2 & 5 & 5 & 3 & 3 & 3 & ⋯ & 2 & 3 &  3 & 5 & 3 &  8 & 3 & 1 & 4 & 0\\\\\n\t 2022-09-22 08:00:00 &  5 & 4 &  1 & 3 & 7 & 4 & 3 & 3 & 1 & ⋯ & 4 & 3 &  4 & 5 & 3 &  9 & 2 & 5 & 4 & 2\\\\\n\t 2022-09-22 14:00:00 &  2 & 5 &  3 & 2 & 6 & 2 & 3 & 3 & 7 & ⋯ & 3 & 3 &  4 & 5 & 3 &  8 & 2 & 5 & 4 & 2\\\\\n\t 2022-09-22 20:00:00 &  8 & 7 &  2 & 1 & 7 & 4 & 3 & 3 & 1 & ⋯ & 4 & 4 &  3 & 5 & 3 &  9 & 3 & 1 & 4 & 1\\\\\n\t 2022-09-23 08:00:00 &  8 & 5 &  1 & 4 & 5 & 4 & 3 & 3 & 1 & ⋯ & 5 & 3 &  3 & 5 & 3 &  9 & 4 & 1 & 4 & 2\\\\\n\t 2022-09-23 14:00:00 &  6 & 5 &  3 & 3 & 4 & 2 & 2 & 3 & 7 & ⋯ & 2 & 3 &  3 & 5 & 3 &  9 & 4 & 2 & 4 & 1\\\\\n\t 2022-09-23 20:00:00 & 11 & 3 &  6 & 1 & 4 & 4 & 3 & 3 & 1 & ⋯ & 3 & 4 &  3 & 5 & 3 &  9 & 4 & 1 & 4 & 0\\\\\n\t 2022-09-26 08:00:00 &  5 & 4 &  3 & 4 & 7 & 6 & 4 & 3 & 5 & ⋯ & 3 & 3 &  5 & 5 & 3 & 12 & 0 & 5 & 4 & 2\\\\\n\t 2022-09-26 14:00:00 &  5 & 5 &  4 & 3 & 8 & 4 & 4 & 3 & 8 & ⋯ & 1 & 2 &  5 & 5 & 3 & 11 & 1 & 5 & 4 & 2\\\\\n\t 2022-09-26 20:00:00 & 10 & 3 &  1 & 3 & 7 & 5 & 5 & 3 & 0 & ⋯ & 2 & 3 &  2 & 5 & 3 & 12 & 1 & 4 & 4 & 1\\\\\n\t 2022-09-27 08:00:00 &  6 & 5 &  2 & 5 & 5 & 6 & 2 & 3 & 3 & ⋯ & 4 & 2 &  5 & 5 & 3 &  7 & 2 & 5 & 4 & 2\\\\\n\t 2022-09-27 14:00:00 &  3 & 5 &  3 & 4 & 6 & 4 & 2 & 3 & 6 & ⋯ & 3 & 3 &  5 & 5 & 3 &  7 & 2 & 5 & 4 & 1\\\\\n\t 2022-09-27 20:00:00 & 10 & 3 &  4 & 2 & 5 & 5 & 3 & 3 & 6 & ⋯ & 4 & 2 &  1 & 5 & 3 &  8 & 3 & 6 & 4 & 0\\\\\n\t 2022-09-28 08:00:00 &  4 & 4 &  2 & 3 & 5 & 5 & 2 & 3 & 3 & ⋯ & 5 & 2 &  6 & 5 & 3 &  8 & 1 & 6 & 4 & 2\\\\\n\t 2022-09-28 14:00:00 &  4 & 5 &  5 & 2 & 6 & 3 & 1 & 3 & 6 & ⋯ & 2 & 2 &  6 & 5 & 3 &  7 & 1 & 5 & 4 & 1\\\\\n\t 2022-09-28 20:00:00 &  8 & 4 &  1 & 2 & 5 & 4 & 3 & 3 & 3 & ⋯ & 3 & 2 &  3 & 5 & 3 &  8 & 2 & 4 & 4 & 0\\\\\n\t 2022-09-29 08:00:00 &  5 & 4 &  1 & 2 & 7 & 4 & 2 & 3 & 1 & ⋯ & 4 & 3 &  2 & 5 & 3 & 10 & 2 & 4 & 4 & 2\\\\\n\t 2022-09-29 14:00:00 &  2 & 5 &  4 & 2 & 8 & 2 & 2 & 3 & 7 & ⋯ & 3 & 3 &  2 & 5 & 3 &  9 & 2 & 4 & 4 & 2\\\\\n\t 2022-09-29 20:00:00 & 10 & 7 &  2 & 1 & 7 & 4 & 3 & 3 & 1 & ⋯ & 4 & 5 &  3 & 5 & 3 & 10 & 2 & 6 & 4 & 1\\\\\n\t 2022-09-30 08:00:00 &  8 & 5 &  1 & 4 & 5 & 4 & 2 & 3 & 1 & ⋯ & 4 & 3 &  3 & 5 & 3 & 10 & 2 & 5 & 4 & 2\\\\\n\t 2022-09-30 14:00:00 &  7 & 5 &  3 & 3 & 5 & 2 & 2 & 3 & 7 & ⋯ & 2 & 3 &  3 & 5 & 3 &  9 & 2 & 7 & 4 & 1\\\\\n\t 2022-09-30 20:00:00 & 13 & 3 &  5 & 1 & 5 & 4 & 3 & 3 & 1 & ⋯ & 2 & 4 &  2 & 5 & 3 & 10 & 3 & 6 & 4 & 0\\\\\n\\end{tabular}\n",
            "text/plain": [
              "   dias                predict predict.1 predict.2 predict.3 predict.4\n",
              "1  2022-09-05 08:00:00  3      4          0        3         7        \n",
              "2  2022-09-05 14:00:00  3      5          5        3         7        \n",
              "3  2022-09-05 20:00:00  3      3          0        3         7        \n",
              "4  2022-09-06 08:00:00  4      4         -2        3         5        \n",
              "5  2022-09-06 14:00:00  1      5          3        4         5        \n",
              "6  2022-09-06 20:00:00  4      3          3        2         5        \n",
              "7  2022-09-07 08:00:00  4      4          1        2         5        \n",
              "8  2022-09-07 14:00:00  3      5          6        2         5        \n",
              "9  2022-09-07 20:00:00  3      4          1        2         6        \n",
              "10 2022-09-08 08:00:00  4      4         -2        2         7        \n",
              "11 2022-09-08 14:00:00  2      5          4        1         6        \n",
              "12 2022-09-08 20:00:00  4      7          2        1         7        \n",
              "13 2022-09-09 08:00:00  6      4          1        4         5        \n",
              "14 2022-09-09 14:00:00  5      5          4        5         4        \n",
              "15 2022-09-09 20:00:00  6      3          4        3         5        \n",
              "16 2022-09-12 08:00:00  2      4          1        3         7        \n",
              "17 2022-09-12 14:00:00  2      5          5        3         8        \n",
              "18 2022-09-12 20:00:00  5      3          0        3         7        \n",
              "19 2022-09-13 08:00:00  2      5         -1        3         5        \n",
              "20 2022-09-13 14:00:00 -2      5          2        4         6        \n",
              "21 2022-09-13 20:00:00  4      3          3        3         5        \n",
              "22 2022-09-14 08:00:00  1      4          2        2         5        \n",
              "23 2022-09-14 14:00:00  0      5          6        3         6        \n",
              "24 2022-09-14 20:00:00  3      4          0        2         5        \n",
              "25 2022-09-15 08:00:00  2      4         -1        2         7        \n",
              "26 2022-09-15 14:00:00 -1      5          3        2         8        \n",
              "27 2022-09-15 20:00:00  6      7          1        2         7        \n",
              "28 2022-09-16 08:00:00  5      5          0        4         5        \n",
              "29 2022-09-16 14:00:00  3      5          3        4         5        \n",
              "30 2022-09-16 20:00:00  9      3          4        2         5        \n",
              "31 2022-09-19 08:00:00  5      4          2        4         6        \n",
              "32 2022-09-19 14:00:00  5      5          4        3         6        \n",
              "33 2022-09-19 20:00:00  8      3          1        3         6        \n",
              "34 2022-09-20 08:00:00  7      5          1        5         5        \n",
              "35 2022-09-20 14:00:00  3      5          2        4         5        \n",
              "36 2022-09-20 20:00:00  8      3          4        2         5        \n",
              "37 2022-09-21 08:00:00  4      4          2        3         5        \n",
              "38 2022-09-21 14:00:00  3      5          5        2         4        \n",
              "39 2022-09-21 20:00:00  6      4          1        2         5        \n",
              "40 2022-09-22 08:00:00  5      4          1        3         7        \n",
              "41 2022-09-22 14:00:00  2      5          3        2         6        \n",
              "42 2022-09-22 20:00:00  8      7          2        1         7        \n",
              "43 2022-09-23 08:00:00  8      5          1        4         5        \n",
              "44 2022-09-23 14:00:00  6      5          3        3         4        \n",
              "45 2022-09-23 20:00:00 11      3          6        1         4        \n",
              "46 2022-09-26 08:00:00  5      4          3        4         7        \n",
              "47 2022-09-26 14:00:00  5      5          4        3         8        \n",
              "48 2022-09-26 20:00:00 10      3          1        3         7        \n",
              "49 2022-09-27 08:00:00  6      5          2        5         5        \n",
              "50 2022-09-27 14:00:00  3      5          3        4         6        \n",
              "51 2022-09-27 20:00:00 10      3          4        2         5        \n",
              "52 2022-09-28 08:00:00  4      4          2        3         5        \n",
              "53 2022-09-28 14:00:00  4      5          5        2         6        \n",
              "54 2022-09-28 20:00:00  8      4          1        2         5        \n",
              "55 2022-09-29 08:00:00  5      4          1        2         7        \n",
              "56 2022-09-29 14:00:00  2      5          4        2         8        \n",
              "57 2022-09-29 20:00:00 10      7          2        1         7        \n",
              "58 2022-09-30 08:00:00  8      5          1        4         5        \n",
              "59 2022-09-30 14:00:00  7      5          3        3         5        \n",
              "60 2022-09-30 20:00:00 13      3          5        1         5        \n",
              "   predict.5 predict.6 predict.7 predict.8 ⋯ predict.10 predict.11 predict.12\n",
              "1  5         6         3         5         ⋯ 4          2           5        \n",
              "2  3         7         3         9         ⋯ 2          2           5        \n",
              "3  5         7         3         1         ⋯ 2          2           2        \n",
              "4  5         4         3         0         ⋯ 4          2           5        \n",
              "5  3         5         3         3         ⋯ 3          2           6        \n",
              "6  5         5         3         3         ⋯ 4          3          -1        \n",
              "7  5         3         3         0         ⋯ 6          2           6        \n",
              "8  3         4         3         3         ⋯ 2          2           6        \n",
              "9  4         5         3         0         ⋯ 2          3           3        \n",
              "10 4         3         3         2         ⋯ 4          3           3        \n",
              "11 2         4         3         7         ⋯ 2          3           4        \n",
              "12 4         4         3         2         ⋯ 2          4           3        \n",
              "13 4         3         3         1         ⋯ 5          3           3        \n",
              "14 2         3         3         7         ⋯ 2          3           3        \n",
              "15 4         4         3         2         ⋯ 2          4           2        \n",
              "16 6         6         3         5         ⋯ 4          2           5        \n",
              "17 4         7         3         8         ⋯ 1          2           5        \n",
              "18 5         7         3         0         ⋯ 2          2           2        \n",
              "19 6         4         3         3         ⋯ 5          2           5        \n",
              "20 4         5         3         6         ⋯ 3          2           6        \n",
              "21 5         5         3         6         ⋯ 4          2           2        \n",
              "22 5         3         3         3         ⋯ 5          2           6        \n",
              "23 3         3         3         6         ⋯ 2          3           6        \n",
              "24 4         4         3         3         ⋯ 2          2           3        \n",
              "25 4         3         3         1         ⋯ 5          3           2        \n",
              "26 2         4         3         7         ⋯ 3          3           3        \n",
              "27 4         4         3         1         ⋯ 4          5           3        \n",
              "28 4         1         3         1         ⋯ 6          3           3        \n",
              "29 2         2         3         7         ⋯ 2          3           3        \n",
              "30 4         2         3         1         ⋯ 3          4           2        \n",
              "31 6         5         3         5         ⋯ 3          2           6        \n",
              "32 4         4         3         8         ⋯ 1          2           6        \n",
              "33 5         5         3         0         ⋯ 2          3           3        \n",
              "34 6         3         3         3         ⋯ 4          2           6        \n",
              "35 4         3         3         6         ⋯ 3          2           6        \n",
              "36 5         3         3         6         ⋯ 4          3          -1        \n",
              "37 5         3         3         3         ⋯ 5          2           6        \n",
              "38 3         2         3         6         ⋯ 2          2           6        \n",
              "39 5         3         3         3         ⋯ 2          3           3        \n",
              "40 4         3         3         1         ⋯ 4          3           4        \n",
              "41 2         3         3         7         ⋯ 3          3           4        \n",
              "42 4         3         3         1         ⋯ 4          4           3        \n",
              "43 4         3         3         1         ⋯ 5          3           3        \n",
              "44 2         2         3         7         ⋯ 2          3           3        \n",
              "45 4         3         3         1         ⋯ 3          4           3        \n",
              "46 6         4         3         5         ⋯ 3          3           5        \n",
              "47 4         4         3         8         ⋯ 1          2           5        \n",
              "48 5         5         3         0         ⋯ 2          3           2        \n",
              "49 6         2         3         3         ⋯ 4          2           5        \n",
              "50 4         2         3         6         ⋯ 3          3           5        \n",
              "51 5         3         3         6         ⋯ 4          2           1        \n",
              "52 5         2         3         3         ⋯ 5          2           6        \n",
              "53 3         1         3         6         ⋯ 2          2           6        \n",
              "54 4         3         3         3         ⋯ 3          2           3        \n",
              "55 4         2         3         1         ⋯ 4          3           2        \n",
              "56 2         2         3         7         ⋯ 3          3           2        \n",
              "57 4         3         3         1         ⋯ 4          5           3        \n",
              "58 4         2         3         1         ⋯ 4          3           3        \n",
              "59 2         2         3         7         ⋯ 2          3           3        \n",
              "60 4         3         3         1         ⋯ 2          4           2        \n",
              "   predict.13 predict.14 predict.15 predict.16 predict.17 predict.18 predict.19\n",
              "1  5          4           8         1          1          4          2         \n",
              "2  5          4          10         1          1          4          2         \n",
              "3  5          4           8         1          1          4          1         \n",
              "4  5          4           9         2          0          4          2         \n",
              "5  5          4          10         2          0          4          2         \n",
              "6  5          4          11         3          0          4          1         \n",
              "7  5          4           8         1          1          4          2         \n",
              "8  5          4           9         1          1          4          2         \n",
              "9  5          4           9         2          1          4          1         \n",
              "10 5          4           8         2          5          4          2         \n",
              "11 5          4           7         2          5          4          2         \n",
              "12 5          4           9         2          1          4          1         \n",
              "13 5          4           9         3          1          4          1         \n",
              "14 5          4           9         3          1          4          2         \n",
              "15 5          4           9         3          1          4          2         \n",
              "16 5          3           9         1          5          4          2         \n",
              "17 5          3           7         1          5          4          2         \n",
              "18 5          3           9         1          4          4          1         \n",
              "19 5          3           8         2          5          4          2         \n",
              "20 5          3           8         2          5          4          2         \n",
              "21 5          3          10         3          5          4          1         \n",
              "22 5          3           8         2          6          4          2         \n",
              "23 5          3           7         2          5          4          2         \n",
              "24 5          3           8         3          4          4          0         \n",
              "25 5          3           9         2          3          4          2         \n",
              "26 5          3           9         2          3          4          3         \n",
              "27 5          3          10         3          5          4          2         \n",
              "28 5          3          10         3          5          4          2         \n",
              "29 5          3           9         3          7          4          2         \n",
              "30 5          3          10         4          6          4          1         \n",
              "31 5          3          12         1          1          4          2         \n",
              "32 5          3          10         1          1          4          2         \n",
              "33 5          3          12         2          1          4          1         \n",
              "34 5          3           8         3          0          4          2         \n",
              "35 5          3           7         3          0          4          1         \n",
              "36 5          3           9         3          0          4          0         \n",
              "37 5          3           7         3          1          4          2         \n",
              "38 5          3           7         2          1          4          1         \n",
              "39 5          3           8         3          1          4          0         \n",
              "40 5          3           9         2          5          4          2         \n",
              "41 5          3           8         2          5          4          2         \n",
              "42 5          3           9         3          1          4          1         \n",
              "43 5          3           9         4          1          4          2         \n",
              "44 5          3           9         4          2          4          1         \n",
              "45 5          3           9         4          1          4          0         \n",
              "46 5          3          12         0          5          4          2         \n",
              "47 5          3          11         1          5          4          2         \n",
              "48 5          3          12         1          4          4          1         \n",
              "49 5          3           7         2          5          4          2         \n",
              "50 5          3           7         2          5          4          1         \n",
              "51 5          3           8         3          6          4          0         \n",
              "52 5          3           8         1          6          4          2         \n",
              "53 5          3           7         1          5          4          1         \n",
              "54 5          3           8         2          4          4          0         \n",
              "55 5          3          10         2          4          4          2         \n",
              "56 5          3           9         2          4          4          2         \n",
              "57 5          3          10         2          6          4          1         \n",
              "58 5          3          10         2          5          4          2         \n",
              "59 5          3           9         2          7          4          1         \n",
              "60 5          3          10         3          6          4          0         "
            ]
          },
          "metadata": {}
        }
      ]
    },
    {
      "cell_type": "code",
      "source": [
        "data_test_RN<-data.frame(mes_sig[1],predic_test_bike_rn_est3,predic_test_bike_rn_est6,predic_test_bike_rn_est10,predic_test_bike_rn_est13,predic_test_bike_rn_est19,predic_test_bike_rn_est23,predic_test_bike_rn_est25,predic_test_bike_rn_est26,predic_test_bike_rn_est27,predic_test_bike_rn_est28,predic_test_bike_rn_est32,predic_test_bike_rn_est33,predic_test_bike_rn_est36,predic_test_bike_rn_est46,predic_test_bike_rn_est47,predic_test_bike_rn_est53,predic_test_bike_rn_est57,predic_test_bike_rn_est58,predic_test_bike_rn_est59,predic_test_bike_rn_est60)\n",
        "data_test_RN"
      ],
      "metadata": {
        "id": "6toTKroUo4Fp",
        "colab": {
          "base_uri": "https://localhost:8080/",
          "height": 1000
        },
        "outputId": "e10a6efb-8bc1-44c7-8a5c-4827328019a0"
      },
      "execution_count": null,
      "outputs": [
        {
          "output_type": "display_data",
          "data": {
            "text/html": [
              "<table class=\"dataframe\">\n",
              "<caption>A data.frame: 60 × 21</caption>\n",
              "<thead>\n",
              "\t<tr><th scope=col>dias</th><th scope=col>predict</th><th scope=col>predict.1</th><th scope=col>predict.2</th><th scope=col>predict.3</th><th scope=col>predict.4</th><th scope=col>predict.5</th><th scope=col>predict.6</th><th scope=col>predict.7</th><th scope=col>predict.8</th><th scope=col>⋯</th><th scope=col>predict.10</th><th scope=col>predict.11</th><th scope=col>predict.12</th><th scope=col>predict.13</th><th scope=col>predict.14</th><th scope=col>predict.15</th><th scope=col>predict.16</th><th scope=col>predict.17</th><th scope=col>predict.18</th><th scope=col>predict.19</th></tr>\n",
              "\t<tr><th scope=col>&lt;dttm&gt;</th><th scope=col>&lt;dbl&gt;</th><th scope=col>&lt;dbl&gt;</th><th scope=col>&lt;dbl&gt;</th><th scope=col>&lt;dbl&gt;</th><th scope=col>&lt;dbl&gt;</th><th scope=col>&lt;dbl&gt;</th><th scope=col>&lt;dbl&gt;</th><th scope=col>&lt;dbl&gt;</th><th scope=col>&lt;dbl&gt;</th><th scope=col>⋯</th><th scope=col>&lt;dbl&gt;</th><th scope=col>&lt;dbl&gt;</th><th scope=col>&lt;dbl&gt;</th><th scope=col>&lt;dbl&gt;</th><th scope=col>&lt;dbl&gt;</th><th scope=col>&lt;dbl&gt;</th><th scope=col>&lt;dbl&gt;</th><th scope=col>&lt;dbl&gt;</th><th scope=col>&lt;dbl&gt;</th><th scope=col>&lt;dbl&gt;</th></tr>\n",
              "</thead>\n",
              "<tbody>\n",
              "\t<tr><td>2022-09-05 08:00:00</td><td> 3</td><td>5</td><td>4</td><td> 2</td><td>0</td><td> 5</td><td>3</td><td>2</td><td>5</td><td>⋯</td><td> 2</td><td>2</td><td> 3</td><td> 4</td><td>4</td><td>10</td><td>-3</td><td>-3</td><td>-3</td><td>-3</td></tr>\n",
              "\t<tr><td>2022-09-05 14:00:00</td><td>-1</td><td>4</td><td>6</td><td> 0</td><td>3</td><td> 1</td><td>3</td><td>2</td><td>5</td><td>⋯</td><td>-1</td><td>2</td><td> 4</td><td> 2</td><td>4</td><td>11</td><td>-1</td><td>-1</td><td>-1</td><td>-1</td></tr>\n",
              "\t<tr><td>2022-09-05 20:00:00</td><td> 4</td><td>4</td><td>6</td><td> 0</td><td>0</td><td> 6</td><td>4</td><td>2</td><td>4</td><td>⋯</td><td> 1</td><td>2</td><td> 3</td><td> 2</td><td>4</td><td>11</td><td>-2</td><td>-2</td><td>-2</td><td>-2</td></tr>\n",
              "\t<tr><td>2022-09-06 08:00:00</td><td> 4</td><td>4</td><td>3</td><td> 2</td><td>1</td><td> 5</td><td>2</td><td>2</td><td>5</td><td>⋯</td><td> 5</td><td>2</td><td> 3</td><td> 4</td><td>4</td><td> 8</td><td>-1</td><td>-1</td><td>-1</td><td>-1</td></tr>\n",
              "\t<tr><td>2022-09-06 14:00:00</td><td> 0</td><td>4</td><td>6</td><td> 0</td><td>2</td><td> 2</td><td>1</td><td>2</td><td>5</td><td>⋯</td><td> 1</td><td>3</td><td> 3</td><td> 3</td><td>4</td><td> 9</td><td> 0</td><td> 0</td><td> 0</td><td> 0</td></tr>\n",
              "\t<tr><td>2022-09-06 20:00:00</td><td> 5</td><td>4</td><td>6</td><td> 1</td><td>0</td><td> 6</td><td>3</td><td>2</td><td>4</td><td>⋯</td><td> 3</td><td>2</td><td> 2</td><td> 3</td><td>4</td><td> 9</td><td>-1</td><td>-1</td><td>-1</td><td>-1</td></tr>\n",
              "\t<tr><td>2022-09-07 08:00:00</td><td> 4</td><td>4</td><td>3</td><td> 2</td><td>2</td><td> 5</td><td>2</td><td>2</td><td>5</td><td>⋯</td><td> 4</td><td>2</td><td> 3</td><td> 4</td><td>4</td><td> 8</td><td> 0</td><td> 0</td><td> 0</td><td> 0</td></tr>\n",
              "\t<tr><td>2022-09-07 14:00:00</td><td> 0</td><td>4</td><td>6</td><td> 0</td><td>3</td><td> 2</td><td>2</td><td>2</td><td>5</td><td>⋯</td><td> 0</td><td>3</td><td> 3</td><td> 3</td><td>4</td><td> 9</td><td> 2</td><td> 2</td><td> 2</td><td> 2</td></tr>\n",
              "\t<tr><td>2022-09-07 20:00:00</td><td> 5</td><td>4</td><td>6</td><td> 1</td><td>3</td><td> 5</td><td>3</td><td>2</td><td>4</td><td>⋯</td><td> 2</td><td>2</td><td> 2</td><td> 3</td><td>4</td><td> 9</td><td> 1</td><td> 1</td><td> 1</td><td> 1</td></tr>\n",
              "\t<tr><td>2022-09-08 08:00:00</td><td> 4</td><td>3</td><td>3</td><td> 1</td><td>4</td><td> 4</td><td>2</td><td>2</td><td>4</td><td>⋯</td><td> 4</td><td>2</td><td> 1</td><td> 3</td><td>5</td><td> 7</td><td> 0</td><td> 0</td><td> 0</td><td> 0</td></tr>\n",
              "\t<tr><td>2022-09-08 14:00:00</td><td> 1</td><td>4</td><td>5</td><td>-1</td><td>4</td><td> 1</td><td>1</td><td>2</td><td>4</td><td>⋯</td><td> 1</td><td>2</td><td> 2</td><td> 2</td><td>4</td><td> 9</td><td> 2</td><td> 2</td><td> 2</td><td> 2</td></tr>\n",
              "\t<tr><td>2022-09-08 20:00:00</td><td> 5</td><td>3</td><td>5</td><td> 0</td><td>5</td><td> 4</td><td>3</td><td>2</td><td>3</td><td>⋯</td><td> 3</td><td>2</td><td> 1</td><td> 2</td><td>4</td><td> 8</td><td> 2</td><td> 2</td><td> 2</td><td> 2</td></tr>\n",
              "\t<tr><td>2022-09-09 08:00:00</td><td> 4</td><td>4</td><td>3</td><td> 1</td><td>3</td><td> 4</td><td>2</td><td>2</td><td>4</td><td>⋯</td><td> 4</td><td>2</td><td> 2</td><td> 4</td><td>5</td><td> 6</td><td> 1</td><td> 1</td><td> 1</td><td> 1</td></tr>\n",
              "\t<tr><td>2022-09-09 14:00:00</td><td> 1</td><td>4</td><td>5</td><td> 0</td><td>2</td><td> 1</td><td>1</td><td>2</td><td>4</td><td>⋯</td><td> 1</td><td>2</td><td> 2</td><td> 2</td><td>4</td><td> 8</td><td> 3</td><td> 3</td><td> 3</td><td> 3</td></tr>\n",
              "\t<tr><td>2022-09-09 20:00:00</td><td> 5</td><td>3</td><td>6</td><td> 0</td><td>2</td><td> 3</td><td>2</td><td>2</td><td>3</td><td>⋯</td><td> 3</td><td>2</td><td> 1</td><td> 2</td><td>4</td><td> 7</td><td> 3</td><td> 3</td><td> 3</td><td> 3</td></tr>\n",
              "\t<tr><td>2022-09-12 08:00:00</td><td> 5</td><td>4</td><td>4</td><td> 1</td><td>3</td><td> 3</td><td>3</td><td>2</td><td>4</td><td>⋯</td><td> 4</td><td>2</td><td> 2</td><td> 2</td><td>4</td><td>10</td><td>-2</td><td>-2</td><td>-2</td><td>-2</td></tr>\n",
              "\t<tr><td>2022-09-12 14:00:00</td><td> 1</td><td>4</td><td>6</td><td> 0</td><td>5</td><td> 0</td><td>3</td><td>2</td><td>4</td><td>⋯</td><td> 1</td><td>2</td><td> 3</td><td> 0</td><td>4</td><td>12</td><td> 0</td><td> 0</td><td> 0</td><td> 0</td></tr>\n",
              "\t<tr><td>2022-09-12 20:00:00</td><td> 5</td><td>4</td><td>6</td><td> 0</td><td>4</td><td> 5</td><td>4</td><td>2</td><td>3</td><td>⋯</td><td> 2</td><td>2</td><td> 2</td><td> 0</td><td>4</td><td>12</td><td> 0</td><td> 0</td><td> 0</td><td> 0</td></tr>\n",
              "\t<tr><td>2022-09-13 08:00:00</td><td> 6</td><td>4</td><td>4</td><td> 2</td><td>4</td><td> 3</td><td>2</td><td>2</td><td>4</td><td>⋯</td><td> 6</td><td>2</td><td> 2</td><td> 3</td><td>5</td><td> 7</td><td> 0</td><td> 0</td><td> 0</td><td> 0</td></tr>\n",
              "\t<tr><td>2022-09-13 14:00:00</td><td> 2</td><td>5</td><td>6</td><td> 0</td><td>5</td><td> 0</td><td>1</td><td>2</td><td>4</td><td>⋯</td><td> 3</td><td>2</td><td> 2</td><td> 1</td><td>4</td><td> 9</td><td> 2</td><td> 2</td><td> 2</td><td> 2</td></tr>\n",
              "\t<tr><td>2022-09-13 20:00:00</td><td> 6</td><td>4</td><td>6</td><td> 0</td><td>4</td><td> 4</td><td>3</td><td>2</td><td>3</td><td>⋯</td><td> 4</td><td>2</td><td> 1</td><td> 1</td><td>4</td><td> 9</td><td> 2</td><td> 2</td><td> 2</td><td> 2</td></tr>\n",
              "\t<tr><td>2022-09-14 08:00:00</td><td> 6</td><td>4</td><td>3</td><td> 1</td><td>5</td><td> 3</td><td>2</td><td>2</td><td>3</td><td>⋯</td><td> 5</td><td>2</td><td> 2</td><td> 2</td><td>5</td><td> 7</td><td> 0</td><td> 0</td><td> 0</td><td> 0</td></tr>\n",
              "\t<tr><td>2022-09-14 14:00:00</td><td> 3</td><td>5</td><td>5</td><td> 0</td><td>4</td><td> 0</td><td>2</td><td>2</td><td>3</td><td>⋯</td><td> 2</td><td>2</td><td> 2</td><td> 1</td><td>4</td><td>10</td><td> 2</td><td> 2</td><td> 2</td><td> 2</td></tr>\n",
              "\t<tr><td>2022-09-14 20:00:00</td><td> 7</td><td>4</td><td>5</td><td> 0</td><td>6</td><td> 4</td><td>3</td><td>2</td><td>3</td><td>⋯</td><td> 3</td><td>2</td><td> 1</td><td> 1</td><td>4</td><td> 9</td><td> 2</td><td> 2</td><td> 2</td><td> 2</td></tr>\n",
              "\t<tr><td>2022-09-15 08:00:00</td><td> 6</td><td>4</td><td>3</td><td> 0</td><td>6</td><td> 2</td><td>2</td><td>2</td><td>2</td><td>⋯</td><td> 5</td><td>2</td><td> 1</td><td> 2</td><td>5</td><td> 7</td><td> 0</td><td> 0</td><td> 0</td><td> 0</td></tr>\n",
              "\t<tr><td>2022-09-15 14:00:00</td><td> 3</td><td>5</td><td>6</td><td>-1</td><td>6</td><td>-1</td><td>1</td><td>2</td><td>3</td><td>⋯</td><td> 2</td><td>2</td><td> 1</td><td> 0</td><td>4</td><td> 9</td><td> 2</td><td> 2</td><td> 2</td><td> 2</td></tr>\n",
              "\t<tr><td>2022-09-15 20:00:00</td><td> 6</td><td>5</td><td>5</td><td>-1</td><td>7</td><td> 3</td><td>2</td><td>2</td><td>2</td><td>⋯</td><td> 4</td><td>2</td><td> 0</td><td> 0</td><td>5</td><td> 9</td><td> 3</td><td> 3</td><td> 3</td><td> 3</td></tr>\n",
              "\t<tr><td>2022-09-16 08:00:00</td><td> 6</td><td>5</td><td>3</td><td> 1</td><td>4</td><td> 2</td><td>2</td><td>2</td><td>2</td><td>⋯</td><td> 6</td><td>2</td><td> 1</td><td> 2</td><td>5</td><td> 6</td><td> 1</td><td> 1</td><td> 1</td><td> 1</td></tr>\n",
              "\t<tr><td>2022-09-16 14:00:00</td><td> 3</td><td>6</td><td>5</td><td>-1</td><td>3</td><td>-1</td><td>1</td><td>2</td><td>2</td><td>⋯</td><td> 3</td><td>2</td><td> 1</td><td> 1</td><td>4</td><td> 8</td><td> 3</td><td> 3</td><td> 3</td><td> 3</td></tr>\n",
              "\t<tr><td>2022-09-16 20:00:00</td><td> 7</td><td>5</td><td>5</td><td>-1</td><td>4</td><td> 2</td><td>2</td><td>2</td><td>1</td><td>⋯</td><td> 4</td><td>2</td><td> 0</td><td> 0</td><td>5</td><td> 8</td><td> 3</td><td> 3</td><td> 3</td><td> 3</td></tr>\n",
              "\t<tr><td>2022-09-19 08:00:00</td><td> 7</td><td>3</td><td>4</td><td> 1</td><td>4</td><td> 2</td><td>3</td><td>2</td><td>5</td><td>⋯</td><td> 3</td><td>2</td><td> 2</td><td> 4</td><td>4</td><td>10</td><td>-2</td><td>-2</td><td>-2</td><td>-2</td></tr>\n",
              "\t<tr><td>2022-09-19 14:00:00</td><td> 4</td><td>4</td><td>6</td><td> 0</td><td>3</td><td> 0</td><td>3</td><td>2</td><td>5</td><td>⋯</td><td> 1</td><td>2</td><td> 2</td><td> 2</td><td>4</td><td>12</td><td> 1</td><td> 1</td><td> 1</td><td> 1</td></tr>\n",
              "\t<tr><td>2022-09-19 20:00:00</td><td> 7</td><td>4</td><td>6</td><td> 0</td><td>5</td><td> 4</td><td>4</td><td>2</td><td>4</td><td>⋯</td><td> 2</td><td>2</td><td> 1</td><td> 2</td><td>4</td><td>12</td><td> 1</td><td> 1</td><td> 1</td><td> 1</td></tr>\n",
              "\t<tr><td>2022-09-20 08:00:00</td><td> 8</td><td>4</td><td>4</td><td> 1</td><td>3</td><td> 3</td><td>3</td><td>2</td><td>5</td><td>⋯</td><td> 5</td><td>3</td><td> 2</td><td> 5</td><td>5</td><td> 7</td><td> 0</td><td> 0</td><td> 0</td><td> 0</td></tr>\n",
              "\t<tr><td>2022-09-20 14:00:00</td><td> 5</td><td>4</td><td>6</td><td> 0</td><td>3</td><td> 0</td><td>2</td><td>2</td><td>5</td><td>⋯</td><td> 3</td><td>3</td><td> 2</td><td> 3</td><td>4</td><td> 9</td><td> 2</td><td> 2</td><td> 2</td><td> 2</td></tr>\n",
              "\t<tr><td>2022-09-20 20:00:00</td><td> 8</td><td>4</td><td>6</td><td> 0</td><td>4</td><td> 3</td><td>3</td><td>2</td><td>4</td><td>⋯</td><td> 4</td><td>2</td><td> 1</td><td> 3</td><td>4</td><td> 9</td><td> 2</td><td> 2</td><td> 2</td><td> 2</td></tr>\n",
              "\t<tr><td>2022-09-21 08:00:00</td><td> 8</td><td>4</td><td>4</td><td> 1</td><td>3</td><td> 3</td><td>3</td><td>2</td><td>4</td><td>⋯</td><td> 4</td><td>2</td><td> 1</td><td> 4</td><td>5</td><td> 7</td><td> 0</td><td> 0</td><td> 0</td><td> 0</td></tr>\n",
              "\t<tr><td>2022-09-21 14:00:00</td><td> 5</td><td>4</td><td>6</td><td> 0</td><td>1</td><td> 0</td><td>2</td><td>2</td><td>4</td><td>⋯</td><td> 2</td><td>3</td><td> 2</td><td> 3</td><td>4</td><td>10</td><td> 2</td><td> 2</td><td> 2</td><td> 2</td></tr>\n",
              "\t<tr><td>2022-09-21 20:00:00</td><td> 8</td><td>4</td><td>6</td><td> 0</td><td>4</td><td> 3</td><td>3</td><td>2</td><td>3</td><td>⋯</td><td> 3</td><td>2</td><td> 1</td><td> 3</td><td>4</td><td> 9</td><td> 3</td><td> 3</td><td> 3</td><td> 3</td></tr>\n",
              "\t<tr><td>2022-09-22 08:00:00</td><td> 8</td><td>4</td><td>3</td><td> 0</td><td>4</td><td> 2</td><td>2</td><td>2</td><td>3</td><td>⋯</td><td> 5</td><td>2</td><td> 0</td><td> 4</td><td>5</td><td> 7</td><td> 0</td><td> 0</td><td> 0</td><td> 0</td></tr>\n",
              "\t<tr><td>2022-09-22 14:00:00</td><td> 5</td><td>4</td><td>6</td><td>-1</td><td>3</td><td>-1</td><td>2</td><td>2</td><td>3</td><td>⋯</td><td> 2</td><td>2</td><td> 1</td><td> 3</td><td>4</td><td> 9</td><td> 3</td><td> 3</td><td> 3</td><td> 3</td></tr>\n",
              "\t<tr><td>2022-09-22 20:00:00</td><td> 8</td><td>4</td><td>6</td><td>-1</td><td>6</td><td> 2</td><td>3</td><td>2</td><td>2</td><td>⋯</td><td> 3</td><td>2</td><td> 0</td><td> 2</td><td>4</td><td> 9</td><td> 3</td><td> 3</td><td> 3</td><td> 3</td></tr>\n",
              "\t<tr><td>2022-09-23 08:00:00</td><td> 8</td><td>4</td><td>3</td><td> 0</td><td>2</td><td> 2</td><td>2</td><td>2</td><td>2</td><td>⋯</td><td> 5</td><td>2</td><td> 0</td><td> 3</td><td>5</td><td> 6</td><td> 1</td><td> 1</td><td> 1</td><td> 1</td></tr>\n",
              "\t<tr><td>2022-09-23 14:00:00</td><td> 5</td><td>5</td><td>6</td><td>-1</td><td>1</td><td>-1</td><td>1</td><td>2</td><td>2</td><td>⋯</td><td> 2</td><td>2</td><td> 1</td><td> 2</td><td>4</td><td> 8</td><td> 3</td><td> 3</td><td> 3</td><td> 3</td></tr>\n",
              "\t<tr><td>2022-09-23 20:00:00</td><td> 8</td><td>5</td><td>6</td><td>-1</td><td>3</td><td> 2</td><td>2</td><td>2</td><td>2</td><td>⋯</td><td> 4</td><td>2</td><td> 0</td><td> 2</td><td>4</td><td> 8</td><td> 3</td><td> 3</td><td> 3</td><td> 3</td></tr>\n",
              "\t<tr><td>2022-09-26 08:00:00</td><td> 8</td><td>4</td><td>2</td><td> 0</td><td>6</td><td> 1</td><td>3</td><td>2</td><td>3</td><td>⋯</td><td> 4</td><td>2</td><td> 0</td><td> 0</td><td>4</td><td>11</td><td>-2</td><td>-2</td><td>-2</td><td>-2</td></tr>\n",
              "\t<tr><td>2022-09-26 14:00:00</td><td> 5</td><td>4</td><td>4</td><td>-1</td><td>5</td><td>-1</td><td>3</td><td>2</td><td>3</td><td>⋯</td><td> 2</td><td>2</td><td> 0</td><td>-1</td><td>3</td><td>13</td><td> 1</td><td> 1</td><td> 1</td><td> 1</td></tr>\n",
              "\t<tr><td>2022-09-26 20:00:00</td><td> 8</td><td>4</td><td>4</td><td>-1</td><td>6</td><td> 2</td><td>3</td><td>2</td><td>2</td><td>⋯</td><td> 3</td><td>2</td><td>-1</td><td>-1</td><td>3</td><td>14</td><td> 1</td><td> 1</td><td> 1</td><td> 1</td></tr>\n",
              "\t<tr><td>2022-09-27 08:00:00</td><td> 9</td><td>4</td><td>2</td><td> 0</td><td>5</td><td> 1</td><td>2</td><td>2</td><td>3</td><td>⋯</td><td> 6</td><td>2</td><td> 0</td><td> 1</td><td>4</td><td> 8</td><td>-1</td><td>-1</td><td>-1</td><td>-1</td></tr>\n",
              "\t<tr><td>2022-09-27 14:00:00</td><td> 6</td><td>4</td><td>4</td><td>-1</td><td>5</td><td>-2</td><td>2</td><td>2</td><td>3</td><td>⋯</td><td> 4</td><td>2</td><td> 0</td><td> 0</td><td>3</td><td>10</td><td> 2</td><td> 2</td><td> 2</td><td> 2</td></tr>\n",
              "\t<tr><td>2022-09-27 20:00:00</td><td> 9</td><td>4</td><td>4</td><td>-1</td><td>6</td><td> 1</td><td>3</td><td>2</td><td>2</td><td>⋯</td><td> 5</td><td>2</td><td>-1</td><td> 0</td><td>4</td><td>10</td><td> 2</td><td> 2</td><td> 2</td><td> 2</td></tr>\n",
              "\t<tr><td>2022-09-28 08:00:00</td><td> 9</td><td>4</td><td>2</td><td> 0</td><td>4</td><td> 1</td><td>2</td><td>1</td><td>2</td><td>⋯</td><td> 5</td><td>2</td><td> 0</td><td> 0</td><td>4</td><td> 8</td><td> 0</td><td> 0</td><td> 0</td><td> 0</td></tr>\n",
              "\t<tr><td>2022-09-28 14:00:00</td><td> 6</td><td>4</td><td>4</td><td>-2</td><td>3</td><td>-2</td><td>2</td><td>2</td><td>2</td><td>⋯</td><td> 3</td><td>2</td><td> 0</td><td>-1</td><td>3</td><td>10</td><td> 2</td><td> 2</td><td> 2</td><td> 2</td></tr>\n",
              "\t<tr><td>2022-09-28 20:00:00</td><td> 9</td><td>4</td><td>3</td><td>-1</td><td>5</td><td> 1</td><td>2</td><td>2</td><td>1</td><td>⋯</td><td> 4</td><td>2</td><td>-1</td><td>-1</td><td>3</td><td>10</td><td> 2</td><td> 2</td><td> 2</td><td> 2</td></tr>\n",
              "\t<tr><td>2022-09-29 08:00:00</td><td> 8</td><td>4</td><td>1</td><td>-1</td><td>7</td><td> 0</td><td>2</td><td>1</td><td>1</td><td>⋯</td><td> 6</td><td>1</td><td>-1</td><td> 0</td><td>5</td><td> 7</td><td> 0</td><td> 0</td><td> 0</td><td> 0</td></tr>\n",
              "\t<tr><td>2022-09-29 14:00:00</td><td> 6</td><td>5</td><td>4</td><td>-3</td><td>5</td><td>-2</td><td>1</td><td>2</td><td>1</td><td>⋯</td><td> 3</td><td>1</td><td>-1</td><td>-1</td><td>4</td><td>10</td><td> 3</td><td> 3</td><td> 3</td><td> 3</td></tr>\n",
              "\t<tr><td>2022-09-29 20:00:00</td><td> 8</td><td>5</td><td>3</td><td>-2</td><td>7</td><td> 0</td><td>2</td><td>1</td><td>1</td><td>⋯</td><td> 4</td><td>1</td><td>-2</td><td>-1</td><td>4</td><td>10</td><td> 3</td><td> 3</td><td> 3</td><td> 3</td></tr>\n",
              "\t<tr><td>2022-09-30 08:00:00</td><td> 8</td><td>5</td><td>1</td><td>-1</td><td>4</td><td> 0</td><td>2</td><td>1</td><td>0</td><td>⋯</td><td> 6</td><td>1</td><td>-1</td><td>-1</td><td>4</td><td> 6</td><td> 0</td><td> 0</td><td> 0</td><td> 0</td></tr>\n",
              "\t<tr><td>2022-09-30 14:00:00</td><td> 6</td><td>6</td><td>4</td><td>-2</td><td>2</td><td>-3</td><td>1</td><td>1</td><td>0</td><td>⋯</td><td> 3</td><td>1</td><td>-1</td><td>-2</td><td>4</td><td> 8</td><td> 3</td><td> 3</td><td> 3</td><td> 3</td></tr>\n",
              "\t<tr><td>2022-09-30 20:00:00</td><td> 8</td><td>6</td><td>3</td><td>-2</td><td>4</td><td> 0</td><td>2</td><td>1</td><td>0</td><td>⋯</td><td> 4</td><td>1</td><td>-2</td><td>-2</td><td>4</td><td> 8</td><td> 3</td><td> 3</td><td> 3</td><td> 3</td></tr>\n",
              "</tbody>\n",
              "</table>\n"
            ],
            "text/markdown": "\nA data.frame: 60 × 21\n\n| dias &lt;dttm&gt; | predict &lt;dbl&gt; | predict.1 &lt;dbl&gt; | predict.2 &lt;dbl&gt; | predict.3 &lt;dbl&gt; | predict.4 &lt;dbl&gt; | predict.5 &lt;dbl&gt; | predict.6 &lt;dbl&gt; | predict.7 &lt;dbl&gt; | predict.8 &lt;dbl&gt; | ⋯ ⋯ | predict.10 &lt;dbl&gt; | predict.11 &lt;dbl&gt; | predict.12 &lt;dbl&gt; | predict.13 &lt;dbl&gt; | predict.14 &lt;dbl&gt; | predict.15 &lt;dbl&gt; | predict.16 &lt;dbl&gt; | predict.17 &lt;dbl&gt; | predict.18 &lt;dbl&gt; | predict.19 &lt;dbl&gt; |\n|---|---|---|---|---|---|---|---|---|---|---|---|---|---|---|---|---|---|---|---|---|\n| 2022-09-05 08:00:00 |  3 | 5 | 4 |  2 | 0 |  5 | 3 | 2 | 5 | ⋯ |  2 | 2 |  3 |  4 | 4 | 10 | -3 | -3 | -3 | -3 |\n| 2022-09-05 14:00:00 | -1 | 4 | 6 |  0 | 3 |  1 | 3 | 2 | 5 | ⋯ | -1 | 2 |  4 |  2 | 4 | 11 | -1 | -1 | -1 | -1 |\n| 2022-09-05 20:00:00 |  4 | 4 | 6 |  0 | 0 |  6 | 4 | 2 | 4 | ⋯ |  1 | 2 |  3 |  2 | 4 | 11 | -2 | -2 | -2 | -2 |\n| 2022-09-06 08:00:00 |  4 | 4 | 3 |  2 | 1 |  5 | 2 | 2 | 5 | ⋯ |  5 | 2 |  3 |  4 | 4 |  8 | -1 | -1 | -1 | -1 |\n| 2022-09-06 14:00:00 |  0 | 4 | 6 |  0 | 2 |  2 | 1 | 2 | 5 | ⋯ |  1 | 3 |  3 |  3 | 4 |  9 |  0 |  0 |  0 |  0 |\n| 2022-09-06 20:00:00 |  5 | 4 | 6 |  1 | 0 |  6 | 3 | 2 | 4 | ⋯ |  3 | 2 |  2 |  3 | 4 |  9 | -1 | -1 | -1 | -1 |\n| 2022-09-07 08:00:00 |  4 | 4 | 3 |  2 | 2 |  5 | 2 | 2 | 5 | ⋯ |  4 | 2 |  3 |  4 | 4 |  8 |  0 |  0 |  0 |  0 |\n| 2022-09-07 14:00:00 |  0 | 4 | 6 |  0 | 3 |  2 | 2 | 2 | 5 | ⋯ |  0 | 3 |  3 |  3 | 4 |  9 |  2 |  2 |  2 |  2 |\n| 2022-09-07 20:00:00 |  5 | 4 | 6 |  1 | 3 |  5 | 3 | 2 | 4 | ⋯ |  2 | 2 |  2 |  3 | 4 |  9 |  1 |  1 |  1 |  1 |\n| 2022-09-08 08:00:00 |  4 | 3 | 3 |  1 | 4 |  4 | 2 | 2 | 4 | ⋯ |  4 | 2 |  1 |  3 | 5 |  7 |  0 |  0 |  0 |  0 |\n| 2022-09-08 14:00:00 |  1 | 4 | 5 | -1 | 4 |  1 | 1 | 2 | 4 | ⋯ |  1 | 2 |  2 |  2 | 4 |  9 |  2 |  2 |  2 |  2 |\n| 2022-09-08 20:00:00 |  5 | 3 | 5 |  0 | 5 |  4 | 3 | 2 | 3 | ⋯ |  3 | 2 |  1 |  2 | 4 |  8 |  2 |  2 |  2 |  2 |\n| 2022-09-09 08:00:00 |  4 | 4 | 3 |  1 | 3 |  4 | 2 | 2 | 4 | ⋯ |  4 | 2 |  2 |  4 | 5 |  6 |  1 |  1 |  1 |  1 |\n| 2022-09-09 14:00:00 |  1 | 4 | 5 |  0 | 2 |  1 | 1 | 2 | 4 | ⋯ |  1 | 2 |  2 |  2 | 4 |  8 |  3 |  3 |  3 |  3 |\n| 2022-09-09 20:00:00 |  5 | 3 | 6 |  0 | 2 |  3 | 2 | 2 | 3 | ⋯ |  3 | 2 |  1 |  2 | 4 |  7 |  3 |  3 |  3 |  3 |\n| 2022-09-12 08:00:00 |  5 | 4 | 4 |  1 | 3 |  3 | 3 | 2 | 4 | ⋯ |  4 | 2 |  2 |  2 | 4 | 10 | -2 | -2 | -2 | -2 |\n| 2022-09-12 14:00:00 |  1 | 4 | 6 |  0 | 5 |  0 | 3 | 2 | 4 | ⋯ |  1 | 2 |  3 |  0 | 4 | 12 |  0 |  0 |  0 |  0 |\n| 2022-09-12 20:00:00 |  5 | 4 | 6 |  0 | 4 |  5 | 4 | 2 | 3 | ⋯ |  2 | 2 |  2 |  0 | 4 | 12 |  0 |  0 |  0 |  0 |\n| 2022-09-13 08:00:00 |  6 | 4 | 4 |  2 | 4 |  3 | 2 | 2 | 4 | ⋯ |  6 | 2 |  2 |  3 | 5 |  7 |  0 |  0 |  0 |  0 |\n| 2022-09-13 14:00:00 |  2 | 5 | 6 |  0 | 5 |  0 | 1 | 2 | 4 | ⋯ |  3 | 2 |  2 |  1 | 4 |  9 |  2 |  2 |  2 |  2 |\n| 2022-09-13 20:00:00 |  6 | 4 | 6 |  0 | 4 |  4 | 3 | 2 | 3 | ⋯ |  4 | 2 |  1 |  1 | 4 |  9 |  2 |  2 |  2 |  2 |\n| 2022-09-14 08:00:00 |  6 | 4 | 3 |  1 | 5 |  3 | 2 | 2 | 3 | ⋯ |  5 | 2 |  2 |  2 | 5 |  7 |  0 |  0 |  0 |  0 |\n| 2022-09-14 14:00:00 |  3 | 5 | 5 |  0 | 4 |  0 | 2 | 2 | 3 | ⋯ |  2 | 2 |  2 |  1 | 4 | 10 |  2 |  2 |  2 |  2 |\n| 2022-09-14 20:00:00 |  7 | 4 | 5 |  0 | 6 |  4 | 3 | 2 | 3 | ⋯ |  3 | 2 |  1 |  1 | 4 |  9 |  2 |  2 |  2 |  2 |\n| 2022-09-15 08:00:00 |  6 | 4 | 3 |  0 | 6 |  2 | 2 | 2 | 2 | ⋯ |  5 | 2 |  1 |  2 | 5 |  7 |  0 |  0 |  0 |  0 |\n| 2022-09-15 14:00:00 |  3 | 5 | 6 | -1 | 6 | -1 | 1 | 2 | 3 | ⋯ |  2 | 2 |  1 |  0 | 4 |  9 |  2 |  2 |  2 |  2 |\n| 2022-09-15 20:00:00 |  6 | 5 | 5 | -1 | 7 |  3 | 2 | 2 | 2 | ⋯ |  4 | 2 |  0 |  0 | 5 |  9 |  3 |  3 |  3 |  3 |\n| 2022-09-16 08:00:00 |  6 | 5 | 3 |  1 | 4 |  2 | 2 | 2 | 2 | ⋯ |  6 | 2 |  1 |  2 | 5 |  6 |  1 |  1 |  1 |  1 |\n| 2022-09-16 14:00:00 |  3 | 6 | 5 | -1 | 3 | -1 | 1 | 2 | 2 | ⋯ |  3 | 2 |  1 |  1 | 4 |  8 |  3 |  3 |  3 |  3 |\n| 2022-09-16 20:00:00 |  7 | 5 | 5 | -1 | 4 |  2 | 2 | 2 | 1 | ⋯ |  4 | 2 |  0 |  0 | 5 |  8 |  3 |  3 |  3 |  3 |\n| 2022-09-19 08:00:00 |  7 | 3 | 4 |  1 | 4 |  2 | 3 | 2 | 5 | ⋯ |  3 | 2 |  2 |  4 | 4 | 10 | -2 | -2 | -2 | -2 |\n| 2022-09-19 14:00:00 |  4 | 4 | 6 |  0 | 3 |  0 | 3 | 2 | 5 | ⋯ |  1 | 2 |  2 |  2 | 4 | 12 |  1 |  1 |  1 |  1 |\n| 2022-09-19 20:00:00 |  7 | 4 | 6 |  0 | 5 |  4 | 4 | 2 | 4 | ⋯ |  2 | 2 |  1 |  2 | 4 | 12 |  1 |  1 |  1 |  1 |\n| 2022-09-20 08:00:00 |  8 | 4 | 4 |  1 | 3 |  3 | 3 | 2 | 5 | ⋯ |  5 | 3 |  2 |  5 | 5 |  7 |  0 |  0 |  0 |  0 |\n| 2022-09-20 14:00:00 |  5 | 4 | 6 |  0 | 3 |  0 | 2 | 2 | 5 | ⋯ |  3 | 3 |  2 |  3 | 4 |  9 |  2 |  2 |  2 |  2 |\n| 2022-09-20 20:00:00 |  8 | 4 | 6 |  0 | 4 |  3 | 3 | 2 | 4 | ⋯ |  4 | 2 |  1 |  3 | 4 |  9 |  2 |  2 |  2 |  2 |\n| 2022-09-21 08:00:00 |  8 | 4 | 4 |  1 | 3 |  3 | 3 | 2 | 4 | ⋯ |  4 | 2 |  1 |  4 | 5 |  7 |  0 |  0 |  0 |  0 |\n| 2022-09-21 14:00:00 |  5 | 4 | 6 |  0 | 1 |  0 | 2 | 2 | 4 | ⋯ |  2 | 3 |  2 |  3 | 4 | 10 |  2 |  2 |  2 |  2 |\n| 2022-09-21 20:00:00 |  8 | 4 | 6 |  0 | 4 |  3 | 3 | 2 | 3 | ⋯ |  3 | 2 |  1 |  3 | 4 |  9 |  3 |  3 |  3 |  3 |\n| 2022-09-22 08:00:00 |  8 | 4 | 3 |  0 | 4 |  2 | 2 | 2 | 3 | ⋯ |  5 | 2 |  0 |  4 | 5 |  7 |  0 |  0 |  0 |  0 |\n| 2022-09-22 14:00:00 |  5 | 4 | 6 | -1 | 3 | -1 | 2 | 2 | 3 | ⋯ |  2 | 2 |  1 |  3 | 4 |  9 |  3 |  3 |  3 |  3 |\n| 2022-09-22 20:00:00 |  8 | 4 | 6 | -1 | 6 |  2 | 3 | 2 | 2 | ⋯ |  3 | 2 |  0 |  2 | 4 |  9 |  3 |  3 |  3 |  3 |\n| 2022-09-23 08:00:00 |  8 | 4 | 3 |  0 | 2 |  2 | 2 | 2 | 2 | ⋯ |  5 | 2 |  0 |  3 | 5 |  6 |  1 |  1 |  1 |  1 |\n| 2022-09-23 14:00:00 |  5 | 5 | 6 | -1 | 1 | -1 | 1 | 2 | 2 | ⋯ |  2 | 2 |  1 |  2 | 4 |  8 |  3 |  3 |  3 |  3 |\n| 2022-09-23 20:00:00 |  8 | 5 | 6 | -1 | 3 |  2 | 2 | 2 | 2 | ⋯ |  4 | 2 |  0 |  2 | 4 |  8 |  3 |  3 |  3 |  3 |\n| 2022-09-26 08:00:00 |  8 | 4 | 2 |  0 | 6 |  1 | 3 | 2 | 3 | ⋯ |  4 | 2 |  0 |  0 | 4 | 11 | -2 | -2 | -2 | -2 |\n| 2022-09-26 14:00:00 |  5 | 4 | 4 | -1 | 5 | -1 | 3 | 2 | 3 | ⋯ |  2 | 2 |  0 | -1 | 3 | 13 |  1 |  1 |  1 |  1 |\n| 2022-09-26 20:00:00 |  8 | 4 | 4 | -1 | 6 |  2 | 3 | 2 | 2 | ⋯ |  3 | 2 | -1 | -1 | 3 | 14 |  1 |  1 |  1 |  1 |\n| 2022-09-27 08:00:00 |  9 | 4 | 2 |  0 | 5 |  1 | 2 | 2 | 3 | ⋯ |  6 | 2 |  0 |  1 | 4 |  8 | -1 | -1 | -1 | -1 |\n| 2022-09-27 14:00:00 |  6 | 4 | 4 | -1 | 5 | -2 | 2 | 2 | 3 | ⋯ |  4 | 2 |  0 |  0 | 3 | 10 |  2 |  2 |  2 |  2 |\n| 2022-09-27 20:00:00 |  9 | 4 | 4 | -1 | 6 |  1 | 3 | 2 | 2 | ⋯ |  5 | 2 | -1 |  0 | 4 | 10 |  2 |  2 |  2 |  2 |\n| 2022-09-28 08:00:00 |  9 | 4 | 2 |  0 | 4 |  1 | 2 | 1 | 2 | ⋯ |  5 | 2 |  0 |  0 | 4 |  8 |  0 |  0 |  0 |  0 |\n| 2022-09-28 14:00:00 |  6 | 4 | 4 | -2 | 3 | -2 | 2 | 2 | 2 | ⋯ |  3 | 2 |  0 | -1 | 3 | 10 |  2 |  2 |  2 |  2 |\n| 2022-09-28 20:00:00 |  9 | 4 | 3 | -1 | 5 |  1 | 2 | 2 | 1 | ⋯ |  4 | 2 | -1 | -1 | 3 | 10 |  2 |  2 |  2 |  2 |\n| 2022-09-29 08:00:00 |  8 | 4 | 1 | -1 | 7 |  0 | 2 | 1 | 1 | ⋯ |  6 | 1 | -1 |  0 | 5 |  7 |  0 |  0 |  0 |  0 |\n| 2022-09-29 14:00:00 |  6 | 5 | 4 | -3 | 5 | -2 | 1 | 2 | 1 | ⋯ |  3 | 1 | -1 | -1 | 4 | 10 |  3 |  3 |  3 |  3 |\n| 2022-09-29 20:00:00 |  8 | 5 | 3 | -2 | 7 |  0 | 2 | 1 | 1 | ⋯ |  4 | 1 | -2 | -1 | 4 | 10 |  3 |  3 |  3 |  3 |\n| 2022-09-30 08:00:00 |  8 | 5 | 1 | -1 | 4 |  0 | 2 | 1 | 0 | ⋯ |  6 | 1 | -1 | -1 | 4 |  6 |  0 |  0 |  0 |  0 |\n| 2022-09-30 14:00:00 |  6 | 6 | 4 | -2 | 2 | -3 | 1 | 1 | 0 | ⋯ |  3 | 1 | -1 | -2 | 4 |  8 |  3 |  3 |  3 |  3 |\n| 2022-09-30 20:00:00 |  8 | 6 | 3 | -2 | 4 |  0 | 2 | 1 | 0 | ⋯ |  4 | 1 | -2 | -2 | 4 |  8 |  3 |  3 |  3 |  3 |\n\n",
            "text/latex": "A data.frame: 60 × 21\n\\begin{tabular}{lllllllllllllllllllll}\n dias & predict & predict.1 & predict.2 & predict.3 & predict.4 & predict.5 & predict.6 & predict.7 & predict.8 & ⋯ & predict.10 & predict.11 & predict.12 & predict.13 & predict.14 & predict.15 & predict.16 & predict.17 & predict.18 & predict.19\\\\\n <dttm> & <dbl> & <dbl> & <dbl> & <dbl> & <dbl> & <dbl> & <dbl> & <dbl> & <dbl> & ⋯ & <dbl> & <dbl> & <dbl> & <dbl> & <dbl> & <dbl> & <dbl> & <dbl> & <dbl> & <dbl>\\\\\n\\hline\n\t 2022-09-05 08:00:00 &  3 & 5 & 4 &  2 & 0 &  5 & 3 & 2 & 5 & ⋯ &  2 & 2 &  3 &  4 & 4 & 10 & -3 & -3 & -3 & -3\\\\\n\t 2022-09-05 14:00:00 & -1 & 4 & 6 &  0 & 3 &  1 & 3 & 2 & 5 & ⋯ & -1 & 2 &  4 &  2 & 4 & 11 & -1 & -1 & -1 & -1\\\\\n\t 2022-09-05 20:00:00 &  4 & 4 & 6 &  0 & 0 &  6 & 4 & 2 & 4 & ⋯ &  1 & 2 &  3 &  2 & 4 & 11 & -2 & -2 & -2 & -2\\\\\n\t 2022-09-06 08:00:00 &  4 & 4 & 3 &  2 & 1 &  5 & 2 & 2 & 5 & ⋯ &  5 & 2 &  3 &  4 & 4 &  8 & -1 & -1 & -1 & -1\\\\\n\t 2022-09-06 14:00:00 &  0 & 4 & 6 &  0 & 2 &  2 & 1 & 2 & 5 & ⋯ &  1 & 3 &  3 &  3 & 4 &  9 &  0 &  0 &  0 &  0\\\\\n\t 2022-09-06 20:00:00 &  5 & 4 & 6 &  1 & 0 &  6 & 3 & 2 & 4 & ⋯ &  3 & 2 &  2 &  3 & 4 &  9 & -1 & -1 & -1 & -1\\\\\n\t 2022-09-07 08:00:00 &  4 & 4 & 3 &  2 & 2 &  5 & 2 & 2 & 5 & ⋯ &  4 & 2 &  3 &  4 & 4 &  8 &  0 &  0 &  0 &  0\\\\\n\t 2022-09-07 14:00:00 &  0 & 4 & 6 &  0 & 3 &  2 & 2 & 2 & 5 & ⋯ &  0 & 3 &  3 &  3 & 4 &  9 &  2 &  2 &  2 &  2\\\\\n\t 2022-09-07 20:00:00 &  5 & 4 & 6 &  1 & 3 &  5 & 3 & 2 & 4 & ⋯ &  2 & 2 &  2 &  3 & 4 &  9 &  1 &  1 &  1 &  1\\\\\n\t 2022-09-08 08:00:00 &  4 & 3 & 3 &  1 & 4 &  4 & 2 & 2 & 4 & ⋯ &  4 & 2 &  1 &  3 & 5 &  7 &  0 &  0 &  0 &  0\\\\\n\t 2022-09-08 14:00:00 &  1 & 4 & 5 & -1 & 4 &  1 & 1 & 2 & 4 & ⋯ &  1 & 2 &  2 &  2 & 4 &  9 &  2 &  2 &  2 &  2\\\\\n\t 2022-09-08 20:00:00 &  5 & 3 & 5 &  0 & 5 &  4 & 3 & 2 & 3 & ⋯ &  3 & 2 &  1 &  2 & 4 &  8 &  2 &  2 &  2 &  2\\\\\n\t 2022-09-09 08:00:00 &  4 & 4 & 3 &  1 & 3 &  4 & 2 & 2 & 4 & ⋯ &  4 & 2 &  2 &  4 & 5 &  6 &  1 &  1 &  1 &  1\\\\\n\t 2022-09-09 14:00:00 &  1 & 4 & 5 &  0 & 2 &  1 & 1 & 2 & 4 & ⋯ &  1 & 2 &  2 &  2 & 4 &  8 &  3 &  3 &  3 &  3\\\\\n\t 2022-09-09 20:00:00 &  5 & 3 & 6 &  0 & 2 &  3 & 2 & 2 & 3 & ⋯ &  3 & 2 &  1 &  2 & 4 &  7 &  3 &  3 &  3 &  3\\\\\n\t 2022-09-12 08:00:00 &  5 & 4 & 4 &  1 & 3 &  3 & 3 & 2 & 4 & ⋯ &  4 & 2 &  2 &  2 & 4 & 10 & -2 & -2 & -2 & -2\\\\\n\t 2022-09-12 14:00:00 &  1 & 4 & 6 &  0 & 5 &  0 & 3 & 2 & 4 & ⋯ &  1 & 2 &  3 &  0 & 4 & 12 &  0 &  0 &  0 &  0\\\\\n\t 2022-09-12 20:00:00 &  5 & 4 & 6 &  0 & 4 &  5 & 4 & 2 & 3 & ⋯ &  2 & 2 &  2 &  0 & 4 & 12 &  0 &  0 &  0 &  0\\\\\n\t 2022-09-13 08:00:00 &  6 & 4 & 4 &  2 & 4 &  3 & 2 & 2 & 4 & ⋯ &  6 & 2 &  2 &  3 & 5 &  7 &  0 &  0 &  0 &  0\\\\\n\t 2022-09-13 14:00:00 &  2 & 5 & 6 &  0 & 5 &  0 & 1 & 2 & 4 & ⋯ &  3 & 2 &  2 &  1 & 4 &  9 &  2 &  2 &  2 &  2\\\\\n\t 2022-09-13 20:00:00 &  6 & 4 & 6 &  0 & 4 &  4 & 3 & 2 & 3 & ⋯ &  4 & 2 &  1 &  1 & 4 &  9 &  2 &  2 &  2 &  2\\\\\n\t 2022-09-14 08:00:00 &  6 & 4 & 3 &  1 & 5 &  3 & 2 & 2 & 3 & ⋯ &  5 & 2 &  2 &  2 & 5 &  7 &  0 &  0 &  0 &  0\\\\\n\t 2022-09-14 14:00:00 &  3 & 5 & 5 &  0 & 4 &  0 & 2 & 2 & 3 & ⋯ &  2 & 2 &  2 &  1 & 4 & 10 &  2 &  2 &  2 &  2\\\\\n\t 2022-09-14 20:00:00 &  7 & 4 & 5 &  0 & 6 &  4 & 3 & 2 & 3 & ⋯ &  3 & 2 &  1 &  1 & 4 &  9 &  2 &  2 &  2 &  2\\\\\n\t 2022-09-15 08:00:00 &  6 & 4 & 3 &  0 & 6 &  2 & 2 & 2 & 2 & ⋯ &  5 & 2 &  1 &  2 & 5 &  7 &  0 &  0 &  0 &  0\\\\\n\t 2022-09-15 14:00:00 &  3 & 5 & 6 & -1 & 6 & -1 & 1 & 2 & 3 & ⋯ &  2 & 2 &  1 &  0 & 4 &  9 &  2 &  2 &  2 &  2\\\\\n\t 2022-09-15 20:00:00 &  6 & 5 & 5 & -1 & 7 &  3 & 2 & 2 & 2 & ⋯ &  4 & 2 &  0 &  0 & 5 &  9 &  3 &  3 &  3 &  3\\\\\n\t 2022-09-16 08:00:00 &  6 & 5 & 3 &  1 & 4 &  2 & 2 & 2 & 2 & ⋯ &  6 & 2 &  1 &  2 & 5 &  6 &  1 &  1 &  1 &  1\\\\\n\t 2022-09-16 14:00:00 &  3 & 6 & 5 & -1 & 3 & -1 & 1 & 2 & 2 & ⋯ &  3 & 2 &  1 &  1 & 4 &  8 &  3 &  3 &  3 &  3\\\\\n\t 2022-09-16 20:00:00 &  7 & 5 & 5 & -1 & 4 &  2 & 2 & 2 & 1 & ⋯ &  4 & 2 &  0 &  0 & 5 &  8 &  3 &  3 &  3 &  3\\\\\n\t 2022-09-19 08:00:00 &  7 & 3 & 4 &  1 & 4 &  2 & 3 & 2 & 5 & ⋯ &  3 & 2 &  2 &  4 & 4 & 10 & -2 & -2 & -2 & -2\\\\\n\t 2022-09-19 14:00:00 &  4 & 4 & 6 &  0 & 3 &  0 & 3 & 2 & 5 & ⋯ &  1 & 2 &  2 &  2 & 4 & 12 &  1 &  1 &  1 &  1\\\\\n\t 2022-09-19 20:00:00 &  7 & 4 & 6 &  0 & 5 &  4 & 4 & 2 & 4 & ⋯ &  2 & 2 &  1 &  2 & 4 & 12 &  1 &  1 &  1 &  1\\\\\n\t 2022-09-20 08:00:00 &  8 & 4 & 4 &  1 & 3 &  3 & 3 & 2 & 5 & ⋯ &  5 & 3 &  2 &  5 & 5 &  7 &  0 &  0 &  0 &  0\\\\\n\t 2022-09-20 14:00:00 &  5 & 4 & 6 &  0 & 3 &  0 & 2 & 2 & 5 & ⋯ &  3 & 3 &  2 &  3 & 4 &  9 &  2 &  2 &  2 &  2\\\\\n\t 2022-09-20 20:00:00 &  8 & 4 & 6 &  0 & 4 &  3 & 3 & 2 & 4 & ⋯ &  4 & 2 &  1 &  3 & 4 &  9 &  2 &  2 &  2 &  2\\\\\n\t 2022-09-21 08:00:00 &  8 & 4 & 4 &  1 & 3 &  3 & 3 & 2 & 4 & ⋯ &  4 & 2 &  1 &  4 & 5 &  7 &  0 &  0 &  0 &  0\\\\\n\t 2022-09-21 14:00:00 &  5 & 4 & 6 &  0 & 1 &  0 & 2 & 2 & 4 & ⋯ &  2 & 3 &  2 &  3 & 4 & 10 &  2 &  2 &  2 &  2\\\\\n\t 2022-09-21 20:00:00 &  8 & 4 & 6 &  0 & 4 &  3 & 3 & 2 & 3 & ⋯ &  3 & 2 &  1 &  3 & 4 &  9 &  3 &  3 &  3 &  3\\\\\n\t 2022-09-22 08:00:00 &  8 & 4 & 3 &  0 & 4 &  2 & 2 & 2 & 3 & ⋯ &  5 & 2 &  0 &  4 & 5 &  7 &  0 &  0 &  0 &  0\\\\\n\t 2022-09-22 14:00:00 &  5 & 4 & 6 & -1 & 3 & -1 & 2 & 2 & 3 & ⋯ &  2 & 2 &  1 &  3 & 4 &  9 &  3 &  3 &  3 &  3\\\\\n\t 2022-09-22 20:00:00 &  8 & 4 & 6 & -1 & 6 &  2 & 3 & 2 & 2 & ⋯ &  3 & 2 &  0 &  2 & 4 &  9 &  3 &  3 &  3 &  3\\\\\n\t 2022-09-23 08:00:00 &  8 & 4 & 3 &  0 & 2 &  2 & 2 & 2 & 2 & ⋯ &  5 & 2 &  0 &  3 & 5 &  6 &  1 &  1 &  1 &  1\\\\\n\t 2022-09-23 14:00:00 &  5 & 5 & 6 & -1 & 1 & -1 & 1 & 2 & 2 & ⋯ &  2 & 2 &  1 &  2 & 4 &  8 &  3 &  3 &  3 &  3\\\\\n\t 2022-09-23 20:00:00 &  8 & 5 & 6 & -1 & 3 &  2 & 2 & 2 & 2 & ⋯ &  4 & 2 &  0 &  2 & 4 &  8 &  3 &  3 &  3 &  3\\\\\n\t 2022-09-26 08:00:00 &  8 & 4 & 2 &  0 & 6 &  1 & 3 & 2 & 3 & ⋯ &  4 & 2 &  0 &  0 & 4 & 11 & -2 & -2 & -2 & -2\\\\\n\t 2022-09-26 14:00:00 &  5 & 4 & 4 & -1 & 5 & -1 & 3 & 2 & 3 & ⋯ &  2 & 2 &  0 & -1 & 3 & 13 &  1 &  1 &  1 &  1\\\\\n\t 2022-09-26 20:00:00 &  8 & 4 & 4 & -1 & 6 &  2 & 3 & 2 & 2 & ⋯ &  3 & 2 & -1 & -1 & 3 & 14 &  1 &  1 &  1 &  1\\\\\n\t 2022-09-27 08:00:00 &  9 & 4 & 2 &  0 & 5 &  1 & 2 & 2 & 3 & ⋯ &  6 & 2 &  0 &  1 & 4 &  8 & -1 & -1 & -1 & -1\\\\\n\t 2022-09-27 14:00:00 &  6 & 4 & 4 & -1 & 5 & -2 & 2 & 2 & 3 & ⋯ &  4 & 2 &  0 &  0 & 3 & 10 &  2 &  2 &  2 &  2\\\\\n\t 2022-09-27 20:00:00 &  9 & 4 & 4 & -1 & 6 &  1 & 3 & 2 & 2 & ⋯ &  5 & 2 & -1 &  0 & 4 & 10 &  2 &  2 &  2 &  2\\\\\n\t 2022-09-28 08:00:00 &  9 & 4 & 2 &  0 & 4 &  1 & 2 & 1 & 2 & ⋯ &  5 & 2 &  0 &  0 & 4 &  8 &  0 &  0 &  0 &  0\\\\\n\t 2022-09-28 14:00:00 &  6 & 4 & 4 & -2 & 3 & -2 & 2 & 2 & 2 & ⋯ &  3 & 2 &  0 & -1 & 3 & 10 &  2 &  2 &  2 &  2\\\\\n\t 2022-09-28 20:00:00 &  9 & 4 & 3 & -1 & 5 &  1 & 2 & 2 & 1 & ⋯ &  4 & 2 & -1 & -1 & 3 & 10 &  2 &  2 &  2 &  2\\\\\n\t 2022-09-29 08:00:00 &  8 & 4 & 1 & -1 & 7 &  0 & 2 & 1 & 1 & ⋯ &  6 & 1 & -1 &  0 & 5 &  7 &  0 &  0 &  0 &  0\\\\\n\t 2022-09-29 14:00:00 &  6 & 5 & 4 & -3 & 5 & -2 & 1 & 2 & 1 & ⋯ &  3 & 1 & -1 & -1 & 4 & 10 &  3 &  3 &  3 &  3\\\\\n\t 2022-09-29 20:00:00 &  8 & 5 & 3 & -2 & 7 &  0 & 2 & 1 & 1 & ⋯ &  4 & 1 & -2 & -1 & 4 & 10 &  3 &  3 &  3 &  3\\\\\n\t 2022-09-30 08:00:00 &  8 & 5 & 1 & -1 & 4 &  0 & 2 & 1 & 0 & ⋯ &  6 & 1 & -1 & -1 & 4 &  6 &  0 &  0 &  0 &  0\\\\\n\t 2022-09-30 14:00:00 &  6 & 6 & 4 & -2 & 2 & -3 & 1 & 1 & 0 & ⋯ &  3 & 1 & -1 & -2 & 4 &  8 &  3 &  3 &  3 &  3\\\\\n\t 2022-09-30 20:00:00 &  8 & 6 & 3 & -2 & 4 &  0 & 2 & 1 & 0 & ⋯ &  4 & 1 & -2 & -2 & 4 &  8 &  3 &  3 &  3 &  3\\\\\n\\end{tabular}\n",
            "text/plain": [
              "   dias                predict predict.1 predict.2 predict.3 predict.4\n",
              "1  2022-09-05 08:00:00  3      5         4          2        0        \n",
              "2  2022-09-05 14:00:00 -1      4         6          0        3        \n",
              "3  2022-09-05 20:00:00  4      4         6          0        0        \n",
              "4  2022-09-06 08:00:00  4      4         3          2        1        \n",
              "5  2022-09-06 14:00:00  0      4         6          0        2        \n",
              "6  2022-09-06 20:00:00  5      4         6          1        0        \n",
              "7  2022-09-07 08:00:00  4      4         3          2        2        \n",
              "8  2022-09-07 14:00:00  0      4         6          0        3        \n",
              "9  2022-09-07 20:00:00  5      4         6          1        3        \n",
              "10 2022-09-08 08:00:00  4      3         3          1        4        \n",
              "11 2022-09-08 14:00:00  1      4         5         -1        4        \n",
              "12 2022-09-08 20:00:00  5      3         5          0        5        \n",
              "13 2022-09-09 08:00:00  4      4         3          1        3        \n",
              "14 2022-09-09 14:00:00  1      4         5          0        2        \n",
              "15 2022-09-09 20:00:00  5      3         6          0        2        \n",
              "16 2022-09-12 08:00:00  5      4         4          1        3        \n",
              "17 2022-09-12 14:00:00  1      4         6          0        5        \n",
              "18 2022-09-12 20:00:00  5      4         6          0        4        \n",
              "19 2022-09-13 08:00:00  6      4         4          2        4        \n",
              "20 2022-09-13 14:00:00  2      5         6          0        5        \n",
              "21 2022-09-13 20:00:00  6      4         6          0        4        \n",
              "22 2022-09-14 08:00:00  6      4         3          1        5        \n",
              "23 2022-09-14 14:00:00  3      5         5          0        4        \n",
              "24 2022-09-14 20:00:00  7      4         5          0        6        \n",
              "25 2022-09-15 08:00:00  6      4         3          0        6        \n",
              "26 2022-09-15 14:00:00  3      5         6         -1        6        \n",
              "27 2022-09-15 20:00:00  6      5         5         -1        7        \n",
              "28 2022-09-16 08:00:00  6      5         3          1        4        \n",
              "29 2022-09-16 14:00:00  3      6         5         -1        3        \n",
              "30 2022-09-16 20:00:00  7      5         5         -1        4        \n",
              "31 2022-09-19 08:00:00  7      3         4          1        4        \n",
              "32 2022-09-19 14:00:00  4      4         6          0        3        \n",
              "33 2022-09-19 20:00:00  7      4         6          0        5        \n",
              "34 2022-09-20 08:00:00  8      4         4          1        3        \n",
              "35 2022-09-20 14:00:00  5      4         6          0        3        \n",
              "36 2022-09-20 20:00:00  8      4         6          0        4        \n",
              "37 2022-09-21 08:00:00  8      4         4          1        3        \n",
              "38 2022-09-21 14:00:00  5      4         6          0        1        \n",
              "39 2022-09-21 20:00:00  8      4         6          0        4        \n",
              "40 2022-09-22 08:00:00  8      4         3          0        4        \n",
              "41 2022-09-22 14:00:00  5      4         6         -1        3        \n",
              "42 2022-09-22 20:00:00  8      4         6         -1        6        \n",
              "43 2022-09-23 08:00:00  8      4         3          0        2        \n",
              "44 2022-09-23 14:00:00  5      5         6         -1        1        \n",
              "45 2022-09-23 20:00:00  8      5         6         -1        3        \n",
              "46 2022-09-26 08:00:00  8      4         2          0        6        \n",
              "47 2022-09-26 14:00:00  5      4         4         -1        5        \n",
              "48 2022-09-26 20:00:00  8      4         4         -1        6        \n",
              "49 2022-09-27 08:00:00  9      4         2          0        5        \n",
              "50 2022-09-27 14:00:00  6      4         4         -1        5        \n",
              "51 2022-09-27 20:00:00  9      4         4         -1        6        \n",
              "52 2022-09-28 08:00:00  9      4         2          0        4        \n",
              "53 2022-09-28 14:00:00  6      4         4         -2        3        \n",
              "54 2022-09-28 20:00:00  9      4         3         -1        5        \n",
              "55 2022-09-29 08:00:00  8      4         1         -1        7        \n",
              "56 2022-09-29 14:00:00  6      5         4         -3        5        \n",
              "57 2022-09-29 20:00:00  8      5         3         -2        7        \n",
              "58 2022-09-30 08:00:00  8      5         1         -1        4        \n",
              "59 2022-09-30 14:00:00  6      6         4         -2        2        \n",
              "60 2022-09-30 20:00:00  8      6         3         -2        4        \n",
              "   predict.5 predict.6 predict.7 predict.8 ⋯ predict.10 predict.11 predict.12\n",
              "1   5        3         2         5         ⋯  2         2           3        \n",
              "2   1        3         2         5         ⋯ -1         2           4        \n",
              "3   6        4         2         4         ⋯  1         2           3        \n",
              "4   5        2         2         5         ⋯  5         2           3        \n",
              "5   2        1         2         5         ⋯  1         3           3        \n",
              "6   6        3         2         4         ⋯  3         2           2        \n",
              "7   5        2         2         5         ⋯  4         2           3        \n",
              "8   2        2         2         5         ⋯  0         3           3        \n",
              "9   5        3         2         4         ⋯  2         2           2        \n",
              "10  4        2         2         4         ⋯  4         2           1        \n",
              "11  1        1         2         4         ⋯  1         2           2        \n",
              "12  4        3         2         3         ⋯  3         2           1        \n",
              "13  4        2         2         4         ⋯  4         2           2        \n",
              "14  1        1         2         4         ⋯  1         2           2        \n",
              "15  3        2         2         3         ⋯  3         2           1        \n",
              "16  3        3         2         4         ⋯  4         2           2        \n",
              "17  0        3         2         4         ⋯  1         2           3        \n",
              "18  5        4         2         3         ⋯  2         2           2        \n",
              "19  3        2         2         4         ⋯  6         2           2        \n",
              "20  0        1         2         4         ⋯  3         2           2        \n",
              "21  4        3         2         3         ⋯  4         2           1        \n",
              "22  3        2         2         3         ⋯  5         2           2        \n",
              "23  0        2         2         3         ⋯  2         2           2        \n",
              "24  4        3         2         3         ⋯  3         2           1        \n",
              "25  2        2         2         2         ⋯  5         2           1        \n",
              "26 -1        1         2         3         ⋯  2         2           1        \n",
              "27  3        2         2         2         ⋯  4         2           0        \n",
              "28  2        2         2         2         ⋯  6         2           1        \n",
              "29 -1        1         2         2         ⋯  3         2           1        \n",
              "30  2        2         2         1         ⋯  4         2           0        \n",
              "31  2        3         2         5         ⋯  3         2           2        \n",
              "32  0        3         2         5         ⋯  1         2           2        \n",
              "33  4        4         2         4         ⋯  2         2           1        \n",
              "34  3        3         2         5         ⋯  5         3           2        \n",
              "35  0        2         2         5         ⋯  3         3           2        \n",
              "36  3        3         2         4         ⋯  4         2           1        \n",
              "37  3        3         2         4         ⋯  4         2           1        \n",
              "38  0        2         2         4         ⋯  2         3           2        \n",
              "39  3        3         2         3         ⋯  3         2           1        \n",
              "40  2        2         2         3         ⋯  5         2           0        \n",
              "41 -1        2         2         3         ⋯  2         2           1        \n",
              "42  2        3         2         2         ⋯  3         2           0        \n",
              "43  2        2         2         2         ⋯  5         2           0        \n",
              "44 -1        1         2         2         ⋯  2         2           1        \n",
              "45  2        2         2         2         ⋯  4         2           0        \n",
              "46  1        3         2         3         ⋯  4         2           0        \n",
              "47 -1        3         2         3         ⋯  2         2           0        \n",
              "48  2        3         2         2         ⋯  3         2          -1        \n",
              "49  1        2         2         3         ⋯  6         2           0        \n",
              "50 -2        2         2         3         ⋯  4         2           0        \n",
              "51  1        3         2         2         ⋯  5         2          -1        \n",
              "52  1        2         1         2         ⋯  5         2           0        \n",
              "53 -2        2         2         2         ⋯  3         2           0        \n",
              "54  1        2         2         1         ⋯  4         2          -1        \n",
              "55  0        2         1         1         ⋯  6         1          -1        \n",
              "56 -2        1         2         1         ⋯  3         1          -1        \n",
              "57  0        2         1         1         ⋯  4         1          -2        \n",
              "58  0        2         1         0         ⋯  6         1          -1        \n",
              "59 -3        1         1         0         ⋯  3         1          -1        \n",
              "60  0        2         1         0         ⋯  4         1          -2        \n",
              "   predict.13 predict.14 predict.15 predict.16 predict.17 predict.18 predict.19\n",
              "1   4         4          10         -3         -3         -3         -3        \n",
              "2   2         4          11         -1         -1         -1         -1        \n",
              "3   2         4          11         -2         -2         -2         -2        \n",
              "4   4         4           8         -1         -1         -1         -1        \n",
              "5   3         4           9          0          0          0          0        \n",
              "6   3         4           9         -1         -1         -1         -1        \n",
              "7   4         4           8          0          0          0          0        \n",
              "8   3         4           9          2          2          2          2        \n",
              "9   3         4           9          1          1          1          1        \n",
              "10  3         5           7          0          0          0          0        \n",
              "11  2         4           9          2          2          2          2        \n",
              "12  2         4           8          2          2          2          2        \n",
              "13  4         5           6          1          1          1          1        \n",
              "14  2         4           8          3          3          3          3        \n",
              "15  2         4           7          3          3          3          3        \n",
              "16  2         4          10         -2         -2         -2         -2        \n",
              "17  0         4          12          0          0          0          0        \n",
              "18  0         4          12          0          0          0          0        \n",
              "19  3         5           7          0          0          0          0        \n",
              "20  1         4           9          2          2          2          2        \n",
              "21  1         4           9          2          2          2          2        \n",
              "22  2         5           7          0          0          0          0        \n",
              "23  1         4          10          2          2          2          2        \n",
              "24  1         4           9          2          2          2          2        \n",
              "25  2         5           7          0          0          0          0        \n",
              "26  0         4           9          2          2          2          2        \n",
              "27  0         5           9          3          3          3          3        \n",
              "28  2         5           6          1          1          1          1        \n",
              "29  1         4           8          3          3          3          3        \n",
              "30  0         5           8          3          3          3          3        \n",
              "31  4         4          10         -2         -2         -2         -2        \n",
              "32  2         4          12          1          1          1          1        \n",
              "33  2         4          12          1          1          1          1        \n",
              "34  5         5           7          0          0          0          0        \n",
              "35  3         4           9          2          2          2          2        \n",
              "36  3         4           9          2          2          2          2        \n",
              "37  4         5           7          0          0          0          0        \n",
              "38  3         4          10          2          2          2          2        \n",
              "39  3         4           9          3          3          3          3        \n",
              "40  4         5           7          0          0          0          0        \n",
              "41  3         4           9          3          3          3          3        \n",
              "42  2         4           9          3          3          3          3        \n",
              "43  3         5           6          1          1          1          1        \n",
              "44  2         4           8          3          3          3          3        \n",
              "45  2         4           8          3          3          3          3        \n",
              "46  0         4          11         -2         -2         -2         -2        \n",
              "47 -1         3          13          1          1          1          1        \n",
              "48 -1         3          14          1          1          1          1        \n",
              "49  1         4           8         -1         -1         -1         -1        \n",
              "50  0         3          10          2          2          2          2        \n",
              "51  0         4          10          2          2          2          2        \n",
              "52  0         4           8          0          0          0          0        \n",
              "53 -1         3          10          2          2          2          2        \n",
              "54 -1         3          10          2          2          2          2        \n",
              "55  0         5           7          0          0          0          0        \n",
              "56 -1         4          10          3          3          3          3        \n",
              "57 -1         4          10          3          3          3          3        \n",
              "58 -1         4           6          0          0          0          0        \n",
              "59 -2         4           8          3          3          3          3        \n",
              "60 -2         4           8          3          3          3          3        "
            ]
          },
          "metadata": {}
        }
      ]
    },
    {
      "cell_type": "markdown",
      "source": [
        "Exporte a Excel"
      ],
      "metadata": {
        "id": "ex8t04gKpZpT"
      }
    },
    {
      "cell_type": "code",
      "source": [
        "install.packages(\"xlsx\")\n",
        "library(xlsx)\n",
        "write.xlsx(data_test_GBM,\"data_test_GBM.xlsx\")\n",
        "write.xlsx(data_test_RN,\"data_test_RN.xlsx\")"
      ],
      "metadata": {
        "id": "j0fH-dKvpcL6",
        "colab": {
          "base_uri": "https://localhost:8080/"
        },
        "outputId": "16b53f3e-ca55-4930-b4d1-859240d78a42"
      },
      "execution_count": null,
      "outputs": [
        {
          "output_type": "stream",
          "name": "stderr",
          "text": [
            "Installing package into ‘/usr/local/lib/R/site-library’\n",
            "(as ‘lib’ is unspecified)\n",
            "\n",
            "also installing the dependencies ‘rJava’, ‘xlsxjars’\n",
            "\n",
            "\n"
          ]
        }
      ]
    }
  ]
}