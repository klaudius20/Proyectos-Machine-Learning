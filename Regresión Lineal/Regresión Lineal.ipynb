{
  "nbformat": 4,
  "nbformat_minor": 0,
  "metadata": {
    "colab": {
      "provenance": []
    },
    "kernelspec": {
      "name": "python3",
      "display_name": "Python 3"
    },
    "language_info": {
      "name": "python"
    }
  },
  "cells": [
    {
      "cell_type": "markdown",
      "metadata": {
        "id": "Je0no-rSf9wF"
      },
      "source": [
        "# Ejercicio, Regresión Lineal Simple.\n",
        "\n",
        "Fuente: IBM Maraton 2020.\n",
        "\n",
        "Explicación:\n",
        "\n",
        "El reto de Digital House tiene que ver con la misión y visión de la empresa; la cual busca transformar la vida de las personas, desarrollando competencias digitales, para que generen un impacto positivo en la sociedad.\n",
        "\n",
        "En ese sentido, Digital House busca a través de este desafío medir la empleabilidad de los cursos que disponibiliza en su plataforma. Es decir, qué tan factible es que un alumno o egresado de Digital House acceda al mercado laboral o consiga un trabajo en su área, luego de finalizar uno o varios de los cursos ofrecidos en la plataforma.\n",
        "\n",
        "Entender qué características o variables hacen que una persona sea más o menos empleable es fundamental para la empresa y para generar ese impacto positivo que busca aportar a la sociedad.\n",
        "\n",
        "Ejercicio modificado para clase de I.A. UACh - 2023, Luis Vidal (lvidal@uach.c)\n"
      ]
    },
    {
      "cell_type": "markdown",
      "metadata": {
        "id": "jB_IVn8HgL5t"
      },
      "source": [
        "# Paso 1. Carga de Librerias"
      ]
    },
    {
      "cell_type": "code",
      "metadata": {
        "id": "JP5T_XHyf7xE",
        "colab": {
          "base_uri": "https://localhost:8080/"
        },
        "outputId": "c4bd3bcb-a9db-40f2-d622-371d32f925c3"
      },
      "source": [
        "!pip install scikit-learn --upgrade\n",
        "!pip install scipy --upgrade"
      ],
      "execution_count": null,
      "outputs": [
        {
          "output_type": "stream",
          "name": "stdout",
          "text": [
            "Requirement already satisfied: scikit-learn in /usr/local/lib/python3.7/dist-packages (0.22.2.post1)\n",
            "Collecting scikit-learn\n",
            "  Downloading scikit_learn-1.0.1-cp37-cp37m-manylinux_2_12_x86_64.manylinux2010_x86_64.whl (23.2 MB)\n",
            "\u001b[K     |████████████████████████████████| 23.2 MB 4.6 MB/s \n",
            "\u001b[?25hRequirement already satisfied: numpy>=1.14.6 in /usr/local/lib/python3.7/dist-packages (from scikit-learn) (1.19.5)\n",
            "Requirement already satisfied: joblib>=0.11 in /usr/local/lib/python3.7/dist-packages (from scikit-learn) (1.0.1)\n",
            "Requirement already satisfied: scipy>=1.1.0 in /usr/local/lib/python3.7/dist-packages (from scikit-learn) (1.4.1)\n",
            "Collecting threadpoolctl>=2.0.0\n",
            "  Downloading threadpoolctl-3.0.0-py3-none-any.whl (14 kB)\n",
            "Installing collected packages: threadpoolctl, scikit-learn\n",
            "  Attempting uninstall: scikit-learn\n",
            "    Found existing installation: scikit-learn 0.22.2.post1\n",
            "    Uninstalling scikit-learn-0.22.2.post1:\n",
            "      Successfully uninstalled scikit-learn-0.22.2.post1\n",
            "Successfully installed scikit-learn-1.0.1 threadpoolctl-3.0.0\n",
            "Requirement already satisfied: scipy in /usr/local/lib/python3.7/dist-packages (1.4.1)\n",
            "Collecting scipy\n",
            "  Downloading scipy-1.7.2-cp37-cp37m-manylinux_2_12_x86_64.manylinux2010_x86_64.whl (38.2 MB)\n",
            "\u001b[K     |████████████████████████████████| 38.2 MB 24 kB/s \n",
            "\u001b[?25hRequirement already satisfied: numpy<1.23.0,>=1.16.5 in /usr/local/lib/python3.7/dist-packages (from scipy) (1.19.5)\n",
            "Installing collected packages: scipy\n",
            "  Attempting uninstall: scipy\n",
            "    Found existing installation: scipy 1.4.1\n",
            "    Uninstalling scipy-1.4.1:\n",
            "      Successfully uninstalled scipy-1.4.1\n",
            "\u001b[31mERROR: pip's dependency resolver does not currently take into account all the packages that are installed. This behaviour is the source of the following dependency conflicts.\n",
            "albumentations 0.1.12 requires imgaug<0.2.7,>=0.2.5, but you have imgaug 0.2.9 which is incompatible.\u001b[0m\n",
            "Successfully installed scipy-1.7.2\n"
          ]
        }
      ]
    },
    {
      "cell_type": "markdown",
      "metadata": {
        "id": "fdekaJYQgTtj"
      },
      "source": [
        "# Paso 2. Datos"
      ]
    },
    {
      "cell_type": "markdown",
      "metadata": {
        "id": "xmGD28Otgwlo"
      },
      "source": [
        "Descarga desde GITHUB"
      ]
    },
    {
      "cell_type": "code",
      "metadata": {
        "id": "-ThnRucagY6s",
        "colab": {
          "base_uri": "https://localhost:8080/"
        },
        "outputId": "306b2f5c-5e98-4163-e496-f764bf7aec25"
      },
      "source": [
        "import pandas as pd\n",
        "!wget --no-check-certificate --content-disposition https://raw.githubusercontent.com/vanderlei-test/654986294958/master/train_dataset_digitalhouse.csv"
      ],
      "execution_count": null,
      "outputs": [
        {
          "output_type": "stream",
          "name": "stdout",
          "text": [
            "--2021-11-07 19:58:47--  https://raw.githubusercontent.com/vanderlei-test/654986294958/master/train_dataset_digitalhouse.csv\n",
            "Resolving raw.githubusercontent.com (raw.githubusercontent.com)... 185.199.109.133, 185.199.110.133, 185.199.111.133, ...\n",
            "Connecting to raw.githubusercontent.com (raw.githubusercontent.com)|185.199.109.133|:443... connected.\n",
            "HTTP request sent, awaiting response... 200 OK\n",
            "Length: 654532 (639K) [text/plain]\n",
            "Saving to: ‘train_dataset_digitalhouse.csv’\n",
            "\n",
            "\r          train_dat   0%[                    ]       0  --.-KB/s               \rtrain_dataset_digit 100%[===================>] 639.19K  --.-KB/s    in 0.03s   \n",
            "\n",
            "2021-11-07 19:58:47 (18.6 MB/s) - ‘train_dataset_digitalhouse.csv’ saved [654532/654532]\n",
            "\n"
          ]
        }
      ]
    },
    {
      "cell_type": "markdown",
      "metadata": {
        "id": "mCfv5eNSgqwE"
      },
      "source": [
        "Carga de Datos en el Sistema"
      ]
    },
    {
      "cell_type": "code",
      "metadata": {
        "id": "gmEqM7kBgjM7",
        "colab": {
          "base_uri": "https://localhost:8080/",
          "height": 204
        },
        "outputId": "0838646b-4360-414f-893f-0c3fa18c05ea"
      },
      "source": [
        "df_training_dataset = pd.read_csv(r'train_dataset_digitalhouse.csv')\n",
        "df_training_dataset.tail()"
      ],
      "execution_count": null,
      "outputs": [
        {
          "output_type": "execute_result",
          "data": {
            "text/html": [
              "<div>\n",
              "<style scoped>\n",
              "    .dataframe tbody tr th:only-of-type {\n",
              "        vertical-align: middle;\n",
              "    }\n",
              "\n",
              "    .dataframe tbody tr th {\n",
              "        vertical-align: top;\n",
              "    }\n",
              "\n",
              "    .dataframe thead th {\n",
              "        text-align: right;\n",
              "    }\n",
              "</style>\n",
              "<table border=\"1\" class=\"dataframe\">\n",
              "  <thead>\n",
              "    <tr style=\"text-align: right;\">\n",
              "      <th></th>\n",
              "      <th>Unnamed: 0</th>\n",
              "      <th>EDAD</th>\n",
              "      <th>GENERO</th>\n",
              "      <th>RESIDENCIA</th>\n",
              "      <th>NV_ESTUDIO</th>\n",
              "      <th>ESTUDIO_PREV</th>\n",
              "      <th>TRACK_DH</th>\n",
              "      <th>AVG_DH</th>\n",
              "      <th>MINUTES_DH</th>\n",
              "      <th>EXPERIENCIA</th>\n",
              "      <th>DIAS_EMP</th>\n",
              "    </tr>\n",
              "  </thead>\n",
              "  <tbody>\n",
              "    <tr>\n",
              "      <th>8990</th>\n",
              "      <td>9995</td>\n",
              "      <td>29.0</td>\n",
              "      <td>MASCULINO</td>\n",
              "      <td>ARGENTINA</td>\n",
              "      <td>TERTIARY</td>\n",
              "      <td>DEVELOPMENT</td>\n",
              "      <td>NaN</td>\n",
              "      <td>4.0</td>\n",
              "      <td>4701.6</td>\n",
              "      <td>9.1</td>\n",
              "      <td>86.0</td>\n",
              "    </tr>\n",
              "    <tr>\n",
              "      <th>8991</th>\n",
              "      <td>9996</td>\n",
              "      <td>34.0</td>\n",
              "      <td>NaN</td>\n",
              "      <td>ARGENTINA</td>\n",
              "      <td>UNIVERSITARY</td>\n",
              "      <td>ENGINEERING</td>\n",
              "      <td>PROGRAMACION</td>\n",
              "      <td>3.4</td>\n",
              "      <td>4646.2</td>\n",
              "      <td>16.8</td>\n",
              "      <td>95.0</td>\n",
              "    </tr>\n",
              "    <tr>\n",
              "      <th>8992</th>\n",
              "      <td>9997</td>\n",
              "      <td>28.0</td>\n",
              "      <td>FEMENINO</td>\n",
              "      <td>ARGENTINA</td>\n",
              "      <td>POST_GRADUATE</td>\n",
              "      <td>ENGINEERING</td>\n",
              "      <td>EJECUTIVO</td>\n",
              "      <td>NaN</td>\n",
              "      <td>3315.1</td>\n",
              "      <td>5.6</td>\n",
              "      <td>95.0</td>\n",
              "    </tr>\n",
              "    <tr>\n",
              "      <th>8993</th>\n",
              "      <td>9998</td>\n",
              "      <td>23.0</td>\n",
              "      <td>MASCULINO</td>\n",
              "      <td>MEXICO</td>\n",
              "      <td>TERTIARY</td>\n",
              "      <td>ENGINEERING</td>\n",
              "      <td>PROGRAMACION</td>\n",
              "      <td>3.3</td>\n",
              "      <td>4437.8</td>\n",
              "      <td>0.9</td>\n",
              "      <td>87.0</td>\n",
              "    </tr>\n",
              "    <tr>\n",
              "      <th>8994</th>\n",
              "      <td>9999</td>\n",
              "      <td>36.0</td>\n",
              "      <td>MASCULINO</td>\n",
              "      <td>ARGENTINA</td>\n",
              "      <td>UNIVERSITARY</td>\n",
              "      <td>COMMERCIAL</td>\n",
              "      <td>DATA</td>\n",
              "      <td>3.4</td>\n",
              "      <td>4600.8</td>\n",
              "      <td>19.6</td>\n",
              "      <td>88.0</td>\n",
              "    </tr>\n",
              "  </tbody>\n",
              "</table>\n",
              "</div>"
            ],
            "text/plain": [
              "      Unnamed: 0  EDAD     GENERO  ... MINUTES_DH EXPERIENCIA DIAS_EMP\n",
              "8990        9995  29.0  MASCULINO  ...     4701.6         9.1     86.0\n",
              "8991        9996  34.0        NaN  ...     4646.2        16.8     95.0\n",
              "8992        9997  28.0   FEMENINO  ...     3315.1         5.6     95.0\n",
              "8993        9998  23.0  MASCULINO  ...     4437.8         0.9     87.0\n",
              "8994        9999  36.0  MASCULINO  ...     4600.8        19.6     88.0\n",
              "\n",
              "[5 rows x 11 columns]"
            ]
          },
          "metadata": {},
          "execution_count": 45
        }
      ]
    },
    {
      "cell_type": "markdown",
      "metadata": {
        "id": "YE_R3v51g3Cf"
      },
      "source": [
        "Columnas disponibles para el análisis"
      ]
    },
    {
      "cell_type": "markdown",
      "metadata": {
        "id": "7NR7f-Agg_P2"
      },
      "source": [
        "* Unnamed: 0\n",
        "* EDAD\n",
        "* GENERO\n",
        "* RESIDENCIA\n",
        "* NV_ESTUDIO\n",
        "* ESTUDIO_PREV\n",
        "* TRACK_DH\n",
        "* AVG_DH\n",
        "* MINUTES_DH\n",
        "* EXPERIENCIA\n",
        "\n",
        "* DIAS_EMP = El valor \"target\" que se va a predecir"
      ]
    },
    {
      "cell_type": "code",
      "metadata": {
        "id": "deZy46ychdeA",
        "colab": {
          "base_uri": "https://localhost:8080/"
        },
        "outputId": "17f2c561-ac0b-4ec3-e685-af21fb7f0c70"
      },
      "source": [
        "df_training_dataset.info()"
      ],
      "execution_count": null,
      "outputs": [
        {
          "output_type": "stream",
          "name": "stdout",
          "text": [
            "<class 'pandas.core.frame.DataFrame'>\n",
            "RangeIndex: 8995 entries, 0 to 8994\n",
            "Data columns (total 11 columns):\n",
            " #   Column        Non-Null Count  Dtype  \n",
            "---  ------        --------------  -----  \n",
            " 0   Unnamed: 0    8995 non-null   int64  \n",
            " 1   EDAD          7668 non-null   float64\n",
            " 2   GENERO        7620 non-null   object \n",
            " 3   RESIDENCIA    7638 non-null   object \n",
            " 4   NV_ESTUDIO    7623 non-null   object \n",
            " 5   ESTUDIO_PREV  7665 non-null   object \n",
            " 6   TRACK_DH      7714 non-null   object \n",
            " 7   AVG_DH        7651 non-null   float64\n",
            " 8   MINUTES_DH    7619 non-null   float64\n",
            " 9   EXPERIENCIA   7618 non-null   float64\n",
            " 10  DIAS_EMP      8995 non-null   float64\n",
            "dtypes: float64(5), int64(1), object(5)\n",
            "memory usage: 773.1+ KB\n"
          ]
        }
      ]
    },
    {
      "cell_type": "markdown",
      "metadata": {
        "id": "nRWDwxXohXPc"
      },
      "source": [
        "# Paso 3. Algunos consejos antes de entrenar a un modelo:\n",
        "\n",
        "\n",
        "\n",
        "\n",
        "\n",
        "1. Manejar valores perdidos\n",
        "2. Manejar variables categóricas"
      ]
    },
    {
      "cell_type": "markdown",
      "metadata": {
        "id": "7XrQscEmh7UN"
      },
      "source": [
        "## Remover columnas\n",
        "**Aqui se decidió que solo se borrará la columna unnamed y AVG, ya que la residencia si pudiese influir en la regresión lineal**"
      ]
    },
    {
      "cell_type": "code",
      "metadata": {
        "id": "yitulgM2h_8X",
        "colab": {
          "base_uri": "https://localhost:8080/",
          "height": 204
        },
        "outputId": "b0b4a50a-d4df-48c0-b059-26f491478702"
      },
      "source": [
        "#df_training_dataset_1 = df_training_dataset.drop(columns=['Unnamed: 0', 'RESIDENCIA', 'NV_ESTUDIO', 'ESTUDIO_PREV', 'TRACK_DH'], inplace=False)\n",
        "df_training_dataset_1 = df_training_dataset.drop(columns=['Unnamed: 0', 'AVG_DH'], inplace=False)\n",
        "df_training_dataset_1.tail()"
      ],
      "execution_count": null,
      "outputs": [
        {
          "output_type": "execute_result",
          "data": {
            "text/html": [
              "<div>\n",
              "<style scoped>\n",
              "    .dataframe tbody tr th:only-of-type {\n",
              "        vertical-align: middle;\n",
              "    }\n",
              "\n",
              "    .dataframe tbody tr th {\n",
              "        vertical-align: top;\n",
              "    }\n",
              "\n",
              "    .dataframe thead th {\n",
              "        text-align: right;\n",
              "    }\n",
              "</style>\n",
              "<table border=\"1\" class=\"dataframe\">\n",
              "  <thead>\n",
              "    <tr style=\"text-align: right;\">\n",
              "      <th></th>\n",
              "      <th>EDAD</th>\n",
              "      <th>GENERO</th>\n",
              "      <th>RESIDENCIA</th>\n",
              "      <th>NV_ESTUDIO</th>\n",
              "      <th>ESTUDIO_PREV</th>\n",
              "      <th>TRACK_DH</th>\n",
              "      <th>MINUTES_DH</th>\n",
              "      <th>EXPERIENCIA</th>\n",
              "      <th>DIAS_EMP</th>\n",
              "    </tr>\n",
              "  </thead>\n",
              "  <tbody>\n",
              "    <tr>\n",
              "      <th>8990</th>\n",
              "      <td>29.0</td>\n",
              "      <td>MASCULINO</td>\n",
              "      <td>ARGENTINA</td>\n",
              "      <td>TERTIARY</td>\n",
              "      <td>DEVELOPMENT</td>\n",
              "      <td>NaN</td>\n",
              "      <td>4701.6</td>\n",
              "      <td>9.1</td>\n",
              "      <td>86.0</td>\n",
              "    </tr>\n",
              "    <tr>\n",
              "      <th>8991</th>\n",
              "      <td>34.0</td>\n",
              "      <td>NaN</td>\n",
              "      <td>ARGENTINA</td>\n",
              "      <td>UNIVERSITARY</td>\n",
              "      <td>ENGINEERING</td>\n",
              "      <td>PROGRAMACION</td>\n",
              "      <td>4646.2</td>\n",
              "      <td>16.8</td>\n",
              "      <td>95.0</td>\n",
              "    </tr>\n",
              "    <tr>\n",
              "      <th>8992</th>\n",
              "      <td>28.0</td>\n",
              "      <td>FEMENINO</td>\n",
              "      <td>ARGENTINA</td>\n",
              "      <td>POST_GRADUATE</td>\n",
              "      <td>ENGINEERING</td>\n",
              "      <td>EJECUTIVO</td>\n",
              "      <td>3315.1</td>\n",
              "      <td>5.6</td>\n",
              "      <td>95.0</td>\n",
              "    </tr>\n",
              "    <tr>\n",
              "      <th>8993</th>\n",
              "      <td>23.0</td>\n",
              "      <td>MASCULINO</td>\n",
              "      <td>MEXICO</td>\n",
              "      <td>TERTIARY</td>\n",
              "      <td>ENGINEERING</td>\n",
              "      <td>PROGRAMACION</td>\n",
              "      <td>4437.8</td>\n",
              "      <td>0.9</td>\n",
              "      <td>87.0</td>\n",
              "    </tr>\n",
              "    <tr>\n",
              "      <th>8994</th>\n",
              "      <td>36.0</td>\n",
              "      <td>MASCULINO</td>\n",
              "      <td>ARGENTINA</td>\n",
              "      <td>UNIVERSITARY</td>\n",
              "      <td>COMMERCIAL</td>\n",
              "      <td>DATA</td>\n",
              "      <td>4600.8</td>\n",
              "      <td>19.6</td>\n",
              "      <td>88.0</td>\n",
              "    </tr>\n",
              "  </tbody>\n",
              "</table>\n",
              "</div>"
            ],
            "text/plain": [
              "      EDAD     GENERO RESIDENCIA  ... MINUTES_DH EXPERIENCIA DIAS_EMP\n",
              "8990  29.0  MASCULINO  ARGENTINA  ...     4701.6         9.1     86.0\n",
              "8991  34.0        NaN  ARGENTINA  ...     4646.2        16.8     95.0\n",
              "8992  28.0   FEMENINO  ARGENTINA  ...     3315.1         5.6     95.0\n",
              "8993  23.0  MASCULINO     MEXICO  ...     4437.8         0.9     87.0\n",
              "8994  36.0  MASCULINO  ARGENTINA  ...     4600.8        19.6     88.0\n",
              "\n",
              "[5 rows x 9 columns]"
            ]
          },
          "metadata": {},
          "execution_count": 31
        }
      ]
    },
    {
      "cell_type": "markdown",
      "metadata": {
        "id": "GK3j-D4Fk3B-"
      },
      "source": [
        "Removendo valores NaN ---- se cambia por imputación de valor mas frecuente..."
      ]
    },
    {
      "cell_type": "code",
      "metadata": {
        "id": "hg9Pw4lgk57m",
        "colab": {
          "base_uri": "https://localhost:8080/"
        },
        "outputId": "e434ffd9-dec6-4949-d56d-0dbe5ec2c57f"
      },
      "source": [
        "#df_training_dataset_2 = df_training_dataset_1.dropna()\n",
        "#df_training_dataset_2.tail()\n",
        "\n",
        "from sklearn.impute import SimpleImputer\n",
        "import numpy as np\n",
        "\n",
        "impute_zeros = SimpleImputer(\n",
        "    missing_values=np.nan,\n",
        "    strategy='most_frequent',\n",
        "    #strategy='constant',\n",
        "    #fill_value=0,\n",
        "    verbose=0,\n",
        "    copy=True\n",
        ")\n",
        "\n",
        "print(\"Valores nulos antes de la transformación SimpleImputer: \\n\\n{}\\n\".format(df_training_dataset_1.isnull().sum(axis = 0)))\n",
        "\n",
        "impute_zeros.fit(X=df_training_dataset_1)\n",
        "\n",
        "# Reconstruyendo un Pandas DataFrame con los resultados\n",
        "df_training_dataset_2 = pd.DataFrame.from_records(\n",
        "    data=impute_zeros.transform(\n",
        "        X=df_training_dataset_1\n",
        "    ),\n",
        "    columns=df_training_dataset_1.columns\n",
        ")\n",
        "\n",
        "print(\"Valores nulos antes de la transformación SimpleImputer: \\n\\n{}\\n\".format(df_training_dataset_2.isnull().sum(axis = 0)))"
      ],
      "execution_count": null,
      "outputs": [
        {
          "output_type": "stream",
          "name": "stdout",
          "text": [
            "Valores nulos antes de la transformación SimpleImputer: \n",
            "\n",
            "EDAD            1327\n",
            "GENERO          1375\n",
            "RESIDENCIA      1357\n",
            "NV_ESTUDIO      1372\n",
            "ESTUDIO_PREV    1330\n",
            "TRACK_DH        1281\n",
            "MINUTES_DH      1376\n",
            "EXPERIENCIA     1377\n",
            "DIAS_EMP           0\n",
            "dtype: int64\n",
            "\n",
            "Valores nulos antes de la transformación SimpleImputer: \n",
            "\n",
            "EDAD            0\n",
            "GENERO          0\n",
            "RESIDENCIA      0\n",
            "NV_ESTUDIO      0\n",
            "ESTUDIO_PREV    0\n",
            "TRACK_DH        0\n",
            "MINUTES_DH      0\n",
            "EXPERIENCIA     0\n",
            "DIAS_EMP        0\n",
            "dtype: int64\n",
            "\n"
          ]
        }
      ]
    },
    {
      "cell_type": "markdown",
      "metadata": {
        "id": "5NhbnTaDiPZm"
      },
      "source": [
        "Trabajo con Variables Categóricas, Codificación de Variables Categóricas\n",
        "\n",
        "**Se debe agregar la variable residencia, que tambien es categorica.**"
      ]
    },
    {
      "cell_type": "code",
      "metadata": {
        "id": "XQNFxXXWiTUk",
        "colab": {
          "base_uri": "https://localhost:8080/",
          "height": 224
        },
        "outputId": "63258dfb-7e79-40dd-fc99-c8c81f3ee5f7"
      },
      "source": [
        "# Columnas One-hot-encoding del dataset usando el metodo de Pandas ``get_dummies`` (demontración)\n",
        "#df_training_dataset_3 = pd.get_dummies(df_training_dataset_2, columns=['GENERO'])\n",
        "df_training_dataset_3 = pd.get_dummies(df_training_dataset_2, columns=['GENERO','RESIDENCIA','NV_ESTUDIO','ESTUDIO_PREV','TRACK_DH'])\n",
        "df_training_dataset_3.tail()"
      ],
      "execution_count": null,
      "outputs": [
        {
          "output_type": "execute_result",
          "data": {
            "text/html": [
              "<div>\n",
              "<style scoped>\n",
              "    .dataframe tbody tr th:only-of-type {\n",
              "        vertical-align: middle;\n",
              "    }\n",
              "\n",
              "    .dataframe tbody tr th {\n",
              "        vertical-align: top;\n",
              "    }\n",
              "\n",
              "    .dataframe thead th {\n",
              "        text-align: right;\n",
              "    }\n",
              "</style>\n",
              "<table border=\"1\" class=\"dataframe\">\n",
              "  <thead>\n",
              "    <tr style=\"text-align: right;\">\n",
              "      <th></th>\n",
              "      <th>EDAD</th>\n",
              "      <th>MINUTES_DH</th>\n",
              "      <th>EXPERIENCIA</th>\n",
              "      <th>DIAS_EMP</th>\n",
              "      <th>GENERO_FEMENINO</th>\n",
              "      <th>GENERO_MASCULINO</th>\n",
              "      <th>RESIDENCIA_ARGENTINA</th>\n",
              "      <th>RESIDENCIA_BRAZIL</th>\n",
              "      <th>RESIDENCIA_MEXICO</th>\n",
              "      <th>NV_ESTUDIO_POST_GRADUATE</th>\n",
              "      <th>NV_ESTUDIO_TERTIARY</th>\n",
              "      <th>NV_ESTUDIO_UNIVERSITARY</th>\n",
              "      <th>ESTUDIO_PREV_BUSINESS</th>\n",
              "      <th>ESTUDIO_PREV_COMMERCIAL</th>\n",
              "      <th>ESTUDIO_PREV_DEVELOPMENT</th>\n",
              "      <th>ESTUDIO_PREV_ENGINEERING</th>\n",
              "      <th>ESTUDIO_PREV_MARKETING</th>\n",
              "      <th>TRACK_DH_DATA</th>\n",
              "      <th>TRACK_DH_EJECUTIVO</th>\n",
              "      <th>TRACK_DH_MARKETING</th>\n",
              "      <th>TRACK_DH_PROGRAMACION</th>\n",
              "    </tr>\n",
              "  </thead>\n",
              "  <tbody>\n",
              "    <tr>\n",
              "      <th>8990</th>\n",
              "      <td>29.0</td>\n",
              "      <td>4701.6</td>\n",
              "      <td>9.1</td>\n",
              "      <td>86.0</td>\n",
              "      <td>0</td>\n",
              "      <td>1</td>\n",
              "      <td>1</td>\n",
              "      <td>0</td>\n",
              "      <td>0</td>\n",
              "      <td>0</td>\n",
              "      <td>1</td>\n",
              "      <td>0</td>\n",
              "      <td>0</td>\n",
              "      <td>0</td>\n",
              "      <td>1</td>\n",
              "      <td>0</td>\n",
              "      <td>0</td>\n",
              "      <td>1</td>\n",
              "      <td>0</td>\n",
              "      <td>0</td>\n",
              "      <td>0</td>\n",
              "    </tr>\n",
              "    <tr>\n",
              "      <th>8991</th>\n",
              "      <td>34.0</td>\n",
              "      <td>4646.2</td>\n",
              "      <td>16.8</td>\n",
              "      <td>95.0</td>\n",
              "      <td>0</td>\n",
              "      <td>1</td>\n",
              "      <td>1</td>\n",
              "      <td>0</td>\n",
              "      <td>0</td>\n",
              "      <td>0</td>\n",
              "      <td>0</td>\n",
              "      <td>1</td>\n",
              "      <td>0</td>\n",
              "      <td>0</td>\n",
              "      <td>0</td>\n",
              "      <td>1</td>\n",
              "      <td>0</td>\n",
              "      <td>0</td>\n",
              "      <td>0</td>\n",
              "      <td>0</td>\n",
              "      <td>1</td>\n",
              "    </tr>\n",
              "    <tr>\n",
              "      <th>8992</th>\n",
              "      <td>28.0</td>\n",
              "      <td>3315.1</td>\n",
              "      <td>5.6</td>\n",
              "      <td>95.0</td>\n",
              "      <td>1</td>\n",
              "      <td>0</td>\n",
              "      <td>1</td>\n",
              "      <td>0</td>\n",
              "      <td>0</td>\n",
              "      <td>1</td>\n",
              "      <td>0</td>\n",
              "      <td>0</td>\n",
              "      <td>0</td>\n",
              "      <td>0</td>\n",
              "      <td>0</td>\n",
              "      <td>1</td>\n",
              "      <td>0</td>\n",
              "      <td>0</td>\n",
              "      <td>1</td>\n",
              "      <td>0</td>\n",
              "      <td>0</td>\n",
              "    </tr>\n",
              "    <tr>\n",
              "      <th>8993</th>\n",
              "      <td>23.0</td>\n",
              "      <td>4437.8</td>\n",
              "      <td>0.9</td>\n",
              "      <td>87.0</td>\n",
              "      <td>0</td>\n",
              "      <td>1</td>\n",
              "      <td>0</td>\n",
              "      <td>0</td>\n",
              "      <td>1</td>\n",
              "      <td>0</td>\n",
              "      <td>1</td>\n",
              "      <td>0</td>\n",
              "      <td>0</td>\n",
              "      <td>0</td>\n",
              "      <td>0</td>\n",
              "      <td>1</td>\n",
              "      <td>0</td>\n",
              "      <td>0</td>\n",
              "      <td>0</td>\n",
              "      <td>0</td>\n",
              "      <td>1</td>\n",
              "    </tr>\n",
              "    <tr>\n",
              "      <th>8994</th>\n",
              "      <td>36.0</td>\n",
              "      <td>4600.8</td>\n",
              "      <td>19.6</td>\n",
              "      <td>88.0</td>\n",
              "      <td>0</td>\n",
              "      <td>1</td>\n",
              "      <td>1</td>\n",
              "      <td>0</td>\n",
              "      <td>0</td>\n",
              "      <td>0</td>\n",
              "      <td>0</td>\n",
              "      <td>1</td>\n",
              "      <td>0</td>\n",
              "      <td>1</td>\n",
              "      <td>0</td>\n",
              "      <td>0</td>\n",
              "      <td>0</td>\n",
              "      <td>1</td>\n",
              "      <td>0</td>\n",
              "      <td>0</td>\n",
              "      <td>0</td>\n",
              "    </tr>\n",
              "  </tbody>\n",
              "</table>\n",
              "</div>"
            ],
            "text/plain": [
              "      EDAD  MINUTES_DH  ...  TRACK_DH_MARKETING  TRACK_DH_PROGRAMACION\n",
              "8990  29.0      4701.6  ...                   0                      0\n",
              "8991  34.0      4646.2  ...                   0                      1\n",
              "8992  28.0      3315.1  ...                   0                      0\n",
              "8993  23.0      4437.8  ...                   0                      1\n",
              "8994  36.0      4600.8  ...                   0                      0\n",
              "\n",
              "[5 rows x 21 columns]"
            ]
          },
          "metadata": {},
          "execution_count": 33
        }
      ]
    },
    {
      "cell_type": "markdown",
      "metadata": {
        "id": "x5H39Cm9iazQ"
      },
      "source": [
        "# Paso 4. Selección de columnas features y target (objetivo)"
      ]
    },
    {
      "cell_type": "code",
      "metadata": {
        "id": "E7WHhmpWiiGq",
        "colab": {
          "base_uri": "https://localhost:8080/"
        },
        "outputId": "a537a60e-650a-46a1-e06f-49675f570530"
      },
      "source": [
        "df_training_dataset_3.columns"
      ],
      "execution_count": null,
      "outputs": [
        {
          "output_type": "execute_result",
          "data": {
            "text/plain": [
              "Index(['EDAD', 'MINUTES_DH', 'EXPERIENCIA', 'DIAS_EMP', 'GENERO_FEMENINO',\n",
              "       'GENERO_MASCULINO', 'RESIDENCIA_ARGENTINA', 'RESIDENCIA_BRAZIL',\n",
              "       'RESIDENCIA_MEXICO', 'NV_ESTUDIO_POST_GRADUATE', 'NV_ESTUDIO_TERTIARY',\n",
              "       'NV_ESTUDIO_UNIVERSITARY', 'ESTUDIO_PREV_BUSINESS',\n",
              "       'ESTUDIO_PREV_COMMERCIAL', 'ESTUDIO_PREV_DEVELOPMENT',\n",
              "       'ESTUDIO_PREV_ENGINEERING', 'ESTUDIO_PREV_MARKETING', 'TRACK_DH_DATA',\n",
              "       'TRACK_DH_EJECUTIVO', 'TRACK_DH_MARKETING', 'TRACK_DH_PROGRAMACION'],\n",
              "      dtype='object')"
            ]
          },
          "metadata": {},
          "execution_count": 34
        }
      ]
    },
    {
      "cell_type": "code",
      "metadata": {
        "id": "bIjxRXukijul"
      },
      "source": [
        "features = df_training_dataset_3[\n",
        "    [\n",
        "        #'EDAD', 'AVG_DH', 'MINUTES_DH', 'EXPERIENCIA',\n",
        "        #'GENERO_FEMENINO', 'GENERO_MASCULINO'\n",
        "\n",
        "       'EDAD', 'MINUTES_DH', 'EXPERIENCIA', 'DIAS_EMP',\n",
        "       'GENERO_FEMENINO', 'GENERO_MASCULINO', 'RESIDENCIA_ARGENTINA',\n",
        "       'RESIDENCIA_BRAZIL', 'RESIDENCIA_MEXICO', 'NV_ESTUDIO_POST_GRADUATE',\n",
        "       'NV_ESTUDIO_TERTIARY', 'NV_ESTUDIO_UNIVERSITARY',\n",
        "       'ESTUDIO_PREV_BUSINESS', 'ESTUDIO_PREV_COMMERCIAL',\n",
        "       'ESTUDIO_PREV_DEVELOPMENT', 'ESTUDIO_PREV_ENGINEERING',\n",
        "       'ESTUDIO_PREV_MARKETING', 'TRACK_DH_DATA', 'TRACK_DH_EJECUTIVO',\n",
        "       'TRACK_DH_MARKETING', 'TRACK_DH_PROGRAMACION'\n",
        "    ]\n",
        "]"
      ],
      "execution_count": null,
      "outputs": []
    },
    {
      "cell_type": "markdown",
      "metadata": {
        "id": "iYqlHfcLCAzn"
      },
      "source": [
        "**Ahora, con la variable residencia agregada, nos percatamos que ahora hay mas parametros que considerar a la hora de realizar la regresión lineal.**"
      ]
    },
    {
      "cell_type": "code",
      "metadata": {
        "id": "PGztMmdqioVO"
      },
      "source": [
        "target = df_training_dataset_3['DIAS_EMP']  ## NO CAMBIE EL NOMBRE DE LA VARIABLE \"target\"."
      ],
      "execution_count": null,
      "outputs": []
    },
    {
      "cell_type": "code",
      "metadata": {
        "id": "N9yIdC5ilTh7",
        "colab": {
          "base_uri": "https://localhost:8080/",
          "height": 439
        },
        "outputId": "24488694-76f7-4d73-8da7-8100031e4ec7"
      },
      "source": [
        "features"
      ],
      "execution_count": null,
      "outputs": [
        {
          "output_type": "execute_result",
          "data": {
            "text/html": [
              "<div>\n",
              "<style scoped>\n",
              "    .dataframe tbody tr th:only-of-type {\n",
              "        vertical-align: middle;\n",
              "    }\n",
              "\n",
              "    .dataframe tbody tr th {\n",
              "        vertical-align: top;\n",
              "    }\n",
              "\n",
              "    .dataframe thead th {\n",
              "        text-align: right;\n",
              "    }\n",
              "</style>\n",
              "<table border=\"1\" class=\"dataframe\">\n",
              "  <thead>\n",
              "    <tr style=\"text-align: right;\">\n",
              "      <th></th>\n",
              "      <th>EDAD</th>\n",
              "      <th>MINUTES_DH</th>\n",
              "      <th>EXPERIENCIA</th>\n",
              "      <th>DIAS_EMP</th>\n",
              "      <th>GENERO_FEMENINO</th>\n",
              "      <th>GENERO_MASCULINO</th>\n",
              "      <th>RESIDENCIA_ARGENTINA</th>\n",
              "      <th>RESIDENCIA_BRAZIL</th>\n",
              "      <th>RESIDENCIA_MEXICO</th>\n",
              "      <th>NV_ESTUDIO_POST_GRADUATE</th>\n",
              "      <th>NV_ESTUDIO_TERTIARY</th>\n",
              "      <th>NV_ESTUDIO_UNIVERSITARY</th>\n",
              "      <th>ESTUDIO_PREV_BUSINESS</th>\n",
              "      <th>ESTUDIO_PREV_COMMERCIAL</th>\n",
              "      <th>ESTUDIO_PREV_DEVELOPMENT</th>\n",
              "      <th>ESTUDIO_PREV_ENGINEERING</th>\n",
              "      <th>ESTUDIO_PREV_MARKETING</th>\n",
              "      <th>TRACK_DH_DATA</th>\n",
              "      <th>TRACK_DH_EJECUTIVO</th>\n",
              "      <th>TRACK_DH_MARKETING</th>\n",
              "      <th>TRACK_DH_PROGRAMACION</th>\n",
              "    </tr>\n",
              "  </thead>\n",
              "  <tbody>\n",
              "    <tr>\n",
              "      <th>0</th>\n",
              "      <td>37.0</td>\n",
              "      <td>4131.5</td>\n",
              "      <td>21.3</td>\n",
              "      <td>97.0</td>\n",
              "      <td>1</td>\n",
              "      <td>0</td>\n",
              "      <td>0</td>\n",
              "      <td>1</td>\n",
              "      <td>0</td>\n",
              "      <td>0</td>\n",
              "      <td>0</td>\n",
              "      <td>1</td>\n",
              "      <td>0</td>\n",
              "      <td>0</td>\n",
              "      <td>0</td>\n",
              "      <td>1</td>\n",
              "      <td>0</td>\n",
              "      <td>0</td>\n",
              "      <td>0</td>\n",
              "      <td>0</td>\n",
              "      <td>1</td>\n",
              "    </tr>\n",
              "    <tr>\n",
              "      <th>1</th>\n",
              "      <td>40.0</td>\n",
              "      <td>4160.4</td>\n",
              "      <td>25.2</td>\n",
              "      <td>102.0</td>\n",
              "      <td>1</td>\n",
              "      <td>0</td>\n",
              "      <td>1</td>\n",
              "      <td>0</td>\n",
              "      <td>0</td>\n",
              "      <td>0</td>\n",
              "      <td>0</td>\n",
              "      <td>1</td>\n",
              "      <td>0</td>\n",
              "      <td>1</td>\n",
              "      <td>0</td>\n",
              "      <td>0</td>\n",
              "      <td>0</td>\n",
              "      <td>0</td>\n",
              "      <td>0</td>\n",
              "      <td>0</td>\n",
              "      <td>1</td>\n",
              "    </tr>\n",
              "    <tr>\n",
              "      <th>2</th>\n",
              "      <td>35.0</td>\n",
              "      <td>4087.6</td>\n",
              "      <td>18.0</td>\n",
              "      <td>89.0</td>\n",
              "      <td>0</td>\n",
              "      <td>1</td>\n",
              "      <td>1</td>\n",
              "      <td>0</td>\n",
              "      <td>0</td>\n",
              "      <td>0</td>\n",
              "      <td>0</td>\n",
              "      <td>1</td>\n",
              "      <td>0</td>\n",
              "      <td>0</td>\n",
              "      <td>1</td>\n",
              "      <td>0</td>\n",
              "      <td>0</td>\n",
              "      <td>1</td>\n",
              "      <td>0</td>\n",
              "      <td>0</td>\n",
              "      <td>0</td>\n",
              "    </tr>\n",
              "    <tr>\n",
              "      <th>3</th>\n",
              "      <td>33.0</td>\n",
              "      <td>4043.2</td>\n",
              "      <td>13.6</td>\n",
              "      <td>96.0</td>\n",
              "      <td>1</td>\n",
              "      <td>0</td>\n",
              "      <td>0</td>\n",
              "      <td>1</td>\n",
              "      <td>0</td>\n",
              "      <td>0</td>\n",
              "      <td>0</td>\n",
              "      <td>1</td>\n",
              "      <td>0</td>\n",
              "      <td>0</td>\n",
              "      <td>0</td>\n",
              "      <td>1</td>\n",
              "      <td>0</td>\n",
              "      <td>1</td>\n",
              "      <td>0</td>\n",
              "      <td>0</td>\n",
              "      <td>0</td>\n",
              "    </tr>\n",
              "    <tr>\n",
              "      <th>4</th>\n",
              "      <td>29.0</td>\n",
              "      <td>4688.0</td>\n",
              "      <td>16.1</td>\n",
              "      <td>83.0</td>\n",
              "      <td>0</td>\n",
              "      <td>1</td>\n",
              "      <td>0</td>\n",
              "      <td>1</td>\n",
              "      <td>0</td>\n",
              "      <td>0</td>\n",
              "      <td>0</td>\n",
              "      <td>1</td>\n",
              "      <td>0</td>\n",
              "      <td>0</td>\n",
              "      <td>1</td>\n",
              "      <td>0</td>\n",
              "      <td>0</td>\n",
              "      <td>1</td>\n",
              "      <td>0</td>\n",
              "      <td>0</td>\n",
              "      <td>0</td>\n",
              "    </tr>\n",
              "    <tr>\n",
              "      <th>...</th>\n",
              "      <td>...</td>\n",
              "      <td>...</td>\n",
              "      <td>...</td>\n",
              "      <td>...</td>\n",
              "      <td>...</td>\n",
              "      <td>...</td>\n",
              "      <td>...</td>\n",
              "      <td>...</td>\n",
              "      <td>...</td>\n",
              "      <td>...</td>\n",
              "      <td>...</td>\n",
              "      <td>...</td>\n",
              "      <td>...</td>\n",
              "      <td>...</td>\n",
              "      <td>...</td>\n",
              "      <td>...</td>\n",
              "      <td>...</td>\n",
              "      <td>...</td>\n",
              "      <td>...</td>\n",
              "      <td>...</td>\n",
              "      <td>...</td>\n",
              "    </tr>\n",
              "    <tr>\n",
              "      <th>8990</th>\n",
              "      <td>29.0</td>\n",
              "      <td>4701.6</td>\n",
              "      <td>9.1</td>\n",
              "      <td>86.0</td>\n",
              "      <td>0</td>\n",
              "      <td>1</td>\n",
              "      <td>1</td>\n",
              "      <td>0</td>\n",
              "      <td>0</td>\n",
              "      <td>0</td>\n",
              "      <td>1</td>\n",
              "      <td>0</td>\n",
              "      <td>0</td>\n",
              "      <td>0</td>\n",
              "      <td>1</td>\n",
              "      <td>0</td>\n",
              "      <td>0</td>\n",
              "      <td>1</td>\n",
              "      <td>0</td>\n",
              "      <td>0</td>\n",
              "      <td>0</td>\n",
              "    </tr>\n",
              "    <tr>\n",
              "      <th>8991</th>\n",
              "      <td>34.0</td>\n",
              "      <td>4646.2</td>\n",
              "      <td>16.8</td>\n",
              "      <td>95.0</td>\n",
              "      <td>0</td>\n",
              "      <td>1</td>\n",
              "      <td>1</td>\n",
              "      <td>0</td>\n",
              "      <td>0</td>\n",
              "      <td>0</td>\n",
              "      <td>0</td>\n",
              "      <td>1</td>\n",
              "      <td>0</td>\n",
              "      <td>0</td>\n",
              "      <td>0</td>\n",
              "      <td>1</td>\n",
              "      <td>0</td>\n",
              "      <td>0</td>\n",
              "      <td>0</td>\n",
              "      <td>0</td>\n",
              "      <td>1</td>\n",
              "    </tr>\n",
              "    <tr>\n",
              "      <th>8992</th>\n",
              "      <td>28.0</td>\n",
              "      <td>3315.1</td>\n",
              "      <td>5.6</td>\n",
              "      <td>95.0</td>\n",
              "      <td>1</td>\n",
              "      <td>0</td>\n",
              "      <td>1</td>\n",
              "      <td>0</td>\n",
              "      <td>0</td>\n",
              "      <td>1</td>\n",
              "      <td>0</td>\n",
              "      <td>0</td>\n",
              "      <td>0</td>\n",
              "      <td>0</td>\n",
              "      <td>0</td>\n",
              "      <td>1</td>\n",
              "      <td>0</td>\n",
              "      <td>0</td>\n",
              "      <td>1</td>\n",
              "      <td>0</td>\n",
              "      <td>0</td>\n",
              "    </tr>\n",
              "    <tr>\n",
              "      <th>8993</th>\n",
              "      <td>23.0</td>\n",
              "      <td>4437.8</td>\n",
              "      <td>0.9</td>\n",
              "      <td>87.0</td>\n",
              "      <td>0</td>\n",
              "      <td>1</td>\n",
              "      <td>0</td>\n",
              "      <td>0</td>\n",
              "      <td>1</td>\n",
              "      <td>0</td>\n",
              "      <td>1</td>\n",
              "      <td>0</td>\n",
              "      <td>0</td>\n",
              "      <td>0</td>\n",
              "      <td>0</td>\n",
              "      <td>1</td>\n",
              "      <td>0</td>\n",
              "      <td>0</td>\n",
              "      <td>0</td>\n",
              "      <td>0</td>\n",
              "      <td>1</td>\n",
              "    </tr>\n",
              "    <tr>\n",
              "      <th>8994</th>\n",
              "      <td>36.0</td>\n",
              "      <td>4600.8</td>\n",
              "      <td>19.6</td>\n",
              "      <td>88.0</td>\n",
              "      <td>0</td>\n",
              "      <td>1</td>\n",
              "      <td>1</td>\n",
              "      <td>0</td>\n",
              "      <td>0</td>\n",
              "      <td>0</td>\n",
              "      <td>0</td>\n",
              "      <td>1</td>\n",
              "      <td>0</td>\n",
              "      <td>1</td>\n",
              "      <td>0</td>\n",
              "      <td>0</td>\n",
              "      <td>0</td>\n",
              "      <td>1</td>\n",
              "      <td>0</td>\n",
              "      <td>0</td>\n",
              "      <td>0</td>\n",
              "    </tr>\n",
              "  </tbody>\n",
              "</table>\n",
              "<p>8995 rows × 21 columns</p>\n",
              "</div>"
            ],
            "text/plain": [
              "      EDAD  MINUTES_DH  ...  TRACK_DH_MARKETING  TRACK_DH_PROGRAMACION\n",
              "0     37.0      4131.5  ...                   0                      1\n",
              "1     40.0      4160.4  ...                   0                      1\n",
              "2     35.0      4087.6  ...                   0                      0\n",
              "3     33.0      4043.2  ...                   0                      0\n",
              "4     29.0      4688.0  ...                   0                      0\n",
              "...    ...         ...  ...                 ...                    ...\n",
              "8990  29.0      4701.6  ...                   0                      0\n",
              "8991  34.0      4646.2  ...                   0                      1\n",
              "8992  28.0      3315.1  ...                   0                      0\n",
              "8993  23.0      4437.8  ...                   0                      1\n",
              "8994  36.0      4600.8  ...                   0                      0\n",
              "\n",
              "[8995 rows x 21 columns]"
            ]
          },
          "metadata": {},
          "execution_count": 37
        }
      ]
    },
    {
      "cell_type": "code",
      "metadata": {
        "id": "PvCkQoszlVxg",
        "colab": {
          "base_uri": "https://localhost:8080/"
        },
        "outputId": "2e250e83-320a-42a1-a9c6-3d8f71cf7e43"
      },
      "source": [
        "target"
      ],
      "execution_count": null,
      "outputs": [
        {
          "output_type": "execute_result",
          "data": {
            "text/plain": [
              "0        97.0\n",
              "1       102.0\n",
              "2        89.0\n",
              "3        96.0\n",
              "4        83.0\n",
              "        ...  \n",
              "8990     86.0\n",
              "8991     95.0\n",
              "8992     95.0\n",
              "8993     87.0\n",
              "8994     88.0\n",
              "Name: DIAS_EMP, Length: 8995, dtype: float64"
            ]
          },
          "metadata": {},
          "execution_count": 38
        }
      ]
    },
    {
      "cell_type": "markdown",
      "metadata": {
        "id": "QhJZKLFTiuNO"
      },
      "source": [
        "# Paso 5. Separar Datos , dividir datos para una prueba ciega."
      ]
    },
    {
      "cell_type": "code",
      "metadata": {
        "id": "Zag4Szdsi1cG"
      },
      "source": [
        "from sklearn.model_selection import train_test_split"
      ],
      "execution_count": null,
      "outputs": []
    },
    {
      "cell_type": "code",
      "metadata": {
        "id": "8p8DgQhui3UT"
      },
      "source": [
        "X_train, X_test, y_train, y_test = train_test_split(features, target, test_size=0.2, random_state=133)"
      ],
      "execution_count": null,
      "outputs": []
    },
    {
      "cell_type": "markdown",
      "metadata": {
        "id": "5cT2Lh0Di6rV"
      },
      "source": [
        "## Paso 6. Entreanamiento del modelo"
      ]
    },
    {
      "cell_type": "markdown",
      "metadata": {
        "id": "Rpp0pBjNi-_g"
      },
      "source": [
        "Se entrena un modelo de regresión lineal simple"
      ]
    },
    {
      "cell_type": "code",
      "metadata": {
        "id": "_vK1kHUbjFcn"
      },
      "source": [
        "from sklearn.linear_model import LinearRegression"
      ],
      "execution_count": null,
      "outputs": []
    },
    {
      "cell_type": "code",
      "metadata": {
        "id": "yUWim1lojGuF"
      },
      "source": [
        "regression_model = LinearRegression().fit(X_train, y_train)"
      ],
      "execution_count": null,
      "outputs": []
    },
    {
      "cell_type": "markdown",
      "metadata": {
        "id": "QQXJFQXhjOja"
      },
      "source": [
        "# Paso 7. Evaluación del modelo"
      ]
    },
    {
      "cell_type": "code",
      "metadata": {
        "id": "IuatZ0VLjT89",
        "colab": {
          "base_uri": "https://localhost:8080/"
        },
        "outputId": "618638eb-f0cd-4710-f3db-b7130bebb4eb"
      },
      "source": [
        "regression_model.score(X_test, y_test)"
      ],
      "execution_count": null,
      "outputs": [
        {
          "output_type": "execute_result",
          "data": {
            "text/plain": [
              "1.0"
            ]
          },
          "metadata": {},
          "execution_count": 44
        }
      ]
    },
    {
      "cell_type": "markdown",
      "metadata": {
        "id": "c4qmlLKVBXCj"
      },
      "source": [
        "**Finalmente, el modelo original se habia decidio borrar la columna de residencia, sin embargo, ahora es considerada en este nuevo modelo, quedando un valor de regresión lineal de 1, valor que indica que los datos se ajustan perfectamente en una regla de forma lineal.**"
      ]
    }
  ]
}