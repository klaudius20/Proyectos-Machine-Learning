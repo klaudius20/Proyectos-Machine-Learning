{
  "nbformat": 4,
  "nbformat_minor": 0,
  "metadata": {
    "colab": {
      "provenance": []
    },
    "kernelspec": {
      "name": "python3",
      "display_name": "Python 3"
    },
    "language_info": {
      "name": "python"
    }
  },
  "cells": [
    {
      "cell_type": "markdown",
      "metadata": {
        "id": "D6kscbWdqwwS"
      },
      "source": [
        "# **Curso de Inteligencia Artificial**\n",
        "\n",
        "Universidad Austral de Chile, año 2023.\n",
        "\n",
        "Tema: Bayes Ingenuo\n",
        "\n",
        "Fuente: https://www.aprendemachinelearning.com/comprar-casa-o-alquilar-naive-bayes-usando-python/\n",
        "\n",
        "Adaptación, apuntes adicionales a Notebook: Luis Vidal (lvidal@uach.cl)\n",
        "\n"
      ]
    },
    {
      "cell_type": "markdown",
      "metadata": {
        "id": "b_vC7wi0w1sB"
      },
      "source": [
        "# **Video Apoyo Bayes**"
      ]
    },
    {
      "cell_type": "markdown",
      "metadata": {
        "id": "fMj4oqgFw6PS"
      },
      "source": [
        "Cómo escapar de la trampa bayesiana\n",
        "\n",
        "[Vídeo en Youtube](https://www.youtube.com/watch?v=D7KKlC0LOyw&ab_channel=Veritasiumenespa%C3%B1ol)"
      ]
    },
    {
      "cell_type": "markdown",
      "metadata": {
        "id": "s9tbzfWdvHE6"
      },
      "source": [
        "# **Librerias Requeridas**"
      ]
    },
    {
      "cell_type": "code",
      "metadata": {
        "id": "qni-7vFzqvLK"
      },
      "source": [
        "#Carga de Librerias\n",
        "import pandas as pd\n",
        "import numpy as np\n",
        "import matplotlib.pyplot as plt\n",
        "from matplotlib import colors\n",
        "import seaborn as sb\n",
        "\n",
        "%matplotlib inline\n",
        "plt.rcParams['figure.figsize'] = (16, 9)\n",
        "plt.style.use('ggplot')\n",
        "\n",
        "from sklearn.model_selection import train_test_split\n",
        "from sklearn.metrics import classification_report\n",
        "from sklearn.metrics import confusion_matrix\n",
        "from sklearn.naive_bayes import GaussianNB\n",
        "from sklearn.feature_selection import SelectKBest"
      ],
      "execution_count": null,
      "outputs": []
    },
    {
      "cell_type": "markdown",
      "metadata": {
        "id": "huF27DO5docU"
      },
      "source": [
        "# **Carga de Datos**"
      ]
    },
    {
      "cell_type": "code",
      "metadata": {
        "id": "RIBMte53rON6",
        "colab": {
          "base_uri": "https://localhost:8080/",
          "height": 359
        },
        "outputId": "c7b337be-3e35-4a78-a23c-6c40327fad88"
      },
      "source": [
        "# Ustilizando pandas, se carga archivo en memoria como dataframe\n",
        "df = pd.read_csv(\"diabetes.csv\")\n",
        "df.head(10)"
      ],
      "execution_count": null,
      "outputs": [
        {
          "output_type": "execute_result",
          "data": {
            "text/html": [
              "<div>\n",
              "<style scoped>\n",
              "    .dataframe tbody tr th:only-of-type {\n",
              "        vertical-align: middle;\n",
              "    }\n",
              "\n",
              "    .dataframe tbody tr th {\n",
              "        vertical-align: top;\n",
              "    }\n",
              "\n",
              "    .dataframe thead th {\n",
              "        text-align: right;\n",
              "    }\n",
              "</style>\n",
              "<table border=\"1\" class=\"dataframe\">\n",
              "  <thead>\n",
              "    <tr style=\"text-align: right;\">\n",
              "      <th></th>\n",
              "      <th>preg</th>\n",
              "      <th>plas</th>\n",
              "      <th>pres</th>\n",
              "      <th>skin</th>\n",
              "      <th>insu</th>\n",
              "      <th>mass</th>\n",
              "      <th>pedi</th>\n",
              "      <th>age</th>\n",
              "      <th>class</th>\n",
              "    </tr>\n",
              "  </thead>\n",
              "  <tbody>\n",
              "    <tr>\n",
              "      <th>0</th>\n",
              "      <td>6</td>\n",
              "      <td>148</td>\n",
              "      <td>72</td>\n",
              "      <td>35</td>\n",
              "      <td>0</td>\n",
              "      <td>33.6</td>\n",
              "      <td>0.627</td>\n",
              "      <td>50</td>\n",
              "      <td>tested_positive</td>\n",
              "    </tr>\n",
              "    <tr>\n",
              "      <th>1</th>\n",
              "      <td>1</td>\n",
              "      <td>85</td>\n",
              "      <td>66</td>\n",
              "      <td>29</td>\n",
              "      <td>0</td>\n",
              "      <td>26.6</td>\n",
              "      <td>0.351</td>\n",
              "      <td>31</td>\n",
              "      <td>tested_negative</td>\n",
              "    </tr>\n",
              "    <tr>\n",
              "      <th>2</th>\n",
              "      <td>8</td>\n",
              "      <td>183</td>\n",
              "      <td>64</td>\n",
              "      <td>0</td>\n",
              "      <td>0</td>\n",
              "      <td>23.3</td>\n",
              "      <td>0.672</td>\n",
              "      <td>32</td>\n",
              "      <td>tested_positive</td>\n",
              "    </tr>\n",
              "    <tr>\n",
              "      <th>3</th>\n",
              "      <td>1</td>\n",
              "      <td>89</td>\n",
              "      <td>66</td>\n",
              "      <td>23</td>\n",
              "      <td>94</td>\n",
              "      <td>28.1</td>\n",
              "      <td>0.167</td>\n",
              "      <td>21</td>\n",
              "      <td>tested_negative</td>\n",
              "    </tr>\n",
              "    <tr>\n",
              "      <th>4</th>\n",
              "      <td>0</td>\n",
              "      <td>137</td>\n",
              "      <td>40</td>\n",
              "      <td>35</td>\n",
              "      <td>168</td>\n",
              "      <td>43.1</td>\n",
              "      <td>2.288</td>\n",
              "      <td>33</td>\n",
              "      <td>tested_positive</td>\n",
              "    </tr>\n",
              "    <tr>\n",
              "      <th>5</th>\n",
              "      <td>5</td>\n",
              "      <td>116</td>\n",
              "      <td>74</td>\n",
              "      <td>0</td>\n",
              "      <td>0</td>\n",
              "      <td>25.6</td>\n",
              "      <td>0.201</td>\n",
              "      <td>30</td>\n",
              "      <td>tested_negative</td>\n",
              "    </tr>\n",
              "    <tr>\n",
              "      <th>6</th>\n",
              "      <td>3</td>\n",
              "      <td>78</td>\n",
              "      <td>50</td>\n",
              "      <td>32</td>\n",
              "      <td>88</td>\n",
              "      <td>31.0</td>\n",
              "      <td>0.248</td>\n",
              "      <td>26</td>\n",
              "      <td>tested_positive</td>\n",
              "    </tr>\n",
              "    <tr>\n",
              "      <th>7</th>\n",
              "      <td>10</td>\n",
              "      <td>115</td>\n",
              "      <td>0</td>\n",
              "      <td>0</td>\n",
              "      <td>0</td>\n",
              "      <td>35.3</td>\n",
              "      <td>0.134</td>\n",
              "      <td>29</td>\n",
              "      <td>tested_negative</td>\n",
              "    </tr>\n",
              "    <tr>\n",
              "      <th>8</th>\n",
              "      <td>2</td>\n",
              "      <td>197</td>\n",
              "      <td>70</td>\n",
              "      <td>45</td>\n",
              "      <td>543</td>\n",
              "      <td>30.5</td>\n",
              "      <td>0.158</td>\n",
              "      <td>53</td>\n",
              "      <td>tested_positive</td>\n",
              "    </tr>\n",
              "    <tr>\n",
              "      <th>9</th>\n",
              "      <td>8</td>\n",
              "      <td>125</td>\n",
              "      <td>96</td>\n",
              "      <td>0</td>\n",
              "      <td>0</td>\n",
              "      <td>0.0</td>\n",
              "      <td>0.232</td>\n",
              "      <td>54</td>\n",
              "      <td>tested_positive</td>\n",
              "    </tr>\n",
              "  </tbody>\n",
              "</table>\n",
              "</div>"
            ],
            "text/plain": [
              "   preg  plas  pres  skin  insu  mass   pedi  age            class\n",
              "0     6   148    72    35     0  33.6  0.627   50  tested_positive\n",
              "1     1    85    66    29     0  26.6  0.351   31  tested_negative\n",
              "2     8   183    64     0     0  23.3  0.672   32  tested_positive\n",
              "3     1    89    66    23    94  28.1  0.167   21  tested_negative\n",
              "4     0   137    40    35   168  43.1  2.288   33  tested_positive\n",
              "5     5   116    74     0     0  25.6  0.201   30  tested_negative\n",
              "6     3    78    50    32    88  31.0  0.248   26  tested_positive\n",
              "7    10   115     0     0     0  35.3  0.134   29  tested_negative\n",
              "8     2   197    70    45   543  30.5  0.158   53  tested_positive\n",
              "9     8   125    96     0     0   0.0  0.232   54  tested_positive"
            ]
          },
          "metadata": {},
          "execution_count": 14
        }
      ]
    },
    {
      "cell_type": "markdown",
      "metadata": {
        "id": "rdknJJWurcTa"
      },
      "source": [
        "# **Datos**\n",
        "\n"
      ]
    },
    {
      "cell_type": "markdown",
      "metadata": {
        "id": "-V9oqKKxr0HZ"
      },
      "source": [
        "Las columnas que tenemos son:\n",
        "\n",
        "* 1. Número de embarazos\n",
        "* 2. Concentración de glucosa en plasma a 2 horas en una prueba de tolerancia a la glucosa oral\n",
        "* 3. Presión arterial diastólica (mm Hg)\n",
        "* 4. Espesor del pliegue cutáneo del tríceps (mm)\n",
        "* 5. Insulina sérica de 2 horas (mu U / ml)\n",
        "* 6. Índice de masa corporal (peso en kg / (altura en m) ^ 2)\n",
        "* 7. Función del pedigrí de la diabetes\n",
        "* 8. Edad (años)\n",
        "* 9. Variable de clase (0 o 1) de testeo negativo o testeo pesitivo\n",
        "\n",
        "\n",
        "**Algunos supuestos para el problema formulado:**\n",
        "\n",
        "No se tiene en consideración las nacionalidades de las personas, ni su sexo.\n",
        "\n",
        "Con esta información, queremos que el algoritmo aprenda y que como resultado podamos consultar nueva información y nos dé una decisión sobre si el testeo es positivo o negativo."
      ]
    },
    {
      "cell_type": "markdown",
      "metadata": {
        "id": "4TEWd6aGu_Uk"
      },
      "source": [
        "# **Teorema de Bayes**"
      ]
    },
    {
      "cell_type": "markdown",
      "metadata": {
        "id": "raDegcjcsvur"
      },
      "source": [
        "![teorema_bayes.png](data:image/png;base64,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)\n",
        "\n",
        "\n"
      ]
    },
    {
      "cell_type": "markdown",
      "metadata": {
        "id": "PkjUbv8ptI4M"
      },
      "source": [
        "**Clase** es una salida en particular, por ejemplo “comprar”\n",
        "\n",
        "**Datos** son nuestras características, en nuestro caso la glucosa, presión arterial, embarazos, etc\n",
        "\n",
        "**P(Clase|Datos)** se llama posterior (y es el resultado que queremos hallar)\n",
        "\n",
        "**P(Datos|Clase)** se llama “verosimilitud” (en inglés likelihood)\n",
        "\n",
        "**P(Clase)** se llama anterior (pues es una probabilidad que ya tenemos)\n",
        "\n",
        "**P(Datos)** se llama probabilidad marginal"
      ]
    },
    {
      "cell_type": "markdown",
      "metadata": {
        "id": "hMqUs2MTtWlD"
      },
      "source": [
        "Si estamos tratando de elegir entre dos clases como en nuestro caso “positivo” ó “negativo”, entonces una manera de tomar la decisión es calcular la tasa de probabilidades a posterior:\n",
        "\n",
        "![teorema_bayes03.png](data:image/png;base64,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)"
      ]
    },
    {
      "cell_type": "markdown",
      "metadata": {
        "id": "5IU0FWmxt7zJ"
      },
      "source": [
        "con esta maniobra, nos deshacemos del denominador de la ecuación anterior P(Datos) el llamado “probabilidad marginal”."
      ]
    },
    {
      "cell_type": "markdown",
      "metadata": {
        "id": "QRaZCSaSuFmJ"
      },
      "source": [
        "# **Clasificador Gaussian Naive Bayes**"
      ]
    },
    {
      "cell_type": "markdown",
      "metadata": {
        "id": "HheB9E6dvZnz"
      },
      "source": [
        "Uno de los tipos de clasificadores más populares es el llamado en inglés Gaussian Naive Bayes Classifier. NOTA:Hay otros clasificadores Bayesianos que no veremos en este artículo. Veamos cómo es su fórmula para comprender este curioso nombre: aplicaremos 2 clases (comprar, alquilar) y tres características: ingresos, ahorros e hijos.\n",
        "\n",
        "![bayes_posteriori.png](data:image/png;base64,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)"
      ]
    },
    {
      "cell_type": "markdown",
      "metadata": {
        "id": "kYSbEk7ivlra"
      },
      "source": [
        "Posterior de comprar es lo que queremos hallar:** P(positivo|datos).**"
      ]
    },
    {
      "cell_type": "markdown",
      "metadata": {
        "id": "3HHyHhUzv5qz"
      },
      "source": [
        "De esta forma:\n",
        "\n",
        "* **P(positivo)** es la probabilidad que ya tenemos. Es sencillamente el número de veces que se selecciona comprar =1 en nuestro conjunto de datos, dividido el total de observaciones. En nuestro caso (luego lo veremos en Python) son 67/202\n",
        "\n",
        "* **p(glucosa|positivo)p(negativo|positivo)p(insulina|positivo)** es la verosimilitud. Los nombres Gaussian y Naive (ingenuo) del algoritmo vienen de dos suposiciones:\n",
        "1. asumimos que las características de la verosimilitud no estan correlacionada entre ellas. Esto seria que la glucosa sean independientes a la insulina y al negativo. Como no es siempre cierto y es una suposición ingenua es que aparece en el nombre “naive bayes”\n",
        "2. asumimos que el valor de las características (glucosa, insulina, etc) tendrá una distribución normal (gaussiana). Esto nos permite calcular cada parte p(glucosa|positivo) usando la función de probabilidad de densidad normal.\n",
        "\n",
        "* **Probabilidad marginal** muchas veces es difícil de calcular, sin embargo, por la ecuación que vimos más arriba, no la necesitaremos para obtener nuestro valor a posterior. Esto simplifica los cálculos."
      ]
    },
    {
      "cell_type": "markdown",
      "metadata": {
        "id": "CD7TumYJwXbi"
      },
      "source": [
        "# **Visualización de Datos**"
      ]
    },
    {
      "cell_type": "markdown",
      "metadata": {
        "id": "tjFsnzqHw0qc"
      },
      "source": [
        "Veamos qué cantidad de muestras de positivo o negativo tenemos:"
      ]
    },
    {
      "cell_type": "code",
      "metadata": {
        "id": "C6qqqlHZyRRj",
        "colab": {
          "base_uri": "https://localhost:8080/"
        },
        "outputId": "bc428c4b-e171-4d5e-b1e2-bdcdea1e828f"
      },
      "source": [
        "print(df.groupby('class').size())"
      ],
      "execution_count": null,
      "outputs": [
        {
          "output_type": "stream",
          "name": "stdout",
          "text": [
            "class\n",
            "tested_negative    500\n",
            "tested_positive    268\n",
            "dtype: int64\n"
          ]
        }
      ]
    },
    {
      "cell_type": "markdown",
      "metadata": {
        "id": "xWXIXkZXyczD"
      },
      "source": [
        "Esto son 268 entradas en las que se sale positivo y 500 en las que no.\n",
        "\n",
        "Veamos un histograma"
      ]
    },
    {
      "cell_type": "code",
      "metadata": {
        "id": "xM0cDR9Zyg6z",
        "colab": {
          "base_uri": "https://localhost:8080/",
          "height": 452
        },
        "outputId": "a553fb78-0a49-46f1-db46-bfe2245ec95d"
      },
      "source": [
        "df.hist()"
      ],
      "execution_count": null,
      "outputs": [
        {
          "output_type": "execute_result",
          "data": {
            "text/plain": [
              "array([[<matplotlib.axes._subplots.AxesSubplot object at 0x7f5349752d10>,\n",
              "        <matplotlib.axes._subplots.AxesSubplot object at 0x7f53626752d0>,\n",
              "        <matplotlib.axes._subplots.AxesSubplot object at 0x7f534972ec50>],\n",
              "       [<matplotlib.axes._subplots.AxesSubplot object at 0x7f53496f2310>,\n",
              "        <matplotlib.axes._subplots.AxesSubplot object at 0x7f53496a3990>,\n",
              "        <matplotlib.axes._subplots.AxesSubplot object at 0x7f5349659fd0>],\n",
              "       [<matplotlib.axes._subplots.AxesSubplot object at 0x7f53497083d0>,\n",
              "        <matplotlib.axes._subplots.AxesSubplot object at 0x7f53495d40d0>,\n",
              "        <matplotlib.axes._subplots.AxesSubplot object at 0x7f53495d4110>]],\n",
              "      dtype=object)"
            ]
          },
          "metadata": {},
          "execution_count": 16
        },
        {
          "output_type": "display_data",
          "data": {
            "image/png": "[encoded data removed]",
            "text/plain": [
              "<Figure size 432x288 with 9 Axes>"
            ]
          },
          "metadata": {
            "needs_background": "light"
          }
        }
      ]
    },
    {
      "cell_type": "markdown",
      "metadata": {
        "id": "atiUqDGEy2Kb"
      },
      "source": [
        "Hagamos un histograma de las características quitando la columna de resultados (positivo):"
      ]
    },
    {
      "cell_type": "code",
      "metadata": {
        "id": "gQzUhgAFy3br",
        "colab": {
          "base_uri": "https://localhost:8080/",
          "height": 282
        },
        "outputId": "488261f9-07d8-45bf-a28e-06f114f939d8"
      },
      "source": [
        "df.drop(['class'], axis=1).hist()\n",
        "plt.show()"
      ],
      "execution_count": null,
      "outputs": [
        {
          "output_type": "display_data",
          "data": {
            "image/png": "[encoded data removed]",
            "text/plain": [
              "<Figure size 432x288 with 9 Axes>"
            ]
          },
          "metadata": {
            "needs_background": "light"
          }
        }
      ]
    },
    {
      "cell_type": "markdown",
      "metadata": {
        "id": "dkQfaJhZzBTv"
      },
      "source": [
        "¿ A grandes rasgos que distrribuciones de datos \"se parecen\" un poco a una distribución normal ?."
      ]
    },
    {
      "cell_type": "markdown",
      "metadata": {
        "id": "uTGWJZcLzxUa"
      },
      "source": [
        "# **Preparar los datos de entrada**"
      ]
    },
    {
      "cell_type": "markdown",
      "metadata": {
        "id": "t7_7MJOu4oH0"
      },
      "source": [
        "Y ahora veamos un resumen estadístico que nos brinda la librería Pandas con describe():"
      ]
    },
    {
      "cell_type": "code",
      "metadata": {
        "id": "Baun1PZo4pyG",
        "colab": {
          "base_uri": "https://localhost:8080/",
          "height": 297
        },
        "outputId": "63fe1add-186a-425d-9a8b-7ba1b9523adb"
      },
      "source": [
        "df.describe()"
      ],
      "execution_count": null,
      "outputs": [
        {
          "output_type": "execute_result",
          "data": {
            "text/html": [
              "<div>\n",
              "<style scoped>\n",
              "    .dataframe tbody tr th:only-of-type {\n",
              "        vertical-align: middle;\n",
              "    }\n",
              "\n",
              "    .dataframe tbody tr th {\n",
              "        vertical-align: top;\n",
              "    }\n",
              "\n",
              "    .dataframe thead th {\n",
              "        text-align: right;\n",
              "    }\n",
              "</style>\n",
              "<table border=\"1\" class=\"dataframe\">\n",
              "  <thead>\n",
              "    <tr style=\"text-align: right;\">\n",
              "      <th></th>\n",
              "      <th>preg</th>\n",
              "      <th>plas</th>\n",
              "      <th>pres</th>\n",
              "      <th>skin</th>\n",
              "      <th>insu</th>\n",
              "      <th>mass</th>\n",
              "      <th>pedi</th>\n",
              "      <th>age</th>\n",
              "    </tr>\n",
              "  </thead>\n",
              "  <tbody>\n",
              "    <tr>\n",
              "      <th>count</th>\n",
              "      <td>768.000000</td>\n",
              "      <td>768.000000</td>\n",
              "      <td>768.000000</td>\n",
              "      <td>768.000000</td>\n",
              "      <td>768.000000</td>\n",
              "      <td>768.000000</td>\n",
              "      <td>768.000000</td>\n",
              "      <td>768.000000</td>\n",
              "    </tr>\n",
              "    <tr>\n",
              "      <th>mean</th>\n",
              "      <td>3.845052</td>\n",
              "      <td>120.894531</td>\n",
              "      <td>69.105469</td>\n",
              "      <td>20.536458</td>\n",
              "      <td>79.799479</td>\n",
              "      <td>31.992578</td>\n",
              "      <td>0.471876</td>\n",
              "      <td>33.240885</td>\n",
              "    </tr>\n",
              "    <tr>\n",
              "      <th>std</th>\n",
              "      <td>3.369578</td>\n",
              "      <td>31.972618</td>\n",
              "      <td>19.355807</td>\n",
              "      <td>15.952218</td>\n",
              "      <td>115.244002</td>\n",
              "      <td>7.884160</td>\n",
              "      <td>0.331329</td>\n",
              "      <td>11.760232</td>\n",
              "    </tr>\n",
              "    <tr>\n",
              "      <th>min</th>\n",
              "      <td>0.000000</td>\n",
              "      <td>0.000000</td>\n",
              "      <td>0.000000</td>\n",
              "      <td>0.000000</td>\n",
              "      <td>0.000000</td>\n",
              "      <td>0.000000</td>\n",
              "      <td>0.078000</td>\n",
              "      <td>21.000000</td>\n",
              "    </tr>\n",
              "    <tr>\n",
              "      <th>25%</th>\n",
              "      <td>1.000000</td>\n",
              "      <td>99.000000</td>\n",
              "      <td>62.000000</td>\n",
              "      <td>0.000000</td>\n",
              "      <td>0.000000</td>\n",
              "      <td>27.300000</td>\n",
              "      <td>0.243750</td>\n",
              "      <td>24.000000</td>\n",
              "    </tr>\n",
              "    <tr>\n",
              "      <th>50%</th>\n",
              "      <td>3.000000</td>\n",
              "      <td>117.000000</td>\n",
              "      <td>72.000000</td>\n",
              "      <td>23.000000</td>\n",
              "      <td>30.500000</td>\n",
              "      <td>32.000000</td>\n",
              "      <td>0.372500</td>\n",
              "      <td>29.000000</td>\n",
              "    </tr>\n",
              "    <tr>\n",
              "      <th>75%</th>\n",
              "      <td>6.000000</td>\n",
              "      <td>140.250000</td>\n",
              "      <td>80.000000</td>\n",
              "      <td>32.000000</td>\n",
              "      <td>127.250000</td>\n",
              "      <td>36.600000</td>\n",
              "      <td>0.626250</td>\n",
              "      <td>41.000000</td>\n",
              "    </tr>\n",
              "    <tr>\n",
              "      <th>max</th>\n",
              "      <td>17.000000</td>\n",
              "      <td>199.000000</td>\n",
              "      <td>122.000000</td>\n",
              "      <td>99.000000</td>\n",
              "      <td>846.000000</td>\n",
              "      <td>67.100000</td>\n",
              "      <td>2.420000</td>\n",
              "      <td>81.000000</td>\n",
              "    </tr>\n",
              "  </tbody>\n",
              "</table>\n",
              "</div>"
            ],
            "text/plain": [
              "             preg        plas        pres  ...        mass        pedi         age\n",
              "count  768.000000  768.000000  768.000000  ...  768.000000  768.000000  768.000000\n",
              "mean     3.845052  120.894531   69.105469  ...   31.992578    0.471876   33.240885\n",
              "std      3.369578   31.972618   19.355807  ...    7.884160    0.331329   11.760232\n",
              "min      0.000000    0.000000    0.000000  ...    0.000000    0.078000   21.000000\n",
              "25%      1.000000   99.000000   62.000000  ...   27.300000    0.243750   24.000000\n",
              "50%      3.000000  117.000000   72.000000  ...   32.000000    0.372500   29.000000\n",
              "75%      6.000000  140.250000   80.000000  ...   36.600000    0.626250   41.000000\n",
              "max     17.000000  199.000000  122.000000  ...   67.100000    2.420000   81.000000\n",
              "\n",
              "[8 rows x 8 columns]"
            ]
          },
          "metadata": {},
          "execution_count": 18
        }
      ]
    },
    {
      "cell_type": "markdown",
      "metadata": {
        "id": "oqLSw2L-44Dj"
      },
      "source": [
        "# Feature Selection ó Selección de **Características**"
      ]
    },
    {
      "cell_type": "markdown",
      "metadata": {
        "id": "nKMOZQ0M48JD"
      },
      "source": [
        "En este ejercicio haremos Feature Selection para mejorar nuestros resultados con este algoritmo. En vez de utilizar las 9 columnas de datos de entrada que tenemos, vamos a utilizar una Clase de SkLearn llamada SelectKBest con la que seleccionaremos las 5 mejores características y usaremos sólo esas."
      ]
    },
    {
      "cell_type": "code",
      "metadata": {
        "id": "shQWLzMz5G2T",
        "colab": {
          "base_uri": "https://localhost:8080/"
        },
        "outputId": "0e78a643-324d-4579-c536-73402d6e2ebd"
      },
      "source": [
        "X=df.drop(['class'], axis=1)\n",
        "y=df['class']\n",
        "\n",
        "#Selección de las 5 mejores características\n",
        "best=SelectKBest(k=5)\n",
        "X_new = best.fit_transform(X, y)\n",
        "X_new.shape\n",
        "selected = best.get_support(indices=True)\n",
        "print(X.columns[selected])"
      ],
      "execution_count": null,
      "outputs": [
        {
          "output_type": "stream",
          "name": "stdout",
          "text": [
            "Index(['preg', 'plas', 'mass', 'pedi', 'age'], dtype='object')\n"
          ]
        }
      ]
    },
    {
      "cell_type": "markdown",
      "metadata": {
        "id": "IF6I52pr5X6t"
      },
      "source": [
        "Bien, entonces usaremos 5 de las 9 características que teníamos. Las que “más aportan” al momento de clasificar. Veamos qué grado de correlación tienen:"
      ]
    },
    {
      "cell_type": "code",
      "metadata": {
        "id": "_p_ZpcPS5fDD",
        "colab": {
          "base_uri": "https://localhost:8080/",
          "height": 704
        },
        "outputId": "970b9548-7c1d-4a40-f39a-82a2b18f76fc"
      },
      "source": [
        "used_features =X.columns[selected]\n",
        "\n",
        "colormap = plt.cm.viridis\n",
        "plt.figure(figsize=(12,12))\n",
        "plt.title('Pearson Correlation of Features', y=1.05, size=15)\n",
        "sb.heatmap(df[used_features].astype(float).corr(),linewidths=0.1,vmax=1.0, square=True, cmap=colormap, linecolor='white', annot=True)"
      ],
      "execution_count": null,
      "outputs": [
        {
          "output_type": "execute_result",
          "data": {
            "text/plain": [
              "<matplotlib.axes._subplots.AxesSubplot at 0x7f5348cadfd0>"
            ]
          },
          "metadata": {},
          "execution_count": 20
        },
        {
          "output_type": "display_data",
          "data": {
            "image/png": "[encoded data removed]",
            "text/plain": [
              "<Figure size 864x864 with 2 Axes>"
            ]
          },
          "metadata": {
            "needs_background": "light"
          }
        }
      ]
    },
    {
      "cell_type": "markdown",
      "metadata": {
        "id": "YMdOE3b05rzz"
      },
      "source": [
        "Con esto comprobamos que en general están poco correlacionadas, sin embargo también tenemos 2 valores de 0,54. Esperemos que el algoritmo sea lo suficientemente “naive” para dar buenos resultados.\n"
      ]
    },
    {
      "cell_type": "markdown",
      "metadata": {
        "id": "WblSg0fB6GIc"
      },
      "source": [
        "# **Crear el modelo Gaussian Naive Bayes con SKLearn**"
      ]
    },
    {
      "cell_type": "markdown",
      "metadata": {
        "id": "zu7bf1cF6Vd1"
      },
      "source": [
        "Primero vamos a dividir nuestros datos de entrada en entrenamiento y test."
      ]
    },
    {
      "cell_type": "code",
      "metadata": {
        "id": "Os9vLGWsXdDC"
      },
      "source": [
        "# Split dataset in training and test datasets\n",
        "X_train, X_test = train_test_split(df, test_size=0.2, random_state=6)\n",
        "y_train =X_train[\"class\"]\n",
        "y_test = X_test[\"class\"]"
      ],
      "execution_count": null,
      "outputs": []
    },
    {
      "cell_type": "markdown",
      "metadata": {
        "id": "oaOWkAEWX1er"
      },
      "source": [
        "Y creamos el modelo, lo ponemos a aprender con fit() y obtenemos predicciones sobre nuestro conjunto de test."
      ]
    },
    {
      "cell_type": "code",
      "metadata": {
        "id": "N8cRgVGTX3qI",
        "colab": {
          "base_uri": "https://localhost:8080/"
        },
        "outputId": "bb61a53e-58c5-477b-cc85-e5dcccf670d9"
      },
      "source": [
        "# Instantiate the classifier\n",
        "gnb = GaussianNB()\n",
        "# Train classifier\n",
        "gnb.fit(\n",
        "    X_train[used_features].values,\n",
        "    y_train\n",
        ")\n",
        "\n",
        "y_pred = gnb.predict(X_test[used_features])\n",
        "\n",
        "print('Precisión en el set de Entrenamiento: {:.2f}'\n",
        "     .format(gnb.score(X_train[used_features], y_train)))\n",
        "print('Precisión en el set de Test: {:.2f}'\n",
        "     .format(gnb.score(X_test[used_features], y_test)))"
      ],
      "execution_count": null,
      "outputs": [
        {
          "output_type": "stream",
          "name": "stdout",
          "text": [
            "Precisión en el set de Entrenamiento: 0.76\n",
            "Precisión en el set de Test: 0.79\n"
          ]
        }
      ]
    },
    {
      "cell_type": "markdown",
      "metadata": {
        "id": "oNpzdJLgYD1K"
      },
      "source": [
        "Pues hemos obtenido un bonito 79% de aciertos en el conjunto de Test con nuestro querido clasificador bayesiano."
      ]
    },
    {
      "cell_type": "markdown",
      "metadata": {
        "id": "-4bRooPcYGWj"
      },
      "source": [
        "# **Probemos el modelo: ¿positivo o negativo?**"
      ]
    },
    {
      "cell_type": "markdown",
      "metadata": {
        "id": "zOYXXxKbYW7g"
      },
      "source": [
        "Ahora, hagamos 2 predicciones para probar nuestra máquina:"
      ]
    },
    {
      "cell_type": "markdown",
      "metadata": {
        "id": "izCtAK72YYSk"
      },
      "source": [
        "* En un caso será una persona de 30 años, con un nivel de glucosa de 80, masa corporal de 60.4 kg, y un pedigrí de 0.225\n",
        "\n",
        "* El otro será una persona de 80, con un nivel de glucosa de 140, masa corporal de 80.6 kg, y un pedigrí de 0.335\n",
        "\n",
        "* En ambos casos no se presentan embarazo"
      ]
    },
    {
      "cell_type": "code",
      "metadata": {
        "colab": {
          "base_uri": "https://localhost:8080/"
        },
        "id": "3-nC6YsAYWsR",
        "outputId": "fcfa220f-4953-450a-c71b-bd0c4bed8c5a"
      },
      "source": [
        "print(gnb.predict([[0,        80,     60.4,       0.225,         30],\n",
        "                   [0,        140,    80.6,       0.335,         80] ]))\n",
        "#Resultado esperado negativo, porsitivo"
      ],
      "execution_count": null,
      "outputs": [
        {
          "output_type": "stream",
          "name": "stdout",
          "text": [
            "['tested_negative' 'tested_positive']\n"
          ]
        }
      ]
    },
    {
      "cell_type": "code",
      "metadata": {
        "colab": {
          "base_uri": "https://localhost:8080/"
        },
        "id": "pOuCtCryYuqk",
        "outputId": "69bed329-3783-417b-bb0f-dba2d8e26ac2"
      },
      "source": [
        "print(gnb.predict([[0, 80, 60.4, 0.225, 30],]))"
      ],
      "execution_count": null,
      "outputs": [
        {
          "output_type": "stream",
          "name": "stdout",
          "text": [
            "['tested_negative']\n"
          ]
        }
      ]
    },
    {
      "cell_type": "markdown",
      "metadata": {
        "id": "Wuseh4fwZjeP"
      },
      "source": [
        "Index(['preg', 'plas', 'mass', 'pedi', 'age'], dtype='object')\n",
        "\n",
        "Un caso será una persona de 50 años, con un nivel de glucosa de 120, indice de masa corporal de 65.3, pedigri de 0.123, y no presenta embarazo\n"
      ]
    },
    {
      "cell_type": "code",
      "metadata": {
        "id": "SWgrHiyeZDo9",
        "colab": {
          "base_uri": "https://localhost:8080/"
        },
        "outputId": "2fdf91b3-9716-4987-c08b-a8f0e74141d3"
      },
      "source": [
        "Embarazo=float(input(\"Indique su embarazo: \"))\n",
        "Glucosa=float(input(\"Indique nivel de glucosa: \"))\n",
        "Masa=float(input(\"Indique su masa corporal: \"))\n",
        "Pedigri=float(input(\"Indique la funcion pedigri: \"))\n",
        "Edad=float(input(\"Indique su edad: \"))\n",
        "\n",
        "resultado = gnb.predict([[Embarazo,        Glucosa,     Masa,       Pedigri,         Edad]])\n",
        "\n",
        "print(\"---------------\")\n",
        "\n",
        "if (resultado[0]==0):\n",
        "  print(\"Usted saldria negativo para diabetes\")\n",
        "else:\n",
        "  print(\"Usted saldria negativo para diabetes\")"
      ],
      "execution_count": null,
      "outputs": [
        {
          "output_type": "stream",
          "name": "stdout",
          "text": [
            "Indique su embarazo: 0\n",
            "Indique nivel de glucosa: 120\n",
            "Indique su masa corporal: 65.3\n",
            "Indique la funcion pedigri: 0.123\n",
            "Indique su edad: 50\n",
            "---------------\n",
            "Usted saldria negativo para diabetes\n"
          ]
        }
      ]
    }
  ]
}