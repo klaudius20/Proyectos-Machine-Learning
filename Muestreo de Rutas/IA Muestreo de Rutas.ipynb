{
  "nbformat": 4,
  "nbformat_minor": 0,
  "metadata": {
    "colab": {
      "provenance": []
    },
    "kernelspec": {
      "name": "python3",
      "display_name": "Python 3"
    },
    "language_info": {
      "name": "python"
    }
  },
  "cells": [
    {
      "cell_type": "markdown",
      "metadata": {
        "id": "myh7LS1YGjaY"
      },
      "source": [
        "#**Pregunta 1, Claudio Vergara, IA para negocios, UACH, Luis Vidal, 2023**\n",
        "\n",
        "#**CASO DE MAMMATERRA**\n",
        "\"MAMMATERRA\" es un local de comida rapida saludable que tiene un servicio de reparto a domicilio en una poblacion determinada, para ello se requiere de un muestreo de rutas que permita un reparto mas rapido a los domicilios.\n",
        "\n",
        "\n",
        "\n",
        "\n"
      ]
    },
    {
      "cell_type": "markdown",
      "metadata": {
        "id": "SPQsz4d5BZc-"
      },
      "source": [
        "# **Carga de librerías:**\n",
        "\n",
        "Primero cargamos la librería numpy"
      ]
    },
    {
      "cell_type": "code",
      "metadata": {
        "id": "J4DP9_P2BMVA"
      },
      "source": [
        "# Se guarda como np para usarla más adelante (np.)\n",
        "import numpy as np"
      ],
      "execution_count": null,
      "outputs": []
    },
    {
      "cell_type": "markdown",
      "metadata": {
        "id": "w5X37DQCCjBj"
      },
      "source": [
        "#**Parámetros**\n",
        "\n",
        "Ahora crearemos los parámetros alpha y gamma, que corresponden a la tasa de aprendizaje y al factor de descuento (respectivamente)\n",
        "\n"
      ]
    },
    {
      "cell_type": "code",
      "metadata": {
        "id": "34ebul3BClMv"
      },
      "source": [
        "#Se utilizan estos valores para alpha y gamma porque han demostrado llegar a buenos resultados\n",
        "gamma= 0.75\n",
        "alpha= 0.9"
      ],
      "execution_count": null,
      "outputs": []
    },
    {
      "cell_type": "markdown",
      "metadata": {
        "id": "0xYGznNuDP5z"
      },
      "source": [
        "# **PASO 1. Definir el entorno**\n"
      ]
    },
    {
      "cell_type": "markdown",
      "metadata": {
        "id": "_8qJ0oO0DiEb"
      },
      "source": [
        "![b6b28421ae0f47f541b2ad07319d122c.png](data:image/png;base64,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)"
      ]
    },
    {
      "cell_type": "code",
      "metadata": {
        "id": "sS771CcAE1q3"
      },
      "source": [
        "#Estados\n",
        "location_to_state = {'X1' : 0,\n",
        "                     'X2' : 1,\n",
        "                     'X3' : 2,\n",
        "                     'X4' : 3,\n",
        "                     'X5' : 4,\n",
        "                     'X6' : 5,\n",
        "                     'X7' : 6,\n",
        "                     'X8' : 7,\n",
        "                     'X9' : 8,\n",
        "                     'X10': 9,\n",
        "                     'X11' : 10,\n",
        "                     'X12' : 11,\n",
        "                     'X13' : 12,\n",
        "                     'X14' : 13,\n",
        "                     'X15' : 14,\n",
        "                     'X16' : 15,\n",
        "                     'X17' : 16,\n",
        "                     'X18' : 17,\n",
        "                     'X19' : 18,\n",
        "                     'X20': 19,\n",
        "                     'X21' : 20,\n",
        "                     'X22' : 21,\n",
        "                     'X23' : 22,\n",
        "                     'X24' : 23,\n",
        "                     'X25' : 24,\n",
        "                     'X26' : 25,\n",
        "                     'X27' : 26,\n",
        "                     'X28' : 27,\n",
        "                     'X29' : 28,\n",
        "                     'X30' : 29,\n",
        "                     }"
      ],
      "execution_count": null,
      "outputs": []
    },
    {
      "cell_type": "code",
      "metadata": {
        "id": "yBqOuf1qIVIf"
      },
      "source": [
        "#Acciones\n",
        "actions = [0,1,2,3,4,5,6,7,8,9,10,11,12,13,14,15,16,17,18,19,20,21,22,23,24,25,26,27,28,29]"
      ],
      "execution_count": null,
      "outputs": []
    },
    {
      "cell_type": "markdown",
      "metadata": {
        "id": "DWUjA3edJBHT"
      },
      "source": [
        "Ahora se crea la matríz de recompensas\n",
        "![80a50077094cda6fc61afec1303007e0.png](data:image/png;base64,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)"
      ]
    },
    {
      "cell_type": "code",
      "metadata": {
        "id": "GMzp3fVzJvyW"
      },
      "source": [
        "#Recompensas\n",
        "R= np.array([[0,1,0,0,0,0,0,0,0,0,0,0,0,0,0,0,0,0,0,0,0,0,0,0,0,0,0,0,0,0],  #X1\n",
        "[1,0,1,0,0,0,0,0,0,0,0,0,0,0,0,0,0,0,0,0,0,0,0,0,0,0,0,0,0,0],               #X2\n",
        "[0,1,0,1,0,0,0,0,0,0,0,0,0,0,0,0,0,0,0,0,0,0,0,0,0,0,0,0,0,0],               #X3\n",
        "[0,0,1,0,0,0,0,0,0,1,0,0,0,0,0,0,0,0,0,0,0,0,0,0,0,0,0,0,0,0],               #X4\n",
        "[0,0,0,0,0,0,0,0,0,0,1,0,0,0,0,0,0,0,0,0,0,0,0,0,0,0,0,0,0,0],               #X5\n",
        "[0,0,0,0,0,0,0,0,0,0,0,1,0,0,0,0,0,0,0,0,0,0,0,0,0,0,0,0,0,0],               #X6\n",
        "[0,0,0,0,0,0,0,1,0,0,0,0,1,0,0,0,0,0,0,0,0,0,0,0,0,0,0,0,0,0],               #X7\n",
        "[0,0,0,0,0,0,0,0,1,0,0,0,0,1,0,0,0,0,0,0,0,0,0,0,0,0,0,0,0,0],               #X8\n",
        "[0,0,0,0,0,0,0,1,0,1,0,0,0,0,0,0,0,0,0,0,0,0,0,0,0,0,0,0,0,0],               #X9\n",
        "[0,0,0,1,0,0,0,0,0,0,0,0,0,0,0,1,0,0,0,0,0,0,0,0,0,0,0,0,0,0],               #X10\n",
        "[0,0,0,0,1,0,0,0,0,0,0,0,0,0,0,0,1,0,0,0,0,0,0,0,0,0,0,0,0,0],               #X11\n",
        "[0,0,0,0,0,1,0,0,0,0,0,0,0,0,0,0,0,1,0,0,0,0,0,0,0,0,0,0,0,0],               #X12\n",
        "[0,0,0,0,0,0,1,0,0,0,0,0,0,0,0,0,0,0,1,0,0,0,0,0,0,0,0,0,0,0],              #X13\n",
        "[0,0,0,0,0,0,0,1,0,0,0,0,0,0,0,0,0,0,0,1,0,0,0,0,0,0,0,0,0,0],               #X14\n",
        "[0,0,0,0,0,0,0,0,0,0,0,0,0,0,0,1,0,0,0,0,1,0,0,0,0,0,0,0,0,0],               #X15\n",
        "[0,0,0,0,0,0,0,0,0,1,0,0,0,0,1,0,1,0,0,0,0,0,0,0,0,0,0,0,0,0],               #X16\n",
        "[0,0,0,0,0,0,0,0,0,0,1,0,0,0,0,1,0,1,0,0,0,0,0,0,0,0,0,0,0,0],               #X17\n",
        "[0,0,0,0,0,0,0,0,0,0,0,1,0,0,0,0,1,0,0,0,0,0,0,0,0,0,0,0,0,0],               #X18\n",
        "[0,0,0,0,0,0,0,0,0,0,0,0,1,0,0,0,0,0,0,0,0,0,0,0,1,0,0,0,0,0],               #X19\n",
        "[0,0,0,0,0,0,0,0,0,0,0,0,0,1,0,0,0,0,0,0,0,0,0,0,0,1,0,0,0,0],               #X20\n",
        "[0,0,0,0,0,0,0,0,0,0,0,0,0,0,1,0,0,0,0,0,0,1,0,0,0,0,1,0,0,0],               #X21\n",
        "[0,0,0,0,0,0,0,0,0,0,0,0,0,0,0,0,0,0,0,0,1,0,1,0,0,0,0,0,0,0],               #X22\n",
        "[0,0,0,0,0,0,0,0,0,0,0,0,0,0,0,0,0,0,0,0,0,1,0,1,0,0,0,0,1,0],               #X23\n",
        "[0,0,0,0,0,0,0,0,0,0,0,0,0,0,0,0,0,0,0,0,0,0,1,0,0,0,0,0,0,1],               #X24\n",
        "[0,0,0,0,0,0,0,0,0,0,0,0,0,0,0,0,0,0,1,0,0,0,0,0,0,0,0,0,0,0],               #X25\n",
        "[0,0,0,0,0,0,0,0,0,0,0,0,0,0,0,0,0,0,0,1,0,0,0,0,0,0,1,0,0,0],               #X26\n",
        "[0,0,0,0,0,0,0,0,0,0,0,0,0,0,0,0,0,0,0,0,1,0,0,0,0,1,0,1,0,0],               #X27\n",
        "[0,0,0,0,0,0,0,0,0,0,0,0,0,0,0,0,0,0,0,0,0,0,0,0,0,0,1,0,0,0],               #X28\n",
        "[0,0,0,0,0,0,0,0,0,0,0,0,0,0,0,0,0,0,0,0,0,0,1,0,0,0,0,0,0,0],               #X29\n",
        "[0,0,0,0,0,0,0,0,0,0,0,0,0,0,0,0,0,0,0,0,0,0,0,1,0,0,0,0,0,0]])             #X30"
      ],
      "execution_count": null,
      "outputs": []
    },
    {
      "cell_type": "code",
      "metadata": {
        "colab": {
          "base_uri": "https://localhost:8080/"
        },
        "id": "5ZlKLRoxOBf3",
        "outputId": "624f7970-9a16-47f3-c135-a6ab42272c52"
      },
      "source": [
        "print(R)\n"
      ],
      "execution_count": null,
      "outputs": [
        {
          "output_type": "stream",
          "name": "stdout",
          "text": [
            "[[0 1 0 0 0 0 0 0 0 0 0 0 0 0 0 0 0 0 0 0 0 0 0 0 0 0 0 0 0 0]\n",
            " [1 0 1 0 0 0 0 0 0 0 0 0 0 0 0 0 0 0 0 0 0 0 0 0 0 0 0 0 0 0]\n",
            " [0 1 0 1 0 0 0 0 0 0 0 0 0 0 0 0 0 0 0 0 0 0 0 0 0 0 0 0 0 0]\n",
            " [0 0 1 0 0 0 0 0 0 1 0 0 0 0 0 0 0 0 0 0 0 0 0 0 0 0 0 0 0 0]\n",
            " [0 0 0 0 0 0 0 0 0 0 1 0 0 0 0 0 0 0 0 0 0 0 0 0 0 0 0 0 0 0]\n",
            " [0 0 0 0 0 0 0 0 0 0 0 1 0 0 0 0 0 0 0 0 0 0 0 0 0 0 0 0 0 0]\n",
            " [0 0 0 0 0 0 0 1 0 0 0 0 1 0 0 0 0 0 0 0 0 0 0 0 0 0 0 0 0 0]\n",
            " [0 0 0 0 0 0 0 0 1 0 0 0 0 1 0 0 0 0 0 0 0 0 0 0 0 0 0 0 0 0]\n",
            " [0 0 0 0 0 0 0 1 0 1 0 0 0 0 0 0 0 0 0 0 0 0 0 0 0 0 0 0 0 0]\n",
            " [0 0 0 1 0 0 0 0 0 0 0 0 0 0 0 1 0 0 0 0 0 0 0 0 0 0 0 0 0 0]\n",
            " [0 0 0 0 1 0 0 0 0 0 0 0 0 0 0 0 1 0 0 0 0 0 0 0 0 0 0 0 0 0]\n",
            " [0 0 0 0 0 1 0 0 0 0 0 0 0 0 0 0 0 1 0 0 0 0 0 0 0 0 0 0 0 0]\n",
            " [0 0 0 0 0 0 1 0 0 0 0 0 0 0 0 0 0 0 1 0 0 0 0 0 0 0 0 0 0 0]\n",
            " [0 0 0 0 0 0 0 1 0 0 0 0 0 0 0 0 0 0 0 1 0 0 0 0 0 0 0 0 0 0]\n",
            " [0 0 0 0 0 0 0 0 0 0 0 0 0 0 0 1 0 0 0 0 1 0 0 0 0 0 0 0 0 0]\n",
            " [0 0 0 0 0 0 0 0 0 1 0 0 0 0 1 0 1 0 0 0 0 0 0 0 0 0 0 0 0 0]\n",
            " [0 0 0 0 0 0 0 0 0 0 1 0 0 0 0 1 0 1 0 0 0 0 0 0 0 0 0 0 0 0]\n",
            " [0 0 0 0 0 0 0 0 0 0 0 1 0 0 0 0 1 0 0 0 0 0 0 0 0 0 0 0 0 0]\n",
            " [0 0 0 0 0 0 0 0 0 0 0 0 1 0 0 0 0 0 0 0 0 0 0 0 1 0 0 0 0 0]\n",
            " [0 0 0 0 0 0 0 0 0 0 0 0 0 1 0 0 0 0 0 0 0 0 0 0 0 1 0 0 0 0]\n",
            " [0 0 0 0 0 0 0 0 0 0 0 0 0 0 1 0 0 0 0 0 0 1 0 0 0 0 1 0 0 0]\n",
            " [0 0 0 0 0 0 0 0 0 0 0 0 0 0 0 0 0 0 0 0 1 0 1 0 0 0 0 0 0 0]\n",
            " [0 0 0 0 0 0 0 0 0 0 0 0 0 0 0 0 0 0 0 0 0 1 0 1 0 0 0 0 1 0]\n",
            " [0 0 0 0 0 0 0 0 0 0 0 0 0 0 0 0 0 0 0 0 0 0 1 0 0 0 0 0 0 1]\n",
            " [0 0 0 0 0 0 0 0 0 0 0 0 0 0 0 0 0 0 1 0 0 0 0 0 0 0 0 0 0 0]\n",
            " [0 0 0 0 0 0 0 0 0 0 0 0 0 0 0 0 0 0 0 1 0 0 0 0 0 0 1 0 0 0]\n",
            " [0 0 0 0 0 0 0 0 0 0 0 0 0 0 0 0 0 0 0 0 1 0 0 0 0 1 0 1 0 0]\n",
            " [0 0 0 0 0 0 0 0 0 0 0 0 0 0 0 0 0 0 0 0 0 0 0 0 0 0 1 0 0 0]\n",
            " [0 0 0 0 0 0 0 0 0 0 0 0 0 0 0 0 0 0 0 0 0 0 1 0 0 0 0 0 0 0]\n",
            " [0 0 0 0 0 0 0 0 0 0 0 0 0 0 0 0 0 0 0 0 0 0 0 1 0 0 0 0 0 0]]\n"
          ]
        }
      ]
    },
    {
      "cell_type": "markdown",
      "metadata": {
        "id": "rYpAMwfZPylW"
      },
      "source": [
        "#**PASO 2. Implementación de Q-Learning**"
      ]
    },
    {
      "cell_type": "code",
      "metadata": {
        "id": "qDkvFwMDQb1k"
      },
      "source": [
        "#Se implementa una función mapping\n",
        "state_to_location = {state: location for location, state in location_to_state.items()}\n",
        "#Descomente para ver que hace esta función mapping\n",
        "#print (state_to_location)"
      ],
      "execution_count": null,
      "outputs": []
    },
    {
      "cell_type": "code",
      "metadata": {
        "id": "2BeNr2qJQhqb"
      },
      "source": [
        "#Función que devuelve el camino más corto desde la ubicación inicial a la final\n",
        "def route(starting_location, ending_location):\n",
        "  R_new = np.copy(R)\n",
        "  ending_state = location_to_state[ending_location]\n",
        "  R_new[ending_state, ending_state] = 1000    # se realiza una copia de la matriz R y se asigna la recompensa en la ubicación final V=1000\n",
        "  Q = np.array(np.zeros([ 30, 30]))           # se inicializa en este punto\n",
        "  for i in range(1000):                       # se incluye toda la lógica del algoritmo de Q-learning en route\n",
        "    current_state = np.random.randint(0, 30)\n",
        "    playable_actions = []\n",
        "    for j in range(30):\n",
        "      if R_new[current_state, j] > 0:\n",
        "        playable_actions.append(j)\n",
        "    next_state = np.random.choice(playable_actions)\n",
        "    TD = R_new[current_state, next_state]+ gamma * Q[next_state, np.argmax(Q[next_state,])]- Q[current_state, next_state]\n",
        "    Q[current_state, next_state] = Q[current_state, next_state] + alpha * TD\n",
        "  route = [starting_location]\n",
        "  next_location = starting_location\n",
        "  while (next_location != ending_location):\n",
        "    starting_state = location_to_state[starting_location]\n",
        "    next_state = np.argmax(Q[starting_state,])\n",
        "    next_location = state_to_location[next_state]\n",
        "    route.append(next_location)\n",
        "    starting_location = next_location\n",
        "  return route"
      ],
      "execution_count": null,
      "outputs": []
    },
    {
      "cell_type": "markdown",
      "metadata": {
        "id": "oMYasuP3Q4YH"
      },
      "source": [
        "#**PASO 3. Sistema en la distribución de productos**"
      ]
    },
    {
      "cell_type": "code",
      "metadata": {
        "colab": {
          "base_uri": "https://localhost:8080/"
        },
        "id": "7UZ_PVnaRHFh",
        "outputId": "d3f8294b-ff80-4ed3-bb05-8f1836e1bb23"
      },
      "source": [
        "# Imprimir la ruta final, ahora, el sistema permite llegar desde un punto de distribución a otro\n",
        "print('Ruta Propuesta por la I.A.:' )\n",
        "\n",
        "# Ingreso Interactivo de la forma \"X2\"\n",
        "A=input(\"Ingrese estado de Inicio: \")\n",
        "B=input(\"Ingrese estado Final: \")\n",
        "\n",
        "print(\" \")\n",
        "print(\"Ruta:\")\n",
        "route(A , B )"
      ],
      "execution_count": null,
      "outputs": [
        {
          "output_type": "stream",
          "name": "stdout",
          "text": [
            "Ruta Propuesta por la I.A.:\n",
            "Ingrese estado de Inicio: X1\n",
            "Ingrese estado Final: X28\n",
            " \n",
            "Ruta:\n"
          ]
        },
        {
          "output_type": "execute_result",
          "data": {
            "text/plain": [
              "['X1', 'X2', 'X3', 'X4', 'X10', 'X16', 'X15', 'X21', 'X27', 'X28']"
            ]
          },
          "metadata": {},
          "execution_count": 11
        }
      ]
    }
  ]
}